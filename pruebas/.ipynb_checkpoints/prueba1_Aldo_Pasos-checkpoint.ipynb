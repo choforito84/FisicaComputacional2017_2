{
 "cells": [
  {
   "cell_type": "markdown",
   "metadata": {},
   "source": [
    "# Prueba 1: 14 de febrero del 2017\n",
    "\n",
    "En esta prueba, **no está permitido** usar los bucles `for`. Puedes utilizar comprensiones de arreglo y rangos.\n",
    "\n"
   ]
  },
  {
   "cell_type": "markdown",
   "metadata": {},
   "source": [
    "1. Define una variable `x` que es la suma de $3$ y $4.5$.\n",
    "\n",
    "    1. ¿Cómo puedes verificar el valor de `x`?\n",
    "    \n",
    "    2. ¿De qué tipo es `x`? \n",
    "    \n",
    "    3. Define `y` como el producto de $3$ y $4.5$ expresado como número racional.\n",
    "    \n",
    "    4. ¿De qué tipo es `y`?\n",
    "    \n",
    "    5. ¿Qué ocurre si restas `x` y `y`?\n",
    "        \n",
    "2. Calcula la suma de los números impares entre 1 y 100 usando un rango, en una sola línea de código.\n",
    "    \n",
    "3. Factoriales:\n",
    "\n",
    "    1. Escribe una función `mi_factorial` que toma un argumento `n`, el cual puedes suponer sea un entero positivo, y calcula el factorial de `n`. Puedes utilizar la función `prod` para calcular el producto.\n",
    "    \n",
    "    2. Define un arreglo que contiene los factoriales de los números de 1 a 20.\n",
    "    \n",
    "    3. ¿Qué ocurre si intentas llegar a 30?\n",
    "    \n",
    "    4. ¿Cómo puedes resolver este problema? Da una lista de los factoriales de 1 a 30. \n",
    "\n",
    "4. Define una función $f(x) = x^4 - 3x + 4$. Define un objeto `xx` que contiene los valores de `x` entre $-2$ y $2$, con un paso razonable. Evalúa $f(x)$ para todos los $x$ en `xx` y grafica el resultado."
   ]
  },
  {
   "cell_type": "code",
   "execution_count": 6,
   "metadata": {
    "collapsed": false
   },
   "outputs": [
    {
     "name": "stdout",
     "output_type": "stream",
     "text": [
      "x es de tipo \"Float64\"\n",
      "y es de tipo \"Rational{Int64}\"\n",
      "-6.0\n",
      "Float64\n"
     ]
    }
   ],
   "source": [
    "#[1.]\n",
    "##[A]\n",
    "x=3+4.5\n",
    "##[B]\n",
    "println(\"x es de tipo \\\"$(typeof(x))\\\"\")\n",
    "##[C]\n",
    "y=3*(9//2)\n",
    "##[D]\n",
    "println(\"y es de tipo \\\"$(typeof(y))\\\"\")\n",
    "##[E]\n",
    "println(x-y)\n",
    "println(typeof(x-y))"
   ]
  },
  {
   "cell_type": "markdown",
   "metadata": {},
   "source": [
    "### 1. E.\n",
    "\n",
    "Al calcular e imprimir $x-y$, esta variable es de tipo `Float64`"
   ]
  },
  {
   "cell_type": "code",
   "execution_count": 7,
   "metadata": {
    "collapsed": false
   },
   "outputs": [
    {
     "name": "stdout",
     "output_type": "stream",
     "text": [
      "2500"
     ]
    }
   ],
   "source": [
    "#[2.]\n",
    "println(sum([x for x in 1:100 if x%2==1]))"
   ]
  },
  {
   "cell_type": "code",
   "execution_count": 8,
   "metadata": {
    "collapsed": false
   },
   "outputs": [
    {
     "name": "stdout",
     "output_type": "stream",
     "text": [
      "[1,2,6,24,120,720,5040,40320,362880,3628800,39916800,479001600,6227020800,87178291200,1307674368000,20922789888000,355687428096000,6402373705728000,121645100408832000,2432902008176640000]\n",
      "\n",
      "\n"
     ]
    },
    {
     "name": "stderr",
     "output_type": "stream",
     "text": [
      "WARNING: Method definition mi_factorial(Any) in module Main at In[3]:4 overwritten at In[8]:4.\n"
     ]
    },
    {
     "data": {
      "text/plain": [
       "30-element Array{Int64,1}:\n",
       "                    1\n",
       "                    2\n",
       "                    6\n",
       "                   24\n",
       "                  120\n",
       "                  720\n",
       "                 5040\n",
       "                40320\n",
       "               362880\n",
       "              3628800\n",
       "             39916800\n",
       "            479001600\n",
       "           6227020800\n",
       "                    ⋮\n",
       "   121645100408832000\n",
       "  2432902008176640000\n",
       " -4249290049419214848\n",
       " -1250660718674968576\n",
       "  8128291617894825984\n",
       " -7835185981329244160\n",
       "  7034535277573963776\n",
       " -1569523520172457984\n",
       " -5483646897237262336\n",
       " -5968160532966932480\n",
       " -7055958792655077376\n",
       " -8764578968847253504"
      ]
     },
     "execution_count": 8,
     "metadata": {},
     "output_type": "execute_result"
    }
   ],
   "source": [
    "#[3.]\n",
    "##[A]\n",
    "function mi_factorial(n)\n",
    "    if n<0\n",
    "        error(\"$n no es un entero positivo\")\n",
    "    elseif n==0\n",
    "        return 0\n",
    "    else \n",
    "        return prod(1:n)\n",
    "    end\n",
    "end\n",
    "##[B]\n",
    "A=[mi_factorial(x) for x in 1:20]\n",
    "println(A)\n",
    "println(\"\\n\")\n",
    "##[C]\n",
    "A=[mi_factorial(x) for x in 1:30]\n",
    "A"
   ]
  },
  {
   "cell_type": "markdown",
   "metadata": {},
   "source": [
    "### 3. C.\n",
    "\n",
    "Podemos ver que cuando intentamos calcular $n!$ para $n \\geq 20$, la función nos regresa valores negativos, lo cual implica que hay problema en el cálculo relacionado con el tamaño de $n!$. \n",
    "\n",
    "### 3. D.\n",
    "\n",
    "Podemos utilizar la función `big` para asignar más memoria a $n$ y así obtener el número necesario."
   ]
  },
  {
   "cell_type": "code",
   "execution_count": 9,
   "metadata": {
    "collapsed": false
   },
   "outputs": [
    {
     "data": {
      "text/plain": [
       "30-element Array{BigInt,1}:\n",
       "                                 1\n",
       "                                 2\n",
       "                                 6\n",
       "                                24\n",
       "                               120\n",
       "                               720\n",
       "                              5040\n",
       "                             40320\n",
       "                            362880\n",
       "                           3628800\n",
       "                          39916800\n",
       "                         479001600\n",
       "                        6227020800\n",
       "                                 ⋮\n",
       "                121645100408832000\n",
       "               2432902008176640000\n",
       "              51090942171709440000\n",
       "            1124000727777607680000\n",
       "           25852016738884976640000\n",
       "          620448401733239439360000\n",
       "        15511210043330985984000000\n",
       "       403291461126605635584000000\n",
       "     10888869450418352160768000000\n",
       "    304888344611713860501504000000\n",
       "   8841761993739701954543616000000\n",
       " 265252859812191058636308480000000"
      ]
     },
     "execution_count": 9,
     "metadata": {},
     "output_type": "execute_result"
    }
   ],
   "source": [
    "A=[mi_factorial(big(x)) for x in 1:30]\n",
    "A"
   ]
  },
  {
   "cell_type": "code",
   "execution_count": 10,
   "metadata": {
    "collapsed": false
   },
   "outputs": [
    {
     "name": "stderr",
     "output_type": "stream",
     "text": [
      "WARNING: Method definition f(Any"
     ]
    },
    {
     "data": {
      "text/html": [
       "<?xml version=\"1.0\" encoding=\"utf-8\"?>\n",
       "<svg xmlns=\"http://www.w3.org/2000/svg\" xmlns:xlink=\"http://www.w3.org/1999/xlink\" width=\"600\" height=\"400\" viewBox=\"0 0 600 400\">\n",
       "<defs>\n",
       "  <clipPath id=\"clip00\">\n",
       "    <rect x=\"0\" y=\"0\" width=\"600\" height=\"400\"/>\n",
       "  </clipPath>\n",
       "</defs>\n",
       "<polygon clip-path=\"url(#clip00)\" points=\"\n",
       "0,400 600,400 600,0 0,0 \n",
       "  \" fill=\"#ffffff\" fill-opacity=\"1\"/>\n",
       "<defs>\n",
       "  <clipPath id=\"clip01\">\n",
       "    <rect x=\"120\" y=\"0\" width=\"421\" height=\"400\"/>\n",
       "  </clipPath>\n",
       "</defs>\n",
       "<polygon clip-path=\"url(#clip00)\" points=\"\n",
       "36.9926,369.674 596.063,369.674 596.063,23.3815 36.9926,23.3815 \n",
       "  \" fill=\"#ffffff\" fill-opacity=\"1\"/>\n",
       "<defs>\n",
       "  <clipPath id=\"clip02\">\n",
       "    <rect x=\"36\" y=\"23\" width=\"560\" height=\"347\"/>\n",
       "  </clipPath>\n",
       "</defs>\n",
       "<polyline clip-path=\"url(#clip02)\" style=\"stroke:#00002d; stroke-width:0.8; stroke-opacity:0.5; fill:none\" stroke-dasharray=\"1, 2\" points=\"\n",
       "  36.9926,364.48 36.9926,28.5758 \n",
       "  \"/>\n",
       "<polyline clip-path=\"url(#clip02)\" style=\"stroke:#00002d; stroke-width:0.8; stroke-opacity:0.5; fill:none\" stroke-dasharray=\"1, 2\" points=\"\n",
       "  176.76,364.48 176.76,28.5758 \n",
       "  \"/>\n",
       "<polyline clip-path=\"url(#clip02)\" style=\"stroke:#00002d; stroke-width:0.8; stroke-opacity:0.5; fill:none\" stroke-dasharray=\"1, 2\" points=\"\n",
       "  316.528,364.48 316.528,28.5758 \n",
       "  \"/>\n",
       "<polyline clip-path=\"url(#clip02)\" style=\"stroke:#00002d; stroke-width:0.8; stroke-opacity:0.5; fill:none\" stroke-dasharray=\"1, 2\" points=\"\n",
       "  456.295,364.48 456.295,28.5758 \n",
       "  \"/>\n",
       "<polyline clip-path=\"url(#clip02)\" style=\"stroke:#00002d; stroke-width:0.8; stroke-opacity:0.5; fill:none\" stroke-dasharray=\"1, 2\" points=\"\n",
       "  596.063,364.48 596.063,28.5758 \n",
       "  \"/>\n",
       "<polyline clip-path=\"url(#clip02)\" style=\"stroke:#00002d; stroke-width:0.8; stroke-opacity:0.5; fill:none\" stroke-dasharray=\"1, 2\" points=\"\n",
       "  45.3786,253.818 587.677,253.818 \n",
       "  \"/>\n",
       "<polyline clip-path=\"url(#clip02)\" style=\"stroke:#00002d; stroke-width:0.8; stroke-opacity:0.5; fill:none\" stroke-dasharray=\"1, 2\" points=\"\n",
       "  45.3786,109.795 587.677,109.795 \n",
       "  \"/>\n",
       "<polyline clip-path=\"url(#clip02)\" style=\"stroke:#00002d; stroke-width:0.8; stroke-opacity:1; fill:none\" points=\"\n",
       "  36.9926,369.674 596.063,369.674 \n",
       "  \"/>\n",
       "<polyline clip-path=\"url(#clip02)\" style=\"stroke:#00002d; stroke-width:0.8; stroke-opacity:1; fill:none\" points=\"\n",
       "  36.9926,369.674 36.9926,364.48 \n",
       "  \"/>\n",
       "<polyline clip-path=\"url(#clip02)\" style=\"stroke:#00002d; stroke-width:0.8; stroke-opacity:1; fill:none\" points=\"\n",
       "  176.76,369.674 176.76,364.48 \n",
       "  \"/>\n",
       "<polyline clip-path=\"url(#clip02)\" style=\"stroke:#00002d; stroke-width:0.8; stroke-opacity:1; fill:none\" points=\"\n",
       "  316.528,369.674 316.528,364.48 \n",
       "  \"/>\n",
       "<polyline clip-path=\"url(#clip02)\" style=\"stroke:#00002d; stroke-width:0.8; stroke-opacity:1; fill:none\" points=\"\n",
       "  456.295,369.674 456.295,364.48 \n",
       "  \"/>\n",
       "<polyline clip-path=\"url(#clip02)\" style=\"stroke:#00002d; stroke-width:0.8; stroke-opacity:1; fill:none\" points=\"\n",
       "  596.063,369.674 596.063,364.48 \n",
       "  \"/>\n",
       "<polyline clip-path=\"url(#clip02)\" style=\"stroke:#00002d; stroke-width:0.8; stroke-opacity:1; fill:none\" points=\"\n",
       "  36.9926,369.674 36.9926,23.3815 \n",
       "  \"/>\n",
       "<polyline clip-path=\"url(#clip02)\" style=\"stroke:#00002d; stroke-width:0.8; stroke-opacity:1; fill:none\" points=\"\n",
       "  36.9926,253.818 45.3786,253.818 \n",
       "  \"/>\n",
       "<polyline clip-path=\"url(#clip02)\" style=\"stroke:#00002d; stroke-width:0.8; stroke-opacity:1; fill:none\" points=\"\n",
       "  36.9926,109.795 45.3786,109.795 \n",
       "  \"/>\n",
       "<g clip-path=\"url(#clip00)\">\n",
       "<text style=\"fill:#00002d; fill-opacity:1; font-family:Arial,Helvetica Neue,Helvetica,sans-serif; font-size:12; text-anchor:middle;\" transform=\"rotate(0, 36.9926, 381.674)\" x=\"36.9926\" y=\"381.674\">-2</text>\n",
       "</g>\n",
       "<g clip-path=\"url(#clip00)\">\n",
       "<text style=\"fill:#00002d; fill-opacity:1; font-family:Arial,Helvetica Neue,Helvetica,sans-serif; font-size:12; text-anchor:middle;\" transform=\"rotate(0, 176.76, 381.674)\" x=\"176.76\" y=\"381.674\">-1</text>\n",
       "</g>\n",
       "<g clip-path=\"url(#clip00)\">\n",
       "<text style=\"fill:#00002d; fill-opacity:1; font-family:Arial,Helvetica Neue,Helvetica,sans-serif; font-size:12; text-anchor:middle;\" transform=\"rotate(0, 316.528, 381.674)\" x=\"316.528\" y=\"381.674\">0</text>\n",
       "</g>\n",
       "<g clip-path=\"url(#clip00)\">\n",
       "<text style=\"fill:#00002d; fill-opacity:1; font-family:Arial,Helvetica Neue,Helvetica,sans-serif; font-size:12; text-anchor:middle;\" transform=\"rotate(0, 456.295, 381.674)\" x=\"456.295\" y=\"381.674\">1</text>\n",
       "</g>\n",
       "<g clip-path=\"url(#clip00)\">\n",
       "<text style=\"fill:#00002d; fill-opacity:1; font-family:Arial,Helvetica Neue,Helvetica,sans-serif; font-size:12; text-anchor:middle;\" transform=\"rotate(0, 596.063, 381.674)\" x=\"596.063\" y=\"381.674\">2</text>\n",
       "</g>\n",
       "<g clip-path=\"url(#clip00)\">\n",
       "<text style=\"fill:#00002d; fill-opacity:1; font-family:Arial,Helvetica Neue,Helvetica,sans-serif; font-size:12; text-anchor:end;\" transform=\"rotate(0, 35.7926, 258.318)\" x=\"35.7926\" y=\"258.318\">10</text>\n",
       "</g>\n",
       "<g clip-path=\"url(#clip00)\">\n",
       "<text style=\"fill:#00002d; fill-opacity:1; font-family:Arial,Helvetica Neue,Helvetica,sans-serif; font-size:12; text-anchor:end;\" transform=\"rotate(0, 35.7926, 114.295)\" x=\"35.7926\" y=\"114.295\">20</text>\n",
       "</g>\n",
       "<g clip-path=\"url(#clip00)\">\n",
       "<text style=\"fill:#00002d; fill-opacity:1; font-family:Arial,Helvetica Neue,Helvetica,sans-serif; font-size:21; text-anchor:middle;\" transform=\"rotate(0, 316.528, 18)\" x=\"316.528\" y=\"18\">Problema 4</text>\n",
       "</g>\n",
       "<g clip-path=\"url(#clip00)\">\n",
       "<text style=\"fill:#00002d; fill-opacity:1; font-family:Arial,Helvetica Neue,Helvetica,sans-serif; font-size:16; text-anchor:middle;\" transform=\"rotate(0, 316.528, 397.6)\" x=\"316.528\" y=\"397.6\">x</text>\n",
       "</g>\n",
       "<g clip-path=\"url(#clip00)\">\n",
       "<text style=\"fill:#00002d; fill-opacity:1; font-family:Arial,Helvetica Neue,Helvetica,sans-serif; font-size:16; text-anchor:middle;\" transform=\"rotate(-90, 14.4, 196.528)\" x=\"14.4\" y=\"196.528\">f(x)</text>\n",
       "</g>\n",
       "<polyline clip-path=\"url(#clip02)\" style=\"stroke:#0099ff; stroke-width:0.8; stroke-opacity:1; fill:none\" points=\"\n",
       "  36.9926,23.3815 38.3902,28.3878 39.7879,33.3257 41.1856,38.1959 42.5833,42.999 43.9809,47.7357 45.3786,52.4066 46.7763,57.0126 48.174,61.5541 49.5716,66.032 \n",
       "  50.9693,70.4467 52.367,74.7991 53.7647,79.0898 55.1624,83.3194 56.56,87.4885 57.9577,91.5979 59.3554,95.6481 60.7531,99.6398 62.1507,103.574 63.5484,107.45 \n",
       "  64.9461,111.27 66.3438,115.034 67.7414,118.743 69.1391,122.396 70.5368,125.996 71.9345,129.542 73.3321,133.035 74.7298,136.476 76.1275,139.865 77.5252,143.203 \n",
       "  78.9228,146.491 80.3205,149.728 81.7182,152.917 83.1159,156.056 84.5135,159.147 85.9112,162.191 87.3089,165.187 88.7066,168.137 90.1043,171.041 91.5019,173.9 \n",
       "  92.8996,176.714 94.2973,179.484 95.695,182.21 97.0926,184.893 98.4903,187.533 99.888,190.131 101.286,192.688 102.683,195.204 104.081,197.679 105.479,200.114 \n",
       "  106.876,202.51 108.274,204.867 109.672,207.186 111.069,209.467 112.467,211.71 113.865,213.917 115.262,216.087 116.66,218.221 118.058,220.32 119.455,222.385 \n",
       "  120.853,224.415 122.251,226.411 123.648,228.373 125.046,230.303 126.444,232.2 127.842,234.065 129.239,235.899 130.637,237.702 132.035,239.474 133.432,241.216 \n",
       "  134.83,242.929 136.228,244.612 137.625,246.266 139.023,247.893 140.421,249.491 141.818,251.062 143.216,252.605 144.614,254.123 146.011,255.614 147.409,257.079 \n",
       "  148.807,258.519 150.204,259.934 151.602,261.325 153,262.692 154.397,264.035 155.795,265.355 157.193,266.651 158.59,267.926 159.988,269.178 161.386,270.409 \n",
       "  162.783,271.618 164.181,272.807 165.579,273.975 166.976,275.122 168.374,276.25 169.772,277.359 171.169,278.448 172.567,279.519 173.965,280.572 175.362,281.606 \n",
       "  176.76,282.623 178.158,283.623 179.556,284.605 180.953,285.571 182.351,286.521 183.749,287.455 185.146,288.373 186.544,289.276 187.942,290.164 189.339,291.038 \n",
       "  190.737,291.897 192.135,292.742 193.532,293.573 194.93,294.391 196.328,295.196 197.725,295.988 199.123,296.768 200.521,297.535 201.918,298.291 203.316,299.035 \n",
       "  204.714,299.767 206.111,300.489 207.509,301.2 208.907,301.9 210.304,302.59 211.702,303.27 213.1,303.94 214.497,304.601 215.895,305.253 217.293,305.895 \n",
       "  218.69,306.529 220.088,307.155 221.486,307.772 222.883,308.381 224.281,308.983 225.679,309.577 227.077,310.163 228.474,310.743 229.872,311.316 231.27,311.882 \n",
       "  232.667,312.441 234.065,312.995 235.463,313.542 236.86,314.084 238.258,314.62 239.656,315.15 241.053,315.676 242.451,316.196 243.849,316.712 245.246,317.222 \n",
       "  246.644,317.729 248.042,318.231 249.439,318.728 250.837,319.222 252.235,319.712 253.632,320.198 255.03,320.681 256.428,321.161 257.825,321.637 259.223,322.11 \n",
       "  260.621,322.581 262.018,323.048 263.416,323.513 264.814,323.976 266.211,324.436 267.609,324.894 269.007,325.349 270.404,325.803 271.802,326.255 273.2,326.705 \n",
       "  274.597,327.153 275.995,327.6 277.393,328.046 278.791,328.49 280.188,328.933 281.586,329.374 282.984,329.815 284.381,330.254 285.779,330.693 287.177,331.131 \n",
       "  288.574,331.568 289.972,332.004 291.37,332.44 292.767,332.875 294.165,333.31 295.563,333.744 296.96,334.178 298.358,334.611 299.756,335.044 301.153,335.477 \n",
       "  302.551,335.91 303.949,336.343 305.346,336.775 306.744,337.207 308.142,337.64 309.539,338.072 310.937,338.504 312.335,338.936 313.732,339.368 315.13,339.8 \n",
       "  316.528,340.232 317.925,340.664 319.323,341.096 320.721,341.528 322.118,341.96 323.516,342.392 324.914,342.824 326.312,343.256 327.709,343.688 329.107,344.12 \n",
       "  330.505,344.551 331.902,344.983 333.3,345.414 334.698,345.845 336.095,346.276 337.493,346.706 338.891,347.136 340.288,347.565 341.686,347.994 343.084,348.423 \n",
       "  344.481,348.851 345.879,349.278 347.277,349.704 348.674,350.129 350.072,350.554 351.47,350.978 352.867,351.4 354.265,351.822 355.663,352.242 357.06,352.66 \n",
       "  358.458,353.078 359.856,353.493 361.253,353.907 362.651,354.32 364.049,354.73 365.446,355.138 366.844,355.545 368.242,355.949 369.639,356.351 371.037,356.75 \n",
       "  372.435,357.146 373.832,357.54 375.23,357.931 376.628,358.319 378.026,358.703 379.423,359.085 380.821,359.463 382.219,359.837 383.616,360.207 385.014,360.573 \n",
       "  386.412,360.935 387.809,361.293 389.207,361.647 390.605,361.995 392.002,362.339 393.4,362.678 394.798,363.012 396.195,363.34 397.593,363.662 398.991,363.979 \n",
       "  400.388,364.29 401.786,364.594 403.184,364.892 404.581,365.184 405.979,365.468 407.377,365.746 408.774,366.016 410.172,366.279 411.57,366.533 412.967,366.78 \n",
       "  414.365,367.019 415.763,367.249 417.16,367.471 418.558,367.683 419.956,367.887 421.353,368.08 422.751,368.265 424.149,368.439 425.547,368.603 426.944,368.756 \n",
       "  428.342,368.899 429.74,369.03 431.137,369.15 432.535,369.259 433.933,369.355 435.33,369.44 436.728,369.512 438.126,369.571 439.523,369.617 440.921,369.65 \n",
       "  442.319,369.669 443.716,369.674 445.114,369.665 446.512,369.641 447.909,369.602 449.307,369.548 450.705,369.478 452.102,369.393 453.5,369.291 454.898,369.172 \n",
       "  456.295,369.037 457.693,368.884 459.091,368.714 460.488,368.525 461.886,368.319 463.284,368.093 464.681,367.849 466.079,367.585 467.477,367.301 468.874,366.998 \n",
       "  470.272,366.673 471.67,366.328 473.067,365.962 474.465,365.573 475.863,365.163 477.261,364.73 478.658,364.275 480.056,363.796 481.454,363.293 482.851,362.767 \n",
       "  484.249,362.216 485.647,361.64 487.044,361.039 488.442,360.412 489.84,359.759 491.237,359.079 492.635,358.372 494.033,357.638 495.43,356.876 496.828,356.086 \n",
       "  498.226,355.267 499.623,354.418 501.021,353.541 502.419,352.632 503.816,351.694 505.214,350.724 506.612,349.723 508.009,348.69 509.407,347.624 510.805,346.526 \n",
       "  512.202,345.394 513.6,344.228 514.998,343.028 516.395,341.793 517.793,340.523 519.191,339.217 520.588,337.874 521.986,336.495 523.384,335.078 524.782,333.624 \n",
       "  526.179,332.131 527.577,330.599 528.975,329.028 530.372,327.417 531.77,325.765 533.168,324.073 534.565,322.339 535.963,320.562 537.361,318.744 538.758,316.882 \n",
       "  540.156,314.976 541.554,313.026 542.951,311.032 544.349,308.992 545.747,306.906 547.144,304.774 548.542,302.594 549.94,300.367 551.337,298.092 552.735,295.768 \n",
       "  554.133,293.394 555.53,290.971 556.928,288.497 558.326,285.972 559.723,283.395 561.121,280.766 562.519,278.084 563.916,275.349 565.314,272.559 566.712,269.715 \n",
       "  568.109,266.815 569.507,263.859 570.905,260.847 572.302,257.777 573.7,254.65 575.098,251.463 576.496,248.218 577.893,244.913 579.291,241.548 580.689,238.121 \n",
       "  582.086,234.633 583.484,231.082 584.882,227.469 586.279,223.791 587.677,220.049 589.075,216.243 590.472,212.37 591.87,208.431 593.268,204.425 594.665,200.351 \n",
       "  596.063,196.209 \n",
       "  \"/>\n",
       "<polygon clip-path=\"url(#clip00)\" points=\"\n",
       "505.547,74.5015 578.063,74.5015 578.063,44.2615 505.547,44.2615 \n",
       "  \" fill=\"#ffffff\" fill-opacity=\"1\"/>\n",
       "<polyline clip-path=\"url(#clip00)\" style=\"stroke:#00002d; stroke-width:0.8; stroke-opacity:1; fill:none\" points=\"\n",
       "  505.547,74.5015 578.063,74.5015 578.063,44.2615 505.547,44.2615 505.547,74.5015 \n",
       "  \"/>\n",
       "<polyline clip-path=\"url(#clip00)\" style=\"stroke:#0099ff; stroke-width:0.8; stroke-opacity:1; fill:none\" points=\"\n",
       "  511.547,59.3815 547.547,59.3815 \n",
       "  \"/>\n",
       "<g clip-path=\"url(#clip00)\">\n",
       "<text style=\"fill:#00002d; fill-opacity:1; font-family:Arial,Helvetica Neue,Helvetica,sans-serif; font-size:12; text-anchor:start;\" transform=\"rotate(0, 553.547, 63.8815)\" x=\"553.547\" y=\"63.8815\">y1</text>\n",
       "</g>\n",
       "</svg>\n"
      ]
     },
     "execution_count": 10,
     "metadata": {},
     "output_type": "execute_result"
    },
    {
     "name": "stderr",
     "output_type": "stream",
     "text": [
      ") in module Main at In[5]:4 overwritten at In[10]:4.\n"
     ]
    }
   ],
   "source": [
    "using Plots\n",
    "gr()\n",
    "function f(x)\n",
    "    return x^4 -3x +4\n",
    "end\n",
    "A=-2:.01:2\n",
    "B=[f(x) for x in A]\n",
    "plot(A,B,title=\"Problema 4\",xlabel=\"x\",ylabel=\"f(x)\")"
   ]
  },
  {
   "cell_type": "code",
   "execution_count": null,
   "metadata": {
    "collapsed": true
   },
   "outputs": [],
   "source": []
  }
 ],
 "metadata": {
  "anaconda-cloud": {},
  "hide_input": false,
  "kernelspec": {
   "display_name": "Julia 0.5.0",
   "language": "julia",
   "name": "julia-0.5"
  },
  "language_info": {
   "file_extension": ".jl",
   "mimetype": "application/julia",
   "name": "julia",
   "version": "0.5.0"
  }
 },
 "nbformat": 4,
 "nbformat_minor": 2
}
