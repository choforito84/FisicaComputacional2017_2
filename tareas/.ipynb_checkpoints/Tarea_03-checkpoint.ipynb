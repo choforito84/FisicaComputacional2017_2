{
 "cells": [
  {
   "cell_type": "markdown",
   "metadata": {},
   "source": [
    "# Tarea 03: Evaluación de funciones"
   ]
  },
  {
   "cell_type": "markdown",
   "metadata": {},
   "source": [
    "Fecha *límite* de entrega: **martes 28 de febrero del 2017, antes de las 15:00 horas**.\n",
    "\n",
    "**No** se recibirán tareas enviadas después del inicio de la clase.\n",
    "\n",
    "Manda un solo notebook de Jupyter con tus respuestas a las preguntas al ayudante.\n",
    "\n",
    "Explica brevemente qué estás haciendo. Redacta oraciones completas en español, usando acentos. Utiliza ecuaciones con notación LaTeX cuando sea necesario.\n",
    "\n",
    "El notebook debe ser ejecutable, es decir, cada celda debe correr sin errores, y debe reproducir la salida que aparece en la pantalla."
   ]
  },
  {
   "cell_type": "markdown",
   "metadata": {},
   "source": [
    "## 1. Polinomios "
   ]
  },
  {
   "cell_type": "markdown",
   "metadata": {},
   "source": [
    "En esta tarea, veremos cómo evaluar ciertas funciones en la computadora.\n",
    "\n",
    "Las funciones más fáciles de tratar son los **polinomios**."
   ]
  },
  {
   "cell_type": "markdown",
   "metadata": {},
   "source": [
    "[1] Utiliza notación LaTeX en una celda de Markdown para escribir un polinomio $p_n$ de grado $n$ con coeficientes \n",
    "$a_0$, $a_1$, $\\ldots$, $a_n$, donde $a_i$ es el coeficiente de $x^i$."
   ]
  },
  {
   "cell_type": "markdown",
   "metadata": {},
   "source": [
    "### [1]\n",
    "\n",
    "$$p(x)=a_0 + a_1 x + a_2 x^2 + \\dots +a_n x^n = \\sum_{i=0}^n a_i x^i$$"
   ]
  },
  {
   "cell_type": "markdown",
   "metadata": {},
   "source": [
    "[2] (i) Escribe una función `evaluar_polinomio` que evalúa un polinomio de grado $2$, $p(x) = a + bx + c x^2$. La función debe aceptar como argumentos los valores de $a$, $b$ y $c$, así como el valor de $x$ donde evaluar. Verifica que funciona con el polinomio $p(x) = 1 + 2x - 3x^2$. [Pista, aquí la función se llama como sigue:\n",
    "\n",
    "    evaluar_polinomio(a, b, c, x).\n",
    "    \n",
    "]\n",
    "\n",
    "(ii) Escribe una función `evaluar_polinomio` evalúa un polinomio de grado $n$.\n",
    "Acepta un arreglo `a` de $n+1$ coeficients, en el orden `a_0`, `a_1`, etc., así como un valor `x`, y evalúa $p(x)$. [Pista: Recuerda que el $i$-ésimo elemento de un arreglo se accesa con `a[i]`, y el número de entradas de un arreglo es `length(a)`.] Verifica que funciona con el polinomio $p(x) = 1 + 2x - 3x^2$. [Pista: aquí, la función se llama como sigue: \n",
    "\n",
    "    evaluar_polinomio([1, 2, -3], x)\n",
    "]\n",
    "\n",
    "(iii) Verifica que funciona con un polinomio cúbico."
   ]
  },
  {
   "cell_type": "code",
   "execution_count": 1,
   "metadata": {
    "collapsed": false
   },
   "outputs": [],
   "source": [
    "function evaluar_polinomio(a,b,c,x)\n",
    "    return c*x^2 + b*x + a \n",
    "end\n",
    "for i in rand(20)\n",
    "    if evaluar_polinomio(1,2,-3,i)!=-3*i^2 + 2*i + 1\n",
    "        println(\"fail\")\n",
    "        break\n",
    "    end\n",
    "end\n",
    "function evaluar_polinomio2(A,x)\n",
    "    total=0\n",
    "    for i in eachindex(A)\n",
    "        total+= A[i]*x^(i-1)\n",
    "    end\n",
    "    return total\n",
    "end\n",
    "for i in rand(20)\n",
    "    if evaluar_polinomio2([1,0,4,-9],i)-(-9*(i^3)+4*(i^2) + 1) >1e-10\n",
    "        println(\"fail\")\n",
    "        break\n",
    "    end\n",
    "end"
   ]
  },
  {
   "cell_type": "code",
   "execution_count": 2,
   "metadata": {
    "collapsed": false
   },
   "outputs": [
    {
     "data": {
      "text/plain": [
       "4"
      ]
     },
     "execution_count": 2,
     "metadata": {},
     "output_type": "execute_result"
    }
   ],
   "source": [
    "A=[2,4,9]\n",
    "A[end-1]"
   ]
  },
  {
   "cell_type": "markdown",
   "metadata": {},
   "source": [
    "[3] Otra manera de evaluar un polinomio es con el llamado [**algoritmo de Horner**](https://es.wikipedia.org/wiki/Algoritmo_de_Horner). La idea es que es ineficiente calcular `xˆ3` desde cero, si ya contamos con el resultado de `xˆ2`.\n",
    "\n",
    "(i) Escribe una función para evaluar una función `evaluar_actualizar` usando esta idea: empieza desde el coeficiente de $x^0$, y guarda el valor actual de la potencia de `x` en una variable que vas actualizando.\n",
    "\n",
    "(ii) Utiliza la descripción del algoritmo en la liga para escribir una función `evaluar_horner` que implementa el método de Horner (que se supone es aún más eficiente que la (i)), con la misma estructura que la función de la pregunta 2(ii). Verifica que da las mismas respuestas que las funciones de la pregunta 2."
   ]
  },
  {
   "cell_type": "code",
   "execution_count": 3,
   "metadata": {
    "collapsed": false
   },
   "outputs": [],
   "source": [
    "function evaluar_actualizar(A,x)\n",
    "    total=A[1]\n",
    "    z=1\n",
    "    for i in 2:length(A)\n",
    "        z*=x\n",
    "        total+=A[i]*z\n",
    "    end\n",
    "    return total\n",
    "end\n",
    "function evaluar_horner(A,x)\n",
    "    total=A[end]\n",
    "    for i in 1:(length(A)-1)\n",
    "        total=total*x+A[end-i]\n",
    "    end\n",
    "    return total\n",
    "end\n",
    "A=[2,3,6,9,8]\n",
    "for i in rand(30)\n",
    "    if evaluar_horner(A,i)-evaluar_polinomio2(A,i)>1e-10\n",
    "        println(\"fail\")\n",
    "        break\n",
    "    end\n",
    "end"
   ]
  },
  {
   "cell_type": "markdown",
   "metadata": {},
   "source": [
    "[4] ¿Cuál de estos tres algoritmos es \"mejor\"? Aquí, por \"mejor\" entenderemos \"más rápido\".\n",
    "Para verificarlo, utiliza el paquete `BenchmarkTools.jl`, y utiliza `@benchmark f($a, $x)` para ver cuánto tiempo se tarda cada función. (Debes poner explícitamente los signos `$`.) "
   ]
  },
  {
   "cell_type": "code",
   "execution_count": 4,
   "metadata": {
    "collapsed": false
   },
   "outputs": [
    {
     "data": {
      "text/html": [
       "<div id=\"interact-js-shim\">\n",
       "    <script charset=\"utf-8\">\r\n",
       "(function (IPython, $, _, MathJax) {\r\n",
       "    $.event.special.destroyed = {\r\n",
       "\tremove: function(o) {\r\n",
       "\t    if (o.handler) {\r\n",
       "\t\to.handler.apply(this, arguments)\r\n",
       "\t    }\r\n",
       "\t}\r\n",
       "    }\r\n",
       "\r\n",
       "    var OutputArea = IPython.version >= \"4.0.0\" ? require(\"notebook/js/outputarea\").OutputArea : IPython.OutputArea;\r\n",
       "\r\n",
       "    var redrawValue = function (container, type, val) {\r\n",
       "\tvar selector = $(\"<div/>\");\r\n",
       "\tvar oa = new OutputArea(_.extend(selector, {\r\n",
       "\t    selector: selector,\r\n",
       "\t    prompt_area: true,\r\n",
       "\t    events: IPython.events,\r\n",
       "\t    keyboard_manager: IPython.keyboard_manager\r\n",
       "\t})); // Hack to work with IPython 2.1.0\r\n",
       "\r\n",
       "\tswitch (type) {\r\n",
       "\tcase \"image/png\":\r\n",
       "            var _src = 'data:' + type + ';base64,' + val;\r\n",
       "\t    $(container).find(\"img\").attr('src', _src);\r\n",
       "\t    break;\r\n",
       "\tcase \"text/latex\":\r\n",
       "\t\tif (MathJax){\r\n",
       "\t\t\tvar math = MathJax.Hub.getAllJax(container)[0];\r\n",
       "\t\t\tMathJax.Hub.Queue([\"Text\", math, val.replace(/^\\${1,2}|\\${1,2}$/g, '')]);\r\n",
       "\t\t\tbreak;\r\n",
       "\t\t}\r\n",
       "\tdefault:\r\n",
       "\t    var toinsert = OutputArea.append_map[type].apply(\r\n",
       "\t\toa, [val, {}, selector]\r\n",
       "\t    );\r\n",
       "\t    $(container).empty().append(toinsert.contents());\r\n",
       "\t    selector.remove();\r\n",
       "\t}\r\n",
       "    }\r\n",
       "\r\n",
       "\r\n",
       "    $(document).ready(function() {\r\n",
       "\tfunction initComm(evt, data) {\r\n",
       "\t    var comm_manager = data.kernel.comm_manager;\r\n",
       "        //_.extend(comm_manager.targets, require(\"widgets/js/widget\"))\r\n",
       "\t    comm_manager.register_target(\"Signal\", function (comm) {\r\n",
       "            comm.on_msg(function (msg) {\r\n",
       "                var val = msg.content.data.value;\r\n",
       "                $(\".signal-\" + comm.comm_id).each(function() {\r\n",
       "                var type = $(this).data(\"type\");\r\n",
       "                if (typeof(val[type]) !== \"undefined\" && val[type] !== null) {\r\n",
       "                    redrawValue(this, type, val[type], type);\r\n",
       "                }\r\n",
       "                });\r\n",
       "                delete val;\r\n",
       "                delete msg.content.data.value;\r\n",
       "            });\r\n",
       "\t    });\r\n",
       "\r\n",
       "\t    // coordingate with Comm and redraw Signals\r\n",
       "\t    // XXX: Test using Reactive here to improve performance\r\n",
       "\t    $([IPython.events]).on(\r\n",
       "\t\t'output_appended.OutputArea', function (event, type, value, md, toinsert) {\r\n",
       "\t\t    if (md && md.reactive) {\r\n",
       "                // console.log(md.comm_id);\r\n",
       "                toinsert.addClass(\"signal-\" + md.comm_id);\r\n",
       "                toinsert.data(\"type\", type);\r\n",
       "                // Signal back indicating the mimetype required\r\n",
       "                var comm_manager = IPython.notebook.kernel.comm_manager;\r\n",
       "                var comm = comm_manager.comms[md.comm_id];\r\n",
       "                comm.then(function (c) {\r\n",
       "                    c.send({action: \"subscribe_mime\",\r\n",
       "                       mime: type});\r\n",
       "                    toinsert.bind(\"destroyed\", function() {\r\n",
       "                        c.send({action: \"unsubscribe_mime\",\r\n",
       "                               mime: type});\r\n",
       "                    });\r\n",
       "                })\r\n",
       "\t\t    }\r\n",
       "\t    });\r\n",
       "\t}\r\n",
       "\r\n",
       "\ttry {\r\n",
       "\t    // try to initialize right away. otherwise, wait on the status_started event.\r\n",
       "\t    initComm(undefined, IPython.notebook);\r\n",
       "\t} catch (e) {\r\n",
       "\t    $([IPython.events]).on('kernel_created.Kernel kernel_created.Session', initComm);\r\n",
       "\t}\r\n",
       "    });\r\n",
       "})(IPython, jQuery, _, MathJax);\r\n",
       "</script>\n",
       "    <script>\n",
       "        window.interactLoadedFlag = true\n",
       "       $(\"#interact-js-shim\").bind(\"destroyed\", function () {\n",
       "           if (window.interactLoadedFlag) {\n",
       "               console.warn(\"JavaScript required by Interact will be removed if you remove this cell or run using Interact more than once.\")\n",
       "           }\n",
       "       })\n",
       "       $([IPython.events]).on(\"kernel_starting.Kernel kernel_restarting.Kernel\", function () { window.interactLoadedFlag = false })\n",
       "   </script>\n",
       "</div>"
      ]
     },
     "metadata": {},
     "output_type": "display_data"
    },
    {
     "data": {
      "text/plain": [
       "Plots.GRBackend()"
      ]
     },
     "execution_count": 4,
     "metadata": {},
     "output_type": "execute_result"
    }
   ],
   "source": [
    "using BenchmarkTools, Plots, Interact\n",
    "gr()"
   ]
  },
  {
   "cell_type": "code",
   "execution_count": 5,
   "metadata": {
    "collapsed": false
   },
   "outputs": [
    {
     "ename": "LoadError",
     "evalue": "UndefVarError: B not defined",
     "output_type": "error",
     "traceback": [
      "UndefVarError: B not defined",
      ""
     ]
    }
   ],
   "source": [
    "@benchmark evaluar_horner($B,$0)"
   ]
  },
  {
   "cell_type": "code",
   "execution_count": 6,
   "metadata": {
    "collapsed": false
   },
   "outputs": [
    {
     "ename": "LoadError",
     "evalue": "UndefVarError: B not defined",
     "output_type": "error",
     "traceback": [
      "UndefVarError: B not defined",
      ""
     ]
    }
   ],
   "source": [
    "@benchmark evaluar_actualizar($B,$0)\n"
   ]
  },
  {
   "cell_type": "code",
   "execution_count": 7,
   "metadata": {
    "collapsed": false
   },
   "outputs": [
    {
     "ename": "LoadError",
     "evalue": "UndefVarError: B not defined",
     "output_type": "error",
     "traceback": [
      "UndefVarError: B not defined",
      ""
     ]
    }
   ],
   "source": [
    "@benchmark evaluar_polinomio2($B,$0)"
   ]
  },
  {
   "cell_type": "markdown",
   "metadata": {},
   "source": [
    "## 2. Funciones elementales"
   ]
  },
  {
   "cell_type": "markdown",
   "metadata": {},
   "source": [
    "¿Cómo evalúa una computadora la función exponencial? No hay ninguna forma fácil y exacta de evaluarla. Por eso debemos usar **aproximaciones**. Normalmente, aproximamos las funciones complicadas (o sea, ¡las que no sean polinomios!) por las únicas funciones con las cuales sí sabemos trabajar, los polinomios.\n",
    "\n",
    "Un primer tipo de aproximación es mediante las **series de Taylor**. (Ojo: no es la mejor solución, ni la que se utiliza realmente.)"
   ]
  },
  {
   "cell_type": "markdown",
   "metadata": {},
   "source": [
    "[5] Recuerda que la función exponencial se define mediante una serie de Taylor. Escribe esta serie de Taylor con notación LaTeX."
   ]
  },
  {
   "cell_type": "markdown",
   "metadata": {},
   "source": [
    "### [5]\n",
    "\n",
    "$$e^x = 1 + x + \\frac{x^2}{2!} + \\frac{x^3}{2!} + \\dots = \\sum_{n=0}^{\\infty} \\frac{x^n}{n!}$$"
   ]
  },
  {
   "cell_type": "markdown",
   "metadata": {
    "collapsed": true
   },
   "source": [
    "Podemos aproximar la serie de Taylor con un **polinomio de Taylor** de grado $n$, que se obtiene al truncar la serie y retener sólo los términos de grado $\\le n$."
   ]
  },
  {
   "cell_type": "markdown",
   "metadata": {},
   "source": [
    "[6] Escribe una función para calcular el polinomio de Taylor de la función exponencial de orden $n$, evaluada en $x$. Utiliza una de las funciones de la preguntas 2 o 3 para evaluar el polinomio."
   ]
  },
  {
   "cell_type": "code",
   "execution_count": 8,
   "metadata": {
    "collapsed": false
   },
   "outputs": [
    {
     "data": {
      "text/plain": [
       "2.718281801146384479717813051146384479717813051146384479717813051146384479717817"
      ]
     },
     "execution_count": 8,
     "metadata": {},
     "output_type": "execute_result"
    }
   ],
   "source": [
    "#[6]\n",
    "function exponencial(x,n=10)\n",
    "    return evaluar_horner([1/factorial(big(i)) for i in 0:n],x)\n",
    "end\n",
    "exponencial(1)"
   ]
  },
  {
   "cell_type": "markdown",
   "metadata": {},
   "source": [
    "[7] ¿Cuál valor de $n$ nos da una buena aproximación? Podemos esperar que dependerá de $x$. Para saberlo, haz lo siguiente.\n",
    "\n",
    "(i) Dibuja la función $\\exp(x)$ y las aproximaciones con distintas $n$s. Puedes usar también `@manipulate`. ¿Qué valor de $n$ parece que necesites para tener una buena aproximación de `exp(1)`? Para `exp(5)`?\n",
    "\n",
    "(ii) Escribe una función que calcula la función exponencial que va variando $n$ *hasta que* la diferencia entre $p_{n-1}(x)$ y $p_n(x)$ sea menor que una tolerancia (la cual también es argumento de la función). ¿Concuerda con tu observación de la pregunta (i)?"
   ]
  },
  {
   "cell_type": "code",
   "execution_count": 9,
   "metadata": {
    "collapsed": false
   },
   "outputs": [
    {
     "data": {
      "text/html": [],
      "text/plain": [
       "Interact.Options{:SelectionSlider,Int64}(Signal{Int64}(12, nactions=1),\"n\",12,\"12\",Interact.OptionDict(DataStructures.OrderedDict(\"5\"=>5,\"6\"=>6,\"7\"=>7,\"8\"=>8,\"9\"=>9,\"10\"=>10,\"11\"=>11,\"12\"=>12,\"13\"=>13,\"14\"=>14…),Dict(16=>\"16\",11=>\"11\",7=>\"7\",9=>\"9\",10=>\"10\",19=>\"19\",17=>\"17\",8=>\"8\",6=>\"6\",5=>\"5\"…)),Any[],Any[],true,\"horizontal\")"
      ]
     },
     "metadata": {},
     "output_type": "display_data"
    },
    {
     "data": {
      "text/html": [
       "<?xml version=\"1.0\" encoding=\"utf-8\"?>\n",
       "<svg xmlns=\"http://www.w3.org/2000/svg\" xmlns:xlink=\"http://www.w3.org/1999/xlink\" width=\"600\" height=\"400\" viewBox=\"0 0 600 400\">\n",
       "<defs>\n",
       "  <clipPath id=\"clip00\">\n",
       "    <rect x=\"0\" y=\"0\" width=\"600\" height=\"400\"/>\n",
       "  </clipPath>\n",
       "</defs>\n",
       "<polygon clip-path=\"url(#clip00)\" points=\"\n",
       "0,400 600,400 600,0 0,0 \n",
       "  \" fill=\"#ffffff\" fill-opacity=\"1\"/>\n",
       "<defs>\n",
       "  <clipPath id=\"clip01\">\n",
       "    <rect x=\"120\" y=\"0\" width=\"421\" height=\"400\"/>\n",
       "  </clipPath>\n",
       "</defs>\n",
       "<polygon clip-path=\"url(#clip00)\" points=\"\n",
       "72.5481,369.674 596.063,369.674 596.063,23.3815 72.5481,23.3815 \n",
       "  \" fill=\"#ffffff\" fill-opacity=\"1\"/>\n",
       "<defs>\n",
       "  <clipPath id=\"clip02\">\n",
       "    <rect x=\"72\" y=\"23\" width=\"524\" height=\"347\"/>\n",
       "  </clipPath>\n",
       "</defs>\n",
       "<polyline clip-path=\"url(#clip02)\" style=\"stroke:#00002d; stroke-width:0.8; stroke-opacity:0.5; fill:none\" stroke-dasharray=\"1, 2\" points=\"\n",
       "  143.937,364.48 143.937,28.5758 \n",
       "  \"/>\n",
       "<polyline clip-path=\"url(#clip02)\" style=\"stroke:#00002d; stroke-width:0.8; stroke-opacity:0.5; fill:none\" stroke-dasharray=\"1, 2\" points=\"\n",
       "  262.917,364.48 262.917,28.5758 \n",
       "  \"/>\n",
       "<polyline clip-path=\"url(#clip02)\" style=\"stroke:#00002d; stroke-width:0.8; stroke-opacity:0.5; fill:none\" stroke-dasharray=\"1, 2\" points=\"\n",
       "  381.898,364.48 381.898,28.5758 \n",
       "  \"/>\n",
       "<polyline clip-path=\"url(#clip02)\" style=\"stroke:#00002d; stroke-width:0.8; stroke-opacity:0.5; fill:none\" stroke-dasharray=\"1, 2\" points=\"\n",
       "  500.878,364.48 500.878,28.5758 \n",
       "  \"/>\n",
       "<polyline clip-path=\"url(#clip02)\" style=\"stroke:#00002d; stroke-width:0.8; stroke-opacity:0.5; fill:none\" stroke-dasharray=\"1, 2\" points=\"\n",
       "  80.4008,263.289 588.21,263.289 \n",
       "  \"/>\n",
       "<polyline clip-path=\"url(#clip02)\" style=\"stroke:#00002d; stroke-width:0.8; stroke-opacity:0.5; fill:none\" stroke-dasharray=\"1, 2\" points=\"\n",
       "  80.4008,156.905 588.21,156.905 \n",
       "  \"/>\n",
       "<polyline clip-path=\"url(#clip02)\" style=\"stroke:#00002d; stroke-width:0.8; stroke-opacity:0.5; fill:none\" stroke-dasharray=\"1, 2\" points=\"\n",
       "  80.4008,50.5198 588.21,50.5198 \n",
       "  \"/>\n",
       "<polyline clip-path=\"url(#clip02)\" style=\"stroke:#00002d; stroke-width:0.8; stroke-opacity:1; fill:none\" points=\"\n",
       "  72.5481,369.674 596.063,369.674 \n",
       "  \"/>\n",
       "<polyline clip-path=\"url(#clip02)\" style=\"stroke:#00002d; stroke-width:0.8; stroke-opacity:1; fill:none\" points=\"\n",
       "  143.937,369.674 143.937,364.48 \n",
       "  \"/>\n",
       "<polyline clip-path=\"url(#clip02)\" style=\"stroke:#00002d; stroke-width:0.8; stroke-opacity:1; fill:none\" points=\"\n",
       "  262.917,369.674 262.917,364.48 \n",
       "  \"/>\n",
       "<polyline clip-path=\"url(#clip02)\" style=\"stroke:#00002d; stroke-width:0.8; stroke-opacity:1; fill:none\" points=\"\n",
       "  381.898,369.674 381.898,364.48 \n",
       "  \"/>\n",
       "<polyline clip-path=\"url(#clip02)\" style=\"stroke:#00002d; stroke-width:0.8; stroke-opacity:1; fill:none\" points=\"\n",
       "  500.878,369.674 500.878,364.48 \n",
       "  \"/>\n",
       "<polyline clip-path=\"url(#clip02)\" style=\"stroke:#00002d; stroke-width:0.8; stroke-opacity:1; fill:none\" points=\"\n",
       "  72.5481,369.674 72.5481,23.3815 \n",
       "  \"/>\n",
       "<polyline clip-path=\"url(#clip02)\" style=\"stroke:#00002d; stroke-width:0.8; stroke-opacity:1; fill:none\" points=\"\n",
       "  72.5481,263.289 80.4008,263.289 \n",
       "  \"/>\n",
       "<polyline clip-path=\"url(#clip02)\" style=\"stroke:#00002d; stroke-width:0.8; stroke-opacity:1; fill:none\" points=\"\n",
       "  72.5481,156.905 80.4008,156.905 \n",
       "  \"/>\n",
       "<polyline clip-path=\"url(#clip02)\" style=\"stroke:#00002d; stroke-width:0.8; stroke-opacity:1; fill:none\" points=\"\n",
       "  72.5481,50.5198 80.4008,50.5198 \n",
       "  \"/>\n",
       "<g clip-path=\"url(#clip00)\">\n",
       "<text style=\"fill:#00002d; fill-opacity:1; font-family:Arial,Helvetica Neue,Helvetica,sans-serif; font-size:12; text-anchor:middle;\" transform=\"rotate(0, 143.937, 381.674)\" x=\"143.937\" y=\"381.674\">-5</text>\n",
       "</g>\n",
       "<g clip-path=\"url(#clip00)\">\n",
       "<text style=\"fill:#00002d; fill-opacity:1; font-family:Arial,Helvetica Neue,Helvetica,sans-serif; font-size:12; text-anchor:middle;\" transform=\"rotate(0, 262.917, 381.674)\" x=\"262.917\" y=\"381.674\">0</text>\n",
       "</g>\n",
       "<g clip-path=\"url(#clip00)\">\n",
       "<text style=\"fill:#00002d; fill-opacity:1; font-family:Arial,Helvetica Neue,Helvetica,sans-serif; font-size:12; text-anchor:middle;\" transform=\"rotate(0, 381.898, 381.674)\" x=\"381.898\" y=\"381.674\">5</text>\n",
       "</g>\n",
       "<g clip-path=\"url(#clip00)\">\n",
       "<text style=\"fill:#00002d; fill-opacity:1; font-family:Arial,Helvetica Neue,Helvetica,sans-serif; font-size:12; text-anchor:middle;\" transform=\"rotate(0, 500.878, 381.674)\" x=\"500.878\" y=\"381.674\">10</text>\n",
       "</g>\n",
       "<g clip-path=\"url(#clip00)\">\n",
       "<text style=\"fill:#00002d; fill-opacity:1; font-family:Arial,Helvetica Neue,Helvetica,sans-serif; font-size:12; text-anchor:end;\" transform=\"rotate(0, 71.3481, 267.789)\" x=\"71.3481\" y=\"267.789\">50000</text>\n",
       "</g>\n",
       "<g clip-path=\"url(#clip00)\">\n",
       "<text style=\"fill:#00002d; fill-opacity:1; font-family:Arial,Helvetica Neue,Helvetica,sans-serif; font-size:12; text-anchor:end;\" transform=\"rotate(0, 71.3481, 161.405)\" x=\"71.3481\" y=\"161.405\">100000</text>\n",
       "</g>\n",
       "<g clip-path=\"url(#clip00)\">\n",
       "<text style=\"fill:#00002d; fill-opacity:1; font-family:Arial,Helvetica Neue,Helvetica,sans-serif; font-size:12; text-anchor:end;\" transform=\"rotate(0, 71.3481, 55.0198)\" x=\"71.3481\" y=\"55.0198\">150000</text>\n",
       "</g>\n",
       "<g clip-path=\"url(#clip00)\">\n",
       "<text style=\"fill:#00002d; fill-opacity:1; font-family:Arial,Helvetica Neue,Helvetica,sans-serif; font-size:21; text-anchor:middle;\" transform=\"rotate(0, 334.306, 18)\" x=\"334.306\" y=\"18\">comparacion para distintos n</text>\n",
       "</g>\n",
       "<g clip-path=\"url(#clip00)\">\n",
       "<text style=\"fill:#00002d; fill-opacity:1; font-family:Arial,Helvetica Neue,Helvetica,sans-serif; font-size:16; text-anchor:middle;\" transform=\"rotate(0, 334.306, 397.6)\" x=\"334.306\" y=\"397.6\">x</text>\n",
       "</g>\n",
       "<g clip-path=\"url(#clip00)\">\n",
       "<text style=\"fill:#00002d; fill-opacity:1; font-family:Arial,Helvetica Neue,Helvetica,sans-serif; font-size:16; text-anchor:start;\" transform=\"rotate(-90, 21.6587, 204.368)\" x=\"21.6587\" y=\"204.368\">e</text>\n",
       "</g>\n",
       "<g clip-path=\"url(#clip00)\">\n",
       "<text style=\"fill:#00002d; fill-opacity:1; font-family:Arial,Helvetica Neue,Helvetica,sans-serif; font-size:14; text-anchor:start;\" transform=\"rotate(-90, 12.2364, 195.308)\" x=\"12.2364\" y=\"195.308\">x</text>\n",
       "</g>\n",
       "<polyline clip-path=\"url(#clip02)\" style=\"stroke:#0099ff; stroke-width:0.8; stroke-opacity:1; fill:none\" points=\"\n",
       "  120.14,369.674 121.33,369.674 122.52,369.674 123.71,369.674 124.9,369.674 126.089,369.674 127.279,369.674 128.469,369.674 129.659,369.674 130.849,369.674 \n",
       "  132.038,369.674 133.228,369.674 134.418,369.674 135.608,369.674 136.798,369.674 137.987,369.674 139.177,369.674 140.367,369.674 141.557,369.674 142.747,369.674 \n",
       "  143.937,369.674 145.126,369.674 146.316,369.674 147.506,369.674 148.696,369.674 149.886,369.674 151.075,369.674 152.265,369.674 153.455,369.674 154.645,369.674 \n",
       "  155.835,369.674 157.024,369.674 158.214,369.674 159.404,369.674 160.594,369.674 161.784,369.674 162.973,369.674 164.163,369.674 165.353,369.674 166.543,369.674 \n",
       "  167.733,369.674 168.922,369.674 170.112,369.674 171.302,369.674 172.492,369.674 173.682,369.674 174.871,369.674 176.061,369.674 177.251,369.674 178.441,369.674 \n",
       "  179.631,369.674 180.821,369.674 182.01,369.674 183.2,369.674 184.39,369.674 185.58,369.674 186.77,369.674 187.959,369.674 189.149,369.674 190.339,369.674 \n",
       "  191.529,369.674 192.719,369.674 193.908,369.674 195.098,369.674 196.288,369.674 197.478,369.674 198.668,369.674 199.857,369.674 201.047,369.674 202.237,369.674 \n",
       "  203.427,369.674 204.617,369.674 205.806,369.674 206.996,369.674 208.186,369.674 209.376,369.674 210.566,369.674 211.755,369.674 212.945,369.674 214.135,369.674 \n",
       "  215.325,369.674 216.515,369.674 217.705,369.674 218.894,369.674 220.084,369.674 221.274,369.674 222.464,369.674 223.654,369.674 224.843,369.674 226.033,369.674 \n",
       "  227.223,369.674 228.413,369.674 229.603,369.674 230.792,369.674 231.982,369.674 233.172,369.673 234.362,369.673 235.552,369.673 236.741,369.673 237.931,369.673 \n",
       "  239.121,369.673 240.311,369.673 241.501,369.673 242.69,369.673 243.88,369.673 245.07,369.673 246.26,369.673 247.45,369.673 248.639,369.673 249.829,369.673 \n",
       "  251.019,369.673 252.209,369.673 253.399,369.673 254.589,369.673 255.778,369.673 256.968,369.672 258.158,369.672 259.348,369.672 260.538,369.672 261.727,369.672 \n",
       "  262.917,369.672 264.107,369.672 265.297,369.672 266.487,369.672 267.676,369.672 268.866,369.671 270.056,369.671 271.246,369.671 272.436,369.671 273.625,369.671 \n",
       "  274.815,369.671 276.005,369.67 277.195,369.67 278.385,369.67 279.574,369.67 280.764,369.67 281.954,369.669 283.144,369.669 284.334,369.669 285.523,369.669 \n",
       "  286.713,369.668 287.903,369.668 289.093,369.668 290.283,369.667 291.473,369.667 292.662,369.667 293.852,369.666 295.042,369.666 296.232,369.665 297.422,369.665 \n",
       "  298.611,369.665 299.801,369.664 300.991,369.664 302.181,369.663 303.371,369.662 304.56,369.662 305.75,369.661 306.94,369.661 308.13,369.66 309.32,369.659 \n",
       "  310.509,369.658 311.699,369.658 312.889,369.657 314.079,369.656 315.269,369.655 316.458,369.654 317.648,369.653 318.838,369.652 320.028,369.651 321.218,369.649 \n",
       "  322.407,369.648 323.597,369.647 324.787,369.645 325.977,369.644 327.167,369.642 328.357,369.641 329.546,369.639 330.736,369.637 331.926,369.635 333.116,369.633 \n",
       "  334.306,369.631 335.495,369.629 336.685,369.627 337.875,369.624 339.065,369.622 340.255,369.619 341.444,369.616 342.634,369.613 343.824,369.61 345.014,369.607 \n",
       "  346.204,369.604 347.393,369.6 348.583,369.596 349.773,369.592 350.963,369.588 352.153,369.584 353.342,369.579 354.532,369.574 355.722,369.569 356.912,369.564 \n",
       "  358.102,369.558 359.291,369.552 360.481,369.546 361.671,369.539 362.861,369.532 364.051,369.525 365.241,369.517 366.43,369.509 367.62,369.501 368.81,369.492 \n",
       "  370,369.483 371.19,369.473 372.379,369.462 373.569,369.452 374.759,369.44 375.949,369.428 377.139,369.416 378.328,369.402 379.518,369.388 380.708,369.374 \n",
       "  381.898,369.358 383.088,369.342 384.277,369.325 385.467,369.307 386.657,369.288 387.847,369.269 389.037,369.248 390.226,369.226 391.416,369.203 392.606,369.179 \n",
       "  393.796,369.153 394.986,369.127 396.175,369.099 397.365,369.069 398.555,369.038 399.745,369.006 400.935,368.971 402.125,368.935 403.314,368.897 404.504,368.858 \n",
       "  405.694,368.816 406.884,368.772 408.074,368.725 409.263,368.677 410.453,368.626 411.643,368.572 412.833,368.515 414.023,368.456 415.212,368.394 416.402,368.328 \n",
       "  417.592,368.259 418.782,368.186 419.972,368.11 421.161,368.03 422.351,367.946 423.541,367.857 424.731,367.764 425.921,367.666 427.11,367.563 428.3,367.455 \n",
       "  429.49,367.341 430.68,367.221 431.87,367.095 433.059,366.963 434.249,366.824 435.439,366.678 436.629,366.524 437.819,366.363 439.009,366.193 440.198,366.015 \n",
       "  441.388,365.827 442.578,365.63 443.768,365.423 444.958,365.205 446.147,364.975 447.337,364.735 448.527,364.481 449.717,364.215 450.907,363.935 452.096,363.641 \n",
       "  453.286,363.332 454.476,363.006 455.666,362.664 456.856,362.305 458.045,361.927 459.235,361.53 460.425,361.113 461.615,360.674 462.805,360.212 463.994,359.727 \n",
       "  465.184,359.217 466.374,358.681 467.564,358.117 468.754,357.525 469.943,356.902 471.133,356.247 472.323,355.558 473.513,354.835 474.703,354.074 475.893,353.274 \n",
       "  477.082,352.433 478.272,351.549 479.462,350.62 480.652,349.643 481.842,348.616 483.031,347.536 484.221,346.401 485.411,345.208 486.601,343.954 487.791,342.635 \n",
       "  488.98,341.249 490.17,339.791 491.36,338.259 492.55,336.648 493.74,334.955 494.929,333.175 496.119,331.304 497.309,329.337 498.499,327.268 499.689,325.094 \n",
       "  500.878,322.808 502.068,320.406 503.258,317.88 504.448,315.224 505.638,312.432 506.828,309.497 508.017,306.412 509.207,303.169 510.397,299.759 511.587,296.174 \n",
       "  512.777,292.406 513.966,288.444 515.156,284.279 516.346,279.901 517.536,275.298 518.726,270.46 519.915,265.373 521.105,260.025 522.295,254.403 523.485,248.493 \n",
       "  524.675,242.28 525.864,235.749 527.054,228.882 528.244,221.663 529.434,214.075 530.624,206.097 531.813,197.71 533.003,188.893 534.193,179.625 535.383,169.881 \n",
       "  536.573,159.637 537.762,148.868 538.952,137.547 540.142,125.646 541.332,113.134 542.522,99.9811 543.712,86.1537 544.901,71.6173 546.091,56.3356 547.281,40.2703 \n",
       "  548.471,23.3815 \n",
       "  \"/>\n",
       "<polyline clip-path=\"url(#clip02)\" style=\"stroke:#e9746a; stroke-width:0.8; stroke-opacity:1; fill:none\" points=\"\n",
       "  120.14,369.671 121.33,369.671 122.52,369.672 123.71,369.672 124.9,369.672 126.089,369.672 127.279,369.672 128.469,369.673 129.659,369.673 130.849,369.673 \n",
       "  132.038,369.673 133.228,369.673 134.418,369.673 135.608,369.673 136.798,369.673 137.987,369.674 139.177,369.674 140.367,369.674 141.557,369.674 142.747,369.674 \n",
       "  143.937,369.674 145.126,369.674 146.316,369.674 147.506,369.674 148.696,369.674 149.886,369.674 151.075,369.674 152.265,369.674 153.455,369.674 154.645,369.674 \n",
       "  155.835,369.674 157.024,369.674 158.214,369.674 159.404,369.674 160.594,369.674 161.784,369.674 162.973,369.674 164.163,369.674 165.353,369.674 166.543,369.674 \n",
       "  167.733,369.674 168.922,369.674 170.112,369.674 171.302,369.674 172.492,369.674 173.682,369.674 174.871,369.674 176.061,369.674 177.251,369.674 178.441,369.674 \n",
       "  179.631,369.674 180.821,369.674 182.01,369.674 183.2,369.674 184.39,369.674 185.58,369.674 186.77,369.674 187.959,369.674 189.149,369.674 190.339,369.674 \n",
       "  191.529,369.674 192.719,369.674 193.908,369.674 195.098,369.674 196.288,369.674 197.478,369.674 198.668,369.674 199.857,369.674 201.047,369.674 202.237,369.674 \n",
       "  203.427,369.674 204.617,369.674 205.806,369.674 206.996,369.674 208.186,369.674 209.376,369.674 210.566,369.674 211.755,369.674 212.945,369.674 214.135,369.674 \n",
       "  215.325,369.674 216.515,369.674 217.705,369.674 218.894,369.674 220.084,369.674 221.274,369.674 222.464,369.674 223.654,369.674 224.843,369.674 226.033,369.674 \n",
       "  227.223,369.674 228.413,369.674 229.603,369.674 230.792,369.674 231.982,369.674 233.172,369.673 234.362,369.673 235.552,369.673 236.741,369.673 237.931,369.673 \n",
       "  239.121,369.673 240.311,369.673 241.501,369.673 242.69,369.673 243.88,369.673 245.07,369.673 246.26,369.673 247.45,369.673 248.639,369.673 249.829,369.673 \n",
       "  251.019,369.673 252.209,369.673 253.399,369.673 254.589,369.673 255.778,369.673 256.968,369.672 258.158,369.672 259.348,369.672 260.538,369.672 261.727,369.672 \n",
       "  262.917,369.672 264.107,369.672 265.297,369.672 266.487,369.672 267.676,369.672 268.866,369.671 270.056,369.671 271.246,369.671 272.436,369.671 273.625,369.671 \n",
       "  274.815,369.671 276.005,369.67 277.195,369.67 278.385,369.67 279.574,369.67 280.764,369.67 281.954,369.669 283.144,369.669 284.334,369.669 285.523,369.669 \n",
       "  286.713,369.668 287.903,369.668 289.093,369.668 290.283,369.667 291.473,369.667 292.662,369.667 293.852,369.666 295.042,369.666 296.232,369.665 297.422,369.665 \n",
       "  298.611,369.665 299.801,369.664 300.991,369.664 302.181,369.663 303.371,369.662 304.56,369.662 305.75,369.661 306.94,369.661 308.13,369.66 309.32,369.659 \n",
       "  310.509,369.658 311.699,369.658 312.889,369.657 314.079,369.656 315.269,369.655 316.458,369.654 317.648,369.653 318.838,369.652 320.028,369.651 321.218,369.649 \n",
       "  322.407,369.648 323.597,369.647 324.787,369.645 325.977,369.644 327.167,369.642 328.357,369.641 329.546,369.639 330.736,369.637 331.926,369.635 333.116,369.633 \n",
       "  334.306,369.631 335.495,369.629 336.685,369.627 337.875,369.624 339.065,369.622 340.255,369.619 341.444,369.616 342.634,369.613 343.824,369.61 345.014,369.607 \n",
       "  346.204,369.604 347.393,369.6 348.583,369.596 349.773,369.592 350.963,369.588 352.153,369.584 353.342,369.579 354.532,369.574 355.722,369.569 356.912,369.564 \n",
       "  358.102,369.558 359.291,369.552 360.481,369.546 361.671,369.539 362.861,369.532 364.051,369.525 365.241,369.517 366.43,369.509 367.62,369.501 368.81,369.492 \n",
       "  370,369.483 371.19,369.473 372.379,369.463 373.569,369.452 374.759,369.44 375.949,369.428 377.139,369.416 378.328,369.403 379.518,369.389 380.708,369.374 \n",
       "  381.898,369.359 383.088,369.343 384.277,369.326 385.467,369.308 386.657,369.289 387.847,369.27 389.037,369.249 390.226,369.228 391.416,369.205 392.606,369.181 \n",
       "  393.796,369.156 394.986,369.129 396.175,369.102 397.365,369.073 398.555,369.042 399.745,369.01 400.935,368.976 402.125,368.941 403.314,368.903 404.504,368.864 \n",
       "  405.694,368.823 406.884,368.78 408.074,368.735 409.263,368.687 410.453,368.638 411.643,368.585 412.833,368.53 414.023,368.472 415.212,368.412 416.402,368.348 \n",
       "  417.592,368.282 418.782,368.212 419.972,368.138 421.161,368.061 422.351,367.98 423.541,367.895 424.731,367.806 425.921,367.713 427.11,367.614 428.3,367.512 \n",
       "  429.49,367.404 430.68,367.291 431.87,367.172 433.059,367.048 434.249,366.917 435.439,366.781 436.629,366.637 437.819,366.487 439.009,366.329 440.198,366.164 \n",
       "  441.388,365.991 442.578,365.81 443.768,365.62 444.958,365.421 446.147,365.212 447.337,364.994 448.527,364.765 449.717,364.525 450.907,364.274 452.096,364.011 \n",
       "  453.286,363.736 454.476,363.448 455.666,363.146 456.856,362.83 458.045,362.5 459.235,362.154 460.425,361.792 461.615,361.413 462.805,361.016 463.994,360.602 \n",
       "  465.184,360.168 466.374,359.714 467.564,359.239 468.754,358.743 469.943,358.224 471.133,357.681 472.323,357.113 473.513,356.52 474.703,355.9 475.893,355.252 \n",
       "  477.082,354.575 478.272,353.867 479.462,353.128 480.652,352.356 481.842,351.549 483.031,350.706 484.221,349.826 485.411,348.906 486.601,347.947 487.791,346.944 \n",
       "  488.98,345.898 490.17,344.806 491.36,343.666 492.55,342.477 493.74,341.236 494.929,339.941 496.119,338.589 497.309,337.18 498.499,335.71 499.689,334.176 \n",
       "  500.878,332.577 502.068,330.91 503.258,329.172 504.448,327.359 505.638,325.47 506.828,323.501 508.017,321.449 509.207,319.311 510.397,317.083 511.587,314.762 \n",
       "  512.777,312.344 513.966,309.825 515.156,307.202 516.346,304.47 517.536,301.626 518.726,298.665 519.915,295.582 521.105,292.372 522.295,289.032 523.485,285.556 \n",
       "  524.675,281.938 525.864,278.174 527.054,274.259 528.244,270.185 529.434,265.948 530.624,261.541 531.813,256.958 533.003,252.192 534.193,247.237 535.383,242.086 \n",
       "  536.573,236.732 537.762,231.166 538.952,225.382 540.142,219.371 541.332,213.125 542.522,206.636 543.712,199.895 544.901,192.892 546.091,185.619 547.281,178.065 \n",
       "  548.471,170.222 \n",
       "  \"/>\n",
       "<polygon clip-path=\"url(#clip00)\" points=\"\n",
       "387.302,89.6215 578.063,89.6215 578.063,44.2615 387.302,44.2615 \n",
       "  \" fill=\"#ffffff\" fill-opacity=\"1\"/>\n",
       "<polyline clip-path=\"url(#clip00)\" style=\"stroke:#00002d; stroke-width:0.8; stroke-opacity:1; fill:none\" points=\"\n",
       "  387.302,89.6215 578.063,89.6215 578.063,44.2615 387.302,44.2615 387.302,89.6215 \n",
       "  \"/>\n",
       "<polyline clip-path=\"url(#clip00)\" style=\"stroke:#0099ff; stroke-width:0.8; stroke-opacity:1; fill:none\" points=\"\n",
       "  393.302,59.3815 429.302,59.3815 \n",
       "  \"/>\n",
       "<g clip-path=\"url(#clip00)\">\n",
       "<text style=\"fill:#00002d; fill-opacity:1; font-family:Arial,Helvetica Neue,Helvetica,sans-serif; font-size:12; text-anchor:start;\" transform=\"rotate(0, 435.302, 63.8815)\" x=\"435.302\" y=\"63.8815\">funcion real</text>\n",
       "</g>\n",
       "<polyline clip-path=\"url(#clip00)\" style=\"stroke:#e9746a; stroke-width:0.8; stroke-opacity:1; fill:none\" points=\"\n",
       "  393.302,74.5015 429.302,74.5015 \n",
       "  \"/>\n",
       "<g clip-path=\"url(#clip00)\">\n",
       "<text style=\"fill:#00002d; fill-opacity:1; font-family:Arial,Helvetica Neue,Helvetica,sans-serif; font-size:12; text-anchor:start;\" transform=\"rotate(0, 435.302, 79.0015)\" x=\"435.302\" y=\"79.0015\">aproximacion para n= 12</text>\n",
       "</g>\n",
       "</svg>\n"
      ]
     },
     "execution_count": 9,
     "metadata": {
      "comm_id": "0e5edbef-008b-4ff3-8dc6-06cb7885df5a",
      "reactive": true
     },
     "output_type": "execute_result"
    }
   ],
   "source": [
    "#[7]\n",
    "A=-6:.05:12\n",
    "@manipulate for n in 5:20\n",
    "    plot(A,[e^x for x in A],label=\"funcion real\",xlim=(A[1] -2,A[end]+2),title=\"comparacion para distintos n\",ylabel=\"e^x\",xlabel=\"x\")\n",
    "    plot!(A,[exponencial(x,n) for x in A],label= \"aproximacion para n= $n\")\n",
    "end"
   ]
  },
  {
   "cell_type": "code",
   "execution_count": 10,
   "metadata": {
    "collapsed": false
   },
   "outputs": [
    {
     "data": {
      "text/html": [
       "<?xml version=\"1.0\" encoding=\"utf-8\"?>\n",
       "<svg xmlns=\"http://www.w3.org/2000/svg\" xmlns:xlink=\"http://www.w3.org/1999/xlink\" width=\"600\" height=\"400\" viewBox=\"0 0 600 400\">\n",
       "<defs>\n",
       "  <clipPath id=\"clip00\">\n",
       "    <rect x=\"0\" y=\"0\" width=\"600\" height=\"400\"/>\n",
       "  </clipPath>\n",
       "</defs>\n",
       "<polygon clip-path=\"url(#clip00)\" points=\"\n",
       "0,400 600,400 600,0 0,0 \n",
       "  \" fill=\"#ffffff\" fill-opacity=\"1\"/>\n",
       "<defs>\n",
       "  <clipPath id=\"clip01\">\n",
       "    <rect x=\"120\" y=\"0\" width=\"421\" height=\"400\"/>\n",
       "  </clipPath>\n",
       "</defs>\n",
       "<polygon clip-path=\"url(#clip00)\" points=\"\n",
       "72.5481,369.674 596.063,369.674 596.063,23.3815 72.5481,23.3815 \n",
       "  \" fill=\"#ffffff\" fill-opacity=\"1\"/>\n",
       "<defs>\n",
       "  <clipPath id=\"clip02\">\n",
       "    <rect x=\"72\" y=\"23\" width=\"524\" height=\"347\"/>\n",
       "  </clipPath>\n",
       "</defs>\n",
       "<polyline clip-path=\"url(#clip02)\" style=\"stroke:#00002d; stroke-width:0.8; stroke-opacity:0.5; fill:none\" stroke-dasharray=\"1, 2\" points=\"\n",
       "  210.835,364.48 210.835,28.5758 \n",
       "  \"/>\n",
       "<polyline clip-path=\"url(#clip02)\" style=\"stroke:#00002d; stroke-width:0.8; stroke-opacity:0.5; fill:none\" stroke-dasharray=\"1, 2\" points=\"\n",
       "  457.776,364.48 457.776,28.5758 \n",
       "  \"/>\n",
       "<polyline clip-path=\"url(#clip02)\" style=\"stroke:#00002d; stroke-width:0.8; stroke-opacity:0.5; fill:none\" stroke-dasharray=\"1, 2\" points=\"\n",
       "  80.4008,289.173 588.21,289.173 \n",
       "  \"/>\n",
       "<polyline clip-path=\"url(#clip02)\" style=\"stroke:#00002d; stroke-width:0.8; stroke-opacity:0.5; fill:none\" stroke-dasharray=\"1, 2\" points=\"\n",
       "  80.4008,167.003 588.21,167.003 \n",
       "  \"/>\n",
       "<polyline clip-path=\"url(#clip02)\" style=\"stroke:#00002d; stroke-width:0.8; stroke-opacity:0.5; fill:none\" stroke-dasharray=\"1, 2\" points=\"\n",
       "  80.4008,44.8327 588.21,44.8327 \n",
       "  \"/>\n",
       "<polyline clip-path=\"url(#clip02)\" style=\"stroke:#00002d; stroke-width:0.8; stroke-opacity:1; fill:none\" points=\"\n",
       "  72.5481,369.674 596.063,369.674 \n",
       "  \"/>\n",
       "<polyline clip-path=\"url(#clip02)\" style=\"stroke:#00002d; stroke-width:0.8; stroke-opacity:1; fill:none\" points=\"\n",
       "  210.835,369.674 210.835,364.48 \n",
       "  \"/>\n",
       "<polyline clip-path=\"url(#clip02)\" style=\"stroke:#00002d; stroke-width:0.8; stroke-opacity:1; fill:none\" points=\"\n",
       "  457.776,369.674 457.776,364.48 \n",
       "  \"/>\n",
       "<polyline clip-path=\"url(#clip02)\" style=\"stroke:#00002d; stroke-width:0.8; stroke-opacity:1; fill:none\" points=\"\n",
       "  72.5481,369.674 72.5481,23.3815 \n",
       "  \"/>\n",
       "<polyline clip-path=\"url(#clip02)\" style=\"stroke:#00002d; stroke-width:0.8; stroke-opacity:1; fill:none\" points=\"\n",
       "  72.5481,289.173 80.4008,289.173 \n",
       "  \"/>\n",
       "<polyline clip-path=\"url(#clip02)\" style=\"stroke:#00002d; stroke-width:0.8; stroke-opacity:1; fill:none\" points=\"\n",
       "  72.5481,167.003 80.4008,167.003 \n",
       "  \"/>\n",
       "<polyline clip-path=\"url(#clip02)\" style=\"stroke:#00002d; stroke-width:0.8; stroke-opacity:1; fill:none\" points=\"\n",
       "  72.5481,44.8327 80.4008,44.8327 \n",
       "  \"/>\n",
       "<g clip-path=\"url(#clip00)\">\n",
       "<text style=\"fill:#00002d; fill-opacity:1; font-family:Arial,Helvetica Neue,Helvetica,sans-serif; font-size:12; text-anchor:middle;\" transform=\"rotate(0, 210.835, 381.674)\" x=\"210.835\" y=\"381.674\">10</text>\n",
       "</g>\n",
       "<g clip-path=\"url(#clip00)\">\n",
       "<text style=\"fill:#00002d; fill-opacity:1; font-family:Arial,Helvetica Neue,Helvetica,sans-serif; font-size:12; text-anchor:middle;\" transform=\"rotate(0, 457.776, 381.674)\" x=\"457.776\" y=\"381.674\">20</text>\n",
       "</g>\n",
       "<g clip-path=\"url(#clip00)\">\n",
       "<text style=\"fill:#00002d; fill-opacity:1; font-family:Arial,Helvetica Neue,Helvetica,sans-serif; font-size:12; text-anchor:start;\" transform=\"rotate(0, 41.837, 295.105)\" x=\"41.837\" y=\"295.105\">10</text>\n",
       "</g>\n",
       "<g clip-path=\"url(#clip00)\">\n",
       "<text style=\"fill:#00002d; fill-opacity:1; font-family:Arial,Helvetica Neue,Helvetica,sans-serif; font-size:10; text-anchor:start;\" transform=\"rotate(0, 55.0163, 288.252)\" x=\"55.0163\" y=\"288.252\">-</text>\n",
       "</g>\n",
       "<g clip-path=\"url(#clip00)\">\n",
       "<text style=\"fill:#00002d; fill-opacity:1; font-family:Arial,Helvetica Neue,Helvetica,sans-serif; font-size:10; text-anchor:start;\" transform=\"rotate(0, 60.64, 288.252)\" x=\"60.64\" y=\"288.252\">20</text>\n",
       "</g>\n",
       "<g clip-path=\"url(#clip00)\">\n",
       "<text style=\"fill:#00002d; fill-opacity:1; font-family:Arial,Helvetica Neue,Helvetica,sans-serif; font-size:12; text-anchor:start;\" transform=\"rotate(0, 41.837, 172.935)\" x=\"41.837\" y=\"172.935\">10</text>\n",
       "</g>\n",
       "<g clip-path=\"url(#clip00)\">\n",
       "<text style=\"fill:#00002d; fill-opacity:1; font-family:Arial,Helvetica Neue,Helvetica,sans-serif; font-size:10; text-anchor:start;\" transform=\"rotate(0, 55.0163, 166.082)\" x=\"55.0163\" y=\"166.082\">-</text>\n",
       "</g>\n",
       "<g clip-path=\"url(#clip00)\">\n",
       "<text style=\"fill:#00002d; fill-opacity:1; font-family:Arial,Helvetica Neue,Helvetica,sans-serif; font-size:10; text-anchor:start;\" transform=\"rotate(0, 60.64, 166.082)\" x=\"60.64\" y=\"166.082\">10</text>\n",
       "</g>\n",
       "<g clip-path=\"url(#clip00)\">\n",
       "<text style=\"fill:#00002d; fill-opacity:1; font-family:Arial,Helvetica Neue,Helvetica,sans-serif; font-size:12; text-anchor:start;\" transform=\"rotate(0, 52.8148, 50.7646)\" x=\"52.8148\" y=\"50.7646\">10</text>\n",
       "</g>\n",
       "<g clip-path=\"url(#clip00)\">\n",
       "<text style=\"fill:#00002d; fill-opacity:1; font-family:Arial,Helvetica Neue,Helvetica,sans-serif; font-size:10; text-anchor:start;\" transform=\"rotate(0, 65.994, 43.912)\" x=\"65.994\" y=\"43.912\">0</text>\n",
       "</g>\n",
       "<g clip-path=\"url(#clip00)\">\n",
       "<text style=\"fill:#00002d; fill-opacity:1; font-family:Arial,Helvetica Neue,Helvetica,sans-serif; font-size:21; text-anchor:middle;\" transform=\"rotate(0, 334.306, 18)\" x=\"334.306\" y=\"18\">aproximacion como función de n</text>\n",
       "</g>\n",
       "<g clip-path=\"url(#clip00)\">\n",
       "<text style=\"fill:#00002d; fill-opacity:1; font-family:Arial,Helvetica Neue,Helvetica,sans-serif; font-size:16; text-anchor:middle;\" transform=\"rotate(0, 334.306, 397.6)\" x=\"334.306\" y=\"397.6\">n</text>\n",
       "</g>\n",
       "<g clip-path=\"url(#clip00)\">\n",
       "<text style=\"fill:#00002d; fill-opacity:1; font-family:Arial,Helvetica Neue,Helvetica,sans-serif; font-size:16; text-anchor:start;\" transform=\"rotate(-90, 21.6587, 275.697)\" x=\"21.6587\" y=\"275.697\">e</text>\n",
       "</g>\n",
       "<g clip-path=\"url(#clip00)\">\n",
       "<text style=\"fill:#00002d; fill-opacity:1; font-family:Arial,Helvetica Neue,Helvetica,sans-serif; font-size:14; text-anchor:start;\" transform=\"rotate(-90, 12.2364, 266.636)\" x=\"12.2364\" y=\"266.636\">x</text>\n",
       "</g>\n",
       "<g clip-path=\"url(#clip00)\">\n",
       "<text style=\"fill:#00002d; fill-opacity:1; font-family:Arial,Helvetica Neue,Helvetica,sans-serif; font-size:16; text-anchor:start;\" transform=\"rotate(-90, 21.6587, 260.016)\" x=\"21.6587\" y=\"260.016\"> - exponencial (x,n)</text>\n",
       "</g>\n",
       "<circle clip-path=\"url(#clip02)\" style=\"fill:#00002d; stroke:none; fill-opacity:0.6\" cx=\"87.3646\" cy=\"78.94\" r=\"3\"/>\n",
       "<circle clip-path=\"url(#clip02)\" style=\"fill:#0099ff; stroke:none; fill-opacity:0.6\" cx=\"87.3646\" cy=\"78.94\" r=\"2\"/>\n",
       "<circle clip-path=\"url(#clip02)\" style=\"fill:#00002d; stroke:none; fill-opacity:0.6\" cx=\"112.059\" cy=\"89.3682\" r=\"3\"/>\n",
       "<circle clip-path=\"url(#clip02)\" style=\"fill:#0099ff; stroke:none; fill-opacity:0.6\" cx=\"112.059\" cy=\"89.3682\" r=\"2\"/>\n",
       "<circle clip-path=\"url(#clip02)\" style=\"fill:#00002d; stroke:none; fill-opacity:0.6\" cx=\"136.753\" cy=\"100.481\" r=\"3\"/>\n",
       "<circle clip-path=\"url(#clip02)\" style=\"fill:#0099ff; stroke:none; fill-opacity:0.6\" cx=\"136.753\" cy=\"100.481\" r=\"2\"/>\n",
       "<circle clip-path=\"url(#clip02)\" style=\"fill:#00002d; stroke:none; fill-opacity:0.6\" cx=\"161.447\" cy=\"112.203\" r=\"3\"/>\n",
       "<circle clip-path=\"url(#clip02)\" style=\"fill:#0099ff; stroke:none; fill-opacity:0.6\" cx=\"161.447\" cy=\"112.203\" r=\"2\"/>\n",
       "<circle clip-path=\"url(#clip02)\" style=\"fill:#00002d; stroke:none; fill-opacity:0.6\" cx=\"186.141\" cy=\"124.472\" r=\"3\"/>\n",
       "<circle clip-path=\"url(#clip02)\" style=\"fill:#0099ff; stroke:none; fill-opacity:0.6\" cx=\"186.141\" cy=\"124.472\" r=\"2\"/>\n",
       "<circle clip-path=\"url(#clip02)\" style=\"fill:#00002d; stroke:none; fill-opacity:0.6\" cx=\"210.835\" cy=\"137.238\" r=\"3\"/>\n",
       "<circle clip-path=\"url(#clip02)\" style=\"fill:#0099ff; stroke:none; fill-opacity:0.6\" cx=\"210.835\" cy=\"137.238\" r=\"2\"/>\n",
       "<circle clip-path=\"url(#clip02)\" style=\"fill:#00002d; stroke:none; fill-opacity:0.6\" cx=\"235.529\" cy=\"150.458\" r=\"3\"/>\n",
       "<circle clip-path=\"url(#clip02)\" style=\"fill:#0099ff; stroke:none; fill-opacity:0.6\" cx=\"235.529\" cy=\"150.458\" r=\"2\"/>\n",
       "<circle clip-path=\"url(#clip02)\" style=\"fill:#00002d; stroke:none; fill-opacity:0.6\" cx=\"260.223\" cy=\"164.098\" r=\"3\"/>\n",
       "<circle clip-path=\"url(#clip02)\" style=\"fill:#0099ff; stroke:none; fill-opacity:0.6\" cx=\"260.223\" cy=\"164.098\" r=\"2\"/>\n",
       "<circle clip-path=\"url(#clip02)\" style=\"fill:#00002d; stroke:none; fill-opacity:0.6\" cx=\"284.917\" cy=\"178.127\" r=\"3\"/>\n",
       "<circle clip-path=\"url(#clip02)\" style=\"fill:#0099ff; stroke:none; fill-opacity:0.6\" cx=\"284.917\" cy=\"178.127\" r=\"2\"/>\n",
       "<circle clip-path=\"url(#clip02)\" style=\"fill:#00002d; stroke:none; fill-opacity:0.6\" cx=\"309.611\" cy=\"192.519\" r=\"3\"/>\n",
       "<circle clip-path=\"url(#clip02)\" style=\"fill:#0099ff; stroke:none; fill-opacity:0.6\" cx=\"309.611\" cy=\"192.519\" r=\"2\"/>\n",
       "<circle clip-path=\"url(#clip02)\" style=\"fill:#00002d; stroke:none; fill-opacity:0.6\" cx=\"334.306\" cy=\"207.25\" r=\"3\"/>\n",
       "<circle clip-path=\"url(#clip02)\" style=\"fill:#0099ff; stroke:none; fill-opacity:0.6\" cx=\"334.306\" cy=\"207.25\" r=\"2\"/>\n",
       "<circle clip-path=\"url(#clip02)\" style=\"fill:#00002d; stroke:none; fill-opacity:0.6\" cx=\"359\" cy=\"222.301\" r=\"3\"/>\n",
       "<circle clip-path=\"url(#clip02)\" style=\"fill:#0099ff; stroke:none; fill-opacity:0.6\" cx=\"359\" cy=\"222.301\" r=\"2\"/>\n",
       "<circle clip-path=\"url(#clip02)\" style=\"fill:#00002d; stroke:none; fill-opacity:0.6\" cx=\"383.694\" cy=\"237.653\" r=\"3\"/>\n",
       "<circle clip-path=\"url(#clip02)\" style=\"fill:#0099ff; stroke:none; fill-opacity:0.6\" cx=\"383.694\" cy=\"237.653\" r=\"2\"/>\n",
       "<circle clip-path=\"url(#clip02)\" style=\"fill:#00002d; stroke:none; fill-opacity:0.6\" cx=\"408.388\" cy=\"253.29\" r=\"3\"/>\n",
       "<circle clip-path=\"url(#clip02)\" style=\"fill:#0099ff; stroke:none; fill-opacity:0.6\" cx=\"408.388\" cy=\"253.29\" r=\"2\"/>\n",
       "<circle clip-path=\"url(#clip02)\" style=\"fill:#00002d; stroke:none; fill-opacity:0.6\" cx=\"433.082\" cy=\"269.198\" r=\"3\"/>\n",
       "<circle clip-path=\"url(#clip02)\" style=\"fill:#0099ff; stroke:none; fill-opacity:0.6\" cx=\"433.082\" cy=\"269.198\" r=\"2\"/>\n",
       "<circle clip-path=\"url(#clip02)\" style=\"fill:#00002d; stroke:none; fill-opacity:0.6\" cx=\"457.776\" cy=\"285.364\" r=\"3\"/>\n",
       "<circle clip-path=\"url(#clip02)\" style=\"fill:#0099ff; stroke:none; fill-opacity:0.6\" cx=\"457.776\" cy=\"285.364\" r=\"2\"/>\n",
       "<circle clip-path=\"url(#clip02)\" style=\"fill:#00002d; stroke:none; fill-opacity:0.6\" cx=\"482.47\" cy=\"301.775\" r=\"3\"/>\n",
       "<circle clip-path=\"url(#clip02)\" style=\"fill:#0099ff; stroke:none; fill-opacity:0.6\" cx=\"482.47\" cy=\"301.775\" r=\"2\"/>\n",
       "<circle clip-path=\"url(#clip02)\" style=\"fill:#00002d; stroke:none; fill-opacity:0.6\" cx=\"507.164\" cy=\"318.421\" r=\"3\"/>\n",
       "<circle clip-path=\"url(#clip02)\" style=\"fill:#0099ff; stroke:none; fill-opacity:0.6\" cx=\"507.164\" cy=\"318.421\" r=\"2\"/>\n",
       "<circle clip-path=\"url(#clip02)\" style=\"fill:#00002d; stroke:none; fill-opacity:0.6\" cx=\"531.858\" cy=\"335.292\" r=\"3\"/>\n",
       "<circle clip-path=\"url(#clip02)\" style=\"fill:#0099ff; stroke:none; fill-opacity:0.6\" cx=\"531.858\" cy=\"335.292\" r=\"2\"/>\n",
       "<circle clip-path=\"url(#clip02)\" style=\"fill:#00002d; stroke:none; fill-opacity:0.6\" cx=\"556.552\" cy=\"352.38\" r=\"3\"/>\n",
       "<circle clip-path=\"url(#clip02)\" style=\"fill:#0099ff; stroke:none; fill-opacity:0.6\" cx=\"556.552\" cy=\"352.38\" r=\"2\"/>\n",
       "<circle clip-path=\"url(#clip02)\" style=\"fill:#00002d; stroke:none; fill-opacity:0.6\" cx=\"581.247\" cy=\"369.674\" r=\"3\"/>\n",
       "<circle clip-path=\"url(#clip02)\" style=\"fill:#0099ff; stroke:none; fill-opacity:0.6\" cx=\"581.247\" cy=\"369.674\" r=\"2\"/>\n",
       "<circle clip-path=\"url(#clip02)\" style=\"fill:#00002d; stroke:none; fill-opacity:0.6\" cx=\"87.3646\" cy=\"23.3815\" r=\"3\"/>\n",
       "<circle clip-path=\"url(#clip02)\" style=\"fill:#e9746a; stroke:none; fill-opacity:0.6\" cx=\"87.3646\" cy=\"23.3815\" r=\"2\"/>\n",
       "<circle clip-path=\"url(#clip02)\" style=\"fill:#00002d; stroke:none; fill-opacity:0.6\" cx=\"112.059\" cy=\"25.9242\" r=\"3\"/>\n",
       "<circle clip-path=\"url(#clip02)\" style=\"fill:#e9746a; stroke:none; fill-opacity:0.6\" cx=\"112.059\" cy=\"25.9242\" r=\"2\"/>\n",
       "<circle clip-path=\"url(#clip02)\" style=\"fill:#00002d; stroke:none; fill-opacity:0.6\" cx=\"136.753\" cy=\"28.9929\" r=\"3\"/>\n",
       "<circle clip-path=\"url(#clip02)\" style=\"fill:#e9746a; stroke:none; fill-opacity:0.6\" cx=\"136.753\" cy=\"28.9929\" r=\"2\"/>\n",
       "<circle clip-path=\"url(#clip02)\" style=\"fill:#00002d; stroke:none; fill-opacity:0.6\" cx=\"161.447\" cy=\"32.5597\" r=\"3\"/>\n",
       "<circle clip-path=\"url(#clip02)\" style=\"fill:#e9746a; stroke:none; fill-opacity:0.6\" cx=\"161.447\" cy=\"32.5597\" r=\"2\"/>\n",
       "<circle clip-path=\"url(#clip02)\" style=\"fill:#00002d; stroke:none; fill-opacity:0.6\" cx=\"186.141\" cy=\"36.595\" r=\"3\"/>\n",
       "<circle clip-path=\"url(#clip02)\" style=\"fill:#e9746a; stroke:none; fill-opacity:0.6\" cx=\"186.141\" cy=\"36.595\" r=\"2\"/>\n",
       "<circle clip-path=\"url(#clip02)\" style=\"fill:#00002d; stroke:none; fill-opacity:0.6\" cx=\"210.835\" cy=\"41.0693\" r=\"3\"/>\n",
       "<circle clip-path=\"url(#clip02)\" style=\"fill:#e9746a; stroke:none; fill-opacity:0.6\" cx=\"210.835\" cy=\"41.0693\" r=\"2\"/>\n",
       "<circle clip-path=\"url(#clip02)\" style=\"fill:#00002d; stroke:none; fill-opacity:0.6\" cx=\"235.529\" cy=\"45.9552\" r=\"3\"/>\n",
       "<circle clip-path=\"url(#clip02)\" style=\"fill:#e9746a; stroke:none; fill-opacity:0.6\" cx=\"235.529\" cy=\"45.9552\" r=\"2\"/>\n",
       "<circle clip-path=\"url(#clip02)\" style=\"fill:#00002d; stroke:none; fill-opacity:0.6\" cx=\"260.223\" cy=\"51.2274\" r=\"3\"/>\n",
       "<circle clip-path=\"url(#clip02)\" style=\"fill:#e9746a; stroke:none; fill-opacity:0.6\" cx=\"260.223\" cy=\"51.2274\" r=\"2\"/>\n",
       "<circle clip-path=\"url(#clip02)\" style=\"fill:#00002d; stroke:none; fill-opacity:0.6\" cx=\"284.917\" cy=\"56.8625\" r=\"3\"/>\n",
       "<circle clip-path=\"url(#clip02)\" style=\"fill:#e9746a; stroke:none; fill-opacity:0.6\" cx=\"284.917\" cy=\"56.8625\" r=\"2\"/>\n",
       "<circle clip-path=\"url(#clip02)\" style=\"fill:#00002d; stroke:none; fill-opacity:0.6\" cx=\"309.611\" cy=\"62.8397\" r=\"3\"/>\n",
       "<circle clip-path=\"url(#clip02)\" style=\"fill:#e9746a; stroke:none; fill-opacity:0.6\" cx=\"309.611\" cy=\"62.8397\" r=\"2\"/>\n",
       "<circle clip-path=\"url(#clip02)\" style=\"fill:#00002d; stroke:none; fill-opacity:0.6\" cx=\"334.306\" cy=\"69.14\" r=\"3\"/>\n",
       "<circle clip-path=\"url(#clip02)\" style=\"fill:#e9746a; stroke:none; fill-opacity:0.6\" cx=\"334.306\" cy=\"69.14\" r=\"2\"/>\n",
       "<circle clip-path=\"url(#clip02)\" style=\"fill:#00002d; stroke:none; fill-opacity:0.6\" cx=\"359\" cy=\"75.746\" r=\"3\"/>\n",
       "<circle clip-path=\"url(#clip02)\" style=\"fill:#e9746a; stroke:none; fill-opacity:0.6\" cx=\"359\" cy=\"75.746\" r=\"2\"/>\n",
       "<circle clip-path=\"url(#clip02)\" style=\"fill:#00002d; stroke:none; fill-opacity:0.6\" cx=\"383.694\" cy=\"82.6422\" r=\"3\"/>\n",
       "<circle clip-path=\"url(#clip02)\" style=\"fill:#e9746a; stroke:none; fill-opacity:0.6\" cx=\"383.694\" cy=\"82.6422\" r=\"2\"/>\n",
       "<circle clip-path=\"url(#clip02)\" style=\"fill:#00002d; stroke:none; fill-opacity:0.6\" cx=\"408.388\" cy=\"89.8142\" r=\"3\"/>\n",
       "<circle clip-path=\"url(#clip02)\" style=\"fill:#e9746a; stroke:none; fill-opacity:0.6\" cx=\"408.388\" cy=\"89.8142\" r=\"2\"/>\n",
       "<circle clip-path=\"url(#clip02)\" style=\"fill:#00002d; stroke:none; fill-opacity:0.6\" cx=\"433.082\" cy=\"97.2491\" r=\"3\"/>\n",
       "<circle clip-path=\"url(#clip02)\" style=\"fill:#e9746a; stroke:none; fill-opacity:0.6\" cx=\"433.082\" cy=\"97.2491\" r=\"2\"/>\n",
       "<circle clip-path=\"url(#clip02)\" style=\"fill:#00002d; stroke:none; fill-opacity:0.6\" cx=\"457.776\" cy=\"104.935\" r=\"3\"/>\n",
       "<circle clip-path=\"url(#clip02)\" style=\"fill:#e9746a; stroke:none; fill-opacity:0.6\" cx=\"457.776\" cy=\"104.935\" r=\"2\"/>\n",
       "<circle clip-path=\"url(#clip02)\" style=\"fill:#00002d; stroke:none; fill-opacity:0.6\" cx=\"482.47\" cy=\"112.861\" r=\"3\"/>\n",
       "<circle clip-path=\"url(#clip02)\" style=\"fill:#e9746a; stroke:none; fill-opacity:0.6\" cx=\"482.47\" cy=\"112.861\" r=\"2\"/>\n",
       "<circle clip-path=\"url(#clip02)\" style=\"fill:#00002d; stroke:none; fill-opacity:0.6\" cx=\"507.164\" cy=\"121.017\" r=\"3\"/>\n",
       "<circle clip-path=\"url(#clip02)\" style=\"fill:#e9746a; stroke:none; fill-opacity:0.6\" cx=\"507.164\" cy=\"121.017\" r=\"2\"/>\n",
       "<circle clip-path=\"url(#clip02)\" style=\"fill:#00002d; stroke:none; fill-opacity:0.6\" cx=\"531.858\" cy=\"129.393\" r=\"3\"/>\n",
       "<circle clip-path=\"url(#clip02)\" style=\"fill:#e9746a; stroke:none; fill-opacity:0.6\" cx=\"531.858\" cy=\"129.393\" r=\"2\"/>\n",
       "<circle clip-path=\"url(#clip02)\" style=\"fill:#00002d; stroke:none; fill-opacity:0.6\" cx=\"556.552\" cy=\"137.982\" r=\"3\"/>\n",
       "<circle clip-path=\"url(#clip02)\" style=\"fill:#e9746a; stroke:none; fill-opacity:0.6\" cx=\"556.552\" cy=\"137.982\" r=\"2\"/>\n",
       "<circle clip-path=\"url(#clip02)\" style=\"fill:#00002d; stroke:none; fill-opacity:0.6\" cx=\"581.247\" cy=\"146.774\" r=\"3\"/>\n",
       "<circle clip-path=\"url(#clip02)\" style=\"fill:#e9746a; stroke:none; fill-opacity:0.6\" cx=\"581.247\" cy=\"146.774\" r=\"2\"/>\n",
       "<polygon clip-path=\"url(#clip00)\" points=\"\n",
       "498.626,89.6215 578.063,89.6215 578.063,44.2615 498.626,44.2615 \n",
       "  \" fill=\"#ffffff\" fill-opacity=\"1\"/>\n",
       "<polyline clip-path=\"url(#clip00)\" style=\"stroke:#00002d; stroke-width:0.8; stroke-opacity:1; fill:none\" points=\"\n",
       "  498.626,89.6215 578.063,89.6215 578.063,44.2615 498.626,44.2615 498.626,89.6215 \n",
       "  \"/>\n",
       "<circle clip-path=\"url(#clip00)\" style=\"fill:#00002d; stroke:none; fill-opacity:0.6\" cx=\"510.626\" cy=\"59.3815\" r=\"7\"/>\n",
       "<circle clip-path=\"url(#clip00)\" style=\"fill:#0099ff; stroke:none; fill-opacity:0.6\" cx=\"510.626\" cy=\"59.3815\" r=\"7\"/>\n",
       "<circle clip-path=\"url(#clip00)\" style=\"fill:#00002d; stroke:none; fill-opacity:0.6\" cx=\"534.626\" cy=\"59.3815\" r=\"7\"/>\n",
       "<circle clip-path=\"url(#clip00)\" style=\"fill:#0099ff; stroke:none; fill-opacity:0.6\" cx=\"534.626\" cy=\"59.3815\" r=\"7\"/>\n",
       "<g clip-path=\"url(#clip00)\">\n",
       "<text style=\"fill:#00002d; fill-opacity:1; font-family:Arial,Helvetica Neue,Helvetica,sans-serif; font-size:12; text-anchor:start;\" transform=\"rotate(0, 546.626, 63.8815)\" x=\"546.626\" y=\"63.8815\">x=1</text>\n",
       "</g>\n",
       "<circle clip-path=\"url(#clip00)\" style=\"fill:#00002d; stroke:none; fill-opacity:0.6\" cx=\"510.626\" cy=\"74.5015\" r=\"7\"/>\n",
       "<circle clip-path=\"url(#clip00)\" style=\"fill:#e9746a; stroke:none; fill-opacity:0.6\" cx=\"510.626\" cy=\"74.5015\" r=\"7\"/>\n",
       "<circle clip-path=\"url(#clip00)\" style=\"fill:#00002d; stroke:none; fill-opacity:0.6\" cx=\"534.626\" cy=\"74.5015\" r=\"7\"/>\n",
       "<circle clip-path=\"url(#clip00)\" style=\"fill:#e9746a; stroke:none; fill-opacity:0.6\" cx=\"534.626\" cy=\"74.5015\" r=\"7\"/>\n",
       "<g clip-path=\"url(#clip00)\">\n",
       "<text style=\"fill:#00002d; fill-opacity:1; font-family:Arial,Helvetica Neue,Helvetica,sans-serif; font-size:12; text-anchor:start;\" transform=\"rotate(0, 546.626, 79.0015)\" x=\"546.626\" y=\"79.0015\">x=5</text>\n",
       "</g>\n",
       "</svg>\n"
      ]
     },
     "execution_count": 10,
     "metadata": {},
     "output_type": "execute_result"
    }
   ],
   "source": [
    "A=5:25\n",
    "scatter(A,[abs(e-exponencial(1,n)) for n in A],alpha=.6,yscale=:log10,label=\"x=1\",title=\"aproximacion como función de n\",xlabel=\"n\",ylabel=\"(e^x) - exponencial (x,n)\")\n",
    "scatter!(A,[abs(e^5-exponencial(5,n)) for n in A],alpha=.6,label=\"x=5\")"
   ]
  },
  {
   "cell_type": "markdown",
   "metadata": {},
   "source": [
    "#### [7]\n",
    "\n",
    "Podemos observar que , mientras que para $x=1$, nuestra función se acerca mucho al valor de $e$ desde $n \\geq 5$, para $x=5$ necesitamos que $n\\geq15$ para tener una buena aproximación al valor de $e^5$"
   ]
  },
  {
   "cell_type": "code",
   "execution_count": 11,
   "metadata": {
    "collapsed": false
   },
   "outputs": [
    {
     "data": {
      "text/plain": [
       "exponencial2 (generic function with 1 method)"
      ]
     },
     "execution_count": 11,
     "metadata": {},
     "output_type": "execute_result"
    }
   ],
   "source": [
    "function exponencial2(x,tol)\n",
    "    n=1\n",
    "    while abs(exponencial(x,n) - exponencial(x,n+1))>tol\n",
    "        n+=1\n",
    "    end\n",
    "    return (exponencial(x,n),n)\n",
    "end"
   ]
  },
  {
   "cell_type": "code",
   "execution_count": 12,
   "metadata": {
    "collapsed": false
   },
   "outputs": [
    {
     "name": "stdout",
     "output_type": "stream",
     "text": [
      "(1.484131470673818163608575869768520968052112543697351759628002158802653139439201e+02,20)\n",
      "(2.718278769841269841269841269841269841269841269841269841269841269841269841269832,8)\n"
     ]
    }
   ],
   "source": [
    "println(exponencial2(5,1e-5))\n",
    "println(exponencial2(1,1e-5))"
   ]
  },
  {
   "cell_type": "markdown",
   "metadata": {},
   "source": [
    "### [7]\n",
    "\n",
    "Lo observado aquí concuerda con la respuesta de la pregunta (i), los largos valores de n encontrados aquí se deben a la tolerancia requerida."
   ]
  },
  {
   "cell_type": "markdown",
   "metadata": {},
   "source": [
    "[8] Lo que acabamos de hacer es muy ineficiente -- ¿por qué?\n",
    "\n",
    "Una mejor manera de hacerlo es parecido al método de Horner: vamos guardando el valor actual del $i$-ésimo término y lo actualizamos durante el cálculo.\n",
    "\n",
    "(i) Implementa la función exponencial así, hasta que el tamaño del nuevo término sea menor que cierta tolerancia. Verifica que funciona."
   ]
  },
  {
   "cell_type": "code",
   "execution_count": 22,
   "metadata": {
    "collapsed": false
   },
   "outputs": [
    {
     "name": "stderr",
     "output_type": "stream",
     "text": [
      "WARNING: Method definition exponencial3(Any, Any)"
     ]
    },
    {
     "data": {
      "text/plain": [
       "exponencial3 (generic function with 1 method)"
      ]
     },
     "execution_count": 22,
     "metadata": {},
     "output_type": "execute_result"
    },
    {
     "name": "stderr",
     "output_type": "stream",
     "text": [
      " in module Main at In[13]:2 overwritten at In[22]:2.\n"
     ]
    }
   ],
   "source": [
    "function exponencial3(x,tol)\n",
    "    total=1\n",
    "    n=1\n",
    "    nuevo=x\n",
    "    while abs(nuevo)>tol\n",
    "        total+=nuevo\n",
    "        n+=1\n",
    "        nuevo*=x/n\n",
    "    end\n",
    "    return total\n",
    "end"
   ]
  },
  {
   "cell_type": "code",
   "execution_count": null,
   "metadata": {
    "collapsed": false
   },
   "outputs": [],
   "source": []
  },
  {
   "cell_type": "markdown",
   "metadata": {},
   "source": [
    "[9] La función exponencial también sirve para números complejos. En Julia, $i$, la raíz cuadrada de $-1$, se escribe como `im`.\n",
    "\n",
    "(i) Utiliza esto para escribir una función `mi_sin(x)` para calcular $\\sin(x)$."
   ]
  },
  {
   "cell_type": "code",
   "execution_count": 38,
   "metadata": {
    "collapsed": false
   },
   "outputs": [
    {
     "name": "stderr",
     "output_type": "stream",
     "text": [
      "WARNING: Method definition mi_sin("
     ]
    },
    {
     "data": {
      "text/plain": [
       "1.0000035425842861 - 0.0im"
      ]
     },
     "execution_count": 38,
     "metadata": {},
     "output_type": "execute_result"
    },
    {
     "name": "stderr",
     "output_type": "stream",
     "text": [
      "Any, Any) in module Main at In[26]:3 overwritten at In[38]:3.\n"
     ]
    }
   ],
   "source": [
    "#[9]\n",
    "function mi_sin(x,tol)\n",
    "    return ((exponencial3(im*x,tol)-exponencial3(-im*x,tol))/(2*im))\n",
    "end\n",
    "mi_sin(π/2,1e-5)"
   ]
  },
  {
   "cell_type": "markdown",
   "metadata": {},
   "source": [
    "[10] Aunque estamos llevando a cabo cálculos con números de punto flotante, podemos lograr ciertas **garantías** sobre los resultados.\n",
    "\n",
    "(i) Escribe el teorema de Taylor con la forma del término complementario de Lagrange para un polinomio de Taylor $p_2(x)$ de grado 2, con término complementario de orden 3.\n",
    "\n",
    "(ii) Considera la función $\\exp$ en el rango $I = [-\\frac{1}{2}, \\frac{1}{2}]$. Encuentra una cota superior, $d$, para el término complementario en $I$. [Pista: Cuál es el valor máximo del término complementario sobre todo el intervalo?] \n",
    "\n",
    "(iii) Dibuja un \"tubo\" entre $p_2(x) - d$ y $p_2(x) + d$. Esto representa una región en la cual, de forma **garantizada**, cae $\\exp$ dentro del intervalo $I$. Dibuja $\\exp$ encima.\n",
    "\n",
    "[En `Plots.jl`, para rellenar la región entre la función `f` y la función `g`, puedes utilizar `plot(xx, f.(xx), fillrange=g.(xx), alpha=0.3)`, donde `xx` son las coordenadas `xx` de los puntos. Aquí, `alpha` corresponde al grado de transparencia de la región rellenada.]\n",
    "\n",
    "** Opcional: ¿Qué ocurre si haces lo mismo para un grado de polinomio de Taylor superior con su cota correspondiente. Puedes utilizar `@manipulate`."
   ]
  },
  {
   "cell_type": "markdown",
   "metadata": {
    "collapsed": false
   },
   "source": [
    "### [10]\n",
    "\n",
    "$$f(x) =  \\sum_{i=0}^n \\frac{d^{(i)}f}{dx^{(i)}}\\Big|_{x_0} \\frac{(x-x_0)^i}{i!} +R_n =\\sum_{i=0}^n \\frac{d^{(i)}f}{dx^{(i)}}\\Big|_{x_0} \\frac{(x-x_0)^i}{i!} + \\frac{d^{(n+1)}f}{dx^{(n+1)}}\\Big|_{x*} \\frac{(x-x_0)^{(n+1)}}{(n+1)!}$$\n",
    "\n",
    "Para algún $x* \\in (x_0,x)$. Si fijamos la serie en $n=2$, obtenemos de manera explícita la siguiente fórmula:\n",
    "\n",
    "$$f(x)= f(x_0) + \\frac{d^{(1)}f}{dx^{(1)}}\\Big|_{x_0} (x-x_0) +\\frac{d^{(2)}f}{dx^{(2)}}\\Big|_{x_0} \\frac{(x-x_0)^2}{2!} + \\frac{d^{(3)}f}{dx^{(3)}}\\Big|_{x*} \\frac{(x-x_0)^{3}}{3!}$$\n",
    "\n",
    "Utilizando esta fórmula, podemos encontrar un valor máximo para el término complementario para la función $e^x$, si fijamos $x_0=0$, como:\n",
    "\n",
    "$$R_n=e^x\\Big|_{x*} \\frac{x^{3}}{3!}$$\n",
    "\n",
    "Al ser $e^x$ una función estrictamente creciente, entonces, para todos los x en el intervalo $[-\\frac{1}{2},\\frac{1}{2}]$, el término residual alcanzará un valor máximo cuando $x,x*=\\frac{1}{2}$, cuyo valor es de .0343483"
   ]
  },
  {
   "cell_type": "code",
   "execution_count": 40,
   "metadata": {
    "collapsed": false
   },
   "outputs": [
    {
     "data": {
      "text/plain": [
       "0.03434835980625267"
      ]
     },
     "execution_count": 40,
     "metadata": {},
     "output_type": "execute_result"
    }
   ],
   "source": [
    "d=e^(1/2)*((1/2)^3)/6"
   ]
  },
  {
   "cell_type": "code",
   "execution_count": 46,
   "metadata": {
    "collapsed": false
   },
   "outputs": [
    {
     "data": {
      "text/html": [
       "<?xml version=\"1.0\" encoding=\"utf-8\"?>\n",
       "<svg xmlns=\"http://www.w3.org/2000/svg\" xmlns:xlink=\"http://www.w3.org/1999/xlink\" width=\"600\" height=\"400\" viewBox=\"0 0 600 400\">\n",
       "<defs>\n",
       "  <clipPath id=\"clip00\">\n",
       "    <rect x=\"0\" y=\"0\" width=\"600\" height=\"400\"/>\n",
       "  </clipPath>\n",
       "</defs>\n",
       "<polygon clip-path=\"url(#clip00)\" points=\"\n",
       "0,400 600,400 600,0 0,0 \n",
       "  \" fill=\"#ffffff\" fill-opacity=\"1\"/>\n",
       "<defs>\n",
       "  <clipPath id=\"clip01\">\n",
       "    <rect x=\"120\" y=\"0\" width=\"421\" height=\"400\"/>\n",
       "  </clipPath>\n",
       "</defs>\n",
       "<polygon clip-path=\"url(#clip00)\" points=\"\n",
       "45.8815,369.674 596.063,369.674 596.063,23.3815 45.8815,23.3815 \n",
       "  \" fill=\"#ffffff\" fill-opacity=\"1\"/>\n",
       "<defs>\n",
       "  <clipPath id=\"clip02\">\n",
       "    <rect x=\"45\" y=\"23\" width=\"551\" height=\"347\"/>\n",
       "  </clipPath>\n",
       "</defs>\n",
       "<polyline clip-path=\"url(#clip02)\" style=\"stroke:#00002d; stroke-width:0.8; stroke-opacity:0.5; fill:none\" stroke-dasharray=\"1, 2\" points=\"\n",
       "  45.8815,364.48 45.8815,28.5758 \n",
       "  \"/>\n",
       "<polyline clip-path=\"url(#clip02)\" style=\"stroke:#00002d; stroke-width:0.8; stroke-opacity:0.5; fill:none\" stroke-dasharray=\"1, 2\" points=\"\n",
       "  183.427,364.48 183.427,28.5758 \n",
       "  \"/>\n",
       "<polyline clip-path=\"url(#clip02)\" style=\"stroke:#00002d; stroke-width:0.8; stroke-opacity:0.5; fill:none\" stroke-dasharray=\"1, 2\" points=\"\n",
       "  320.972,364.48 320.972,28.5758 \n",
       "  \"/>\n",
       "<polyline clip-path=\"url(#clip02)\" style=\"stroke:#00002d; stroke-width:0.8; stroke-opacity:0.5; fill:none\" stroke-dasharray=\"1, 2\" points=\"\n",
       "  458.518,364.48 458.518,28.5758 \n",
       "  \"/>\n",
       "<polyline clip-path=\"url(#clip02)\" style=\"stroke:#00002d; stroke-width:0.8; stroke-opacity:0.5; fill:none\" stroke-dasharray=\"1, 2\" points=\"\n",
       "  596.063,364.48 596.063,28.5758 \n",
       "  \"/>\n",
       "<polyline clip-path=\"url(#clip02)\" style=\"stroke:#00002d; stroke-width:0.8; stroke-opacity:0.5; fill:none\" stroke-dasharray=\"1, 2\" points=\"\n",
       "  54.1342,237.032 587.81,237.032 \n",
       "  \"/>\n",
       "<polyline clip-path=\"url(#clip02)\" style=\"stroke:#00002d; stroke-width:0.8; stroke-opacity:0.5; fill:none\" stroke-dasharray=\"1, 2\" points=\"\n",
       "  54.1342,75.0155 587.81,75.0155 \n",
       "  \"/>\n",
       "<polyline clip-path=\"url(#clip02)\" style=\"stroke:#00002d; stroke-width:0.8; stroke-opacity:1; fill:none\" points=\"\n",
       "  45.8815,369.674 596.063,369.674 \n",
       "  \"/>\n",
       "<polyline clip-path=\"url(#clip02)\" style=\"stroke:#00002d; stroke-width:0.8; stroke-opacity:1; fill:none\" points=\"\n",
       "  45.8815,369.674 45.8815,364.48 \n",
       "  \"/>\n",
       "<polyline clip-path=\"url(#clip02)\" style=\"stroke:#00002d; stroke-width:0.8; stroke-opacity:1; fill:none\" points=\"\n",
       "  183.427,369.674 183.427,364.48 \n",
       "  \"/>\n",
       "<polyline clip-path=\"url(#clip02)\" style=\"stroke:#00002d; stroke-width:0.8; stroke-opacity:1; fill:none\" points=\"\n",
       "  320.972,369.674 320.972,364.48 \n",
       "  \"/>\n",
       "<polyline clip-path=\"url(#clip02)\" style=\"stroke:#00002d; stroke-width:0.8; stroke-opacity:1; fill:none\" points=\"\n",
       "  458.518,369.674 458.518,364.48 \n",
       "  \"/>\n",
       "<polyline clip-path=\"url(#clip02)\" style=\"stroke:#00002d; stroke-width:0.8; stroke-opacity:1; fill:none\" points=\"\n",
       "  596.063,369.674 596.063,364.48 \n",
       "  \"/>\n",
       "<polyline clip-path=\"url(#clip02)\" style=\"stroke:#00002d; stroke-width:0.8; stroke-opacity:1; fill:none\" points=\"\n",
       "  45.8815,369.674 45.8815,23.3815 \n",
       "  \"/>\n",
       "<polyline clip-path=\"url(#clip02)\" style=\"stroke:#00002d; stroke-width:0.8; stroke-opacity:1; fill:none\" points=\"\n",
       "  45.8815,237.032 54.1342,237.032 \n",
       "  \"/>\n",
       "<polyline clip-path=\"url(#clip02)\" style=\"stroke:#00002d; stroke-width:0.8; stroke-opacity:1; fill:none\" points=\"\n",
       "  45.8815,75.0155 54.1342,75.0155 \n",
       "  \"/>\n",
       "<g clip-path=\"url(#clip00)\">\n",
       "<text style=\"fill:#00002d; fill-opacity:1; font-family:Arial,Helvetica Neue,Helvetica,sans-serif; font-size:12; text-anchor:middle;\" transform=\"rotate(0, 45.8815, 381.674)\" x=\"45.8815\" y=\"381.674\">-0.50</text>\n",
       "</g>\n",
       "<g clip-path=\"url(#clip00)\">\n",
       "<text style=\"fill:#00002d; fill-opacity:1; font-family:Arial,Helvetica Neue,Helvetica,sans-serif; font-size:12; text-anchor:middle;\" transform=\"rotate(0, 183.427, 381.674)\" x=\"183.427\" y=\"381.674\">-0.25</text>\n",
       "</g>\n",
       "<g clip-path=\"url(#clip00)\">\n",
       "<text style=\"fill:#00002d; fill-opacity:1; font-family:Arial,Helvetica Neue,Helvetica,sans-serif; font-size:12; text-anchor:middle;\" transform=\"rotate(0, 320.972, 381.674)\" x=\"320.972\" y=\"381.674\">0.00</text>\n",
       "</g>\n",
       "<g clip-path=\"url(#clip00)\">\n",
       "<text style=\"fill:#00002d; fill-opacity:1; font-family:Arial,Helvetica Neue,Helvetica,sans-serif; font-size:12; text-anchor:middle;\" transform=\"rotate(0, 458.518, 381.674)\" x=\"458.518\" y=\"381.674\">0.25</text>\n",
       "</g>\n",
       "<g clip-path=\"url(#clip00)\">\n",
       "<text style=\"fill:#00002d; fill-opacity:1; font-family:Arial,Helvetica Neue,Helvetica,sans-serif; font-size:12; text-anchor:middle;\" transform=\"rotate(0, 596.063, 381.674)\" x=\"596.063\" y=\"381.674\">0.50</text>\n",
       "</g>\n",
       "<g clip-path=\"url(#clip00)\">\n",
       "<text style=\"fill:#00002d; fill-opacity:1; font-family:Arial,Helvetica Neue,Helvetica,sans-serif; font-size:12; text-anchor:end;\" transform=\"rotate(0, 44.6815, 241.532)\" x=\"44.6815\" y=\"241.532\">1.0</text>\n",
       "</g>\n",
       "<g clip-path=\"url(#clip00)\">\n",
       "<text style=\"fill:#00002d; fill-opacity:1; font-family:Arial,Helvetica Neue,Helvetica,sans-serif; font-size:12; text-anchor:end;\" transform=\"rotate(0, 44.6815, 79.5155)\" x=\"44.6815\" y=\"79.5155\">1.5</text>\n",
       "</g>\n",
       "<g clip-path=\"url(#clip00)\">\n",
       "<text style=\"fill:#00002d; fill-opacity:1; font-family:Arial,Helvetica Neue,Helvetica,sans-serif; font-size:21; text-anchor:middle;\" transform=\"rotate(0, 320.972, 18)\" x=\"320.972\" y=\"18\">Aproximación</text>\n",
       "</g>\n",
       "<g clip-path=\"url(#clip00)\">\n",
       "<text style=\"fill:#00002d; fill-opacity:1; font-family:Arial,Helvetica Neue,Helvetica,sans-serif; font-size:16; text-anchor:middle;\" transform=\"rotate(0, 320.972, 397.6)\" x=\"320.972\" y=\"397.6\">x</text>\n",
       "</g>\n",
       "<g clip-path=\"url(#clip00)\">\n",
       "<text style=\"fill:#00002d; fill-opacity:1; font-family:Arial,Helvetica Neue,Helvetica,sans-serif; font-size:16; text-anchor:start;\" transform=\"rotate(-90, 21.6587, 204.368)\" x=\"21.6587\" y=\"204.368\">e</text>\n",
       "</g>\n",
       "<g clip-path=\"url(#clip00)\">\n",
       "<text style=\"fill:#00002d; fill-opacity:1; font-family:Arial,Helvetica Neue,Helvetica,sans-serif; font-size:14; text-anchor:start;\" transform=\"rotate(-90, 12.2364, 195.308)\" x=\"12.2364\" y=\"195.308\">x</text>\n",
       "</g>\n",
       "<polygon clip-path=\"url(#clip02)\" points=\"\n",
       "45.8815,347.414 48.6324,346.6 51.3833,345.778 54.1342,344.947 56.8851,344.109 59.636,343.262 62.3869,342.408 65.1378,341.545 67.8887,340.674 70.6396,339.795 \n",
       "  73.3905,338.908 76.1414,338.013 78.8923,337.11 81.6433,336.199 84.3942,335.279 87.1451,334.352 89.896,333.416 92.6469,332.472 95.3978,331.52 98.1487,330.56 \n",
       "  100.9,329.592 103.651,328.616 106.401,327.632 109.152,326.64 111.903,325.639 114.654,324.631 117.405,323.614 120.156,322.589 122.907,321.556 125.658,320.515 \n",
       "  128.409,319.466 131.16,318.409 133.91,317.344 136.661,316.271 139.412,315.189 142.163,314.1 144.914,313.002 147.665,311.896 150.416,310.782 153.167,309.66 \n",
       "  155.918,308.53 158.669,307.392 161.42,306.246 164.17,305.091 166.921,303.929 169.672,302.758 172.423,301.58 175.174,300.393 177.925,299.198 180.676,297.995 \n",
       "  183.427,296.784 186.178,295.565 188.929,294.338 191.68,293.102 194.43,291.859 197.181,290.607 199.932,289.347 202.683,288.08 205.434,286.804 208.185,285.52 \n",
       "  210.936,284.228 213.687,282.928 216.438,281.619 219.189,280.303 221.94,278.978 224.69,277.646 227.441,276.305 230.192,274.956 232.943,273.599 235.694,272.234 \n",
       "  238.445,270.861 241.196,269.48 243.947,268.091 246.698,266.694 249.449,265.288 252.2,263.874 254.95,262.453 257.701,261.023 260.452,259.585 263.203,258.139 \n",
       "  265.954,256.685 268.705,255.223 271.456,253.752 274.207,252.274 276.958,250.788 279.709,249.293 282.46,247.79 285.21,246.279 287.961,244.761 290.712,243.234 \n",
       "  293.463,241.698 296.214,240.155 298.965,238.604 301.716,237.045 304.467,235.477 307.218,233.901 309.969,232.318 312.719,230.726 315.47,229.126 318.221,227.518 \n",
       "  320.972,225.902 323.723,224.278 326.474,222.645 329.225,221.005 331.976,219.356 334.727,217.7 337.478,216.035 340.229,214.362 342.979,212.681 345.73,210.992 \n",
       "  348.481,209.295 351.232,207.59 353.983,205.877 356.734,204.155 359.485,202.426 362.236,200.688 364.987,198.942 367.738,197.189 370.489,195.427 373.239,193.657 \n",
       "  375.99,191.878 378.741,190.092 381.492,188.298 384.243,186.495 386.994,184.685 389.745,182.866 392.496,181.04 395.247,179.205 397.998,177.362 400.749,175.511 \n",
       "  403.499,173.652 406.25,171.784 409.001,169.909 411.752,168.026 414.503,166.134 417.254,164.234 420.005,162.327 422.756,160.411 425.507,158.487 428.258,156.555 \n",
       "  431.009,154.615 433.759,152.666 436.51,150.71 439.261,148.746 442.012,146.773 444.763,144.792 447.514,142.804 450.265,140.807 453.016,138.802 455.767,136.789 \n",
       "  458.518,134.768 461.269,132.738 464.019,130.701 466.77,128.656 469.521,126.602 472.272,124.54 475.023,122.471 477.774,120.393 480.525,118.307 483.276,116.213 \n",
       "  486.027,114.111 488.778,112 491.528,109.882 494.279,107.756 497.03,105.621 499.781,103.478 502.532,101.328 505.283,99.1686 508.034,97.0017 510.785,94.8266 \n",
       "  513.536,92.6434 516.287,90.4522 519.038,88.2528 521.788,86.0453 524.539,83.8297 527.29,81.6061 530.041,79.3743 532.792,77.1344 535.543,74.8864 538.294,72.6304 \n",
       "  541.045,70.3662 543.796,68.0939 546.547,65.8135 549.298,63.525 552.048,61.2285 554.799,58.9238 557.55,56.611 560.301,54.2901 563.052,51.9611 565.803,49.624 \n",
       "  568.554,47.2789 571.305,44.9256 574.056,42.5642 576.807,40.1947 579.558,37.8171 582.308,35.4314 585.059,33.0376 587.81,30.6357 590.561,28.2257 593.312,25.8076 \n",
       "  596.063,23.3815 596.063,45.6414 593.312,48.0676 590.561,50.4857 587.81,52.8957 585.059,55.2976 582.308,57.6914 579.558,60.0771 576.807,62.4547 574.056,64.8242 \n",
       "  571.305,67.1856 568.554,69.5388 565.803,71.884 563.052,74.2211 560.301,76.5501 557.55,78.871 554.799,81.1838 552.048,83.4884 549.298,85.785 546.547,88.0735 \n",
       "  543.796,90.3539 541.045,92.6262 538.294,94.8903 535.543,97.1464 532.792,99.3944 530.041,101.634 527.29,103.866 524.539,106.09 521.788,108.305 519.038,110.513 \n",
       "  516.287,112.712 513.536,114.903 510.785,117.087 508.034,119.262 505.283,121.429 502.532,123.587 499.781,125.738 497.03,127.881 494.279,130.015 491.528,132.142 \n",
       "  488.778,134.26 486.027,136.371 483.276,138.473 480.525,140.567 477.774,142.653 475.023,144.731 472.272,146.8 469.521,148.862 466.77,150.916 464.019,152.961 \n",
       "  461.269,154.998 458.518,157.028 455.767,159.049 453.016,161.062 450.265,163.067 447.514,165.064 444.763,167.052 442.012,169.033 439.261,171.006 436.51,172.97 \n",
       "  433.759,174.926 431.009,176.875 428.258,178.815 425.507,180.747 422.756,182.671 420.005,184.587 417.254,186.494 414.503,188.394 411.752,190.286 409.001,192.169 \n",
       "  406.25,194.044 403.499,195.912 400.749,197.771 397.998,199.622 395.247,201.465 392.496,203.3 389.745,205.126 386.994,206.945 384.243,208.755 381.492,210.558 \n",
       "  378.741,212.352 375.99,214.138 373.239,215.917 370.489,217.687 367.738,219.449 364.987,221.202 362.236,222.948 359.485,224.686 356.734,226.415 353.983,228.137 \n",
       "  351.232,229.85 348.481,231.555 345.73,233.252 342.979,234.941 340.229,236.622 337.478,238.295 334.727,239.96 331.976,241.616 329.225,243.265 326.474,244.905 \n",
       "  323.723,246.538 320.972,248.162 318.221,249.778 315.47,251.386 312.719,252.986 309.969,254.578 307.218,256.161 304.467,257.737 301.716,259.305 298.965,260.864 \n",
       "  296.214,262.415 293.463,263.958 290.712,265.494 287.961,267.021 285.21,268.539 282.46,270.05 279.709,271.553 276.958,273.048 274.207,274.534 271.456,276.012 \n",
       "  268.705,277.483 265.954,278.945 263.203,280.399 260.452,281.845 257.701,283.283 254.95,284.713 252.2,286.134 249.449,287.548 246.698,288.954 243.947,290.351 \n",
       "  241.196,291.74 238.445,293.121 235.694,294.494 232.943,295.859 230.192,297.216 227.441,298.565 224.69,299.906 221.94,301.238 219.189,302.563 216.438,303.879 \n",
       "  213.687,305.188 210.936,306.488 208.185,307.78 205.434,309.064 202.683,310.34 199.932,311.607 197.181,312.867 194.43,314.119 191.68,315.362 188.929,316.598 \n",
       "  186.178,317.825 183.427,319.044 180.676,320.255 177.925,321.458 175.174,322.653 172.423,323.84 169.672,325.018 166.921,326.189 164.17,327.351 161.42,328.506 \n",
       "  158.669,329.652 155.918,330.79 153.167,331.92 150.416,333.042 147.665,334.156 144.914,335.262 142.163,336.359 139.412,337.449 136.661,338.531 133.91,339.604 \n",
       "  131.16,340.669 128.409,341.726 125.658,342.775 122.907,343.816 120.156,344.849 117.405,345.874 114.654,346.891 111.903,347.899 109.152,348.9 106.401,349.892 \n",
       "  103.651,350.876 100.9,351.852 98.1487,352.82 95.3978,353.78 92.6469,354.732 89.896,355.676 87.1451,356.612 84.3942,357.539 81.6433,358.459 78.8923,359.37 \n",
       "  76.1414,360.273 73.3905,361.168 70.6396,362.055 67.8887,362.934 65.1378,363.805 62.3869,364.668 59.636,365.522 56.8851,366.369 54.1342,367.207 51.3833,368.038 \n",
       "  48.6324,368.86 45.8815,369.674 \n",
       "  \" fill=\"#0099ff\" fill-opacity=\"0.4\"/>\n",
       "<polyline clip-path=\"url(#clip02)\" style=\"stroke:#0099ff; stroke-width:0.8; stroke-opacity:0.4; fill:none\" points=\"\n",
       "  45.8815,347.414 48.6324,346.6 51.3833,345.778 54.1342,344.947 56.8851,344.109 59.636,343.262 62.3869,342.408 65.1378,341.545 67.8887,340.674 70.6396,339.795 \n",
       "  73.3905,338.908 76.1414,338.013 78.8923,337.11 81.6433,336.199 84.3942,335.279 87.1451,334.352 89.896,333.416 92.6469,332.472 95.3978,331.52 98.1487,330.56 \n",
       "  100.9,329.592 103.651,328.616 106.401,327.632 109.152,326.64 111.903,325.639 114.654,324.631 117.405,323.614 120.156,322.589 122.907,321.556 125.658,320.515 \n",
       "  128.409,319.466 131.16,318.409 133.91,317.344 136.661,316.271 139.412,315.189 142.163,314.1 144.914,313.002 147.665,311.896 150.416,310.782 153.167,309.66 \n",
       "  155.918,308.53 158.669,307.392 161.42,306.246 164.17,305.091 166.921,303.929 169.672,302.758 172.423,301.58 175.174,300.393 177.925,299.198 180.676,297.995 \n",
       "  183.427,296.784 186.178,295.565 188.929,294.338 191.68,293.102 194.43,291.859 197.181,290.607 199.932,289.347 202.683,288.08 205.434,286.804 208.185,285.52 \n",
       "  210.936,284.228 213.687,282.928 216.438,281.619 219.189,280.303 221.94,278.978 224.69,277.646 227.441,276.305 230.192,274.956 232.943,273.599 235.694,272.234 \n",
       "  238.445,270.861 241.196,269.48 243.947,268.091 246.698,266.694 249.449,265.288 252.2,263.874 254.95,262.453 257.701,261.023 260.452,259.585 263.203,258.139 \n",
       "  265.954,256.685 268.705,255.223 271.456,253.752 274.207,252.274 276.958,250.788 279.709,249.293 282.46,247.79 285.21,246.279 287.961,244.761 290.712,243.234 \n",
       "  293.463,241.698 296.214,240.155 298.965,238.604 301.716,237.045 304.467,235.477 307.218,233.901 309.969,232.318 312.719,230.726 315.47,229.126 318.221,227.518 \n",
       "  320.972,225.902 323.723,224.278 326.474,222.645 329.225,221.005 331.976,219.356 334.727,217.7 337.478,216.035 340.229,214.362 342.979,212.681 345.73,210.992 \n",
       "  348.481,209.295 351.232,207.59 353.983,205.877 356.734,204.155 359.485,202.426 362.236,200.688 364.987,198.942 367.738,197.189 370.489,195.427 373.239,193.657 \n",
       "  375.99,191.878 378.741,190.092 381.492,188.298 384.243,186.495 386.994,184.685 389.745,182.866 392.496,181.04 395.247,179.205 397.998,177.362 400.749,175.511 \n",
       "  403.499,173.652 406.25,171.784 409.001,169.909 411.752,168.026 414.503,166.134 417.254,164.234 420.005,162.327 422.756,160.411 425.507,158.487 428.258,156.555 \n",
       "  431.009,154.615 433.759,152.666 436.51,150.71 439.261,148.746 442.012,146.773 444.763,144.792 447.514,142.804 450.265,140.807 453.016,138.802 455.767,136.789 \n",
       "  458.518,134.768 461.269,132.738 464.019,130.701 466.77,128.656 469.521,126.602 472.272,124.54 475.023,122.471 477.774,120.393 480.525,118.307 483.276,116.213 \n",
       "  486.027,114.111 488.778,112 491.528,109.882 494.279,107.756 497.03,105.621 499.781,103.478 502.532,101.328 505.283,99.1686 508.034,97.0017 510.785,94.8266 \n",
       "  513.536,92.6434 516.287,90.4522 519.038,88.2528 521.788,86.0453 524.539,83.8297 527.29,81.6061 530.041,79.3743 532.792,77.1344 535.543,74.8864 538.294,72.6304 \n",
       "  541.045,70.3662 543.796,68.0939 546.547,65.8135 549.298,63.525 552.048,61.2285 554.799,58.9238 557.55,56.611 560.301,54.2901 563.052,51.9611 565.803,49.624 \n",
       "  568.554,47.2789 571.305,44.9256 574.056,42.5642 576.807,40.1947 579.558,37.8171 582.308,35.4314 585.059,33.0376 587.81,30.6357 590.561,28.2257 593.312,25.8076 \n",
       "  596.063,23.3815 \n",
       "  \"/>\n",
       "<polyline clip-path=\"url(#clip02)\" style=\"stroke:#e9746a; stroke-width:0.8; stroke-opacity:1; fill:none\" points=\"\n",
       "  45.8815,364.529 48.6324,363.544 51.3833,362.554 54.1342,361.559 56.8851,360.558 59.636,359.553 62.3869,358.543 65.1378,357.528 67.8887,356.508 70.6396,355.483 \n",
       "  73.3905,354.452 76.1414,353.417 78.8923,352.376 81.6433,351.33 84.3942,350.278 87.1451,349.222 89.896,348.16 92.6469,347.093 95.3978,346.02 98.1487,344.942 \n",
       "  100.9,343.859 103.651,342.77 106.401,341.676 109.152,340.576 111.903,339.471 114.654,338.36 117.405,337.244 120.156,336.122 122.907,334.995 125.658,333.861 \n",
       "  128.409,332.723 131.16,331.578 133.91,330.428 136.661,329.272 139.412,328.11 142.163,326.942 144.914,325.769 147.665,324.589 150.416,323.404 153.167,322.212 \n",
       "  155.918,321.015 158.669,319.812 161.42,318.603 164.17,317.387 166.921,316.166 169.672,314.938 172.423,313.705 175.174,312.465 177.925,311.219 180.676,309.966 \n",
       "  183.427,308.708 186.178,307.443 188.929,306.171 191.68,304.894 194.43,303.61 197.181,302.319 199.932,301.022 202.683,299.719 205.434,298.409 208.185,297.092 \n",
       "  210.936,295.769 213.687,294.439 216.438,293.103 219.189,291.76 221.94,290.41 224.69,289.053 227.441,287.69 230.192,286.319 232.943,284.942 235.694,283.558 \n",
       "  238.445,282.167 241.196,280.769 243.947,279.364 246.698,277.952 249.449,276.533 252.2,275.107 254.95,273.673 257.701,272.233 260.452,270.785 263.203,269.33 \n",
       "  265.954,267.868 268.705,266.398 271.456,264.921 274.207,263.437 276.958,261.945 279.709,260.445 282.46,258.938 285.21,257.424 287.961,255.902 290.712,254.372 \n",
       "  293.463,252.835 296.214,251.29 298.965,249.737 301.716,248.177 304.467,246.608 307.218,245.032 309.969,243.448 312.719,241.856 315.47,240.256 318.221,238.648 \n",
       "  320.972,237.032 323.723,235.408 326.474,233.775 329.225,232.135 331.976,230.486 334.727,228.829 337.478,227.164 340.229,225.49 342.979,223.808 345.73,222.117 \n",
       "  348.481,220.418 351.232,218.711 353.983,216.995 356.734,215.27 359.485,213.537 362.236,211.795 364.987,210.044 367.738,208.285 370.489,206.516 373.239,204.739 \n",
       "  375.99,202.953 378.741,201.158 381.492,199.354 384.243,197.541 386.994,195.719 389.745,193.887 392.496,192.047 395.247,190.197 397.998,188.338 400.749,186.47 \n",
       "  403.499,184.592 406.25,182.705 409.001,180.809 411.752,178.903 414.503,176.987 417.254,175.062 420.005,173.127 422.756,171.182 425.507,169.228 428.258,167.264 \n",
       "  431.009,165.29 433.759,163.306 436.51,161.313 439.261,159.309 442.012,157.295 444.763,155.271 447.514,153.237 450.265,151.193 453.016,149.138 455.767,147.073 \n",
       "  458.518,144.998 461.269,142.913 464.019,140.817 466.77,138.71 469.521,136.593 472.272,134.466 475.023,132.327 477.774,130.178 480.525,128.018 483.276,125.848 \n",
       "  486.027,123.666 488.778,121.474 491.528,119.27 494.279,117.056 497.03,114.83 499.781,112.593 502.532,110.345 505.283,108.086 508.034,105.816 510.785,103.534 \n",
       "  513.536,101.24 516.287,98.9354 519.038,96.619 521.788,94.2909 524.539,91.9512 527.29,89.5998 530.041,87.2366 532.792,84.8615 535.543,82.4745 538.294,80.0756 \n",
       "  541.045,77.6646 543.796,75.2415 546.547,72.8063 549.298,70.3589 552.048,67.8993 554.799,65.4273 557.55,62.9429 560.301,60.446 563.052,57.9367 565.803,55.4147 \n",
       "  568.554,52.8801 571.305,50.3329 574.056,47.7728 576.807,45.1999 579.558,42.6141 582.308,40.0154 585.059,37.4036 587.81,34.7788 590.561,32.1407 593.312,29.4895 \n",
       "  596.063,26.825 \n",
       "  \"/>\n",
       "<polygon clip-path=\"url(#clip00)\" points=\"\n",
       "442.97,89.6215 578.063,89.6215 578.063,44.2615 442.97,44.2615 \n",
       "  \" fill=\"#ffffff\" fill-opacity=\"1\"/>\n",
       "<polyline clip-path=\"url(#clip00)\" style=\"stroke:#00002d; stroke-width:0.8; stroke-opacity:1; fill:none\" points=\"\n",
       "  442.97,89.6215 578.063,89.6215 578.063,44.2615 442.97,44.2615 442.97,89.6215 \n",
       "  \"/>\n",
       "<polyline clip-path=\"url(#clip00)\" style=\"stroke:#0099ff; stroke-width:0.8; stroke-opacity:0.4; fill:none\" points=\"\n",
       "  448.97,59.3815 484.97,59.3815 \n",
       "  \"/>\n",
       "<g clip-path=\"url(#clip00)\">\n",
       "<text style=\"fill:#00002d; fill-opacity:1; font-family:Arial,Helvetica Neue,Helvetica,sans-serif; font-size:12; text-anchor:start;\" transform=\"rotate(0, 490.97, 63.8815)\" x=\"490.97\" y=\"63.8815\">rango de error</text>\n",
       "</g>\n",
       "<polyline clip-path=\"url(#clip00)\" style=\"stroke:#e9746a; stroke-width:0.8; stroke-opacity:1; fill:none\" points=\"\n",
       "  448.97,74.5015 484.97,74.5015 \n",
       "  \"/>\n",
       "<g clip-path=\"url(#clip00)\">\n",
       "<text style=\"fill:#00002d; fill-opacity:1; font-family:Arial,Helvetica Neue,Helvetica,sans-serif; font-size:12; text-anchor:start;\" transform=\"rotate(0, 490.97, 79.0015)\" x=\"490.97\" y=\"79.0015\">funcion real</text>\n",
       "</g>\n",
       "</svg>\n"
      ]
     },
     "execution_count": 46,
     "metadata": {},
     "output_type": "execute_result"
    }
   ],
   "source": [
    "A=-1/2:.005:1/2\n",
    "plot(A,[exponencial(x,2)+d for x in A],fillrange=[exponencial(x,2)-d for x in A],alpha=.4,label=\"rango de error\",xlabel=\"x\",ylabel=\"e^x\",title=\"Aproximación\")\n",
    "plot!(A,[e^x for x in A], label=\"funcion real\")"
   ]
  },
  {
   "cell_type": "code",
   "execution_count": 48,
   "metadata": {
    "collapsed": false
   },
   "outputs": [
    {
     "data": {
      "text/html": [],
      "text/plain": [
       "Interact.Options{:SelectionSlider,Int64}(Signal{Int64}(6, nactions=1),\"n\",6,\"6\",Interact.OptionDict(DataStructures.OrderedDict(\"2\"=>2,\"3\"=>3,\"4\"=>4,\"5\"=>5,\"6\"=>6,\"7\"=>7,\"8\"=>8,\"9\"=>9,\"10\"=>10),Dict(7=>\"7\",4=>\"4\",9=>\"9\",10=>\"10\",2=>\"2\",3=>\"3\",5=>\"5\",8=>\"8\",6=>\"6\")),Any[],Any[],true,\"horizontal\")"
      ]
     },
     "metadata": {},
     "output_type": "display_data"
    },
    {
     "data": {
      "text/html": [
       "<?xml version=\"1.0\" encoding=\"utf-8\"?>\n",
       "<svg xmlns=\"http://www.w3.org/2000/svg\" xmlns:xlink=\"http://www.w3.org/1999/xlink\" width=\"600\" height=\"400\" viewBox=\"0 0 600 400\">\n",
       "<defs>\n",
       "  <clipPath id=\"clip00\">\n",
       "    <rect x=\"0\" y=\"0\" width=\"600\" height=\"400\"/>\n",
       "  </clipPath>\n",
       "</defs>\n",
       "<polygon clip-path=\"url(#clip00)\" points=\"\n",
       "0,400 600,400 600,0 0,0 \n",
       "  \" fill=\"#ffffff\" fill-opacity=\"1\"/>\n",
       "<defs>\n",
       "  <clipPath id=\"clip01\">\n",
       "    <rect x=\"120\" y=\"0\" width=\"421\" height=\"400\"/>\n",
       "  </clipPath>\n",
       "</defs>\n",
       "<polygon clip-path=\"url(#clip00)\" points=\"\n",
       "45.8815,369.674 596.063,369.674 596.063,23.3815 45.8815,23.3815 \n",
       "  \" fill=\"#ffffff\" fill-opacity=\"1\"/>\n",
       "<defs>\n",
       "  <clipPath id=\"clip02\">\n",
       "    <rect x=\"45\" y=\"23\" width=\"551\" height=\"347\"/>\n",
       "  </clipPath>\n",
       "</defs>\n",
       "<polyline clip-path=\"url(#clip02)\" style=\"stroke:#00002d; stroke-width:0.8; stroke-opacity:0.5; fill:none\" stroke-dasharray=\"1, 2\" points=\"\n",
       "  45.8815,364.48 45.8815,28.5758 \n",
       "  \"/>\n",
       "<polyline clip-path=\"url(#clip02)\" style=\"stroke:#00002d; stroke-width:0.8; stroke-opacity:0.5; fill:none\" stroke-dasharray=\"1, 2\" points=\"\n",
       "  183.427,364.48 183.427,28.5758 \n",
       "  \"/>\n",
       "<polyline clip-path=\"url(#clip02)\" style=\"stroke:#00002d; stroke-width:0.8; stroke-opacity:0.5; fill:none\" stroke-dasharray=\"1, 2\" points=\"\n",
       "  320.972,364.48 320.972,28.5758 \n",
       "  \"/>\n",
       "<polyline clip-path=\"url(#clip02)\" style=\"stroke:#00002d; stroke-width:0.8; stroke-opacity:0.5; fill:none\" stroke-dasharray=\"1, 2\" points=\"\n",
       "  458.518,364.48 458.518,28.5758 \n",
       "  \"/>\n",
       "<polyline clip-path=\"url(#clip02)\" style=\"stroke:#00002d; stroke-width:0.8; stroke-opacity:0.5; fill:none\" stroke-dasharray=\"1, 2\" points=\"\n",
       "  596.063,364.48 596.063,28.5758 \n",
       "  \"/>\n",
       "<polyline clip-path=\"url(#clip02)\" style=\"stroke:#00002d; stroke-width:0.8; stroke-opacity:0.5; fill:none\" stroke-dasharray=\"1, 2\" points=\"\n",
       "  54.1342,238.932 587.81,238.932 \n",
       "  \"/>\n",
       "<polyline clip-path=\"url(#clip02)\" style=\"stroke:#00002d; stroke-width:0.8; stroke-opacity:0.5; fill:none\" stroke-dasharray=\"1, 2\" points=\"\n",
       "  54.1342,72.8057 587.81,72.8057 \n",
       "  \"/>\n",
       "<polyline clip-path=\"url(#clip02)\" style=\"stroke:#00002d; stroke-width:0.8; stroke-opacity:1; fill:none\" points=\"\n",
       "  45.8815,369.674 596.063,369.674 \n",
       "  \"/>\n",
       "<polyline clip-path=\"url(#clip02)\" style=\"stroke:#00002d; stroke-width:0.8; stroke-opacity:1; fill:none\" points=\"\n",
       "  45.8815,369.674 45.8815,364.48 \n",
       "  \"/>\n",
       "<polyline clip-path=\"url(#clip02)\" style=\"stroke:#00002d; stroke-width:0.8; stroke-opacity:1; fill:none\" points=\"\n",
       "  183.427,369.674 183.427,364.48 \n",
       "  \"/>\n",
       "<polyline clip-path=\"url(#clip02)\" style=\"stroke:#00002d; stroke-width:0.8; stroke-opacity:1; fill:none\" points=\"\n",
       "  320.972,369.674 320.972,364.48 \n",
       "  \"/>\n",
       "<polyline clip-path=\"url(#clip02)\" style=\"stroke:#00002d; stroke-width:0.8; stroke-opacity:1; fill:none\" points=\"\n",
       "  458.518,369.674 458.518,364.48 \n",
       "  \"/>\n",
       "<polyline clip-path=\"url(#clip02)\" style=\"stroke:#00002d; stroke-width:0.8; stroke-opacity:1; fill:none\" points=\"\n",
       "  596.063,369.674 596.063,364.48 \n",
       "  \"/>\n",
       "<polyline clip-path=\"url(#clip02)\" style=\"stroke:#00002d; stroke-width:0.8; stroke-opacity:1; fill:none\" points=\"\n",
       "  45.8815,369.674 45.8815,23.3815 \n",
       "  \"/>\n",
       "<polyline clip-path=\"url(#clip02)\" style=\"stroke:#00002d; stroke-width:0.8; stroke-opacity:1; fill:none\" points=\"\n",
       "  45.8815,238.932 54.1342,238.932 \n",
       "  \"/>\n",
       "<polyline clip-path=\"url(#clip02)\" style=\"stroke:#00002d; stroke-width:0.8; stroke-opacity:1; fill:none\" points=\"\n",
       "  45.8815,72.8057 54.1342,72.8057 \n",
       "  \"/>\n",
       "<g clip-path=\"url(#clip00)\">\n",
       "<text style=\"fill:#00002d; fill-opacity:1; font-family:Arial,Helvetica Neue,Helvetica,sans-serif; font-size:12; text-anchor:middle;\" transform=\"rotate(0, 45.8815, 381.674)\" x=\"45.8815\" y=\"381.674\">-0.50</text>\n",
       "</g>\n",
       "<g clip-path=\"url(#clip00)\">\n",
       "<text style=\"fill:#00002d; fill-opacity:1; font-family:Arial,Helvetica Neue,Helvetica,sans-serif; font-size:12; text-anchor:middle;\" transform=\"rotate(0, 183.427, 381.674)\" x=\"183.427\" y=\"381.674\">-0.25</text>\n",
       "</g>\n",
       "<g clip-path=\"url(#clip00)\">\n",
       "<text style=\"fill:#00002d; fill-opacity:1; font-family:Arial,Helvetica Neue,Helvetica,sans-serif; font-size:12; text-anchor:middle;\" transform=\"rotate(0, 320.972, 381.674)\" x=\"320.972\" y=\"381.674\">0.00</text>\n",
       "</g>\n",
       "<g clip-path=\"url(#clip00)\">\n",
       "<text style=\"fill:#00002d; fill-opacity:1; font-family:Arial,Helvetica Neue,Helvetica,sans-serif; font-size:12; text-anchor:middle;\" transform=\"rotate(0, 458.518, 381.674)\" x=\"458.518\" y=\"381.674\">0.25</text>\n",
       "</g>\n",
       "<g clip-path=\"url(#clip00)\">\n",
       "<text style=\"fill:#00002d; fill-opacity:1; font-family:Arial,Helvetica Neue,Helvetica,sans-serif; font-size:12; text-anchor:middle;\" transform=\"rotate(0, 596.063, 381.674)\" x=\"596.063\" y=\"381.674\">0.50</text>\n",
       "</g>\n",
       "<g clip-path=\"url(#clip00)\">\n",
       "<text style=\"fill:#00002d; fill-opacity:1; font-family:Arial,Helvetica Neue,Helvetica,sans-serif; font-size:12; text-anchor:end;\" transform=\"rotate(0, 44.6815, 243.432)\" x=\"44.6815\" y=\"243.432\">1.0</text>\n",
       "</g>\n",
       "<g clip-path=\"url(#clip00)\">\n",
       "<text style=\"fill:#00002d; fill-opacity:1; font-family:Arial,Helvetica Neue,Helvetica,sans-serif; font-size:12; text-anchor:end;\" transform=\"rotate(0, 44.6815, 77.3057)\" x=\"44.6815\" y=\"77.3057\">1.5</text>\n",
       "</g>\n",
       "<g clip-path=\"url(#clip00)\">\n",
       "<text style=\"fill:#00002d; fill-opacity:1; font-family:Arial,Helvetica Neue,Helvetica,sans-serif; font-size:21; text-anchor:middle;\" transform=\"rotate(0, 320.972, 18)\" x=\"320.972\" y=\"18\">Aproximación</text>\n",
       "</g>\n",
       "<g clip-path=\"url(#clip00)\">\n",
       "<text style=\"fill:#00002d; fill-opacity:1; font-family:Arial,Helvetica Neue,Helvetica,sans-serif; font-size:16; text-anchor:middle;\" transform=\"rotate(0, 320.972, 397.6)\" x=\"320.972\" y=\"397.6\">x</text>\n",
       "</g>\n",
       "<g clip-path=\"url(#clip00)\">\n",
       "<text style=\"fill:#00002d; fill-opacity:1; font-family:Arial,Helvetica Neue,Helvetica,sans-serif; font-size:16; text-anchor:start;\" transform=\"rotate(-90, 21.6587, 204.368)\" x=\"21.6587\" y=\"204.368\">e</text>\n",
       "</g>\n",
       "<g clip-path=\"url(#clip00)\">\n",
       "<text style=\"fill:#00002d; fill-opacity:1; font-family:Arial,Helvetica Neue,Helvetica,sans-serif; font-size:14; text-anchor:start;\" transform=\"rotate(-90, 12.2364, 195.308)\" x=\"12.2364\" y=\"195.308\">x</text>\n",
       "</g>\n",
       "<polygon clip-path=\"url(#clip02)\" points=\"\n",
       "45.8815,369.65 48.6324,368.64 51.3833,367.625 54.1342,366.605 56.8851,365.579 59.636,364.549 62.3869,363.513 65.1378,362.472 67.8887,361.426 70.6396,360.375 \n",
       "  73.3905,359.318 76.1414,358.256 78.8923,357.189 81.6433,356.117 84.3942,355.039 87.1451,353.955 89.896,352.867 92.6469,351.772 95.3978,350.673 98.1487,349.567 \n",
       "  100.9,348.457 103.651,347.34 106.401,346.218 109.152,345.091 111.903,343.957 114.654,342.819 117.405,341.674 120.156,340.524 122.907,339.367 125.658,338.206 \n",
       "  128.409,337.038 131.16,335.864 133.91,334.685 136.661,333.499 139.412,332.308 142.163,331.111 144.914,329.907 147.665,328.698 150.416,327.483 153.167,326.261 \n",
       "  155.918,325.033 158.669,323.8 161.42,322.56 164.17,321.314 166.921,320.061 169.672,318.802 172.423,317.537 175.174,316.266 177.925,314.988 180.676,313.704 \n",
       "  183.427,312.414 186.178,311.117 188.929,309.813 191.68,308.503 194.43,307.186 197.181,305.863 199.932,304.533 202.683,303.197 205.434,301.854 208.185,300.504 \n",
       "  210.936,299.147 213.687,297.783 216.438,296.413 219.189,295.036 221.94,293.652 224.69,292.261 227.441,290.863 230.192,289.457 232.943,288.045 235.694,286.626 \n",
       "  238.445,285.2 241.196,283.766 243.947,282.326 246.698,280.878 249.449,279.423 252.2,277.96 254.95,276.491 257.701,275.014 260.452,273.529 263.203,272.037 \n",
       "  265.954,270.538 268.705,269.031 271.456,267.516 274.207,265.994 276.958,264.465 279.709,262.927 282.46,261.382 285.21,259.829 287.961,258.269 290.712,256.7 \n",
       "  293.463,255.124 296.214,253.54 298.965,251.948 301.716,250.348 304.467,248.739 307.218,247.123 309.969,245.499 312.719,243.866 315.47,242.226 318.221,240.577 \n",
       "  320.972,238.92 323.723,237.254 326.474,235.581 329.225,233.898 331.976,232.208 334.727,230.509 337.478,228.801 340.229,227.085 342.979,225.36 345.73,223.627 \n",
       "  348.481,221.885 351.232,220.134 353.983,218.375 356.734,216.606 359.485,214.829 362.236,213.043 364.987,211.248 367.738,209.443 370.489,207.63 373.239,205.808 \n",
       "  375.99,203.977 378.741,202.136 381.492,200.286 384.243,198.427 386.994,196.559 389.745,194.681 392.496,192.794 395.247,190.897 397.998,188.991 400.749,187.075 \n",
       "  403.499,185.15 406.25,183.215 409.001,181.271 411.752,179.316 414.503,177.352 417.254,175.378 420.005,173.394 422.756,171.4 425.507,169.396 428.258,167.382 \n",
       "  431.009,165.358 433.759,163.324 436.51,161.28 439.261,159.225 442.012,157.16 444.763,155.085 447.514,152.999 450.265,150.903 453.016,148.797 455.767,146.68 \n",
       "  458.518,144.552 461.269,142.413 464.019,140.264 466.77,138.104 469.521,135.934 472.272,133.752 475.023,131.559 477.774,129.356 480.525,127.141 483.276,124.915 \n",
       "  486.027,122.679 488.778,120.43 491.528,118.171 494.279,115.9 497.03,113.618 499.781,111.325 502.532,109.02 505.283,106.703 508.034,104.375 510.785,102.035 \n",
       "  513.536,99.6839 516.287,97.3205 519.038,94.9453 521.788,92.5582 524.539,90.1592 527.29,87.7481 530.041,85.3249 532.792,82.8896 535.543,80.4421 538.294,77.9823 \n",
       "  541.045,75.5102 543.796,73.0257 546.547,70.5288 549.298,68.0193 552.048,65.4972 554.799,62.9625 557.55,60.4151 560.301,57.855 563.052,55.282 565.803,52.6961 \n",
       "  568.554,50.0972 571.305,47.4854 574.056,44.8604 576.807,42.2223 579.558,39.5709 582.308,36.9063 585.059,34.2283 587.81,31.5369 590.561,28.832 593.312,26.1135 \n",
       "  596.063,23.3815 596.063,23.4052 593.312,26.1373 590.561,28.8558 587.81,31.5607 585.059,34.2521 582.308,36.9301 579.558,39.5947 576.807,42.246 574.056,44.8842 \n",
       "  571.305,47.5091 568.554,50.121 565.803,52.7199 563.052,55.3058 560.301,57.8788 557.55,60.4389 554.799,62.9863 552.048,65.521 549.298,68.0431 546.547,70.5525 \n",
       "  543.796,73.0495 541.045,75.534 538.294,78.0061 535.543,80.4659 532.792,82.9134 530.041,85.3487 527.29,87.7719 524.539,90.183 521.788,92.582 519.038,94.9691 \n",
       "  516.287,97.3443 513.536,99.7076 510.785,102.059 508.034,104.399 505.283,106.727 502.532,109.044 499.781,111.349 497.03,113.642 494.279,115.924 491.528,118.195 \n",
       "  488.778,120.454 486.027,122.702 483.276,124.939 480.525,127.165 477.774,129.38 475.023,131.583 472.272,133.776 469.521,135.957 466.77,138.128 464.019,140.288 \n",
       "  461.269,142.437 458.518,144.576 455.767,146.703 453.016,148.821 450.265,150.927 447.514,153.023 444.763,155.109 442.012,157.184 439.261,159.249 436.51,161.304 \n",
       "  433.759,163.348 431.009,165.382 428.258,167.406 425.507,169.42 422.756,171.424 420.005,173.418 417.254,175.402 414.503,177.376 411.752,179.34 409.001,181.294 \n",
       "  406.25,183.239 403.499,185.174 400.749,187.099 397.998,189.015 395.247,190.921 392.496,192.818 389.745,194.705 386.994,196.583 384.243,198.451 381.492,200.31 \n",
       "  378.741,202.16 375.99,204 373.239,205.832 370.489,207.654 367.738,209.467 364.987,211.271 362.236,213.066 359.485,214.853 356.734,216.63 353.983,218.398 \n",
       "  351.232,220.158 348.481,221.909 345.73,223.651 342.979,225.384 340.229,227.109 337.478,228.825 334.727,230.533 331.976,232.232 329.225,233.922 326.474,235.604 \n",
       "  323.723,237.278 320.972,238.944 318.221,240.601 315.47,242.25 312.719,243.89 309.969,245.523 307.218,247.147 304.467,248.763 301.716,250.371 298.965,251.971 \n",
       "  296.214,253.564 293.463,255.148 290.712,256.724 287.961,258.292 285.21,259.853 282.46,261.406 279.709,262.951 276.958,264.488 274.207,266.018 271.456,267.54 \n",
       "  268.705,269.055 265.954,270.562 263.203,272.061 260.452,273.553 257.701,275.037 254.95,276.515 252.2,277.984 249.449,279.447 246.698,280.902 243.947,282.35 \n",
       "  241.196,283.79 238.445,285.224 235.694,286.65 232.943,288.069 230.192,289.481 227.441,290.886 224.69,292.284 221.94,293.675 219.189,295.06 216.438,296.437 \n",
       "  213.687,297.807 210.936,299.171 208.185,300.527 205.434,301.877 202.683,303.221 199.932,304.557 197.181,305.887 194.43,307.21 191.68,308.527 188.929,309.837 \n",
       "  186.178,311.14 183.427,312.437 180.676,313.728 177.925,315.012 175.174,316.29 172.423,317.561 169.672,318.826 166.921,320.085 164.17,321.337 161.42,322.584 \n",
       "  158.669,323.823 155.918,325.057 153.167,326.285 150.416,327.506 147.665,328.722 144.914,329.931 142.163,331.134 139.412,332.332 136.661,333.523 133.91,334.708 \n",
       "  131.16,335.888 128.409,337.062 125.658,338.229 122.907,339.391 120.156,340.547 117.405,341.698 114.654,342.842 111.903,343.981 109.152,345.114 106.401,346.242 \n",
       "  103.651,347.364 100.9,348.48 98.1487,349.591 95.3978,350.696 92.6469,351.796 89.896,352.89 87.1451,353.979 84.3942,355.062 81.6433,356.14 78.8923,357.213 \n",
       "  76.1414,358.28 73.3905,359.342 70.6396,360.399 67.8887,361.45 65.1378,362.496 62.3869,363.537 59.636,364.573 56.8851,365.603 54.1342,366.629 51.3833,367.649 \n",
       "  48.6324,368.664 45.8815,369.674 \n",
       "  \" fill=\"#0099ff\" fill-opacity=\"0.4\"/>\n",
       "<polyline clip-path=\"url(#clip02)\" style=\"stroke:#0099ff; stroke-width:0.8; stroke-opacity:0.4; fill:none\" points=\"\n",
       "  45.8815,369.65 48.6324,368.64 51.3833,367.625 54.1342,366.605 56.8851,365.579 59.636,364.549 62.3869,363.513 65.1378,362.472 67.8887,361.426 70.6396,360.375 \n",
       "  73.3905,359.318 76.1414,358.256 78.8923,357.189 81.6433,356.117 84.3942,355.039 87.1451,353.955 89.896,352.867 92.6469,351.772 95.3978,350.673 98.1487,349.567 \n",
       "  100.9,348.457 103.651,347.34 106.401,346.218 109.152,345.091 111.903,343.957 114.654,342.819 117.405,341.674 120.156,340.524 122.907,339.367 125.658,338.206 \n",
       "  128.409,337.038 131.16,335.864 133.91,334.685 136.661,333.499 139.412,332.308 142.163,331.111 144.914,329.907 147.665,328.698 150.416,327.483 153.167,326.261 \n",
       "  155.918,325.033 158.669,323.8 161.42,322.56 164.17,321.314 166.921,320.061 169.672,318.802 172.423,317.537 175.174,316.266 177.925,314.988 180.676,313.704 \n",
       "  183.427,312.414 186.178,311.117 188.929,309.813 191.68,308.503 194.43,307.186 197.181,305.863 199.932,304.533 202.683,303.197 205.434,301.854 208.185,300.504 \n",
       "  210.936,299.147 213.687,297.783 216.438,296.413 219.189,295.036 221.94,293.652 224.69,292.261 227.441,290.863 230.192,289.457 232.943,288.045 235.694,286.626 \n",
       "  238.445,285.2 241.196,283.766 243.947,282.326 246.698,280.878 249.449,279.423 252.2,277.96 254.95,276.491 257.701,275.014 260.452,273.529 263.203,272.037 \n",
       "  265.954,270.538 268.705,269.031 271.456,267.516 274.207,265.994 276.958,264.465 279.709,262.927 282.46,261.382 285.21,259.829 287.961,258.269 290.712,256.7 \n",
       "  293.463,255.124 296.214,253.54 298.965,251.948 301.716,250.348 304.467,248.739 307.218,247.123 309.969,245.499 312.719,243.866 315.47,242.226 318.221,240.577 \n",
       "  320.972,238.92 323.723,237.254 326.474,235.581 329.225,233.898 331.976,232.208 334.727,230.509 337.478,228.801 340.229,227.085 342.979,225.36 345.73,223.627 \n",
       "  348.481,221.885 351.232,220.134 353.983,218.375 356.734,216.606 359.485,214.829 362.236,213.043 364.987,211.248 367.738,209.443 370.489,207.63 373.239,205.808 \n",
       "  375.99,203.977 378.741,202.136 381.492,200.286 384.243,198.427 386.994,196.559 389.745,194.681 392.496,192.794 395.247,190.897 397.998,188.991 400.749,187.075 \n",
       "  403.499,185.15 406.25,183.215 409.001,181.271 411.752,179.316 414.503,177.352 417.254,175.378 420.005,173.394 422.756,171.4 425.507,169.396 428.258,167.382 \n",
       "  431.009,165.358 433.759,163.324 436.51,161.28 439.261,159.225 442.012,157.16 444.763,155.085 447.514,152.999 450.265,150.903 453.016,148.797 455.767,146.68 \n",
       "  458.518,144.552 461.269,142.413 464.019,140.264 466.77,138.104 469.521,135.934 472.272,133.752 475.023,131.559 477.774,129.356 480.525,127.141 483.276,124.915 \n",
       "  486.027,122.679 488.778,120.43 491.528,118.171 494.279,115.9 497.03,113.618 499.781,111.325 502.532,109.02 505.283,106.703 508.034,104.375 510.785,102.035 \n",
       "  513.536,99.6839 516.287,97.3205 519.038,94.9453 521.788,92.5582 524.539,90.1592 527.29,87.7481 530.041,85.3249 532.792,82.8896 535.543,80.4421 538.294,77.9823 \n",
       "  541.045,75.5102 543.796,73.0257 546.547,70.5288 549.298,68.0193 552.048,65.4972 554.799,62.9625 557.55,60.4151 560.301,57.855 563.052,55.282 565.803,52.6961 \n",
       "  568.554,50.0972 571.305,47.4854 574.056,44.8604 576.807,42.2223 579.558,39.5709 582.308,36.9063 585.059,34.2283 587.81,31.5369 590.561,28.832 593.312,26.1135 \n",
       "  596.063,23.3815 \n",
       "  \"/>\n",
       "<polyline clip-path=\"url(#clip02)\" style=\"stroke:#e9746a; stroke-width:0.8; stroke-opacity:1; fill:none\" points=\"\n",
       "  45.8815,369.663 48.6324,368.653 51.3833,367.637 54.1342,366.617 56.8851,365.592 59.636,364.561 62.3869,363.525 65.1378,362.485 67.8887,361.438 70.6396,360.387 \n",
       "  73.3905,359.33 76.1414,358.269 78.8923,357.201 81.6433,356.129 84.3942,355.051 87.1451,353.967 89.896,352.879 92.6469,351.784 95.3978,350.685 98.1487,349.579 \n",
       "  100.9,348.469 103.651,347.352 106.401,346.23 109.152,345.103 111.903,343.969 114.654,342.83 117.405,341.686 120.156,340.535 122.907,339.379 125.658,338.217 \n",
       "  128.409,337.05 131.16,335.876 133.91,334.697 136.661,333.511 139.412,332.32 142.163,331.123 144.914,329.919 147.665,328.71 150.416,327.495 153.167,326.273 \n",
       "  155.918,325.045 158.669,323.812 161.42,322.572 164.17,321.325 166.921,320.073 169.672,318.814 172.423,317.549 175.174,316.278 177.925,315 180.676,313.716 \n",
       "  183.427,312.426 186.178,311.129 188.929,309.825 191.68,308.515 194.43,307.198 197.181,305.875 199.932,304.545 202.683,303.209 205.434,301.865 208.185,300.516 \n",
       "  210.936,299.159 213.687,297.795 216.438,296.425 219.189,295.048 221.94,293.664 224.69,292.272 227.441,290.874 230.192,289.469 232.943,288.057 235.694,286.638 \n",
       "  238.445,285.212 241.196,283.778 243.947,282.338 246.698,280.89 249.449,279.435 252.2,277.972 254.95,276.503 257.701,275.026 260.452,273.541 263.203,272.049 \n",
       "  265.954,270.55 268.705,269.043 271.456,267.528 274.207,266.006 276.958,264.476 279.709,262.939 282.46,261.394 285.21,259.841 287.961,258.281 290.712,256.712 \n",
       "  293.463,255.136 296.214,253.552 298.965,251.96 301.716,250.359 304.467,248.751 307.218,247.135 309.969,245.511 312.719,243.878 315.47,242.238 318.221,240.589 \n",
       "  320.972,238.932 323.723,237.266 326.474,235.593 329.225,233.91 331.976,232.22 334.727,230.521 337.478,228.813 340.229,227.097 342.979,225.372 345.73,223.639 \n",
       "  348.481,221.897 351.232,220.146 353.983,218.386 356.734,216.618 359.485,214.841 362.236,213.055 364.987,211.259 367.738,209.455 370.489,207.642 373.239,205.82 \n",
       "  375.99,203.988 378.741,202.148 381.492,200.298 384.243,198.439 386.994,196.571 389.745,194.693 392.496,192.806 395.247,190.909 397.998,189.003 400.749,187.087 \n",
       "  403.499,185.162 406.25,183.227 409.001,181.282 411.752,179.328 414.503,177.364 417.254,175.39 420.005,173.406 422.756,171.412 425.507,169.408 428.258,167.394 \n",
       "  431.009,165.37 433.759,163.336 436.51,161.292 439.261,159.237 442.012,157.172 444.763,155.097 447.514,153.011 450.265,150.915 453.016,148.809 455.767,146.691 \n",
       "  458.518,144.564 461.269,142.425 464.019,140.276 466.77,138.116 469.521,135.945 472.272,133.764 475.023,131.571 477.774,129.368 480.525,127.153 483.276,124.927 \n",
       "  486.027,122.69 488.778,120.442 491.528,118.183 494.279,115.912 497.03,113.63 499.781,111.337 502.532,109.032 505.283,106.715 508.034,104.387 510.785,102.047 \n",
       "  513.536,99.6957 516.287,97.3324 519.038,94.9572 521.788,92.5701 524.539,90.171 527.29,87.7599 530.041,85.3368 532.792,82.9014 535.543,80.4539 538.294,77.9941 \n",
       "  541.045,75.522 543.796,73.0375 546.547,70.5405 549.298,68.031 552.048,65.509 554.799,62.9743 557.55,60.4268 560.301,57.8667 563.052,55.2937 565.803,52.7077 \n",
       "  568.554,50.1089 571.305,47.497 574.056,44.872 576.807,42.2338 579.558,39.5825 582.308,36.9178 585.059,34.2398 587.81,31.5483 590.561,28.8434 593.312,26.1249 \n",
       "  596.063,23.3928 \n",
       "  \"/>\n",
       "<polygon clip-path=\"url(#clip00)\" points=\"\n",
       "416.279,89.6215 578.063,89.6215 578.063,44.2615 416.279,44.2615 \n",
       "  \" fill=\"#ffffff\" fill-opacity=\"1\"/>\n",
       "<polyline clip-path=\"url(#clip00)\" style=\"stroke:#00002d; stroke-width:0.8; stroke-opacity:1; fill:none\" points=\"\n",
       "  416.279,89.6215 578.063,89.6215 578.063,44.2615 416.279,44.2615 416.279,89.6215 \n",
       "  \"/>\n",
       "<polyline clip-path=\"url(#clip00)\" style=\"stroke:#0099ff; stroke-width:0.8; stroke-opacity:0.4; fill:none\" points=\"\n",
       "  422.279,59.3815 458.279,59.3815 \n",
       "  \"/>\n",
       "<g clip-path=\"url(#clip00)\">\n",
       "<text style=\"fill:#00002d; fill-opacity:1; font-family:Arial,Helvetica Neue,Helvetica,sans-serif; font-size:12; text-anchor:start;\" transform=\"rotate(0, 464.279, 63.8815)\" x=\"464.279\" y=\"63.8815\">rango de error, n=6</text>\n",
       "</g>\n",
       "<polyline clip-path=\"url(#clip00)\" style=\"stroke:#e9746a; stroke-width:0.8; stroke-opacity:1; fill:none\" points=\"\n",
       "  422.279,74.5015 458.279,74.5015 \n",
       "  \"/>\n",
       "<g clip-path=\"url(#clip00)\">\n",
       "<text style=\"fill:#00002d; fill-opacity:1; font-family:Arial,Helvetica Neue,Helvetica,sans-serif; font-size:12; text-anchor:start;\" transform=\"rotate(0, 464.279, 79.0015)\" x=\"464.279\" y=\"79.0015\">funcion real</text>\n",
       "</g>\n",
       "</svg>\n"
      ]
     },
     "execution_count": 48,
     "metadata": {
      "comm_id": "ddceaf6a-c521-48dc-8bee-cdd564b5859f",
      "reactive": true
     },
     "output_type": "execute_result"
    }
   ],
   "source": [
    "@manipulate for n in 2:10\n",
    "    d=e^(1/2)*((1/2)^n)/factorial(big(n))\n",
    "    plot(A,[exponencial(x,n)+d for x in A],fillrange=[exponencial(x,n)-d for x in A],alpha=.4,label=\"rango de error, n=$n\",xlabel=\"x\",ylabel=\"e^x\",title=\"Aproximación\")\n",
    "    plot!(A,[e^x for x in A], label=\"funcion real\")\n",
    "end"
   ]
  },
  {
   "cell_type": "code",
   "execution_count": null,
   "metadata": {
    "collapsed": true
   },
   "outputs": [],
   "source": []
  }
 ],
 "metadata": {
  "anaconda-cloud": {},
  "hide_input": false,
  "kernelspec": {
   "display_name": "Julia 0.5.0",
   "language": "julia",
   "name": "julia-0.5"
  },
  "language_info": {
   "file_extension": ".jl",
   "mimetype": "application/julia",
   "name": "julia",
   "version": "0.5.0"
  },
  "widgets": {
   "state": {
    "6e107f6f-abc6-46c6-a746-7c278ee8f25c": {
     "views": [
      {
       "cell_index": 24
      }
     ]
    },
    "a4446986-530a-4274-987e-967c2a4e6b42": {
     "views": [
      {
       "cell_index": 39
      }
     ]
    }
   },
   "version": "1.2.0"
  }
 },
 "nbformat": 4,
 "nbformat_minor": 0
}
