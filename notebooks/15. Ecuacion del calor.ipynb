{
 "cells": [
  {
   "cell_type": "markdown",
   "metadata": {},
   "source": [
    "# Ecuaciones parciales diferenciales de evolución"
   ]
  },
  {
   "cell_type": "markdown",
   "metadata": {},
   "source": [
    "Las ecuaciones diferenciales parciales (EDPs) constituyen otra área de suma importancia en la física, ya que modelan sistemas que varían con respecto a más de una variable independiente, por ejemplo, tanto el tiempo como el espacio.\n",
    "\n",
    "Del punto de vista numérico, se puede decir que el tipo de EDPs que es más sencillo conceptualmente son las llamadas **parabólicas**, es decir, **ecuaciones de evolución**, de las cuales la más conocida es la **ecuación del calor** o **ecuación de difusión**."
   ]
  },
  {
   "cell_type": "markdown",
   "metadata": {},
   "source": [
    "# La ecuación del calor"
   ]
  },
  {
   "cell_type": "markdown",
   "metadata": {},
   "source": [
    "La ecuación del calor modela el esparcimiento en el tiempo y en el espacio de un \"paquete\" del calor (perturbación local de temperatura en una región) o de concentración de una sustancia física o química. \n",
    "\n",
    "Llamemos $u(t, \\mathbf{x})$ la perturbación de la temperatura o la concentración de la sustancia en la posición $\\mathbf{x}$ al tiempo $t$. La ecuación de calor es\n",
    "\n",
    "$$\\frac{\\partial u(t, \\mathbf{x})}{\\partial t} = D \\, \\nabla^2 u(t, \\mathbf{x}).$$\n",
    "\n",
    "[Recordemos que $\\nabla^2 := \\frac{\\partial^2}{\\partial x^2} + \\frac{\\partial^2}{\\partial y^2} + \\frac{\\partial^2}{\\partial z^2}$ en tres dimensiones.]\n",
    "\n",
    "Esta ecuación nos dice cómo varía la concentración en el tiempo, dadas las condiciones locales en el espacio. Se deriva en términos de una ley de conservación:\n",
    "\n",
    "$$\\frac{\\partial u}{\\partial t} + \\nabla \\cdot \\mathbf{J} = 0,$$\n",
    "\n",
    "donde el flujo de calor o de concentración $\\mathbf{J}$ es proporcional a la gradiente local:\n",
    "\n",
    "$$\\mathbf{J} = -D \\, \\nabla u.$$\n",
    "\n",
    "La ecuación del calor es una **ecuación de evolución** que describe cómo evoluciona el sistema en el tiempo. Por lo tanto, su tratamiento se sigue de forma más directa de lo que hemos visto para EDOs."
   ]
  },
  {
   "cell_type": "markdown",
   "metadata": {},
   "source": [
    "## Una dimensión\n",
    "\n",
    "Empecemos con el caso más sencillo, con sólo una dimensión espacial. En este caso, la ecuación del calor se reduce a\n",
    "\n",
    "$$\\frac{\\partial u(t, x)}{\\partial t} = D \\frac{\\partial^2 u(t, x)}{\\partial x^2}.$$\n",
    "\n",
    "Para resolverla, necesitaremos una condición inicial $u(t=0, x) = f(x)$ (una función del espacio), así como condiciones en la frontera $u(t, x)$ para los valores de $x$ en la frontera del dominio espacial, y para todo $t$."
   ]
  },
  {
   "cell_type": "markdown",
   "metadata": {},
   "source": [
    "# Métodos numéricos para la ecuación del calor"
   ]
  },
  {
   "cell_type": "markdown",
   "metadata": {},
   "source": [
    "Dado que, como siempre, no podemos resolver problemas de naturaleza continua en la computadora, debemos *aproximar* la solución $u(t, x)$ de alguna forma. La manera más sencilla es, de nuevo, utilizar una **discretización*."
   ]
  },
  {
   "cell_type": "markdown",
   "metadata": {},
   "source": [
    "**[1]** (i) Pensando en tu experiencia con las ecuaciones diferenciales ordinarias, ¿cómo se puede discretizar $u(t, x)$, utilizando un tamaño de paso $h$ en el tiempo y $k$ en el espacio. Piensa que los valores posibles de $x$ son en el intervalo $[0, L]$.\n",
    "\n",
    "Denotemos con $t_n$ el tiempo al paso número $n$, y con $u^n_i$ la aproximación de la solución en el nodo número $i$ en el espacio al tiempo $n$.\n",
    "\n",
    "(ii) ¿Cómo se puede discretizar la ecuación del calor unidimensional? \n",
    "\n",
    "(iii) Reescribe la discretización para dar $u^{n+1}_i$ en términos de distintos $u^n_j$s al tiempo anterior."
   ]
  },
  {
<<<<<<< HEAD
   "cell_type": "code",
   "execution_count": 1,
   "metadata": {
    "collapsed": false
   },
   "outputs": [
    {
     "data": {
      "text/html": [
       "<div id=\"interact-js-shim\">\n",
       "    <script charset=\"utf-8\">\r\n",
       "(function (IPython, $, _, MathJax) {\r\n",
       "    $.event.special.destroyed = {\r\n",
       "\tremove: function(o) {\r\n",
       "\t    if (o.handler) {\r\n",
       "\t\to.handler.apply(this, arguments)\r\n",
       "\t    }\r\n",
       "\t}\r\n",
       "    }\r\n",
       "\r\n",
       "    var OutputArea = IPython.version >= \"4.0.0\" ? require(\"notebook/js/outputarea\").OutputArea : IPython.OutputArea;\r\n",
       "\r\n",
       "    var redrawValue = function (container, type, val) {\r\n",
       "\tvar selector = $(\"<div/>\");\r\n",
       "\tvar oa = new OutputArea(_.extend(selector, {\r\n",
       "\t    selector: selector,\r\n",
       "\t    prompt_area: true,\r\n",
       "\t    events: IPython.events,\r\n",
       "\t    keyboard_manager: IPython.keyboard_manager\r\n",
       "\t})); // Hack to work with IPython 2.1.0\r\n",
       "\r\n",
       "\tswitch (type) {\r\n",
       "\tcase \"image/png\":\r\n",
       "            var _src = 'data:' + type + ';base64,' + val;\r\n",
       "\t    $(container).find(\"img\").attr('src', _src);\r\n",
       "\t    break;\r\n",
       "\tcase \"text/latex\":\r\n",
       "\t\tif (MathJax){\r\n",
       "\t\t\tvar math = MathJax.Hub.getAllJax(container)[0];\r\n",
       "\t\t\tMathJax.Hub.Queue([\"Text\", math, val.replace(/^\\${1,2}|\\${1,2}$/g, '')]);\r\n",
       "\t\t\tbreak;\r\n",
       "\t\t}\r\n",
       "\tdefault:\r\n",
       "\t    var toinsert = OutputArea.append_map[type].apply(\r\n",
       "\t\toa, [val, {}, selector]\r\n",
       "\t    );\r\n",
       "\t    $(container).empty().append(toinsert.contents());\r\n",
       "\t    selector.remove();\r\n",
       "\t}\r\n",
       "    }\r\n",
       "\r\n",
       "\r\n",
       "    $(document).ready(function() {\r\n",
       "\tfunction initComm(evt, data) {\r\n",
       "\t    var comm_manager = data.kernel.comm_manager;\r\n",
       "        //_.extend(comm_manager.targets, require(\"widgets/js/widget\"))\r\n",
       "\t    comm_manager.register_target(\"Signal\", function (comm) {\r\n",
       "            comm.on_msg(function (msg) {\r\n",
       "                var val = msg.content.data.value;\r\n",
       "                $(\".signal-\" + comm.comm_id).each(function() {\r\n",
       "                var type = $(this).data(\"type\");\r\n",
       "                if (typeof(val[type]) !== \"undefined\" && val[type] !== null) {\r\n",
       "                    redrawValue(this, type, val[type], type);\r\n",
       "                }\r\n",
       "                });\r\n",
       "                delete val;\r\n",
       "                delete msg.content.data.value;\r\n",
       "            });\r\n",
       "\t    });\r\n",
       "\r\n",
       "\t    // coordingate with Comm and redraw Signals\r\n",
       "\t    // XXX: Test using Reactive here to improve performance\r\n",
       "\t    $([IPython.events]).on(\r\n",
       "\t\t'output_appended.OutputArea', function (event, type, value, md, toinsert) {\r\n",
       "\t\t    if (md && md.reactive) {\r\n",
       "                // console.log(md.comm_id);\r\n",
       "                toinsert.addClass(\"signal-\" + md.comm_id);\r\n",
       "                toinsert.data(\"type\", type);\r\n",
       "                // Signal back indicating the mimetype required\r\n",
       "                var comm_manager = IPython.notebook.kernel.comm_manager;\r\n",
       "                var comm = comm_manager.comms[md.comm_id];\r\n",
       "                comm.then(function (c) {\r\n",
       "                    c.send({action: \"subscribe_mime\",\r\n",
       "                       mime: type});\r\n",
       "                    toinsert.bind(\"destroyed\", function() {\r\n",
       "                        c.send({action: \"unsubscribe_mime\",\r\n",
       "                               mime: type});\r\n",
       "                    });\r\n",
       "                })\r\n",
       "\t\t    }\r\n",
       "\t    });\r\n",
       "\t}\r\n",
       "\r\n",
       "\ttry {\r\n",
       "\t    // try to initialize right away. otherwise, wait on the status_started event.\r\n",
       "\t    initComm(undefined, IPython.notebook);\r\n",
       "\t} catch (e) {\r\n",
       "\t    $([IPython.events]).on('kernel_created.Kernel kernel_created.Session', initComm);\r\n",
       "\t}\r\n",
       "    });\r\n",
       "})(IPython, jQuery, _, MathJax);\r\n",
       "</script>\n",
       "    <script>\n",
       "        window.interactLoadedFlag = true\n",
       "       $(\"#interact-js-shim\").bind(\"destroyed\", function () {\n",
       "           if (window.interactLoadedFlag) {\n",
       "               console.warn(\"JavaScript required by Interact will be removed if you remove this cell or run using Interact more than once.\")\n",
       "           }\n",
       "       })\n",
       "       $([IPython.events]).on(\"kernel_starting.Kernel kernel_restarting.Kernel\", function () { window.interactLoadedFlag = false })\n",
       "   </script>\n",
       "</div>"
      ]
     },
     "metadata": {},
     "output_type": "display_data"
    },
    {
     "data": {
      "text/plain": [
       "Plots.GRBackend()"
      ]
     },
     "execution_count": 1,
     "metadata": {},
     "output_type": "execute_result"
    }
   ],
   "source": [
    "using Plots,Interact\n",
    "gr()"
   ]
  },
  {
   "cell_type": "code",
   "execution_count": 2,
   "metadata": {
    "collapsed": false
   },
   "outputs": [
    {
     "data": {
      "text/plain": [
       "malla (generic function with 1 method)"
      ]
     },
     "execution_count": 2,
     "metadata": {},
     "output_type": "execute_result"
    }
   ],
   "source": [
    "function malla(L::Tuple{Float64,Float64},tf::Number;h::Number=1e-2,k::Number=1e-2)\n",
    "    X=[L[1]]\n",
    "    x=L[1]+k\n",
    "    while x<L[2]\n",
    "        push!(X,x)\n",
    "        x=x+k\n",
    "    end\n",
    "    T=[0.0]\n",
    "    t=0.0+h\n",
    "    while t<tf\n",
    "        push!(T,t)\n",
    "        t=t+h\n",
    "    end\n",
    "    return (T,X)\n",
    "end"
   ]
  },
  {
   "cell_type": "code",
   "execution_count": 3,
   "metadata": {
    "collapsed": false
   },
   "outputs": [
    {
     "data": {
      "text/plain": [
       "([0.0,0.01,0.02,0.03,0.04,0.05,0.06,0.07,0.08,0.09  …  2.91,2.92,2.93,2.94,2.95,2.96,2.97,2.98,2.99,3.0],[-2.0,-1.99,-1.98,-1.97,-1.96,-1.95,-1.94,-1.93,-1.92,-1.91  …  1.9,1.91,1.92,1.93,1.94,1.95,1.96,1.97,1.98,1.99])"
      ]
     },
     "execution_count": 3,
     "metadata": {},
     "output_type": "execute_result"
    }
   ],
   "source": [
    "malla((-2.0,2.0),3)"
   ]
  },
  {
   "cell_type": "markdown",
   "metadata": {},
   "source": [
    "### [1]\n",
    "\n",
    "Para discretizar la ecuación de calor, podemos utilizar la aproximación de la segunda derivada a partir de las expansiones de taylor de una función $f(x)$. Así, tenemos que \n",
    "\n",
    "$$f(x+k)=f(x)+k f'(x)+\\frac{k^2}{2} f''(x) $$\n",
    "\n",
    "$$f(x-k)=f(x)-k f'(x)+\\frac{k^2}{2} f''(x) $$\n",
    "\n",
    "$$f''(x)=\\frac{f(x+k)+f(x-k)-2f(x)}{k^2}$$\n",
    "\n",
    "Así, podemos reescribir la ecuación de calor como \n",
    "\n",
    "$$u(t+h,x)= u(t,x)+\\frac{hD}{k^2}(u(t,x+k)+u(t,x-k)-2u(t,x))$$\n",
    "\n",
    "Equivalentemente, utilizando la notación mencionada arriba,\n",
    "\n",
    "$$u^{n+1}_i= u^n_j+\\frac{hD}{k^2}(u^n_{j+1}+u^n_{j-1}-2u^n_j)$$"
   ]
  },
  {
=======
>>>>>>> upstream/master
   "cell_type": "markdown",
   "metadata": {},
   "source": [
    "**[2]** Considera la ecuación del calor en una dimensión sobre el intervalo de $x=-L$ a $x=L$, con condición inicial $u(t=0, x) = \\delta(x)$, donde $\\delta$ es la delta de Dirac, y condiciones de frontera absorbentes (de Dirichlet), es decir, $u(t, x=-L) = u(t, x=L) = 0$ para $t > 0$.\n",
    "\n",
    "(i) ¿Qué esperas intuitivamente que pase durante la evolución? ¿Qué pasará para tiempos largos?\n",
    "\n",
    "(ii) Escribe la solución analítica exacta para $u(x, t)$ en el caso cuando $L \\to \\infty$ (es decir, cuando \"no hay fronteras\" y la difusión ocurre en toda la recta real).\n",
    "\n",
    "(iii) Implementa el sistema, tomando cuidado en lo que ocurre en las fronteras. Para hacerlo, utiliza un vector para representar el estado actual del sistema, y otro vector para el estado al tiempo siguiente.\n",
    "\n",
    "(iv) Dibuja la evolución en el tiempo, por ejemplo usando `Interact`. ¿Ocurre lo que esperabas? Dibuja en la misma gráfica la solución analítica exacta para $L \\to \\infty$. ¿Qué observas?\n",
    "\n",
    "(v) También dibuja la evolución como un \"heat map\" (mapa de calor), es decir, dibuja la matriz dos-dimensional $u^n_i$ con colores que representan los valores de cada elemento de la matriz.\n",
    "\n",
    "(v) ¿Qué ocurre si tomas otra condición inicial, por ejemplo una suma de dos deltas? Compáralo con el caso anterior en la misma gráfica."
   ]
  },
  {
<<<<<<< HEAD
   "cell_type": "code",
   "execution_count": 4,
   "metadata": {
    "collapsed": false
   },
   "outputs": [
    {
     "data": {
      "text/plain": [
       "deltadir (generic function with 1 method)"
      ]
     },
     "execution_count": 4,
     "metadata": {},
     "output_type": "execute_result"
    }
   ],
   "source": [
    "function deltadir(x::Number;inf::Number=1e5)\n",
    "    if abs(x)<=1/inf\n",
    "        return inf\n",
    "    else\n",
    "        return 0\n",
    "    end\n",
    "end"
   ]
  },
  {
   "cell_type": "code",
   "execution_count": 5,
   "metadata": {
    "collapsed": false
   },
   "outputs": [
    {
     "data": {
      "text/html": [
       "<?xml version=\"1.0\" encoding=\"utf-8\"?>\n",
       "<svg xmlns=\"http://www.w3.org/2000/svg\" xmlns:xlink=\"http://www.w3.org/1999/xlink\" width=\"600\" height=\"400\" viewBox=\"0 0 600 400\">\n",
       "<defs>\n",
       "  <clipPath id=\"clip00\">\n",
       "    <rect x=\"0\" y=\"0\" width=\"600\" height=\"400\"/>\n",
       "  </clipPath>\n",
       "</defs>\n",
       "<polygon clip-path=\"url(#clip00)\" points=\"\n",
       "0,400 600,400 600,0 0,0 \n",
       "  \" fill=\"#ffffff\" fill-opacity=\"1\"/>\n",
       "<defs>\n",
       "  <clipPath id=\"clip01\">\n",
       "    <rect x=\"120\" y=\"0\" width=\"421\" height=\"400\"/>\n",
       "  </clipPath>\n",
       "</defs>\n",
       "<polygon clip-path=\"url(#clip00)\" points=\"\n",
       "30.6037,384.952 596.063,384.952 596.063,23.3815 30.6037,23.3815 \n",
       "  \" fill=\"#ffffff\" fill-opacity=\"1\"/>\n",
       "<defs>\n",
       "  <clipPath id=\"clip02\">\n",
       "    <rect x=\"30\" y=\"23\" width=\"566\" height=\"362\"/>\n",
       "  </clipPath>\n",
       "</defs>\n",
       "<polyline clip-path=\"url(#clip02)\" style=\"stroke:#00002d; stroke-width:0.8; stroke-opacity:0.5; fill:none\" stroke-dasharray=\"1, 2\" points=\"\n",
       "  30.6037,379.528 30.6037,28.805 \n",
       "  \"/>\n",
       "<polyline clip-path=\"url(#clip02)\" style=\"stroke:#00002d; stroke-width:0.8; stroke-opacity:0.5; fill:none\" stroke-dasharray=\"1, 2\" points=\"\n",
       "  171.969,379.528 171.969,28.805 \n",
       "  \"/>\n",
       "<polyline clip-path=\"url(#clip02)\" style=\"stroke:#00002d; stroke-width:0.8; stroke-opacity:0.5; fill:none\" stroke-dasharray=\"1, 2\" points=\"\n",
       "  313.333,379.528 313.333,28.805 \n",
       "  \"/>\n",
       "<polyline clip-path=\"url(#clip02)\" style=\"stroke:#00002d; stroke-width:0.8; stroke-opacity:0.5; fill:none\" stroke-dasharray=\"1, 2\" points=\"\n",
       "  454.698,379.528 454.698,28.805 \n",
       "  \"/>\n",
       "<polyline clip-path=\"url(#clip02)\" style=\"stroke:#00002d; stroke-width:0.8; stroke-opacity:0.5; fill:none\" stroke-dasharray=\"1, 2\" points=\"\n",
       "  596.063,379.528 596.063,28.805 \n",
       "  \"/>\n",
       "<polyline clip-path=\"url(#clip02)\" style=\"stroke:#00002d; stroke-width:0.8; stroke-opacity:0.5; fill:none\" stroke-dasharray=\"1, 2\" points=\"\n",
       "  39.0856,384.952 587.581,384.952 \n",
       "  \"/>\n",
       "<polyline clip-path=\"url(#clip02)\" style=\"stroke:#00002d; stroke-width:0.8; stroke-opacity:0.5; fill:none\" stroke-dasharray=\"1, 2\" points=\"\n",
       "  39.0856,312.638 587.581,312.638 \n",
       "  \"/>\n",
       "<polyline clip-path=\"url(#clip02)\" style=\"stroke:#00002d; stroke-width:0.8; stroke-opacity:0.5; fill:none\" stroke-dasharray=\"1, 2\" points=\"\n",
       "  39.0856,240.324 587.581,240.324 \n",
       "  \"/>\n",
       "<polyline clip-path=\"url(#clip02)\" style=\"stroke:#00002d; stroke-width:0.8; stroke-opacity:0.5; fill:none\" stroke-dasharray=\"1, 2\" points=\"\n",
       "  39.0856,168.01 587.581,168.01 \n",
       "  \"/>\n",
       "<polyline clip-path=\"url(#clip02)\" style=\"stroke:#00002d; stroke-width:0.8; stroke-opacity:0.5; fill:none\" stroke-dasharray=\"1, 2\" points=\"\n",
       "  39.0856,95.6955 587.581,95.6955 \n",
       "  \"/>\n",
       "<polyline clip-path=\"url(#clip02)\" style=\"stroke:#00002d; stroke-width:0.8; stroke-opacity:0.5; fill:none\" stroke-dasharray=\"1, 2\" points=\"\n",
       "  39.0856,23.3815 587.581,23.3815 \n",
       "  \"/>\n",
       "<polyline clip-path=\"url(#clip02)\" style=\"stroke:#00002d; stroke-width:0.8; stroke-opacity:1; fill:none\" points=\"\n",
       "  30.6037,384.952 596.063,384.952 \n",
       "  \"/>\n",
       "<polyline clip-path=\"url(#clip02)\" style=\"stroke:#00002d; stroke-width:0.8; stroke-opacity:1; fill:none\" points=\"\n",
       "  30.6037,384.952 30.6037,379.528 \n",
       "  \"/>\n",
       "<polyline clip-path=\"url(#clip02)\" style=\"stroke:#00002d; stroke-width:0.8; stroke-opacity:1; fill:none\" points=\"\n",
       "  171.969,384.952 171.969,379.528 \n",
       "  \"/>\n",
       "<polyline clip-path=\"url(#clip02)\" style=\"stroke:#00002d; stroke-width:0.8; stroke-opacity:1; fill:none\" points=\"\n",
       "  313.333,384.952 313.333,379.528 \n",
       "  \"/>\n",
       "<polyline clip-path=\"url(#clip02)\" style=\"stroke:#00002d; stroke-width:0.8; stroke-opacity:1; fill:none\" points=\"\n",
       "  454.698,384.952 454.698,379.528 \n",
       "  \"/>\n",
       "<polyline clip-path=\"url(#clip02)\" style=\"stroke:#00002d; stroke-width:0.8; stroke-opacity:1; fill:none\" points=\"\n",
       "  596.063,384.952 596.063,379.528 \n",
       "  \"/>\n",
       "<polyline clip-path=\"url(#clip02)\" style=\"stroke:#00002d; stroke-width:0.8; stroke-opacity:1; fill:none\" points=\"\n",
       "  30.6037,384.952 30.6037,23.3815 \n",
       "  \"/>\n",
       "<polyline clip-path=\"url(#clip02)\" style=\"stroke:#00002d; stroke-width:0.8; stroke-opacity:1; fill:none\" points=\"\n",
       "  30.6037,384.952 39.0856,384.952 \n",
       "  \"/>\n",
       "<polyline clip-path=\"url(#clip02)\" style=\"stroke:#00002d; stroke-width:0.8; stroke-opacity:1; fill:none\" points=\"\n",
       "  30.6037,312.638 39.0856,312.638 \n",
       "  \"/>\n",
       "<polyline clip-path=\"url(#clip02)\" style=\"stroke:#00002d; stroke-width:0.8; stroke-opacity:1; fill:none\" points=\"\n",
       "  30.6037,240.324 39.0856,240.324 \n",
       "  \"/>\n",
       "<polyline clip-path=\"url(#clip02)\" style=\"stroke:#00002d; stroke-width:0.8; stroke-opacity:1; fill:none\" points=\"\n",
       "  30.6037,168.01 39.0856,168.01 \n",
       "  \"/>\n",
       "<polyline clip-path=\"url(#clip02)\" style=\"stroke:#00002d; stroke-width:0.8; stroke-opacity:1; fill:none\" points=\"\n",
       "  30.6037,95.6955 39.0856,95.6955 \n",
       "  \"/>\n",
       "<polyline clip-path=\"url(#clip02)\" style=\"stroke:#00002d; stroke-width:0.8; stroke-opacity:1; fill:none\" points=\"\n",
       "  30.6037,23.3815 39.0856,23.3815 \n",
       "  \"/>\n",
       "<g clip-path=\"url(#clip00)\">\n",
       "<text style=\"fill:#00002d; fill-opacity:1; font-family:Arial,Helvetica Neue,Helvetica,sans-serif; font-size:12; text-anchor:middle;\" transform=\"rotate(0, 30.6037, 396.952)\" x=\"30.6037\" y=\"396.952\">-1.0</text>\n",
       "</g>\n",
       "<g clip-path=\"url(#clip00)\">\n",
       "<text style=\"fill:#00002d; fill-opacity:1; font-family:Arial,Helvetica Neue,Helvetica,sans-serif; font-size:12; text-anchor:middle;\" transform=\"rotate(0, 171.969, 396.952)\" x=\"171.969\" y=\"396.952\">-0.5</text>\n",
       "</g>\n",
       "<g clip-path=\"url(#clip00)\">\n",
       "<text style=\"fill:#00002d; fill-opacity:1; font-family:Arial,Helvetica Neue,Helvetica,sans-serif; font-size:12; text-anchor:middle;\" transform=\"rotate(0, 313.333, 396.952)\" x=\"313.333\" y=\"396.952\">0.0</text>\n",
       "</g>\n",
       "<g clip-path=\"url(#clip00)\">\n",
       "<text style=\"fill:#00002d; fill-opacity:1; font-family:Arial,Helvetica Neue,Helvetica,sans-serif; font-size:12; text-anchor:middle;\" transform=\"rotate(0, 454.698, 396.952)\" x=\"454.698\" y=\"396.952\">0.5</text>\n",
       "</g>\n",
       "<g clip-path=\"url(#clip00)\">\n",
       "<text style=\"fill:#00002d; fill-opacity:1; font-family:Arial,Helvetica Neue,Helvetica,sans-serif; font-size:12; text-anchor:middle;\" transform=\"rotate(0, 596.063, 396.952)\" x=\"596.063\" y=\"396.952\">1.0</text>\n",
       "</g>\n",
       "<g clip-path=\"url(#clip00)\">\n",
       "<text style=\"fill:#00002d; fill-opacity:1; font-family:Arial,Helvetica Neue,Helvetica,sans-serif; font-size:12; text-anchor:end;\" transform=\"rotate(0, 29.4037, 389.452)\" x=\"29.4037\" y=\"389.452\">0</text>\n",
       "</g>\n",
       "<g clip-path=\"url(#clip00)\">\n",
       "<text style=\"fill:#00002d; fill-opacity:1; font-family:Arial,Helvetica Neue,Helvetica,sans-serif; font-size:12; text-anchor:end;\" transform=\"rotate(0, 29.4037, 317.138)\" x=\"29.4037\" y=\"317.138\">20</text>\n",
       "</g>\n",
       "<g clip-path=\"url(#clip00)\">\n",
       "<text style=\"fill:#00002d; fill-opacity:1; font-family:Arial,Helvetica Neue,Helvetica,sans-serif; font-size:12; text-anchor:end;\" transform=\"rotate(0, 29.4037, 244.824)\" x=\"29.4037\" y=\"244.824\">40</text>\n",
       "</g>\n",
       "<g clip-path=\"url(#clip00)\">\n",
       "<text style=\"fill:#00002d; fill-opacity:1; font-family:Arial,Helvetica Neue,Helvetica,sans-serif; font-size:12; text-anchor:end;\" transform=\"rotate(0, 29.4037, 172.51)\" x=\"29.4037\" y=\"172.51\">60</text>\n",
       "</g>\n",
       "<g clip-path=\"url(#clip00)\">\n",
       "<text style=\"fill:#00002d; fill-opacity:1; font-family:Arial,Helvetica Neue,Helvetica,sans-serif; font-size:12; text-anchor:end;\" transform=\"rotate(0, 29.4037, 100.196)\" x=\"29.4037\" y=\"100.196\">80</text>\n",
       "</g>\n",
       "<g clip-path=\"url(#clip00)\">\n",
       "<text style=\"fill:#00002d; fill-opacity:1; font-family:Arial,Helvetica Neue,Helvetica,sans-serif; font-size:12; text-anchor:end;\" transform=\"rotate(0, 29.4037, 27.8815)\" x=\"29.4037\" y=\"27.8815\">100</text>\n",
       "</g>\n",
       "<g clip-path=\"url(#clip00)\">\n",
       "<text style=\"fill:#00002d; fill-opacity:1; font-family:Arial,Helvetica Neue,Helvetica,sans-serif; font-size:21; text-anchor:middle;\" transform=\"rotate(0, 313.333, 18)\" x=\"313.333\" y=\"18\">Delta</text>\n",
       "</g>\n",
       "<polyline clip-path=\"url(#clip02)\" style=\"stroke:#0099ff; stroke-width:0.8; stroke-opacity:1; fill:none\" points=\"\n",
       "  30.6037,384.952 33.4452,384.952 36.2867,384.952 39.1282,384.952 41.9697,384.952 44.8112,384.952 47.6527,384.952 50.4942,384.952 53.3357,384.952 56.1772,384.952 \n",
       "  59.0187,384.952 61.8602,384.952 64.7017,384.952 67.5432,384.952 70.3847,384.952 73.2262,384.952 76.0677,384.952 78.9092,384.952 81.7507,384.952 84.5923,384.952 \n",
       "  87.4338,384.952 90.2753,384.952 93.1168,384.952 95.9583,384.952 98.7998,384.952 101.641,384.952 104.483,384.952 107.324,384.952 110.166,384.952 113.007,384.952 \n",
       "  115.849,384.952 118.69,384.952 121.532,384.952 124.373,384.952 127.215,384.952 130.056,384.952 132.898,384.952 135.739,384.952 138.581,384.952 141.422,384.952 \n",
       "  144.264,384.952 147.105,384.952 149.947,384.952 152.788,384.952 155.63,384.952 158.471,384.952 161.313,384.952 164.154,384.952 166.996,384.952 169.837,384.952 \n",
       "  172.679,384.952 175.52,384.952 178.362,384.952 181.203,384.952 184.045,384.952 186.886,384.952 189.728,384.952 192.569,384.952 195.411,384.952 198.252,384.952 \n",
       "  201.094,384.952 203.935,384.952 206.777,384.952 209.618,384.952 212.46,384.952 215.301,384.952 218.143,384.952 220.984,384.952 223.826,384.952 226.667,384.952 \n",
       "  229.509,384.952 232.35,384.952 235.192,384.952 238.033,384.952 240.875,384.952 243.716,384.952 246.558,384.952 249.399,384.952 252.241,384.952 255.082,384.952 \n",
       "  257.924,384.952 260.766,384.952 263.607,384.952 266.449,384.952 269.29,384.952 272.132,384.952 274.973,384.952 277.815,384.952 280.656,384.952 283.498,384.952 \n",
       "  286.339,384.952 289.181,384.952 292.022,384.952 294.864,384.952 297.705,384.952 300.547,384.952 303.388,384.952 306.23,384.952 309.071,384.952 311.913,23.3815 \n",
       "  314.754,23.3815 317.596,384.952 320.437,384.952 323.279,384.952 326.12,384.952 328.962,384.952 331.803,384.952 334.645,384.952 337.486,384.952 340.328,384.952 \n",
       "  343.169,384.952 346.011,384.952 348.852,384.952 351.694,384.952 354.535,384.952 357.377,384.952 360.218,384.952 363.06,384.952 365.901,384.952 368.743,384.952 \n",
       "  371.584,384.952 374.426,384.952 377.267,384.952 380.109,384.952 382.95,384.952 385.792,384.952 388.633,384.952 391.475,384.952 394.316,384.952 397.158,384.952 \n",
       "  399.999,384.952 402.841,384.952 405.682,384.952 408.524,384.952 411.365,384.952 414.207,384.952 417.048,384.952 419.89,384.952 422.731,384.952 425.573,384.952 \n",
       "  428.414,384.952 431.256,384.952 434.097,384.952 436.939,384.952 439.78,384.952 442.622,384.952 445.463,384.952 448.305,384.952 451.146,384.952 453.988,384.952 \n",
       "  456.829,384.952 459.671,384.952 462.512,384.952 465.354,384.952 468.195,384.952 471.037,384.952 473.878,384.952 476.72,384.952 479.561,384.952 482.403,384.952 \n",
       "  485.244,384.952 488.086,384.952 490.927,384.952 493.769,384.952 496.61,384.952 499.452,384.952 502.293,384.952 505.135,384.952 507.976,384.952 510.818,384.952 \n",
       "  513.659,384.952 516.501,384.952 519.342,384.952 522.184,384.952 525.025,384.952 527.867,384.952 530.708,384.952 533.55,384.952 536.391,384.952 539.233,384.952 \n",
       "  542.074,384.952 544.916,384.952 547.757,384.952 550.599,384.952 553.44,384.952 556.282,384.952 559.123,384.952 561.965,384.952 564.806,384.952 567.648,384.952 \n",
       "  570.489,384.952 573.331,384.952 576.172,384.952 579.014,384.952 581.855,384.952 584.697,384.952 587.538,384.952 590.38,384.952 593.221,384.952 596.063,384.952 \n",
       "  \n",
       "  \"/>\n",
       "<polygon clip-path=\"url(#clip00)\" points=\"\n",
       "505.547,74.5015 578.063,74.5015 578.063,44.2615 505.547,44.2615 \n",
       "  \" fill=\"#ffffff\" fill-opacity=\"1\"/>\n",
       "<polyline clip-path=\"url(#clip00)\" style=\"stroke:#00002d; stroke-width:0.8; stroke-opacity:1; fill:none\" points=\"\n",
       "  505.547,74.5015 578.063,74.5015 578.063,44.2615 505.547,44.2615 505.547,74.5015 \n",
       "  \"/>\n",
       "<polyline clip-path=\"url(#clip00)\" style=\"stroke:#0099ff; stroke-width:0.8; stroke-opacity:1; fill:none\" points=\"\n",
       "  511.547,59.3815 547.547,59.3815 \n",
       "  \"/>\n",
       "<g clip-path=\"url(#clip00)\">\n",
       "<text style=\"fill:#00002d; fill-opacity:1; font-family:Arial,Helvetica Neue,Helvetica,sans-serif; font-size:12; text-anchor:start;\" transform=\"rotate(0, 553.547, 63.8815)\" x=\"553.547\" y=\"63.8815\">y1</text>\n",
       "</g>\n",
       "</svg>\n"
      ]
     },
     "execution_count": 5,
     "metadata": {},
     "output_type": "execute_result"
    }
   ],
   "source": [
    "A=linspace(-1,1,200)\n",
    "B=[deltadir(a,inf=100) for a in A]\n",
    "plot(A,B,title=\"Delta\")"
   ]
  },
  {
   "cell_type": "code",
   "execution_count": 56,
   "metadata": {
    "collapsed": false
   },
   "outputs": [
    {
     "name": "stdout",
     "output_type": "stream",
     "text": [
      "0.1\n"
     ]
    },
    {
     "name": "stderr",
     "output_type": "stream",
     "text": [
      "WARNING: Method definition calor(Function, Tuple{Float64, "
     ]
    },
    {
     "data": {
      "text/plain": [
       "51×200 Array{Float64,2}:\n",
       " 0.0  0.0  0.0  0.0  0.0  0.0  0.0  0.0  …  0.0  0.0  0.0  0.0  0.0  0.0  0.0\n",
       " 0.0  0.0  0.0  0.0  0.0  0.0  0.0  0.0     0.0  0.0  0.0  0.0  0.0  0.0  0.0\n",
       " 0.0  0.0  0.0  0.0  0.0  0.0  0.0  0.0     0.0  0.0  0.0  0.0  0.0  0.0  0.0\n",
       " 0.0  0.0  0.0  0.0  0.0  0.0  0.0  0.0     0.0  0.0  0.0  0.0  0.0  0.0  0.0\n",
       " 0.0  0.0  0.0  0.0  0.0  0.0  0.0  0.0     0.0  0.0  0.0  0.0  0.0  0.0  0.0\n",
       " 0.0  0.0  0.0  0.0  0.0  0.0  0.0  0.0  …  0.0  0.0  0.0  0.0  0.0  0.0  0.0\n",
       " 0.0  0.0  0.0  0.0  0.0  0.0  0.0  0.0     0.0  0.0  0.0  0.0  0.0  0.0  0.0\n",
       " 0.0  0.0  0.0  0.0  0.0  0.0  0.0  0.0     0.0  0.0  0.0  0.0  0.0  0.0  0.0\n",
       " 0.0  0.0  0.0  0.0  0.0  0.0  0.0  0.0     0.0  0.0  0.0  0.0  0.0  0.0  0.0\n",
       " 0.0  0.0  0.0  0.0  0.0  0.0  0.0  0.0     0.0  0.0  0.0  0.0  0.0  0.0  0.0\n",
       " 0.0  0.0  0.0  0.0  0.0  0.0  0.0  0.0  …  0.0  0.0  0.0  0.0  0.0  0.0  0.0\n",
       " 0.0  0.0  0.0  0.0  0.0  0.0  0.0  0.0     0.0  0.0  0.0  0.0  0.0  0.0  0.0\n",
       " 0.0  0.0  0.0  0.0  0.0  0.0  0.0  0.0     0.0  0.0  0.0  0.0  0.0  0.0  0.0\n",
       " ⋮                        ⋮              ⋱            ⋮                      \n",
       " 0.0  0.0  0.0  0.0  0.0  0.0  0.0  0.0     0.0  0.0  0.0  0.0  0.0  0.0  0.0\n",
       " 0.0  0.0  0.0  0.0  0.0  0.0  0.0  0.0  …  0.0  0.0  0.0  0.0  0.0  0.0  0.0\n",
       " 0.0  0.0  0.0  0.0  0.0  0.0  0.0  0.0     0.0  0.0  0.0  0.0  0.0  0.0  0.0\n",
       " 0.0  0.0  0.0  0.0  0.0  0.0  0.0  0.0     0.0  0.0  0.0  0.0  0.0  0.0  0.0\n",
       " 0.0  0.0  0.0  0.0  0.0  0.0  0.0  0.0     0.0  0.0  0.0  0.0  0.0  0.0  0.0\n",
       " 0.0  0.0  0.0  0.0  0.0  0.0  0.0  0.0     0.0  0.0  0.0  0.0  0.0  0.0  0.0\n",
       " 0.0  0.0  0.0  0.0  0.0  0.0  0.0  0.0  …  0.0  0.0  0.0  0.0  0.0  0.0  0.0\n",
       " 0.0  0.0  0.0  0.0  0.0  0.0  0.0  0.0     0.0  0.0  0.0  0.0  0.0  0.0  0.0\n",
       " 0.0  0.0  0.0  0.0  0.0  0.0  0.0  0.0     0.0  0.0  0.0  0.0  0.0  0.0  0.0\n",
       " 0.0  0.0  0.0  0.0  0.0  0.0  0.0  0.0     0.0  0.0  0.0  0.0  0.0  0.0  0.0\n",
       " 0.0  0.0  0.0  0.0  0.0  0.0  0.0  0.0     0.0  0.0  0.0  0.0  0.0  0.0  0.0\n",
       " 0.0  0.0  0.0  0.0  0.0  0.0  0.0  0.0  …  0.0  0.0  0.0  0.0  0.0  0.0  0.0"
      ]
     },
     "execution_count": 56,
     "metadata": {},
     "output_type": "execute_result"
    },
    {
     "name": "stderr",
     "output_type": "stream",
     "text": [
      "Float64}, Float64) in module Main at In[52]:2 overwritten at In[56]:2.\n",
      "WARNING: Method definition #calor(Array{Any, 1}, Main.#calor, Function, Tuple{Float64, Float64}, Float64) in module Main overwritten.\n"
     ]
    }
   ],
   "source": [
    "function calorabs(ut0::Function, L::Tuple{Float64,Float64}, tf::Float64; d::Number=1, h::Number=1e-2, k::Number=1e-2, test=false)\n",
    "    println(h*d/(k^2))\n",
    "    (T,X)=malla(L,tf,h=h,k=k)\n",
    "    u0=[ut0(x) for x in X]\n",
    "    total=reshape(u0,1,length(u0))\n",
    "    for i in 1:(length(T)-1)\n",
    "        B=vec(total[i,:])\n",
    "        C=[B[i-1] for i in 2:length(B)]\n",
    "        unshift!(C,0.0)\n",
    "        D=[B[i+1] for i in 1:(length(B)-1)]\n",
    "        push!(D,0.0)\n",
    "        u=B+(h*d/(k^2))*(C+D-2*B)\n",
    "        if test==true\n",
    "            @show i\n",
    "            @show B\n",
    "            @show C\n",
    "            @show D\n",
    "            @show u\n",
    "        end\n",
    "        u[end]=0.0\n",
    "        u[1]=0.0\n",
    "        total=vcat(total,u')\n",
    "    end\n",
    "    return total\n",
    "end\n",
    "M=calor(x->deltadir(x,inf=100),(-1.0,1.0),5.0,d=.0001,h=.1,k=0.01)"
   ]
  },
  {
   "cell_type": "code",
   "execution_count": 57,
   "metadata": {
    "collapsed": false
   },
   "outputs": [
    {
     "name": "stdout",
     "output_type": "stream",
     "text": [
      "0.1\n"
     ]
    },
    {
     "data": {
      "text/plain": [
       "51×200 Array{Float64,2}:\n",
       " 0.0  0.0  0.0  0.0  0.0  0.0  0.0  0.0  …  0.0  0.0  0.0  0.0  0.0  0.0  0.0\n",
       " 0.0  0.0  0.0  0.0  0.0  0.0  0.0  0.0     0.0  0.0  0.0  0.0  0.0  0.0  0.0\n",
       " 0.0  0.0  0.0  0.0  0.0  0.0  0.0  0.0     0.0  0.0  0.0  0.0  0.0  0.0  0.0\n",
       " 0.0  0.0  0.0  0.0  0.0  0.0  0.0  0.0     0.0  0.0  0.0  0.0  0.0  0.0  0.0\n",
       " 0.0  0.0  0.0  0.0  0.0  0.0  0.0  0.0     0.0  0.0  0.0  0.0  0.0  0.0  0.0\n",
       " 0.0  0.0  0.0  0.0  0.0  0.0  0.0  0.0  …  0.0  0.0  0.0  0.0  0.0  0.0  0.0\n",
       " 0.0  0.0  0.0  0.0  0.0  0.0  0.0  0.0     0.0  0.0  0.0  0.0  0.0  0.0  0.0\n",
       " 0.0  0.0  0.0  0.0  0.0  0.0  0.0  0.0     0.0  0.0  0.0  0.0  0.0  0.0  0.0\n",
       " 0.0  0.0  0.0  0.0  0.0  0.0  0.0  0.0     0.0  0.0  0.0  0.0  0.0  0.0  0.0\n",
       " 0.0  0.0  0.0  0.0  0.0  0.0  0.0  0.0     0.0  0.0  0.0  0.0  0.0  0.0  0.0\n",
       " 0.0  0.0  0.0  0.0  0.0  0.0  0.0  0.0  …  0.0  0.0  0.0  0.0  0.0  0.0  0.0\n",
       " 0.0  0.0  0.0  0.0  0.0  0.0  0.0  0.0     0.0  0.0  0.0  0.0  0.0  0.0  0.0\n",
       " 0.0  0.0  0.0  0.0  0.0  0.0  0.0  0.0     0.0  0.0  0.0  0.0  0.0  0.0  0.0\n",
       " ⋮                        ⋮              ⋱            ⋮                      \n",
       " 0.0  0.0  0.0  0.0  0.0  0.0  0.0  0.0     0.0  0.0  0.0  0.0  0.0  0.0  0.0\n",
       " 0.0  0.0  0.0  0.0  0.0  0.0  0.0  0.0  …  0.0  0.0  0.0  0.0  0.0  0.0  0.0\n",
       " 0.0  0.0  0.0  0.0  0.0  0.0  0.0  0.0     0.0  0.0  0.0  0.0  0.0  0.0  0.0\n",
       " 0.0  0.0  0.0  0.0  0.0  0.0  0.0  0.0     0.0  0.0  0.0  0.0  0.0  0.0  0.0\n",
       " 0.0  0.0  0.0  0.0  0.0  0.0  0.0  0.0     0.0  0.0  0.0  0.0  0.0  0.0  0.0\n",
       " 0.0  0.0  0.0  0.0  0.0  0.0  0.0  0.0     0.0  0.0  0.0  0.0  0.0  0.0  0.0\n",
       " 0.0  0.0  0.0  0.0  0.0  0.0  0.0  0.0  …  0.0  0.0  0.0  0.0  0.0  0.0  0.0\n",
       " 0.0  0.0  0.0  0.0  0.0  0.0  0.0  0.0     0.0  0.0  0.0  0.0  0.0  0.0  0.0\n",
       " 0.0  0.0  0.0  0.0  0.0  0.0  0.0  0.0     0.0  0.0  0.0  0.0  0.0  0.0  0.0\n",
       " 0.0  0.0  0.0  0.0  0.0  0.0  0.0  0.0     0.0  0.0  0.0  0.0  0.0  0.0  0.0\n",
       " 0.0  0.0  0.0  0.0  0.0  0.0  0.0  0.0     0.0  0.0  0.0  0.0  0.0  0.0  0.0\n",
       " 0.0  0.0  0.0  0.0  0.0  0.0  0.0  0.0  …  0.0  0.0  0.0  0.0  0.0  0.0  0.0"
      ]
     },
     "execution_count": 57,
     "metadata": {},
     "output_type": "execute_result"
    }
   ],
   "source": [
    "function calorabs2(ut0::Function, L::Tuple{Float64,Float64}, tf::Float64; d::Number=1, h::Number=1e-2, k::Number=1e-2, test=false)\n",
    "    println(h*d/(k^2))\n",
    "    (T,X)=malla(L,tf,h=h,k=k)\n",
    "    u0=[ut0(x) for x in X]\n",
    "    total=reshape(u0,1,length(u0))\n",
    "    for i in 1:(length(T)-1)\n",
    "        B=vec(total[i,:])\n",
    "        C=[B[i-1] for i in 2:length(B)]\n",
    "        unshift!(C,0.0)\n",
    "        D=[B[i+1] for i in 1:(length(B)-1)]\n",
    "        push!(D,0.0)\n",
    "        u=B+(h*d/(k^2))*(C+D-2*B)\n",
    "        if test==true\n",
    "            @show i\n",
    "            @show B\n",
    "            @show C\n",
    "            @show D\n",
    "            @show u\n",
    "        end\n",
    "        total=vcat(total,u')\n",
    "    end\n",
    "    return total\n",
    "end\n",
    "M=calorabs(x->deltadir(x,inf=100),(-1.0,1.0),5.0,d=.0001,h=.1,k=0.01)"
   ]
  },
  {
   "cell_type": "code",
   "execution_count": 12,
   "metadata": {
    "collapsed": false
   },
   "outputs": [
    {
     "data": {
      "text/html": [],
      "text/plain": [
       "Interact.Options{:SelectionSlider,Int64}(Signal{Int64}(26, nactions=1),\"i\",26,\"26\",Interact.OptionDict(DataStructures.OrderedDict(\"1\"=>1,\"2\"=>2,\"3\"=>3,\"4\"=>4,\"5\"=>5,\"6\"=>6,\"7\"=>7,\"8\"=>8,\"9\"=>9,\"10\"=>10…),Dict(2=>\"2\",11=>\"11\",39=>\"39\",46=>\"46\",25=>\"25\",42=>\"42\",29=>\"29\",8=>\"8\",20=>\"20\",14=>\"14\"…)),Any[],Any[],true,\"horizontal\")"
      ]
     },
     "metadata": {},
     "output_type": "display_data"
    },
    {
     "data": {
      "text/html": [
       "<?xml version=\"1.0\" encoding=\"utf-8\"?>\n",
       "<svg xmlns=\"http://www.w3.org/2000/svg\" xmlns:xlink=\"http://www.w3.org/1999/xlink\" width=\"600\" height=\"400\" viewBox=\"0 0 600 400\">\n",
       "<defs>\n",
       "  <clipPath id=\"clip00\">\n",
       "    <rect x=\"0\" y=\"0\" width=\"600\" height=\"400\"/>\n",
       "  </clipPath>\n",
       "</defs>\n",
       "<polygon clip-path=\"url(#clip00)\" points=\"\n",
       "0,400 600,400 600,0 0,0 \n",
       "  \" fill=\"#ffffff\" fill-opacity=\"1\"/>\n",
       "<defs>\n",
       "  <clipPath id=\"clip01\">\n",
       "    <rect x=\"120\" y=\"0\" width=\"421\" height=\"400\"/>\n",
       "  </clipPath>\n",
       "</defs>\n",
       "<polygon clip-path=\"url(#clip00)\" points=\"\n",
       "45.8815,369.674 596.063,369.674 596.063,23.3815 45.8815,23.3815 \n",
       "  \" fill=\"#ffffff\" fill-opacity=\"1\"/>\n",
       "<defs>\n",
       "  <clipPath id=\"clip02\">\n",
       "    <rect x=\"45\" y=\"23\" width=\"551\" height=\"347\"/>\n",
       "  </clipPath>\n",
       "</defs>\n",
       "<polyline clip-path=\"url(#clip02)\" style=\"stroke:#00002d; stroke-width:0.8; stroke-opacity:0.5; fill:none\" stroke-dasharray=\"1, 2\" points=\"\n",
       "  181.353,364.48 181.353,28.5758 \n",
       "  \"/>\n",
       "<polyline clip-path=\"url(#clip02)\" style=\"stroke:#00002d; stroke-width:0.8; stroke-opacity:0.5; fill:none\" stroke-dasharray=\"1, 2\" points=\"\n",
       "  319.59,364.48 319.59,28.5758 \n",
       "  \"/>\n",
       "<polyline clip-path=\"url(#clip02)\" style=\"stroke:#00002d; stroke-width:0.8; stroke-opacity:0.5; fill:none\" stroke-dasharray=\"1, 2\" points=\"\n",
       "  457.826,364.48 457.826,28.5758 \n",
       "  \"/>\n",
       "<polyline clip-path=\"url(#clip02)\" style=\"stroke:#00002d; stroke-width:0.8; stroke-opacity:0.5; fill:none\" stroke-dasharray=\"1, 2\" points=\"\n",
       "  596.063,364.48 596.063,28.5758 \n",
       "  \"/>\n",
       "<polyline clip-path=\"url(#clip02)\" style=\"stroke:#00002d; stroke-width:0.8; stroke-opacity:0.5; fill:none\" stroke-dasharray=\"1, 2\" points=\"\n",
       "  54.1342,369.674 587.81,369.674 \n",
       "  \"/>\n",
       "<polyline clip-path=\"url(#clip02)\" style=\"stroke:#00002d; stroke-width:0.8; stroke-opacity:0.5; fill:none\" stroke-dasharray=\"1, 2\" points=\"\n",
       "  54.1342,300.416 587.81,300.416 \n",
       "  \"/>\n",
       "<polyline clip-path=\"url(#clip02)\" style=\"stroke:#00002d; stroke-width:0.8; stroke-opacity:0.5; fill:none\" stroke-dasharray=\"1, 2\" points=\"\n",
       "  54.1342,231.157 587.81,231.157 \n",
       "  \"/>\n",
       "<polyline clip-path=\"url(#clip02)\" style=\"stroke:#00002d; stroke-width:0.8; stroke-opacity:0.5; fill:none\" stroke-dasharray=\"1, 2\" points=\"\n",
       "  54.1342,161.899 587.81,161.899 \n",
       "  \"/>\n",
       "<polyline clip-path=\"url(#clip02)\" style=\"stroke:#00002d; stroke-width:0.8; stroke-opacity:0.5; fill:none\" stroke-dasharray=\"1, 2\" points=\"\n",
       "  54.1342,92.64 587.81,92.64 \n",
       "  \"/>\n",
       "<polyline clip-path=\"url(#clip02)\" style=\"stroke:#00002d; stroke-width:0.8; stroke-opacity:0.5; fill:none\" stroke-dasharray=\"1, 2\" points=\"\n",
       "  54.1342,23.3815 587.81,23.3815 \n",
       "  \"/>\n",
       "<polyline clip-path=\"url(#clip02)\" style=\"stroke:#00002d; stroke-width:0.8; stroke-opacity:1; fill:none\" points=\"\n",
       "  45.8815,369.674 596.063,369.674 \n",
       "  \"/>\n",
       "<polyline clip-path=\"url(#clip02)\" style=\"stroke:#00002d; stroke-width:0.8; stroke-opacity:1; fill:none\" points=\"\n",
       "  181.353,369.674 181.353,364.48 \n",
       "  \"/>\n",
       "<polyline clip-path=\"url(#clip02)\" style=\"stroke:#00002d; stroke-width:0.8; stroke-opacity:1; fill:none\" points=\"\n",
       "  319.59,369.674 319.59,364.48 \n",
       "  \"/>\n",
       "<polyline clip-path=\"url(#clip02)\" style=\"stroke:#00002d; stroke-width:0.8; stroke-opacity:1; fill:none\" points=\"\n",
       "  457.826,369.674 457.826,364.48 \n",
       "  \"/>\n",
       "<polyline clip-path=\"url(#clip02)\" style=\"stroke:#00002d; stroke-width:0.8; stroke-opacity:1; fill:none\" points=\"\n",
       "  596.063,369.674 596.063,364.48 \n",
       "  \"/>\n",
       "<polyline clip-path=\"url(#clip02)\" style=\"stroke:#00002d; stroke-width:0.8; stroke-opacity:1; fill:none\" points=\"\n",
       "  45.8815,369.674 45.8815,23.3815 \n",
       "  \"/>\n",
       "<polyline clip-path=\"url(#clip02)\" style=\"stroke:#00002d; stroke-width:0.8; stroke-opacity:1; fill:none\" points=\"\n",
       "  45.8815,369.674 54.1342,369.674 \n",
       "  \"/>\n",
       "<polyline clip-path=\"url(#clip02)\" style=\"stroke:#00002d; stroke-width:0.8; stroke-opacity:1; fill:none\" points=\"\n",
       "  45.8815,300.416 54.1342,300.416 \n",
       "  \"/>\n",
       "<polyline clip-path=\"url(#clip02)\" style=\"stroke:#00002d; stroke-width:0.8; stroke-opacity:1; fill:none\" points=\"\n",
       "  45.8815,231.157 54.1342,231.157 \n",
       "  \"/>\n",
       "<polyline clip-path=\"url(#clip02)\" style=\"stroke:#00002d; stroke-width:0.8; stroke-opacity:1; fill:none\" points=\"\n",
       "  45.8815,161.899 54.1342,161.899 \n",
       "  \"/>\n",
       "<polyline clip-path=\"url(#clip02)\" style=\"stroke:#00002d; stroke-width:0.8; stroke-opacity:1; fill:none\" points=\"\n",
       "  45.8815,92.64 54.1342,92.64 \n",
       "  \"/>\n",
       "<polyline clip-path=\"url(#clip02)\" style=\"stroke:#00002d; stroke-width:0.8; stroke-opacity:1; fill:none\" points=\"\n",
       "  45.8815,23.3815 54.1342,23.3815 \n",
       "  \"/>\n",
       "<g clip-path=\"url(#clip00)\">\n",
       "<text style=\"fill:#00002d; fill-opacity:1; font-family:Arial,Helvetica Neue,Helvetica,sans-serif; font-size:12; text-anchor:middle;\" transform=\"rotate(0, 181.353, 381.674)\" x=\"181.353\" y=\"381.674\">50</text>\n",
       "</g>\n",
       "<g clip-path=\"url(#clip00)\">\n",
       "<text style=\"fill:#00002d; fill-opacity:1; font-family:Arial,Helvetica Neue,Helvetica,sans-serif; font-size:12; text-anchor:middle;\" transform=\"rotate(0, 319.59, 381.674)\" x=\"319.59\" y=\"381.674\">100</text>\n",
       "</g>\n",
       "<g clip-path=\"url(#clip00)\">\n",
       "<text style=\"fill:#00002d; fill-opacity:1; font-family:Arial,Helvetica Neue,Helvetica,sans-serif; font-size:12; text-anchor:middle;\" transform=\"rotate(0, 457.826, 381.674)\" x=\"457.826\" y=\"381.674\">150</text>\n",
       "</g>\n",
       "<g clip-path=\"url(#clip00)\">\n",
       "<text style=\"fill:#00002d; fill-opacity:1; font-family:Arial,Helvetica Neue,Helvetica,sans-serif; font-size:12; text-anchor:middle;\" transform=\"rotate(0, 596.063, 381.674)\" x=\"596.063\" y=\"381.674\">200</text>\n",
       "</g>\n",
       "<g clip-path=\"url(#clip00)\">\n",
       "<text style=\"fill:#00002d; fill-opacity:1; font-family:Arial,Helvetica Neue,Helvetica,sans-serif; font-size:12; text-anchor:end;\" transform=\"rotate(0, 44.6815, 374.174)\" x=\"44.6815\" y=\"374.174\">0</text>\n",
       "</g>\n",
       "<g clip-path=\"url(#clip00)\">\n",
       "<text style=\"fill:#00002d; fill-opacity:1; font-family:Arial,Helvetica Neue,Helvetica,sans-serif; font-size:12; text-anchor:end;\" transform=\"rotate(0, 44.6815, 304.916)\" x=\"44.6815\" y=\"304.916\">20</text>\n",
       "</g>\n",
       "<g clip-path=\"url(#clip00)\">\n",
       "<text style=\"fill:#00002d; fill-opacity:1; font-family:Arial,Helvetica Neue,Helvetica,sans-serif; font-size:12; text-anchor:end;\" transform=\"rotate(0, 44.6815, 235.657)\" x=\"44.6815\" y=\"235.657\">40</text>\n",
       "</g>\n",
       "<g clip-path=\"url(#clip00)\">\n",
       "<text style=\"fill:#00002d; fill-opacity:1; font-family:Arial,Helvetica Neue,Helvetica,sans-serif; font-size:12; text-anchor:end;\" transform=\"rotate(0, 44.6815, 166.399)\" x=\"44.6815\" y=\"166.399\">60</text>\n",
       "</g>\n",
       "<g clip-path=\"url(#clip00)\">\n",
       "<text style=\"fill:#00002d; fill-opacity:1; font-family:Arial,Helvetica Neue,Helvetica,sans-serif; font-size:12; text-anchor:end;\" transform=\"rotate(0, 44.6815, 97.14)\" x=\"44.6815\" y=\"97.14\">80</text>\n",
       "</g>\n",
       "<g clip-path=\"url(#clip00)\">\n",
       "<text style=\"fill:#00002d; fill-opacity:1; font-family:Arial,Helvetica Neue,Helvetica,sans-serif; font-size:12; text-anchor:end;\" transform=\"rotate(0, 44.6815, 27.8815)\" x=\"44.6815\" y=\"27.8815\">100</text>\n",
       "</g>\n",
       "<g clip-path=\"url(#clip00)\">\n",
       "<text style=\"fill:#00002d; fill-opacity:1; font-family:Arial,Helvetica Neue,Helvetica,sans-serif; font-size:21; text-anchor:middle;\" transform=\"rotate(0, 320.972, 18)\" x=\"320.972\" y=\"18\">Ecuación de calor</text>\n",
       "</g>\n",
       "<g clip-path=\"url(#clip00)\">\n",
       "<text style=\"fill:#00002d; fill-opacity:1; font-family:Arial,Helvetica Neue,Helvetica,sans-serif; font-size:16; text-anchor:middle;\" transform=\"rotate(0, 320.972, 397.6)\" x=\"320.972\" y=\"397.6\">x</text>\n",
       "</g>\n",
       "<g clip-path=\"url(#clip00)\">\n",
       "<text style=\"fill:#00002d; fill-opacity:1; font-family:Arial,Helvetica Neue,Helvetica,sans-serif; font-size:16; text-anchor:middle;\" transform=\"rotate(-90, 14.4, 196.528)\" x=\"14.4\" y=\"196.528\">u(t,x)</text>\n",
       "</g>\n",
       "<polyline clip-path=\"url(#clip02)\" style=\"stroke:#0099ff; stroke-width:0.8; stroke-opacity:1; fill:none\" points=\"\n",
       "  45.8815,369.674 48.6462,369.674 51.4109,369.674 54.1756,369.674 56.9404,369.674 59.7051,369.674 62.4698,369.674 65.2346,369.674 67.9993,369.674 70.764,369.674 \n",
       "  73.5288,369.674 76.2935,369.674 79.0582,369.674 81.823,369.674 84.5877,369.674 87.3524,369.674 90.1172,369.674 92.8819,369.674 95.6466,369.674 98.4113,369.674 \n",
       "  101.176,369.674 103.941,369.674 106.706,369.674 109.47,369.674 112.235,369.674 115,369.674 117.764,369.674 120.529,369.674 123.294,369.674 126.059,369.674 \n",
       "  128.823,369.674 131.588,369.674 134.353,369.674 137.118,369.674 139.882,369.674 142.647,369.674 145.412,369.674 148.177,369.674 150.941,369.674 153.706,369.674 \n",
       "  156.471,369.674 159.235,369.674 162,369.674 164.765,369.674 167.53,369.674 170.294,369.674 173.059,369.674 175.824,369.674 178.589,369.674 181.353,369.674 \n",
       "  184.118,369.674 186.883,369.674 189.647,369.674 192.412,369.674 195.177,369.674 197.942,369.674 200.706,369.674 203.471,369.674 206.236,369.674 209.001,369.674 \n",
       "  211.765,369.674 214.53,369.674 217.295,369.674 220.06,369.674 222.824,369.674 225.589,369.674 228.354,369.674 231.118,369.674 233.883,369.674 236.648,369.674 \n",
       "  239.413,369.674 242.177,369.674 244.942,369.674 247.707,369.674 250.472,369.674 253.236,369.674 256.001,369.674 258.766,369.674 261.53,369.674 264.295,369.674 \n",
       "  267.06,369.674 269.825,369.674 272.589,369.674 275.354,369.674 278.119,369.674 280.884,369.674 283.648,369.674 286.413,369.674 289.178,369.673 291.943,369.668 \n",
       "  294.707,369.64 297.472,369.514 300.237,369.023 303.001,367.393 305.766,362.855 308.531,352.381 311.296,332.746 314.06,303.787 316.825,272.209 319.59,250.907 \n",
       "  322.355,250.907 325.119,272.209 327.884,303.787 330.649,332.746 333.414,352.381 336.178,362.855 338.943,367.393 341.708,369.023 344.472,369.514 347.237,369.64 \n",
       "  350.002,369.668 352.767,369.673 355.531,369.674 358.296,369.674 361.061,369.674 363.826,369.674 366.59,369.674 369.355,369.674 372.12,369.674 374.884,369.674 \n",
       "  377.649,369.674 380.414,369.674 383.179,369.674 385.943,369.674 388.708,369.674 391.473,369.674 394.238,369.674 397.002,369.674 399.767,369.674 402.532,369.674 \n",
       "  405.297,369.674 408.061,369.674 410.826,369.674 413.591,369.674 416.355,369.674 419.12,369.674 421.885,369.674 424.65,369.674 427.414,369.674 430.179,369.674 \n",
       "  432.944,369.674 435.709,369.674 438.473,369.674 441.238,369.674 444.003,369.674 446.767,369.674 449.532,369.674 452.297,369.674 455.062,369.674 457.826,369.674 \n",
       "  460.591,369.674 463.356,369.674 466.121,369.674 468.885,369.674 471.65,369.674 474.415,369.674 477.18,369.674 479.944,369.674 482.709,369.674 485.474,369.674 \n",
       "  488.238,369.674 491.003,369.674 493.768,369.674 496.533,369.674 499.297,369.674 502.062,369.674 504.827,369.674 507.592,369.674 510.356,369.674 513.121,369.674 \n",
       "  515.886,369.674 518.651,369.674 521.415,369.674 524.18,369.674 526.945,369.674 529.709,369.674 532.474,369.674 535.239,369.674 538.004,369.674 540.768,369.674 \n",
       "  543.533,369.674 546.298,369.674 549.063,369.674 551.827,369.674 554.592,369.674 557.357,369.674 560.121,369.674 562.886,369.674 565.651,369.674 568.416,369.674 \n",
       "  571.18,369.674 573.945,369.674 576.71,369.674 579.475,369.674 582.239,369.674 585.004,369.674 587.769,369.674 590.534,369.674 593.298,369.674 596.063,369.674 \n",
       "  \n",
       "  \"/>\n",
       "<polygon clip-path=\"url(#clip00)\" points=\"\n",
       "505.547,74.5015 578.063,74.5015 578.063,44.2615 505.547,44.2615 \n",
       "  \" fill=\"#ffffff\" fill-opacity=\"1\"/>\n",
       "<polyline clip-path=\"url(#clip00)\" style=\"stroke:#00002d; stroke-width:0.8; stroke-opacity:1; fill:none\" points=\"\n",
       "  505.547,74.5015 578.063,74.5015 578.063,44.2615 505.547,44.2615 505.547,74.5015 \n",
       "  \"/>\n",
       "<polyline clip-path=\"url(#clip00)\" style=\"stroke:#0099ff; stroke-width:0.8; stroke-opacity:1; fill:none\" points=\"\n",
       "  511.547,59.3815 547.547,59.3815 \n",
       "  \"/>\n",
       "<g clip-path=\"url(#clip00)\">\n",
       "<text style=\"fill:#00002d; fill-opacity:1; font-family:Arial,Helvetica Neue,Helvetica,sans-serif; font-size:12; text-anchor:start;\" transform=\"rotate(0, 553.547, 63.8815)\" x=\"553.547\" y=\"63.8815\">y1</text>\n",
       "</g>\n",
       "</svg>\n"
      ]
     },
     "execution_count": 12,
     "metadata": {
      "comm_id": "3973006c-3a98-415a-9412-e33aae8a7182",
      "reactive": true
     },
     "output_type": "execute_result"
    }
   ],
   "source": [
    "@manipulate for i in 1:size(M)[1]\n",
    "    plot(M[i,:],ylim=(0,100),title=\"Ecuación de calor\",xlabel=\"x\",ylabel=\"u(t,x)\")\n",
    "end"
   ]
  },
  {
   "cell_type": "code",
   "execution_count": 14,
   "metadata": {
    "collapsed": false
   },
   "outputs": [
    {
     "name": "stderr",
     "output_type": "stream",
     "text": [
      "\u001b[1m\u001b[34mINFO: Saved animation to C:\\Users\\Aldo\\Google Drive\\Materias Facultad\\Fis Comp\\FisicaComputacional2017_2\\notebooks\\tmp.gif\n",
      "\u001b[0m"
     ]
    },
    {
     "data": {
      "text/html": [
       "<img src=\"tmp.gif?0.6750521750702587>\" />"
      ],
      "text/plain": [
       "Plots.AnimatedGif(\"C:\\\\Users\\\\Aldo\\\\Google Drive\\\\Materias Facultad\\\\Fis Comp\\\\FisicaComputacional2017_2\\\\notebooks\\\\tmp.gif\")"
      ]
     },
     "execution_count": 14,
     "metadata": {},
     "output_type": "execute_result"
    }
   ],
   "source": [
    "@gif for i in 1:size(M)[1]\n",
    "    plot(M[i,:],ylim=(0,100))\n",
    "end"
   ]
  },
  {
=======
>>>>>>> upstream/master
   "cell_type": "markdown",
   "metadata": {},
   "source": [
    "**[3]** (i) Los parámetros $h$ y $k$ de la discretización en el tiempo y en el espacio, respectivamente, ocurren en una cierta combinación en la ecuación discretizada que obtuviste. ¿Cuál es?  \n",
    "\n",
    "(ii) Resulta que el método numérico es estable para ciertos valores de este parámetro, e inestable para otros. Encuentra numéricamente el valor crítico de este parámetro, debajo del cual el método es estable y arriba del cual es inestable."
   ]
  },
  {
   "cell_type": "markdown",
   "metadata": {},
   "source": [
<<<<<<< HEAD
    "### [3]\n",
    "\n",
    "Para resolver el problema de estabilidad relacionado con el parámetro $\\frac{dh}{k^2}$, fijaremos valores de $k,d$ y iremos cambiando tanto el intervalo de tiempo en que deseamos la solución, como $h$. Sabemos que el centro de la solución, donde la delta de dirac se encuentra, debe de decaer conforme el tiempo aumenta. Para analizar la estabilidad, realizaremos un ciclo donde solucione el problema e imprima tanto el parámetro $\\frac{dh}{k^2}$ como todos los valores, a lo largo del tiempo, de $u(t,0)$"
   ]
  },
  {
   "cell_type": "code",
   "execution_count": 30,
   "metadata": {
    "collapsed": false
   },
   "outputs": [
    {
     "name": "stdout",
     "output_type": "stream",
     "text": [
      "h=0.1\n",
      "parametro=10.0\n",
      "10.0\n",
      "[100.0,-900.0,18100.0,-442900.0,1.21161e7,-3.54805e8,1.08803e10,-3.44947e11,1.1215e13,-3.71886e14]\n",
      "\n",
      "\n",
      "\n",
      "h=0.07498942093324558\n",
      "parametro=7.498942093324558\n",
      "7.498942093324558\n",
      "[100.0,-649.894,9847.04,-1.79257e5,3.64838e6,-7.94614e7,1.8121e9,-4.27205e10,1.03278e12,-2.54642e13]\n",
      "\n",
      "\n",
      "\n",
      "h=0.056234132519034905\n",
      "parametro=5.62341325190349\n",
      "5.62341325190349\n",
      "[100.0,-462.341,5299.87,-71527.3,1.08014e6,-1.74469e7,2.95024e8,-5.15684e9,9.24278e10,-1.68948e12]\n",
      "\n",
      "\n",
      "\n",
      "h=0.042169650342858224\n",
      "parametro=4.216965034285822\n",
      "4.216965034285822\n",
      "[100.0,-321.697,2813.17,-27990.1,3.12493e5,-3.72859e6,4.65661e7,-6.01078e8,7.9552e9,-1.0737e11]\n",
      "\n",
      "\n",
      "\n",
      "h=0.03162277660168379\n",
      "parametro=3.162277660168379\n",
      "3.162277660168379\n",
      "[100.0,-216.228,1467.54,-10660.1,87589.5,-7.67752e5,7.04304e6,-6.67665e7,6.48898e8,-6.43098e9]\n",
      "\n",
      "\n",
      "\n",
      "h=0.023713737056616554\n",
      "parametro=2.371373705661655\n",
      "2.371373705661655\n",
      "[100.0,-137.137,750.408,-3904.97,23501.0,-1.50111e5,1.00387e6,-6.93534e6,4.91168e7,-3.54682e8]\n",
      "\n",
      "\n",
      "\n",
      "h=0.01778279410038923\n",
      "parametro=1.778279410038923\n",
      "1.778279410038923\n",
      "[100.0,-77.8279,376.8,-1347.82,5936.59,-27269.4,131580.0,-6.55215e5,3.34464e6,-1.74062e7]\n",
      "\n",
      "\n",
      "\n",
      "h=0.01333521432163324\n",
      "parametro=1.3335214321633242\n",
      "1.3335214321633242\n",
      "[100.0,-33.3521,188.952,-418.776,1384.97,-4442.38,15290.4,-53949.7,1.95443e5,-7.21393e5]\n",
      "\n",
      "\n",
      "\n",
      "h=0.01\n",
      "parametro=1.0\n",
      "1.0\n",
      "[100.0,0.0,100.0,-100.0,300.0,-600.0,1500.0,-3600.0,9100.0,-23200.0]\n",
      "\n",
      "\n",
      "\n",
      "h=0.007498942093324558\n",
      "parametro=0.7498942093324559\n",
      "0.7498942093324559\n",
      "[100.0,25.0106,62.4894,1.58828,74.1778,-41.1296,132.373,-152.642,316.057,-481.104]\n",
      "\n",
      "\n",
      "\n",
      "h=0.005623413251903491\n",
      "parametro=0.5623413251903491\n",
      "0.5623413251903491\n",
      "[100.0,43.7659,50.7773,32.1203,38.8809,25.9618,33.3196,21.7409,30.2754,18.3402]\n",
      "\n",
      "\n",
      "\n",
      "h=0.004216965034285822\n",
      "parametro=0.4216965034285822\n",
      "0.4216965034285822\n",
      "[100.0,57.8303,51.2263,42.6931,39.008,35.2121,32.8317,30.5965,28.9233,27.4032]\n",
      "\n",
      "\n",
      "\n",
      "h=0.0031622776601683794\n",
      "parametro=0.31622776601683794\n",
      "0.31622776601683794\n",
      "[100.0,68.3772,56.7544,49.3203,44.2633,40.4907,37.5462,35.1629,33.183,31.5039]\n",
      "\n",
      "\n",
      "\n",
      "h=0.0023713737056616554\n",
      "parametro=0.23713737056616552\n",
      "0.23713737056616552\n",
      "[100.0,76.2863,63.8194,55.9317,50.3828,46.2099,42.9257,40.2541,38.0259,36.1307]\n",
      "\n",
      "\n",
      "\n",
      "h=0.0017782794100389228\n",
      "parametro=0.1778279410038923\n",
      "0.1778279410038923\n",
      "[100.0,82.2172,70.759,62.8136,56.9693,52.4676,48.8736,45.9226,43.4453,41.328]\n",
      "\n",
      "\n",
      "\n",
      "h=0.001333521432163324\n",
      "parametro=0.1333521432163324\n",
      "0.1333521432163324\n",
      "[100.0,86.6648,76.8861,69.4783,63.6985,59.0691,55.2757,52.1054,49.4108,47.0872]\n",
      "\n",
      "\n",
      "\n",
      "h=0.001\n",
      "parametro=0.1\n",
      "0.1\n",
      "[100.0,90.0,82.0,75.5,70.14,65.658,61.8612,58.6061,55.7847,53.3147]\n",
      "\n",
      "\n",
      "\n",
      "h=0.0007498942093324559\n",
      "parametro=0.07498942093324558\n",
      "0.07498942093324558\n",
      "[100.0,92.5011,86.1268,80.6664,75.9532,71.855,68.2663,65.1023,62.2947,59.788]\n",
      "\n",
      "\n",
      "\n",
      "h=0.0005623413251903491\n",
      "parametro=0.05623413251903491\n",
      "0.05623413251903491\n",
      "[100.0,94.3766,89.3856,84.9382,80.9594,77.386,74.1643,71.2489,68.6011,66.1878]\n",
      "\n",
      "\n",
      "\n",
      "h=0.00042169650342858224\n",
      "parametro=0.042169650342858224\n",
      "0.042169650342858224\n",
      "[100.0,95.783,91.9217,88.3786,85.1205,82.1184,79.3463,76.7814,74.4035,72.1945]\n",
      "\n",
      "\n",
      "\n",
      "h=0.00031622776601683794\n",
      "parametro=0.03162277660168379\n",
      "0.03162277660168379\n",
      "[100.0,96.8377,93.8754,91.0974,88.489,86.0374,83.7303,81.557,79.5073,77.5721]\n",
      "\n",
      "\n",
      "\n",
      "h=0.00023713737056616554\n",
      "parametro=0.023713737056616554\n",
      "0.023713737056616554\n",
      "[100.0,97.6286,95.3697,93.2166,91.1631,89.2033,87.3319,85.5437,83.834,82.1984]\n",
      "\n",
      "\n",
      "\n",
      "h=0.0001778279410038923\n",
      "parametro=0.01778279410038923\n",
      "0.01778279410038923\n",
      "[100.0,98.2217,96.5067,94.8521,93.2552,91.7136,90.2248,88.7865,87.3966,86.0529]\n",
      "\n",
      "\n",
      "\n",
      "h=0.0001333521432163324\n",
      "parametro=0.013335214321633239\n",
      "0.013335214321633239\n",
      "[100.0,98.6665,97.3685,96.1049,94.8746,93.6764,92.5093,91.3722,90.2643,89.1844]\n",
      "\n",
      "\n",
      "\n",
      "h=0.0001\n",
      "parametro=0.010000000000000002\n",
      "0.010000000000000002\n",
      "[100.0,99.0,98.02,97.0595,96.118,95.1951,94.2902,93.403,92.533,91.6797]\n",
      "\n",
      "\n",
      "\n"
     ]
    }
   ],
   "source": [
    "H=logspace(-1,-4,25)\n",
    "for i in H\n",
    "    println(\"h=$i\")\n",
    "    println(\"parametro=$(.01*i/(.01^2))\")\n",
    "    M=calorabs(x->deltadir(x,inf=100),(-1.0,1.0),1.0,d=.01,h=i,k=0.01)\n",
    "    println(M[1:10,convert(Int64,size(M)[2]/2)])\n",
    "    println(\"\\n\\n\")\n",
    "end"
   ]
  },
  {
   "cell_type": "markdown",
   "metadata": {},
   "source": [
    "Sabemos que el valor del centro debe de ser estrictamente decreciente, es decir, el valor de la temperatura debe decrecer de manera monótona. En la iteración realizada, podemos observar que esto sucede solamente cuando el valor del parámetro $\\frac{dh}{k^2}$ cumple la relación:\n",
    "$$\\frac{dh}{k^2} \\leq 0.5$$"
   ]
  },
  {
   "cell_type": "code",
   "execution_count": 31,
   "metadata": {
    "collapsed": false
   },
   "outputs": [
    {
     "data": {
      "text/plain": [
       "escalon (generic function with 1 method)"
      ]
     },
     "execution_count": 31,
     "metadata": {},
     "output_type": "execute_result"
    }
   ],
   "source": [
    "function escalon(x;L::Number=1/2,h::Number=1)\n",
    "    if abs(x)<L\n",
    "        return h\n",
    "    else\n",
    "        return 0\n",
    "    end\n",
    "end"
   ]
  },
  {
   "cell_type": "code",
   "execution_count": 42,
   "metadata": {
    "collapsed": false
   },
   "outputs": [
    {
     "name": "stdout",
     "output_type": "stream",
     "text": [
      "0.1\n"
     ]
    },
    {
     "data": {
      "text/plain": [
       "500×200 Array{Float64,2}:\n",
       " 0.0         0.0         0.0         …  0.0         0.0         0.0       \n",
       " 0.0         0.0         0.0            0.0         0.0         0.0       \n",
       " 0.0         0.0         0.0            0.0         0.0         0.0       \n",
       " 0.0         0.0         0.0            0.0         0.0         0.0       \n",
       " 0.0         0.0         0.0            0.0         0.0         0.0       \n",
       " 0.0         0.0         0.0         …  0.0         0.0         0.0       \n",
       " 0.0         0.0         0.0            0.0         0.0         0.0       \n",
       " 0.0         0.0         0.0            0.0         0.0         0.0       \n",
       " 0.0         0.0         0.0            0.0         0.0         0.0       \n",
       " 0.0         0.0         0.0            0.0         0.0         0.0       \n",
       " 0.0         0.0         0.0         …  0.0         0.0         0.0       \n",
       " 0.0         0.0         0.0            0.0         0.0         0.0       \n",
       " 0.0         0.0         0.0            0.0         0.0         0.0       \n",
       " ⋮                                   ⋱                                    \n",
       " 3.84963e-6  8.67394e-6  1.56533e-5     1.56533e-5  8.67394e-6  3.84963e-6\n",
       " 3.9471e-6   8.88944e-6  1.60313e-5     1.60313e-5  8.88944e-6  3.9471e-6 \n",
       " 4.04662e-6  9.10939e-6  1.6417e-5   …  1.6417e-5   9.10939e-6  4.04662e-6\n",
       " 4.14824e-6  9.33387e-6  1.68103e-5     1.68103e-5  9.33387e-6  4.14824e-6\n",
       " 4.25198e-6  9.56295e-6  1.72114e-5     1.72114e-5  9.56295e-6  4.25198e-6\n",
       " 4.35788e-6  9.79669e-6  1.76204e-5     1.76204e-5  9.79669e-6  4.35788e-6\n",
       " 4.46597e-6  1.00352e-5  1.80374e-5     1.80374e-5  1.00352e-5  4.46597e-6\n",
       " 4.57629e-6  1.02785e-5  1.84627e-5  …  1.84627e-5  1.02785e-5  4.57629e-6\n",
       " 4.68888e-6  1.05267e-5  1.88962e-5     1.88962e-5  1.05267e-5  4.68888e-6\n",
       " 4.80378e-6  1.07799e-5  1.93381e-5     1.93381e-5  1.07799e-5  4.80378e-6\n",
       " 4.92101e-6  1.10381e-5  1.97885e-5     1.97885e-5  1.10381e-5  4.92101e-6\n",
       " 5.04061e-6  1.13014e-5  2.02476e-5     2.02476e-5  1.13014e-5  5.04061e-6"
      ]
     },
     "execution_count": 42,
     "metadata": {},
     "output_type": "execute_result"
    }
   ],
   "source": [
    "M=calorabs(x->escalon(x,L=.5,h=20),(-1.0,1.0),50.0,d=.0001,h=.1,k=0.01)"
   ]
  },
  {
   "cell_type": "code",
   "execution_count": 43,
   "metadata": {
    "collapsed": false
   },
   "outputs": [
    {
     "data": {
      "text/html": [],
      "text/plain": [
       "Interact.Options{:SelectionSlider,Int64}(Signal{Int64}(250, nactions=1),\"i\",250,\"250\",Interact.OptionDict(DataStructures.OrderedDict(\"1\"=>1,\"2\"=>2,\"3\"=>3,\"4\"=>4,\"5\"=>5,\"6\"=>6,\"7\"=>7,\"8\"=>8,\"9\"=>9,\"10\"=>10…),Dict(288=>\"288\",306=>\"306\",11=>\"11\",491=>\"491\",134=>\"134\",158=>\"158\",160=>\"160\",215=>\"215\",464=>\"464\",29=>\"29\"…)),Any[],Any[],true,\"horizontal\")"
      ]
     },
     "metadata": {},
     "output_type": "display_data"
    },
    {
     "data": {
      "text/html": [
       "<?xml version=\"1.0\" encoding=\"utf-8\"?>\n",
       "<svg xmlns=\"http://www.w3.org/2000/svg\" xmlns:xlink=\"http://www.w3.org/1999/xlink\" width=\"600\" height=\"400\" viewBox=\"0 0 600 400\">\n",
       "<defs>\n",
       "  <clipPath id=\"clip00\">\n",
       "    <rect x=\"0\" y=\"0\" width=\"600\" height=\"400\"/>\n",
       "  </clipPath>\n",
       "</defs>\n",
       "<polygon clip-path=\"url(#clip00)\" points=\"\n",
       "0,400 600,400 600,0 0,0 \n",
       "  \" fill=\"#ffffff\" fill-opacity=\"1\"/>\n",
       "<defs>\n",
       "  <clipPath id=\"clip01\">\n",
       "    <rect x=\"120\" y=\"0\" width=\"421\" height=\"400\"/>\n",
       "  </clipPath>\n",
       "</defs>\n",
       "<polygon clip-path=\"url(#clip00)\" points=\"\n",
       "45.8815,369.674 596.063,369.674 596.063,23.3815 45.8815,23.3815 \n",
       "  \" fill=\"#ffffff\" fill-opacity=\"1\"/>\n",
       "<defs>\n",
       "  <clipPath id=\"clip02\">\n",
       "    <rect x=\"45\" y=\"23\" width=\"551\" height=\"347\"/>\n",
       "  </clipPath>\n",
       "</defs>\n",
       "<polyline clip-path=\"url(#clip02)\" style=\"stroke:#00002d; stroke-width:0.8; stroke-opacity:0.5; fill:none\" stroke-dasharray=\"1, 2\" points=\"\n",
       "  181.353,364.48 181.353,28.5758 \n",
       "  \"/>\n",
       "<polyline clip-path=\"url(#clip02)\" style=\"stroke:#00002d; stroke-width:0.8; stroke-opacity:0.5; fill:none\" stroke-dasharray=\"1, 2\" points=\"\n",
       "  319.59,364.48 319.59,28.5758 \n",
       "  \"/>\n",
       "<polyline clip-path=\"url(#clip02)\" style=\"stroke:#00002d; stroke-width:0.8; stroke-opacity:0.5; fill:none\" stroke-dasharray=\"1, 2\" points=\"\n",
       "  457.826,364.48 457.826,28.5758 \n",
       "  \"/>\n",
       "<polyline clip-path=\"url(#clip02)\" style=\"stroke:#00002d; stroke-width:0.8; stroke-opacity:0.5; fill:none\" stroke-dasharray=\"1, 2\" points=\"\n",
       "  596.063,364.48 596.063,28.5758 \n",
       "  \"/>\n",
       "<polyline clip-path=\"url(#clip02)\" style=\"stroke:#00002d; stroke-width:0.8; stroke-opacity:0.5; fill:none\" stroke-dasharray=\"1, 2\" points=\"\n",
       "  54.1342,369.674 587.81,369.674 \n",
       "  \"/>\n",
       "<polyline clip-path=\"url(#clip02)\" style=\"stroke:#00002d; stroke-width:0.8; stroke-opacity:0.5; fill:none\" stroke-dasharray=\"1, 2\" points=\"\n",
       "  54.1342,300.416 587.81,300.416 \n",
       "  \"/>\n",
       "<polyline clip-path=\"url(#clip02)\" style=\"stroke:#00002d; stroke-width:0.8; stroke-opacity:0.5; fill:none\" stroke-dasharray=\"1, 2\" points=\"\n",
       "  54.1342,231.157 587.81,231.157 \n",
       "  \"/>\n",
       "<polyline clip-path=\"url(#clip02)\" style=\"stroke:#00002d; stroke-width:0.8; stroke-opacity:0.5; fill:none\" stroke-dasharray=\"1, 2\" points=\"\n",
       "  54.1342,161.899 587.81,161.899 \n",
       "  \"/>\n",
       "<polyline clip-path=\"url(#clip02)\" style=\"stroke:#00002d; stroke-width:0.8; stroke-opacity:0.5; fill:none\" stroke-dasharray=\"1, 2\" points=\"\n",
       "  54.1342,92.64 587.81,92.64 \n",
       "  \"/>\n",
       "<polyline clip-path=\"url(#clip02)\" style=\"stroke:#00002d; stroke-width:0.8; stroke-opacity:0.5; fill:none\" stroke-dasharray=\"1, 2\" points=\"\n",
       "  54.1342,23.3815 587.81,23.3815 \n",
       "  \"/>\n",
       "<polyline clip-path=\"url(#clip02)\" style=\"stroke:#00002d; stroke-width:0.8; stroke-opacity:1; fill:none\" points=\"\n",
       "  45.8815,369.674 596.063,369.674 \n",
       "  \"/>\n",
       "<polyline clip-path=\"url(#clip02)\" style=\"stroke:#00002d; stroke-width:0.8; stroke-opacity:1; fill:none\" points=\"\n",
       "  181.353,369.674 181.353,364.48 \n",
       "  \"/>\n",
       "<polyline clip-path=\"url(#clip02)\" style=\"stroke:#00002d; stroke-width:0.8; stroke-opacity:1; fill:none\" points=\"\n",
       "  319.59,369.674 319.59,364.48 \n",
       "  \"/>\n",
       "<polyline clip-path=\"url(#clip02)\" style=\"stroke:#00002d; stroke-width:0.8; stroke-opacity:1; fill:none\" points=\"\n",
       "  457.826,369.674 457.826,364.48 \n",
       "  \"/>\n",
       "<polyline clip-path=\"url(#clip02)\" style=\"stroke:#00002d; stroke-width:0.8; stroke-opacity:1; fill:none\" points=\"\n",
       "  596.063,369.674 596.063,364.48 \n",
       "  \"/>\n",
       "<polyline clip-path=\"url(#clip02)\" style=\"stroke:#00002d; stroke-width:0.8; stroke-opacity:1; fill:none\" points=\"\n",
       "  45.8815,369.674 45.8815,23.3815 \n",
       "  \"/>\n",
       "<polyline clip-path=\"url(#clip02)\" style=\"stroke:#00002d; stroke-width:0.8; stroke-opacity:1; fill:none\" points=\"\n",
       "  45.8815,369.674 54.1342,369.674 \n",
       "  \"/>\n",
       "<polyline clip-path=\"url(#clip02)\" style=\"stroke:#00002d; stroke-width:0.8; stroke-opacity:1; fill:none\" points=\"\n",
       "  45.8815,300.416 54.1342,300.416 \n",
       "  \"/>\n",
       "<polyline clip-path=\"url(#clip02)\" style=\"stroke:#00002d; stroke-width:0.8; stroke-opacity:1; fill:none\" points=\"\n",
       "  45.8815,231.157 54.1342,231.157 \n",
       "  \"/>\n",
       "<polyline clip-path=\"url(#clip02)\" style=\"stroke:#00002d; stroke-width:0.8; stroke-opacity:1; fill:none\" points=\"\n",
       "  45.8815,161.899 54.1342,161.899 \n",
       "  \"/>\n",
       "<polyline clip-path=\"url(#clip02)\" style=\"stroke:#00002d; stroke-width:0.8; stroke-opacity:1; fill:none\" points=\"\n",
       "  45.8815,92.64 54.1342,92.64 \n",
       "  \"/>\n",
       "<polyline clip-path=\"url(#clip02)\" style=\"stroke:#00002d; stroke-width:0.8; stroke-opacity:1; fill:none\" points=\"\n",
       "  45.8815,23.3815 54.1342,23.3815 \n",
       "  \"/>\n",
       "<g clip-path=\"url(#clip00)\">\n",
       "<text style=\"fill:#00002d; fill-opacity:1; font-family:Arial,Helvetica Neue,Helvetica,sans-serif; font-size:12; text-anchor:middle;\" transform=\"rotate(0, 181.353, 381.674)\" x=\"181.353\" y=\"381.674\">50</text>\n",
       "</g>\n",
       "<g clip-path=\"url(#clip00)\">\n",
       "<text style=\"fill:#00002d; fill-opacity:1; font-family:Arial,Helvetica Neue,Helvetica,sans-serif; font-size:12; text-anchor:middle;\" transform=\"rotate(0, 319.59, 381.674)\" x=\"319.59\" y=\"381.674\">100</text>\n",
       "</g>\n",
       "<g clip-path=\"url(#clip00)\">\n",
       "<text style=\"fill:#00002d; fill-opacity:1; font-family:Arial,Helvetica Neue,Helvetica,sans-serif; font-size:12; text-anchor:middle;\" transform=\"rotate(0, 457.826, 381.674)\" x=\"457.826\" y=\"381.674\">150</text>\n",
       "</g>\n",
       "<g clip-path=\"url(#clip00)\">\n",
       "<text style=\"fill:#00002d; fill-opacity:1; font-family:Arial,Helvetica Neue,Helvetica,sans-serif; font-size:12; text-anchor:middle;\" transform=\"rotate(0, 596.063, 381.674)\" x=\"596.063\" y=\"381.674\">200</text>\n",
       "</g>\n",
       "<g clip-path=\"url(#clip00)\">\n",
       "<text style=\"fill:#00002d; fill-opacity:1; font-family:Arial,Helvetica Neue,Helvetica,sans-serif; font-size:12; text-anchor:end;\" transform=\"rotate(0, 44.6815, 374.174)\" x=\"44.6815\" y=\"374.174\">0</text>\n",
       "</g>\n",
       "<g clip-path=\"url(#clip00)\">\n",
       "<text style=\"fill:#00002d; fill-opacity:1; font-family:Arial,Helvetica Neue,Helvetica,sans-serif; font-size:12; text-anchor:end;\" transform=\"rotate(0, 44.6815, 304.916)\" x=\"44.6815\" y=\"304.916\">20</text>\n",
       "</g>\n",
       "<g clip-path=\"url(#clip00)\">\n",
       "<text style=\"fill:#00002d; fill-opacity:1; font-family:Arial,Helvetica Neue,Helvetica,sans-serif; font-size:12; text-anchor:end;\" transform=\"rotate(0, 44.6815, 235.657)\" x=\"44.6815\" y=\"235.657\">40</text>\n",
       "</g>\n",
       "<g clip-path=\"url(#clip00)\">\n",
       "<text style=\"fill:#00002d; fill-opacity:1; font-family:Arial,Helvetica Neue,Helvetica,sans-serif; font-size:12; text-anchor:end;\" transform=\"rotate(0, 44.6815, 166.399)\" x=\"44.6815\" y=\"166.399\">60</text>\n",
       "</g>\n",
       "<g clip-path=\"url(#clip00)\">\n",
       "<text style=\"fill:#00002d; fill-opacity:1; font-family:Arial,Helvetica Neue,Helvetica,sans-serif; font-size:12; text-anchor:end;\" transform=\"rotate(0, 44.6815, 97.14)\" x=\"44.6815\" y=\"97.14\">80</text>\n",
       "</g>\n",
       "<g clip-path=\"url(#clip00)\">\n",
       "<text style=\"fill:#00002d; fill-opacity:1; font-family:Arial,Helvetica Neue,Helvetica,sans-serif; font-size:12; text-anchor:end;\" transform=\"rotate(0, 44.6815, 27.8815)\" x=\"44.6815\" y=\"27.8815\">100</text>\n",
       "</g>\n",
       "<g clip-path=\"url(#clip00)\">\n",
       "<text style=\"fill:#00002d; fill-opacity:1; font-family:Arial,Helvetica Neue,Helvetica,sans-serif; font-size:21; text-anchor:middle;\" transform=\"rotate(0, 320.972, 18)\" x=\"320.972\" y=\"18\">Ecuación de calor</text>\n",
       "</g>\n",
       "<g clip-path=\"url(#clip00)\">\n",
       "<text style=\"fill:#00002d; fill-opacity:1; font-family:Arial,Helvetica Neue,Helvetica,sans-serif; font-size:16; text-anchor:middle;\" transform=\"rotate(0, 320.972, 397.6)\" x=\"320.972\" y=\"397.6\">x</text>\n",
       "</g>\n",
       "<g clip-path=\"url(#clip00)\">\n",
       "<text style=\"fill:#00002d; fill-opacity:1; font-family:Arial,Helvetica Neue,Helvetica,sans-serif; font-size:16; text-anchor:middle;\" transform=\"rotate(-90, 14.4, 196.528)\" x=\"14.4\" y=\"196.528\">u(t,x)</text>\n",
       "</g>\n",
       "<polyline clip-path=\"url(#clip02)\" style=\"stroke:#0099ff; stroke-width:0.8; stroke-opacity:1; fill:none\" points=\"\n",
       "  45.8815,369.674 48.6462,369.674 51.4109,369.674 54.1756,369.674 56.9404,369.674 59.7051,369.674 62.4698,369.674 65.2346,369.674 67.9993,369.674 70.764,369.674 \n",
       "  73.5288,369.674 76.2935,369.674 79.0582,369.674 81.823,369.674 84.5877,369.674 87.3524,369.674 90.1172,369.674 92.8819,369.674 95.6466,369.674 98.4113,369.674 \n",
       "  101.176,369.673 103.941,369.672 106.706,369.671 109.47,369.668 112.235,369.663 115,369.656 117.764,369.643 120.529,369.624 123.294,369.593 126.059,369.546 \n",
       "  128.823,369.475 131.588,369.37 134.353,369.218 137.118,369.003 139.882,368.704 142.647,368.295 145.412,367.749 148.177,367.033 150.941,366.112 153.706,364.953 \n",
       "  156.471,363.52 159.235,361.787 162,359.73 164.765,357.337 167.53,354.61 170.294,351.564 173.059,348.228 175.824,344.649 178.589,340.884 181.353,337.004 \n",
       "  184.118,333.085 186.883,329.205 189.647,325.441 192.412,321.861 195.177,318.526 197.942,315.479 200.706,312.752 203.471,310.36 206.236,308.303 209.001,306.569 \n",
       "  211.765,305.137 214.53,303.977 217.295,303.057 220.06,302.341 222.824,301.795 225.589,301.386 228.354,301.087 231.118,300.871 233.883,300.72 236.648,300.615 \n",
       "  239.413,300.544 242.177,300.497 244.942,300.466 247.707,300.446 250.472,300.434 253.236,300.426 256.001,300.422 258.766,300.419 261.53,300.418 264.295,300.417 \n",
       "  267.06,300.416 269.825,300.416 272.589,300.416 275.354,300.416 278.119,300.416 280.884,300.416 283.648,300.416 286.413,300.416 289.178,300.416 291.943,300.416 \n",
       "  294.707,300.416 297.472,300.416 300.237,300.416 303.001,300.416 305.766,300.416 308.531,300.416 311.296,300.416 314.06,300.416 316.825,300.416 319.59,300.416 \n",
       "  322.355,300.416 325.119,300.416 327.884,300.416 330.649,300.416 333.414,300.416 336.178,300.416 338.943,300.416 341.708,300.416 344.472,300.416 347.237,300.416 \n",
       "  350.002,300.416 352.767,300.416 355.531,300.416 358.296,300.416 361.061,300.416 363.826,300.416 366.59,300.416 369.355,300.416 372.12,300.416 374.884,300.416 \n",
       "  377.649,300.417 380.414,300.418 383.179,300.419 385.943,300.422 388.708,300.426 391.473,300.434 394.238,300.446 397.002,300.466 399.767,300.497 402.532,300.544 \n",
       "  405.297,300.615 408.061,300.72 410.826,300.871 413.591,301.087 416.355,301.386 419.12,301.795 421.885,302.341 424.65,303.057 427.414,303.977 430.179,305.137 \n",
       "  432.944,306.569 435.709,308.303 438.473,310.36 441.238,312.752 444.003,315.479 446.767,318.526 449.532,321.861 452.297,325.441 455.062,329.205 457.826,333.085 \n",
       "  460.591,337.004 463.356,340.884 466.121,344.649 468.885,348.228 471.65,351.564 474.415,354.61 477.18,357.337 479.944,359.73 482.709,361.787 485.474,363.52 \n",
       "  488.238,364.953 491.003,366.112 493.768,367.033 496.533,367.749 499.297,368.295 502.062,368.704 504.827,369.003 507.592,369.218 510.356,369.37 513.121,369.475 \n",
       "  515.886,369.546 518.651,369.593 521.415,369.624 524.18,369.643 526.945,369.656 529.709,369.663 532.474,369.668 535.239,369.671 538.004,369.672 540.768,369.673 \n",
       "  543.533,369.674 546.298,369.674 549.063,369.674 551.827,369.674 554.592,369.674 557.357,369.674 560.121,369.674 562.886,369.674 565.651,369.674 568.416,369.674 \n",
       "  571.18,369.674 573.945,369.674 576.71,369.674 579.475,369.674 582.239,369.674 585.004,369.674 587.769,369.674 590.534,369.674 593.298,369.674 596.063,369.674 \n",
       "  \n",
       "  \"/>\n",
       "<polygon clip-path=\"url(#clip00)\" points=\"\n",
       "505.547,74.5015 578.063,74.5015 578.063,44.2615 505.547,44.2615 \n",
       "  \" fill=\"#ffffff\" fill-opacity=\"1\"/>\n",
       "<polyline clip-path=\"url(#clip00)\" style=\"stroke:#00002d; stroke-width:0.8; stroke-opacity:1; fill:none\" points=\"\n",
       "  505.547,74.5015 578.063,74.5015 578.063,44.2615 505.547,44.2615 505.547,74.5015 \n",
       "  \"/>\n",
       "<polyline clip-path=\"url(#clip00)\" style=\"stroke:#0099ff; stroke-width:0.8; stroke-opacity:1; fill:none\" points=\"\n",
       "  511.547,59.3815 547.547,59.3815 \n",
       "  \"/>\n",
       "<g clip-path=\"url(#clip00)\">\n",
       "<text style=\"fill:#00002d; fill-opacity:1; font-family:Arial,Helvetica Neue,Helvetica,sans-serif; font-size:12; text-anchor:start;\" transform=\"rotate(0, 553.547, 63.8815)\" x=\"553.547\" y=\"63.8815\">y1</text>\n",
       "</g>\n",
       "</svg>\n"
      ]
     },
     "execution_count": 43,
     "metadata": {
      "comm_id": "a57e7c7c-a218-4ff2-8eb7-dfdd9f3545ce",
      "reactive": true
     },
     "output_type": "execute_result"
    }
   ],
   "source": [
    "@manipulate for i in 1:size(M)[1]\n",
    "    plot(M[i,:],ylim=(0,100),title=\"Ecuación de calor\",xlabel=\"x\",ylabel=\"u(t,x)\")\n",
    "end"
   ]
  },
  {
   "cell_type": "code",
   "execution_count": 60,
   "metadata": {
    "collapsed": false
   },
   "outputs": [
    {
     "data": {
      "text/html": [],
      "text/plain": [
       "Interact.Options{:SelectionSlider,Int64}(Signal{Int64}(100, nactions=1),\"i\",100,\"100\",Interact.OptionDict(DataStructures.OrderedDict(\"1\"=>1,\"2\"=>2,\"3\"=>3,\"4\"=>4,\"5\"=>5,\"6\"=>6,\"7\"=>7,\"8\"=>8,\"9\"=>9,\"10\"=>10…),Dict(11=>\"11\",134=>\"134\",158=>\"158\",160=>\"160\",29=>\"29\",131=>\"131\",173=>\"173\",74=>\"74\",176=>\"176\",57=>\"57\"…)),Any[],Any[],true,\"horizontal\")"
      ]
     },
     "metadata": {},
     "output_type": "display_data"
    },
    {
     "name": "stdout",
     "output_type": "stream",
     "text": [
      "0.1\n"
     ]
    },
    {
     "data": {
      "text/html": [
       "<?xml version=\"1.0\" encoding=\"utf-8\"?>\n",
       "<svg xmlns=\"http://www.w3.org/2000/svg\" xmlns:xlink=\"http://www.w3.org/1999/xlink\" width=\"600\" height=\"400\" viewBox=\"0 0 600 400\">\n",
       "<defs>\n",
       "  <clipPath id=\"clip00\">\n",
       "    <rect x=\"0\" y=\"0\" width=\"600\" height=\"400\"/>\n",
       "  </clipPath>\n",
       "</defs>\n",
       "<polygon clip-path=\"url(#clip00)\" points=\"\n",
       "0,400 600,400 600,0 0,0 \n",
       "  \" fill=\"#ffffff\" fill-opacity=\"1\"/>\n",
       "<defs>\n",
       "  <clipPath id=\"clip01\">\n",
       "    <rect x=\"120\" y=\"0\" width=\"421\" height=\"400\"/>\n",
       "  </clipPath>\n",
       "</defs>\n",
       "<polygon clip-path=\"url(#clip00)\" points=\"\n",
       "45.8815,369.674 596.063,369.674 596.063,23.3815 45.8815,23.3815 \n",
       "  \" fill=\"#ffffff\" fill-opacity=\"1\"/>\n",
       "<defs>\n",
       "  <clipPath id=\"clip02\">\n",
       "    <rect x=\"45\" y=\"23\" width=\"551\" height=\"347\"/>\n",
       "  </clipPath>\n",
       "</defs>\n",
       "<polyline clip-path=\"url(#clip02)\" style=\"stroke:#00002d; stroke-width:0.8; stroke-opacity:0.5; fill:none\" stroke-dasharray=\"1, 2\" points=\"\n",
       "  155.918,364.48 155.918,28.5758 \n",
       "  \"/>\n",
       "<polyline clip-path=\"url(#clip02)\" style=\"stroke:#00002d; stroke-width:0.8; stroke-opacity:0.5; fill:none\" stroke-dasharray=\"1, 2\" points=\"\n",
       "  293.463,364.48 293.463,28.5758 \n",
       "  \"/>\n",
       "<polyline clip-path=\"url(#clip02)\" style=\"stroke:#00002d; stroke-width:0.8; stroke-opacity:0.5; fill:none\" stroke-dasharray=\"1, 2\" points=\"\n",
       "  431.009,364.48 431.009,28.5758 \n",
       "  \"/>\n",
       "<polyline clip-path=\"url(#clip02)\" style=\"stroke:#00002d; stroke-width:0.8; stroke-opacity:0.5; fill:none\" stroke-dasharray=\"1, 2\" points=\"\n",
       "  568.554,364.48 568.554,28.5758 \n",
       "  \"/>\n",
       "<polyline clip-path=\"url(#clip02)\" style=\"stroke:#00002d; stroke-width:0.8; stroke-opacity:0.5; fill:none\" stroke-dasharray=\"1, 2\" points=\"\n",
       "  54.1342,369.674 587.81,369.674 \n",
       "  \"/>\n",
       "<polyline clip-path=\"url(#clip02)\" style=\"stroke:#00002d; stroke-width:0.8; stroke-opacity:0.5; fill:none\" stroke-dasharray=\"1, 2\" points=\"\n",
       "  54.1342,300.416 587.81,300.416 \n",
       "  \"/>\n",
       "<polyline clip-path=\"url(#clip02)\" style=\"stroke:#00002d; stroke-width:0.8; stroke-opacity:0.5; fill:none\" stroke-dasharray=\"1, 2\" points=\"\n",
       "  54.1342,231.157 587.81,231.157 \n",
       "  \"/>\n",
       "<polyline clip-path=\"url(#clip02)\" style=\"stroke:#00002d; stroke-width:0.8; stroke-opacity:0.5; fill:none\" stroke-dasharray=\"1, 2\" points=\"\n",
       "  54.1342,161.899 587.81,161.899 \n",
       "  \"/>\n",
       "<polyline clip-path=\"url(#clip02)\" style=\"stroke:#00002d; stroke-width:0.8; stroke-opacity:0.5; fill:none\" stroke-dasharray=\"1, 2\" points=\"\n",
       "  54.1342,92.64 587.81,92.64 \n",
       "  \"/>\n",
       "<polyline clip-path=\"url(#clip02)\" style=\"stroke:#00002d; stroke-width:0.8; stroke-opacity:0.5; fill:none\" stroke-dasharray=\"1, 2\" points=\"\n",
       "  54.1342,23.3815 587.81,23.3815 \n",
       "  \"/>\n",
       "<polyline clip-path=\"url(#clip02)\" style=\"stroke:#00002d; stroke-width:0.8; stroke-opacity:1; fill:none\" points=\"\n",
       "  45.8815,369.674 596.063,369.674 \n",
       "  \"/>\n",
       "<polyline clip-path=\"url(#clip02)\" style=\"stroke:#00002d; stroke-width:0.8; stroke-opacity:1; fill:none\" points=\"\n",
       "  155.918,369.674 155.918,364.48 \n",
       "  \"/>\n",
       "<polyline clip-path=\"url(#clip02)\" style=\"stroke:#00002d; stroke-width:0.8; stroke-opacity:1; fill:none\" points=\"\n",
       "  293.463,369.674 293.463,364.48 \n",
       "  \"/>\n",
       "<polyline clip-path=\"url(#clip02)\" style=\"stroke:#00002d; stroke-width:0.8; stroke-opacity:1; fill:none\" points=\"\n",
       "  431.009,369.674 431.009,364.48 \n",
       "  \"/>\n",
       "<polyline clip-path=\"url(#clip02)\" style=\"stroke:#00002d; stroke-width:0.8; stroke-opacity:1; fill:none\" points=\"\n",
       "  568.554,369.674 568.554,364.48 \n",
       "  \"/>\n",
       "<polyline clip-path=\"url(#clip02)\" style=\"stroke:#00002d; stroke-width:0.8; stroke-opacity:1; fill:none\" points=\"\n",
       "  45.8815,369.674 45.8815,23.3815 \n",
       "  \"/>\n",
       "<polyline clip-path=\"url(#clip02)\" style=\"stroke:#00002d; stroke-width:0.8; stroke-opacity:1; fill:none\" points=\"\n",
       "  45.8815,369.674 54.1342,369.674 \n",
       "  \"/>\n",
       "<polyline clip-path=\"url(#clip02)\" style=\"stroke:#00002d; stroke-width:0.8; stroke-opacity:1; fill:none\" points=\"\n",
       "  45.8815,300.416 54.1342,300.416 \n",
       "  \"/>\n",
       "<polyline clip-path=\"url(#clip02)\" style=\"stroke:#00002d; stroke-width:0.8; stroke-opacity:1; fill:none\" points=\"\n",
       "  45.8815,231.157 54.1342,231.157 \n",
       "  \"/>\n",
       "<polyline clip-path=\"url(#clip02)\" style=\"stroke:#00002d; stroke-width:0.8; stroke-opacity:1; fill:none\" points=\"\n",
       "  45.8815,161.899 54.1342,161.899 \n",
       "  \"/>\n",
       "<polyline clip-path=\"url(#clip02)\" style=\"stroke:#00002d; stroke-width:0.8; stroke-opacity:1; fill:none\" points=\"\n",
       "  45.8815,92.64 54.1342,92.64 \n",
       "  \"/>\n",
       "<polyline clip-path=\"url(#clip02)\" style=\"stroke:#00002d; stroke-width:0.8; stroke-opacity:1; fill:none\" points=\"\n",
       "  45.8815,23.3815 54.1342,23.3815 \n",
       "  \"/>\n",
       "<g clip-path=\"url(#clip00)\">\n",
       "<text style=\"fill:#00002d; fill-opacity:1; font-family:Arial,Helvetica Neue,Helvetica,sans-serif; font-size:12; text-anchor:middle;\" transform=\"rotate(0, 155.918, 381.674)\" x=\"155.918\" y=\"381.674\">5</text>\n",
       "</g>\n",
       "<g clip-path=\"url(#clip00)\">\n",
       "<text style=\"fill:#00002d; fill-opacity:1; font-family:Arial,Helvetica Neue,Helvetica,sans-serif; font-size:12; text-anchor:middle;\" transform=\"rotate(0, 293.463, 381.674)\" x=\"293.463\" y=\"381.674\">10</text>\n",
       "</g>\n",
       "<g clip-path=\"url(#clip00)\">\n",
       "<text style=\"fill:#00002d; fill-opacity:1; font-family:Arial,Helvetica Neue,Helvetica,sans-serif; font-size:12; text-anchor:middle;\" transform=\"rotate(0, 431.009, 381.674)\" x=\"431.009\" y=\"381.674\">15</text>\n",
       "</g>\n",
       "<g clip-path=\"url(#clip00)\">\n",
       "<text style=\"fill:#00002d; fill-opacity:1; font-family:Arial,Helvetica Neue,Helvetica,sans-serif; font-size:12; text-anchor:middle;\" transform=\"rotate(0, 568.554, 381.674)\" x=\"568.554\" y=\"381.674\">20</text>\n",
       "</g>\n",
       "<g clip-path=\"url(#clip00)\">\n",
       "<text style=\"fill:#00002d; fill-opacity:1; font-family:Arial,Helvetica Neue,Helvetica,sans-serif; font-size:12; text-anchor:end;\" transform=\"rotate(0, 44.6815, 374.174)\" x=\"44.6815\" y=\"374.174\">0</text>\n",
       "</g>\n",
       "<g clip-path=\"url(#clip00)\">\n",
       "<text style=\"fill:#00002d; fill-opacity:1; font-family:Arial,Helvetica Neue,Helvetica,sans-serif; font-size:12; text-anchor:end;\" transform=\"rotate(0, 44.6815, 304.916)\" x=\"44.6815\" y=\"304.916\">20</text>\n",
       "</g>\n",
       "<g clip-path=\"url(#clip00)\">\n",
       "<text style=\"fill:#00002d; fill-opacity:1; font-family:Arial,Helvetica Neue,Helvetica,sans-serif; font-size:12; text-anchor:end;\" transform=\"rotate(0, 44.6815, 235.657)\" x=\"44.6815\" y=\"235.657\">40</text>\n",
       "</g>\n",
       "<g clip-path=\"url(#clip00)\">\n",
       "<text style=\"fill:#00002d; fill-opacity:1; font-family:Arial,Helvetica Neue,Helvetica,sans-serif; font-size:12; text-anchor:end;\" transform=\"rotate(0, 44.6815, 166.399)\" x=\"44.6815\" y=\"166.399\">60</text>\n",
       "</g>\n",
       "<g clip-path=\"url(#clip00)\">\n",
       "<text style=\"fill:#00002d; fill-opacity:1; font-family:Arial,Helvetica Neue,Helvetica,sans-serif; font-size:12; text-anchor:end;\" transform=\"rotate(0, 44.6815, 97.14)\" x=\"44.6815\" y=\"97.14\">80</text>\n",
       "</g>\n",
       "<g clip-path=\"url(#clip00)\">\n",
       "<text style=\"fill:#00002d; fill-opacity:1; font-family:Arial,Helvetica Neue,Helvetica,sans-serif; font-size:12; text-anchor:end;\" transform=\"rotate(0, 44.6815, 27.8815)\" x=\"44.6815\" y=\"27.8815\">100</text>\n",
       "</g>\n",
       "<g clip-path=\"url(#clip00)\">\n",
       "<text style=\"fill:#00002d; fill-opacity:1; font-family:Arial,Helvetica Neue,Helvetica,sans-serif; font-size:21; text-anchor:middle;\" transform=\"rotate(0, 320.972, 18)\" x=\"320.972\" y=\"18\">Ecuación de calor</text>\n",
       "</g>\n",
       "<g clip-path=\"url(#clip00)\">\n",
       "<text style=\"fill:#00002d; fill-opacity:1; font-family:Arial,Helvetica Neue,Helvetica,sans-serif; font-size:16; text-anchor:middle;\" transform=\"rotate(0, 320.972, 397.6)\" x=\"320.972\" y=\"397.6\">x</text>\n",
       "</g>\n",
       "<g clip-path=\"url(#clip00)\">\n",
       "<text style=\"fill:#00002d; fill-opacity:1; font-family:Arial,Helvetica Neue,Helvetica,sans-serif; font-size:16; text-anchor:middle;\" transform=\"rotate(-90, 14.4, 196.528)\" x=\"14.4\" y=\"196.528\">u(t,x)</text>\n",
       "</g>\n",
       "<polyline clip-path=\"url(#clip02)\" style=\"stroke:#0099ff; stroke-width:0.8; stroke-opacity:1; fill:none\" points=\"\n",
       "  45.8815,366.996 73.3905,363.865 100.9,359.877 128.409,354.736 155.918,348.326 183.427,340.778 210.936,332.513 238.445,324.23 265.954,316.824 293.463,311.223 \n",
       "  320.972,308.203 348.481,308.205 375.99,311.228 403.499,316.835 431.009,324.258 458.518,332.574 486.027,340.908 513.536,348.59 541.045,355.245 568.554,360.809 \n",
       "  596.063,365.487 \n",
       "  \"/>\n",
       "<polygon clip-path=\"url(#clip00)\" points=\"\n",
       "505.547,74.5015 578.063,74.5015 578.063,44.2615 505.547,44.2615 \n",
       "  \" fill=\"#ffffff\" fill-opacity=\"1\"/>\n",
       "<polyline clip-path=\"url(#clip00)\" style=\"stroke:#00002d; stroke-width:0.8; stroke-opacity:1; fill:none\" points=\"\n",
       "  505.547,74.5015 578.063,74.5015 578.063,44.2615 505.547,44.2615 505.547,74.5015 \n",
       "  \"/>\n",
       "<polyline clip-path=\"url(#clip00)\" style=\"stroke:#0099ff; stroke-width:0.8; stroke-opacity:1; fill:none\" points=\"\n",
       "  511.547,59.3815 547.547,59.3815 \n",
       "  \"/>\n",
       "<g clip-path=\"url(#clip00)\">\n",
       "<text style=\"fill:#00002d; fill-opacity:1; font-family:Arial,Helvetica Neue,Helvetica,sans-serif; font-size:12; text-anchor:start;\" transform=\"rotate(0, 553.547, 63.8815)\" x=\"553.547\" y=\"63.8815\">y1</text>\n",
       "</g>\n",
       "</svg>\n"
      ]
     },
     "execution_count": 60,
     "metadata": {
      "comm_id": "961968bc-eb07-442f-9426-5231e87a6b39",
      "reactive": true
     },
     "output_type": "execute_result"
    }
   ],
   "source": [
    "M=calorabs(x->deltadir(x,inf=100),(-.10,.10),20.0,d=.0001,h=.1,k=0.01)\n",
    "@manipulate for i in 1:size(M)[1]\n",
    "    plot(M[i,:],ylim=(0,100),title=\"Ecuación de calor\",xlabel=\"x\",ylabel=\"u(t,x)\")\n",
    "end"
   ]
  },
  {
   "cell_type": "code",
   "execution_count": 62,
   "metadata": {
    "collapsed": false
   },
   "outputs": [
    {
     "name": "stderr",
     "output_type": "stream",
     "text": [
      "\u001b[1m\u001b[34mINFO: Saved animation to C:\\Users\\Aldo\\Google Drive\\Materias Facultad\\Fis Comp\\FisicaComputacional2017_2\\notebooks\\tmp.gif\n",
      "\u001b[0m"
     ]
    },
    {
     "data": {
      "text/html": [
       "<img src=\"tmp.gif?0.7072821639837126>\" />"
      ],
      "text/plain": [
       "Plots.AnimatedGif(\"C:\\\\Users\\\\Aldo\\\\Google Drive\\\\Materias Facultad\\\\Fis Comp\\\\FisicaComputacional2017_2\\\\notebooks\\\\tmp.gif\")"
      ]
     },
     "execution_count": 62,
     "metadata": {},
     "output_type": "execute_result"
    }
   ],
   "source": [
    "@gif for i in 1:size(M)[1]\n",
    "    plot(M[i,:],ylim=(0,100))\n",
    "end"
   ]
  },
  {
   "cell_type": "markdown",
   "metadata": {},
   "source": [
=======
>>>>>>> upstream/master
    "**[4]** Considera la ecuación de difusión unidimensional, pero ahora con condiciones de frontera **reflejantes** (de Neumann).\n",
    "\n",
    "(i) Escribe la ecuación correspondiente a las condiciones de frontera en $x=\\pm L$.\n",
    "\n",
    "(ii) ¿Cómo se puede discretizar en términos de la misma discretización que antes?\n",
    "\n",
    "(iii) ¿Qué esperas intuitivamente que ocurre con este tipo de ecuaciones de frontera?\n",
    "\n",
    "(iv) Impleméntalo y grafica la evolución temporal."
   ]
  },
  {
   "cell_type": "markdown",
   "metadata": {},
   "source": [
<<<<<<< HEAD
    "### [4]\n",
    "\n",
    " Las condiciones a la frontera sobre las que queremos solucionar nuestra ecuación son ahora  a nuestra ecuación son las siguientes:\n",
    "\n",
    "$$\\frac{\\partial u}{\\partial x}\\Big|_{x= \\pm L} = 0$$\n",
    "\n",
    "Para seguir usando la discretización creada anteriormente, podemos simplemente cambiar la condición a la frontera para que obedezca que el nuevo término que añadimos al array que representa la función no sea 0.0, sino que ahora sea un reflejo del valor obtenido anteriormente. Es decir, utilizar la condición:\n",
    "\n",
    "$$u_{-1}^n = u_{1}^n$$\n",
    "$$u_{J+1}^n = u_{J-1}^n$$\n",
    " \n",
    "Donde J es la longitud del vector espacial. [Más información](ttp://web.math.ucsb.edu/~grigoryan/124B/lecs/lec17.pdf)"
   ]
  },
  {
   "cell_type": "code",
   "execution_count": 64,
   "metadata": {
    "collapsed": false
   },
   "outputs": [
    {
     "name": "stderr",
     "output_type": "stream",
     "text": [
      "WARNING: Method definition calorrefle(Function"
     ]
    },
    {
     "data": {
      "text/plain": [
       "calorrefle (generic function with 1 method)"
      ]
     },
     "execution_count": 64,
     "metadata": {},
     "output_type": "execute_result"
    },
    {
     "name": "stderr",
     "output_type": "stream",
     "text": [
      ", Tuple{Float64, Float64}, Float64) in module Main at In[63]:2 overwritten at In[64]:2.\n",
      "WARNING: Method definition #calorrefle(Array{Any, 1}, Main.#calorrefle, Function, Tuple{Float64, Float64}, Float64) in module Main overwritten.\n"
     ]
    }
   ],
   "source": [
    "function calorrefle(ut0::Function, L::Tuple{Float64,Float64}, tf::Float64; d::Number=1, h::Number=1e-2, k::Number=1e-2, test=false)\n",
    "    println(h*d/(k^2))\n",
    "    (T,X)=malla(L,tf,h=h,k=k)\n",
    "    u0=[ut0(x) for x in X]\n",
    "    total=reshape(u0,1,length(u0))\n",
    "    for i in 1:(length(T)-1)\n",
    "        B=vec(total[i,:])\n",
    "        C=[B[i-1] for i in 2:length(B)]\n",
    "        unshift!(C,B[1])\n",
    "        D=[B[i+1] for i in 1:(length(B)-1)]\n",
    "        push!(D,B[end])\n",
    "        u=B+(h*d/(k^2))*(C+D-2*B)\n",
    "        if test==true\n",
    "            @show i\n",
    "            @show B\n",
    "            @show C\n",
    "            @show D\n",
    "            @show u\n",
    "        end\n",
    "        total=vcat(total,u')\n",
    "    end\n",
    "    return total\n",
    "end"
   ]
  },
  {
   "cell_type": "code",
   "execution_count": 70,
   "metadata": {
    "collapsed": false
   },
   "outputs": [
    {
     "data": {
      "text/html": [],
      "text/plain": [
       "Interact.Options{:SelectionSlider,Int64}(Signal{Int64}(100, nactions=1),\"i\",100,\"100\",Interact.OptionDict(DataStructures.OrderedDict(\"1\"=>1,\"2\"=>2,\"3\"=>3,\"4\"=>4,\"5\"=>5,\"6\"=>6,\"7\"=>7,\"8\"=>8,\"9\"=>9,\"10\"=>10…),Dict(11=>\"11\",134=>\"134\",158=>\"158\",160=>\"160\",29=>\"29\",131=>\"131\",173=>\"173\",74=>\"74\",176=>\"176\",57=>\"57\"…)),Any[],Any[],true,\"horizontal\")"
      ]
     },
     "metadata": {},
     "output_type": "display_data"
    },
    {
     "name": "stdout",
     "output_type": "stream",
     "text": [
      "0.1\n",
      "0.1\n"
     ]
    },
    {
     "data": {
      "text/html": [
       "<?xml version=\"1.0\" encoding=\"utf-8\"?>\n",
       "<svg xmlns=\"http://www.w3.org/2000/svg\" xmlns:xlink=\"http://www.w3.org/1999/xlink\" width=\"600\" height=\"400\" viewBox=\"0 0 600 400\">\n",
       "<defs>\n",
       "  <clipPath id=\"clip00\">\n",
       "    <rect x=\"0\" y=\"0\" width=\"600\" height=\"400\"/>\n",
       "  </clipPath>\n",
       "</defs>\n",
       "<polygon clip-path=\"url(#clip00)\" points=\"\n",
       "0,400 600,400 600,0 0,0 \n",
       "  \" fill=\"#ffffff\" fill-opacity=\"1\"/>\n",
       "<defs>\n",
       "  <clipPath id=\"clip01\">\n",
       "    <rect x=\"120\" y=\"0\" width=\"421\" height=\"400\"/>\n",
       "  </clipPath>\n",
       "</defs>\n",
       "<polygon clip-path=\"url(#clip00)\" points=\"\n",
       "45.8815,369.674 596.063,369.674 596.063,23.3815 45.8815,23.3815 \n",
       "  \" fill=\"#ffffff\" fill-opacity=\"1\"/>\n",
       "<defs>\n",
       "  <clipPath id=\"clip02\">\n",
       "    <rect x=\"45\" y=\"23\" width=\"551\" height=\"347\"/>\n",
       "  </clipPath>\n",
       "</defs>\n",
       "<polyline clip-path=\"url(#clip02)\" style=\"stroke:#00002d; stroke-width:0.8; stroke-opacity:0.5; fill:none\" stroke-dasharray=\"1, 2\" points=\"\n",
       "  155.918,364.48 155.918,28.5758 \n",
       "  \"/>\n",
       "<polyline clip-path=\"url(#clip02)\" style=\"stroke:#00002d; stroke-width:0.8; stroke-opacity:0.5; fill:none\" stroke-dasharray=\"1, 2\" points=\"\n",
       "  293.463,364.48 293.463,28.5758 \n",
       "  \"/>\n",
       "<polyline clip-path=\"url(#clip02)\" style=\"stroke:#00002d; stroke-width:0.8; stroke-opacity:0.5; fill:none\" stroke-dasharray=\"1, 2\" points=\"\n",
       "  431.009,364.48 431.009,28.5758 \n",
       "  \"/>\n",
       "<polyline clip-path=\"url(#clip02)\" style=\"stroke:#00002d; stroke-width:0.8; stroke-opacity:0.5; fill:none\" stroke-dasharray=\"1, 2\" points=\"\n",
       "  568.554,364.48 568.554,28.5758 \n",
       "  \"/>\n",
       "<polyline clip-path=\"url(#clip02)\" style=\"stroke:#00002d; stroke-width:0.8; stroke-opacity:0.5; fill:none\" stroke-dasharray=\"1, 2\" points=\"\n",
       "  54.1342,369.674 587.81,369.674 \n",
       "  \"/>\n",
       "<polyline clip-path=\"url(#clip02)\" style=\"stroke:#00002d; stroke-width:0.8; stroke-opacity:0.5; fill:none\" stroke-dasharray=\"1, 2\" points=\"\n",
       "  54.1342,300.416 587.81,300.416 \n",
       "  \"/>\n",
       "<polyline clip-path=\"url(#clip02)\" style=\"stroke:#00002d; stroke-width:0.8; stroke-opacity:0.5; fill:none\" stroke-dasharray=\"1, 2\" points=\"\n",
       "  54.1342,231.157 587.81,231.157 \n",
       "  \"/>\n",
       "<polyline clip-path=\"url(#clip02)\" style=\"stroke:#00002d; stroke-width:0.8; stroke-opacity:0.5; fill:none\" stroke-dasharray=\"1, 2\" points=\"\n",
       "  54.1342,161.899 587.81,161.899 \n",
       "  \"/>\n",
       "<polyline clip-path=\"url(#clip02)\" style=\"stroke:#00002d; stroke-width:0.8; stroke-opacity:0.5; fill:none\" stroke-dasharray=\"1, 2\" points=\"\n",
       "  54.1342,92.64 587.81,92.64 \n",
       "  \"/>\n",
       "<polyline clip-path=\"url(#clip02)\" style=\"stroke:#00002d; stroke-width:0.8; stroke-opacity:0.5; fill:none\" stroke-dasharray=\"1, 2\" points=\"\n",
       "  54.1342,23.3815 587.81,23.3815 \n",
       "  \"/>\n",
       "<polyline clip-path=\"url(#clip02)\" style=\"stroke:#00002d; stroke-width:0.8; stroke-opacity:1; fill:none\" points=\"\n",
       "  45.8815,369.674 596.063,369.674 \n",
       "  \"/>\n",
       "<polyline clip-path=\"url(#clip02)\" style=\"stroke:#00002d; stroke-width:0.8; stroke-opacity:1; fill:none\" points=\"\n",
       "  155.918,369.674 155.918,364.48 \n",
       "  \"/>\n",
       "<polyline clip-path=\"url(#clip02)\" style=\"stroke:#00002d; stroke-width:0.8; stroke-opacity:1; fill:none\" points=\"\n",
       "  293.463,369.674 293.463,364.48 \n",
       "  \"/>\n",
       "<polyline clip-path=\"url(#clip02)\" style=\"stroke:#00002d; stroke-width:0.8; stroke-opacity:1; fill:none\" points=\"\n",
       "  431.009,369.674 431.009,364.48 \n",
       "  \"/>\n",
       "<polyline clip-path=\"url(#clip02)\" style=\"stroke:#00002d; stroke-width:0.8; stroke-opacity:1; fill:none\" points=\"\n",
       "  568.554,369.674 568.554,364.48 \n",
       "  \"/>\n",
       "<polyline clip-path=\"url(#clip02)\" style=\"stroke:#00002d; stroke-width:0.8; stroke-opacity:1; fill:none\" points=\"\n",
       "  45.8815,369.674 45.8815,23.3815 \n",
       "  \"/>\n",
       "<polyline clip-path=\"url(#clip02)\" style=\"stroke:#00002d; stroke-width:0.8; stroke-opacity:1; fill:none\" points=\"\n",
       "  45.8815,369.674 54.1342,369.674 \n",
       "  \"/>\n",
       "<polyline clip-path=\"url(#clip02)\" style=\"stroke:#00002d; stroke-width:0.8; stroke-opacity:1; fill:none\" points=\"\n",
       "  45.8815,300.416 54.1342,300.416 \n",
       "  \"/>\n",
       "<polyline clip-path=\"url(#clip02)\" style=\"stroke:#00002d; stroke-width:0.8; stroke-opacity:1; fill:none\" points=\"\n",
       "  45.8815,231.157 54.1342,231.157 \n",
       "  \"/>\n",
       "<polyline clip-path=\"url(#clip02)\" style=\"stroke:#00002d; stroke-width:0.8; stroke-opacity:1; fill:none\" points=\"\n",
       "  45.8815,161.899 54.1342,161.899 \n",
       "  \"/>\n",
       "<polyline clip-path=\"url(#clip02)\" style=\"stroke:#00002d; stroke-width:0.8; stroke-opacity:1; fill:none\" points=\"\n",
       "  45.8815,92.64 54.1342,92.64 \n",
       "  \"/>\n",
       "<polyline clip-path=\"url(#clip02)\" style=\"stroke:#00002d; stroke-width:0.8; stroke-opacity:1; fill:none\" points=\"\n",
       "  45.8815,23.3815 54.1342,23.3815 \n",
       "  \"/>\n",
       "<g clip-path=\"url(#clip00)\">\n",
       "<text style=\"fill:#00002d; fill-opacity:1; font-family:Arial,Helvetica Neue,Helvetica,sans-serif; font-size:12; text-anchor:middle;\" transform=\"rotate(0, 155.918, 381.674)\" x=\"155.918\" y=\"381.674\">5</text>\n",
       "</g>\n",
       "<g clip-path=\"url(#clip00)\">\n",
       "<text style=\"fill:#00002d; fill-opacity:1; font-family:Arial,Helvetica Neue,Helvetica,sans-serif; font-size:12; text-anchor:middle;\" transform=\"rotate(0, 293.463, 381.674)\" x=\"293.463\" y=\"381.674\">10</text>\n",
       "</g>\n",
       "<g clip-path=\"url(#clip00)\">\n",
       "<text style=\"fill:#00002d; fill-opacity:1; font-family:Arial,Helvetica Neue,Helvetica,sans-serif; font-size:12; text-anchor:middle;\" transform=\"rotate(0, 431.009, 381.674)\" x=\"431.009\" y=\"381.674\">15</text>\n",
       "</g>\n",
       "<g clip-path=\"url(#clip00)\">\n",
       "<text style=\"fill:#00002d; fill-opacity:1; font-family:Arial,Helvetica Neue,Helvetica,sans-serif; font-size:12; text-anchor:middle;\" transform=\"rotate(0, 568.554, 381.674)\" x=\"568.554\" y=\"381.674\">20</text>\n",
       "</g>\n",
       "<g clip-path=\"url(#clip00)\">\n",
       "<text style=\"fill:#00002d; fill-opacity:1; font-family:Arial,Helvetica Neue,Helvetica,sans-serif; font-size:12; text-anchor:end;\" transform=\"rotate(0, 44.6815, 374.174)\" x=\"44.6815\" y=\"374.174\">0</text>\n",
       "</g>\n",
       "<g clip-path=\"url(#clip00)\">\n",
       "<text style=\"fill:#00002d; fill-opacity:1; font-family:Arial,Helvetica Neue,Helvetica,sans-serif; font-size:12; text-anchor:end;\" transform=\"rotate(0, 44.6815, 304.916)\" x=\"44.6815\" y=\"304.916\">20</text>\n",
       "</g>\n",
       "<g clip-path=\"url(#clip00)\">\n",
       "<text style=\"fill:#00002d; fill-opacity:1; font-family:Arial,Helvetica Neue,Helvetica,sans-serif; font-size:12; text-anchor:end;\" transform=\"rotate(0, 44.6815, 235.657)\" x=\"44.6815\" y=\"235.657\">40</text>\n",
       "</g>\n",
       "<g clip-path=\"url(#clip00)\">\n",
       "<text style=\"fill:#00002d; fill-opacity:1; font-family:Arial,Helvetica Neue,Helvetica,sans-serif; font-size:12; text-anchor:end;\" transform=\"rotate(0, 44.6815, 166.399)\" x=\"44.6815\" y=\"166.399\">60</text>\n",
       "</g>\n",
       "<g clip-path=\"url(#clip00)\">\n",
       "<text style=\"fill:#00002d; fill-opacity:1; font-family:Arial,Helvetica Neue,Helvetica,sans-serif; font-size:12; text-anchor:end;\" transform=\"rotate(0, 44.6815, 97.14)\" x=\"44.6815\" y=\"97.14\">80</text>\n",
       "</g>\n",
       "<g clip-path=\"url(#clip00)\">\n",
       "<text style=\"fill:#00002d; fill-opacity:1; font-family:Arial,Helvetica Neue,Helvetica,sans-serif; font-size:12; text-anchor:end;\" transform=\"rotate(0, 44.6815, 27.8815)\" x=\"44.6815\" y=\"27.8815\">100</text>\n",
       "</g>\n",
       "<g clip-path=\"url(#clip00)\">\n",
       "<text style=\"fill:#00002d; fill-opacity:1; font-family:Arial,Helvetica Neue,Helvetica,sans-serif; font-size:21; text-anchor:middle;\" transform=\"rotate(0, 320.972, 18)\" x=\"320.972\" y=\"18\">Ecuación de calor</text>\n",
       "</g>\n",
       "<g clip-path=\"url(#clip00)\">\n",
       "<text style=\"fill:#00002d; fill-opacity:1; font-family:Arial,Helvetica Neue,Helvetica,sans-serif; font-size:16; text-anchor:middle;\" transform=\"rotate(0, 320.972, 397.6)\" x=\"320.972\" y=\"397.6\">x</text>\n",
       "</g>\n",
       "<g clip-path=\"url(#clip00)\">\n",
       "<text style=\"fill:#00002d; fill-opacity:1; font-family:Arial,Helvetica Neue,Helvetica,sans-serif; font-size:16; text-anchor:middle;\" transform=\"rotate(-90, 14.4, 196.528)\" x=\"14.4\" y=\"196.528\">u(t,x)</text>\n",
       "</g>\n",
       "<polyline clip-path=\"url(#clip02)\" style=\"stroke:#0099ff; stroke-width:4.8; stroke-opacity:1; fill:none\" stroke-dasharray=\"19, 12\" points=\"\n",
       "  45.8815,366.996 73.3905,363.865 100.9,359.877 128.409,354.736 155.918,348.326 183.427,340.778 210.936,332.513 238.445,324.23 265.954,316.824 293.463,311.223 \n",
       "  320.972,308.203 348.481,308.205 375.99,311.228 403.499,316.835 431.009,324.258 458.518,332.574 486.027,340.908 513.536,348.59 541.045,355.245 568.554,360.809 \n",
       "  596.063,365.487 \n",
       "  \"/>\n",
       "<polyline clip-path=\"url(#clip02)\" style=\"stroke:#e9746a; stroke-width:4.8; stroke-opacity:1; fill:none\" stroke-dasharray=\"2, 5\" points=\"\n",
       "  45.8815,363.431 73.3905,361.922 100.9,358.866 128.409,354.234 155.918,348.088 183.427,340.67 210.936,332.465 238.445,324.21 265.954,316.815 293.463,311.219 \n",
       "  320.972,308.199 348.481,308.196 375.99,311.208 403.499,316.788 431.009,324.149 458.518,332.335 486.027,340.406 513.536,347.579 541.045,353.302 568.554,357.244 \n",
       "  596.063,359.244 \n",
       "  \"/>\n",
       "<polygon clip-path=\"url(#clip00)\" points=\"\n",
       "458.768,89.6215 578.063,89.6215 578.063,44.2615 458.768,44.2615 \n",
       "  \" fill=\"#ffffff\" fill-opacity=\"1\"/>\n",
       "<polyline clip-path=\"url(#clip00)\" style=\"stroke:#00002d; stroke-width:0.8; stroke-opacity:1; fill:none\" points=\"\n",
       "  458.768,89.6215 578.063,89.6215 578.063,44.2615 458.768,44.2615 458.768,89.6215 \n",
       "  \"/>\n",
       "<polyline clip-path=\"url(#clip00)\" style=\"stroke:#0099ff; stroke-width:4.8; stroke-opacity:1; fill:none\" stroke-dasharray=\"19, 12\" points=\"\n",
       "  464.768,59.3815 500.768,59.3815 \n",
       "  \"/>\n",
       "<g clip-path=\"url(#clip00)\">\n",
       "<text style=\"fill:#00002d; fill-opacity:1; font-family:Arial,Helvetica Neue,Helvetica,sans-serif; font-size:12; text-anchor:start;\" transform=\"rotate(0, 506.768, 63.8815)\" x=\"506.768\" y=\"63.8815\">absorbente</text>\n",
       "</g>\n",
       "<polyline clip-path=\"url(#clip00)\" style=\"stroke:#e9746a; stroke-width:4.8; stroke-opacity:1; fill:none\" stroke-dasharray=\"2, 5\" points=\"\n",
       "  464.768,74.5015 500.768,74.5015 \n",
       "  \"/>\n",
       "<g clip-path=\"url(#clip00)\">\n",
       "<text style=\"fill:#00002d; fill-opacity:1; font-family:Arial,Helvetica Neue,Helvetica,sans-serif; font-size:12; text-anchor:start;\" transform=\"rotate(0, 506.768, 79.0015)\" x=\"506.768\" y=\"79.0015\">reflejante</text>\n",
       "</g>\n",
       "</svg>\n"
      ]
     },
     "execution_count": 70,
     "metadata": {
      "comm_id": "d2374d79-a289-4f47-abd0-5bb7e8574eda",
      "reactive": true
     },
     "output_type": "execute_result"
    }
   ],
   "source": [
    "M1=calorabs(x->deltadir(x,inf=100),(-.10,.10),20.0,d=.0001,h=.1,k=0.01)\n",
    "M2=calorrefle(x->deltadir(x,inf=100),(-.10,.10),20.0,d=.0001,h=.1,k=0.01)\n",
    "@manipulate for i in 1:size(M)[1]\n",
    "    plot(M1[i,:],ylim=(0,100),title=\"Ecuación de calor\",xlabel=\"x\",ylabel=\"u(t,x)\",label=\"absorbente\",linewidth=6,linestyle=:dash)\n",
    "    plot!(M2[i,:],ylim=(0,100),title=\"Ecuación de calor\",xlabel=\"x\",ylabel=\"u(t,x)\",label=\"reflejante\",linewidth=6,linestyle=:dot)\n",
    "end"
   ]
  },
  {
   "cell_type": "code",
   "execution_count": 71,
   "metadata": {
    "collapsed": false
   },
   "outputs": [
    {
     "name": "stderr",
     "output_type": "stream",
     "text": [
      "\u001b[1m\u001b[34mINFO: Saved animation to C:\\Users\\Aldo\\Google Drive\\Materias Facultad\\Fis Comp\\FisicaComputacional2017_2\\notebooks\\tmp.gif\n",
      "\u001b[0m"
     ]
    },
    {
     "data": {
      "text/html": [
       "<img src=\"tmp.gif?0.46703030243050114>\" />"
      ],
      "text/plain": [
       "Plots.AnimatedGif(\"C:\\\\Users\\\\Aldo\\\\Google Drive\\\\Materias Facultad\\\\Fis Comp\\\\FisicaComputacional2017_2\\\\notebooks\\\\tmp.gif\")"
      ]
     },
     "execution_count": 71,
     "metadata": {},
     "output_type": "execute_result"
    }
   ],
   "source": [
    "@gif for i in 1:size(M)[1]\n",
    "    plot(M1[i,:],ylim=(0,100),label=\"absorbente\",linewidth=6,linestyle=:dash)\n",
    "    plot!(M2[i,:],ylim=(0,100),label=\"reflejante\",linewidth=6,linestyle=:dot)\n",
    "end"
   ]
  },
  {
   "cell_type": "markdown",
   "metadata": {},
   "source": [
=======
>>>>>>> upstream/master
    "**[5]** Pensando *únicamente* en la parte de la evolución temporal:\n",
    "\n",
    "(i) ¿A qué método numérico para EDOs corresponde lo que ya implementaste?\n",
    "\n",
    "(ii) Discretiza *sólo* la derivada espacial de la ecuación y deja sin discretizarse la derivada temporal. El resultado se llama una **semi-discretización** de la ecuación. ¿Qué forma tienen las ecuaciones resultantes?\n",
    "\n",
    "(iii) Así, especifica cuáles otros métodos numéricos podrías aplicar.\n",
    "\n",
    "(iv) Impleméntalos y compáralos con la solución analítica"
   ]
<<<<<<< HEAD
  },
  {
   "cell_type": "markdown",
   "metadata": {},
   "source": [
    "### [5]\n",
    "\n",
    "El primer método implementado corresponde al método de Euler para la semi-discretización de la ecuación, pues considera a la función de la derivada temporal como una constante por todo el intervalo temporal $h$. Podeos implementar otros métodos numéricos para evaliar la función de lado derecho."
   ]
  },
  {
   "cell_type": "code",
   "execution_count": null,
   "metadata": {
    "collapsed": true
   },
   "outputs": [],
   "source": []
  }
 ],
 "metadata": {
  "anaconda-cloud": {},
  "hide_input": false,
  "kernelspec": {
   "display_name": "Julia 0.5.0",
=======
  }
 ],
 "metadata": {
  "kernelspec": {
   "display_name": "Julia 0.5.1",
>>>>>>> upstream/master
   "language": "julia",
   "name": "julia-0.5"
  },
  "language_info": {
   "file_extension": ".jl",
   "mimetype": "application/julia",
   "name": "julia",
<<<<<<< HEAD
   "version": "0.5.0"
  },
  "widgets": {
   "state": {
    "18091784-c7c3-4ce2-baa0-8ffb45224879": {
     "views": [
      {
       "cell_index": 16
      }
     ]
    },
    "5c65c556-7302-4730-afef-bcc8c79e445f": {
     "views": [
      {
       "cell_index": 26
      }
     ]
    },
    "78dadaec-5cb7-494e-8990-b954df6c37ee": {
     "views": [
      {
       "cell_index": 31
      }
     ]
    },
    "7c178878-8dd2-4c20-927c-b890625215d8": {
     "views": [
      {
       "cell_index": 24
      }
     ]
    }
   },
   "version": "1.2.0"
=======
   "version": "0.5.1"
>>>>>>> upstream/master
  }
 },
 "nbformat": 4,
 "nbformat_minor": 1
}
