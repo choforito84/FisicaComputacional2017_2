{
 "cells": [
  {
   "cell_type": "markdown",
   "metadata": {},
   "source": [
    "# La ecuación de Poisson"
   ]
  },
  {
   "cell_type": "markdown",
   "metadata": {},
   "source": [
    "En este notebook, veremos cómo podemos resolver la **ecuación de Poisson** en 2D,\n",
    "\n",
    "$$ \\nabla^2 V(\\mathbf{x}) = -\\rho(\\mathbf{x}) \\qquad (*)$$\n",
    "\n",
    "para encontrar el potencial y campo eléctrico debido a una distribución de carga $\\rho(\\mathbf{x})$ en una caja cuadrada. Extenderemos la misma idea que aplicamos en 1D."
   ]
  },
  {
   "cell_type": "markdown",
   "metadata": {},
   "source": [
    "**[1]** Discreticemos la caja de tamaño $L_x \\times L_y$ con $M_x$ y $M_y$ celdas en $x$ y $y$, respectivamente, de tamaños $h_x$ y $h_y$. Denotemos por $V_{i,j}$ el valor aproximado de $V(x_i, y_j)$ en el nodo $(x_i, y_j)$.\n",
    "\n",
    "(i) Encuentra una aproximación en diferencias finitas para $\\nabla^2 V(x_i, y_j)$ en el punto $(x_i, y_j)$ de la malla.\n",
    "\n",
    "(ii) Así, escribe la ecuación discretizada correspondiente a (*) en el nodo $(x_i, y_j)$."
   ]
  },
  {
   "cell_type": "code",
   "execution_count": 3,
   "metadata": {
    "collapsed": false
   },
   "outputs": [],
   "source": [
    "using Plots,Interact,DifferentialEquations"
   ]
  },
  {
   "cell_type": "code",
   "execution_count": 170,
   "metadata": {
    "collapsed": false
   },
   "outputs": [
    {
     "name": "stderr",
     "output_type": "stream",
     "text": [
      "WARNING: Method definition malla(Tuple{Float64, Float64}"
     ]
    },
    {
     "data": {
      "text/plain": [
       "([0.0,0.01,0.02,0.03,0.04,0.05,0.06,0.07,0.08,0.09  …  1.41,1.42,1.43,1.44,1.45,1.46,1.47,1.48,1.49,1.5],[0.0,0.01,0.02,0.03,0.04,0.05,0.06,0.07,0.08,0.09  …  1.91,1.92,1.93,1.94,1.95,1.96,1.97,1.98,1.99,2.0],\n",
       "Tuple{Float64,Float64}[(0.0,0.0) (0.0,0.01) … (0.0,1.99) (0.0,2.0); (0.01,0.0) (0.01,0.01) … (0.01,1.99) (0.01,2.0); … ; (1.49,0.0) (1.49,0.01) … (1.49,1.99) (1.49,2.0); (1.5,0.0) (1.5,0.01) … (1.5,1.99) (1.5,2.0)])"
      ]
     },
     "execution_count": 170,
     "metadata": {},
     "output_type": "execute_result"
    },
    {
     "name": "stderr",
     "output_type": "stream",
     "text": [
      ", Tuple{Float64, Float64}) in module Main at In[168]:2 overwritten at In[170]:2.\n",
      "WARNING: Method definition #malla(Array{Any, 1}, Main.#malla, Tuple{Float64, Float64}, Tuple{Float64, Float64}) in module Main overwritten.\n"
     ]
    }
   ],
   "source": [
    "function malla(LX::Tuple{Float64,Float64},LY::Tuple{Float64,Float64};hx::Float64=1e-2,hy::Float64=1e-2)\n",
    "    X=collect(LX[1]:hx:LX[2])\n",
    "    Y=collect(LY[1]:hy:LY[2])\n",
    "    M=[(x,y) for x in X,y in Y]\n",
    "    return (X,Y,M)\n",
    "end\n",
    "A=malla((0.0,1.5),(0.0,2.0))"
   ]
  },
  {
   "cell_type": "code",
   "execution_count": 171,
   "metadata": {
    "collapsed": false
   },
   "outputs": [
    {
     "data": {
      "text/plain": [
       "151×201 Array{Tuple{Float64,Float64},2}:\n",
       " (0.0,0.0)   (0.0,0.01)   (0.0,0.02)   …  (0.0,1.99)   (0.0,2.0) \n",
       " (0.01,0.0)  (0.01,0.01)  (0.01,0.02)     (0.01,1.99)  (0.01,2.0)\n",
       " (0.02,0.0)  (0.02,0.01)  (0.02,0.02)     (0.02,1.99)  (0.02,2.0)\n",
       " (0.03,0.0)  (0.03,0.01)  (0.03,0.02)     (0.03,1.99)  (0.03,2.0)\n",
       " (0.04,0.0)  (0.04,0.01)  (0.04,0.02)     (0.04,1.99)  (0.04,2.0)\n",
       " (0.05,0.0)  (0.05,0.01)  (0.05,0.02)  …  (0.05,1.99)  (0.05,2.0)\n",
       " (0.06,0.0)  (0.06,0.01)  (0.06,0.02)     (0.06,1.99)  (0.06,2.0)\n",
       " (0.07,0.0)  (0.07,0.01)  (0.07,0.02)     (0.07,1.99)  (0.07,2.0)\n",
       " (0.08,0.0)  (0.08,0.01)  (0.08,0.02)     (0.08,1.99)  (0.08,2.0)\n",
       " (0.09,0.0)  (0.09,0.01)  (0.09,0.02)     (0.09,1.99)  (0.09,2.0)\n",
       " (0.1,0.0)   (0.1,0.01)   (0.1,0.02)   …  (0.1,1.99)   (0.1,2.0) \n",
       " (0.11,0.0)  (0.11,0.01)  (0.11,0.02)     (0.11,1.99)  (0.11,2.0)\n",
       " (0.12,0.0)  (0.12,0.01)  (0.12,0.02)     (0.12,1.99)  (0.12,2.0)\n",
       " ⋮                                     ⋱               ⋮         \n",
       " (1.39,0.0)  (1.39,0.01)  (1.39,0.02)     (1.39,1.99)  (1.39,2.0)\n",
       " (1.4,0.0)   (1.4,0.01)   (1.4,0.02)   …  (1.4,1.99)   (1.4,2.0) \n",
       " (1.41,0.0)  (1.41,0.01)  (1.41,0.02)     (1.41,1.99)  (1.41,2.0)\n",
       " (1.42,0.0)  (1.42,0.01)  (1.42,0.02)     (1.42,1.99)  (1.42,2.0)\n",
       " (1.43,0.0)  (1.43,0.01)  (1.43,0.02)     (1.43,1.99)  (1.43,2.0)\n",
       " (1.44,0.0)  (1.44,0.01)  (1.44,0.02)     (1.44,1.99)  (1.44,2.0)\n",
       " (1.45,0.0)  (1.45,0.01)  (1.45,0.02)  …  (1.45,1.99)  (1.45,2.0)\n",
       " (1.46,0.0)  (1.46,0.01)  (1.46,0.02)     (1.46,1.99)  (1.46,2.0)\n",
       " (1.47,0.0)  (1.47,0.01)  (1.47,0.02)     (1.47,1.99)  (1.47,2.0)\n",
       " (1.48,0.0)  (1.48,0.01)  (1.48,0.02)     (1.48,1.99)  (1.48,2.0)\n",
       " (1.49,0.0)  (1.49,0.01)  (1.49,0.02)     (1.49,1.99)  (1.49,2.0)\n",
       " (1.5,0.0)   (1.5,0.01)   (1.5,0.02)   …  (1.5,1.99)   (1.5,2.0) "
      ]
     },
     "execution_count": 171,
     "metadata": {},
     "output_type": "execute_result"
    }
   ],
   "source": [
    "A[3]"
   ]
  },
  {
   "cell_type": "markdown",
   "metadata": {},
   "source": [
    "**[2]** Para seguir lo que hicimos en 1D, escribe todas estas ecuaciones, para todas las $i$ y $j$, simultáneamente como *una sola ecuación matricial*. Es decir, \n",
    "debemos recolectar todas las $\\phi(x_i, y_j)$ en *un solo vector*.\n",
    "\n",
    "(i) Inventa una manera de hacer esto (es decir, enlistar los puntos $(x_i, y_j)$ de una forma coherente), y escribe funciones correspondientes para pasar de la posición dada por $(i, j)$ a la posición $k$ en tu lista, y vice versa.\n",
    "\n",
    "(ii) Para sistemas chiquitos, muestra las matrices correspondientes que se generan."
   ]
  },
  {
   "cell_type": "code",
   "execution_count": 188,
   "metadata": {
    "collapsed": false
   },
   "outputs": [
    {
     "name": "stderr",
     "output_type": "stream",
     "text": [
      "WARNING: Method definition lugarmatriz("
     ]
    },
    {
     "data": {
      "text/plain": [
       "matriz (generic function with 2 methods)"
      ]
     },
     "execution_count": 188,
     "metadata": {},
     "output_type": "execute_result"
    },
    {
     "name": "stderr",
     "output_type": "stream",
     "text": [
      "Int64, Tuple{Int64, Int64}) in module Main at In[184]:2 overwritten at In[188]:2.\n",
      "WARNING: Method definition lugarvector(Tuple{Int64, Int64}, Tuple{Int64, Int64}) in module Main at In[184]:7 overwritten at In[188]:7.\n",
      "WARNING: Method definition vectorizar(Any) in module Main at In[184]:11 overwritten at In[188]:11.\n",
      "WARNING: Method definition matriz(Any, Tuple{Int64, Int64}) in module Main at In[184]:18 overwritten at In[188]:18.\n"
     ]
    }
   ],
   "source": [
    "function lugarmatriz(m::Int64,tam::Tuple{Int64,Int64})\n",
    "    i=mod(m-1,tam[2])+1\n",
    "    j=div(m-1,tam[1])+1\n",
    "    return (i,j)\n",
    "end\n",
    "function lugarvector(L::Tuple{Int64,Int64},tam::Tuple{Int64,Int64})\n",
    "    n=(L[2]-1)*(tam[1])+L[1]\n",
    "    return n\n",
    "end\n",
    "function vectorizar(M)\n",
    "    V=[]\n",
    "    for j in 1:size(M)[2]\n",
    "        append!(V,M[:,j])\n",
    "    end\n",
    "    return V\n",
    "end\n",
    "function matriz(V,tam::Tuple{Int64,Int64})\n",
    "    M=zeros(tam)\n",
    "    for i in 1:tam[1]\n",
    "        for j in 1:tam[2]\n",
    "            M[i,j]=V[lugarvector((i,j),tam)]\n",
    "        end\n",
    "    end\n",
    "    return M\n",
    "end   "
   ]
  },
  {
   "cell_type": "code",
   "execution_count": 189,
   "metadata": {
    "collapsed": false
   },
   "outputs": [
    {
     "name": "stderr",
     "output_type": "stream",
     "text": [
      "WARNING: Method definition test("
     ]
    },
    {
     "data": {
      "text/plain": [
       "test (generic function with 1 method)"
      ]
     },
     "execution_count": 189,
     "metadata": {},
     "output_type": "execute_result"
    },
    {
     "name": "stderr",
     "output_type": "stream",
     "text": [
      "Any) in module Main at In[185]:2 overwritten at In[189]:2.\n"
     ]
    }
   ],
   "source": [
    "function test(M)\n",
    "    M1=copy(M)\n",
    "    M2=vectorizar(M)\n",
    "    for i in 1:length(M2)\n",
    "        x=lugarmatriz(i,size(M1))\n",
    "        if M2[i]!=M1[x[1],x[2]]\n",
    "            println(\"fail\")\n",
    "        end\n",
    "    end\n",
    "    for i in 1:size(M1)[1]\n",
    "        for j in 1:size(M1)[2]\n",
    "            if M1[i,j]!=M2[lugarvector((i,j),size(M1))]\n",
    "                println(\"fail\")\n",
    "            end\n",
    "        end\n",
    "    end\n",
    "    println(\"finished\")\n",
    "end"
   ]
  },
  {
   "cell_type": "code",
   "execution_count": 190,
   "metadata": {
    "collapsed": false
   },
   "outputs": [
    {
     "data": {
      "text/plain": [
       "2×3 Array{Float64,2}:\n",
       " 0.914331  0.836023  0.64087 \n",
       " 0.894675  0.244654  0.892965"
      ]
     },
     "execution_count": 190,
     "metadata": {},
     "output_type": "execute_result"
    }
   ],
   "source": [
    "M=rand(2,3)"
   ]
  },
  {
   "cell_type": "code",
   "execution_count": 191,
   "metadata": {
    "collapsed": false
   },
   "outputs": [
    {
     "data": {
      "text/plain": [
       "2×3 Array{Float64,2}:\n",
       " 0.914331  0.836023  0.64087 \n",
       " 0.894675  0.244654  0.892965"
      ]
     },
     "execution_count": 191,
     "metadata": {},
     "output_type": "execute_result"
    }
   ],
   "source": [
    "matriz(vectorizar(M),size(M))"
   ]
  },
  {
   "cell_type": "code",
   "execution_count": 142,
   "metadata": {
    "collapsed": false
   },
   "outputs": [
    {
     "name": "stdout",
     "output_type": "stream",
     "text": [
      "finished\n"
     ]
    }
   ],
   "source": [
    "test(M)"
   ]
  },
  {
   "cell_type": "code",
   "execution_count": 161,
   "metadata": {
    "collapsed": false
   },
   "outputs": [
    {
     "name": "stderr",
     "output_type": "stream",
     "text": [
      "WARNING: Method definition matrizlaplace("
     ]
    },
    {
     "data": {
      "text/plain": [
       "matrizlaplace (generic function with 2 methods)"
      ]
     },
     "execution_count": 161,
     "metadata": {},
     "output_type": "execute_result"
    },
    {
     "name": "stderr",
     "output_type": "stream",
     "text": [
      "Tuple{Int64, Int64}, Float64, Float64) in module Main at In[158]:2 overwritten at In[161]:2.\n"
     ]
    }
   ],
   "source": [
    "function matrizlaplacedirichlet(tam::Tuple{Int64,Int64},hx::Float64,hy::Float64)\n",
    "    dim=tam[1]*tam[2]\n",
    "    A=zeros(dim,dim)\n",
    "    for i in (2+tam[1]):((dim-1)-tam[1])\n",
    "        A[i,i-1]=1/(hx^2)\n",
    "        A[i,i]=-2*(1/(hx^2)+1/(hy^2))\n",
    "        A[i,i+1]=1/(hx^2)\n",
    "        A[i,i-tam[1]]=1/(hy^2)\n",
    "        A[i,i+tam[1]]=1/(hy^2)\n",
    "    end\n",
    "    frontera=[]\n",
    "    for i in 1:tam[1]\n",
    "        push!(frontera,lugarvector((i,1),tam))\n",
    "        push!(frontera,lugarvector((i,tam[2]),tam))\n",
    "    end\n",
    "    for j in 1:tam[2]\n",
    "        push!(frontera,lugarvector((1,j),tam))\n",
    "        push!(frontera,lugarvector((tam[1],j),tam))\n",
    "    end\n",
    "    for n in frontera\n",
    "        A[n,:]=0.0\n",
    "        A[n,n]=1.0\n",
    "    end\n",
    "    return A\n",
    "end"
   ]
  },
  {
   "cell_type": "code",
   "execution_count": 164,
   "metadata": {
    "collapsed": false
   },
   "outputs": [
    {
     "data": {
      "text/plain": [
       "16×16 Array{Float64,2}:\n",
       " 1.0      0.0      0.0  0.0      0.0  …      0.0  0.0      0.0      0.0  0.0\n",
       " 0.0      1.0      0.0  0.0      0.0         0.0  0.0      0.0      0.0  0.0\n",
       " 0.0      0.0      1.0  0.0      0.0         0.0  0.0      0.0      0.0  0.0\n",
       " 0.0      0.0      0.0  1.0      0.0         0.0  0.0      0.0      0.0  0.0\n",
       " 0.0      0.0      0.0  0.0      1.0         0.0  0.0      0.0      0.0  0.0\n",
       " 0.0  10000.0      0.0  0.0  10000.0  …      0.0  0.0      0.0      0.0  0.0\n",
       " 0.0      0.0  10000.0  0.0      0.0         0.0  0.0      0.0      0.0  0.0\n",
       " 0.0      0.0      0.0  0.0      0.0         0.0  0.0      0.0      0.0  0.0\n",
       " 0.0      0.0      0.0  0.0      0.0         0.0  0.0      0.0      0.0  0.0\n",
       " 0.0      0.0      0.0  0.0      0.0         0.0  0.0  10000.0      0.0  0.0\n",
       " 0.0      0.0      0.0  0.0      0.0  …  10000.0  0.0      0.0  10000.0  0.0\n",
       " 0.0      0.0      0.0  0.0      0.0         1.0  0.0      0.0      0.0  0.0\n",
       " 0.0      0.0      0.0  0.0      0.0         0.0  1.0      0.0      0.0  0.0\n",
       " 0.0      0.0      0.0  0.0      0.0         0.0  0.0      1.0      0.0  0.0\n",
       " 0.0      0.0      0.0  0.0      0.0         0.0  0.0      0.0      1.0  0.0\n",
       " 0.0      0.0      0.0  0.0      0.0  …      0.0  0.0      0.0      0.0  1.0"
      ]
     },
     "execution_count": 164,
     "metadata": {},
     "output_type": "execute_result"
    }
   ],
   "source": [
    "M=matrizlaplace((4,4),1e-2,1e-2)"
   ]
  },
  {
   "cell_type": "code",
   "execution_count": 195,
   "metadata": {
    "collapsed": false
   },
   "outputs": [
    {
     "name": "stderr",
     "output_type": "stream",
     "text": [
      "WARNING: Method definition laplacedirichlet("
     ]
    },
    {
     "data": {
      "text/plain": [
       "laplacedirichlet (generic function with 1 method)"
      ]
     },
     "execution_count": 195,
     "metadata": {},
     "output_type": "execute_result"
    },
    {
     "name": "stderr",
     "output_type": "stream",
     "text": [
      "Function, Tuple{Float64, Float64}, Tuple{Float64, Float64}, Array{Float64, 1}) in module Main at In[194]:2 overwritten at In[195]:2.\n",
      "WARNING: Method definition #laplacedirichlet(Array{Any, 1}, Main.#laplacedirichlet, Function, Tuple{Float64, Float64}, Tuple{Float64, Float64}, Array{Float64, 1}) in module Main overwritten.\n"
     ]
    }
   ],
   "source": [
    "function laplacedirichlet(rho::Function,LX::Tuple{Float64,Float64},LY::Tuple{Float64,Float64},A::Array{Float64,1};hx::Float64=1e-2,hy::Float64=1e-2,test=false)\n",
    "    M=malla(LX,LY,hx,hy)\n",
    "    R=[rho([x,y]) for x in A[1],y in A[2]]\n",
    "    A=matrizlaplacedirichlet(size(M[3]),hx=hx,hy=hy)\n",
    "    R=vectorizar(R)\n",
    "    V=A\\R\n",
    "    V=matriz(V)\n",
    "    return (M[1],M[2],V)\n",
    "end"
   ]
  },
  {
   "cell_type": "code",
   "execution_count": 196,
   "metadata": {
    "collapsed": false
   },
   "outputs": [
    {
     "data": {
      "text/plain": [
       "escalon (generic function with 1 method)"
      ]
     },
     "execution_count": 196,
     "metadata": {},
     "output_type": "execute_result"
    }
   ],
   "source": [
    "function escalon(A;r=1e-2,h=100,p=2)\n",
    "    if norm(A,p)<r\n",
    "        return h\n",
    "    else\n",
    "        return 0.0\n",
    "    end\n",
    "end"
   ]
  },
  {
   "cell_type": "code",
   "execution_count": null,
   "metadata": {
    "collapsed": true
   },
   "outputs": [],
   "source": [
    "A=linspace(-1,1,200)\n",
    "plot(A,[escalon(a,r=.1) for a in A])"
   ]
  },
  {
   "cell_type": "code",
   "execution_count": null,
   "metadata": {
    "collapsed": true
   },
   "outputs": [],
   "source": [
    "laplacedirichlet(A->(0.0,1.0),(0.0,0.9))"
   ]
  },
  {
   "cell_type": "code",
   "execution_count": 173,
   "metadata": {
    "collapsed": false
   },
   "outputs": [
    {
     "data": {
      "text/plain": [
       "3-element Array{Float64,1}:\n",
       "   8.0\n",
       " -11.0\n",
       "  -3.0"
      ]
     },
     "execution_count": 173,
     "metadata": {},
     "output_type": "execute_result"
    }
   ],
   "source": [
    "A=[2.0 1.0 -1.0; -3.0 -1.0 2.0; -2.0 1.0 2.0]\n",
    "B=[8.0,-11.0,-3.0]"
   ]
  },
  {
   "cell_type": "code",
   "execution_count": 174,
   "metadata": {
    "collapsed": false
   },
   "outputs": [
    {
     "data": {
      "text/plain": [
       "3-element Array{Float64,1}:\n",
       "  2.0\n",
       "  3.0\n",
       " -1.0"
      ]
     },
     "execution_count": 174,
     "metadata": {},
     "output_type": "execute_result"
    }
   ],
   "source": [
    "X=A\\B"
   ]
  },
  {
   "cell_type": "markdown",
   "metadata": {},
   "source": [
    "**[3]** (i) Resuelve la ecuación de Laplace,\n",
    "$$\\nabla^2 V = 0$$ con condiciones de frontera de Dirichlet, es decir, con valores dados en las fronteras. Empieza con el caso que $V=0$ en tres de las fronteras y $V=\\mathrm{constante}$ en la frontera de arriba. \n",
    "\n",
    "(ii) Dibuja el potencial como una función en 3D, y como equipotenciales (con la función `contour` o similar).\n",
    "\n",
    "(iii) Encuentra las componentes del campo eléctrico $\\mathbf{E} = -\\nabla \\phi$. Dibuja el campo vectorial usando la función `quiver`.\n",
    "\n",
    "(iv) Experimenta con distintas condiciones de frontera. Utiliza `@manipulate`."
   ]
  },
  {
   "cell_type": "markdown",
   "metadata": {},
   "source": [
    "**[4]** Resuelve la ecuación de Poisson para una carga puntual tipo delta en algún punto de la malla. Utiliza condiciones de frontera $V(x_i, y_j) = 0$ (representando un campo que decae $0$ a una distancia grande desde la carga). Dibuja el potencial y el campo eléctrico."
   ]
  },
  {
   "cell_type": "markdown",
   "metadata": {},
   "source": [
    "**[5]** Encuentra el potencial y el campo eléctrico para un capacitor \"real\", es decir, dos placas paralelas de tamaño finito (menor de la caja), tanto entre las placas como afuera de ellas."
   ]
  }
 ],
 "metadata": {
  "anaconda-cloud": {},
  "hide_input": false,
  "kernelspec": {
   "display_name": "Julia 0.5.0",
   "language": "julia",
   "name": "julia-0.5"
  },
  "language_info": {
   "file_extension": ".jl",
   "mimetype": "application/julia",
   "name": "julia",
   "version": "0.5.0"
  },
  "toc": {
   "colors": {
    "hover_highlight": "#DAA520",
    "running_highlight": "#FF0000",
    "selected_highlight": "#FFD700"
   },
   "moveMenuLeft": true,
   "nav_menu": {
    "height": "30px",
    "width": "252px"
   },
   "navigate_menu": true,
   "number_sections": true,
   "sideBar": true,
   "threshold": "2",
   "toc_cell": false,
   "toc_section_display": "block",
   "toc_window_display": false
  }
 },
 "nbformat": 4,
 "nbformat_minor": 1
}
