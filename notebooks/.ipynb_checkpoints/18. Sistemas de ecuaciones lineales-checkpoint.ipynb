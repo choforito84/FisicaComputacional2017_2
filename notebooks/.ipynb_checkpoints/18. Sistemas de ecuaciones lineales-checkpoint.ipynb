{
 "cells": [
  {
   "cell_type": "markdown",
   "metadata": {},
   "source": [
    "# Sistemas de ecuaciones lineales"
   ]
  },
  {
   "cell_type": "markdown",
   "metadata": {},
   "source": [
    "En el notebook anterior, vimos que un problema de valores en la frontera, por ejemplo, el problema de Poisson, se puede expresar como un sistema de ecuaciones lineales, y, por lo tanto, se puede escribir en forma matricial como\n",
    "\n",
    "$$ \\mathsf{A} \\cdot \\mathbf{V} = \\mathbf{b},$$\n",
    "\n",
    "donde $\\mathbf{V} = (V_0, \\ldots, V_L)$ son los valores desconocidos del potencial, $\\mathsf{A}$ es una matriz proveniente de la discretización del Laplaciano usando diferencias finitas, y $\\mathbf{b}$ es un vector que combina el potencial y las condiciones en la frontera."
   ]
  },
  {
   "cell_type": "markdown",
   "metadata": {},
   "source": [
    "En el notebook anterior, utilizamos un método **iterativo** para resolver este sistema, pero vimos que convergía lentamente a la solución. \n",
    "\n",
    "En este notebook, veremos un método **directo** (es decir, no iterativo, y que requiere un número de pasos finito para terminar el cálculo) para resolver sistemas de ecuaciones lineales, el método de **eliminación gaussiana**, que seguramente ya vieron en Álgebra Lineal."
   ]
  },
  {
   "cell_type": "markdown",
   "metadata": {},
   "source": [
    "## Eliminación gaussiana"
   ]
  },
  {
   "cell_type": "markdown",
   "metadata": {},
   "source": [
    "Considera el sistema de ecuaciones lineales\n",
    "\n",
    "$$ \\mathsf{A} \\cdot \\mathbf{x} = \\mathbf{b}. \\qquad (1)$$\n",
    "\n",
    "Aquí, $\\mathsf{A}$ es una matriz cuadrada dada, de tamaño $n \\times n$, y $\\mathbf{b}$ es un vector dado en $\\mathbb{R}^n$. Queremos resolver esta ecuación para encontrar el vector desconocido $\\mathbf{x} \\in \\mathbb{R}^n$.\n",
    "\n",
    "Recuerda que podemos resolver este sistema usando el método de eliminación gaussiana, que consiste en llevar a cabo operaciones de renglón, tanto para la matriz $\\mathsf{A}$ como el vector $\\mathbf{b}$, para reducir $\\mathsf{A}$ a una forma triangular.\n",
    "\n",
    "[En este notebook, debes implementar los métodos numéricos \"a mano\" en la computadora, sin utilizar ningún método ni paquete de Julia ya implementado.]"
   ]
  },
  {
   "cell_type": "code",
   "execution_count": 51,
   "metadata": {
    "collapsed": false
   },
   "outputs": [
    {
     "data": {
      "text/plain": [
       "Plots.GRBackend()"
      ]
     },
     "execution_count": 51,
     "metadata": {},
     "output_type": "execute_result"
    }
   ],
   "source": [
    "using Interact, Plots\n",
    "gr()"
   ]
  },
  {
   "cell_type": "markdown",
   "metadata": {},
   "source": [
    "**[1]** Re-escribe la ecuación (1) utilizando índices y sumas.\n",
    "\n",
    "**[2]** Considera la ecuación $\\mathsf{U} \\cdot \\mathbf{x} = \\mathbf{c}$, en la cual $\\mathsf{U}$ es una matriz triangular superior (\"*U*pper triangular\").\n",
    "\n",
    "(i) ¿Cuál es la condición para que una matriz $\\mathsf{A}$ sea triangular superior, en términos de sus entradas $A_{ij}$? \n",
    "\n",
    "(ii) ¿Cómo se puede resolver esta ecuación? Piensa primero en un caso chiquito, e.g. $3 \\times 3$ con entradas $U_{11}$ etc., para que puedas hacer todo explícitamente.\n",
    "\n",
    "(iii) Implementa este método para una matriz triangular superior arbitraria.\n",
    "\n",
    "(iv) Verifica que tu método numérico funciona, es decir ¡que el resultado sí sea una solución de la ecuación original!"
   ]
  },
  {
   "cell_type": "markdown",
   "metadata": {},
   "source": [
    "### [1]\n",
    "\n",
    "La el problema matricial se puede escribir como\n",
    "\n",
    "$$\\sum_{j=1}^{N} A_{ij}x_j=b_i$$\n",
    "\n",
    "En notación de índices (utilizando la convención de Einstein), escribimos exactamente lo mismo y quitamos el símbolo de suma.\n",
    "\n",
    "$$A_{ij}x_j=b_i$$\n",
    "\n",
    "\n",
    "### [2]\n",
    "\n",
    "Una matriz $\\mathbf{A}$ es triangular superior si y solo si $\\forall i>j, A_{ij}=0$"
   ]
  },
  {
   "cell_type": "code",
   "execution_count": 52,
   "metadata": {
    "collapsed": false
   },
   "outputs": [
    {
     "name": "stderr",
     "output_type": "stream",
     "text": [
      "WARNING: Method definition evaluar("
     ]
    },
    {
     "data": {
      "text/plain": [
       "evaluar (generic function with 1 method)"
      ]
     },
     "execution_count": 52,
     "metadata": {},
     "output_type": "execute_result"
    }
   ],
   "source": [
    "function evaluar(A::Array{Float64,2},B::Array{Float64,1};test=false)\n",
    "    if size(A)[1]!=size(A)[2] \n",
    "        error(\"La matriz no es cuadrada\")\n",
    "    end\n",
    "    N=size(A)[1]\n",
    "    total=zeros(N)\n",
    "    total[N]=B[N]/A[N,N]\n",
    "    for i in 1:(N-1)\n",
    "        i=(N-i)\n",
    "        sum=0.0\n",
    "        for k in i:N\n",
    "            if test==true\n",
    "                @show k\n",
    "                @show A[i,k],total[k] \n",
    "                @show sum\n",
    "            end\n",
    "            sum=sum+A[i,k]*total[k]\n",
    "        end\n",
    "        if test==true\n",
    "            @show i\n",
    "            @show total\n",
    "            @show (B[i],sum,A[i,i])\n",
    "        end\n",
    "        total[i]=(B[i]-sum)/A[i,i]\n",
    "    end\n",
    "    return total\n",
    "end"
   ]
  },
  {
   "cell_type": "code",
   "execution_count": 53,
   "metadata": {
    "collapsed": false
   },
   "outputs": [
    {
     "name": "stderr",
     "output_type": "stream",
     "text": [
      "Array{Float64, 2}, Array{Float64, 1}"
     ]
    },
    {
     "data": {
      "text/plain": [
       "3-element Array{Float64,1}:\n",
       " 1.5\n",
       " 0.5\n",
       " 1.0"
      ]
     },
     "execution_count": 53,
     "metadata": {},
     "output_type": "execute_result"
    }
   ],
   "source": [
    "M=[1.0 1.0 1.0; 0.0 2.0 1.0; 0.0 0.0 1.0]\n",
    "B=[3.0,2.0,1.0]\n",
    "evaluar(M,B)"
   ]
  },
  {
   "cell_type": "markdown",
   "metadata": {},
   "source": [
    "**[3]** (i) Escribe, a mano, el método de eliminación gaussiana para reducir una matriz de $2 \\times 2$ a una matriz triangular superior, en términos de operaciones de renglón. ¿Qué se debe hacer al lado derecho de la ecuación? Supón (por el momento) que no hay problemas con dividir por cero. \n",
    "\n",
    "(ii) Impleméntalo numéricamente. Utiliza tu código para resolver el sistema de ecuaciones lineales\n",
    "\n",
    "\\begin{align} \n",
    "    3x + 7y &= 1; \\\\\n",
    "    2x + 4y &= 1.\n",
    "\\end{align}\n",
    "\n",
    "Por supuesto, ¡debes verificar que la solución que encuentres realmente sí sea solución de la ecuación!"
   ]
  },
  {
   "cell_type": "code",
   "execution_count": 54,
   "metadata": {
    "collapsed": false
   },
   "outputs": [
    {
     "name": "stderr",
     "output_type": "stream",
     "text": [
      ") in module Main at In[19]:2 overwritten at In[52]:2.\n",
      "WARNING: Method definition #evaluar(Array{Any, 1}, Main.#evaluar"
     ]
    },
    {
     "data": {
      "text/plain": [
       "gauss2x2 (generic function with 1 method)"
      ]
     },
     "execution_count": 54,
     "metadata": {},
     "output_type": "execute_result"
    }
   ],
   "source": [
    "function gauss2x2(M::Array{Float64,2},B::Array{Float64,1};test=false)\n",
    "    if M[2,1]==0.0\n",
    "        error(\"la entrada 2,1 no puede ser cero\")\n",
    "    end\n",
    "    M=hcat(M,B)\n",
    "    M[2,:]=M[2,:]-(M[2,1]/M[1,1])*M[1,:]\n",
    "    C=M[1:2,1:2]\n",
    "    D=M[1:2,3]\n",
    "    return evaluar(C,D)\n",
    "end  "
   ]
  },
  {
   "cell_type": "code",
   "execution_count": 55,
   "metadata": {
    "collapsed": false
   },
   "outputs": [
    {
     "name": "stderr",
     "output_type": "stream",
     "text": [
      ", Array{Float64, 2}, Array"
     ]
    },
    {
     "data": {
      "text/plain": [
       "2-element Array{Float64,1}:\n",
       "  1.5\n",
       " -0.5"
      ]
     },
     "execution_count": 55,
     "metadata": {},
     "output_type": "execute_result"
    }
   ],
   "source": [
    "M=[3.0 7.0; 2.0 4.0]\n",
    "B=[1.0,1.0]\n",
    "gauss2x2(M,B)"
   ]
  },
  {
   "cell_type": "markdown",
   "metadata": {},
   "source": [
    "**[4]** (i) Implementa el método de eliminación gaussiana para una matriz de tamaño $3 \\times 3$,  y luego para una matriz arbitraria, para resolver la ecuación (1). Para eso, escribe una función que reduzca una matriz arbitraria a una triangular superior, y luego utiliza la función que ya tienes para resolver el sistema triangular superior. [Sigue suponiendo que no haya divisiones entre 0.]\n",
    "\n",
    "(ii) Utiliza tu código para resolver el sistema\n",
    "\n",
    "\\begin{align}\n",
    "    2x + y -  z &=   8; \\\\\n",
    "   -3x - y + 2z &= -11; \\\\\n",
    "   -2x + y + 2x &=  -3.\n",
    "\\end{align}"
   ]
  },
  {
   "cell_type": "code",
   "execution_count": 56,
   "metadata": {
    "collapsed": false
   },
   "outputs": [
    {
     "name": "stderr",
     "output_type": "stream",
     "text": [
      "{Float64, 1}) in module Main overwritten.\n"
     ]
    },
    {
     "data": {
      "text/plain": [
       "gauss (generic function with 2 methods)"
      ]
     },
     "execution_count": 56,
     "metadata": {},
     "output_type": "execute_result"
    }
   ],
   "source": [
    "function gauss(M::Array{Float64,2},B=Array{Float64,1};test=false)\n",
    "    if size(M)[1]!=size(M)[2]\n",
    "        error(\"la matriz debe ser cuadrada\")\n",
    "    end\n",
    "    N=size(M)[1]\n",
    "    M=hcat(M,B)\n",
    "    for j in 1:(N-1)\n",
    "        if test==true \n",
    "            @show j\n",
    "        end\n",
    "        for l in 1:(N-j)\n",
    "            i=N+1-l\n",
    "            if test==true\n",
    "                @show i\n",
    "                @show M[i,j]\n",
    "                @show M[i-1,j]\n",
    "                @show M\n",
    "            end\n",
    "            if M[i-1,j]==0\n",
    "                M[i-1,:],M[i,:]=M[i,:],M[i-1,:]\n",
    "                continue\n",
    "            end\n",
    "            M[i,:]=M[i,:]-(M[i,j]/M[i-1,j])*M[i-1,:]\n",
    "        end\n",
    "    end\n",
    "    A=M[:,1:N]\n",
    "    B=M[:,end]\n",
    "    X=evaluar(A,B)\n",
    "    return X\n",
    "end"
   ]
  },
  {
   "cell_type": "code",
   "execution_count": 57,
   "metadata": {
    "collapsed": false
   },
   "outputs": [
    {
     "name": "stderr",
     "output_type": "stream",
     "text": [
      "WARNING: Method definition gauss2x2(Array{Float64, 2}, "
     ]
    },
    {
     "data": {
      "text/plain": [
       "2-element Array{Float64,1}:\n",
       "  1.5\n",
       " -0.5"
      ]
     },
     "execution_count": 57,
     "metadata": {},
     "output_type": "execute_result"
    }
   ],
   "source": [
    "M=[3.0 7.0; 2.0 4.0]\n",
    "B=[1.0,1.0]\n",
    "gauss(M,B)"
   ]
  },
  {
   "cell_type": "code",
   "execution_count": 58,
   "metadata": {
    "collapsed": false
   },
   "outputs": [
    {
     "name": "stdout",
     "output_type": "stream",
     "text": [
      "j = 1\n",
      "i = 3\n",
      "M[i,j] = -2.0\n",
      "M[i - 1,j] = -3.0\n",
      "M = [2.0 1.0 -1.0 8.0; -3.0 -1.0 2.0 -11.0; -2.0 1.0 2.0 -3.0]\n",
      "i = 2\n",
      "M[i,j] = -3.0\n",
      "M[i - 1,j] = 2.0\n",
      "M = [2.0 1.0 -1.0 8.0; -3.0 -1.0 2.0 -11.0; 0.0 1.66667 0.666667 4.33333]\n",
      "j = 2\n",
      "i = 3\n",
      "M[i,j] = 1.6666666666666665\n",
      "M[i - 1,j] = 0.5\n",
      "M = [2.0 1.0 -1.0 8.0; 0.0 0.5 0.5 1.0; 0.0 1.66667 0.666667 4.33333]\n"
     ]
    },
    {
     "name": "stderr",
     "output_type": "stream",
     "text": [
      "Array{Float64, 1}) in module Main at In[21]:2 overwritten at In[54]:2.\n",
      "WARNING: Method definition #gauss2x2(Array{Any, 1}, Main.#gauss2x2, Array{Float64, 2}, Array{Float64, 1}) in module Main overwritten.\n",
      "WARNING: Method definition gauss(Array{Float64, 2}) in module Main at In[23]:2 overwritten at In[56]:2.\n",
      "WARNING: Method definition gauss(Array{Float64, 2}, Any) in module Main at In[23]:2 overwritten at In[56]:2.\n",
      "WARNING: Method definition #gauss(Array{Any, 1}, Main.#gauss, Array{Float64, 2}) in module Main"
     ]
    },
    {
     "data": {
      "text/plain": [
       "3-element Array{Float64,1}:\n",
       "  2.0\n",
       "  3.0\n",
       " -1.0"
      ]
     },
     "execution_count": 58,
     "metadata": {},
     "output_type": "execute_result"
    }
   ],
   "source": [
    "M=[2.0 1.0 -1.0; -3.0 -1.0 2.0; -2.0 1.0 2.0]\n",
    "B=[8.0,-11.0,-3.0]\n",
    "X=gauss(M,B,test=true)"
   ]
  },
  {
   "cell_type": "code",
   "execution_count": 59,
   "metadata": {
    "collapsed": false
   },
   "outputs": [
    {
     "name": "stderr",
     "output_type": "stream",
     "text": [
      " overwritten.\n",
      "WARNING: Method definition #gauss(Array{Any, 1}, Main.#gauss, Array{Float64"
     ]
    },
    {
     "data": {
      "text/plain": [
       "3-element Array{Float64,1}:\n",
       "  1.0\n",
       "  1.0\n",
       " -1.0"
      ]
     },
     "execution_count": 59,
     "metadata": {},
     "output_type": "execute_result"
    }
   ],
   "source": [
    "M=[1.0 1.0 1.0; 2.0 0.0 1.0; 0.0 1.0 0.0]\n",
    "B=[1.0,1.0,1.0]\n",
    "X=gauss(M,B)"
   ]
  },
  {
   "cell_type": "markdown",
   "metadata": {},
   "source": [
    "### [Extra]\n",
    "\n",
    "Podemos notar que para encontrar raíces de una función determinada, simplemente necesitamos aproximar la función con una serie de taylor vectorial.\n",
    "\n",
    "$$f(\\vec{x}+\\vec{\\delta}) = f(\\vec{x}) + J_f[\\vec{x}]\\vec{\\delta}=0 \\implies \\vec{\\delta}= - J_f^{-1}f(\\vec{x})$$\n",
    "\n",
    "Sin embargo, sabemos que para un sistema de ecuaciones lineales de la forma:\n",
    "\n",
    "$$J_f \\: \\vec{x}=f(\\vec{x_n})$$\n",
    "\n",
    "La solución será:\n",
    "\n",
    "$$\\vec{x} = J_f^{-1} \\: f(\\vec{x_n})$$\n",
    "\n",
    "Así, para computar esa expresión en el método de Newton, podemos simplemente resolver ese sistema de ecuaciones en cada paso."
   ]
  },
  {
   "cell_type": "code",
   "execution_count": 60,
   "metadata": {
    "collapsed": false
   },
   "outputs": [
    {
     "name": "stderr",
     "output_type": "stream",
     "text": [
      ", 2}, Any) in module Main overwritten.\n",
      "WARNING: Method definition devpar("
     ]
    },
    {
     "data": {
      "text/plain": [
       "newton (generic function with 3 methods)"
      ]
     },
     "execution_count": 60,
     "metadata": {},
     "output_type": "execute_result"
    }
   ],
   "source": [
    "function devpar(f::Function,x0::Array{Float64,1}, i::Int64,j::Int64; h::Float64=1e-8)\n",
    "    dim=length(x0)\n",
    "    H=zeros(dim)\n",
    "    H[j]=h\n",
    "    dev=(f(x0+H)-f(x0-H))/(2*h)\n",
    "    return dev[i]\n",
    "end\n",
    "function jacobiano(f::Function,x0::Array{Float64,1};h=1e-8)\n",
    "    dim=length(x0)\n",
    "    return [devpar(f,x0,i,j,h=h) for i in 1:dim, j in 1:dim]\n",
    "end\n",
    "function newton(f::Function,x0::Array{Float64};tol=1e-15,test=false)\n",
    "    i=1\n",
    "    X=copy(x0)\n",
    "    while norm(f(X),Inf)>tol\n",
    "        M=jacobiano(f,X)\n",
    "        B=f(X)\n",
    "        A=gauss(M,B)\n",
    "        X=X-A\n",
    "        if test==true\n",
    "            @show i\n",
    "            @show M\n",
    "            @show B\n",
    "            @show A\n",
    "            @show X\n",
    "        end\n",
    "        i=i+1\n",
    "    end\n",
    "    return X\n",
    "end"
   ]
  },
  {
   "cell_type": "code",
   "execution_count": 61,
   "metadata": {
    "collapsed": false
   },
   "outputs": [
    {
     "name": "stderr",
     "output_type": "stream",
     "text": [
      "Function, Array{Float64, 1}, Int64, Int64)"
     ]
    },
    {
     "data": {
      "text/plain": [
       "h (generic function with 1 method)"
      ]
     },
     "execution_count": 61,
     "metadata": {},
     "output_type": "execute_result"
    }
   ],
   "source": [
    "h(A)=[A[1]^2 - 2 , A[2]^2 - 3]"
   ]
  },
  {
   "cell_type": "code",
   "execution_count": 62,
   "metadata": {
    "collapsed": false
   },
   "outputs": [
    {
     "name": "stderr",
     "output_type": "stream",
     "text": [
      " in module Main at In[48]:2 overwritten at In[60]:2.\n",
      "WARNING: Method definition #devpar(Array{Any, 1}, "
     ]
    },
    {
     "data": {
      "text/plain": [
       "2-element Array{Float64,1}:\n",
       " 1.41421\n",
       " 1.73205"
      ]
     },
     "execution_count": 62,
     "metadata": {},
     "output_type": "execute_result"
    },
    {
     "name": "stderr",
     "output_type": "stream",
     "text": [
      "Main."
     ]
    }
   ],
   "source": [
    "newton(h,[1.5,1.5],test=false)"
   ]
  },
  {
   "cell_type": "markdown",
   "metadata": {},
   "source": [
    "**[5]** (i) El acto de llevar a cabo una operación de renglón (como las que se utilizan en la eliminación gaussiana) sobre una matriz $\\mathsf{A}$ se puede escribir como una multiplicación de $\\mathsf{A}$ con otra matriz $\\mathsf{L}$. ¿Cuál matriz $\\mathsf{L}$? ¿Qué propiedad tiene $\\mathsf{L}$?\n",
    "\n",
    "\n",
    "(ii) Considerando que el método de eliminación gaussiana consiste en una secuencia de operaciones de renglón, que son multiplicaciones por matrices $L_j$, y que produce una matriz triangular superior $U$, ¿cómo se puede escribir $U$ en términos de las $L_j$?\n",
    "\n",
    "(iii) Por lo tanto, ¿de qué forma se puede escribir $\\mathsf{A}$? \n",
    "\n",
    "(iv) ¿Qué implica esto si un problema consiste en resolver muchas ecuaciones de la forma $\\mathsf{A} \\cdot \\mathbf{x}^{(i)} = \\mathbf{b}^{(i)}$, para distintos lados derechos $\\mathbf{b}^{(i)}$?"
   ]
  }
 ],
 "metadata": {
  "anaconda-cloud": {},
  "hide_input": false,
  "kernelspec": {
   "display_name": "Julia 0.5.0",
   "language": "julia",
   "name": "julia-0.5"
  },
  "language_info": {
   "file_extension": ".jl",
   "mimetype": "application/julia",
   "name": "julia",
   "version": "0.5.0"
  },
  "toc": {
   "colors": {
    "hover_highlight": "#DAA520",
    "running_highlight": "#FF0000",
    "selected_highlight": "#FFD700"
   },
   "moveMenuLeft": true,
   "nav_menu": {
    "height": "49px",
    "width": "252px"
   },
   "navigate_menu": true,
   "number_sections": true,
   "sideBar": true,
   "threshold": "2",
   "toc_cell": false,
   "toc_section_display": "block",
   "toc_window_display": false
  }
 },
 "nbformat": 4,
 "nbformat_minor": 1
}
