{
 "cells": [
  {
   "cell_type": "markdown",
   "metadata": {},
   "source": [
    "# Sistemas de ecuaciones lineales"
   ]
  },
  {
   "cell_type": "markdown",
   "metadata": {},
   "source": [
    "En el notebook anterior, vimos que un problema de valores en la frontera, por ejemplo, el problema de Poisson, se puede expresar como un sistema de ecuaciones lineales, y, por lo tanto, se puede escribir en forma matricial como\n",
    "\n",
    "$$ \\mathsf{A} \\cdot \\mathbf{V} = \\mathbf{b},$$\n",
    "\n",
    "donde $\\mathbf{V} = (V_0, \\ldots, V_L)$ son los valores desconocidos del potencial, $\\mathsf{A}$ es una matriz proveniente de la discretización del Laplaciano usando diferencias finitas, y $\\mathbf{b}$ es un vector que combina el potencial y las condiciones en la frontera."
   ]
  },
  {
   "cell_type": "markdown",
   "metadata": {},
   "source": [
    "En el notebook anterior, utilizamos un método **iterativo** para resolver este sistema, pero vimos que convergía lentamente a la solución. \n",
    "\n",
    "En este notebook, veremos un método **directo** (es decir, no iterativo, y que requiere un número de pasos finito para terminar el cálculo) para resolver sistemas de ecuaciones lineales, el método de **eliminación gaussiana**, que seguramente ya vieron en Álgebra Lineal."
   ]
  },
  {
   "cell_type": "markdown",
   "metadata": {},
   "source": [
    "## Eliminación gaussiana"
   ]
  },
  {
   "cell_type": "markdown",
   "metadata": {},
   "source": [
    "Considera el sistema de ecuaciones lineales\n",
    "\n",
    "$$ \\mathsf{A} \\cdot \\mathbf{x} = \\mathbf{b}. \\qquad (1)$$\n",
    "\n",
    "Aquí, $\\mathsf{A}$ es una matriz cuadrada dada, de tamaño $n \\times n$, y $\\mathbf{b}$ es un vector dado en $\\mathbb{R}^n$. Queremos resolver esta ecuación para encontrar el vector desconocido $\\mathbf{x} \\in \\mathbb{R}^n$.\n",
    "\n",
    "Recuerda que podemos resolver este sistema usando el método de eliminación gaussiana, que consiste en llevar a cabo operaciones de renglón, tanto para la matriz $\\mathsf{A}$ como el vector $\\mathbf{b}$, para reducir $\\mathsf{A}$ a una forma triangular.\n",
    "\n",
    "[En este notebook, debes implementar los métodos numéricos \"a mano\" en la computadora, sin utilizar ningún método ni paquete de Julia ya implementado.]"
   ]
  },
  {
   "cell_type": "code",
   "execution_count": 1,
   "metadata": {
    "collapsed": false
   },
   "outputs": [
    {
     "data": {
      "text/html": [
       "<div id=\"interact-js-shim\">\n",
       "    <script charset=\"utf-8\">\r\n",
       "(function (IPython, $, _, MathJax) {\r\n",
       "    $.event.special.destroyed = {\r\n",
       "\tremove: function(o) {\r\n",
       "\t    if (o.handler) {\r\n",
       "\t\to.handler.apply(this, arguments)\r\n",
       "\t    }\r\n",
       "\t}\r\n",
       "    }\r\n",
       "\r\n",
       "    var OutputArea = IPython.version >= \"4.0.0\" ? require(\"notebook/js/outputarea\").OutputArea : IPython.OutputArea;\r\n",
       "\r\n",
       "    var redrawValue = function (container, type, val) {\r\n",
       "\tvar selector = $(\"<div/>\");\r\n",
       "\tvar oa = new OutputArea(_.extend(selector, {\r\n",
       "\t    selector: selector,\r\n",
       "\t    prompt_area: true,\r\n",
       "\t    events: IPython.events,\r\n",
       "\t    keyboard_manager: IPython.keyboard_manager\r\n",
       "\t})); // Hack to work with IPython 2.1.0\r\n",
       "\r\n",
       "\tswitch (type) {\r\n",
       "\tcase \"image/png\":\r\n",
       "            var _src = 'data:' + type + ';base64,' + val;\r\n",
       "\t    $(container).find(\"img\").attr('src', _src);\r\n",
       "\t    break;\r\n",
       "\tcase \"text/latex\":\r\n",
       "\t\tif (MathJax){\r\n",
       "\t\t\tvar math = MathJax.Hub.getAllJax(container)[0];\r\n",
       "\t\t\tMathJax.Hub.Queue([\"Text\", math, val.replace(/^\\${1,2}|\\${1,2}$/g, '')]);\r\n",
       "\t\t\tbreak;\r\n",
       "\t\t}\r\n",
       "\tdefault:\r\n",
       "\t    var toinsert = OutputArea.append_map[type].apply(\r\n",
       "\t\toa, [val, {}, selector]\r\n",
       "\t    );\r\n",
       "\t    $(container).empty().append(toinsert.contents());\r\n",
       "\t    selector.remove();\r\n",
       "\t}\r\n",
       "    }\r\n",
       "\r\n",
       "\r\n",
       "    $(document).ready(function() {\r\n",
       "\tfunction initComm(evt, data) {\r\n",
       "\t    var comm_manager = data.kernel.comm_manager;\r\n",
       "        //_.extend(comm_manager.targets, require(\"widgets/js/widget\"))\r\n",
       "\t    comm_manager.register_target(\"Signal\", function (comm) {\r\n",
       "            comm.on_msg(function (msg) {\r\n",
       "                var val = msg.content.data.value;\r\n",
       "                $(\".signal-\" + comm.comm_id).each(function() {\r\n",
       "                var type = $(this).data(\"type\");\r\n",
       "                if (typeof(val[type]) !== \"undefined\" && val[type] !== null) {\r\n",
       "                    redrawValue(this, type, val[type], type);\r\n",
       "                }\r\n",
       "                });\r\n",
       "                delete val;\r\n",
       "                delete msg.content.data.value;\r\n",
       "            });\r\n",
       "\t    });\r\n",
       "\r\n",
       "\t    // coordingate with Comm and redraw Signals\r\n",
       "\t    // XXX: Test using Reactive here to improve performance\r\n",
       "\t    $([IPython.events]).on(\r\n",
       "\t\t'output_appended.OutputArea', function (event, type, value, md, toinsert) {\r\n",
       "\t\t    if (md && md.reactive) {\r\n",
       "                // console.log(md.comm_id);\r\n",
       "                toinsert.addClass(\"signal-\" + md.comm_id);\r\n",
       "                toinsert.data(\"type\", type);\r\n",
       "                // Signal back indicating the mimetype required\r\n",
       "                var comm_manager = IPython.notebook.kernel.comm_manager;\r\n",
       "                var comm = comm_manager.comms[md.comm_id];\r\n",
       "                comm.then(function (c) {\r\n",
       "                    c.send({action: \"subscribe_mime\",\r\n",
       "                       mime: type});\r\n",
       "                    toinsert.bind(\"destroyed\", function() {\r\n",
       "                        c.send({action: \"unsubscribe_mime\",\r\n",
       "                               mime: type});\r\n",
       "                    });\r\n",
       "                })\r\n",
       "\t\t    }\r\n",
       "\t    });\r\n",
       "\t}\r\n",
       "\r\n",
       "\ttry {\r\n",
       "\t    // try to initialize right away. otherwise, wait on the status_started event.\r\n",
       "\t    initComm(undefined, IPython.notebook);\r\n",
       "\t} catch (e) {\r\n",
       "\t    $([IPython.events]).on('kernel_created.Kernel kernel_created.Session', initComm);\r\n",
       "\t}\r\n",
       "    });\r\n",
       "})(IPython, jQuery, _, MathJax);\r\n",
       "</script>\n",
       "    <script>\n",
       "        window.interactLoadedFlag = true\n",
       "       $(\"#interact-js-shim\").bind(\"destroyed\", function () {\n",
       "           if (window.interactLoadedFlag) {\n",
       "               console.warn(\"JavaScript required by Interact will be removed if you remove this cell or run using Interact more than once.\")\n",
       "           }\n",
       "       })\n",
       "       $([IPython.events]).on(\"kernel_starting.Kernel kernel_restarting.Kernel\", function () { window.interactLoadedFlag = false })\n",
       "   </script>\n",
       "</div>"
      ]
     },
     "metadata": {},
     "output_type": "display_data"
    },
    {
     "data": {
      "text/plain": [
       "Plots.GRBackend()"
      ]
     },
     "execution_count": 1,
     "metadata": {},
     "output_type": "execute_result"
    }
   ],
   "source": [
    "using Interact, Plots\n",
    "gr()"
   ]
  },
  {
   "cell_type": "markdown",
   "metadata": {},
   "source": [
    "**[1]** Re-escribe la ecuación (1) utilizando índices y sumas.\n",
    "\n",
    "**[2]** Considera la ecuación $\\mathsf{U} \\cdot \\mathbf{x} = \\mathbf{c}$, en la cual $\\mathsf{U}$ es una matriz triangular superior (\"*U*pper triangular\").\n",
    "\n",
    "(i) ¿Cuál es la condición para que una matriz $\\mathsf{A}$ sea triangular superior, en términos de sus entradas $A_{ij}$? \n",
    "\n",
    "(ii) ¿Cómo se puede resolver esta ecuación? Piensa primero en un caso chiquito, e.g. $3 \\times 3$ con entradas $U_{11}$ etc., para que puedas hacer todo explícitamente.\n",
    "\n",
    "(iii) Implementa este método para una matriz triangular superior arbitraria.\n",
    "\n",
    "(iv) Verifica que tu método numérico funciona, es decir ¡que el resultado sí sea una solución de la ecuación original!"
   ]
  },
  {
   "cell_type": "markdown",
   "metadata": {},
   "source": [
    "### [1]\n",
    "\n",
    "La el problema matricial se puede escribir como\n",
    "\n",
    "$$\\sum_{j=1}^{N} A_{ij}x_j=b_i$$\n",
    "\n",
    "En notación de índices (utilizando la convención de Einstein), escribimos exactamente lo mismo y quitamos el símbolo de suma.\n",
    "\n",
    "$$A_{ij}x_j=b_i$$\n",
    "\n",
    "\n",
    "### [2]\n",
    "\n",
    "Una matriz $\\mathbf{A}$ es triangular superior si y solo si $\\forall i>j, A_{ij}=0$"
   ]
  },
  {
   "cell_type": "code",
   "execution_count": 25,
   "metadata": {
    "collapsed": false
   },
   "outputs": [
    {
     "name": "stderr",
     "output_type": "stream",
     "text": [
      "WARNING: Method definition evaluar(Array"
     ]
    },
    {
     "data": {
      "text/plain": [
       "evaluar (generic function with 1 method)"
      ]
     },
     "execution_count": 25,
     "metadata": {},
     "output_type": "execute_result"
    },
    {
     "name": "stderr",
     "output_type": "stream",
     "text": [
      "{Float64, 2}, Array{Float64, 1}) in module Main at In[21]:2 overwritten at In[25]:2.\n",
      "WARNING: Method definition #evaluar(Array{Any, 1}, Main.#evaluar, Array{Float64, 2}, Array{Float64, 1}) in module Main overwritten.\n"
     ]
    }
   ],
   "source": [
    "function evaluar(A::Array{Float64,2},B::Array{Float64,1};test=false)\n",
    "    if size(A)[1]!=size(A)[2] \n",
    "        error(\"La matriz no es cuadrada\")\n",
    "    end\n",
    "    N=size(A)[1]\n",
    "    total=zeros(N)\n",
    "    total[N]=B[N]/A[N,N]\n",
    "    for i in 1:(N-1)\n",
    "        i=(N-i)\n",
    "        sum=0.0\n",
    "        for k in i:N\n",
    "            if test==true\n",
    "                @show k\n",
    "                @show A[i,k],total[k] \n",
    "                @show sum\n",
    "            end\n",
    "            sum=sum+A[i,k]*total[k]\n",
    "        end\n",
    "        if test==true\n",
    "            @show i\n",
    "            @show total\n",
    "            @show (B[i],sum,A[i,i])\n",
    "        end\n",
    "        total[i]=(B[i]-sum)/A[i,i]\n",
    "    end\n",
    "    return total\n",
    "end"
   ]
  },
  {
   "cell_type": "code",
   "execution_count": 29,
   "metadata": {
    "collapsed": false
   },
   "outputs": [
    {
     "data": {
      "text/plain": [
       "3-element Array{Float64,1}:\n",
       " 1.5\n",
       " 0.5\n",
       " 1.0"
      ]
     },
     "execution_count": 29,
     "metadata": {},
     "output_type": "execute_result"
    }
   ],
   "source": [
    "M=[1.0 1.0 1.0; 0.0 2.0 1.0; 0.0 0.0 1.0]\n",
    "B=[3.0,2.0,1.0]\n",
    "evaluar(M,B)"
   ]
  },
  {
   "cell_type": "markdown",
   "metadata": {},
   "source": [
    "**[3]** (i) Escribe, a mano, el método de eliminación gaussiana para reducir una matriz de $2 \\times 2$ a una matriz triangular superior, en términos de operaciones de renglón. ¿Qué se debe hacer al lado derecho de la ecuación? Supón (por el momento) que no hay problemas con dividir por cero. \n",
    "\n",
    "(ii) Impleméntalo numéricamente. Utiliza tu código para resolver el sistema de ecuaciones lineales\n",
    "\n",
    "\\begin{align} \n",
    "    3x + 7y &= 1; \\\\\n",
    "    2x + 4y &= 1.\n",
    "\\end{align}\n",
    "\n",
    "Por supuesto, ¡debes verificar que la solución que encuentres realmente sí sea solución de la ecuación!"
   ]
  },
  {
   "cell_type": "code",
   "execution_count": 60,
   "metadata": {
    "collapsed": false
   },
   "outputs": [
    {
     "name": "stderr",
     "output_type": "stream",
     "text": [
      "WARNING: Method definition gauss2x2("
     ]
    },
    {
     "data": {
      "text/plain": [
       "gauss2x2 (generic function with 1 method)"
      ]
     },
     "execution_count": 60,
     "metadata": {},
     "output_type": "execute_result"
    },
    {
     "name": "stderr",
     "output_type": "stream",
     "text": [
      "Array{Float64, 2}, Array{Float64, 1}) in module Main at In[58]:2 overwritten at In[60]:2.\n",
      "WARNING: Method definition #gauss2x2(Array{Any, 1}, Main.#gauss2x2, Array{Float64, 2}, Array{Float64, 1}) in module Main overwritten.\n"
     ]
    }
   ],
   "source": [
    "function gauss2x2(M::Array{Float64,2},B::Array{Float64,1};test=false)\n",
    "    if M[2,1]==0.0\n",
    "        error(\"la entrada 2,1 no puede ser cero\")\n",
    "    end\n",
    "    M=hcat(M,B)\n",
    "    M[2,:]=M[2,:]-(M[2,1]/M[1,1])*M[1,:]\n",
    "    C=M[1:2,1:2]\n",
    "    D=M[1:2,3]\n",
    "    return evaluar(C,D)\n",
    "end  "
   ]
  },
  {
   "cell_type": "code",
   "execution_count": 63,
   "metadata": {
    "collapsed": false
   },
   "outputs": [
    {
     "data": {
      "text/plain": [
       "2-element Array{Float64,1}:\n",
       "  1.5\n",
       " -0.5"
      ]
     },
     "execution_count": 63,
     "metadata": {},
     "output_type": "execute_result"
    }
   ],
   "source": [
    "M=[3.0 7.0; 2.0 4.0]\n",
    "B=[1.0,1.0]\n",
    "gauss2x2(M,B)"
   ]
  },
  {
   "cell_type": "markdown",
   "metadata": {},
   "source": [
    "**[4]** (i) Implementa el método de eliminación gaussiana para una matriz de tamaño $3 \\times 3$,  y luego para una matriz arbitraria, para resolver la ecuación (1). Para eso, escribe una función que reduzca una matriz arbitraria a una triangular superior, y luego utiliza la función que ya tienes para resolver el sistema triangular superior. [Sigue suponiendo que no haya divisiones entre 0.]\n",
    "\n",
    "(ii) Utiliza tu código para resolver el sistema\n",
    "\n",
    "\\begin{align}\n",
    "    2x + y -  z &=   8; \\\\\n",
    "   -3x - y + 2z &= -11; \\\\\n",
    "   -2x + y + 2x &=  -3.\n",
    "\\end{align}"
   ]
  },
  {
   "cell_type": "code",
   "execution_count": 104,
   "metadata": {
    "collapsed": false
   },
   "outputs": [
    {
     "name": "stderr",
     "output_type": "stream",
     "text": [
      "WARNING: Method definition gauss("
     ]
    },
    {
     "data": {
      "text/plain": [
       "gauss (generic function with 2 methods)"
      ]
     },
     "execution_count": 104,
     "metadata": {},
     "output_type": "execute_result"
    },
    {
     "name": "stderr",
     "output_type": "stream",
     "text": [
      "Array{Float64, 2}) in module Main at In[100]:2 overwritten at In[104]:2.\n",
      "WARNING: Method definition gauss(Array{Float64, 2}, Any) in module Main at In[100]:2 overwritten at In[104]:2.\n",
      "WARNING: Method definition #gauss(Array{Any, 1}, Main.#gauss, Array{Float64, 2}) in module Main overwritten.\n",
      "WARNING: Method definition #gauss(Array{Any, 1}, Main.#gauss, Array{Float64, 2}, Any) in module Main overwritten.\n"
     ]
    }
   ],
   "source": [
    "function gauss(M::Array{Float64,2},B=Array{Float64,1};test=false)\n",
    "    if size(M)[1]!=size(M)[2]\n",
    "        error(\"la matriz debe ser cuadrada\")\n",
    "    end\n",
    "    N=size(M)[1]\n",
    "    M=hcat(M,B)\n",
    "    for j in 1:(N-1)\n",
    "        if test==true \n",
    "            @show j\n",
    "        end\n",
    "        for l in 1:(N-j)\n",
    "            i=N+1-l\n",
    "            if test==true\n",
    "                @show i\n",
    "                @show M[i,j]\n",
    "                @show M[i-1,j]\n",
    "                @show M\n",
    "            end\n",
    "            if M[i-1,j]==0\n",
    "                M[i-1,:],M[i,:]=M[i,:],M[i-1,:]\n",
    "                continue\n",
    "            end\n",
    "            M[i,:]=M[i,:]-(M[i,j]/M[i-1,j])*M[i-1,:]\n",
    "        end\n",
    "    end\n",
    "    A=M[:,1:N]\n",
    "    B=M[:,end]\n",
    "    X=evaluar(A,B)\n",
    "    return X\n",
    "end"
   ]
  },
  {
   "cell_type": "code",
   "execution_count": 105,
   "metadata": {
    "collapsed": false
   },
   "outputs": [
    {
     "data": {
      "text/plain": [
       "2-element Array{Float64,1}:\n",
       "  1.5\n",
       " -0.5"
      ]
     },
     "execution_count": 105,
     "metadata": {},
     "output_type": "execute_result"
    }
   ],
   "source": [
    "M=[3.0 7.0; 2.0 4.0]\n",
    "B=[1.0,1.0]\n",
    "gauss(M,B)"
   ]
  },
  {
   "cell_type": "code",
   "execution_count": 106,
   "metadata": {
    "collapsed": false
   },
   "outputs": [
    {
     "name": "stdout",
     "output_type": "stream",
     "text": [
      "j = 1\n",
      "i = 3\n",
      "M[i,j] = -2.0\n",
      "M[i - 1,j] = -3.0\n",
      "M = [2.0 1.0 -1.0 8.0; -3.0 -1.0 2.0 -11.0; -2.0 1.0 2.0 -3.0]\n",
      "i = 2\n",
      "M[i,j] = -3.0\n",
      "M[i - 1,j] = 2.0\n",
      "M = [2.0 1.0 -1.0 8.0; -3.0 -1.0 2.0 -11.0; 0.0 1.66667 0.666667 4.33333]\n",
      "j = 2\n",
      "i = 3\n",
      "M[i,j] = 1.6666666666666665\n",
      "M[i - 1,j] = 0.5\n",
      "M = [2.0 1.0 -1.0 8.0; 0.0 0.5 0.5 1.0; 0.0 1.66667 0.666667 4.33333]\n"
     ]
    },
    {
     "data": {
      "text/plain": [
       "3-element Array{Float64,1}:\n",
       "  2.0\n",
       "  3.0\n",
       " -1.0"
      ]
     },
     "execution_count": 106,
     "metadata": {},
     "output_type": "execute_result"
    }
   ],
   "source": [
    "M=[2.0 1.0 -1.0; -3.0 -1.0 2.0; -2.0 1.0 2.0]\n",
    "B=[8.0,-11.0,-3.0]\n",
    "X=gauss(M,B,test=true)"
   ]
  },
  {
   "cell_type": "code",
   "execution_count": 109,
   "metadata": {
    "collapsed": false
   },
   "outputs": [
    {
     "name": "stdout",
     "output_type": "stream",
     "text": [
      "j = 1\n",
      "i = 3\n",
      "M[i,j] = 0.0\n",
      "M[i - 1,j] = 2.0\n",
      "M = [1.0 1.0 1.0 1.0; 2.0 0.0 1.0 1.0; 0.0 1.0 0.0 1.0]\n",
      "i = 2\n",
      "M[i,j] = 2.0\n",
      "M[i - 1,j] = 1.0\n",
      "M = [1.0 1.0 1.0 1.0; 2.0 0.0 1.0 1.0; 0.0 1.0 0.0 1.0]\n",
      "j = 2\n",
      "i = 3\n",
      "M[i,j] = 1.0\n",
      "M[i - 1,j] = -2.0\n",
      "M = [1.0 1.0 1.0 1.0; 0.0 -2.0 -1.0 -1.0; 0.0 1.0 0.0 1.0]\n"
     ]
    },
    {
     "data": {
      "text/plain": [
       "3-element Array{Float64,1}:\n",
       "  1.0\n",
       "  1.0\n",
       " -1.0"
      ]
     },
     "execution_count": 109,
     "metadata": {},
     "output_type": "execute_result"
    }
   ],
   "source": [
    "M=[1.0 1.0 1.0; 2.0 0.0 1.0; 0.0 1.0 0.0]\n",
    "B=[1.0,1.0,1.0]\n",
    "X=gauss(M,B,test=true)"
   ]
  },
  {
   "cell_type": "markdown",
   "metadata": {},
   "source": [
    "**[5]** (i) El acto de llevar a cabo una operación de renglón (como las que se utilizan en la eliminación gaussiana) sobre una matriz $\\mathsf{A}$ se puede escribir como una multiplicación de $\\mathsf{A}$ con otra matriz $\\mathsf{L}$. ¿Cuál matriz $\\mathsf{L}$? ¿Qué propiedad tiene $\\mathsf{L}$?\n",
    "\n",
    "\n",
    "(ii) Considerando que el método de eliminación gaussiana consiste en una secuencia de operaciones de renglón, que son multiplicaciones por matrices $L_j$, y que produce una matriz triangular superior $U$, ¿cómo se puede escribir $U$ en términos de las $L_j$?\n",
    "\n",
    "(iii) Por lo tanto, ¿de qué forma se puede escribir $\\mathsf{A}$? \n",
    "\n",
    "(iv) ¿Qué implica esto si un problema consiste en resolver muchas ecuaciones de la forma $\\mathsf{A} \\cdot \\mathbf{x}^{(i)} = \\mathbf{b}^{(i)}$, para distintos lados derechos $\\mathbf{b}^{(i)}$?"
   ]
  },
  {
   "cell_type": "code",
   "execution_count": null,
   "metadata": {
    "collapsed": true
   },
   "outputs": [],
   "source": []
  }
 ],
 "metadata": {
  "anaconda-cloud": {},
  "hide_input": false,
  "kernelspec": {
   "display_name": "Julia 0.5.0",
   "language": "julia",
   "name": "julia-0.5"
  },
  "language_info": {
   "file_extension": ".jl",
   "mimetype": "application/julia",
   "name": "julia",
   "version": "0.5.0"
  },
  "toc": {
   "colors": {
    "hover_highlight": "#DAA520",
    "running_highlight": "#FF0000",
    "selected_highlight": "#FFD700"
   },
   "moveMenuLeft": true,
   "nav_menu": {
    "height": "49px",
    "width": "252px"
   },
   "navigate_menu": true,
   "number_sections": true,
   "sideBar": true,
   "threshold": "2",
   "toc_cell": false,
   "toc_section_display": "block",
   "toc_window_display": false
  }
 },
 "nbformat": 4,
 "nbformat_minor": 1
}
