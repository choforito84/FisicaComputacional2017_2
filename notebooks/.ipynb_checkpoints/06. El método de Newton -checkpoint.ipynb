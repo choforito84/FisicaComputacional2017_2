{
 "cells": [
  {
   "cell_type": "markdown",
   "metadata": {},
   "source": [
    "# El método de Newton"
   ]
  },
  {
   "cell_type": "markdown",
   "metadata": {},
   "source": [
    "El método de Newton (también llamado algoritmo de Newton-Raphson) constituye otro método numérico iterativo para encontrar raíces de funciones. \n",
    "\n",
    "Requiere más información sobre la función, pero a cambio puede funcionar mejor. Derivaremos e implementaremos el método en este notebook."
   ]
  },
  {
   "cell_type": "markdown",
   "metadata": {},
   "source": [
    "[1] (Esta pregunta es para llevarse a cabo con papel y pluma.)\n",
    "\n",
    "Considera una función $f: \\mathbb{R} \\to \\mathbb{R}$.\n",
    "Supón que $x_0$ es una adivinanza inicial de una raíz, y que $x^*$ es la raíz exacta pero \n",
    "desconocida. Sigue los siguientes pasos para derivar el método de Newton.\n",
    "\n",
    "(i) Supón que $x_0$ es suficientemente cercana a $x^*$. Define $\\delta$ como la distancia  (con signo) de $x_0$ desde $x^*$. \n",
    "\n",
    "(ii) Escribe la ecuación que corresponde a que $x^*$ sea una raíz de la función, y exprésala en términos de $\\delta$. \n",
    "\n",
    "(iii) Desarrolla esta ecuación en una serie de Taylor a primer orden, para encontrar un valor aproximado de $\\delta$.\n",
    "\n",
    "(iv) Así encuentra una ecuación para la siguiente aproximación $x_1$ a la raíz, $x_1 = x_0 + \\delta$. "
   ]
  },
  {
   "cell_type": "markdown",
   "metadata": {},
   "source": [
    "[2] Demuestra que el método Babilónico es un caso especial del método de Newton. [Pista: ¿Para cuál función $f$?]"
   ]
  },
  {
   "cell_type": "markdown",
   "metadata": {},
   "source": [
    "### [2]\n",
    "\n",
    "Si tomamos $f(x)=x^2 - y$ para una y fija, tenemos que $\\frac{df}{dx}= 2x$. Así, claramente para el método de Newton-Raphson:\n",
    "\n",
    "$$x_{n+1} = x_n - \\frac{f(x_n)}{\\frac{df}{dx}\\Big|_{x_n}} = x_n - \\frac{x_n^2 - y}{2x_n}=\\frac{2x_n^2 -x_n^2 +y}{2x_n} =\\frac{x_n + \\frac{y}{x_n}}{2}$$"
   ]
  },
  {
   "cell_type": "markdown",
   "metadata": {},
   "source": [
    "[3] Escribe una función que implementa el método de Newton. Puedes suponer que el usuario provenga tanto la función `f` como su derivada `fp` como argumentos a la función `newton` (así como la condición inicial `x0`). [Posteriormente veremos cómo evitar tener que proveer también la derivada.]"
   ]
  },
  {
   "cell_type": "code",
   "execution_count": 25,
   "metadata": {
    "collapsed": false
   },
   "outputs": [
    {
     "name": "stderr",
     "output_type": "stream",
     "text": [
      "WARNING: Method definition newton(Function"
     ]
    },
    {
     "data": {
      "text/plain": [
       "newtonlist (generic function with 4 methods)"
      ]
     },
     "execution_count": 25,
     "metadata": {},
     "output_type": "execute_result"
    }
   ],
   "source": [
    "function newton(f::Function,df::Function,x0,test=false)\n",
    "    x=x0\n",
    "    i=1\n",
    "    while abs(f(x))>1e-10\n",
    "        if test==true\n",
    "            @show (x,f(x),df(x))\n",
    "        end\n",
    "        if i==1000\n",
    "            return \"fail\"\n",
    "        end\n",
    "        i+=1\n",
    "        x=x-(f(x)/df(x))\n",
    "    end\n",
    "    return x\n",
    "end\n",
    "function newtonlist(f::Function,df::Function,x0,test=false)\n",
    "    x=[]\n",
    "    push!(x,x0)\n",
    "    i=1\n",
    "    while abs(f(x[i]))>1e-10\n",
    "        if test==true\n",
    "            @show (x[i],f(x[i]),df(x[i]))\n",
    "        end\n",
    "        if i==1000\n",
    "            return \"fail\"\n",
    "        end\n",
    "        push!(x,x[i]-(f(x[i])/df(x[i])))\n",
    "        i+=1\n",
    "    end\n",
    "    return x\n",
    "end\n"
   ]
  },
  {
   "cell_type": "code",
   "execution_count": 26,
   "metadata": {
    "collapsed": false
   },
   "outputs": [
    {
     "name": "stderr",
     "output_type": "stream",
     "text": [
      ", Function, Any) in module Main at In[24]:2 overwritten at In[25]:2.\n",
      "WARNING: Method definition newton(Function, Function, Any, Any) in module Main at In[24]:2 overwritten at In[25]:2.\n",
      "WARNING: Method definition newtonlist(Function, Function, Any) in module Main at In[24]:17 overwritten at In[25]:17.\n",
      "WARNING: Method definition newtonlist(Function, Function, Any, Any) in module Main at In[24]:17 overwritten at In[25]:17.\n"
     ]
    },
    {
     "data": {
      "text/plain": [
       "1.4142135623746899"
      ]
     },
     "execution_count": 26,
     "metadata": {},
     "output_type": "execute_result"
    }
   ],
   "source": [
    "newton(x -> x^2 -2,x -> 2x,1.0)"
   ]
  },
  {
   "cell_type": "markdown",
   "metadata": {},
   "source": [
    "[4] Dibuja (e.g. con `Plots.jl`) la dinámica del método iterativo, dada una función $f$ y una condición inicial $x_0$. Para hacerlo, líneas entre $(x_n, 0)$ y $(x_n, f(x_n))$, así como entre $(x_n, f(x_n)$ y $(x_{n+1}, 0)$. Hazlo interactivo con `Interact.jl`. Viendo la figura, interpreta geométricamente lo que está haciendo el método de Newton-Raphson."
   ]
  },
  {
   "cell_type": "code",
   "execution_count": 27,
   "metadata": {
    "collapsed": false
   },
   "outputs": [
    {
     "data": {
      "text/plain": [
       "Plots.GRBackend()"
      ]
     },
     "execution_count": 27,
     "metadata": {},
     "output_type": "execute_result"
    }
   ],
   "source": [
    "using Plots, Interact\n",
    "gr()"
   ]
  },
  {
   "cell_type": "code",
   "execution_count": 28,
   "metadata": {
    "collapsed": false
   },
   "outputs": [
    {
     "data": {
      "text/plain": [
       "6-element Array{Any,1}:\n",
       " 1.0    \n",
       " 3.0    \n",
       " 2.33333\n",
       " 2.2381 \n",
       " 2.23607\n",
       " 2.23607"
      ]
     },
     "execution_count": 28,
     "metadata": {},
     "output_type": "execute_result"
    }
   ],
   "source": [
    "newtonlist(x -> x^2-5,x -> 2x,1.0)"
   ]
  },
  {
   "cell_type": "code",
   "execution_count": 29,
   "metadata": {
    "collapsed": false
   },
   "outputs": [
    {
     "name": "stderr",
     "output_type": "stream",
     "text": [
      "WARNING: Method definition newtonvisual(Any, Any, Any) in module Main"
     ]
    },
    {
     "data": {
      "text/plain": [
       "newtonvisual (generic function with 1 method)"
      ]
     },
     "execution_count": 29,
     "metadata": {},
     "output_type": "execute_result"
    }
   ],
   "source": [
    "function newtonvisual(f,df,x0)\n",
    "    B=newtonlist(f,df,x0)\n",
    "    A=linspace(minimum(B)-.1,maximum(B)+.1,100)\n",
    "    @manipulate for i in 1:(length(B))-1\n",
    "        plot(A,[f(x) for x in A],xlims=(minimum(B)-.1,maximum(B)+.1),label=\"f(x)\",title=\"Metodo de Newton-Raphson\",xlabel=\"x\",ylabel=\"f(x)\")\n",
    "        plot!([B[i],B[i]],[0,f(B[i])],linewidth=3,marker=:square,markersize=4,alpha=.8)\n",
    "        plot!([B[i],B[i+1]],[f(B[i]),0],linewidth=3,marker=:utriangle,markersize=4,alpha=.8)\n",
    "        plot!(A,[0 for x in A],linewidth=2,linecolor=:black)\n",
    "    end\n",
    "end"
   ]
  },
  {
   "cell_type": "code",
   "execution_count": 30,
   "metadata": {
    "collapsed": false
   },
   "outputs": [
    {
     "data": {
      "text/html": [],
      "text/plain": [
       "Interact.Options{:SelectionSlider,Int64}(Signal{Int64}(3, nactions=1),\"i\",3,\"3\",Interact.OptionDict(DataStructures.OrderedDict(\"1\"=>1,\"2\"=>2,\"3\"=>3,\"4\"=>4,\"5\"=>5),Dict(4=>\"4\",2=>\"2\",3=>\"3\",5=>\"5\",1=>\"1\")),Any[],Any[],true,\"horizontal\")"
      ]
     },
     "metadata": {},
     "output_type": "display_data"
    },
    {
     "name": "stderr",
     "output_type": "stream",
     "text": [
      " at In[16]:2 overwritten at In[29]:2.\n"
     ]
    },
    {
     "data": {
      "text/html": [
       "<?xml version=\"1.0\" encoding=\"utf-8\"?>\n",
       "<svg xmlns=\"http://www.w3.org/2000/svg\" xmlns:xlink=\"http://www.w3.org/1999/xlink\" width=\"600\" height=\"400\" viewBox=\"0 0 600 400\">\n",
       "<defs>\n",
       "  <clipPath id=\"clip00\">\n",
       "    <rect x=\"0\" y=\"0\" width=\"600\" height=\"400\"/>\n",
       "  </clipPath>\n",
       "</defs>\n",
       "<polygon clip-path=\"url(#clip00)\" points=\"\n",
       "0,400 600,400 600,0 0,0 \n",
       "  \" fill=\"#ffffff\" fill-opacity=\"1\"/>\n",
       "<defs>\n",
       "  <clipPath id=\"clip01\">\n",
       "    <rect x=\"120\" y=\"0\" width=\"421\" height=\"400\"/>\n",
       "  </clipPath>\n",
       "</defs>\n",
       "<polygon clip-path=\"url(#clip00)\" points=\"\n",
       "36.9926,369.674 596.063,369.674 596.063,23.3815 36.9926,23.3815 \n",
       "  \" fill=\"#ffffff\" fill-opacity=\"1\"/>\n",
       "<defs>\n",
       "  <clipPath id=\"clip02\">\n",
       "    <rect x=\"36\" y=\"23\" width=\"560\" height=\"347\"/>\n",
       "  </clipPath>\n",
       "</defs>\n",
       "<polyline clip-path=\"url(#clip02)\" style=\"stroke:#00002d; stroke-width:0.8; stroke-opacity:0.5; fill:none\" stroke-dasharray=\"1, 2\" points=\"\n",
       "  83.5818,364.48 83.5818,28.5758 \n",
       "  \"/>\n",
       "<polyline clip-path=\"url(#clip02)\" style=\"stroke:#00002d; stroke-width:0.8; stroke-opacity:0.5; fill:none\" stroke-dasharray=\"1, 2\" points=\"\n",
       "  316.528,364.48 316.528,28.5758 \n",
       "  \"/>\n",
       "<polyline clip-path=\"url(#clip02)\" style=\"stroke:#00002d; stroke-width:0.8; stroke-opacity:0.5; fill:none\" stroke-dasharray=\"1, 2\" points=\"\n",
       "  549.474,364.48 549.474,28.5758 \n",
       "  \"/>\n",
       "<polyline clip-path=\"url(#clip02)\" style=\"stroke:#00002d; stroke-width:0.8; stroke-opacity:0.5; fill:none\" stroke-dasharray=\"1, 2\" points=\"\n",
       "  45.3786,342.631 587.677,342.631 \n",
       "  \"/>\n",
       "<polyline clip-path=\"url(#clip02)\" style=\"stroke:#00002d; stroke-width:0.8; stroke-opacity:0.5; fill:none\" stroke-dasharray=\"1, 2\" points=\"\n",
       "  45.3786,251.884 587.677,251.884 \n",
       "  \"/>\n",
       "<polyline clip-path=\"url(#clip02)\" style=\"stroke:#00002d; stroke-width:0.8; stroke-opacity:0.5; fill:none\" stroke-dasharray=\"1, 2\" points=\"\n",
       "  45.3786,161.136 587.677,161.136 \n",
       "  \"/>\n",
       "<polyline clip-path=\"url(#clip02)\" style=\"stroke:#00002d; stroke-width:0.8; stroke-opacity:0.5; fill:none\" stroke-dasharray=\"1, 2\" points=\"\n",
       "  45.3786,70.3887 587.677,70.3887 \n",
       "  \"/>\n",
       "<polyline clip-path=\"url(#clip02)\" style=\"stroke:#00002d; stroke-width:0.8; stroke-opacity:1; fill:none\" points=\"\n",
       "  36.9926,369.674 596.063,369.674 \n",
       "  \"/>\n",
       "<polyline clip-path=\"url(#clip02)\" style=\"stroke:#00002d; stroke-width:0.8; stroke-opacity:1; fill:none\" points=\"\n",
       "  83.5818,369.674 83.5818,364.48 \n",
       "  \"/>\n",
       "<polyline clip-path=\"url(#clip02)\" style=\"stroke:#00002d; stroke-width:0.8; stroke-opacity:1; fill:none\" points=\"\n",
       "  316.528,369.674 316.528,364.48 \n",
       "  \"/>\n",
       "<polyline clip-path=\"url(#clip02)\" style=\"stroke:#00002d; stroke-width:0.8; stroke-opacity:1; fill:none\" points=\"\n",
       "  549.474,369.674 549.474,364.48 \n",
       "  \"/>\n",
       "<polyline clip-path=\"url(#clip02)\" style=\"stroke:#00002d; stroke-width:0.8; stroke-opacity:1; fill:none\" points=\"\n",
       "  36.9926,369.674 36.9926,23.3815 \n",
       "  \"/>\n",
       "<polyline clip-path=\"url(#clip02)\" style=\"stroke:#00002d; stroke-width:0.8; stroke-opacity:1; fill:none\" points=\"\n",
       "  36.9926,342.631 45.3786,342.631 \n",
       "  \"/>\n",
       "<polyline clip-path=\"url(#clip02)\" style=\"stroke:#00002d; stroke-width:0.8; stroke-opacity:1; fill:none\" points=\"\n",
       "  36.9926,251.884 45.3786,251.884 \n",
       "  \"/>\n",
       "<polyline clip-path=\"url(#clip02)\" style=\"stroke:#00002d; stroke-width:0.8; stroke-opacity:1; fill:none\" points=\"\n",
       "  36.9926,161.136 45.3786,161.136 \n",
       "  \"/>\n",
       "<polyline clip-path=\"url(#clip02)\" style=\"stroke:#00002d; stroke-width:0.8; stroke-opacity:1; fill:none\" points=\"\n",
       "  36.9926,70.3887 45.3786,70.3887 \n",
       "  \"/>\n",
       "<g clip-path=\"url(#clip00)\">\n",
       "<text style=\"fill:#00002d; fill-opacity:1; font-family:Arial,Helvetica Neue,Helvetica,sans-serif; font-size:12; text-anchor:middle;\" transform=\"rotate(0, 83.5818, 381.674)\" x=\"83.5818\" y=\"381.674\">1.0</text>\n",
       "</g>\n",
       "<g clip-path=\"url(#clip00)\">\n",
       "<text style=\"fill:#00002d; fill-opacity:1; font-family:Arial,Helvetica Neue,Helvetica,sans-serif; font-size:12; text-anchor:middle;\" transform=\"rotate(0, 316.528, 381.674)\" x=\"316.528\" y=\"381.674\">1.5</text>\n",
       "</g>\n",
       "<g clip-path=\"url(#clip00)\">\n",
       "<text style=\"fill:#00002d; fill-opacity:1; font-family:Arial,Helvetica Neue,Helvetica,sans-serif; font-size:12; text-anchor:middle;\" transform=\"rotate(0, 549.474, 381.674)\" x=\"549.474\" y=\"381.674\">2.0</text>\n",
       "</g>\n",
       "<g clip-path=\"url(#clip00)\">\n",
       "<text style=\"fill:#00002d; fill-opacity:1; font-family:Arial,Helvetica Neue,Helvetica,sans-serif; font-size:12; text-anchor:end;\" transform=\"rotate(0, 35.7926, 347.131)\" x=\"35.7926\" y=\"347.131\">-2</text>\n",
       "</g>\n",
       "<g clip-path=\"url(#clip00)\">\n",
       "<text style=\"fill:#00002d; fill-opacity:1; font-family:Arial,Helvetica Neue,Helvetica,sans-serif; font-size:12; text-anchor:end;\" transform=\"rotate(0, 35.7926, 256.384)\" x=\"35.7926\" y=\"256.384\">-1</text>\n",
       "</g>\n",
       "<g clip-path=\"url(#clip00)\">\n",
       "<text style=\"fill:#00002d; fill-opacity:1; font-family:Arial,Helvetica Neue,Helvetica,sans-serif; font-size:12; text-anchor:end;\" transform=\"rotate(0, 35.7926, 165.636)\" x=\"35.7926\" y=\"165.636\">0</text>\n",
       "</g>\n",
       "<g clip-path=\"url(#clip00)\">\n",
       "<text style=\"fill:#00002d; fill-opacity:1; font-family:Arial,Helvetica Neue,Helvetica,sans-serif; font-size:12; text-anchor:end;\" transform=\"rotate(0, 35.7926, 74.8887)\" x=\"35.7926\" y=\"74.8887\">1</text>\n",
       "</g>\n",
       "<g clip-path=\"url(#clip00)\">\n",
       "<text style=\"fill:#00002d; fill-opacity:1; font-family:Arial,Helvetica Neue,Helvetica,sans-serif; font-size:21; text-anchor:middle;\" transform=\"rotate(0, 316.528, 18)\" x=\"316.528\" y=\"18\">Metodo de Newton-Raphson</text>\n",
       "</g>\n",
       "<g clip-path=\"url(#clip00)\">\n",
       "<text style=\"fill:#00002d; fill-opacity:1; font-family:Arial,Helvetica Neue,Helvetica,sans-serif; font-size:16; text-anchor:middle;\" transform=\"rotate(0, 316.528, 397.6)\" x=\"316.528\" y=\"397.6\">x</text>\n",
       "</g>\n",
       "<g clip-path=\"url(#clip00)\">\n",
       "<text style=\"fill:#00002d; fill-opacity:1; font-family:Arial,Helvetica Neue,Helvetica,sans-serif; font-size:16; text-anchor:middle;\" transform=\"rotate(-90, 14.4, 196.528)\" x=\"14.4\" y=\"196.528\">f(x)</text>\n",
       "</g>\n",
       "<polyline clip-path=\"url(#clip02)\" style=\"stroke:#0099ff; stroke-width:0.8; stroke-opacity:1; fill:none\" points=\"\n",
       "  36.9926,359.873 42.6397,357.88 48.2869,355.86 53.9341,353.814 59.5813,351.74 65.2284,349.64 70.8756,347.514 76.5228,345.36 82.17,343.18 87.8171,340.974 \n",
       "  93.4643,338.741 99.1115,336.481 104.759,334.194 110.406,331.881 116.053,329.541 121.7,327.174 127.347,324.781 132.995,322.361 138.642,319.914 144.289,317.441 \n",
       "  149.936,314.941 155.583,312.415 161.23,309.861 166.878,307.281 172.525,304.675 178.172,302.042 183.819,299.382 189.466,296.695 195.113,293.982 200.761,291.242 \n",
       "  206.408,288.475 212.055,285.682 217.702,282.862 223.349,280.016 228.997,277.142 234.644,274.242 240.291,271.316 245.938,268.363 251.585,265.383 257.232,262.376 \n",
       "  262.88,259.343 268.527,256.283 274.174,253.196 279.821,250.083 285.468,246.943 291.115,243.777 296.763,240.583 302.41,237.363 308.057,234.117 313.704,230.844 \n",
       "  319.351,227.544 324.999,224.217 330.646,220.864 336.293,217.484 341.94,214.077 347.587,210.644 353.234,207.184 358.882,203.698 364.529,200.184 370.176,196.644 \n",
       "  375.823,193.078 381.47,189.485 387.117,185.865 392.765,182.218 398.412,178.545 404.059,174.845 409.706,171.118 415.353,167.365 421.001,163.585 426.648,159.779 \n",
       "  432.295,155.946 437.942,152.086 443.589,148.199 449.236,144.286 454.884,140.346 460.531,136.379 466.178,132.386 471.825,128.366 477.472,124.32 483.119,120.247 \n",
       "  488.767,116.147 494.414,112.02 500.061,107.867 505.708,103.687 511.355,99.4804 517.003,95.2472 522.65,90.9873 528.297,86.7007 533.944,82.3875 539.591,78.0476 \n",
       "  545.238,73.6811 550.886,69.2879 556.533,64.868 562.18,60.4215 567.827,55.9482 573.474,51.4484 579.121,46.9218 584.769,42.3686 590.416,37.7887 596.063,33.1822 \n",
       "  \n",
       "  \"/>\n",
       "<polyline clip-path=\"url(#clip02)\" style=\"stroke:#e9746a; stroke-width:2.4; stroke-opacity:0.8; fill:none\" points=\"\n",
       "  433.001,161.136 433.001,155.465 \n",
       "  \"/>\n",
       "<polygon clip-path=\"url(#clip02)\" style=\"fill:#00002d; fill-opacity:0.8\" points=\"\n",
       "  429.001,157.136 429.001,165.136 437.001,165.136 437.001,157.136 429.001,157.136 \n",
       "  \"/>\n",
       "<polygon clip-path=\"url(#clip02)\" style=\"fill:#e9746a; fill-opacity:0.8\" points=\"\n",
       "  429.801,157.936 429.801,164.336 436.201,164.336 436.201,157.936 429.801,157.936 \n",
       "  \"/>\n",
       "<polygon clip-path=\"url(#clip02)\" style=\"fill:#00002d; fill-opacity:0.8\" points=\"\n",
       "  429.001,151.465 429.001,159.465 437.001,159.465 437.001,151.465 429.001,151.465 \n",
       "  \"/>\n",
       "<polygon clip-path=\"url(#clip02)\" style=\"fill:#e9746a; fill-opacity:0.8\" points=\"\n",
       "  429.801,152.265 429.801,158.665 436.201,158.665 436.201,152.265 429.801,152.265 \n",
       "  \"/>\n",
       "<polyline clip-path=\"url(#clip02)\" style=\"stroke:#3cb370; stroke-width:2.4; stroke-opacity:0.8; fill:none\" points=\"\n",
       "  433.001,155.465 424.681,161.136 \n",
       "  \"/>\n",
       "<polygon clip-path=\"url(#clip02)\" style=\"fill:#00002d; fill-opacity:0.8\" points=\"\n",
       "  433.001,151.465 429.001,159.465 437.001,159.465 433.001,151.465 \n",
       "  \"/>\n",
       "<polygon clip-path=\"url(#clip02)\" style=\"fill:#3cb370; fill-opacity:0.8\" points=\"\n",
       "  433.001,152.265 429.801,158.665 436.201,158.665 433.001,152.265 \n",
       "  \"/>\n",
       "<polygon clip-path=\"url(#clip02)\" style=\"fill:#00002d; fill-opacity:0.8\" points=\"\n",
       "  424.681,157.136 420.681,165.136 428.681,165.136 424.681,157.136 \n",
       "  \"/>\n",
       "<polygon clip-path=\"url(#clip02)\" style=\"fill:#3cb370; fill-opacity:0.8\" points=\"\n",
       "  424.681,157.936 421.481,164.336 427.881,164.336 424.681,157.936 \n",
       "  \"/>\n",
       "<polyline clip-path=\"url(#clip02)\" style=\"stroke:#00002d; stroke-width:1.6; stroke-opacity:1; fill:none\" points=\"\n",
       "  36.9926,161.136 42.6397,161.136 48.2869,161.136 53.9341,161.136 59.5813,161.136 65.2284,161.136 70.8756,161.136 76.5228,161.136 82.17,161.136 87.8171,161.136 \n",
       "  93.4643,161.136 99.1115,161.136 104.759,161.136 110.406,161.136 116.053,161.136 121.7,161.136 127.347,161.136 132.995,161.136 138.642,161.136 144.289,161.136 \n",
       "  149.936,161.136 155.583,161.136 161.23,161.136 166.878,161.136 172.525,161.136 178.172,161.136 183.819,161.136 189.466,161.136 195.113,161.136 200.761,161.136 \n",
       "  206.408,161.136 212.055,161.136 217.702,161.136 223.349,161.136 228.997,161.136 234.644,161.136 240.291,161.136 245.938,161.136 251.585,161.136 257.232,161.136 \n",
       "  262.88,161.136 268.527,161.136 274.174,161.136 279.821,161.136 285.468,161.136 291.115,161.136 296.763,161.136 302.41,161.136 308.057,161.136 313.704,161.136 \n",
       "  319.351,161.136 324.999,161.136 330.646,161.136 336.293,161.136 341.94,161.136 347.587,161.136 353.234,161.136 358.882,161.136 364.529,161.136 370.176,161.136 \n",
       "  375.823,161.136 381.47,161.136 387.117,161.136 392.765,161.136 398.412,161.136 404.059,161.136 409.706,161.136 415.353,161.136 421.001,161.136 426.648,161.136 \n",
       "  432.295,161.136 437.942,161.136 443.589,161.136 449.236,161.136 454.884,161.136 460.531,161.136 466.178,161.136 471.825,161.136 477.472,161.136 483.119,161.136 \n",
       "  488.767,161.136 494.414,161.136 500.061,161.136 505.708,161.136 511.355,161.136 517.003,161.136 522.65,161.136 528.297,161.136 533.944,161.136 539.591,161.136 \n",
       "  545.238,161.136 550.886,161.136 556.533,161.136 562.18,161.136 567.827,161.136 573.474,161.136 579.121,161.136 584.769,161.136 590.416,161.136 596.063,161.136 \n",
       "  \n",
       "  \"/>\n",
       "<polygon clip-path=\"url(#clip00)\" points=\"\n",
       "500.949,119.861 578.063,119.861 578.063,44.2615 500.949,44.2615 \n",
       "  \" fill=\"#ffffff\" fill-opacity=\"1\"/>\n",
       "<polyline clip-path=\"url(#clip00)\" style=\"stroke:#00002d; stroke-width:0.8; stroke-opacity:1; fill:none\" points=\"\n",
       "  500.949,119.861 578.063,119.861 578.063,44.2615 500.949,44.2615 500.949,119.861 \n",
       "  \"/>\n",
       "<polyline clip-path=\"url(#clip00)\" style=\"stroke:#0099ff; stroke-width:0.8; stroke-opacity:1; fill:none\" points=\"\n",
       "  506.949,59.3815 542.949,59.3815 \n",
       "  \"/>\n",
       "<g clip-path=\"url(#clip00)\">\n",
       "<text style=\"fill:#00002d; fill-opacity:1; font-family:Arial,Helvetica Neue,Helvetica,sans-serif; font-size:12; text-anchor:start;\" transform=\"rotate(0, 548.949, 63.8815)\" x=\"548.949\" y=\"63.8815\">f(x)</text>\n",
       "</g>\n",
       "<polyline clip-path=\"url(#clip00)\" style=\"stroke:#e9746a; stroke-width:2.4; stroke-opacity:0.8; fill:none\" points=\"\n",
       "  506.949,74.5015 542.949,74.5015 \n",
       "  \"/>\n",
       "<polygon clip-path=\"url(#clip00)\" style=\"fill:#00002d; fill-opacity:0.8\" points=\"\n",
       "  504.149,65.7015 504.149,83.3015 521.749,83.3015 521.749,65.7015 504.149,65.7015 \n",
       "  \"/>\n",
       "<polygon clip-path=\"url(#clip00)\" style=\"fill:#e9746a; fill-opacity:0.8\" points=\"\n",
       "  504.949,66.5015 504.949,82.5015 520.949,82.5015 520.949,66.5015 504.949,66.5015 \n",
       "  \"/>\n",
       "<polygon clip-path=\"url(#clip00)\" style=\"fill:#00002d; fill-opacity:0.8\" points=\"\n",
       "  528.149,65.7015 528.149,83.3015 545.749,83.3015 545.749,65.7015 528.149,65.7015 \n",
       "  \"/>\n",
       "<polygon clip-path=\"url(#clip00)\" style=\"fill:#e9746a; fill-opacity:0.8\" points=\"\n",
       "  528.949,66.5015 528.949,82.5015 544.949,82.5015 544.949,66.5015 528.949,66.5015 \n",
       "  \"/>\n",
       "<g clip-path=\"url(#clip00)\">\n",
       "<text style=\"fill:#00002d; fill-opacity:1; font-family:Arial,Helvetica Neue,Helvetica,sans-serif; font-size:12; text-anchor:start;\" transform=\"rotate(0, 548.949, 79.0015)\" x=\"548.949\" y=\"79.0015\">y2</text>\n",
       "</g>\n",
       "<polyline clip-path=\"url(#clip00)\" style=\"stroke:#3cb370; stroke-width:2.4; stroke-opacity:0.8; fill:none\" points=\"\n",
       "  506.949,89.6215 542.949,89.6215 \n",
       "  \"/>\n",
       "<polygon clip-path=\"url(#clip00)\" style=\"fill:#00002d; fill-opacity:0.8\" points=\"\n",
       "  512.949,80.8215 504.149,98.4215 521.749,98.4215 512.949,80.8215 \n",
       "  \"/>\n",
       "<polygon clip-path=\"url(#clip00)\" style=\"fill:#3cb370; fill-opacity:0.8\" points=\"\n",
       "  512.949,81.6215 504.949,97.6215 520.949,97.6215 512.949,81.6215 \n",
       "  \"/>\n",
       "<polygon clip-path=\"url(#clip00)\" style=\"fill:#00002d; fill-opacity:0.8\" points=\"\n",
       "  536.949,80.8215 528.149,98.4215 545.749,98.4215 536.949,80.8215 \n",
       "  \"/>\n",
       "<polygon clip-path=\"url(#clip00)\" style=\"fill:#3cb370; fill-opacity:0.8\" points=\"\n",
       "  536.949,81.6215 528.949,97.6215 544.949,97.6215 536.949,81.6215 \n",
       "  \"/>\n",
       "<g clip-path=\"url(#clip00)\">\n",
       "<text style=\"fill:#00002d; fill-opacity:1; font-family:Arial,Helvetica Neue,Helvetica,sans-serif; font-size:12; text-anchor:start;\" transform=\"rotate(0, 548.949, 94.1215)\" x=\"548.949\" y=\"94.1215\">y3</text>\n",
       "</g>\n",
       "<polyline clip-path=\"url(#clip00)\" style=\"stroke:#00002d; stroke-width:1.6; stroke-opacity:1; fill:none\" points=\"\n",
       "  506.949,104.741 542.949,104.741 \n",
       "  \"/>\n",
       "<g clip-path=\"url(#clip00)\">\n",
       "<text style=\"fill:#00002d; fill-opacity:1; font-family:Arial,Helvetica Neue,Helvetica,sans-serif; font-size:12; text-anchor:start;\" transform=\"rotate(0, 548.949, 109.241)\" x=\"548.949\" y=\"109.241\">y4</text>\n",
       "</g>\n",
       "</svg>\n"
      ]
     },
     "execution_count": 30,
     "metadata": {
      "comm_id": "4aeb1c2c-f364-40c4-b63e-5c4150bb3a55",
      "reactive": true
     },
     "output_type": "execute_result"
    }
   ],
   "source": [
    "newtonvisual(x -> x^2 -3,x -> 2x,1)"
   ]
  },
  {
   "cell_type": "code",
   "execution_count": 31,
   "metadata": {
    "collapsed": false
   },
   "outputs": [
    {
     "data": {
      "text/html": [],
      "text/plain": [
       "Interact.Options{:SelectionSlider,Int64}(Signal{Int64}(3, nactions=1),\"i\",3,\"3\",Interact.OptionDict(DataStructures.OrderedDict(\"1\"=>1,\"2\"=>2,\"3\"=>3,\"4\"=>4,\"5\"=>5),Dict(4=>\"4\",2=>\"2\",3=>\"3\",5=>\"5\",1=>\"1\")),Any[],Any[],true,\"horizontal\")"
      ]
     },
     "metadata": {},
     "output_type": "display_data"
    },
    {
     "data": {
      "text/html": [
       "<?xml version=\"1.0\" encoding=\"utf-8\"?>\n",
       "<svg xmlns=\"http://www.w3.org/2000/svg\" xmlns:xlink=\"http://www.w3.org/1999/xlink\" width=\"600\" height=\"400\" viewBox=\"0 0 600 400\">\n",
       "<defs>\n",
       "  <clipPath id=\"clip00\">\n",
       "    <rect x=\"0\" y=\"0\" width=\"600\" height=\"400\"/>\n",
       "  </clipPath>\n",
       "</defs>\n",
       "<polygon clip-path=\"url(#clip00)\" points=\"\n",
       "0,400 600,400 600,0 0,0 \n",
       "  \" fill=\"#ffffff\" fill-opacity=\"1\"/>\n",
       "<defs>\n",
       "  <clipPath id=\"clip01\">\n",
       "    <rect x=\"120\" y=\"0\" width=\"421\" height=\"400\"/>\n",
       "  </clipPath>\n",
       "</defs>\n",
       "<polygon clip-path=\"url(#clip00)\" points=\"\n",
       "36.9926,369.674 596.063,369.674 596.063,23.3815 36.9926,23.3815 \n",
       "  \" fill=\"#ffffff\" fill-opacity=\"1\"/>\n",
       "<defs>\n",
       "  <clipPath id=\"clip02\">\n",
       "    <rect x=\"36\" y=\"23\" width=\"560\" height=\"347\"/>\n",
       "  </clipPath>\n",
       "</defs>\n",
       "<polyline clip-path=\"url(#clip02)\" style=\"stroke:#00002d; stroke-width:0.8; stroke-opacity:0.5; fill:none\" stroke-dasharray=\"1, 2\" points=\"\n",
       "  88.0723,364.48 88.0723,28.5758 \n",
       "  \"/>\n",
       "<polyline clip-path=\"url(#clip02)\" style=\"stroke:#00002d; stroke-width:0.8; stroke-opacity:0.5; fill:none\" stroke-dasharray=\"1, 2\" points=\"\n",
       "  196.257,364.48 196.257,28.5758 \n",
       "  \"/>\n",
       "<polyline clip-path=\"url(#clip02)\" style=\"stroke:#00002d; stroke-width:0.8; stroke-opacity:0.5; fill:none\" stroke-dasharray=\"1, 2\" points=\"\n",
       "  304.442,364.48 304.442,28.5758 \n",
       "  \"/>\n",
       "<polyline clip-path=\"url(#clip02)\" style=\"stroke:#00002d; stroke-width:0.8; stroke-opacity:0.5; fill:none\" stroke-dasharray=\"1, 2\" points=\"\n",
       "  412.627,364.48 412.627,28.5758 \n",
       "  \"/>\n",
       "<polyline clip-path=\"url(#clip02)\" style=\"stroke:#00002d; stroke-width:0.8; stroke-opacity:0.5; fill:none\" stroke-dasharray=\"1, 2\" points=\"\n",
       "  520.812,364.48 520.812,28.5758 \n",
       "  \"/>\n",
       "<polyline clip-path=\"url(#clip02)\" style=\"stroke:#00002d; stroke-width:0.8; stroke-opacity:0.5; fill:none\" stroke-dasharray=\"1, 2\" points=\"\n",
       "  45.3786,360.669 587.677,360.669 \n",
       "  \"/>\n",
       "<polyline clip-path=\"url(#clip02)\" style=\"stroke:#00002d; stroke-width:0.8; stroke-opacity:0.5; fill:none\" stroke-dasharray=\"1, 2\" points=\"\n",
       "  45.3786,196.916 587.677,196.916 \n",
       "  \"/>\n",
       "<polyline clip-path=\"url(#clip02)\" style=\"stroke:#00002d; stroke-width:0.8; stroke-opacity:0.5; fill:none\" stroke-dasharray=\"1, 2\" points=\"\n",
       "  45.3786,33.1628 587.677,33.1628 \n",
       "  \"/>\n",
       "<polyline clip-path=\"url(#clip02)\" style=\"stroke:#00002d; stroke-width:0.8; stroke-opacity:1; fill:none\" points=\"\n",
       "  36.9926,369.674 596.063,369.674 \n",
       "  \"/>\n",
       "<polyline clip-path=\"url(#clip02)\" style=\"stroke:#00002d; stroke-width:0.8; stroke-opacity:1; fill:none\" points=\"\n",
       "  88.0723,369.674 88.0723,364.48 \n",
       "  \"/>\n",
       "<polyline clip-path=\"url(#clip02)\" style=\"stroke:#00002d; stroke-width:0.8; stroke-opacity:1; fill:none\" points=\"\n",
       "  196.257,369.674 196.257,364.48 \n",
       "  \"/>\n",
       "<polyline clip-path=\"url(#clip02)\" style=\"stroke:#00002d; stroke-width:0.8; stroke-opacity:1; fill:none\" points=\"\n",
       "  304.442,369.674 304.442,364.48 \n",
       "  \"/>\n",
       "<polyline clip-path=\"url(#clip02)\" style=\"stroke:#00002d; stroke-width:0.8; stroke-opacity:1; fill:none\" points=\"\n",
       "  412.627,369.674 412.627,364.48 \n",
       "  \"/>\n",
       "<polyline clip-path=\"url(#clip02)\" style=\"stroke:#00002d; stroke-width:0.8; stroke-opacity:1; fill:none\" points=\"\n",
       "  520.812,369.674 520.812,364.48 \n",
       "  \"/>\n",
       "<polyline clip-path=\"url(#clip02)\" style=\"stroke:#00002d; stroke-width:0.8; stroke-opacity:1; fill:none\" points=\"\n",
       "  36.9926,369.674 36.9926,23.3815 \n",
       "  \"/>\n",
       "<polyline clip-path=\"url(#clip02)\" style=\"stroke:#00002d; stroke-width:0.8; stroke-opacity:1; fill:none\" points=\"\n",
       "  36.9926,360.669 45.3786,360.669 \n",
       "  \"/>\n",
       "<polyline clip-path=\"url(#clip02)\" style=\"stroke:#00002d; stroke-width:0.8; stroke-opacity:1; fill:none\" points=\"\n",
       "  36.9926,196.916 45.3786,196.916 \n",
       "  \"/>\n",
       "<polyline clip-path=\"url(#clip02)\" style=\"stroke:#00002d; stroke-width:0.8; stroke-opacity:1; fill:none\" points=\"\n",
       "  36.9926,33.1628 45.3786,33.1628 \n",
       "  \"/>\n",
       "<g clip-path=\"url(#clip00)\">\n",
       "<text style=\"fill:#00002d; fill-opacity:1; font-family:Arial,Helvetica Neue,Helvetica,sans-serif; font-size:12; text-anchor:middle;\" transform=\"rotate(0, 88.0723, 381.674)\" x=\"88.0723\" y=\"381.674\">-1</text>\n",
       "</g>\n",
       "<g clip-path=\"url(#clip00)\">\n",
       "<text style=\"fill:#00002d; fill-opacity:1; font-family:Arial,Helvetica Neue,Helvetica,sans-serif; font-size:12; text-anchor:middle;\" transform=\"rotate(0, 196.257, 381.674)\" x=\"196.257\" y=\"381.674\">0</text>\n",
       "</g>\n",
       "<g clip-path=\"url(#clip00)\">\n",
       "<text style=\"fill:#00002d; fill-opacity:1; font-family:Arial,Helvetica Neue,Helvetica,sans-serif; font-size:12; text-anchor:middle;\" transform=\"rotate(0, 304.442, 381.674)\" x=\"304.442\" y=\"381.674\">1</text>\n",
       "</g>\n",
       "<g clip-path=\"url(#clip00)\">\n",
       "<text style=\"fill:#00002d; fill-opacity:1; font-family:Arial,Helvetica Neue,Helvetica,sans-serif; font-size:12; text-anchor:middle;\" transform=\"rotate(0, 412.627, 381.674)\" x=\"412.627\" y=\"381.674\">2</text>\n",
       "</g>\n",
       "<g clip-path=\"url(#clip00)\">\n",
       "<text style=\"fill:#00002d; fill-opacity:1; font-family:Arial,Helvetica Neue,Helvetica,sans-serif; font-size:12; text-anchor:middle;\" transform=\"rotate(0, 520.812, 381.674)\" x=\"520.812\" y=\"381.674\">3</text>\n",
       "</g>\n",
       "<g clip-path=\"url(#clip00)\">\n",
       "<text style=\"fill:#00002d; fill-opacity:1; font-family:Arial,Helvetica Neue,Helvetica,sans-serif; font-size:12; text-anchor:end;\" transform=\"rotate(0, 35.7926, 365.169)\" x=\"35.7926\" y=\"365.169\">-1</text>\n",
       "</g>\n",
       "<g clip-path=\"url(#clip00)\">\n",
       "<text style=\"fill:#00002d; fill-opacity:1; font-family:Arial,Helvetica Neue,Helvetica,sans-serif; font-size:12; text-anchor:end;\" transform=\"rotate(0, 35.7926, 201.416)\" x=\"35.7926\" y=\"201.416\">0</text>\n",
       "</g>\n",
       "<g clip-path=\"url(#clip00)\">\n",
       "<text style=\"fill:#00002d; fill-opacity:1; font-family:Arial,Helvetica Neue,Helvetica,sans-serif; font-size:12; text-anchor:end;\" transform=\"rotate(0, 35.7926, 37.6628)\" x=\"35.7926\" y=\"37.6628\">1</text>\n",
       "</g>\n",
       "<g clip-path=\"url(#clip00)\">\n",
       "<text style=\"fill:#00002d; fill-opacity:1; font-family:Arial,Helvetica Neue,Helvetica,sans-serif; font-size:21; text-anchor:middle;\" transform=\"rotate(0, 316.528, 18)\" x=\"316.528\" y=\"18\">Metodo de Newton-Raphson</text>\n",
       "</g>\n",
       "<g clip-path=\"url(#clip00)\">\n",
       "<text style=\"fill:#00002d; fill-opacity:1; font-family:Arial,Helvetica Neue,Helvetica,sans-serif; font-size:16; text-anchor:middle;\" transform=\"rotate(0, 316.528, 397.6)\" x=\"316.528\" y=\"397.6\">x</text>\n",
       "</g>\n",
       "<g clip-path=\"url(#clip00)\">\n",
       "<text style=\"fill:#00002d; fill-opacity:1; font-family:Arial,Helvetica Neue,Helvetica,sans-serif; font-size:16; text-anchor:middle;\" transform=\"rotate(-90, 14.4, 196.528)\" x=\"14.4\" y=\"196.528\">f(x)</text>\n",
       "</g>\n",
       "<polyline clip-path=\"url(#clip02)\" style=\"stroke:#0099ff; stroke-width:0.8; stroke-opacity:1; fill:none\" points=\"\n",
       "  36.9926,359.873 42.6397,358.81 48.2869,357.306 53.9341,355.364 59.5813,352.991 65.2284,350.193 70.8756,346.977 76.5228,343.353 82.17,339.329 87.8171,334.918 \n",
       "  93.4643,330.131 99.1115,324.981 104.759,319.482 110.406,313.649 116.053,307.498 121.7,301.045 127.347,294.31 132.995,287.308 138.642,280.061 144.289,272.587 \n",
       "  149.936,264.907 155.583,257.042 161.23,249.013 166.878,240.842 172.525,232.551 178.172,224.164 183.819,215.702 189.466,207.189 195.113,198.647 200.761,190.102 \n",
       "  206.408,181.574 212.055,173.089 217.702,164.668 223.349,156.336 228.997,148.114 234.644,140.024 240.291,132.09 245.938,124.333 251.585,116.773 257.232,109.431 \n",
       "  262.88,102.328 268.527,95.4823 274.174,88.9131 279.821,82.638 285.468,76.6743 291.115,71.0381 296.763,65.7449 302.41,60.8089 308.057,56.2438 313.704,52.0618 \n",
       "  319.351,48.2745 324.999,44.8921 330.646,41.9238 336.293,39.3777 341.94,37.2608 347.587,35.5788 353.234,34.3363 358.882,33.5367 364.529,33.1822 370.176,33.2737 \n",
       "  375.823,33.811 381.47,34.7926 387.117,36.2159 392.765,38.0769 398.412,40.3706 404.059,43.0908 409.706,46.2301 415.353,49.7798 421.001,53.7303 426.648,58.0709 \n",
       "  432.295,62.7897 437.942,67.8739 443.589,73.3097 449.236,79.0821 454.884,85.1756 460.531,91.5734 466.178,98.2583 471.825,105.212 477.472,112.415 483.119,119.849 \n",
       "  488.767,127.492 494.414,135.325 500.061,143.325 505.708,151.472 511.355,159.742 517.003,168.114 522.65,176.564 528.297,185.069 533.944,193.607 539.591,202.153 \n",
       "  545.238,210.686 550.886,219.181 556.533,227.615 562.18,235.965 567.827,244.21 573.474,252.325 579.121,260.29 584.769,268.081 590.416,275.679 596.063,283.063 \n",
       "  \n",
       "  \"/>\n",
       "<polyline clip-path=\"url(#clip02)\" style=\"stroke:#e9746a; stroke-width:2.4; stroke-opacity:0.8; fill:none\" points=\"\n",
       "  585.244,196.916 585.244,268.729 \n",
       "  \"/>\n",
       "<polygon clip-path=\"url(#clip02)\" style=\"fill:#00002d; fill-opacity:0.8\" points=\"\n",
       "  581.244,192.916 581.244,200.916 589.244,200.916 589.244,192.916 581.244,192.916 \n",
       "  \"/>\n",
       "<polygon clip-path=\"url(#clip02)\" style=\"fill:#e9746a; fill-opacity:0.8\" points=\"\n",
       "  582.044,193.716 582.044,200.116 588.444,200.116 588.444,193.716 582.044,193.716 \n",
       "  \"/>\n",
       "<polygon clip-path=\"url(#clip02)\" style=\"fill:#00002d; fill-opacity:0.8\" points=\"\n",
       "  581.244,264.729 581.244,272.729 589.244,272.729 589.244,264.729 581.244,264.729 \n",
       "  \"/>\n",
       "<polygon clip-path=\"url(#clip02)\" style=\"fill:#e9746a; fill-opacity:0.8\" points=\"\n",
       "  582.044,265.529 582.044,271.929 588.444,271.929 588.444,265.529 582.044,265.529 \n",
       "  \"/>\n",
       "<polyline clip-path=\"url(#clip02)\" style=\"stroke:#3cb370; stroke-width:2.4; stroke-opacity:0.8; fill:none\" points=\"\n",
       "  585.244,268.729 532.453,196.916 \n",
       "  \"/>\n",
       "<polygon clip-path=\"url(#clip02)\" style=\"fill:#00002d; fill-opacity:0.8\" points=\"\n",
       "  585.244,264.729 581.244,272.729 589.244,272.729 585.244,264.729 \n",
       "  \"/>\n",
       "<polygon clip-path=\"url(#clip02)\" style=\"fill:#3cb370; fill-opacity:0.8\" points=\"\n",
       "  585.244,265.529 582.044,271.929 588.444,271.929 585.244,265.529 \n",
       "  \"/>\n",
       "<polygon clip-path=\"url(#clip02)\" style=\"fill:#00002d; fill-opacity:0.8\" points=\"\n",
       "  532.453,192.916 528.453,200.916 536.453,200.916 532.453,192.916 \n",
       "  \"/>\n",
       "<polygon clip-path=\"url(#clip02)\" style=\"fill:#3cb370; fill-opacity:0.8\" points=\"\n",
       "  532.453,193.716 529.253,200.116 535.653,200.116 532.453,193.716 \n",
       "  \"/>\n",
       "<polyline clip-path=\"url(#clip02)\" style=\"stroke:#00002d; stroke-width:1.6; stroke-opacity:1; fill:none\" points=\"\n",
       "  36.9926,196.916 42.6397,196.916 48.2869,196.916 53.9341,196.916 59.5813,196.916 65.2284,196.916 70.8756,196.916 76.5228,196.916 82.17,196.916 87.8171,196.916 \n",
       "  93.4643,196.916 99.1115,196.916 104.759,196.916 110.406,196.916 116.053,196.916 121.7,196.916 127.347,196.916 132.995,196.916 138.642,196.916 144.289,196.916 \n",
       "  149.936,196.916 155.583,196.916 161.23,196.916 166.878,196.916 172.525,196.916 178.172,196.916 183.819,196.916 189.466,196.916 195.113,196.916 200.761,196.916 \n",
       "  206.408,196.916 212.055,196.916 217.702,196.916 223.349,196.916 228.997,196.916 234.644,196.916 240.291,196.916 245.938,196.916 251.585,196.916 257.232,196.916 \n",
       "  262.88,196.916 268.527,196.916 274.174,196.916 279.821,196.916 285.468,196.916 291.115,196.916 296.763,196.916 302.41,196.916 308.057,196.916 313.704,196.916 \n",
       "  319.351,196.916 324.999,196.916 330.646,196.916 336.293,196.916 341.94,196.916 347.587,196.916 353.234,196.916 358.882,196.916 364.529,196.916 370.176,196.916 \n",
       "  375.823,196.916 381.47,196.916 387.117,196.916 392.765,196.916 398.412,196.916 404.059,196.916 409.706,196.916 415.353,196.916 421.001,196.916 426.648,196.916 \n",
       "  432.295,196.916 437.942,196.916 443.589,196.916 449.236,196.916 454.884,196.916 460.531,196.916 466.178,196.916 471.825,196.916 477.472,196.916 483.119,196.916 \n",
       "  488.767,196.916 494.414,196.916 500.061,196.916 505.708,196.916 511.355,196.916 517.003,196.916 522.65,196.916 528.297,196.916 533.944,196.916 539.591,196.916 \n",
       "  545.238,196.916 550.886,196.916 556.533,196.916 562.18,196.916 567.827,196.916 573.474,196.916 579.121,196.916 584.769,196.916 590.416,196.916 596.063,196.916 \n",
       "  \n",
       "  \"/>\n",
       "<polygon clip-path=\"url(#clip00)\" points=\"\n",
       "500.949,119.861 578.063,119.861 578.063,44.2615 500.949,44.2615 \n",
       "  \" fill=\"#ffffff\" fill-opacity=\"1\"/>\n",
       "<polyline clip-path=\"url(#clip00)\" style=\"stroke:#00002d; stroke-width:0.8; stroke-opacity:1; fill:none\" points=\"\n",
       "  500.949,119.861 578.063,119.861 578.063,44.2615 500.949,44.2615 500.949,119.861 \n",
       "  \"/>\n",
       "<polyline clip-path=\"url(#clip00)\" style=\"stroke:#0099ff; stroke-width:0.8; stroke-opacity:1; fill:none\" points=\"\n",
       "  506.949,59.3815 542.949,59.3815 \n",
       "  \"/>\n",
       "<g clip-path=\"url(#clip00)\">\n",
       "<text style=\"fill:#00002d; fill-opacity:1; font-family:Arial,Helvetica Neue,Helvetica,sans-serif; font-size:12; text-anchor:start;\" transform=\"rotate(0, 548.949, 63.8815)\" x=\"548.949\" y=\"63.8815\">f(x)</text>\n",
       "</g>\n",
       "<polyline clip-path=\"url(#clip00)\" style=\"stroke:#e9746a; stroke-width:2.4; stroke-opacity:0.8; fill:none\" points=\"\n",
       "  506.949,74.5015 542.949,74.5015 \n",
       "  \"/>\n",
       "<polygon clip-path=\"url(#clip00)\" style=\"fill:#00002d; fill-opacity:0.8\" points=\"\n",
       "  504.149,65.7015 504.149,83.3015 521.749,83.3015 521.749,65.7015 504.149,65.7015 \n",
       "  \"/>\n",
       "<polygon clip-path=\"url(#clip00)\" style=\"fill:#e9746a; fill-opacity:0.8\" points=\"\n",
       "  504.949,66.5015 504.949,82.5015 520.949,82.5015 520.949,66.5015 504.949,66.5015 \n",
       "  \"/>\n",
       "<polygon clip-path=\"url(#clip00)\" style=\"fill:#00002d; fill-opacity:0.8\" points=\"\n",
       "  528.149,65.7015 528.149,83.3015 545.749,83.3015 545.749,65.7015 528.149,65.7015 \n",
       "  \"/>\n",
       "<polygon clip-path=\"url(#clip00)\" style=\"fill:#e9746a; fill-opacity:0.8\" points=\"\n",
       "  528.949,66.5015 528.949,82.5015 544.949,82.5015 544.949,66.5015 528.949,66.5015 \n",
       "  \"/>\n",
       "<g clip-path=\"url(#clip00)\">\n",
       "<text style=\"fill:#00002d; fill-opacity:1; font-family:Arial,Helvetica Neue,Helvetica,sans-serif; font-size:12; text-anchor:start;\" transform=\"rotate(0, 548.949, 79.0015)\" x=\"548.949\" y=\"79.0015\">y2</text>\n",
       "</g>\n",
       "<polyline clip-path=\"url(#clip00)\" style=\"stroke:#3cb370; stroke-width:2.4; stroke-opacity:0.8; fill:none\" points=\"\n",
       "  506.949,89.6215 542.949,89.6215 \n",
       "  \"/>\n",
       "<polygon clip-path=\"url(#clip00)\" style=\"fill:#00002d; fill-opacity:0.8\" points=\"\n",
       "  512.949,80.8215 504.149,98.4215 521.749,98.4215 512.949,80.8215 \n",
       "  \"/>\n",
       "<polygon clip-path=\"url(#clip00)\" style=\"fill:#3cb370; fill-opacity:0.8\" points=\"\n",
       "  512.949,81.6215 504.949,97.6215 520.949,97.6215 512.949,81.6215 \n",
       "  \"/>\n",
       "<polygon clip-path=\"url(#clip00)\" style=\"fill:#00002d; fill-opacity:0.8\" points=\"\n",
       "  536.949,80.8215 528.149,98.4215 545.749,98.4215 536.949,80.8215 \n",
       "  \"/>\n",
       "<polygon clip-path=\"url(#clip00)\" style=\"fill:#3cb370; fill-opacity:0.8\" points=\"\n",
       "  536.949,81.6215 528.949,97.6215 544.949,97.6215 536.949,81.6215 \n",
       "  \"/>\n",
       "<g clip-path=\"url(#clip00)\">\n",
       "<text style=\"fill:#00002d; fill-opacity:1; font-family:Arial,Helvetica Neue,Helvetica,sans-serif; font-size:12; text-anchor:start;\" transform=\"rotate(0, 548.949, 94.1215)\" x=\"548.949\" y=\"94.1215\">y3</text>\n",
       "</g>\n",
       "<polyline clip-path=\"url(#clip00)\" style=\"stroke:#00002d; stroke-width:1.6; stroke-opacity:1; fill:none\" points=\"\n",
       "  506.949,104.741 542.949,104.741 \n",
       "  \"/>\n",
       "<g clip-path=\"url(#clip00)\">\n",
       "<text style=\"fill:#00002d; fill-opacity:1; font-family:Arial,Helvetica Neue,Helvetica,sans-serif; font-size:12; text-anchor:start;\" transform=\"rotate(0, 548.949, 109.241)\" x=\"548.949\" y=\"109.241\">y4</text>\n",
       "</g>\n",
       "</svg>\n"
      ]
     },
     "execution_count": 31,
     "metadata": {
      "comm_id": "bd7697d5-650c-4c35-beb0-9969dd1683ff",
      "reactive": true
     },
     "output_type": "execute_result"
    }
   ],
   "source": [
    "newtonvisual(sin,cos,1.2)"
   ]
  },
  {
   "cell_type": "markdown",
   "metadata": {},
   "source": [
    "[5] Aplica el método de Newton para encontrar raíces de distintas funciones. ¿Qué ocurre si empiezas con distintas condiciones iniciales? Prueba con distintas funciones."
   ]
  },
  {
   "cell_type": "code",
   "execution_count": 32,
   "metadata": {
    "collapsed": false
   },
   "outputs": [
    {
     "data": {
      "text/html": [],
      "text/plain": [
       "Interact.Options{:SelectionSlider,Int64}(Signal{Int64}(5, nactions=1),\"i\",5,\"5\",Interact.OptionDict(DataStructures.OrderedDict(\"1\"=>1,\"2\"=>2,\"3\"=>3,\"4\"=>4,\"5\"=>5,\"6\"=>6,\"7\"=>7,\"8\"=>8,\"9\"=>9,\"10\"=>10…),Dict(7=>\"7\",4=>\"4\",9=>\"9\",10=>\"10\",2=>\"2\",3=>\"3\",5=>\"5\",8=>\"8\",6=>\"6\",1=>\"1\"…)),Any[],Any[],true,\"horizontal\")"
      ]
     },
     "metadata": {},
     "output_type": "display_data"
    },
    {
     "data": {
      "text/html": [
       "<?xml version=\"1.0\" encoding=\"utf-8\"?>\n",
       "<svg xmlns=\"http://www.w3.org/2000/svg\" xmlns:xlink=\"http://www.w3.org/1999/xlink\" width=\"600\" height=\"400\" viewBox=\"0 0 600 400\">\n",
       "<defs>\n",
       "  <clipPath id=\"clip00\">\n",
       "    <rect x=\"0\" y=\"0\" width=\"600\" height=\"400\"/>\n",
       "  </clipPath>\n",
       "</defs>\n",
       "<polygon clip-path=\"url(#clip00)\" points=\"\n",
       "0,400 600,400 600,0 0,0 \n",
       "  \" fill=\"#ffffff\" fill-opacity=\"1\"/>\n",
       "<defs>\n",
       "  <clipPath id=\"clip01\">\n",
       "    <rect x=\"120\" y=\"0\" width=\"421\" height=\"400\"/>\n",
       "  </clipPath>\n",
       "</defs>\n",
       "<polygon clip-path=\"url(#clip00)\" points=\"\n",
       "54.7703,369.674 596.063,369.674 596.063,23.3815 54.7703,23.3815 \n",
       "  \" fill=\"#ffffff\" fill-opacity=\"1\"/>\n",
       "<defs>\n",
       "  <clipPath id=\"clip02\">\n",
       "    <rect x=\"54\" y=\"23\" width=\"542\" height=\"347\"/>\n",
       "  </clipPath>\n",
       "</defs>\n",
       "<polyline clip-path=\"url(#clip02)\" style=\"stroke:#00002d; stroke-width:0.8; stroke-opacity:0.5; fill:none\" stroke-dasharray=\"1, 2\" points=\"\n",
       "  145.569,364.48 145.569,28.5758 \n",
       "  \"/>\n",
       "<polyline clip-path=\"url(#clip02)\" style=\"stroke:#00002d; stroke-width:0.8; stroke-opacity:0.5; fill:none\" stroke-dasharray=\"1, 2\" points=\"\n",
       "  310.658,364.48 310.658,28.5758 \n",
       "  \"/>\n",
       "<polyline clip-path=\"url(#clip02)\" style=\"stroke:#00002d; stroke-width:0.8; stroke-opacity:0.5; fill:none\" stroke-dasharray=\"1, 2\" points=\"\n",
       "  475.747,364.48 475.747,28.5758 \n",
       "  \"/>\n",
       "<polyline clip-path=\"url(#clip02)\" style=\"stroke:#00002d; stroke-width:0.8; stroke-opacity:0.5; fill:none\" stroke-dasharray=\"1, 2\" points=\"\n",
       "  62.8897,356.562 587.944,356.562 \n",
       "  \"/>\n",
       "<polyline clip-path=\"url(#clip02)\" style=\"stroke:#00002d; stroke-width:0.8; stroke-opacity:0.5; fill:none\" stroke-dasharray=\"1, 2\" points=\"\n",
       "  62.8897,262.17 587.944,262.17 \n",
       "  \"/>\n",
       "<polyline clip-path=\"url(#clip02)\" style=\"stroke:#00002d; stroke-width:0.8; stroke-opacity:0.5; fill:none\" stroke-dasharray=\"1, 2\" points=\"\n",
       "  62.8897,167.778 587.944,167.778 \n",
       "  \"/>\n",
       "<polyline clip-path=\"url(#clip02)\" style=\"stroke:#00002d; stroke-width:0.8; stroke-opacity:0.5; fill:none\" stroke-dasharray=\"1, 2\" points=\"\n",
       "  62.8897,73.3864 587.944,73.3864 \n",
       "  \"/>\n",
       "<polyline clip-path=\"url(#clip02)\" style=\"stroke:#00002d; stroke-width:0.8; stroke-opacity:1; fill:none\" points=\"\n",
       "  54.7703,369.674 596.063,369.674 \n",
       "  \"/>\n",
       "<polyline clip-path=\"url(#clip02)\" style=\"stroke:#00002d; stroke-width:0.8; stroke-opacity:1; fill:none\" points=\"\n",
       "  145.569,369.674 145.569,364.48 \n",
       "  \"/>\n",
       "<polyline clip-path=\"url(#clip02)\" style=\"stroke:#00002d; stroke-width:0.8; stroke-opacity:1; fill:none\" points=\"\n",
       "  310.658,369.674 310.658,364.48 \n",
       "  \"/>\n",
       "<polyline clip-path=\"url(#clip02)\" style=\"stroke:#00002d; stroke-width:0.8; stroke-opacity:1; fill:none\" points=\"\n",
       "  475.747,369.674 475.747,364.48 \n",
       "  \"/>\n",
       "<polyline clip-path=\"url(#clip02)\" style=\"stroke:#00002d; stroke-width:0.8; stroke-opacity:1; fill:none\" points=\"\n",
       "  54.7703,369.674 54.7703,23.3815 \n",
       "  \"/>\n",
       "<polyline clip-path=\"url(#clip02)\" style=\"stroke:#00002d; stroke-width:0.8; stroke-opacity:1; fill:none\" points=\"\n",
       "  54.7703,356.562 62.8897,356.562 \n",
       "  \"/>\n",
       "<polyline clip-path=\"url(#clip02)\" style=\"stroke:#00002d; stroke-width:0.8; stroke-opacity:1; fill:none\" points=\"\n",
       "  54.7703,262.17 62.8897,262.17 \n",
       "  \"/>\n",
       "<polyline clip-path=\"url(#clip02)\" style=\"stroke:#00002d; stroke-width:0.8; stroke-opacity:1; fill:none\" points=\"\n",
       "  54.7703,167.778 62.8897,167.778 \n",
       "  \"/>\n",
       "<polyline clip-path=\"url(#clip02)\" style=\"stroke:#00002d; stroke-width:0.8; stroke-opacity:1; fill:none\" points=\"\n",
       "  54.7703,73.3864 62.8897,73.3864 \n",
       "  \"/>\n",
       "<g clip-path=\"url(#clip00)\">\n",
       "<text style=\"fill:#00002d; fill-opacity:1; font-family:Arial,Helvetica Neue,Helvetica,sans-serif; font-size:12; text-anchor:middle;\" transform=\"rotate(0, 145.569, 381.674)\" x=\"145.569\" y=\"381.674\">2</text>\n",
       "</g>\n",
       "<g clip-path=\"url(#clip00)\">\n",
       "<text style=\"fill:#00002d; fill-opacity:1; font-family:Arial,Helvetica Neue,Helvetica,sans-serif; font-size:12; text-anchor:middle;\" transform=\"rotate(0, 310.658, 381.674)\" x=\"310.658\" y=\"381.674\">4</text>\n",
       "</g>\n",
       "<g clip-path=\"url(#clip00)\">\n",
       "<text style=\"fill:#00002d; fill-opacity:1; font-family:Arial,Helvetica Neue,Helvetica,sans-serif; font-size:12; text-anchor:middle;\" transform=\"rotate(0, 475.747, 381.674)\" x=\"475.747\" y=\"381.674\">6</text>\n",
       "</g>\n",
       "<g clip-path=\"url(#clip00)\">\n",
       "<text style=\"fill:#00002d; fill-opacity:1; font-family:Arial,Helvetica Neue,Helvetica,sans-serif; font-size:12; text-anchor:end;\" transform=\"rotate(0, 53.5703, 361.062)\" x=\"53.5703\" y=\"361.062\">0</text>\n",
       "</g>\n",
       "<g clip-path=\"url(#clip00)\">\n",
       "<text style=\"fill:#00002d; fill-opacity:1; font-family:Arial,Helvetica Neue,Helvetica,sans-serif; font-size:12; text-anchor:end;\" transform=\"rotate(0, 53.5703, 266.67)\" x=\"53.5703\" y=\"266.67\">500</text>\n",
       "</g>\n",
       "<g clip-path=\"url(#clip00)\">\n",
       "<text style=\"fill:#00002d; fill-opacity:1; font-family:Arial,Helvetica Neue,Helvetica,sans-serif; font-size:12; text-anchor:end;\" transform=\"rotate(0, 53.5703, 172.278)\" x=\"53.5703\" y=\"172.278\">1000</text>\n",
       "</g>\n",
       "<g clip-path=\"url(#clip00)\">\n",
       "<text style=\"fill:#00002d; fill-opacity:1; font-family:Arial,Helvetica Neue,Helvetica,sans-serif; font-size:12; text-anchor:end;\" transform=\"rotate(0, 53.5703, 77.8864)\" x=\"53.5703\" y=\"77.8864\">1500</text>\n",
       "</g>\n",
       "<g clip-path=\"url(#clip00)\">\n",
       "<text style=\"fill:#00002d; fill-opacity:1; font-family:Arial,Helvetica Neue,Helvetica,sans-serif; font-size:21; text-anchor:middle;\" transform=\"rotate(0, 325.417, 18)\" x=\"325.417\" y=\"18\">Metodo de Newton-Raphson</text>\n",
       "</g>\n",
       "<g clip-path=\"url(#clip00)\">\n",
       "<text style=\"fill:#00002d; fill-opacity:1; font-family:Arial,Helvetica Neue,Helvetica,sans-serif; font-size:16; text-anchor:middle;\" transform=\"rotate(0, 325.417, 397.6)\" x=\"325.417\" y=\"397.6\">x</text>\n",
       "</g>\n",
       "<g clip-path=\"url(#clip00)\">\n",
       "<text style=\"fill:#00002d; fill-opacity:1; font-family:Arial,Helvetica Neue,Helvetica,sans-serif; font-size:16; text-anchor:middle;\" transform=\"rotate(-90, 14.4, 196.528)\" x=\"14.4\" y=\"196.528\">f(x)</text>\n",
       "</g>\n",
       "<polyline clip-path=\"url(#clip02)\" style=\"stroke:#0099ff; stroke-width:0.8; stroke-opacity:1; fill:none\" points=\"\n",
       "  54.7703,359.873 60.2379,359.842 65.7055,359.808 71.1731,359.771 76.6408,359.733 82.1084,359.691 87.576,359.647 93.0436,359.599 98.5112,359.549 103.979,359.495 \n",
       "  109.446,359.437 114.914,359.376 120.382,359.31 125.849,359.239 131.317,359.164 136.784,359.084 142.252,358.998 147.72,358.906 153.187,358.808 158.655,358.703 \n",
       "  164.122,358.591 169.59,358.472 175.058,358.344 180.525,358.207 185.993,358.061 191.46,357.905 196.928,357.739 202.396,357.561 207.863,357.371 213.331,357.168 \n",
       "  218.798,356.951 224.266,356.719 229.734,356.471 235.201,356.206 240.669,355.923 246.136,355.621 251.604,355.298 257.072,354.952 262.539,354.584 268.007,354.19 \n",
       "  273.474,353.769 278.942,353.319 284.41,352.838 289.877,352.324 295.345,351.776 300.812,351.189 306.28,350.563 311.748,349.894 317.215,349.178 322.683,348.414 \n",
       "  328.15,347.598 333.618,346.725 339.086,345.793 344.553,344.797 350.021,343.733 355.488,342.595 360.956,341.38 366.424,340.082 371.891,338.695 377.359,337.213 \n",
       "  382.826,335.629 388.294,333.937 393.762,332.129 399.229,330.198 404.697,328.134 410.165,325.928 415.632,323.572 421.1,321.054 426.567,318.364 432.035,315.489 \n",
       "  437.503,312.418 442.97,309.136 448.438,305.63 453.905,301.884 459.373,297.881 464.841,293.604 470.308,289.033 475.776,284.15 481.243,278.933 486.711,273.358 \n",
       "  492.179,267.402 497.646,261.038 503.114,254.237 508.581,246.971 514.049,239.208 519.517,230.913 524.984,222.05 530.452,212.58 535.919,202.461 541.387,191.649 \n",
       "  546.855,180.097 552.322,167.754 557.79,154.566 563.257,140.474 568.725,125.418 574.193,109.33 579.66,92.141 585.128,73.7745 590.595,54.1503 596.063,33.1822 \n",
       "  \n",
       "  \"/>\n",
       "<polyline clip-path=\"url(#clip02)\" style=\"stroke:#e9746a; stroke-width:2.4; stroke-opacity:0.8; fill:none\" points=\"\n",
       "  351.476,356.562 351.476,343.437 \n",
       "  \"/>\n",
       "<polygon clip-path=\"url(#clip02)\" style=\"fill:#00002d; fill-opacity:0.8\" points=\"\n",
       "  347.476,352.562 347.476,360.562 355.476,360.562 355.476,352.562 347.476,352.562 \n",
       "  \"/>\n",
       "<polygon clip-path=\"url(#clip02)\" style=\"fill:#e9746a; fill-opacity:0.8\" points=\"\n",
       "  348.276,353.362 348.276,359.762 354.676,359.762 354.676,353.362 348.276,353.362 \n",
       "  \"/>\n",
       "<polygon clip-path=\"url(#clip02)\" style=\"fill:#00002d; fill-opacity:0.8\" points=\"\n",
       "  347.476,339.437 347.476,347.437 355.476,347.437 355.476,339.437 347.476,339.437 \n",
       "  \"/>\n",
       "<polygon clip-path=\"url(#clip02)\" style=\"fill:#e9746a; fill-opacity:0.8\" points=\"\n",
       "  348.276,340.237 348.276,346.637 354.676,346.637 354.676,340.237 348.276,340.237 \n",
       "  \"/>\n",
       "<polyline clip-path=\"url(#clip02)\" style=\"stroke:#3cb370; stroke-width:2.4; stroke-opacity:0.8; fill:none\" points=\"\n",
       "  351.476,343.437 287.372,356.562 \n",
       "  \"/>\n",
       "<polygon clip-path=\"url(#clip02)\" style=\"fill:#00002d; fill-opacity:0.8\" points=\"\n",
       "  351.476,339.437 347.476,347.437 355.476,347.437 351.476,339.437 \n",
       "  \"/>\n",
       "<polygon clip-path=\"url(#clip02)\" style=\"fill:#3cb370; fill-opacity:0.8\" points=\"\n",
       "  351.476,340.237 348.276,346.637 354.676,346.637 351.476,340.237 \n",
       "  \"/>\n",
       "<polygon clip-path=\"url(#clip02)\" style=\"fill:#00002d; fill-opacity:0.8\" points=\"\n",
       "  287.372,352.562 283.372,360.562 291.372,360.562 287.372,352.562 \n",
       "  \"/>\n",
       "<polygon clip-path=\"url(#clip02)\" style=\"fill:#3cb370; fill-opacity:0.8\" points=\"\n",
       "  287.372,353.362 284.172,359.762 290.572,359.762 287.372,353.362 \n",
       "  \"/>\n",
       "<polyline clip-path=\"url(#clip02)\" style=\"stroke:#00002d; stroke-width:1.6; stroke-opacity:1; fill:none\" points=\"\n",
       "  54.7703,356.562 60.2379,356.562 65.7055,356.562 71.1731,356.562 76.6408,356.562 82.1084,356.562 87.576,356.562 93.0436,356.562 98.5112,356.562 103.979,356.562 \n",
       "  109.446,356.562 114.914,356.562 120.382,356.562 125.849,356.562 131.317,356.562 136.784,356.562 142.252,356.562 147.72,356.562 153.187,356.562 158.655,356.562 \n",
       "  164.122,356.562 169.59,356.562 175.058,356.562 180.525,356.562 185.993,356.562 191.46,356.562 196.928,356.562 202.396,356.562 207.863,356.562 213.331,356.562 \n",
       "  218.798,356.562 224.266,356.562 229.734,356.562 235.201,356.562 240.669,356.562 246.136,356.562 251.604,356.562 257.072,356.562 262.539,356.562 268.007,356.562 \n",
       "  273.474,356.562 278.942,356.562 284.41,356.562 289.877,356.562 295.345,356.562 300.812,356.562 306.28,356.562 311.748,356.562 317.215,356.562 322.683,356.562 \n",
       "  328.15,356.562 333.618,356.562 339.086,356.562 344.553,356.562 350.021,356.562 355.488,356.562 360.956,356.562 366.424,356.562 371.891,356.562 377.359,356.562 \n",
       "  382.826,356.562 388.294,356.562 393.762,356.562 399.229,356.562 404.697,356.562 410.165,356.562 415.632,356.562 421.1,356.562 426.567,356.562 432.035,356.562 \n",
       "  437.503,356.562 442.97,356.562 448.438,356.562 453.905,356.562 459.373,356.562 464.841,356.562 470.308,356.562 475.776,356.562 481.243,356.562 486.711,356.562 \n",
       "  492.179,356.562 497.646,356.562 503.114,356.562 508.581,356.562 514.049,356.562 519.517,356.562 524.984,356.562 530.452,356.562 535.919,356.562 541.387,356.562 \n",
       "  546.855,356.562 552.322,356.562 557.79,356.562 563.257,356.562 568.725,356.562 574.193,356.562 579.66,356.562 585.128,356.562 590.595,356.562 596.063,356.562 \n",
       "  \n",
       "  \"/>\n",
       "<polygon clip-path=\"url(#clip00)\" points=\"\n",
       "500.949,119.861 578.063,119.861 578.063,44.2615 500.949,44.2615 \n",
       "  \" fill=\"#ffffff\" fill-opacity=\"1\"/>\n",
       "<polyline clip-path=\"url(#clip00)\" style=\"stroke:#00002d; stroke-width:0.8; stroke-opacity:1; fill:none\" points=\"\n",
       "  500.949,119.861 578.063,119.861 578.063,44.2615 500.949,44.2615 500.949,119.861 \n",
       "  \"/>\n",
       "<polyline clip-path=\"url(#clip00)\" style=\"stroke:#0099ff; stroke-width:0.8; stroke-opacity:1; fill:none\" points=\"\n",
       "  506.949,59.3815 542.949,59.3815 \n",
       "  \"/>\n",
       "<g clip-path=\"url(#clip00)\">\n",
       "<text style=\"fill:#00002d; fill-opacity:1; font-family:Arial,Helvetica Neue,Helvetica,sans-serif; font-size:12; text-anchor:start;\" transform=\"rotate(0, 548.949, 63.8815)\" x=\"548.949\" y=\"63.8815\">f(x)</text>\n",
       "</g>\n",
       "<polyline clip-path=\"url(#clip00)\" style=\"stroke:#e9746a; stroke-width:2.4; stroke-opacity:0.8; fill:none\" points=\"\n",
       "  506.949,74.5015 542.949,74.5015 \n",
       "  \"/>\n",
       "<polygon clip-path=\"url(#clip00)\" style=\"fill:#00002d; fill-opacity:0.8\" points=\"\n",
       "  504.149,65.7015 504.149,83.3015 521.749,83.3015 521.749,65.7015 504.149,65.7015 \n",
       "  \"/>\n",
       "<polygon clip-path=\"url(#clip00)\" style=\"fill:#e9746a; fill-opacity:0.8\" points=\"\n",
       "  504.949,66.5015 504.949,82.5015 520.949,82.5015 520.949,66.5015 504.949,66.5015 \n",
       "  \"/>\n",
       "<polygon clip-path=\"url(#clip00)\" style=\"fill:#00002d; fill-opacity:0.8\" points=\"\n",
       "  528.149,65.7015 528.149,83.3015 545.749,83.3015 545.749,65.7015 528.149,65.7015 \n",
       "  \"/>\n",
       "<polygon clip-path=\"url(#clip00)\" style=\"fill:#e9746a; fill-opacity:0.8\" points=\"\n",
       "  528.949,66.5015 528.949,82.5015 544.949,82.5015 544.949,66.5015 528.949,66.5015 \n",
       "  \"/>\n",
       "<g clip-path=\"url(#clip00)\">\n",
       "<text style=\"fill:#00002d; fill-opacity:1; font-family:Arial,Helvetica Neue,Helvetica,sans-serif; font-size:12; text-anchor:start;\" transform=\"rotate(0, 548.949, 79.0015)\" x=\"548.949\" y=\"79.0015\">y2</text>\n",
       "</g>\n",
       "<polyline clip-path=\"url(#clip00)\" style=\"stroke:#3cb370; stroke-width:2.4; stroke-opacity:0.8; fill:none\" points=\"\n",
       "  506.949,89.6215 542.949,89.6215 \n",
       "  \"/>\n",
       "<polygon clip-path=\"url(#clip00)\" style=\"fill:#00002d; fill-opacity:0.8\" points=\"\n",
       "  512.949,80.8215 504.149,98.4215 521.749,98.4215 512.949,80.8215 \n",
       "  \"/>\n",
       "<polygon clip-path=\"url(#clip00)\" style=\"fill:#3cb370; fill-opacity:0.8\" points=\"\n",
       "  512.949,81.6215 504.949,97.6215 520.949,97.6215 512.949,81.6215 \n",
       "  \"/>\n",
       "<polygon clip-path=\"url(#clip00)\" style=\"fill:#00002d; fill-opacity:0.8\" points=\"\n",
       "  536.949,80.8215 528.149,98.4215 545.749,98.4215 536.949,80.8215 \n",
       "  \"/>\n",
       "<polygon clip-path=\"url(#clip00)\" style=\"fill:#3cb370; fill-opacity:0.8\" points=\"\n",
       "  536.949,81.6215 528.949,97.6215 544.949,97.6215 536.949,81.6215 \n",
       "  \"/>\n",
       "<g clip-path=\"url(#clip00)\">\n",
       "<text style=\"fill:#00002d; fill-opacity:1; font-family:Arial,Helvetica Neue,Helvetica,sans-serif; font-size:12; text-anchor:start;\" transform=\"rotate(0, 548.949, 94.1215)\" x=\"548.949\" y=\"94.1215\">y3</text>\n",
       "</g>\n",
       "<polyline clip-path=\"url(#clip00)\" style=\"stroke:#00002d; stroke-width:1.6; stroke-opacity:1; fill:none\" points=\"\n",
       "  506.949,104.741 542.949,104.741 \n",
       "  \"/>\n",
       "<g clip-path=\"url(#clip00)\">\n",
       "<text style=\"fill:#00002d; fill-opacity:1; font-family:Arial,Helvetica Neue,Helvetica,sans-serif; font-size:12; text-anchor:start;\" transform=\"rotate(0, 548.949, 109.241)\" x=\"548.949\" y=\"109.241\">y4</text>\n",
       "</g>\n",
       "</svg>\n"
      ]
     },
     "execution_count": 32,
     "metadata": {
      "comm_id": "7a827559-3c72-4330-811d-f6a2cac34e82",
      "reactive": true
     },
     "output_type": "execute_result"
    }
   ],
   "source": [
    "newtonvisual(x->e^x-20,x-> e^x,1)"
   ]
  },
  {
   "cell_type": "markdown",
   "metadata": {},
   "source": [
    "[6] ¿Qué tan rápido converge el método cuando esté cerca de una raíz. Utiliza `BigFloat`s. ¿Es mejor que bisección?"
   ]
  },
  {
   "cell_type": "code",
   "execution_count": 37,
   "metadata": {
    "collapsed": false
   },
   "outputs": [
    {
     "name": "stderr",
     "output_type": "stream",
     "text": [
      "WARNING: Method definition biseccion2(Function, Any"
     ]
    },
    {
     "data": {
      "text/plain": [
       "biseccion2 (generic function with 2 methods)"
      ]
     },
     "execution_count": 37,
     "metadata": {},
     "output_type": "execute_result"
    },
    {
     "name": "stderr",
     "output_type": "stream",
     "text": [
      ", Any) in module Main at In[33]:2 overwritten at In[37]:2.\n",
      "WARNING: Method definition biseccion2(Function, Any, Any, Any) in module Main at In[33]:2 overwritten at In[37]:2.\n"
     ]
    }
   ],
   "source": [
    "function biseccion2(f::Function,a,b,test=0)\n",
    "    c=(b+a)/2\n",
    "    l=[f(c)]\n",
    "    i=1\n",
    "    while abs(f(c))>1e-10\n",
    "        if test==1          #codigo extra para testear la función\n",
    "            @show (c,f(c),f(a),f(b))\n",
    "        end\n",
    "        if f(c)*f(a)<0\n",
    "            if test==1\n",
    "                println(\"ac\")\n",
    "            end\n",
    "            b=c\n",
    "            c=(a+b)/2\n",
    "            elseif f(c)*f(b)<0\n",
    "            if test==1\n",
    "                println(\"bc\")\n",
    "            end\n",
    "            a=c\n",
    "            c=(a+b)/2\n",
    "        end\n",
    "        if i==1000\n",
    "            return \"fail\"\n",
    "        end\n",
    "        i=i+1\n",
    "        push!(l,c)\n",
    "    end\n",
    "    return l\n",
    "end"
   ]
  },
  {
   "cell_type": "code",
   "execution_count": 41,
   "metadata": {
    "collapsed": false
   },
   "outputs": [
    {
     "name": "stderr",
     "output_type": "stream",
     "text": [
      "WARNING: Method definition f(Any"
     ]
    },
    {
     "data": {
      "text/plain": [
       "0"
      ]
     },
     "execution_count": 41,
     "metadata": {},
     "output_type": "execute_result"
    },
    {
     "name": "stderr",
     "output_type": "stream",
     "text": [
      ") in module Main at In[34]:1 overwritten at In[41]:1.\n",
      "WARNING: Method definition df(Any) in module Main at In[34]:2 overwritten at In[41]:2.\n"
     ]
    }
   ],
   "source": [
    "f(x)=x^3-7\n",
    "df(x)=3x\n",
    "x0=0"
   ]
  },
  {
   "cell_type": "code",
   "execution_count": 57,
   "metadata": {
    "collapsed": false
   },
   "outputs": [
    {
     "data": {
      "text/html": [
       "<?xml version=\"1.0\" encoding=\"utf-8\"?>\n",
       "<svg xmlns=\"http://www.w3.org/2000/svg\" xmlns:xlink=\"http://www.w3.org/1999/xlink\" width=\"600\" height=\"400\" viewBox=\"0 0 600 400\">\n",
       "<defs>\n",
       "  <clipPath id=\"clip00\">\n",
       "    <rect x=\"0\" y=\"0\" width=\"600\" height=\"400\"/>\n",
       "  </clipPath>\n",
       "</defs>\n",
       "<polygon clip-path=\"url(#clip00)\" points=\"\n",
       "0,400 600,400 600,0 0,0 \n",
       "  \" fill=\"#ffffff\" fill-opacity=\"1\"/>\n",
       "<defs>\n",
       "  <clipPath id=\"clip01\">\n",
       "    <rect x=\"120\" y=\"0\" width=\"421\" height=\"400\"/>\n",
       "  </clipPath>\n",
       "</defs>\n",
       "<polygon clip-path=\"url(#clip00)\" points=\"\n",
       "28.1037,369.674 596.063,369.674 596.063,23.3815 28.1037,23.3815 \n",
       "  \" fill=\"#ffffff\" fill-opacity=\"1\"/>\n",
       "<defs>\n",
       "  <clipPath id=\"clip02\">\n",
       "    <rect x=\"28\" y=\"23\" width=\"568\" height=\"347\"/>\n",
       "  </clipPath>\n",
       "</defs>\n",
       "<polyline clip-path=\"url(#clip02)\" style=\"stroke:#00002d; stroke-width:0.8; stroke-opacity:0.5; fill:none\" stroke-dasharray=\"1, 2\" points=\"\n",
       "  28.1037,364.48 28.1037,28.5758 \n",
       "  \"/>\n",
       "<polyline clip-path=\"url(#clip02)\" style=\"stroke:#00002d; stroke-width:0.8; stroke-opacity:0.5; fill:none\" stroke-dasharray=\"1, 2\" points=\"\n",
       "  185.87,364.48 185.87,28.5758 \n",
       "  \"/>\n",
       "<polyline clip-path=\"url(#clip02)\" style=\"stroke:#00002d; stroke-width:0.8; stroke-opacity:0.5; fill:none\" stroke-dasharray=\"1, 2\" points=\"\n",
       "  343.637,364.48 343.637,28.5758 \n",
       "  \"/>\n",
       "<polyline clip-path=\"url(#clip02)\" style=\"stroke:#00002d; stroke-width:0.8; stroke-opacity:0.5; fill:none\" stroke-dasharray=\"1, 2\" points=\"\n",
       "  501.403,364.48 501.403,28.5758 \n",
       "  \"/>\n",
       "<polyline clip-path=\"url(#clip02)\" style=\"stroke:#00002d; stroke-width:0.8; stroke-opacity:0.5; fill:none\" stroke-dasharray=\"1, 2\" points=\"\n",
       "  36.6231,354.598 587.544,354.598 \n",
       "  \"/>\n",
       "<polyline clip-path=\"url(#clip02)\" style=\"stroke:#00002d; stroke-width:0.8; stroke-opacity:0.5; fill:none\" stroke-dasharray=\"1, 2\" points=\"\n",
       "  36.6231,181.452 587.544,181.452 \n",
       "  \"/>\n",
       "<polyline clip-path=\"url(#clip02)\" style=\"stroke:#00002d; stroke-width:0.8; stroke-opacity:1; fill:none\" points=\"\n",
       "  28.1037,369.674 596.063,369.674 \n",
       "  \"/>\n",
       "<polyline clip-path=\"url(#clip02)\" style=\"stroke:#00002d; stroke-width:0.8; stroke-opacity:1; fill:none\" points=\"\n",
       "  28.1037,369.674 28.1037,364.48 \n",
       "  \"/>\n",
       "<polyline clip-path=\"url(#clip02)\" style=\"stroke:#00002d; stroke-width:0.8; stroke-opacity:1; fill:none\" points=\"\n",
       "  185.87,369.674 185.87,364.48 \n",
       "  \"/>\n",
       "<polyline clip-path=\"url(#clip02)\" style=\"stroke:#00002d; stroke-width:0.8; stroke-opacity:1; fill:none\" points=\"\n",
       "  343.637,369.674 343.637,364.48 \n",
       "  \"/>\n",
       "<polyline clip-path=\"url(#clip02)\" style=\"stroke:#00002d; stroke-width:0.8; stroke-opacity:1; fill:none\" points=\"\n",
       "  501.403,369.674 501.403,364.48 \n",
       "  \"/>\n",
       "<polyline clip-path=\"url(#clip02)\" style=\"stroke:#00002d; stroke-width:0.8; stroke-opacity:1; fill:none\" points=\"\n",
       "  28.1037,369.674 28.1037,23.3815 \n",
       "  \"/>\n",
       "<polyline clip-path=\"url(#clip02)\" style=\"stroke:#00002d; stroke-width:0.8; stroke-opacity:1; fill:none\" points=\"\n",
       "  28.1037,354.598 36.6231,354.598 \n",
       "  \"/>\n",
       "<polyline clip-path=\"url(#clip02)\" style=\"stroke:#00002d; stroke-width:0.8; stroke-opacity:1; fill:none\" points=\"\n",
       "  28.1037,181.452 36.6231,181.452 \n",
       "  \"/>\n",
       "<g clip-path=\"url(#clip00)\">\n",
       "<text style=\"fill:#00002d; fill-opacity:1; font-family:Arial,Helvetica Neue,Helvetica,sans-serif; font-size:12; text-anchor:middle;\" transform=\"rotate(0, 28.1037, 381.674)\" x=\"28.1037\" y=\"381.674\">0</text>\n",
       "</g>\n",
       "<g clip-path=\"url(#clip00)\">\n",
       "<text style=\"fill:#00002d; fill-opacity:1; font-family:Arial,Helvetica Neue,Helvetica,sans-serif; font-size:12; text-anchor:middle;\" transform=\"rotate(0, 185.87, 381.674)\" x=\"185.87\" y=\"381.674\">10</text>\n",
       "</g>\n",
       "<g clip-path=\"url(#clip00)\">\n",
       "<text style=\"fill:#00002d; fill-opacity:1; font-family:Arial,Helvetica Neue,Helvetica,sans-serif; font-size:12; text-anchor:middle;\" transform=\"rotate(0, 343.637, 381.674)\" x=\"343.637\" y=\"381.674\">20</text>\n",
       "</g>\n",
       "<g clip-path=\"url(#clip00)\">\n",
       "<text style=\"fill:#00002d; fill-opacity:1; font-family:Arial,Helvetica Neue,Helvetica,sans-serif; font-size:12; text-anchor:middle;\" transform=\"rotate(0, 501.403, 381.674)\" x=\"501.403\" y=\"381.674\">30</text>\n",
       "</g>\n",
       "<g clip-path=\"url(#clip00)\">\n",
       "<text style=\"fill:#00002d; fill-opacity:1; font-family:Arial,Helvetica Neue,Helvetica,sans-serif; font-size:12; text-anchor:end;\" transform=\"rotate(0, 26.9037, 359.098)\" x=\"26.9037\" y=\"359.098\">1</text>\n",
       "</g>\n",
       "<g clip-path=\"url(#clip00)\">\n",
       "<text style=\"fill:#00002d; fill-opacity:1; font-family:Arial,Helvetica Neue,Helvetica,sans-serif; font-size:12; text-anchor:end;\" transform=\"rotate(0, 26.9037, 185.952)\" x=\"26.9037\" y=\"185.952\">2</text>\n",
       "</g>\n",
       "<g clip-path=\"url(#clip00)\">\n",
       "<text style=\"fill:#00002d; fill-opacity:1; font-family:Arial,Helvetica Neue,Helvetica,sans-serif; font-size:21; text-anchor:middle;\" transform=\"rotate(0, 312.083, 18)\" x=\"312.083\" y=\"18\">comparacion</text>\n",
       "</g>\n",
       "<g clip-path=\"url(#clip00)\">\n",
       "<text style=\"fill:#00002d; fill-opacity:1; font-family:Arial,Helvetica Neue,Helvetica,sans-serif; font-size:16; text-anchor:middle;\" transform=\"rotate(0, 312.083, 397.6)\" x=\"312.083\" y=\"397.6\">n</text>\n",
       "</g>\n",
       "<g clip-path=\"url(#clip00)\">\n",
       "<text style=\"fill:#00002d; fill-opacity:1; font-family:Arial,Helvetica Neue,Helvetica,sans-serif; font-size:16; text-anchor:start;\" transform=\"rotate(-90, 14.7312, 204.283)\" x=\"14.7312\" y=\"204.283\">x</text>\n",
       "</g>\n",
       "<g clip-path=\"url(#clip00)\">\n",
       "<text style=\"fill:#00002d; fill-opacity:1; font-family:Arial,Helvetica Neue,Helvetica,sans-serif; font-size:14; text-anchor:start;\" transform=\"rotate(-90, 19.4164, 196.135)\" x=\"19.4164\" y=\"196.135\">n</text>\n",
       "</g>\n",
       "<circle clip-path=\"url(#clip02)\" style=\"fill:#00002d; stroke:none; fill-opacity:1\" cx=\"59.657\" cy=\"268.025\" r=\"3\"/>\n",
       "<circle clip-path=\"url(#clip02)\" style=\"fill:#0099ff; stroke:none; fill-opacity:1\" cx=\"59.657\" cy=\"268.025\" r=\"2\"/>\n",
       "<circle clip-path=\"url(#clip02)\" style=\"fill:#00002d; stroke:none; fill-opacity:1\" cx=\"75.4336\" cy=\"224.739\" r=\"3\"/>\n",
       "<circle clip-path=\"url(#clip02)\" style=\"fill:#0099ff; stroke:none; fill-opacity:1\" cx=\"75.4336\" cy=\"224.739\" r=\"2\"/>\n",
       "<circle clip-path=\"url(#clip02)\" style=\"fill:#00002d; stroke:none; fill-opacity:1\" cx=\"91.2103\" cy=\"203.095\" r=\"3\"/>\n",
       "<circle clip-path=\"url(#clip02)\" style=\"fill:#0099ff; stroke:none; fill-opacity:1\" cx=\"91.2103\" cy=\"203.095\" r=\"2\"/>\n",
       "<circle clip-path=\"url(#clip02)\" style=\"fill:#00002d; stroke:none; fill-opacity:1\" cx=\"106.987\" cy=\"192.274\" r=\"3\"/>\n",
       "<circle clip-path=\"url(#clip02)\" style=\"fill:#0099ff; stroke:none; fill-opacity:1\" cx=\"106.987\" cy=\"192.274\" r=\"2\"/>\n",
       "<circle clip-path=\"url(#clip02)\" style=\"fill:#00002d; stroke:none; fill-opacity:1\" cx=\"122.764\" cy=\"197.685\" r=\"3\"/>\n",
       "<circle clip-path=\"url(#clip02)\" style=\"fill:#0099ff; stroke:none; fill-opacity:1\" cx=\"122.764\" cy=\"197.685\" r=\"2\"/>\n",
       "<circle clip-path=\"url(#clip02)\" style=\"fill:#00002d; stroke:none; fill-opacity:1\" cx=\"138.54\" cy=\"194.979\" r=\"3\"/>\n",
       "<circle clip-path=\"url(#clip02)\" style=\"fill:#0099ff; stroke:none; fill-opacity:1\" cx=\"138.54\" cy=\"194.979\" r=\"2\"/>\n",
       "<circle clip-path=\"url(#clip02)\" style=\"fill:#00002d; stroke:none; fill-opacity:1\" cx=\"154.317\" cy=\"196.332\" r=\"3\"/>\n",
       "<circle clip-path=\"url(#clip02)\" style=\"fill:#0099ff; stroke:none; fill-opacity:1\" cx=\"154.317\" cy=\"196.332\" r=\"2\"/>\n",
       "<circle clip-path=\"url(#clip02)\" style=\"fill:#00002d; stroke:none; fill-opacity:1\" cx=\"170.094\" cy=\"197.008\" r=\"3\"/>\n",
       "<circle clip-path=\"url(#clip02)\" style=\"fill:#0099ff; stroke:none; fill-opacity:1\" cx=\"170.094\" cy=\"197.008\" r=\"2\"/>\n",
       "<circle clip-path=\"url(#clip02)\" style=\"fill:#00002d; stroke:none; fill-opacity:1\" cx=\"185.87\" cy=\"196.67\" r=\"3\"/>\n",
       "<circle clip-path=\"url(#clip02)\" style=\"fill:#0099ff; stroke:none; fill-opacity:1\" cx=\"185.87\" cy=\"196.67\" r=\"2\"/>\n",
       "<circle clip-path=\"url(#clip02)\" style=\"fill:#00002d; stroke:none; fill-opacity:1\" cx=\"201.647\" cy=\"196.501\" r=\"3\"/>\n",
       "<circle clip-path=\"url(#clip02)\" style=\"fill:#0099ff; stroke:none; fill-opacity:1\" cx=\"201.647\" cy=\"196.501\" r=\"2\"/>\n",
       "<circle clip-path=\"url(#clip02)\" style=\"fill:#00002d; stroke:none; fill-opacity:1\" cx=\"217.423\" cy=\"196.586\" r=\"3\"/>\n",
       "<circle clip-path=\"url(#clip02)\" style=\"fill:#0099ff; stroke:none; fill-opacity:1\" cx=\"217.423\" cy=\"196.586\" r=\"2\"/>\n",
       "<circle clip-path=\"url(#clip02)\" style=\"fill:#00002d; stroke:none; fill-opacity:1\" cx=\"233.2\" cy=\"196.543\" r=\"3\"/>\n",
       "<circle clip-path=\"url(#clip02)\" style=\"fill:#0099ff; stroke:none; fill-opacity:1\" cx=\"233.2\" cy=\"196.543\" r=\"2\"/>\n",
       "<circle clip-path=\"url(#clip02)\" style=\"fill:#00002d; stroke:none; fill-opacity:1\" cx=\"248.977\" cy=\"196.522\" r=\"3\"/>\n",
       "<circle clip-path=\"url(#clip02)\" style=\"fill:#0099ff; stroke:none; fill-opacity:1\" cx=\"248.977\" cy=\"196.522\" r=\"2\"/>\n",
       "<circle clip-path=\"url(#clip02)\" style=\"fill:#00002d; stroke:none; fill-opacity:1\" cx=\"264.753\" cy=\"196.533\" r=\"3\"/>\n",
       "<circle clip-path=\"url(#clip02)\" style=\"fill:#0099ff; stroke:none; fill-opacity:1\" cx=\"264.753\" cy=\"196.533\" r=\"2\"/>\n",
       "<circle clip-path=\"url(#clip02)\" style=\"fill:#00002d; stroke:none; fill-opacity:1\" cx=\"280.53\" cy=\"196.527\" r=\"3\"/>\n",
       "<circle clip-path=\"url(#clip02)\" style=\"fill:#0099ff; stroke:none; fill-opacity:1\" cx=\"280.53\" cy=\"196.527\" r=\"2\"/>\n",
       "<circle clip-path=\"url(#clip02)\" style=\"fill:#00002d; stroke:none; fill-opacity:1\" cx=\"296.307\" cy=\"196.53\" r=\"3\"/>\n",
       "<circle clip-path=\"url(#clip02)\" style=\"fill:#0099ff; stroke:none; fill-opacity:1\" cx=\"296.307\" cy=\"196.53\" r=\"2\"/>\n",
       "<circle clip-path=\"url(#clip02)\" style=\"fill:#00002d; stroke:none; fill-opacity:1\" cx=\"312.083\" cy=\"196.529\" r=\"3\"/>\n",
       "<circle clip-path=\"url(#clip02)\" style=\"fill:#0099ff; stroke:none; fill-opacity:1\" cx=\"312.083\" cy=\"196.529\" r=\"2\"/>\n",
       "<circle clip-path=\"url(#clip02)\" style=\"fill:#00002d; stroke:none; fill-opacity:1\" cx=\"327.86\" cy=\"196.528\" r=\"3\"/>\n",
       "<circle clip-path=\"url(#clip02)\" style=\"fill:#0099ff; stroke:none; fill-opacity:1\" cx=\"327.86\" cy=\"196.528\" r=\"2\"/>\n",
       "<circle clip-path=\"url(#clip02)\" style=\"fill:#00002d; stroke:none; fill-opacity:1\" cx=\"343.637\" cy=\"196.528\" r=\"3\"/>\n",
       "<circle clip-path=\"url(#clip02)\" style=\"fill:#0099ff; stroke:none; fill-opacity:1\" cx=\"343.637\" cy=\"196.528\" r=\"2\"/>\n",
       "<circle clip-path=\"url(#clip02)\" style=\"fill:#00002d; stroke:none; fill-opacity:1\" cx=\"359.413\" cy=\"196.528\" r=\"3\"/>\n",
       "<circle clip-path=\"url(#clip02)\" style=\"fill:#0099ff; stroke:none; fill-opacity:1\" cx=\"359.413\" cy=\"196.528\" r=\"2\"/>\n",
       "<circle clip-path=\"url(#clip02)\" style=\"fill:#00002d; stroke:none; fill-opacity:1\" cx=\"375.19\" cy=\"196.528\" r=\"3\"/>\n",
       "<circle clip-path=\"url(#clip02)\" style=\"fill:#0099ff; stroke:none; fill-opacity:1\" cx=\"375.19\" cy=\"196.528\" r=\"2\"/>\n",
       "<circle clip-path=\"url(#clip02)\" style=\"fill:#00002d; stroke:none; fill-opacity:1\" cx=\"390.967\" cy=\"196.528\" r=\"3\"/>\n",
       "<circle clip-path=\"url(#clip02)\" style=\"fill:#0099ff; stroke:none; fill-opacity:1\" cx=\"390.967\" cy=\"196.528\" r=\"2\"/>\n",
       "<circle clip-path=\"url(#clip02)\" style=\"fill:#00002d; stroke:none; fill-opacity:1\" cx=\"406.743\" cy=\"196.528\" r=\"3\"/>\n",
       "<circle clip-path=\"url(#clip02)\" style=\"fill:#0099ff; stroke:none; fill-opacity:1\" cx=\"406.743\" cy=\"196.528\" r=\"2\"/>\n",
       "<circle clip-path=\"url(#clip02)\" style=\"fill:#00002d; stroke:none; fill-opacity:1\" cx=\"422.52\" cy=\"196.528\" r=\"3\"/>\n",
       "<circle clip-path=\"url(#clip02)\" style=\"fill:#0099ff; stroke:none; fill-opacity:1\" cx=\"422.52\" cy=\"196.528\" r=\"2\"/>\n",
       "<circle clip-path=\"url(#clip02)\" style=\"fill:#00002d; stroke:none; fill-opacity:1\" cx=\"438.297\" cy=\"196.528\" r=\"3\"/>\n",
       "<circle clip-path=\"url(#clip02)\" style=\"fill:#0099ff; stroke:none; fill-opacity:1\" cx=\"438.297\" cy=\"196.528\" r=\"2\"/>\n",
       "<circle clip-path=\"url(#clip02)\" style=\"fill:#00002d; stroke:none; fill-opacity:1\" cx=\"454.073\" cy=\"196.528\" r=\"3\"/>\n",
       "<circle clip-path=\"url(#clip02)\" style=\"fill:#0099ff; stroke:none; fill-opacity:1\" cx=\"454.073\" cy=\"196.528\" r=\"2\"/>\n",
       "<circle clip-path=\"url(#clip02)\" style=\"fill:#00002d; stroke:none; fill-opacity:1\" cx=\"469.85\" cy=\"196.528\" r=\"3\"/>\n",
       "<circle clip-path=\"url(#clip02)\" style=\"fill:#0099ff; stroke:none; fill-opacity:1\" cx=\"469.85\" cy=\"196.528\" r=\"2\"/>\n",
       "<circle clip-path=\"url(#clip02)\" style=\"fill:#00002d; stroke:none; fill-opacity:1\" cx=\"485.626\" cy=\"196.528\" r=\"3\"/>\n",
       "<circle clip-path=\"url(#clip02)\" style=\"fill:#0099ff; stroke:none; fill-opacity:1\" cx=\"485.626\" cy=\"196.528\" r=\"2\"/>\n",
       "<circle clip-path=\"url(#clip02)\" style=\"fill:#00002d; stroke:none; fill-opacity:1\" cx=\"501.403\" cy=\"196.528\" r=\"3\"/>\n",
       "<circle clip-path=\"url(#clip02)\" style=\"fill:#0099ff; stroke:none; fill-opacity:1\" cx=\"501.403\" cy=\"196.528\" r=\"2\"/>\n",
       "<circle clip-path=\"url(#clip02)\" style=\"fill:#00002d; stroke:none; fill-opacity:1\" cx=\"517.18\" cy=\"196.528\" r=\"3\"/>\n",
       "<circle clip-path=\"url(#clip02)\" style=\"fill:#0099ff; stroke:none; fill-opacity:1\" cx=\"517.18\" cy=\"196.528\" r=\"2\"/>\n",
       "<circle clip-path=\"url(#clip02)\" style=\"fill:#00002d; stroke:none; fill-opacity:1\" cx=\"532.956\" cy=\"196.528\" r=\"3\"/>\n",
       "<circle clip-path=\"url(#clip02)\" style=\"fill:#0099ff; stroke:none; fill-opacity:1\" cx=\"532.956\" cy=\"196.528\" r=\"2\"/>\n",
       "<circle clip-path=\"url(#clip02)\" style=\"fill:#00002d; stroke:none; fill-opacity:1\" cx=\"548.733\" cy=\"196.528\" r=\"3\"/>\n",
       "<circle clip-path=\"url(#clip02)\" style=\"fill:#0099ff; stroke:none; fill-opacity:1\" cx=\"548.733\" cy=\"196.528\" r=\"2\"/>\n",
       "<circle clip-path=\"url(#clip02)\" style=\"fill:#00002d; stroke:none; fill-opacity:1\" cx=\"564.51\" cy=\"196.528\" r=\"3\"/>\n",
       "<circle clip-path=\"url(#clip02)\" style=\"fill:#0099ff; stroke:none; fill-opacity:1\" cx=\"564.51\" cy=\"196.528\" r=\"2\"/>\n",
       "<circle clip-path=\"url(#clip02)\" style=\"fill:#00002d; stroke:none; fill-opacity:1\" cx=\"43.8803\" cy=\"268.025\" r=\"3\"/>\n",
       "<circle clip-path=\"url(#clip02)\" style=\"fill:#e9746a; stroke:none; fill-opacity:1\" cx=\"43.8803\" cy=\"268.025\" r=\"2\"/>\n",
       "<circle clip-path=\"url(#clip02)\" style=\"fill:#00002d; stroke:none; fill-opacity:1\" cx=\"59.657\" cy=\"128.546\" r=\"3\"/>\n",
       "<circle clip-path=\"url(#clip02)\" style=\"fill:#e9746a; stroke:none; fill-opacity:1\" cx=\"59.657\" cy=\"128.546\" r=\"2\"/>\n",
       "<circle clip-path=\"url(#clip02)\" style=\"fill:#00002d; stroke:none; fill-opacity:1\" cx=\"75.4336\" cy=\"260.105\" r=\"3\"/>\n",
       "<circle clip-path=\"url(#clip02)\" style=\"fill:#e9746a; stroke:none; fill-opacity:1\" cx=\"75.4336\" cy=\"260.105\" r=\"2\"/>\n",
       "<circle clip-path=\"url(#clip02)\" style=\"fill:#00002d; stroke:none; fill-opacity:1\" cx=\"91.2103\" cy=\"136.637\" r=\"3\"/>\n",
       "<circle clip-path=\"url(#clip02)\" style=\"fill:#e9746a; stroke:none; fill-opacity:1\" cx=\"91.2103\" cy=\"136.637\" r=\"2\"/>\n",
       "<circle clip-path=\"url(#clip02)\" style=\"fill:#00002d; stroke:none; fill-opacity:1\" cx=\"106.987\" cy=\"252.261\" r=\"3\"/>\n",
       "<circle clip-path=\"url(#clip02)\" style=\"fill:#e9746a; stroke:none; fill-opacity:1\" cx=\"106.987\" cy=\"252.261\" r=\"2\"/>\n",
       "<circle clip-path=\"url(#clip02)\" style=\"fill:#00002d; stroke:none; fill-opacity:1\" cx=\"122.764\" cy=\"144.437\" r=\"3\"/>\n",
       "<circle clip-path=\"url(#clip02)\" style=\"fill:#e9746a; stroke:none; fill-opacity:1\" cx=\"122.764\" cy=\"144.437\" r=\"2\"/>\n",
       "<circle clip-path=\"url(#clip02)\" style=\"fill:#00002d; stroke:none; fill-opacity:1\" cx=\"138.54\" cy=\"244.793\" r=\"3\"/>\n",
       "<circle clip-path=\"url(#clip02)\" style=\"fill:#e9746a; stroke:none; fill-opacity:1\" cx=\"138.54\" cy=\"244.793\" r=\"2\"/>\n",
       "<circle clip-path=\"url(#clip02)\" style=\"fill:#00002d; stroke:none; fill-opacity:1\" cx=\"154.317\" cy=\"151.7\" r=\"3\"/>\n",
       "<circle clip-path=\"url(#clip02)\" style=\"fill:#e9746a; stroke:none; fill-opacity:1\" cx=\"154.317\" cy=\"151.7\" r=\"2\"/>\n",
       "<circle clip-path=\"url(#clip02)\" style=\"fill:#00002d; stroke:none; fill-opacity:1\" cx=\"170.094\" cy=\"237.913\" r=\"3\"/>\n",
       "<circle clip-path=\"url(#clip02)\" style=\"fill:#e9746a; stroke:none; fill-opacity:1\" cx=\"170.094\" cy=\"237.913\" r=\"2\"/>\n",
       "<circle clip-path=\"url(#clip02)\" style=\"fill:#00002d; stroke:none; fill-opacity:1\" cx=\"185.87\" cy=\"158.275\" r=\"3\"/>\n",
       "<circle clip-path=\"url(#clip02)\" style=\"fill:#e9746a; stroke:none; fill-opacity:1\" cx=\"185.87\" cy=\"158.275\" r=\"2\"/>\n",
       "<circle clip-path=\"url(#clip02)\" style=\"fill:#00002d; stroke:none; fill-opacity:1\" cx=\"201.647\" cy=\"231.742\" r=\"3\"/>\n",
       "<circle clip-path=\"url(#clip02)\" style=\"fill:#e9746a; stroke:none; fill-opacity:1\" cx=\"201.647\" cy=\"231.742\" r=\"2\"/>\n",
       "<circle clip-path=\"url(#clip02)\" style=\"fill:#00002d; stroke:none; fill-opacity:1\" cx=\"217.423\" cy=\"164.096\" r=\"3\"/>\n",
       "<circle clip-path=\"url(#clip02)\" style=\"fill:#e9746a; stroke:none; fill-opacity:1\" cx=\"217.423\" cy=\"164.096\" r=\"2\"/>\n",
       "<circle clip-path=\"url(#clip02)\" style=\"fill:#00002d; stroke:none; fill-opacity:1\" cx=\"233.2\" cy=\"226.317\" r=\"3\"/>\n",
       "<circle clip-path=\"url(#clip02)\" style=\"fill:#e9746a; stroke:none; fill-opacity:1\" cx=\"233.2\" cy=\"226.317\" r=\"2\"/>\n",
       "<circle clip-path=\"url(#clip02)\" style=\"fill:#00002d; stroke:none; fill-opacity:1\" cx=\"248.977\" cy=\"169.164\" r=\"3\"/>\n",
       "<circle clip-path=\"url(#clip02)\" style=\"fill:#e9746a; stroke:none; fill-opacity:1\" cx=\"248.977\" cy=\"169.164\" r=\"2\"/>\n",
       "<circle clip-path=\"url(#clip02)\" style=\"fill:#00002d; stroke:none; fill-opacity:1\" cx=\"264.753\" cy=\"221.619\" r=\"3\"/>\n",
       "<circle clip-path=\"url(#clip02)\" style=\"fill:#e9746a; stroke:none; fill-opacity:1\" cx=\"264.753\" cy=\"221.619\" r=\"2\"/>\n",
       "<circle clip-path=\"url(#clip02)\" style=\"fill:#00002d; stroke:none; fill-opacity:1\" cx=\"280.53\" cy=\"173.522\" r=\"3\"/>\n",
       "<circle clip-path=\"url(#clip02)\" style=\"fill:#e9746a; stroke:none; fill-opacity:1\" cx=\"280.53\" cy=\"173.522\" r=\"2\"/>\n",
       "<circle clip-path=\"url(#clip02)\" style=\"fill:#00002d; stroke:none; fill-opacity:1\" cx=\"296.307\" cy=\"217.597\" r=\"3\"/>\n",
       "<circle clip-path=\"url(#clip02)\" style=\"fill:#e9746a; stroke:none; fill-opacity:1\" cx=\"296.307\" cy=\"217.597\" r=\"2\"/>\n",
       "<circle clip-path=\"url(#clip02)\" style=\"fill:#00002d; stroke:none; fill-opacity:1\" cx=\"312.083\" cy=\"177.235\" r=\"3\"/>\n",
       "<circle clip-path=\"url(#clip02)\" style=\"fill:#e9746a; stroke:none; fill-opacity:1\" cx=\"312.083\" cy=\"177.235\" r=\"2\"/>\n",
       "<circle clip-path=\"url(#clip02)\" style=\"fill:#00002d; stroke:none; fill-opacity:1\" cx=\"327.86\" cy=\"214.18\" r=\"3\"/>\n",
       "<circle clip-path=\"url(#clip02)\" style=\"fill:#e9746a; stroke:none; fill-opacity:1\" cx=\"327.86\" cy=\"214.18\" r=\"2\"/>\n",
       "<circle clip-path=\"url(#clip02)\" style=\"fill:#00002d; stroke:none; fill-opacity:1\" cx=\"343.637\" cy=\"180.379\" r=\"3\"/>\n",
       "<circle clip-path=\"url(#clip02)\" style=\"fill:#e9746a; stroke:none; fill-opacity:1\" cx=\"343.637\" cy=\"180.379\" r=\"2\"/>\n",
       "<circle clip-path=\"url(#clip02)\" style=\"fill:#00002d; stroke:none; fill-opacity:1\" cx=\"359.413\" cy=\"211.294\" r=\"3\"/>\n",
       "<circle clip-path=\"url(#clip02)\" style=\"fill:#e9746a; stroke:none; fill-opacity:1\" cx=\"359.413\" cy=\"211.294\" r=\"2\"/>\n",
       "<circle clip-path=\"url(#clip02)\" style=\"fill:#00002d; stroke:none; fill-opacity:1\" cx=\"375.19\" cy=\"183.027\" r=\"3\"/>\n",
       "<circle clip-path=\"url(#clip02)\" style=\"fill:#e9746a; stroke:none; fill-opacity:1\" cx=\"375.19\" cy=\"183.027\" r=\"2\"/>\n",
       "<circle clip-path=\"url(#clip02)\" style=\"fill:#00002d; stroke:none; fill-opacity:1\" cx=\"390.967\" cy=\"208.866\" r=\"3\"/>\n",
       "<circle clip-path=\"url(#clip02)\" style=\"fill:#e9746a; stroke:none; fill-opacity:1\" cx=\"390.967\" cy=\"208.866\" r=\"2\"/>\n",
       "<circle clip-path=\"url(#clip02)\" style=\"fill:#00002d; stroke:none; fill-opacity:1\" cx=\"406.743\" cy=\"185.252\" r=\"3\"/>\n",
       "<circle clip-path=\"url(#clip02)\" style=\"fill:#e9746a; stroke:none; fill-opacity:1\" cx=\"406.743\" cy=\"185.252\" r=\"2\"/>\n",
       "<circle clip-path=\"url(#clip02)\" style=\"fill:#00002d; stroke:none; fill-opacity:1\" cx=\"422.52\" cy=\"206.83\" r=\"3\"/>\n",
       "<circle clip-path=\"url(#clip02)\" style=\"fill:#e9746a; stroke:none; fill-opacity:1\" cx=\"422.52\" cy=\"206.83\" r=\"2\"/>\n",
       "<circle clip-path=\"url(#clip02)\" style=\"fill:#00002d; stroke:none; fill-opacity:1\" cx=\"438.297\" cy=\"187.116\" r=\"3\"/>\n",
       "<circle clip-path=\"url(#clip02)\" style=\"fill:#e9746a; stroke:none; fill-opacity:1\" cx=\"438.297\" cy=\"187.116\" r=\"2\"/>\n",
       "<circle clip-path=\"url(#clip02)\" style=\"fill:#00002d; stroke:none; fill-opacity:1\" cx=\"454.073\" cy=\"205.125\" r=\"3\"/>\n",
       "<circle clip-path=\"url(#clip02)\" style=\"fill:#e9746a; stroke:none; fill-opacity:1\" cx=\"454.073\" cy=\"205.125\" r=\"2\"/>\n",
       "<circle clip-path=\"url(#clip02)\" style=\"fill:#00002d; stroke:none; fill-opacity:1\" cx=\"469.85\" cy=\"188.676\" r=\"3\"/>\n",
       "<circle clip-path=\"url(#clip02)\" style=\"fill:#e9746a; stroke:none; fill-opacity:1\" cx=\"469.85\" cy=\"188.676\" r=\"2\"/>\n",
       "<circle clip-path=\"url(#clip02)\" style=\"fill:#00002d; stroke:none; fill-opacity:1\" cx=\"485.626\" cy=\"203.699\" r=\"3\"/>\n",
       "<circle clip-path=\"url(#clip02)\" style=\"fill:#e9746a; stroke:none; fill-opacity:1\" cx=\"485.626\" cy=\"203.699\" r=\"2\"/>\n",
       "<circle clip-path=\"url(#clip02)\" style=\"fill:#00002d; stroke:none; fill-opacity:1\" cx=\"501.403\" cy=\"189.979\" r=\"3\"/>\n",
       "<circle clip-path=\"url(#clip02)\" style=\"fill:#e9746a; stroke:none; fill-opacity:1\" cx=\"501.403\" cy=\"189.979\" r=\"2\"/>\n",
       "<circle clip-path=\"url(#clip02)\" style=\"fill:#00002d; stroke:none; fill-opacity:1\" cx=\"517.18\" cy=\"202.508\" r=\"3\"/>\n",
       "<circle clip-path=\"url(#clip02)\" style=\"fill:#e9746a; stroke:none; fill-opacity:1\" cx=\"517.18\" cy=\"202.508\" r=\"2\"/>\n",
       "<circle clip-path=\"url(#clip02)\" style=\"fill:#00002d; stroke:none; fill-opacity:1\" cx=\"532.956\" cy=\"191.067\" r=\"3\"/>\n",
       "<circle clip-path=\"url(#clip02)\" style=\"fill:#e9746a; stroke:none; fill-opacity:1\" cx=\"532.956\" cy=\"191.067\" r=\"2\"/>\n",
       "<circle clip-path=\"url(#clip02)\" style=\"fill:#00002d; stroke:none; fill-opacity:1\" cx=\"548.733\" cy=\"201.514\" r=\"3\"/>\n",
       "<circle clip-path=\"url(#clip02)\" style=\"fill:#e9746a; stroke:none; fill-opacity:1\" cx=\"548.733\" cy=\"201.514\" r=\"2\"/>\n",
       "<circle clip-path=\"url(#clip02)\" style=\"fill:#00002d; stroke:none; fill-opacity:1\" cx=\"564.51\" cy=\"191.975\" r=\"3\"/>\n",
       "<circle clip-path=\"url(#clip02)\" style=\"fill:#e9746a; stroke:none; fill-opacity:1\" cx=\"564.51\" cy=\"191.975\" r=\"2\"/>\n",
       "<circle clip-path=\"url(#clip02)\" style=\"fill:#00002d; stroke:none; fill-opacity:1\" cx=\"580.286\" cy=\"200.685\" r=\"3\"/>\n",
       "<circle clip-path=\"url(#clip02)\" style=\"fill:#e9746a; stroke:none; fill-opacity:1\" cx=\"580.286\" cy=\"200.685\" r=\"2\"/>\n",
       "<circle clip-path=\"url(#clip02)\" style=\"fill:#00002d; stroke:none; fill-opacity:1\" cx=\"596.063\" cy=\"192.732\" r=\"3\"/>\n",
       "<circle clip-path=\"url(#clip02)\" style=\"fill:#e9746a; stroke:none; fill-opacity:1\" cx=\"596.063\" cy=\"192.732\" r=\"2\"/>\n",
       "<polygon clip-path=\"url(#clip00)\" points=\"\n",
       "468.664,89.6215 578.063,89.6215 578.063,44.2615 468.664,44.2615 \n",
       "  \" fill=\"#ffffff\" fill-opacity=\"1\"/>\n",
       "<polyline clip-path=\"url(#clip00)\" style=\"stroke:#00002d; stroke-width:0.8; stroke-opacity:1; fill:none\" points=\"\n",
       "  468.664,89.6215 578.063,89.6215 578.063,44.2615 468.664,44.2615 468.664,89.6215 \n",
       "  \"/>\n",
       "<circle clip-path=\"url(#clip00)\" style=\"fill:#00002d; stroke:none; fill-opacity:1\" cx=\"480.664\" cy=\"59.3815\" r=\"7\"/>\n",
       "<circle clip-path=\"url(#clip00)\" style=\"fill:#0099ff; stroke:none; fill-opacity:1\" cx=\"480.664\" cy=\"59.3815\" r=\"7\"/>\n",
       "<circle clip-path=\"url(#clip00)\" style=\"fill:#00002d; stroke:none; fill-opacity:1\" cx=\"504.664\" cy=\"59.3815\" r=\"7\"/>\n",
       "<circle clip-path=\"url(#clip00)\" style=\"fill:#0099ff; stroke:none; fill-opacity:1\" cx=\"504.664\" cy=\"59.3815\" r=\"7\"/>\n",
       "<g clip-path=\"url(#clip00)\">\n",
       "<text style=\"fill:#00002d; fill-opacity:1; font-family:Arial,Helvetica Neue,Helvetica,sans-serif; font-size:12; text-anchor:start;\" transform=\"rotate(0, 516.664, 63.8815)\" x=\"516.664\" y=\"63.8815\">biseccion</text>\n",
       "</g>\n",
       "<circle clip-path=\"url(#clip00)\" style=\"fill:#00002d; stroke:none; fill-opacity:1\" cx=\"480.664\" cy=\"74.5015\" r=\"7\"/>\n",
       "<circle clip-path=\"url(#clip00)\" style=\"fill:#e9746a; stroke:none; fill-opacity:1\" cx=\"480.664\" cy=\"74.5015\" r=\"7\"/>\n",
       "<circle clip-path=\"url(#clip00)\" style=\"fill:#00002d; stroke:none; fill-opacity:1\" cx=\"504.664\" cy=\"74.5015\" r=\"7\"/>\n",
       "<circle clip-path=\"url(#clip00)\" style=\"fill:#e9746a; stroke:none; fill-opacity:1\" cx=\"504.664\" cy=\"74.5015\" r=\"7\"/>\n",
       "<g clip-path=\"url(#clip00)\">\n",
       "<text style=\"fill:#00002d; fill-opacity:1; font-family:Arial,Helvetica Neue,Helvetica,sans-serif; font-size:12; text-anchor:start;\" transform=\"rotate(0, 516.664, 79.0015)\" x=\"516.664\" y=\"79.0015\">newton</text>\n",
       "</g>\n",
       "</svg>\n"
      ]
     },
     "execution_count": 57,
     "metadata": {},
     "output_type": "execute_result"
    }
   ],
   "source": [
    "A=biseccion2(f,0,2)\n",
    "B=newtonlist(f,df,1.5)\n",
    "scatter(1:length(A),A,xlims=(0,length(A)+2),ylims=(A[end]-1,A[end]+1),\n",
    "label=\"biseccion\",title=\"comparacion\",xlabel=\"n\",ylabel=\"x_n\")\n",
    "scatter!(1:length(B),B,label=\"newton\")"
   ]
  },
  {
   "cell_type": "markdown",
   "metadata": {},
   "source": [
    "Sin embargo, es posible que el método de Newton *no converja*:"
   ]
  },
  {
   "cell_type": "markdown",
   "metadata": {},
   "source": [
    "[7] El mismo código del método de Newton debería funcionar con números complejos. Utilízalo para encontrar raíces de la función $f(z) = z^3 -1$ **en el plano complejo**.\n",
    "\n",
    "Dada una condición inicial, dibuja (por ejemplo) la parte imaginaria de la raíz a la cual converge (por ejemplo, después de un cierto número de pasos). Hazlo para una malla de condiciones iniciales en el plano. ¿Qué es lo que ves?"
   ]
  },
  {
   "cell_type": "markdown",
   "metadata": {},
   "source": [
    "[8] Haz lo mismo para otras funciones en el plano complejo."
   ]
  },
  {
   "cell_type": "markdown",
   "metadata": {},
   "source": [
    "[9] Considera ahora cómo encontrar raíces de un sistema de ecuaciones, escritos en forma vectorial,\n",
    "\n",
    "$$\\mathbf{f}(\\mathbf{x}) = \\mathbf{0}.$$\n",
    "\n",
    "Repite un desarrollo siguiendo la pauta de la pregunta [1] en este contexto.\n",
    "¿Qué es lo que cambia? ¿Qué tipo de operación numérica necesitaríamos para llevar a cabo el método de Newton en este nuevo contexto?"
   ]
  },
  {
   "cell_type": "code",
   "execution_count": 65,
   "metadata": {
    "collapsed": false
   },
   "outputs": [
    {
     "name": "stdout",
     "output_type": "stream",
     "text": [
      "(x[i],f(x[i]),df(x[i])) = (-0.5 + 0.5im,-0.75 + 0.25im,-1.5 + 1.5im)\n",
      "(x[i],f(x[i]),df(x[i])) = (-0.8333333333333333 + 0.33333333333333337im,-1.3009259259259256 + 0.6574074074074073im,-2.5 + 1.0im)\n",
      "(x[i],f(x[i]),df(x[i])) = (-1.3726053639846743 + 0.3805874840357599im,-2.9895983192156397 + 2.0960055013649064im,-4.1178160919540225 + 1.1417624521072798im)\n",
      "(x[i],f(x[i]),df(x[i])) = (-2.177848058127283 + 0.6663238069031647im,-8.428770217158686 + 9.185326369194666im,-6.5335441743818485 + 1.9989714207094942im)\n",
      "(x[i],f(x[i]),df(x[i])) = (-3.7508149161088116 + 1.5909384437878893im,-25.287866144609215 + 63.12008895673154im,-11.252444748326434 + 4.772815331363668im)\n",
      "(x[i],f(x[i]),df(x[i])) = (-7.671976324138025 + 5.537201737223967im,253.11571490436899 + 807.9721930045066im,-23.015928972414073 + 16.6116052116719im)\n",
      "(x[i],f(x[i]),df(x[i])) = (-17.100082678419092 + 33.837437332068845im,53736.07253997183 - 9059.421699060953im,-51.300248035257276 + 101.51231199620653im)\n",
      "(x[i],f(x[i]),df(x[i])) = (267.08239763205955 + 419.57824101145854im,-1.2200449388728866e8 + 1.5924303768703952e7im,801.2471928961786 + 1258.7347230343757im)\n",
      "(x[i],f(x[i]),df(x[i])) = (35171.380492641736 - 74288.39739340867im,-5.3879994283771706e14 + 1.3429024227912475e14im,105514.14147792521 - 222865.192180226im)\n",
      "(x[i],f(x[i]),df(x[i])) = (1.4272818318881037e9 + 1.7418093722107108e9im,-1.008312704413005e28 + 5.360419028889951e27im,4.2818454956643114e9 + 5.225428116632133e9im)\n",
      "(x[i],f(x[i]),df(x[i])) = (3.3225548858835174e17 - 1.6573685793040381e18im,-2.7013095915629543e54 + 4.0036878391423e54im,9.967664657650552e17 - 4.972105737912114e18im)\n",
      "(x[i],f(x[i]),df(x[i])) = (8.788256326557339e35 + 3.671132047250971e35im,3.2342380754910844e107 + 8.011259527036338e107im,2.6364768979672015e36 + 1.1013396141752913e36im)\n",
      "(x[i],f(x[i]),df(x[i])) = (-2.1252079584307333e71 - 2.1508566293253823e71im,1.9896290103916367e214 - 1.9192830070356764e214im,-6.3756238752922e71 - 6.452569887976147e71im)\n",
      "(x[i],f(x[i]),df(x[i])) = (3.655845777853981e140 - 3.047345084057203e142im,-Inf + NaN*im,1.0967537333561943e141 - 9.142035252171609e142im)\n"
     ]
    },
    {
     "data": {
      "text/plain": [
       "15-element Array{Any,1}:\n",
       "        -0.5+0.5im        \n",
       "   -0.833333+0.333333im   \n",
       "    -1.37261+0.380587im   \n",
       "    -2.17785+0.666324im   \n",
       "    -3.75081+1.59094im    \n",
       "    -7.67198+5.5372im     \n",
       "    -17.1001+33.8374im    \n",
       "     267.082+419.578im    \n",
       "     35171.4-74288.4im    \n",
       "   1.42728e9+1.74181e9im  \n",
       "  3.32255e17-1.65737e18im \n",
       "  8.78826e35+3.67113e35im \n",
       " -2.12521e71-2.15086e71im \n",
       " 3.65585e140-3.04735e142im\n",
       "         NaN+NaN*im       "
      ]
     },
     "execution_count": 65,
     "metadata": {},
     "output_type": "execute_result"
    }
   ],
   "source": [
    "newtonlist(z -> z^3 -1, z ->3z,-1/2+im/2,true)"
   ]
  },
  {
   "cell_type": "code",
   "execution_count": null,
   "metadata": {
    "collapsed": false
   },
   "outputs": [],
   "source": []
  },
  {
   "cell_type": "code",
   "execution_count": null,
   "metadata": {
    "collapsed": true
   },
   "outputs": [],
   "source": []
  }
 ],
 "metadata": {
  "anaconda-cloud": {},
  "hide_input": false,
  "kernelspec": {
   "display_name": "Julia 0.5.0",
   "language": "julia",
   "name": "julia-0.5"
  },
  "language_info": {
   "file_extension": ".jl",
   "mimetype": "application/julia",
   "name": "julia",
   "version": "0.5.0"
  },
  "toc": {
   "colors": {
    "hover_highlight": "#DAA520",
    "running_highlight": "#FF0000",
    "selected_highlight": "#FFD700"
   },
   "moveMenuLeft": true,
   "nav_menu": {
    "height": "29px",
    "width": "251px"
   },
   "navigate_menu": true,
   "number_sections": true,
   "sideBar": true,
   "threshold": "2",
   "toc_cell": false,
   "toc_section_display": "block",
   "toc_window_display": false
  },
  "widgets": {
   "state": {
    "39d2a1d5-4c98-47ae-adc0-30dde6e800a7": {
     "views": [
      {
       "cell_index": 15
      }
     ]
    },
    "e70b2e66-ecf5-41b1-af04-d732b1ff6c2e": {
     "views": [
      {
       "cell_index": 13
      }
     ]
    },
    "eb9d832a-83fb-4dc6-9021-5826bcfa1b0e": {
     "views": [
      {
       "cell_index": 18
      }
     ]
    }
   },
   "version": "1.2.0"
  }
 },
 "nbformat": 4,
 "nbformat_minor": 2
}
