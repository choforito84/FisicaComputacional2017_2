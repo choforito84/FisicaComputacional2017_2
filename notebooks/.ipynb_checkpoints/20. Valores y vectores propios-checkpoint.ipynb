{
 "cells": [
  {
   "cell_type": "markdown",
   "metadata": {},
   "source": [
    "# Eigenvalores y eigenvectores "
   ]
  },
  {
   "cell_type": "markdown",
   "metadata": {},
   "source": [
    "Otro problema crucial de la álgebra lineal, y, por lo tanto, de la álgebra lineal numérica, es encontrar valores y vectores propios, también llamados eigenvalores y eigenvectores (\"eigen\" = \"propio\" en alemán).\n",
    "\n",
    "Recordemos que $\\mathbf{v}$ es un eigenvector de la matriz $\\mathsf{M}$,  con eigenvalor $\\lambda \\in \\mathbb{C}$,  si\n",
    "\n",
    "$$\\mathsf{M} \\cdot \\mathbf{v} = \\lambda \\, \\mathbf{v},$$\n",
    "\n",
    "es decir que la *dirección* de $\\mathbf{v}$ es invariante bajo la transformación $\\mathsf{M}$, pero la *magnitud* se puede cambiar (o sea, el vector se puede \"estirar\").\n",
    "\n",
    "Recordemos que si $\\mathbf{v}$ es un eigenvector de $\\mathsf{M}$ con eigenvalor $\\lambda$, entonces $\\alpha \\mathbf{v}$ también lo es, para cualquier escalar $\\alpha \\neq 0$."
   ]
  },
  {
   "cell_type": "markdown",
   "metadata": {},
   "source": [
    "¿Por qué son importantes este tipo de problemas? Surgen en problemas físicos como son el encontrar los modos normales de un conjunto de osciladores acoplados, o las energías posibles de un sistema cuántico. En particular, surgen al llevar a cabo una separación de variables en ecuaciones diferenciales parciales.\n",
    "\n",
    "Por ejemplo, consideremos el problema de encontrar las energías y estados posibles de una partícula libre en una caja finita de longitud $L$. El problema se reduce a encontrar los valores posibles de $E$ y $\\psi$ que satisfacen la ecuación de Helmholtz,\n",
    "\n",
    "$$\\nabla^2 \\psi = E \\psi$$\n",
    "\n",
    "con condiciones dadas en la frontera, por ejemplo\n",
    "$\\psi(x=0) = \\psi(x=L) = 0$."
   ]
  },
  {
   "cell_type": "markdown",
   "metadata": {},
   "source": [
    "## El método de potencias "
   ]
  },
  {
   "cell_type": "markdown",
   "metadata": {},
   "source": [
    "No pueden existir métodos directos para calcular eigenvalores para matrices generales, ya que los eigenvalores satisfacen la ecuación polinomial $\\mathrm{det}(\\mathsf{M} - \\lambda \\mathsf{I}) = 0$, la cual sabemos que no se puede resolver de manera exacta cuando el grado $>4$.\n",
    "\n",
    "Por lo tanto, debemos considerar métodos iterativos."
   ]
  },
  {
   "cell_type": "markdown",
   "metadata": {},
   "source": [
    "El método iterativo más sencillo para calcular un eigenvalor particular de una matriz es el **método de potencias**. Consiste en calcular potencias de la matriz $\\mathsf{M}$, aplicadas a un vector $\\mathbf{v}$ inicial arbitrario (pero no-cero).\n",
    "\n",
    "El algoritmo es como sigue: Se escoge un vector inicial arbitrario y se aplica $\\mathsf{M}$ a este vector (es decir, se calcula $\\mathsf{M} \\cdot \\mathbf{v}$). Luego se aplica $\\mathsf{M}$ al resultado, y así sucesivamente.\n"
   ]
  },
  {
   "cell_type": "markdown",
   "metadata": {},
   "source": [
    "**[1]** (i) Escribe una función que implementa este método, para una matriz `M` dada.\n",
    "\n",
    "(ii) Considera una matriz $\\mathbf{M}$ de $2 \\times 2$, e.g. $\\begin{pmatrix} 2 & 1 \\\\ 1 & 1 \\end{pmatrix}$. \n",
    "Aplica el método. Imprime los resultados después de cada paso. ¿Cuál problema observas?\n",
    "\n",
    "(iii) ¿Cuál es la solución a este problema? Impleméntalo. \n",
    "\n",
    "(iv) Calcula a mano los eigenvalores y eigenvectores de tu matriz. ¿Funciona el método? ¿Cuál eigenvector y eigenvalor te da?\n",
    "\n",
    "(v) Supón que la matriz $\\mathsf{M}$ cuenta con una base completa de eigenvectores $\\mathbf{v}_i$. Descompone un vector inicial arbitrario $\\mathbf{v}$ como una combinación lineal de los eigenvectores, e investiga el resultado de aplicar $\\mathsf{M}^n$ a este vector inicial. Así, explica (con papel y pluma) el comportamiento del método."
   ]
  },
  {
   "cell_type": "code",
   "execution_count": 68,
   "metadata": {
    "collapsed": false
   },
   "outputs": [
    {
     "data": {
      "text/plain": [
       "Plots.GRBackend()"
      ]
     },
     "execution_count": 68,
     "metadata": {},
     "output_type": "execute_result"
    }
   ],
   "source": [
    "using Plots,Interact,PhysicalConstants\n",
    "gr()"
   ]
  },
  {
   "cell_type": "code",
   "execution_count": 202,
   "metadata": {
    "collapsed": false
   },
   "outputs": [
    {
     "name": "stderr",
     "output_type": "stream",
     "text": [
      "WARNING: Method definition vectores(Array"
     ]
    },
    {
     "data": {
      "text/plain": [
       "vectores (generic function with 1 method)"
      ]
     },
     "execution_count": 202,
     "metadata": {},
     "output_type": "execute_result"
    },
    {
     "name": "stderr",
     "output_type": "stream",
     "text": [
      "{Float64, 2}) in module Main at In[90]:2 overwritten at In[202]:2.\n",
      "WARNING: Method definition #vectores(Array{Any, 1}, Main.#vectores, Array{Float64, 2}) in module Main overwritten.\n"
     ]
    }
   ],
   "source": [
    "function vectores(M::Array{Float64,2};N::Int64=100,test=false)\n",
    "    if size(M)[1]!=size(M)[2]\n",
    "        error(\"La matriz no es cuadrada\")\n",
    "    end\n",
    "    v=rand(size(M)[1])\n",
    "    for i in 1:N\n",
    "        if test==true\n",
    "            @show i\n",
    "            @show v\n",
    "            @show norm(v)\n",
    "        end\n",
    "        v=M*v\n",
    "        v=v/norm(v)\n",
    "    end\n",
    "    return v\n",
    "end"
   ]
  },
  {
   "cell_type": "code",
   "execution_count": 203,
   "metadata": {
    "collapsed": false
   },
   "outputs": [
    {
     "data": {
      "text/plain": [
       "2-element Array{Float64,1}:\n",
       " 0.850651\n",
       " 0.525731"
      ]
     },
     "execution_count": 203,
     "metadata": {},
     "output_type": "execute_result"
    }
   ],
   "source": [
    "M=[2.0 1.0 ; 1.0 1.0]\n",
    "A=vectores(M,N=50)"
   ]
  },
  {
   "cell_type": "code",
   "execution_count": 204,
   "metadata": {
    "collapsed": false
   },
   "outputs": [
    {
     "data": {
      "text/plain": [
       "2-element Array{Float64,1}:\n",
       " 2.61803\n",
       " 2.61803"
      ]
     },
     "execution_count": 204,
     "metadata": {},
     "output_type": "execute_result"
    }
   ],
   "source": [
    "(M*A)./A"
   ]
  },
  {
   "cell_type": "code",
   "execution_count": 205,
   "metadata": {
    "collapsed": false
   },
   "outputs": [
    {
     "name": "stderr",
     "output_type": "stream",
     "text": [
      "WARNING: Method definition raices(Array{Float64, N<:Any"
     ]
    },
    {
     "data": {
      "text/plain": [
       "raices (generic function with 1 method)"
      ]
     },
     "execution_count": 205,
     "metadata": {},
     "output_type": "execute_result"
    },
    {
     "name": "stderr",
     "output_type": "stream",
     "text": [
      "}) in module Main at In[93]:2 overwritten at In[205]:2.\n"
     ]
    }
   ],
   "source": [
    "function raices(A::Array{Float64})\n",
    "    x1=(-A[2]+sqrt(A[2]^2-4*A[1]*A[3]))/(2*A[1])\n",
    "    x2=(-A[2]-sqrt(A[2]^2-4*A[1]*A[3]))/(2*A[1])\n",
    "    return (x1,x2)\n",
    "end"
   ]
  },
  {
   "cell_type": "code",
   "execution_count": 206,
   "metadata": {
    "collapsed": false
   },
   "outputs": [
    {
     "data": {
      "text/plain": [
       "(2.618033988749895,0.3819660112501051)"
      ]
     },
     "execution_count": 206,
     "metadata": {},
     "output_type": "execute_result"
    }
   ],
   "source": [
    "raices([1.0,-3.0,1.0])"
   ]
  },
  {
   "cell_type": "code",
   "execution_count": 207,
   "metadata": {
    "collapsed": false
   },
   "outputs": [
    {
     "name": "stderr",
     "output_type": "stream",
     "text": [
      "WARNING: Method definition schrodingermatrix2("
     ]
    },
    {
     "data": {
      "text/plain": [
       "schrodingermatrix2 (generic function with 1 method)"
      ]
     },
     "execution_count": 207,
     "metadata": {},
     "output_type": "execute_result"
    },
    {
     "name": "stderr",
     "output_type": "stream",
     "text": [
      "Int64) in module Main at In[199]:2 overwritten at In[207]:2.\n",
      "WARNING: Method definition #schrodingermatrix2(Array{Any, 1}, Main.#schrodingermatrix2, Int64) in module Main overwritten.\n"
     ]
    }
   ],
   "source": [
    "function schrodingermatrix2(N::Int64;L::Float64=1.0,m::Float64=1.0)\n",
    "    h=L/(N)\n",
    "    A=zeros(N,N)\n",
    "    #A[1,1]=1/(m*h^2)\n",
    "    #A[1,2]=-1/(2*m*h^2)\n",
    "    #A[N,N]=1/(m*h^2)\n",
    "    #A[N,N-1]=-1/(2*m*h^2)\n",
    "    A[1,1]=1\n",
    "    A[N,N]=1\n",
    "    for i in 2:(N-1)\n",
    "        A[i,i-1]=-1/(2*m*h^2)\n",
    "        A[i,i+1]=-1/(2*m*h^2)\n",
    "        A[i,i]=1/(m*h^2)\n",
    "    end\n",
    "    return A\n",
    "end"
   ]
  },
  {
   "cell_type": "code",
   "execution_count": 208,
   "metadata": {
    "collapsed": false
   },
   "outputs": [
    {
     "data": {
      "text/plain": [
       "3-element LinSpace{Float64}:\n",
       " 0.0,0.5,1.0"
      ]
     },
     "execution_count": 208,
     "metadata": {},
     "output_type": "execute_result"
    }
   ],
   "source": [
    "linspace(0.0,1.0,3)"
   ]
  },
  {
   "cell_type": "code",
   "execution_count": 211,
   "metadata": {
    "collapsed": false
   },
   "outputs": [
    {
     "data": {
      "text/plain": [
       "10×10 Array{Float64,2}:\n",
       "   1.0    0.0    0.0    0.0    0.0    0.0    0.0    0.0    0.0    0.0\n",
       " -50.0  100.0  -50.0    0.0    0.0    0.0    0.0    0.0    0.0    0.0\n",
       "   0.0  -50.0  100.0  -50.0    0.0    0.0    0.0    0.0    0.0    0.0\n",
       "   0.0    0.0  -50.0  100.0  -50.0    0.0    0.0    0.0    0.0    0.0\n",
       "   0.0    0.0    0.0  -50.0  100.0  -50.0    0.0    0.0    0.0    0.0\n",
       "   0.0    0.0    0.0    0.0  -50.0  100.0  -50.0    0.0    0.0    0.0\n",
       "   0.0    0.0    0.0    0.0    0.0  -50.0  100.0  -50.0    0.0    0.0\n",
       "   0.0    0.0    0.0    0.0    0.0    0.0  -50.0  100.0  -50.0    0.0\n",
       "   0.0    0.0    0.0    0.0    0.0    0.0    0.0  -50.0  100.0  -50.0\n",
       "   0.0    0.0    0.0    0.0    0.0    0.0    0.0    0.0    0.0    1.0"
      ]
     },
     "execution_count": 211,
     "metadata": {},
     "output_type": "execute_result"
    }
   ],
   "source": [
    "schrodingermatrix2(10)"
   ]
  },
  {
   "cell_type": "code",
   "execution_count": 212,
   "metadata": {
    "collapsed": false
   },
   "outputs": [
    {
     "data": {
      "text/plain": [
       "2-element Array{Float64,1}:\n",
       " 2.0\n",
       " 2.0"
      ]
     },
     "execution_count": 212,
     "metadata": {},
     "output_type": "execute_result"
    }
   ],
   "source": [
    "[6,4]./[3,2]"
   ]
  },
  {
   "cell_type": "code",
   "execution_count": 213,
   "metadata": {
    "collapsed": false
   },
   "outputs": [
    {
     "name": "stderr",
     "output_type": "stream",
     "text": [
      "WARNING: Method definition energias("
     ]
    },
    {
     "data": {
      "text/plain": [
       "energias (generic function with 1 method)"
      ]
     },
     "execution_count": 213,
     "metadata": {},
     "output_type": "execute_result"
    },
    {
     "name": "stderr",
     "output_type": "stream",
     "text": [
      "Int64) in module Main at In[200]:2 overwritten at In[213]:2.\n",
      "WARNING: Method definition #energias(Array{Any, 1}, Main.#energias, Int64) in module Main overwritten.\n"
     ]
    }
   ],
   "source": [
    "function energias(n::Int64;iter=1000,L::Float64=1.0,m::Float64=1.0,test=false)\n",
    "    M=schrodingermatrix2(n,L=L,m=m)\n",
    "    V=vectores(M,N=iter,test=test)\n",
    "    A=(M*V)./V\n",
    "    return (A,V)\n",
    "end"
   ]
  },
  {
   "cell_type": "code",
   "execution_count": 214,
   "metadata": {
    "collapsed": false
   },
   "outputs": [
    {
     "data": {
      "text/plain": [
       "([NaN,19995.0,19995.0,19995.0,19995.0,19995.0,19995.0,19995.0,19995.0,19995.0  …  19995.0,19995.0,19995.0,19995.0,19995.0,19995.0,19995.0,19995.0,19995.0,NaN],[0.0,0.00450962,-0.0090147,0.0135107,-0.0179931,0.0224574,-0.026899,0.0313136,-0.0356967,0.0400438  …  -0.0400437,0.0356966,-0.0313135,0.026899,-0.0224573,0.017993,-0.0135107,0.00901467,-0.00450961,0.0])"
      ]
     },
     "execution_count": 214,
     "metadata": {},
     "output_type": "execute_result"
    }
   ],
   "source": [
    "E=energias(100,iter=20000)"
   ]
  },
  {
   "cell_type": "code",
   "execution_count": 215,
   "metadata": {
    "collapsed": false
   },
   "outputs": [
    {
     "data": {
      "text/plain": [
       "NaN"
      ]
     },
     "execution_count": 215,
     "metadata": {},
     "output_type": "execute_result"
    }
   ],
   "source": [
    "E[1][1]"
   ]
  },
  {
   "cell_type": "code",
   "execution_count": 216,
   "metadata": {
    "collapsed": false
   },
   "outputs": [
    {
     "data": {
      "text/plain": [
       "19586.22993396183"
      ]
     },
     "execution_count": 216,
     "metadata": {},
     "output_type": "execute_result"
    }
   ],
   "source": [
    "63^2*pi^2/2"
   ]
  },
  {
   "cell_type": "code",
   "execution_count": 158,
   "metadata": {
    "collapsed": false
   },
   "outputs": [
    {
     "data": {
      "text/html": [],
      "text/plain": [
       "Interact.Options{:SelectionSlider,Int64}(Signal{Int64}(5, nactions=1),\"i\",5,\"5\",Interact.OptionDict(DataStructures.OrderedDict(\"1\"=>1,\"2\"=>2,\"3\"=>3,\"4\"=>4,\"5\"=>5,\"6\"=>6,\"7\"=>7,\"8\"=>8,\"9\"=>9,\"10\"=>10…),Dict(7=>\"7\",4=>\"4\",9=>\"9\",10=>\"10\",2=>\"2\",3=>\"3\",5=>\"5\",8=>\"8\",6=>\"6\",1=>\"1\"…)),Any[],Any[],true,\"horizontal\")"
      ]
     },
     "metadata": {},
     "output_type": "display_data"
    },
    {
     "data": {
      "text/html": [
       "<?xml version=\"1.0\" encoding=\"utf-8\"?>\n",
       "<svg xmlns=\"http://www.w3.org/2000/svg\" xmlns:xlink=\"http://www.w3.org/1999/xlink\" width=\"600\" height=\"400\" viewBox=\"0 0 600 400\">\n",
       "<defs>\n",
       "  <clipPath id=\"clip00\">\n",
       "    <rect x=\"0\" y=\"0\" width=\"600\" height=\"400\"/>\n",
       "  </clipPath>\n",
       "</defs>\n",
       "<polygon clip-path=\"url(#clip00)\" points=\"\n",
       "0,400 600,400 600,0 0,0 \n",
       "  \" fill=\"#ffffff\" fill-opacity=\"1\"/>\n",
       "<defs>\n",
       "  <clipPath id=\"clip01\">\n",
       "    <rect x=\"120\" y=\"0\" width=\"421\" height=\"400\"/>\n",
       "  </clipPath>\n",
       "</defs>\n",
       "<polygon clip-path=\"url(#clip00)\" points=\"\n",
       "39.4926,384.952 596.063,384.952 596.063,3.93701 39.4926,3.93701 \n",
       "  \" fill=\"#ffffff\" fill-opacity=\"1\"/>\n",
       "<defs>\n",
       "  <clipPath id=\"clip02\">\n",
       "    <rect x=\"39\" y=\"3\" width=\"557\" height=\"382\"/>\n",
       "  </clipPath>\n",
       "</defs>\n",
       "<polyline clip-path=\"url(#clip02)\" style=\"stroke:#00002d; stroke-width:0.8; stroke-opacity:0.5; fill:none\" stroke-dasharray=\"1, 2\" points=\"\n",
       "  39.4926,379.237 39.4926,9.65223 \n",
       "  \"/>\n",
       "<polyline clip-path=\"url(#clip02)\" style=\"stroke:#00002d; stroke-width:0.8; stroke-opacity:0.5; fill:none\" stroke-dasharray=\"1, 2\" points=\"\n",
       "  216.654,379.237 216.654,9.65223 \n",
       "  \"/>\n",
       "<polyline clip-path=\"url(#clip02)\" style=\"stroke:#00002d; stroke-width:0.8; stroke-opacity:0.5; fill:none\" stroke-dasharray=\"1, 2\" points=\"\n",
       "  393.816,379.237 393.816,9.65223 \n",
       "  \"/>\n",
       "<polyline clip-path=\"url(#clip02)\" style=\"stroke:#00002d; stroke-width:0.8; stroke-opacity:0.5; fill:none\" stroke-dasharray=\"1, 2\" points=\"\n",
       "  570.978,379.237 570.978,9.65223 \n",
       "  \"/>\n",
       "<polyline clip-path=\"url(#clip02)\" style=\"stroke:#00002d; stroke-width:0.8; stroke-opacity:0.5; fill:none\" stroke-dasharray=\"1, 2\" points=\"\n",
       "  47.8411,289.737 587.714,289.737 \n",
       "  \"/>\n",
       "<polyline clip-path=\"url(#clip02)\" style=\"stroke:#00002d; stroke-width:0.8; stroke-opacity:0.5; fill:none\" stroke-dasharray=\"1, 2\" points=\"\n",
       "  47.8411,194.468 587.714,194.468 \n",
       "  \"/>\n",
       "<polyline clip-path=\"url(#clip02)\" style=\"stroke:#00002d; stroke-width:0.8; stroke-opacity:0.5; fill:none\" stroke-dasharray=\"1, 2\" points=\"\n",
       "  47.8411,99.1996 587.714,99.1996 \n",
       "  \"/>\n",
       "<polyline clip-path=\"url(#clip02)\" style=\"stroke:#00002d; stroke-width:0.8; stroke-opacity:1; fill:none\" points=\"\n",
       "  39.4926,384.952 596.063,384.952 \n",
       "  \"/>\n",
       "<polyline clip-path=\"url(#clip02)\" style=\"stroke:#00002d; stroke-width:0.8; stroke-opacity:1; fill:none\" points=\"\n",
       "  39.4926,384.952 39.4926,379.237 \n",
       "  \"/>\n",
       "<polyline clip-path=\"url(#clip02)\" style=\"stroke:#00002d; stroke-width:0.8; stroke-opacity:1; fill:none\" points=\"\n",
       "  216.654,384.952 216.654,379.237 \n",
       "  \"/>\n",
       "<polyline clip-path=\"url(#clip02)\" style=\"stroke:#00002d; stroke-width:0.8; stroke-opacity:1; fill:none\" points=\"\n",
       "  393.816,384.952 393.816,379.237 \n",
       "  \"/>\n",
       "<polyline clip-path=\"url(#clip02)\" style=\"stroke:#00002d; stroke-width:0.8; stroke-opacity:1; fill:none\" points=\"\n",
       "  570.978,384.952 570.978,379.237 \n",
       "  \"/>\n",
       "<polyline clip-path=\"url(#clip02)\" style=\"stroke:#00002d; stroke-width:0.8; stroke-opacity:1; fill:none\" points=\"\n",
       "  39.4926,384.952 39.4926,3.93701 \n",
       "  \"/>\n",
       "<polyline clip-path=\"url(#clip02)\" style=\"stroke:#00002d; stroke-width:0.8; stroke-opacity:1; fill:none\" points=\"\n",
       "  39.4926,289.737 47.8411,289.737 \n",
       "  \"/>\n",
       "<polyline clip-path=\"url(#clip02)\" style=\"stroke:#00002d; stroke-width:0.8; stroke-opacity:1; fill:none\" points=\"\n",
       "  39.4926,194.468 47.8411,194.468 \n",
       "  \"/>\n",
       "<polyline clip-path=\"url(#clip02)\" style=\"stroke:#00002d; stroke-width:0.8; stroke-opacity:1; fill:none\" points=\"\n",
       "  39.4926,99.1996 47.8411,99.1996 \n",
       "  \"/>\n",
       "<g clip-path=\"url(#clip00)\">\n",
       "<text style=\"fill:#00002d; fill-opacity:1; font-family:Arial,Helvetica Neue,Helvetica,sans-serif; font-size:12; text-anchor:middle;\" transform=\"rotate(0, 39.4926, 396.952)\" x=\"39.4926\" y=\"396.952\">0</text>\n",
       "</g>\n",
       "<g clip-path=\"url(#clip00)\">\n",
       "<text style=\"fill:#00002d; fill-opacity:1; font-family:Arial,Helvetica Neue,Helvetica,sans-serif; font-size:12; text-anchor:middle;\" transform=\"rotate(0, 216.654, 396.952)\" x=\"216.654\" y=\"396.952\">1</text>\n",
       "</g>\n",
       "<g clip-path=\"url(#clip00)\">\n",
       "<text style=\"fill:#00002d; fill-opacity:1; font-family:Arial,Helvetica Neue,Helvetica,sans-serif; font-size:12; text-anchor:middle;\" transform=\"rotate(0, 393.816, 396.952)\" x=\"393.816\" y=\"396.952\">2</text>\n",
       "</g>\n",
       "<g clip-path=\"url(#clip00)\">\n",
       "<text style=\"fill:#00002d; fill-opacity:1; font-family:Arial,Helvetica Neue,Helvetica,sans-serif; font-size:12; text-anchor:middle;\" transform=\"rotate(0, 570.978, 396.952)\" x=\"570.978\" y=\"396.952\">3</text>\n",
       "</g>\n",
       "<g clip-path=\"url(#clip00)\">\n",
       "<text style=\"fill:#00002d; fill-opacity:1; font-family:Arial,Helvetica Neue,Helvetica,sans-serif; font-size:12; text-anchor:end;\" transform=\"rotate(0, 38.2926, 294.237)\" x=\"38.2926\" y=\"294.237\">-0.5</text>\n",
       "</g>\n",
       "<g clip-path=\"url(#clip00)\">\n",
       "<text style=\"fill:#00002d; fill-opacity:1; font-family:Arial,Helvetica Neue,Helvetica,sans-serif; font-size:12; text-anchor:end;\" transform=\"rotate(0, 38.2926, 198.968)\" x=\"38.2926\" y=\"198.968\">0.0</text>\n",
       "</g>\n",
       "<g clip-path=\"url(#clip00)\">\n",
       "<text style=\"fill:#00002d; fill-opacity:1; font-family:Arial,Helvetica Neue,Helvetica,sans-serif; font-size:12; text-anchor:end;\" transform=\"rotate(0, 38.2926, 103.7)\" x=\"38.2926\" y=\"103.7\">0.5</text>\n",
       "</g>\n",
       "<polyline clip-path=\"url(#clip02)\" style=\"stroke:#0099ff; stroke-width:0.8; stroke-opacity:1; fill:none\" points=\"\n",
       "  39.4926,194.468 42.2894,179.444 45.0862,164.513 47.8831,149.769 50.6799,135.303 53.4767,121.206 56.2736,107.564 59.0704,94.4644 61.8673,81.9871 64.6641,70.2104 \n",
       "  67.4609,59.2074 70.2578,49.0468 73.0546,39.7917 75.8514,31.4999 78.6483,24.223 81.4451,18.0063 84.2419,12.8884 87.0388,8.90136 89.8356,6.0699 92.6325,4.41167 \n",
       "  95.4293,3.93701 98.2261,4.64886 101.023,6.5428 103.82,9.60702 106.617,13.8225 109.413,19.1628 112.21,25.5949 115.007,33.0787 117.804,41.5674 120.601,51.0084 \n",
       "  123.398,61.3427 126.194,72.5061 128.991,84.429 131.788,97.0371 134.585,110.252 137.382,123.991 140.179,138.17 142.976,152.698 145.772,167.487 148.569,182.444 \n",
       "  151.366,197.476 154.163,212.489 156.96,227.39 159.757,242.086 162.553,256.485 165.35,270.498 168.147,284.038 170.944,297.02 173.741,309.363 176.538,320.991 \n",
       "  179.334,331.831 182.131,341.815 184.928,350.882 187.725,358.975 190.522,366.043 193.319,372.043 196.115,376.937 198.912,380.694 201.709,383.292 204.506,384.715 \n",
       "  207.303,384.952 210.1,384.003 212.896,381.874 215.693,378.578 218.49,374.135 221.287,368.573 224.084,361.927 226.881,354.239 229.677,345.555 232.474,335.931 \n",
       "  235.271,325.425 238.068,314.104 240.865,302.038 243.662,289.302 246.458,275.976 249.255,262.142 252.052,247.886 254.849,233.298 257.646,218.468 260.443,203.489 \n",
       "  263.239,188.453 266.036,173.455 268.833,158.588 271.63,143.944 274.427,129.615 277.224,115.69 280.02,102.255 282.817,89.3943 285.614,77.1882 288.411,65.7124 \n",
       "  291.208,55.0384 294.005,45.2327 296.802,36.3564 299.598,28.4647 302.395,21.6068 305.192,15.8253 307.989,11.1564 310.786,7.62896 313.583,5.26508 316.379,4.07945 \n",
       "  319.176,4.07945 321.973,5.26508 324.77,7.62896 327.567,11.1564 330.364,15.8253 333.16,21.6068 335.957,28.4647 338.754,36.3564 341.551,45.2327 344.348,55.0384 \n",
       "  347.145,65.7124 349.941,77.1882 352.738,89.3943 355.535,102.255 358.332,115.69 361.129,129.615 363.926,143.944 366.722,158.588 369.519,173.455 372.316,188.453 \n",
       "  375.113,203.489 377.91,218.468 380.707,233.298 383.503,247.886 386.3,262.142 389.097,275.976 391.894,289.302 394.691,302.038 397.488,314.104 400.284,325.425 \n",
       "  403.081,335.931 405.878,345.555 408.675,354.239 411.472,361.927 414.269,368.573 417.065,374.135 419.862,378.578 422.659,381.874 425.456,384.003 428.253,384.952 \n",
       "  431.05,384.715 433.846,383.292 436.643,380.694 439.44,376.937 442.237,372.043 445.034,366.043 447.831,358.975 450.628,350.882 453.424,341.815 456.221,331.831 \n",
       "  459.018,320.991 461.815,309.363 464.612,297.02 467.409,284.038 470.205,270.498 473.002,256.485 475.799,242.086 478.596,227.39 481.393,212.489 484.19,197.476 \n",
       "  486.986,182.444 489.783,167.487 492.58,152.698 495.377,138.17 498.174,123.991 500.971,110.252 503.767,97.0371 506.564,84.429 509.361,72.5061 512.158,61.3427 \n",
       "  514.955,51.0084 517.752,41.5674 520.548,33.0787 523.345,25.5949 526.142,19.1628 528.939,13.8225 531.736,9.60702 534.533,6.5428 537.329,4.64886 540.126,3.93701 \n",
       "  542.923,4.41167 545.72,6.0699 548.517,8.90136 551.314,12.8884 554.11,18.0063 556.907,24.223 559.704,31.4999 562.501,39.7917 565.298,49.0468 568.095,59.2074 \n",
       "  570.891,70.2104 573.688,81.9871 576.485,94.4644 579.282,107.564 582.079,121.206 584.876,135.303 587.672,149.769 590.469,164.513 593.266,179.444 596.063,194.468 \n",
       "  \n",
       "  \"/>\n",
       "<polygon clip-path=\"url(#clip00)\" points=\"\n",
       "505.547,55.057 578.063,55.057 578.063,24.817 505.547,24.817 \n",
       "  \" fill=\"#ffffff\" fill-opacity=\"1\"/>\n",
       "<polyline clip-path=\"url(#clip00)\" style=\"stroke:#00002d; stroke-width:0.8; stroke-opacity:1; fill:none\" points=\"\n",
       "  505.547,55.057 578.063,55.057 578.063,24.817 505.547,24.817 505.547,55.057 \n",
       "  \"/>\n",
       "<polyline clip-path=\"url(#clip00)\" style=\"stroke:#0099ff; stroke-width:0.8; stroke-opacity:1; fill:none\" points=\"\n",
       "  511.547,39.937 547.547,39.937 \n",
       "  \"/>\n",
       "<g clip-path=\"url(#clip00)\">\n",
       "<text style=\"fill:#00002d; fill-opacity:1; font-family:Arial,Helvetica Neue,Helvetica,sans-serif; font-size:12; text-anchor:start;\" transform=\"rotate(0, 553.547, 44.437)\" x=\"553.547\" y=\"44.437\">y1</text>\n",
       "</g>\n",
       "</svg>\n"
      ]
     },
     "execution_count": 158,
     "metadata": {
      "comm_id": "2ae263d5-7507-40bd-834f-09084572087e",
      "reactive": true
     },
     "output_type": "execute_result"
    }
   ],
   "source": [
    "@manipulate for i in 1:10\n",
    "    A=linspace(0,pi,200)\n",
    "    plot(A,[sin(i*a) for a in A])\n",
    "end"
   ]
  },
  {
   "cell_type": "markdown",
   "metadata": {},
   "source": [
    "**[2]** Aplica el método a la matriz de discretización de la partícula libre en una caja. ¿Cuál eigenvalor está calculando? ¿Qué ocurre?"
   ]
  },
  {
   "cell_type": "markdown",
   "metadata": {},
   "source": [
    "**[3]** (Opcional) Considera una matriz real y **simétrica**, $\\mathsf{S}$. Extiende el método de potencias para calcular *varios* eigenvalores y eigenvectores. [Pista: ¿cuáles propiedades especiales tienen las matrices simétricas, en términos de eigenvalores y eigenvectores?] "
   ]
  },
  {
   "cell_type": "markdown",
   "metadata": {},
   "source": [
    "## Facilidades de Julia para álgebra lineal numérica "
   ]
  },
  {
   "cell_type": "markdown",
   "metadata": {},
   "source": [
    "Resulta que Julia cuenta con facilidades muy completas para llevar a cabo tareas de álgebra lineal numérica. \n",
    "Provee un interfaz fácil de utilizar a librerías estándares como LAPACK.\n",
    "Para nuestros fines, dos de los más importantes son los siguientes.\n",
    "\n",
    "### Sistemas de ecuaciones lineales\n",
    "\n",
    "Para resolver el sistema de ecuaciones lineales $\\mathsf{A} \\cdot \\mathbf{x} = \\mathbf{b}$, utilizamos\n",
    "\n",
    "    A \\ b\n",
    "    \n",
    "[La notación rara surge así: `b / A` se puede considerar como $b \\, A^{-1}$. De la misma forma, `A \\ b` denote $A^{-1} \\, b$. Nótese que numéricamente **nunca** hay que calcular explícitamente la inversa de una matriz, sino más bien resolvemos directamente un sistema de ecuaciones].\n",
    "\n",
    "¿Qué algoritmo utiliza? Resulta que es inteligente: intenta escoger el algoritmo más adecuado para un problema dado."
   ]
  },
  {
   "cell_type": "markdown",
   "metadata": {},
   "source": [
    "### Problemas de eigenvalores y eigenvectores\n",
    "\n",
    "El cálculo de eigenvalores y eigenvectores en general es un área complicada. Julia provee, de nuevo, un interfaz sencillo a algoritmos ya probados. La sintaxis es\n",
    "\n",
    "    eig(A)\n",
    "    eigvals(A)\n",
    "    eigvecs(A)"
   ]
  },
  {
   "cell_type": "code",
   "execution_count": 188,
   "metadata": {
    "collapsed": false
   },
   "outputs": [
    {
     "name": "stderr",
     "output_type": "stream",
     "text": [
      "WARNING: Method definition energias2(Int64"
     ]
    },
    {
     "data": {
      "text/plain": [
       "energias2 (generic function with 1 method)"
      ]
     },
     "execution_count": 188,
     "metadata": {},
     "output_type": "execute_result"
    },
    {
     "name": "stderr",
     "output_type": "stream",
     "text": [
      ") in module Main at In[181]:2 overwritten at In[188]:2.\n",
      "WARNING: Method definition #energias2(Array{Any, 1}, Main.#energias2, Int64) in module Main overwritten.\n"
     ]
    }
   ],
   "source": [
    "function energias2(n::Int64;iter=1000,L::Float64=1.0,m::Float64=1.0,test=false)\n",
    "    M=schrodingermatrix(n,L=L,m=m)\n",
    "    V=eigvecs(M)\n",
    "    return V\n",
    "end"
   ]
  },
  {
   "cell_type": "code",
   "execution_count": 194,
   "metadata": {
    "collapsed": false
   },
   "outputs": [
    {
     "data": {
      "text/plain": [
       "1000×1000 Array{Float64,2}:\n",
       " 0.000140286   0.00028057   0.000420851  …   0.00028057    0.000140286\n",
       " 0.00028057    0.000561129  0.000841665     -0.000561129  -0.00028057 \n",
       " 0.000420851   0.000841665  0.0012624        0.000841665   0.000420851\n",
       " 0.000561129   0.00112217   0.00168303      -0.00112217   -0.000561129\n",
       " 0.0007014     0.00140263   0.00210351       0.00140263    0.0007014  \n",
       " 0.000841665   0.00168303   0.0025238    …  -0.00168303   -0.000841665\n",
       " 0.000981922   0.00196337   0.00294387       0.00196337    0.000981922\n",
       " 0.00112217    0.00224363   0.00336368      -0.00224363   -0.00112217 \n",
       " 0.0012624     0.0025238    0.00378319       0.0025238     0.0012624  \n",
       " 0.00140263    0.00280387   0.00420236      -0.00280387   -0.00140263 \n",
       " 0.00154284    0.00308384   0.00462116   …   0.00308384    0.00154284 \n",
       " 0.00168303    0.00336368   0.00503955      -0.00336368   -0.00168303 \n",
       " 0.00182321    0.00364338   0.0054575        0.00364338    0.00182321 \n",
       " ⋮                                       ⋱                            \n",
       " 0.00168303   -0.00336368   0.00503955      -0.00336368    0.00168303 \n",
       " 0.00154284   -0.00308384   0.00462116       0.00308384   -0.00154284 \n",
       " 0.00140263   -0.00280387   0.00420236   …  -0.00280387    0.00140263 \n",
       " 0.0012624    -0.0025238    0.00378319       0.0025238    -0.0012624  \n",
       " 0.00112217   -0.00224363   0.00336368      -0.00224363    0.00112217 \n",
       " 0.000981922  -0.00196337   0.00294387       0.00196337   -0.000981922\n",
       " 0.000841665  -0.00168303   0.0025238       -0.00168303    0.000841665\n",
       " 0.0007014    -0.00140263   0.00210351   …   0.00140263   -0.0007014  \n",
       " 0.000561129  -0.00112217   0.00168303      -0.00112217    0.000561129\n",
       " 0.000420851  -0.000841665  0.0012624        0.000841665  -0.000420851\n",
       " 0.00028057   -0.000561129  0.000841665     -0.000561129   0.00028057 \n",
       " 0.000140286  -0.00028057   0.000420851      0.00028057   -0.000140286"
      ]
     },
     "execution_count": 194,
     "metadata": {},
     "output_type": "execute_result"
    }
   ],
   "source": [
    "E=energias2(1000)"
   ]
  },
  {
   "cell_type": "code",
   "execution_count": 198,
   "metadata": {
    "collapsed": false
   },
   "outputs": [
    {
     "data": {
      "text/html": [],
      "text/plain": [
       "Interact.Options{:SelectionSlider,Int64}(Signal{Int64}(50, nactions=1),\"i\",50,\"50\",Interact.OptionDict(DataStructures.OrderedDict(\"1\"=>1,\"2\"=>2,\"3\"=>3,\"4\"=>4,\"5\"=>5,\"6\"=>6,\"7\"=>7,\"8\"=>8,\"9\"=>9,\"10\"=>10…),Dict(68=>\"68\",2=>\"2\",89=>\"89\",11=>\"11\",39=>\"39\",46=>\"46\",85=>\"85\",25=>\"25\",55=>\"55\",42=>\"42\"…)),Any[],Any[],true,\"horizontal\")"
      ]
     },
     "metadata": {},
     "output_type": "display_data"
    },
    {
     "data": {
      "text/html": [
       "<?xml version=\"1.0\" encoding=\"utf-8\"?>\n",
       "<svg xmlns=\"http://www.w3.org/2000/svg\" xmlns:xlink=\"http://www.w3.org/1999/xlink\" width=\"600\" height=\"400\" viewBox=\"0 0 600 400\">\n",
       "<defs>\n",
       "  <clipPath id=\"clip00\">\n",
       "    <rect x=\"0\" y=\"0\" width=\"600\" height=\"400\"/>\n",
       "  </clipPath>\n",
       "</defs>\n",
       "<polygon clip-path=\"url(#clip00)\" points=\"\n",
       "0,400 600,400 600,0 0,0 \n",
       "  \" fill=\"#ffffff\" fill-opacity=\"1\"/>\n",
       "<defs>\n",
       "  <clipPath id=\"clip01\">\n",
       "    <rect x=\"120\" y=\"0\" width=\"421\" height=\"400\"/>\n",
       "  </clipPath>\n",
       "</defs>\n",
       "<polygon clip-path=\"url(#clip00)\" points=\"\n",
       "57.2703,384.952 596.063,384.952 596.063,3.93701 57.2703,3.93701 \n",
       "  \" fill=\"#ffffff\" fill-opacity=\"1\"/>\n",
       "<defs>\n",
       "  <clipPath id=\"clip02\">\n",
       "    <rect x=\"57\" y=\"3\" width=\"539\" height=\"382\"/>\n",
       "  </clipPath>\n",
       "</defs>\n",
       "<polyline clip-path=\"url(#clip02)\" style=\"stroke:#00002d; stroke-width:0.8; stroke-opacity:0.5; fill:none\" stroke-dasharray=\"1, 2\" points=\"\n",
       "  191.564,379.237 191.564,9.65223 \n",
       "  \"/>\n",
       "<polyline clip-path=\"url(#clip02)\" style=\"stroke:#00002d; stroke-width:0.8; stroke-opacity:0.5; fill:none\" stroke-dasharray=\"1, 2\" points=\"\n",
       "  326.397,379.237 326.397,9.65223 \n",
       "  \"/>\n",
       "<polyline clip-path=\"url(#clip02)\" style=\"stroke:#00002d; stroke-width:0.8; stroke-opacity:0.5; fill:none\" stroke-dasharray=\"1, 2\" points=\"\n",
       "  461.23,379.237 461.23,9.65223 \n",
       "  \"/>\n",
       "<polyline clip-path=\"url(#clip02)\" style=\"stroke:#00002d; stroke-width:0.8; stroke-opacity:0.5; fill:none\" stroke-dasharray=\"1, 2\" points=\"\n",
       "  596.063,379.237 596.063,9.65223 \n",
       "  \"/>\n",
       "<polyline clip-path=\"url(#clip02)\" style=\"stroke:#00002d; stroke-width:0.8; stroke-opacity:0.5; fill:none\" stroke-dasharray=\"1, 2\" points=\"\n",
       "  65.3522,384.952 587.981,384.952 \n",
       "  \"/>\n",
       "<polyline clip-path=\"url(#clip02)\" style=\"stroke:#00002d; stroke-width:0.8; stroke-opacity:0.5; fill:none\" stroke-dasharray=\"1, 2\" points=\"\n",
       "  65.3522,289.698 587.981,289.698 \n",
       "  \"/>\n",
       "<polyline clip-path=\"url(#clip02)\" style=\"stroke:#00002d; stroke-width:0.8; stroke-opacity:0.5; fill:none\" stroke-dasharray=\"1, 2\" points=\"\n",
       "  65.3522,194.444 587.981,194.444 \n",
       "  \"/>\n",
       "<polyline clip-path=\"url(#clip02)\" style=\"stroke:#00002d; stroke-width:0.8; stroke-opacity:0.5; fill:none\" stroke-dasharray=\"1, 2\" points=\"\n",
       "  65.3522,99.1907 587.981,99.1907 \n",
       "  \"/>\n",
       "<polyline clip-path=\"url(#clip02)\" style=\"stroke:#00002d; stroke-width:0.8; stroke-opacity:0.5; fill:none\" stroke-dasharray=\"1, 2\" points=\"\n",
       "  65.3522,3.93701 587.981,3.93701 \n",
       "  \"/>\n",
       "<polyline clip-path=\"url(#clip02)\" style=\"stroke:#00002d; stroke-width:0.8; stroke-opacity:1; fill:none\" points=\"\n",
       "  57.2703,384.952 596.063,384.952 \n",
       "  \"/>\n",
       "<polyline clip-path=\"url(#clip02)\" style=\"stroke:#00002d; stroke-width:0.8; stroke-opacity:1; fill:none\" points=\"\n",
       "  191.564,384.952 191.564,379.237 \n",
       "  \"/>\n",
       "<polyline clip-path=\"url(#clip02)\" style=\"stroke:#00002d; stroke-width:0.8; stroke-opacity:1; fill:none\" points=\"\n",
       "  326.397,384.952 326.397,379.237 \n",
       "  \"/>\n",
       "<polyline clip-path=\"url(#clip02)\" style=\"stroke:#00002d; stroke-width:0.8; stroke-opacity:1; fill:none\" points=\"\n",
       "  461.23,384.952 461.23,379.237 \n",
       "  \"/>\n",
       "<polyline clip-path=\"url(#clip02)\" style=\"stroke:#00002d; stroke-width:0.8; stroke-opacity:1; fill:none\" points=\"\n",
       "  596.063,384.952 596.063,379.237 \n",
       "  \"/>\n",
       "<polyline clip-path=\"url(#clip02)\" style=\"stroke:#00002d; stroke-width:0.8; stroke-opacity:1; fill:none\" points=\"\n",
       "  57.2703,384.952 57.2703,3.93701 \n",
       "  \"/>\n",
       "<polyline clip-path=\"url(#clip02)\" style=\"stroke:#00002d; stroke-width:0.8; stroke-opacity:1; fill:none\" points=\"\n",
       "  57.2703,384.952 65.3522,384.952 \n",
       "  \"/>\n",
       "<polyline clip-path=\"url(#clip02)\" style=\"stroke:#00002d; stroke-width:0.8; stroke-opacity:1; fill:none\" points=\"\n",
       "  57.2703,289.698 65.3522,289.698 \n",
       "  \"/>\n",
       "<polyline clip-path=\"url(#clip02)\" style=\"stroke:#00002d; stroke-width:0.8; stroke-opacity:1; fill:none\" points=\"\n",
       "  57.2703,194.444 65.3522,194.444 \n",
       "  \"/>\n",
       "<polyline clip-path=\"url(#clip02)\" style=\"stroke:#00002d; stroke-width:0.8; stroke-opacity:1; fill:none\" points=\"\n",
       "  57.2703,99.1907 65.3522,99.1907 \n",
       "  \"/>\n",
       "<polyline clip-path=\"url(#clip02)\" style=\"stroke:#00002d; stroke-width:0.8; stroke-opacity:1; fill:none\" points=\"\n",
       "  57.2703,3.93701 65.3522,3.93701 \n",
       "  \"/>\n",
       "<g clip-path=\"url(#clip00)\">\n",
       "<text style=\"fill:#00002d; fill-opacity:1; font-family:Arial,Helvetica Neue,Helvetica,sans-serif; font-size:12; text-anchor:middle;\" transform=\"rotate(0, 191.564, 396.952)\" x=\"191.564\" y=\"396.952\">250</text>\n",
       "</g>\n",
       "<g clip-path=\"url(#clip00)\">\n",
       "<text style=\"fill:#00002d; fill-opacity:1; font-family:Arial,Helvetica Neue,Helvetica,sans-serif; font-size:12; text-anchor:middle;\" transform=\"rotate(0, 326.397, 396.952)\" x=\"326.397\" y=\"396.952\">500</text>\n",
       "</g>\n",
       "<g clip-path=\"url(#clip00)\">\n",
       "<text style=\"fill:#00002d; fill-opacity:1; font-family:Arial,Helvetica Neue,Helvetica,sans-serif; font-size:12; text-anchor:middle;\" transform=\"rotate(0, 461.23, 396.952)\" x=\"461.23\" y=\"396.952\">750</text>\n",
       "</g>\n",
       "<g clip-path=\"url(#clip00)\">\n",
       "<text style=\"fill:#00002d; fill-opacity:1; font-family:Arial,Helvetica Neue,Helvetica,sans-serif; font-size:12; text-anchor:middle;\" transform=\"rotate(0, 596.063, 396.952)\" x=\"596.063\" y=\"396.952\">1000</text>\n",
       "</g>\n",
       "<g clip-path=\"url(#clip00)\">\n",
       "<text style=\"fill:#00002d; fill-opacity:1; font-family:Arial,Helvetica Neue,Helvetica,sans-serif; font-size:12; text-anchor:end;\" transform=\"rotate(0, 56.0703, 389.452)\" x=\"56.0703\" y=\"389.452\">-0.050</text>\n",
       "</g>\n",
       "<g clip-path=\"url(#clip00)\">\n",
       "<text style=\"fill:#00002d; fill-opacity:1; font-family:Arial,Helvetica Neue,Helvetica,sans-serif; font-size:12; text-anchor:end;\" transform=\"rotate(0, 56.0703, 294.198)\" x=\"56.0703\" y=\"294.198\">-0.025</text>\n",
       "</g>\n",
       "<g clip-path=\"url(#clip00)\">\n",
       "<text style=\"fill:#00002d; fill-opacity:1; font-family:Arial,Helvetica Neue,Helvetica,sans-serif; font-size:12; text-anchor:end;\" transform=\"rotate(0, 56.0703, 198.944)\" x=\"56.0703\" y=\"198.944\">0.000</text>\n",
       "</g>\n",
       "<g clip-path=\"url(#clip00)\">\n",
       "<text style=\"fill:#00002d; fill-opacity:1; font-family:Arial,Helvetica Neue,Helvetica,sans-serif; font-size:12; text-anchor:end;\" transform=\"rotate(0, 56.0703, 103.691)\" x=\"56.0703\" y=\"103.691\">0.025</text>\n",
       "</g>\n",
       "<g clip-path=\"url(#clip00)\">\n",
       "<text style=\"fill:#00002d; fill-opacity:1; font-family:Arial,Helvetica Neue,Helvetica,sans-serif; font-size:12; text-anchor:end;\" transform=\"rotate(0, 56.0703, 8.43701)\" x=\"56.0703\" y=\"8.43701\">0.050</text>\n",
       "</g>\n",
       "<polyline clip-path=\"url(#clip02)\" style=\"stroke:#0099ff; stroke-width:0.8; stroke-opacity:1; fill:none\" points=\"\n",
       "  57.2703,167.829 57.8097,141.867 58.349,117.197 58.8883,94.4253 59.4277,74.1117 59.967,56.7552 60.5063,42.7822 61.0457,32.5363 61.585,26.2691 62.1243,24.1348 \n",
       "  62.6637,26.1856 63.203,32.3713 63.7423,42.5398 64.2817,56.4413 64.821,73.734 65.3603,93.9932 65.8997,116.721 66.439,141.358 66.9783,167.301 67.5176,193.91 \n",
       "  68.057,220.532 68.5963,246.514 69.1356,271.215 69.675,294.03 70.2143,314.398 70.7536,331.818 71.293,345.863 71.8323,356.186 72.3716,362.535 72.911,364.752 \n",
       "  73.4503,362.785 73.9896,356.681 74.529,346.59 75.0683,332.76 75.6076,315.531 76.147,295.327 76.6863,272.643 77.2256,248.038 77.765,222.116 78.3043,195.513 \n",
       "  78.8436,168.885 79.383,142.884 79.9223,118.151 80.4616,95.2925 81.0009,74.8706 81.5403,57.387 82.0796,43.2716 82.6189,32.8711 83.1583,26.4412 83.6976,24.1398 \n",
       "  84.2369,26.0235 84.7763,32.0461 85.3156,42.0594 85.8549,55.8175 86.3943,72.9823 86.9336,93.1319 87.4729,115.771 88.0123,140.344 88.5516,166.246 89.0909,192.841 \n",
       "  89.6303,219.475 90.1696,245.495 90.7089,270.26 91.2483,293.161 91.7876,313.637 92.3269,331.184 92.8663,345.37 93.4056,355.848 93.9449,362.359 94.4842,364.744 \n",
       "  95.0236,362.944 95.5629,357.003 96.1022,347.067 96.6416,333.381 97.1809,316.281 97.7202,296.186 98.2596,273.591 98.7989,249.052 99.3382,223.17 99.8776,196.582 \n",
       "  100.417,169.942 100.956,143.904 101.496,119.108 102.035,96.1636 102.574,75.6341 103.114,58.0243 103.653,43.7669 104.192,33.2123 104.732,26.6198 105.271,24.1515 \n",
       "  105.81,25.8681 106.35,31.7272 106.889,41.585 107.428,55.1993 107.968,72.2353 108.507,92.2746 109.046,114.825 109.586,139.331 110.125,165.192 110.664,191.772 \n",
       "  111.204,218.418 111.743,244.474 112.282,269.301 112.822,292.288 113.361,312.871 113.9,330.544 114.44,344.872 114.979,355.504 115.518,362.177 116.058,364.729 \n",
       "  116.597,363.096 117.136,357.319 117.676,347.539 118.215,333.997 118.754,317.025 119.294,297.041 119.833,274.536 120.372,250.063 120.912,224.223 121.451,197.651 \n",
       "  121.99,171.001 122.53,144.926 123.069,120.069 123.608,97.0386 124.148,76.4024 124.687,58.667 125.226,44.2682 125.766,33.5598 126.305,26.8051 126.844,24.17 \n",
       "  127.383,25.7192 127.923,31.4148 128.462,41.1167 129.001,54.5865 129.541,71.4932 130.08,91.4213 130.619,113.881 131.159,138.321 131.698,164.14 132.237,190.703 \n",
       "  132.777,217.359 133.316,243.451 133.855,268.339 134.395,291.411 134.934,312.101 135.473,329.899 136.013,344.368 136.552,355.153 137.091,361.989 137.631,364.707 \n",
       "  138.17,363.242 138.709,357.628 139.249,348.004 139.788,334.607 140.327,317.765 140.867,297.893 141.406,275.478 141.945,251.072 142.485,225.275 143.024,198.72 \n",
       "  143.563,172.06 144.103,145.95 144.642,121.032 145.181,97.9175 145.721,77.1753 146.26,59.315 146.799,44.7753 147.339,33.9137 147.878,26.997 148.417,24.1951 \n",
       "  148.957,25.5771 149.496,31.1088 150.035,40.6544 150.575,53.9792 151.114,70.7559 151.653,90.5721 152.193,112.941 152.732,137.313 153.271,163.088 153.811,189.634 \n",
       "  154.35,216.299 154.889,242.426 155.429,267.375 155.968,290.531 156.507,311.325 157.047,329.248 157.586,343.858 158.125,354.796 158.665,361.794 159.204,364.679 \n",
       "  159.743,363.38 160.283,357.931 160.822,348.463 161.361,335.211 161.901,318.5 162.44,298.74 162.979,276.417 163.519,252.08 164.058,226.326 164.597,199.789 \n",
       "  165.137,173.12 165.676,146.976 166.215,121.998 166.755,98.8001 167.294,77.9528 167.833,59.9683 168.373,45.2884 168.912,34.2739 169.451,27.1954 169.991,24.227 \n",
       "  170.53,25.4416 171.069,30.8092 171.609,40.1981 172.148,53.3775 172.687,70.0234 173.227,89.727 173.766,112.004 174.305,136.307 174.845,162.038 175.384,188.566 \n",
       "  175.923,215.238 176.463,241.4 177.002,266.407 177.541,289.646 178.081,310.546 178.62,328.592 179.159,343.342 179.699,354.433 180.238,361.592 180.777,364.643 \n",
       "  181.317,363.513 181.856,358.227 182.395,348.917 182.935,335.81 183.474,319.23 184.013,299.583 184.553,277.352 185.092,253.084 185.631,227.375 186.171,200.857 \n",
       "  186.71,174.181 187.249,148.003 187.789,122.967 188.328,99.6865 188.867,78.735 189.407,60.6269 189.946,45.8073 190.485,34.6404 191.025,27.4005 191.564,24.2656 \n",
       "  192.103,25.3127 192.643,30.5161 193.182,39.7479 193.721,52.7813 194.261,69.2959 194.8,88.886 195.339,111.07 195.879,135.303 196.418,160.989 196.957,187.498 \n",
       "  197.497,214.177 198.036,240.371 198.575,265.437 199.115,288.758 199.654,309.761 200.193,327.931 200.733,342.82 201.272,354.063 201.811,361.383 202.351,364.601 \n",
       "  202.89,363.638 203.429,358.517 203.969,349.364 204.508,336.404 205.047,319.955 205.587,300.422 206.126,278.284 206.665,254.087 207.205,228.424 207.744,201.925 \n",
       "  208.283,175.243 208.823,149.033 209.362,123.938 209.901,100.577 210.441,79.5216 210.98,61.2908 211.519,46.3321 212.059,35.0132 212.598,27.6121 213.137,24.3109 \n",
       "  213.677,25.1905 214.216,30.2294 214.755,39.3038 215.295,52.1907 215.834,68.5733 216.373,88.0491 216.913,110.14 217.452,134.302 217.991,159.942 218.531,186.43 \n",
       "  219.07,213.115 219.609,239.341 220.149,264.464 220.688,287.866 221.227,308.972 221.767,327.264 222.306,342.292 222.845,353.687 223.385,361.168 223.924,364.553 \n",
       "  224.463,363.757 225.003,358.8 225.542,349.805 226.081,336.991 226.621,320.675 227.16,301.257 227.699,279.213 228.239,255.087 228.778,229.47 229.317,202.993 \n",
       "  229.857,176.306 230.396,150.064 230.935,124.913 231.475,101.47 232.014,80.3129 232.553,61.9599 233.093,46.8627 233.632,35.3922 234.171,27.8303 234.711,24.3629 \n",
       "  235.25,25.075 235.789,29.9492 236.329,38.8659 236.868,51.6057 237.407,67.8557 237.947,87.2165 238.486,109.212 239.025,133.303 239.565,158.896 240.104,185.362 \n",
       "  240.643,212.052 241.183,238.309 241.722,263.488 242.261,286.97 242.801,308.179 243.34,326.592 243.879,341.759 244.419,353.305 244.958,360.947 245.497,364.498 \n",
       "  246.037,363.869 246.576,359.077 247.115,350.24 247.655,337.574 248.194,321.39 248.733,302.087 249.273,280.139 249.812,256.085 250.351,230.516 250.891,204.061 \n",
       "  251.43,177.369 251.969,151.097 252.509,125.89 253.048,102.368 253.587,81.1086 254.127,62.6343 254.666,47.3992 255.205,35.7776 255.745,28.0551 256.284,24.4215 \n",
       "  256.823,24.9661 257.363,29.6755 257.902,38.434 258.441,51.0263 258.981,67.143 259.52,86.3881 260.059,108.289 260.598,132.306 261.138,157.851 261.677,184.295 \n",
       "  262.216,210.988 262.756,237.275 263.295,262.509 263.834,286.071 264.374,307.381 264.913,325.915 265.452,341.219 265.992,352.916 266.531,360.719 267.07,364.436 \n",
       "  267.61,363.975 268.149,359.348 268.688,350.668 269.228,338.15 269.767,322.1 270.306,302.913 270.846,281.061 271.385,257.08 271.924,231.56 272.464,205.128 \n",
       "  273.003,178.433 273.542,152.132 274.082,126.87 274.621,103.269 275.16,81.9087 275.7,63.3139 276.239,47.9414 276.778,36.1692 277.318,28.2864 277.857,24.4869 \n",
       "  278.396,24.864 278.936,29.4083 279.475,38.0083 280.014,50.4526 280.554,66.4354 281.093,85.5639 281.632,107.368 282.172,131.312 282.711,156.808 283.25,183.228 \n",
       "  283.79,209.924 284.329,236.239 284.868,261.528 285.408,285.168 285.947,306.578 286.486,325.233 287.026,340.674 287.565,352.522 288.104,360.484 288.644,364.367 \n",
       "  289.183,364.074 289.722,359.612 290.262,351.091 290.801,338.721 291.34,322.805 291.88,303.735 292.419,281.98 292.958,258.073 293.498,232.602 294.037,206.194 \n",
       "  294.576,179.497 295.116,153.168 295.655,127.853 296.194,104.174 296.734,82.7133 297.273,63.9986 297.812,48.4894 298.352,36.567 298.891,28.5243 299.43,24.559 \n",
       "  299.97,24.7685 300.509,29.1476 301.048,37.5888 301.588,49.8846 302.127,65.7328 302.666,84.744 303.206,106.451 303.745,130.32 304.284,155.766 304.824,182.161 \n",
       "  305.363,208.859 305.902,235.202 306.442,260.544 306.981,284.261 307.52,305.772 308.06,324.546 308.599,340.123 309.138,352.121 309.678,360.243 310.217,364.291 \n",
       "  310.756,364.166 311.296,359.869 311.835,351.508 312.374,339.286 312.914,323.505 313.453,304.553 313.992,282.895 314.532,259.063 315.071,233.644 315.61,207.261 \n",
       "  316.15,180.563 316.689,154.206 317.228,128.838 317.768,105.082 318.307,83.5223 318.846,64.6884 319.386,49.0432 319.925,36.9711 320.464,28.7687 321.004,24.6378 \n",
       "  321.543,24.6797 322.082,28.8934 322.622,37.1754 323.161,49.3222 323.7,65.0353 324.24,83.9285 324.779,105.538 325.318,129.331 325.858,154.725 326.397,181.095 \n",
       "  326.936,207.793 327.476,234.164 328.015,259.557 328.554,283.351 329.094,304.96 329.633,323.854 330.172,339.567 330.712,351.713 331.251,359.995 331.79,364.209 \n",
       "  332.33,364.251 332.869,360.12 333.408,351.918 333.948,339.846 334.487,324.2 335.026,305.367 335.566,283.807 336.105,260.051 336.644,234.683 337.184,208.326 \n",
       "  337.723,181.628 338.262,155.245 338.802,129.826 339.341,105.994 339.88,84.3357 340.42,65.3834 340.959,49.6027 341.498,37.3813 342.038,29.0197 342.577,24.7232 \n",
       "  343.116,24.5975 343.656,28.6457 344.195,36.7683 344.734,48.7656 345.274,64.3429 345.813,83.1173 346.352,104.627 346.892,128.345 347.431,153.687 347.97,180.03 \n",
       "  348.51,206.727 349.049,233.123 349.588,258.568 350.128,282.438 350.667,304.145 351.206,323.156 351.746,339.004 352.285,351.3 352.824,359.741 353.364,364.12 \n",
       "  353.903,364.33 354.442,360.365 354.982,352.322 355.521,340.399 356.06,324.89 356.6,306.176 357.139,284.715 357.678,261.036 358.218,235.721 358.757,209.391 \n",
       "  359.296,182.695 359.836,156.286 360.375,130.816 360.914,106.909 361.454,85.1534 361.993,66.0835 362.532,50.1679 363.072,37.7978 363.611,29.2771 364.15,24.8154 \n",
       "  364.69,24.5221 365.229,28.4046 365.768,36.3673 366.308,48.2147 366.847,63.6556 367.386,82.3105 367.926,103.721 368.465,127.361 369.004,152.649 369.544,178.965 \n",
       "  370.083,205.661 370.622,232.081 371.162,257.577 371.701,281.521 372.24,303.325 372.78,322.453 373.319,338.436 373.858,350.881 374.398,359.481 374.937,364.025 \n",
       "  375.476,364.402 376.016,360.602 376.555,352.72 377.094,340.947 377.634,325.575 378.173,306.98 378.712,285.62 379.252,262.019 379.791,236.757 380.33,210.456 \n",
       "  380.87,183.761 381.409,157.329 381.948,131.809 382.488,107.828 383.027,85.9755 383.566,66.7886 384.106,50.7388 384.645,38.2204 385.184,29.5411 385.724,24.9142 \n",
       "  386.263,24.4534 386.802,28.17 387.342,35.9726 387.881,47.6696 388.42,62.9734 388.96,81.5081 389.499,102.818 390.038,126.38 390.578,151.614 391.117,177.901 \n",
       "  391.656,204.594 392.196,231.038 392.735,256.583 393.274,280.6 393.813,302.501 394.353,321.746 394.892,337.863 395.431,350.455 395.971,359.213 396.51,363.923 \n",
       "  397.049,364.467 397.589,360.834 398.128,353.111 398.667,341.49 399.207,326.255 399.746,307.78 400.285,286.521 400.825,262.999 401.364,237.792 401.903,211.52 \n",
       "  402.443,184.828 402.982,158.373 403.521,132.804 404.061,108.75 404.6,86.8018 405.139,67.4987 405.679,51.3153 406.218,38.6492 406.757,29.8116 407.297,25.0197 \n",
       "  407.836,24.3914 408.375,27.9419 408.915,35.5841 409.454,47.1302 409.993,62.2965 410.533,80.7101 411.072,101.919 411.611,125.401 412.151,150.58 412.69,176.837 \n",
       "  413.229,203.527 413.769,229.993 414.308,255.586 414.847,279.677 415.387,301.672 415.926,321.033 416.465,337.283 417.005,350.023 417.544,358.94 418.083,363.814 \n",
       "  418.623,364.526 419.162,361.059 419.701,353.497 420.241,342.026 420.78,326.929 421.319,308.576 421.859,287.418 422.398,263.976 422.937,238.825 423.477,212.583 \n",
       "  424.016,185.896 424.555,159.419 425.095,133.802 425.634,109.676 426.173,87.6323 426.713,68.2139 427.252,51.8975 427.791,39.0841 428.331,30.0885 428.87,25.1319 \n",
       "  429.409,24.336 429.949,27.7204 430.488,35.2019 431.027,46.5967 431.567,61.6247 432.106,79.9167 432.645,101.023 433.185,124.425 433.724,149.548 434.263,175.774 \n",
       "  434.803,202.459 435.342,228.947 435.881,254.587 436.421,278.749 436.96,300.84 437.499,320.316 438.039,336.698 438.578,349.585 439.117,358.659 439.657,363.698 \n",
       "  440.196,364.578 440.735,361.277 441.275,353.876 441.814,342.557 442.353,327.598 442.893,309.367 443.432,288.312 443.971,264.951 444.511,239.856 445.05,213.646 \n",
       "  445.589,186.964 446.129,160.465 446.668,134.802 447.207,110.604 447.747,88.467 448.286,68.934 448.825,52.4853 449.365,39.5251 449.904,30.372 450.443,25.2508 \n",
       "  450.983,24.2874 451.522,27.5055 452.061,34.826 452.601,46.069 453.14,60.9582 453.679,79.1277 454.219,100.131 454.758,123.452 455.297,148.518 455.837,174.712 \n",
       "  456.376,201.391 456.915,227.9 457.455,253.586 457.994,277.819 458.533,300.003 459.073,319.593 459.612,336.108 460.151,349.141 460.691,358.373 461.23,363.576 \n",
       "  461.769,364.623 462.309,361.488 462.848,354.249 463.387,343.082 463.927,328.262 464.466,310.154 465.005,289.202 465.545,265.922 466.084,240.886 466.623,214.708 \n",
       "  467.163,188.032 467.702,161.514 468.241,135.805 468.781,111.537 469.32,89.306 469.859,69.6591 470.399,53.0787 470.938,39.9722 471.477,30.6619 472.017,25.3763 \n",
       "  472.556,24.2455 473.095,27.2971 473.635,34.4563 474.174,45.5471 474.713,60.2969 475.253,78.3433 475.792,99.2428 476.331,122.482 476.871,147.489 477.41,173.651 \n",
       "  477.949,200.323 478.489,226.851 479.028,252.582 479.567,276.885 480.107,299.162 480.646,318.865 481.185,335.511 481.725,348.691 482.264,358.08 482.803,363.447 \n",
       "  483.343,364.662 483.882,361.693 484.421,354.615 484.961,343.601 485.5,328.921 486.039,310.936 486.579,290.089 487.118,266.891 487.657,241.913 488.197,215.769 \n",
       "  488.736,189.1 489.275,162.563 489.815,136.809 490.354,112.472 490.893,90.149 491.433,70.389 491.972,53.6776 492.511,40.4255 493.051,30.9582 493.59,25.5085 \n",
       "  494.129,24.2102 494.669,27.0954 495.208,34.093 495.747,45.0311 496.287,59.641 496.826,77.5635 497.365,98.3583 497.905,121.514 498.444,146.463 498.983,172.59 \n",
       "  499.523,199.254 500.062,225.801 500.601,251.576 501.141,275.948 501.68,298.317 502.219,318.133 502.759,334.91 503.298,348.235 503.837,357.78 504.377,363.312 \n",
       "  504.916,364.694 505.455,361.892 505.995,354.975 506.534,344.114 507.073,329.574 507.613,311.714 508.152,290.971 508.691,267.857 509.231,242.939 509.77,216.829 \n",
       "  510.309,190.169 510.849,163.614 511.388,137.816 511.927,113.411 512.467,90.9962 513.006,71.1239 513.545,54.2821 514.085,40.8848 514.624,31.261 515.163,25.6473 \n",
       "  515.703,24.1817 516.242,26.9002 516.781,33.736 517.321,44.521 517.86,58.9903 518.399,76.7883 518.939,97.4776 519.478,120.55 520.017,145.438 520.557,171.53 \n",
       "  521.096,198.186 521.635,224.749 522.175,250.568 522.714,275.008 523.253,297.468 523.793,317.396 524.332,334.302 524.871,347.772 525.411,357.474 525.95,363.17 \n",
       "  526.489,364.719 527.028,362.084 527.568,355.329 528.107,344.621 528.646,330.222 529.186,312.486 529.725,291.85 530.264,268.82 530.804,243.963 531.343,217.888 \n",
       "  531.882,191.238 532.422,164.666 532.961,138.826 533.5,114.352 534.04,91.8474 534.579,71.8636 535.118,54.8922 535.658,41.3501 536.197,31.5702 536.736,25.7928 \n",
       "  537.276,24.1599 537.815,26.7116 538.354,33.3853 538.894,44.0168 539.433,58.345 539.972,76.0177 540.512,96.6007 541.051,119.588 541.59,144.415 542.13,170.471 \n",
       "  542.669,197.117 543.208,223.697 543.748,249.558 544.287,274.064 544.826,296.614 545.366,316.654 545.905,333.69 546.444,347.304 546.984,357.162 547.523,363.021 \n",
       "  548.062,364.737 548.602,362.269 549.141,355.677 549.68,345.122 550.22,330.865 550.759,313.255 551.298,292.725 551.838,269.781 552.377,244.985 552.916,218.947 \n",
       "  553.456,192.306 553.995,165.719 554.534,139.837 555.074,115.297 555.613,92.7027 556.152,72.6082 556.692,55.5077 557.231,41.8215 557.77,31.8858 558.31,25.945 \n",
       "  558.849,24.1448 559.388,26.5297 559.928,33.0409 560.467,43.5185 561.006,57.705 561.546,75.2518 562.085,95.7276 562.624,118.629 563.164,143.394 563.703,169.413 \n",
       "  564.242,196.048 564.782,222.643 565.321,248.545 565.86,273.118 566.4,295.757 566.939,315.907 567.478,333.071 568.018,346.829 568.557,356.843 569.096,362.865 \n",
       "  569.636,364.749 570.175,362.448 570.714,356.018 571.254,345.617 571.793,331.502 572.332,314.018 572.872,293.596 573.411,270.738 573.95,246.004 574.49,220.004 \n",
       "  575.029,193.375 575.568,166.773 576.108,140.851 576.647,116.246 577.186,93.562 577.726,73.3576 578.265,56.1287 578.804,42.2989 579.344,32.2079 579.883,26.1037 \n",
       "  580.422,24.1364 580.962,26.3543 581.501,32.7029 582.04,43.0262 582.58,57.0704 583.119,74.4905 583.658,94.8584 584.198,117.674 584.737,142.375 585.276,168.357 \n",
       "  585.816,194.979 586.355,221.588 586.894,247.53 587.434,272.168 587.973,294.896 588.512,315.155 589.052,332.448 589.591,346.349 590.13,356.518 590.67,362.703 \n",
       "  591.209,364.754 591.748,362.62 592.288,356.353 592.827,346.107 593.366,332.134 593.906,314.777 594.445,294.464 594.984,271.692 595.524,247.022 596.063,221.06 \n",
       "  \n",
       "  \"/>\n",
       "<polygon clip-path=\"url(#clip00)\" points=\"\n",
       "505.547,55.057 578.063,55.057 578.063,24.817 505.547,24.817 \n",
       "  \" fill=\"#ffffff\" fill-opacity=\"1\"/>\n",
       "<polyline clip-path=\"url(#clip00)\" style=\"stroke:#00002d; stroke-width:0.8; stroke-opacity:1; fill:none\" points=\"\n",
       "  505.547,55.057 578.063,55.057 578.063,24.817 505.547,24.817 505.547,55.057 \n",
       "  \"/>\n",
       "<polyline clip-path=\"url(#clip00)\" style=\"stroke:#0099ff; stroke-width:0.8; stroke-opacity:1; fill:none\" points=\"\n",
       "  511.547,39.937 547.547,39.937 \n",
       "  \"/>\n",
       "<g clip-path=\"url(#clip00)\">\n",
       "<text style=\"fill:#00002d; fill-opacity:1; font-family:Arial,Helvetica Neue,Helvetica,sans-serif; font-size:12; text-anchor:start;\" transform=\"rotate(0, 553.547, 44.437)\" x=\"553.547\" y=\"44.437\">y1</text>\n",
       "</g>\n",
       "</svg>\n"
      ]
     },
     "execution_count": 198,
     "metadata": {
      "comm_id": "942a034d-e791-4b3b-8f48-21b1828e903b",
      "reactive": true
     },
     "output_type": "execute_result"
    }
   ],
   "source": [
    "@manipulate for i in 1:100\n",
    "    plot(E[:,i],ylim=(-0.05,0.05))\n",
    "end"
   ]
  },
  {
   "cell_type": "code",
   "execution_count": 186,
   "metadata": {
    "collapsed": false
   },
   "outputs": [
    {
     "name": "stderr",
     "output_type": "stream",
     "text": [
      "WARNING: Method definition analitico("
     ]
    },
    {
     "data": {
      "text/plain": [
       "analitico (generic function with 1 method)"
      ]
     },
     "execution_count": 186,
     "metadata": {},
     "output_type": "execute_result"
    },
    {
     "name": "stderr",
     "output_type": "stream",
     "text": [
      "Int64) in module Main at In[183]:2 overwritten at In[186]:2.\n"
     ]
    }
   ],
   "source": [
    "function analitico(n::Int64;L::Float64=1.0,m::Float64=1.0)\n",
    "    return n^2*pi^2/(2*m*L^2)\n",
    "end"
   ]
  },
  {
   "cell_type": "code",
   "execution_count": 187,
   "metadata": {
    "collapsed": false
   },
   "outputs": [
    {
     "data": {
      "text/html": [
       "<?xml version=\"1.0\" encoding=\"utf-8\"?>\n",
       "<svg xmlns=\"http://www.w3.org/2000/svg\" xmlns:xlink=\"http://www.w3.org/1999/xlink\" width=\"600\" height=\"400\" viewBox=\"0 0 600 400\">\n",
       "<defs>\n",
       "  <clipPath id=\"clip00\">\n",
       "    <rect x=\"0\" y=\"0\" width=\"600\" height=\"400\"/>\n",
       "  </clipPath>\n",
       "</defs>\n",
       "<polygon clip-path=\"url(#clip00)\" points=\"\n",
       "0,400 600,400 600,0 0,0 \n",
       "  \" fill=\"#ffffff\" fill-opacity=\"1\"/>\n",
       "<defs>\n",
       "  <clipPath id=\"clip01\">\n",
       "    <rect x=\"120\" y=\"0\" width=\"421\" height=\"400\"/>\n",
       "  </clipPath>\n",
       "</defs>\n",
       "<polygon clip-path=\"url(#clip00)\" points=\"\n",
       "48.3815,384.952 596.063,384.952 596.063,3.93701 48.3815,3.93701 \n",
       "  \" fill=\"#ffffff\" fill-opacity=\"1\"/>\n",
       "<defs>\n",
       "  <clipPath id=\"clip02\">\n",
       "    <rect x=\"48\" y=\"3\" width=\"548\" height=\"382\"/>\n",
       "  </clipPath>\n",
       "</defs>\n",
       "<polyline clip-path=\"url(#clip02)\" style=\"stroke:#00002d; stroke-width:0.8; stroke-opacity:0.5; fill:none\" stroke-dasharray=\"1, 2\" points=\"\n",
       "  58.6629,379.237 58.6629,9.65223 \n",
       "  \"/>\n",
       "<polyline clip-path=\"url(#clip02)\" style=\"stroke:#00002d; stroke-width:0.8; stroke-opacity:0.5; fill:none\" stroke-dasharray=\"1, 2\" points=\"\n",
       "  319.613,379.237 319.613,9.65223 \n",
       "  \"/>\n",
       "<polyline clip-path=\"url(#clip02)\" style=\"stroke:#00002d; stroke-width:0.8; stroke-opacity:0.5; fill:none\" stroke-dasharray=\"1, 2\" points=\"\n",
       "  580.563,379.237 580.563,9.65223 \n",
       "  \"/>\n",
       "<polyline clip-path=\"url(#clip02)\" style=\"stroke:#00002d; stroke-width:0.8; stroke-opacity:0.5; fill:none\" stroke-dasharray=\"1, 2\" points=\"\n",
       "  56.5967,374.204 587.848,374.204 \n",
       "  \"/>\n",
       "<polyline clip-path=\"url(#clip02)\" style=\"stroke:#00002d; stroke-width:0.8; stroke-opacity:0.5; fill:none\" stroke-dasharray=\"1, 2\" points=\"\n",
       "  56.5967,228.511 587.848,228.511 \n",
       "  \"/>\n",
       "<polyline clip-path=\"url(#clip02)\" style=\"stroke:#00002d; stroke-width:0.8; stroke-opacity:0.5; fill:none\" stroke-dasharray=\"1, 2\" points=\"\n",
       "  56.5967,82.8175 587.848,82.8175 \n",
       "  \"/>\n",
       "<polyline clip-path=\"url(#clip02)\" style=\"stroke:#00002d; stroke-width:0.8; stroke-opacity:1; fill:none\" points=\"\n",
       "  48.3815,384.952 596.063,384.952 \n",
       "  \"/>\n",
       "<polyline clip-path=\"url(#clip02)\" style=\"stroke:#00002d; stroke-width:0.8; stroke-opacity:1; fill:none\" points=\"\n",
       "  58.6629,384.952 58.6629,379.237 \n",
       "  \"/>\n",
       "<polyline clip-path=\"url(#clip02)\" style=\"stroke:#00002d; stroke-width:0.8; stroke-opacity:1; fill:none\" points=\"\n",
       "  319.613,384.952 319.613,379.237 \n",
       "  \"/>\n",
       "<polyline clip-path=\"url(#clip02)\" style=\"stroke:#00002d; stroke-width:0.8; stroke-opacity:1; fill:none\" points=\"\n",
       "  580.563,384.952 580.563,379.237 \n",
       "  \"/>\n",
       "<polyline clip-path=\"url(#clip02)\" style=\"stroke:#00002d; stroke-width:0.8; stroke-opacity:1; fill:none\" points=\"\n",
       "  48.3815,384.952 48.3815,3.93701 \n",
       "  \"/>\n",
       "<polyline clip-path=\"url(#clip02)\" style=\"stroke:#00002d; stroke-width:0.8; stroke-opacity:1; fill:none\" points=\"\n",
       "  48.3815,374.204 56.5967,374.204 \n",
       "  \"/>\n",
       "<polyline clip-path=\"url(#clip02)\" style=\"stroke:#00002d; stroke-width:0.8; stroke-opacity:1; fill:none\" points=\"\n",
       "  48.3815,228.511 56.5967,228.511 \n",
       "  \"/>\n",
       "<polyline clip-path=\"url(#clip02)\" style=\"stroke:#00002d; stroke-width:0.8; stroke-opacity:1; fill:none\" points=\"\n",
       "  48.3815,82.8175 56.5967,82.8175 \n",
       "  \"/>\n",
       "<g clip-path=\"url(#clip00)\">\n",
       "<text style=\"fill:#00002d; fill-opacity:1; font-family:Arial,Helvetica Neue,Helvetica,sans-serif; font-size:12; text-anchor:middle;\" transform=\"rotate(0, 58.6629, 396.952)\" x=\"58.6629\" y=\"396.952\">0</text>\n",
       "</g>\n",
       "<g clip-path=\"url(#clip00)\">\n",
       "<text style=\"fill:#00002d; fill-opacity:1; font-family:Arial,Helvetica Neue,Helvetica,sans-serif; font-size:12; text-anchor:middle;\" transform=\"rotate(0, 319.613, 396.952)\" x=\"319.613\" y=\"396.952\">50</text>\n",
       "</g>\n",
       "<g clip-path=\"url(#clip00)\">\n",
       "<text style=\"fill:#00002d; fill-opacity:1; font-family:Arial,Helvetica Neue,Helvetica,sans-serif; font-size:12; text-anchor:middle;\" transform=\"rotate(0, 580.563, 396.952)\" x=\"580.563\" y=\"396.952\">100</text>\n",
       "</g>\n",
       "<g clip-path=\"url(#clip00)\">\n",
       "<text style=\"fill:#00002d; fill-opacity:1; font-family:Arial,Helvetica Neue,Helvetica,sans-serif; font-size:12; text-anchor:end;\" transform=\"rotate(0, 47.1815, 378.704)\" x=\"47.1815\" y=\"378.704\">0</text>\n",
       "</g>\n",
       "<g clip-path=\"url(#clip00)\">\n",
       "<text style=\"fill:#00002d; fill-opacity:1; font-family:Arial,Helvetica Neue,Helvetica,sans-serif; font-size:12; text-anchor:end;\" transform=\"rotate(0, 47.1815, 233.011)\" x=\"47.1815\" y=\"233.011\">20000</text>\n",
       "</g>\n",
       "<g clip-path=\"url(#clip00)\">\n",
       "<text style=\"fill:#00002d; fill-opacity:1; font-family:Arial,Helvetica Neue,Helvetica,sans-serif; font-size:12; text-anchor:end;\" transform=\"rotate(0, 47.1815, 87.3175)\" x=\"47.1815\" y=\"87.3175\">40000</text>\n",
       "</g>\n",
       "<circle clip-path=\"url(#clip02)\" style=\"fill:#00002d; stroke:none; fill-opacity:1\" cx=\"63.8819\" cy=\"374.168\" r=\"3\"/>\n",
       "<circle clip-path=\"url(#clip02)\" style=\"fill:#0099ff; stroke:none; fill-opacity:1\" cx=\"63.8819\" cy=\"374.168\" r=\"2\"/>\n",
       "<circle clip-path=\"url(#clip02)\" style=\"fill:#00002d; stroke:none; fill-opacity:1\" cx=\"69.1009\" cy=\"374.063\" r=\"3\"/>\n",
       "<circle clip-path=\"url(#clip02)\" style=\"fill:#0099ff; stroke:none; fill-opacity:1\" cx=\"69.1009\" cy=\"374.063\" r=\"2\"/>\n",
       "<circle clip-path=\"url(#clip02)\" style=\"fill:#00002d; stroke:none; fill-opacity:1\" cx=\"74.3199\" cy=\"373.887\" r=\"3\"/>\n",
       "<circle clip-path=\"url(#clip02)\" style=\"fill:#0099ff; stroke:none; fill-opacity:1\" cx=\"74.3199\" cy=\"373.887\" r=\"2\"/>\n",
       "<circle clip-path=\"url(#clip02)\" style=\"fill:#00002d; stroke:none; fill-opacity:1\" cx=\"79.5389\" cy=\"373.641\" r=\"3\"/>\n",
       "<circle clip-path=\"url(#clip02)\" style=\"fill:#0099ff; stroke:none; fill-opacity:1\" cx=\"79.5389\" cy=\"373.641\" r=\"2\"/>\n",
       "<circle clip-path=\"url(#clip02)\" style=\"fill:#00002d; stroke:none; fill-opacity:1\" cx=\"84.7579\" cy=\"373.324\" r=\"3\"/>\n",
       "<circle clip-path=\"url(#clip02)\" style=\"fill:#0099ff; stroke:none; fill-opacity:1\" cx=\"84.7579\" cy=\"373.324\" r=\"2\"/>\n",
       "<circle clip-path=\"url(#clip02)\" style=\"fill:#00002d; stroke:none; fill-opacity:1\" cx=\"89.9769\" cy=\"372.939\" r=\"3\"/>\n",
       "<circle clip-path=\"url(#clip02)\" style=\"fill:#0099ff; stroke:none; fill-opacity:1\" cx=\"89.9769\" cy=\"372.939\" r=\"2\"/>\n",
       "<circle clip-path=\"url(#clip02)\" style=\"fill:#00002d; stroke:none; fill-opacity:1\" cx=\"95.1959\" cy=\"372.484\" r=\"3\"/>\n",
       "<circle clip-path=\"url(#clip02)\" style=\"fill:#0099ff; stroke:none; fill-opacity:1\" cx=\"95.1959\" cy=\"372.484\" r=\"2\"/>\n",
       "<circle clip-path=\"url(#clip02)\" style=\"fill:#00002d; stroke:none; fill-opacity:1\" cx=\"100.415\" cy=\"371.96\" r=\"3\"/>\n",
       "<circle clip-path=\"url(#clip02)\" style=\"fill:#0099ff; stroke:none; fill-opacity:1\" cx=\"100.415\" cy=\"371.96\" r=\"2\"/>\n",
       "<circle clip-path=\"url(#clip02)\" style=\"fill:#00002d; stroke:none; fill-opacity:1\" cx=\"105.634\" cy=\"371.368\" r=\"3\"/>\n",
       "<circle clip-path=\"url(#clip02)\" style=\"fill:#0099ff; stroke:none; fill-opacity:1\" cx=\"105.634\" cy=\"371.368\" r=\"2\"/>\n",
       "<circle clip-path=\"url(#clip02)\" style=\"fill:#00002d; stroke:none; fill-opacity:1\" cx=\"110.853\" cy=\"370.708\" r=\"3\"/>\n",
       "<circle clip-path=\"url(#clip02)\" style=\"fill:#0099ff; stroke:none; fill-opacity:1\" cx=\"110.853\" cy=\"370.708\" r=\"2\"/>\n",
       "<circle clip-path=\"url(#clip02)\" style=\"fill:#00002d; stroke:none; fill-opacity:1\" cx=\"116.072\" cy=\"369.981\" r=\"3\"/>\n",
       "<circle clip-path=\"url(#clip02)\" style=\"fill:#0099ff; stroke:none; fill-opacity:1\" cx=\"116.072\" cy=\"369.981\" r=\"2\"/>\n",
       "<circle clip-path=\"url(#clip02)\" style=\"fill:#00002d; stroke:none; fill-opacity:1\" cx=\"121.291\" cy=\"369.188\" r=\"3\"/>\n",
       "<circle clip-path=\"url(#clip02)\" style=\"fill:#0099ff; stroke:none; fill-opacity:1\" cx=\"121.291\" cy=\"369.188\" r=\"2\"/>\n",
       "<circle clip-path=\"url(#clip02)\" style=\"fill:#00002d; stroke:none; fill-opacity:1\" cx=\"126.51\" cy=\"368.329\" r=\"3\"/>\n",
       "<circle clip-path=\"url(#clip02)\" style=\"fill:#0099ff; stroke:none; fill-opacity:1\" cx=\"126.51\" cy=\"368.329\" r=\"2\"/>\n",
       "<circle clip-path=\"url(#clip02)\" style=\"fill:#00002d; stroke:none; fill-opacity:1\" cx=\"131.729\" cy=\"367.405\" r=\"3\"/>\n",
       "<circle clip-path=\"url(#clip02)\" style=\"fill:#0099ff; stroke:none; fill-opacity:1\" cx=\"131.729\" cy=\"367.405\" r=\"2\"/>\n",
       "<circle clip-path=\"url(#clip02)\" style=\"fill:#00002d; stroke:none; fill-opacity:1\" cx=\"136.948\" cy=\"366.417\" r=\"3\"/>\n",
       "<circle clip-path=\"url(#clip02)\" style=\"fill:#0099ff; stroke:none; fill-opacity:1\" cx=\"136.948\" cy=\"366.417\" r=\"2\"/>\n",
       "<circle clip-path=\"url(#clip02)\" style=\"fill:#00002d; stroke:none; fill-opacity:1\" cx=\"142.167\" cy=\"365.367\" r=\"3\"/>\n",
       "<circle clip-path=\"url(#clip02)\" style=\"fill:#0099ff; stroke:none; fill-opacity:1\" cx=\"142.167\" cy=\"365.367\" r=\"2\"/>\n",
       "<circle clip-path=\"url(#clip02)\" style=\"fill:#00002d; stroke:none; fill-opacity:1\" cx=\"147.386\" cy=\"364.254\" r=\"3\"/>\n",
       "<circle clip-path=\"url(#clip02)\" style=\"fill:#0099ff; stroke:none; fill-opacity:1\" cx=\"147.386\" cy=\"364.254\" r=\"2\"/>\n",
       "<circle clip-path=\"url(#clip02)\" style=\"fill:#00002d; stroke:none; fill-opacity:1\" cx=\"152.605\" cy=\"363.081\" r=\"3\"/>\n",
       "<circle clip-path=\"url(#clip02)\" style=\"fill:#0099ff; stroke:none; fill-opacity:1\" cx=\"152.605\" cy=\"363.081\" r=\"2\"/>\n",
       "<circle clip-path=\"url(#clip02)\" style=\"fill:#00002d; stroke:none; fill-opacity:1\" cx=\"157.824\" cy=\"361.848\" r=\"3\"/>\n",
       "<circle clip-path=\"url(#clip02)\" style=\"fill:#0099ff; stroke:none; fill-opacity:1\" cx=\"157.824\" cy=\"361.848\" r=\"2\"/>\n",
       "<circle clip-path=\"url(#clip02)\" style=\"fill:#00002d; stroke:none; fill-opacity:1\" cx=\"163.043\" cy=\"360.556\" r=\"3\"/>\n",
       "<circle clip-path=\"url(#clip02)\" style=\"fill:#0099ff; stroke:none; fill-opacity:1\" cx=\"163.043\" cy=\"360.556\" r=\"2\"/>\n",
       "<circle clip-path=\"url(#clip02)\" style=\"fill:#00002d; stroke:none; fill-opacity:1\" cx=\"168.262\" cy=\"359.208\" r=\"3\"/>\n",
       "<circle clip-path=\"url(#clip02)\" style=\"fill:#0099ff; stroke:none; fill-opacity:1\" cx=\"168.262\" cy=\"359.208\" r=\"2\"/>\n",
       "<circle clip-path=\"url(#clip02)\" style=\"fill:#00002d; stroke:none; fill-opacity:1\" cx=\"173.481\" cy=\"357.803\" r=\"3\"/>\n",
       "<circle clip-path=\"url(#clip02)\" style=\"fill:#0099ff; stroke:none; fill-opacity:1\" cx=\"173.481\" cy=\"357.803\" r=\"2\"/>\n",
       "<circle clip-path=\"url(#clip02)\" style=\"fill:#00002d; stroke:none; fill-opacity:1\" cx=\"178.7\" cy=\"356.343\" r=\"3\"/>\n",
       "<circle clip-path=\"url(#clip02)\" style=\"fill:#0099ff; stroke:none; fill-opacity:1\" cx=\"178.7\" cy=\"356.343\" r=\"2\"/>\n",
       "<circle clip-path=\"url(#clip02)\" style=\"fill:#00002d; stroke:none; fill-opacity:1\" cx=\"183.919\" cy=\"354.831\" r=\"3\"/>\n",
       "<circle clip-path=\"url(#clip02)\" style=\"fill:#0099ff; stroke:none; fill-opacity:1\" cx=\"183.919\" cy=\"354.831\" r=\"2\"/>\n",
       "<circle clip-path=\"url(#clip02)\" style=\"fill:#00002d; stroke:none; fill-opacity:1\" cx=\"189.138\" cy=\"353.266\" r=\"3\"/>\n",
       "<circle clip-path=\"url(#clip02)\" style=\"fill:#0099ff; stroke:none; fill-opacity:1\" cx=\"189.138\" cy=\"353.266\" r=\"2\"/>\n",
       "<circle clip-path=\"url(#clip02)\" style=\"fill:#00002d; stroke:none; fill-opacity:1\" cx=\"194.357\" cy=\"351.652\" r=\"3\"/>\n",
       "<circle clip-path=\"url(#clip02)\" style=\"fill:#0099ff; stroke:none; fill-opacity:1\" cx=\"194.357\" cy=\"351.652\" r=\"2\"/>\n",
       "<circle clip-path=\"url(#clip02)\" style=\"fill:#00002d; stroke:none; fill-opacity:1\" cx=\"199.576\" cy=\"349.989\" r=\"3\"/>\n",
       "<circle clip-path=\"url(#clip02)\" style=\"fill:#0099ff; stroke:none; fill-opacity:1\" cx=\"199.576\" cy=\"349.989\" r=\"2\"/>\n",
       "<circle clip-path=\"url(#clip02)\" style=\"fill:#00002d; stroke:none; fill-opacity:1\" cx=\"204.795\" cy=\"348.278\" r=\"3\"/>\n",
       "<circle clip-path=\"url(#clip02)\" style=\"fill:#0099ff; stroke:none; fill-opacity:1\" cx=\"204.795\" cy=\"348.278\" r=\"2\"/>\n",
       "<circle clip-path=\"url(#clip02)\" style=\"fill:#00002d; stroke:none; fill-opacity:1\" cx=\"210.014\" cy=\"346.523\" r=\"3\"/>\n",
       "<circle clip-path=\"url(#clip02)\" style=\"fill:#0099ff; stroke:none; fill-opacity:1\" cx=\"210.014\" cy=\"346.523\" r=\"2\"/>\n",
       "<circle clip-path=\"url(#clip02)\" style=\"fill:#00002d; stroke:none; fill-opacity:1\" cx=\"215.233\" cy=\"344.723\" r=\"3\"/>\n",
       "<circle clip-path=\"url(#clip02)\" style=\"fill:#0099ff; stroke:none; fill-opacity:1\" cx=\"215.233\" cy=\"344.723\" r=\"2\"/>\n",
       "<circle clip-path=\"url(#clip02)\" style=\"fill:#00002d; stroke:none; fill-opacity:1\" cx=\"220.452\" cy=\"342.882\" r=\"3\"/>\n",
       "<circle clip-path=\"url(#clip02)\" style=\"fill:#0099ff; stroke:none; fill-opacity:1\" cx=\"220.452\" cy=\"342.882\" r=\"2\"/>\n",
       "<circle clip-path=\"url(#clip02)\" style=\"fill:#00002d; stroke:none; fill-opacity:1\" cx=\"225.671\" cy=\"341.001\" r=\"3\"/>\n",
       "<circle clip-path=\"url(#clip02)\" style=\"fill:#0099ff; stroke:none; fill-opacity:1\" cx=\"225.671\" cy=\"341.001\" r=\"2\"/>\n",
       "<circle clip-path=\"url(#clip02)\" style=\"fill:#00002d; stroke:none; fill-opacity:1\" cx=\"230.89\" cy=\"339.081\" r=\"3\"/>\n",
       "<circle clip-path=\"url(#clip02)\" style=\"fill:#0099ff; stroke:none; fill-opacity:1\" cx=\"230.89\" cy=\"339.081\" r=\"2\"/>\n",
       "<circle clip-path=\"url(#clip02)\" style=\"fill:#00002d; stroke:none; fill-opacity:1\" cx=\"236.109\" cy=\"337.124\" r=\"3\"/>\n",
       "<circle clip-path=\"url(#clip02)\" style=\"fill:#0099ff; stroke:none; fill-opacity:1\" cx=\"236.109\" cy=\"337.124\" r=\"2\"/>\n",
       "<circle clip-path=\"url(#clip02)\" style=\"fill:#00002d; stroke:none; fill-opacity:1\" cx=\"241.328\" cy=\"335.133\" r=\"3\"/>\n",
       "<circle clip-path=\"url(#clip02)\" style=\"fill:#0099ff; stroke:none; fill-opacity:1\" cx=\"241.328\" cy=\"335.133\" r=\"2\"/>\n",
       "<circle clip-path=\"url(#clip02)\" style=\"fill:#00002d; stroke:none; fill-opacity:1\" cx=\"246.547\" cy=\"333.11\" r=\"3\"/>\n",
       "<circle clip-path=\"url(#clip02)\" style=\"fill:#0099ff; stroke:none; fill-opacity:1\" cx=\"246.547\" cy=\"333.11\" r=\"2\"/>\n",
       "<circle clip-path=\"url(#clip02)\" style=\"fill:#00002d; stroke:none; fill-opacity:1\" cx=\"251.766\" cy=\"331.055\" r=\"3\"/>\n",
       "<circle clip-path=\"url(#clip02)\" style=\"fill:#0099ff; stroke:none; fill-opacity:1\" cx=\"251.766\" cy=\"331.055\" r=\"2\"/>\n",
       "<circle clip-path=\"url(#clip02)\" style=\"fill:#00002d; stroke:none; fill-opacity:1\" cx=\"256.985\" cy=\"328.972\" r=\"3\"/>\n",
       "<circle clip-path=\"url(#clip02)\" style=\"fill:#0099ff; stroke:none; fill-opacity:1\" cx=\"256.985\" cy=\"328.972\" r=\"2\"/>\n",
       "<circle clip-path=\"url(#clip02)\" style=\"fill:#00002d; stroke:none; fill-opacity:1\" cx=\"262.204\" cy=\"326.863\" r=\"3\"/>\n",
       "<circle clip-path=\"url(#clip02)\" style=\"fill:#0099ff; stroke:none; fill-opacity:1\" cx=\"262.204\" cy=\"326.863\" r=\"2\"/>\n",
       "<circle clip-path=\"url(#clip02)\" style=\"fill:#00002d; stroke:none; fill-opacity:1\" cx=\"267.423\" cy=\"324.728\" r=\"3\"/>\n",
       "<circle clip-path=\"url(#clip02)\" style=\"fill:#0099ff; stroke:none; fill-opacity:1\" cx=\"267.423\" cy=\"324.728\" r=\"2\"/>\n",
       "<circle clip-path=\"url(#clip02)\" style=\"fill:#00002d; stroke:none; fill-opacity:1\" cx=\"272.642\" cy=\"322.571\" r=\"3\"/>\n",
       "<circle clip-path=\"url(#clip02)\" style=\"fill:#0099ff; stroke:none; fill-opacity:1\" cx=\"272.642\" cy=\"322.571\" r=\"2\"/>\n",
       "<circle clip-path=\"url(#clip02)\" style=\"fill:#00002d; stroke:none; fill-opacity:1\" cx=\"277.861\" cy=\"320.394\" r=\"3\"/>\n",
       "<circle clip-path=\"url(#clip02)\" style=\"fill:#0099ff; stroke:none; fill-opacity:1\" cx=\"277.861\" cy=\"320.394\" r=\"2\"/>\n",
       "<circle clip-path=\"url(#clip02)\" style=\"fill:#00002d; stroke:none; fill-opacity:1\" cx=\"283.08\" cy=\"318.198\" r=\"3\"/>\n",
       "<circle clip-path=\"url(#clip02)\" style=\"fill:#0099ff; stroke:none; fill-opacity:1\" cx=\"283.08\" cy=\"318.198\" r=\"2\"/>\n",
       "<circle clip-path=\"url(#clip02)\" style=\"fill:#00002d; stroke:none; fill-opacity:1\" cx=\"288.299\" cy=\"315.985\" r=\"3\"/>\n",
       "<circle clip-path=\"url(#clip02)\" style=\"fill:#0099ff; stroke:none; fill-opacity:1\" cx=\"288.299\" cy=\"315.985\" r=\"2\"/>\n",
       "<circle clip-path=\"url(#clip02)\" style=\"fill:#00002d; stroke:none; fill-opacity:1\" cx=\"293.518\" cy=\"313.759\" r=\"3\"/>\n",
       "<circle clip-path=\"url(#clip02)\" style=\"fill:#0099ff; stroke:none; fill-opacity:1\" cx=\"293.518\" cy=\"313.759\" r=\"2\"/>\n",
       "<circle clip-path=\"url(#clip02)\" style=\"fill:#00002d; stroke:none; fill-opacity:1\" cx=\"298.737\" cy=\"311.52\" r=\"3\"/>\n",
       "<circle clip-path=\"url(#clip02)\" style=\"fill:#0099ff; stroke:none; fill-opacity:1\" cx=\"298.737\" cy=\"311.52\" r=\"2\"/>\n",
       "<circle clip-path=\"url(#clip02)\" style=\"fill:#00002d; stroke:none; fill-opacity:1\" cx=\"303.956\" cy=\"309.272\" r=\"3\"/>\n",
       "<circle clip-path=\"url(#clip02)\" style=\"fill:#0099ff; stroke:none; fill-opacity:1\" cx=\"303.956\" cy=\"309.272\" r=\"2\"/>\n",
       "<circle clip-path=\"url(#clip02)\" style=\"fill:#00002d; stroke:none; fill-opacity:1\" cx=\"309.175\" cy=\"307.016\" r=\"3\"/>\n",
       "<circle clip-path=\"url(#clip02)\" style=\"fill:#0099ff; stroke:none; fill-opacity:1\" cx=\"309.175\" cy=\"307.016\" r=\"2\"/>\n",
       "<circle clip-path=\"url(#clip02)\" style=\"fill:#00002d; stroke:none; fill-opacity:1\" cx=\"314.394\" cy=\"304.755\" r=\"3\"/>\n",
       "<circle clip-path=\"url(#clip02)\" style=\"fill:#0099ff; stroke:none; fill-opacity:1\" cx=\"314.394\" cy=\"304.755\" r=\"2\"/>\n",
       "<circle clip-path=\"url(#clip02)\" style=\"fill:#00002d; stroke:none; fill-opacity:1\" cx=\"319.613\" cy=\"302.49\" r=\"3\"/>\n",
       "<circle clip-path=\"url(#clip02)\" style=\"fill:#0099ff; stroke:none; fill-opacity:1\" cx=\"319.613\" cy=\"302.49\" r=\"2\"/>\n",
       "<circle clip-path=\"url(#clip02)\" style=\"fill:#00002d; stroke:none; fill-opacity:1\" cx=\"324.832\" cy=\"300.224\" r=\"3\"/>\n",
       "<circle clip-path=\"url(#clip02)\" style=\"fill:#0099ff; stroke:none; fill-opacity:1\" cx=\"324.832\" cy=\"300.224\" r=\"2\"/>\n",
       "<circle clip-path=\"url(#clip02)\" style=\"fill:#00002d; stroke:none; fill-opacity:1\" cx=\"330.051\" cy=\"297.96\" r=\"3\"/>\n",
       "<circle clip-path=\"url(#clip02)\" style=\"fill:#0099ff; stroke:none; fill-opacity:1\" cx=\"330.051\" cy=\"297.96\" r=\"2\"/>\n",
       "<circle clip-path=\"url(#clip02)\" style=\"fill:#00002d; stroke:none; fill-opacity:1\" cx=\"335.27\" cy=\"295.698\" r=\"3\"/>\n",
       "<circle clip-path=\"url(#clip02)\" style=\"fill:#0099ff; stroke:none; fill-opacity:1\" cx=\"335.27\" cy=\"295.698\" r=\"2\"/>\n",
       "<circle clip-path=\"url(#clip02)\" style=\"fill:#00002d; stroke:none; fill-opacity:1\" cx=\"340.489\" cy=\"293.442\" r=\"3\"/>\n",
       "<circle clip-path=\"url(#clip02)\" style=\"fill:#0099ff; stroke:none; fill-opacity:1\" cx=\"340.489\" cy=\"293.442\" r=\"2\"/>\n",
       "<circle clip-path=\"url(#clip02)\" style=\"fill:#00002d; stroke:none; fill-opacity:1\" cx=\"345.708\" cy=\"291.194\" r=\"3\"/>\n",
       "<circle clip-path=\"url(#clip02)\" style=\"fill:#0099ff; stroke:none; fill-opacity:1\" cx=\"345.708\" cy=\"291.194\" r=\"2\"/>\n",
       "<circle clip-path=\"url(#clip02)\" style=\"fill:#00002d; stroke:none; fill-opacity:1\" cx=\"350.927\" cy=\"288.955\" r=\"3\"/>\n",
       "<circle clip-path=\"url(#clip02)\" style=\"fill:#0099ff; stroke:none; fill-opacity:1\" cx=\"350.927\" cy=\"288.955\" r=\"2\"/>\n",
       "<circle clip-path=\"url(#clip02)\" style=\"fill:#00002d; stroke:none; fill-opacity:1\" cx=\"356.146\" cy=\"286.729\" r=\"3\"/>\n",
       "<circle clip-path=\"url(#clip02)\" style=\"fill:#0099ff; stroke:none; fill-opacity:1\" cx=\"356.146\" cy=\"286.729\" r=\"2\"/>\n",
       "<circle clip-path=\"url(#clip02)\" style=\"fill:#00002d; stroke:none; fill-opacity:1\" cx=\"361.365\" cy=\"284.517\" r=\"3\"/>\n",
       "<circle clip-path=\"url(#clip02)\" style=\"fill:#0099ff; stroke:none; fill-opacity:1\" cx=\"361.365\" cy=\"284.517\" r=\"2\"/>\n",
       "<circle clip-path=\"url(#clip02)\" style=\"fill:#00002d; stroke:none; fill-opacity:1\" cx=\"366.584\" cy=\"282.321\" r=\"3\"/>\n",
       "<circle clip-path=\"url(#clip02)\" style=\"fill:#0099ff; stroke:none; fill-opacity:1\" cx=\"366.584\" cy=\"282.321\" r=\"2\"/>\n",
       "<circle clip-path=\"url(#clip02)\" style=\"fill:#00002d; stroke:none; fill-opacity:1\" cx=\"371.803\" cy=\"280.143\" r=\"3\"/>\n",
       "<circle clip-path=\"url(#clip02)\" style=\"fill:#0099ff; stroke:none; fill-opacity:1\" cx=\"371.803\" cy=\"280.143\" r=\"2\"/>\n",
       "<circle clip-path=\"url(#clip02)\" style=\"fill:#00002d; stroke:none; fill-opacity:1\" cx=\"377.022\" cy=\"277.986\" r=\"3\"/>\n",
       "<circle clip-path=\"url(#clip02)\" style=\"fill:#0099ff; stroke:none; fill-opacity:1\" cx=\"377.022\" cy=\"277.986\" r=\"2\"/>\n",
       "<circle clip-path=\"url(#clip02)\" style=\"fill:#00002d; stroke:none; fill-opacity:1\" cx=\"382.241\" cy=\"275.852\" r=\"3\"/>\n",
       "<circle clip-path=\"url(#clip02)\" style=\"fill:#0099ff; stroke:none; fill-opacity:1\" cx=\"382.241\" cy=\"275.852\" r=\"2\"/>\n",
       "<circle clip-path=\"url(#clip02)\" style=\"fill:#00002d; stroke:none; fill-opacity:1\" cx=\"387.46\" cy=\"273.742\" r=\"3\"/>\n",
       "<circle clip-path=\"url(#clip02)\" style=\"fill:#0099ff; stroke:none; fill-opacity:1\" cx=\"387.46\" cy=\"273.742\" r=\"2\"/>\n",
       "<circle clip-path=\"url(#clip02)\" style=\"fill:#00002d; stroke:none; fill-opacity:1\" cx=\"392.679\" cy=\"271.659\" r=\"3\"/>\n",
       "<circle clip-path=\"url(#clip02)\" style=\"fill:#0099ff; stroke:none; fill-opacity:1\" cx=\"392.679\" cy=\"271.659\" r=\"2\"/>\n",
       "<circle clip-path=\"url(#clip02)\" style=\"fill:#00002d; stroke:none; fill-opacity:1\" cx=\"397.898\" cy=\"269.604\" r=\"3\"/>\n",
       "<circle clip-path=\"url(#clip02)\" style=\"fill:#0099ff; stroke:none; fill-opacity:1\" cx=\"397.898\" cy=\"269.604\" r=\"2\"/>\n",
       "<circle clip-path=\"url(#clip02)\" style=\"fill:#00002d; stroke:none; fill-opacity:1\" cx=\"403.117\" cy=\"267.581\" r=\"3\"/>\n",
       "<circle clip-path=\"url(#clip02)\" style=\"fill:#0099ff; stroke:none; fill-opacity:1\" cx=\"403.117\" cy=\"267.581\" r=\"2\"/>\n",
       "<circle clip-path=\"url(#clip02)\" style=\"fill:#00002d; stroke:none; fill-opacity:1\" cx=\"408.336\" cy=\"265.59\" r=\"3\"/>\n",
       "<circle clip-path=\"url(#clip02)\" style=\"fill:#0099ff; stroke:none; fill-opacity:1\" cx=\"408.336\" cy=\"265.59\" r=\"2\"/>\n",
       "<circle clip-path=\"url(#clip02)\" style=\"fill:#00002d; stroke:none; fill-opacity:1\" cx=\"413.555\" cy=\"263.634\" r=\"3\"/>\n",
       "<circle clip-path=\"url(#clip02)\" style=\"fill:#0099ff; stroke:none; fill-opacity:1\" cx=\"413.555\" cy=\"263.634\" r=\"2\"/>\n",
       "<circle clip-path=\"url(#clip02)\" style=\"fill:#00002d; stroke:none; fill-opacity:1\" cx=\"418.774\" cy=\"261.714\" r=\"3\"/>\n",
       "<circle clip-path=\"url(#clip02)\" style=\"fill:#0099ff; stroke:none; fill-opacity:1\" cx=\"418.774\" cy=\"261.714\" r=\"2\"/>\n",
       "<circle clip-path=\"url(#clip02)\" style=\"fill:#00002d; stroke:none; fill-opacity:1\" cx=\"423.993\" cy=\"259.832\" r=\"3\"/>\n",
       "<circle clip-path=\"url(#clip02)\" style=\"fill:#0099ff; stroke:none; fill-opacity:1\" cx=\"423.993\" cy=\"259.832\" r=\"2\"/>\n",
       "<circle clip-path=\"url(#clip02)\" style=\"fill:#00002d; stroke:none; fill-opacity:1\" cx=\"429.212\" cy=\"257.991\" r=\"3\"/>\n",
       "<circle clip-path=\"url(#clip02)\" style=\"fill:#0099ff; stroke:none; fill-opacity:1\" cx=\"429.212\" cy=\"257.991\" r=\"2\"/>\n",
       "<circle clip-path=\"url(#clip02)\" style=\"fill:#00002d; stroke:none; fill-opacity:1\" cx=\"434.431\" cy=\"256.192\" r=\"3\"/>\n",
       "<circle clip-path=\"url(#clip02)\" style=\"fill:#0099ff; stroke:none; fill-opacity:1\" cx=\"434.431\" cy=\"256.192\" r=\"2\"/>\n",
       "<circle clip-path=\"url(#clip02)\" style=\"fill:#00002d; stroke:none; fill-opacity:1\" cx=\"439.65\" cy=\"254.436\" r=\"3\"/>\n",
       "<circle clip-path=\"url(#clip02)\" style=\"fill:#0099ff; stroke:none; fill-opacity:1\" cx=\"439.65\" cy=\"254.436\" r=\"2\"/>\n",
       "<circle clip-path=\"url(#clip02)\" style=\"fill:#00002d; stroke:none; fill-opacity:1\" cx=\"444.869\" cy=\"252.726\" r=\"3\"/>\n",
       "<circle clip-path=\"url(#clip02)\" style=\"fill:#0099ff; stroke:none; fill-opacity:1\" cx=\"444.869\" cy=\"252.726\" r=\"2\"/>\n",
       "<circle clip-path=\"url(#clip02)\" style=\"fill:#00002d; stroke:none; fill-opacity:1\" cx=\"450.088\" cy=\"251.062\" r=\"3\"/>\n",
       "<circle clip-path=\"url(#clip02)\" style=\"fill:#0099ff; stroke:none; fill-opacity:1\" cx=\"450.088\" cy=\"251.062\" r=\"2\"/>\n",
       "<circle clip-path=\"url(#clip02)\" style=\"fill:#00002d; stroke:none; fill-opacity:1\" cx=\"455.307\" cy=\"249.448\" r=\"3\"/>\n",
       "<circle clip-path=\"url(#clip02)\" style=\"fill:#0099ff; stroke:none; fill-opacity:1\" cx=\"455.307\" cy=\"249.448\" r=\"2\"/>\n",
       "<circle clip-path=\"url(#clip02)\" style=\"fill:#00002d; stroke:none; fill-opacity:1\" cx=\"460.526\" cy=\"247.884\" r=\"3\"/>\n",
       "<circle clip-path=\"url(#clip02)\" style=\"fill:#0099ff; stroke:none; fill-opacity:1\" cx=\"460.526\" cy=\"247.884\" r=\"2\"/>\n",
       "<circle clip-path=\"url(#clip02)\" style=\"fill:#00002d; stroke:none; fill-opacity:1\" cx=\"465.745\" cy=\"246.371\" r=\"3\"/>\n",
       "<circle clip-path=\"url(#clip02)\" style=\"fill:#0099ff; stroke:none; fill-opacity:1\" cx=\"465.745\" cy=\"246.371\" r=\"2\"/>\n",
       "<circle clip-path=\"url(#clip02)\" style=\"fill:#00002d; stroke:none; fill-opacity:1\" cx=\"470.964\" cy=\"244.911\" r=\"3\"/>\n",
       "<circle clip-path=\"url(#clip02)\" style=\"fill:#0099ff; stroke:none; fill-opacity:1\" cx=\"470.964\" cy=\"244.911\" r=\"2\"/>\n",
       "<circle clip-path=\"url(#clip02)\" style=\"fill:#00002d; stroke:none; fill-opacity:1\" cx=\"476.183\" cy=\"243.507\" r=\"3\"/>\n",
       "<circle clip-path=\"url(#clip02)\" style=\"fill:#0099ff; stroke:none; fill-opacity:1\" cx=\"476.183\" cy=\"243.507\" r=\"2\"/>\n",
       "<circle clip-path=\"url(#clip02)\" style=\"fill:#00002d; stroke:none; fill-opacity:1\" cx=\"481.402\" cy=\"242.158\" r=\"3\"/>\n",
       "<circle clip-path=\"url(#clip02)\" style=\"fill:#0099ff; stroke:none; fill-opacity:1\" cx=\"481.402\" cy=\"242.158\" r=\"2\"/>\n",
       "<circle clip-path=\"url(#clip02)\" style=\"fill:#00002d; stroke:none; fill-opacity:1\" cx=\"486.621\" cy=\"240.866\" r=\"3\"/>\n",
       "<circle clip-path=\"url(#clip02)\" style=\"fill:#0099ff; stroke:none; fill-opacity:1\" cx=\"486.621\" cy=\"240.866\" r=\"2\"/>\n",
       "<circle clip-path=\"url(#clip02)\" style=\"fill:#00002d; stroke:none; fill-opacity:1\" cx=\"491.84\" cy=\"239.633\" r=\"3\"/>\n",
       "<circle clip-path=\"url(#clip02)\" style=\"fill:#0099ff; stroke:none; fill-opacity:1\" cx=\"491.84\" cy=\"239.633\" r=\"2\"/>\n",
       "<circle clip-path=\"url(#clip02)\" style=\"fill:#00002d; stroke:none; fill-opacity:1\" cx=\"497.059\" cy=\"238.46\" r=\"3\"/>\n",
       "<circle clip-path=\"url(#clip02)\" style=\"fill:#0099ff; stroke:none; fill-opacity:1\" cx=\"497.059\" cy=\"238.46\" r=\"2\"/>\n",
       "<circle clip-path=\"url(#clip02)\" style=\"fill:#00002d; stroke:none; fill-opacity:1\" cx=\"502.278\" cy=\"237.347\" r=\"3\"/>\n",
       "<circle clip-path=\"url(#clip02)\" style=\"fill:#0099ff; stroke:none; fill-opacity:1\" cx=\"502.278\" cy=\"237.347\" r=\"2\"/>\n",
       "<circle clip-path=\"url(#clip02)\" style=\"fill:#00002d; stroke:none; fill-opacity:1\" cx=\"507.497\" cy=\"236.297\" r=\"3\"/>\n",
       "<circle clip-path=\"url(#clip02)\" style=\"fill:#0099ff; stroke:none; fill-opacity:1\" cx=\"507.497\" cy=\"236.297\" r=\"2\"/>\n",
       "<circle clip-path=\"url(#clip02)\" style=\"fill:#00002d; stroke:none; fill-opacity:1\" cx=\"512.716\" cy=\"235.309\" r=\"3\"/>\n",
       "<circle clip-path=\"url(#clip02)\" style=\"fill:#0099ff; stroke:none; fill-opacity:1\" cx=\"512.716\" cy=\"235.309\" r=\"2\"/>\n",
       "<circle clip-path=\"url(#clip02)\" style=\"fill:#00002d; stroke:none; fill-opacity:1\" cx=\"517.935\" cy=\"234.385\" r=\"3\"/>\n",
       "<circle clip-path=\"url(#clip02)\" style=\"fill:#0099ff; stroke:none; fill-opacity:1\" cx=\"517.935\" cy=\"234.385\" r=\"2\"/>\n",
       "<circle clip-path=\"url(#clip02)\" style=\"fill:#00002d; stroke:none; fill-opacity:1\" cx=\"523.154\" cy=\"233.527\" r=\"3\"/>\n",
       "<circle clip-path=\"url(#clip02)\" style=\"fill:#0099ff; stroke:none; fill-opacity:1\" cx=\"523.154\" cy=\"233.527\" r=\"2\"/>\n",
       "<circle clip-path=\"url(#clip02)\" style=\"fill:#00002d; stroke:none; fill-opacity:1\" cx=\"528.373\" cy=\"232.733\" r=\"3\"/>\n",
       "<circle clip-path=\"url(#clip02)\" style=\"fill:#0099ff; stroke:none; fill-opacity:1\" cx=\"528.373\" cy=\"232.733\" r=\"2\"/>\n",
       "<circle clip-path=\"url(#clip02)\" style=\"fill:#00002d; stroke:none; fill-opacity:1\" cx=\"533.592\" cy=\"232.006\" r=\"3\"/>\n",
       "<circle clip-path=\"url(#clip02)\" style=\"fill:#0099ff; stroke:none; fill-opacity:1\" cx=\"533.592\" cy=\"232.006\" r=\"2\"/>\n",
       "<circle clip-path=\"url(#clip02)\" style=\"fill:#00002d; stroke:none; fill-opacity:1\" cx=\"538.811\" cy=\"231.346\" r=\"3\"/>\n",
       "<circle clip-path=\"url(#clip02)\" style=\"fill:#0099ff; stroke:none; fill-opacity:1\" cx=\"538.811\" cy=\"231.346\" r=\"2\"/>\n",
       "<circle clip-path=\"url(#clip02)\" style=\"fill:#00002d; stroke:none; fill-opacity:1\" cx=\"544.03\" cy=\"230.754\" r=\"3\"/>\n",
       "<circle clip-path=\"url(#clip02)\" style=\"fill:#0099ff; stroke:none; fill-opacity:1\" cx=\"544.03\" cy=\"230.754\" r=\"2\"/>\n",
       "<circle clip-path=\"url(#clip02)\" style=\"fill:#00002d; stroke:none; fill-opacity:1\" cx=\"549.249\" cy=\"230.231\" r=\"3\"/>\n",
       "<circle clip-path=\"url(#clip02)\" style=\"fill:#0099ff; stroke:none; fill-opacity:1\" cx=\"549.249\" cy=\"230.231\" r=\"2\"/>\n",
       "<circle clip-path=\"url(#clip02)\" style=\"fill:#00002d; stroke:none; fill-opacity:1\" cx=\"554.468\" cy=\"229.776\" r=\"3\"/>\n",
       "<circle clip-path=\"url(#clip02)\" style=\"fill:#0099ff; stroke:none; fill-opacity:1\" cx=\"554.468\" cy=\"229.776\" r=\"2\"/>\n",
       "<circle clip-path=\"url(#clip02)\" style=\"fill:#00002d; stroke:none; fill-opacity:1\" cx=\"559.687\" cy=\"229.39\" r=\"3\"/>\n",
       "<circle clip-path=\"url(#clip02)\" style=\"fill:#0099ff; stroke:none; fill-opacity:1\" cx=\"559.687\" cy=\"229.39\" r=\"2\"/>\n",
       "<circle clip-path=\"url(#clip02)\" style=\"fill:#00002d; stroke:none; fill-opacity:1\" cx=\"564.906\" cy=\"229.074\" r=\"3\"/>\n",
       "<circle clip-path=\"url(#clip02)\" style=\"fill:#0099ff; stroke:none; fill-opacity:1\" cx=\"564.906\" cy=\"229.074\" r=\"2\"/>\n",
       "<circle clip-path=\"url(#clip02)\" style=\"fill:#00002d; stroke:none; fill-opacity:1\" cx=\"570.125\" cy=\"228.828\" r=\"3\"/>\n",
       "<circle clip-path=\"url(#clip02)\" style=\"fill:#0099ff; stroke:none; fill-opacity:1\" cx=\"570.125\" cy=\"228.828\" r=\"2\"/>\n",
       "<circle clip-path=\"url(#clip02)\" style=\"fill:#00002d; stroke:none; fill-opacity:1\" cx=\"575.344\" cy=\"228.652\" r=\"3\"/>\n",
       "<circle clip-path=\"url(#clip02)\" style=\"fill:#0099ff; stroke:none; fill-opacity:1\" cx=\"575.344\" cy=\"228.652\" r=\"2\"/>\n",
       "<circle clip-path=\"url(#clip02)\" style=\"fill:#00002d; stroke:none; fill-opacity:1\" cx=\"580.563\" cy=\"228.546\" r=\"3\"/>\n",
       "<circle clip-path=\"url(#clip02)\" style=\"fill:#0099ff; stroke:none; fill-opacity:1\" cx=\"580.563\" cy=\"228.546\" r=\"2\"/>\n",
       "<circle clip-path=\"url(#clip02)\" style=\"fill:#00002d; stroke:none; fill-opacity:1\" cx=\"63.8819\" cy=\"374.168\" r=\"3\"/>\n",
       "<circle clip-path=\"url(#clip02)\" style=\"fill:#e9746a; stroke:none; fill-opacity:1\" cx=\"63.8819\" cy=\"374.168\" r=\"2\"/>\n",
       "<circle clip-path=\"url(#clip02)\" style=\"fill:#00002d; stroke:none; fill-opacity:1\" cx=\"69.1009\" cy=\"374.06\" r=\"3\"/>\n",
       "<circle clip-path=\"url(#clip02)\" style=\"fill:#e9746a; stroke:none; fill-opacity:1\" cx=\"69.1009\" cy=\"374.06\" r=\"2\"/>\n",
       "<circle clip-path=\"url(#clip02)\" style=\"fill:#00002d; stroke:none; fill-opacity:1\" cx=\"74.3199\" cy=\"373.88\" r=\"3\"/>\n",
       "<circle clip-path=\"url(#clip02)\" style=\"fill:#e9746a; stroke:none; fill-opacity:1\" cx=\"74.3199\" cy=\"373.88\" r=\"2\"/>\n",
       "<circle clip-path=\"url(#clip02)\" style=\"fill:#00002d; stroke:none; fill-opacity:1\" cx=\"79.5389\" cy=\"373.629\" r=\"3\"/>\n",
       "<circle clip-path=\"url(#clip02)\" style=\"fill:#e9746a; stroke:none; fill-opacity:1\" cx=\"79.5389\" cy=\"373.629\" r=\"2\"/>\n",
       "<circle clip-path=\"url(#clip02)\" style=\"fill:#00002d; stroke:none; fill-opacity:1\" cx=\"84.7579\" cy=\"373.305\" r=\"3\"/>\n",
       "<circle clip-path=\"url(#clip02)\" style=\"fill:#e9746a; stroke:none; fill-opacity:1\" cx=\"84.7579\" cy=\"373.305\" r=\"2\"/>\n",
       "<circle clip-path=\"url(#clip02)\" style=\"fill:#00002d; stroke:none; fill-opacity:1\" cx=\"89.9769\" cy=\"372.91\" r=\"3\"/>\n",
       "<circle clip-path=\"url(#clip02)\" style=\"fill:#e9746a; stroke:none; fill-opacity:1\" cx=\"89.9769\" cy=\"372.91\" r=\"2\"/>\n",
       "<circle clip-path=\"url(#clip02)\" style=\"fill:#00002d; stroke:none; fill-opacity:1\" cx=\"95.1959\" cy=\"372.442\" r=\"3\"/>\n",
       "<circle clip-path=\"url(#clip02)\" style=\"fill:#e9746a; stroke:none; fill-opacity:1\" cx=\"95.1959\" cy=\"372.442\" r=\"2\"/>\n",
       "<circle clip-path=\"url(#clip02)\" style=\"fill:#00002d; stroke:none; fill-opacity:1\" cx=\"100.415\" cy=\"371.903\" r=\"3\"/>\n",
       "<circle clip-path=\"url(#clip02)\" style=\"fill:#e9746a; stroke:none; fill-opacity:1\" cx=\"100.415\" cy=\"371.903\" r=\"2\"/>\n",
       "<circle clip-path=\"url(#clip02)\" style=\"fill:#00002d; stroke:none; fill-opacity:1\" cx=\"105.634\" cy=\"371.292\" r=\"3\"/>\n",
       "<circle clip-path=\"url(#clip02)\" style=\"fill:#e9746a; stroke:none; fill-opacity:1\" cx=\"105.634\" cy=\"371.292\" r=\"2\"/>\n",
       "<circle clip-path=\"url(#clip02)\" style=\"fill:#00002d; stroke:none; fill-opacity:1\" cx=\"110.853\" cy=\"370.609\" r=\"3\"/>\n",
       "<circle clip-path=\"url(#clip02)\" style=\"fill:#e9746a; stroke:none; fill-opacity:1\" cx=\"110.853\" cy=\"370.609\" r=\"2\"/>\n",
       "<circle clip-path=\"url(#clip02)\" style=\"fill:#00002d; stroke:none; fill-opacity:1\" cx=\"116.072\" cy=\"369.854\" r=\"3\"/>\n",
       "<circle clip-path=\"url(#clip02)\" style=\"fill:#e9746a; stroke:none; fill-opacity:1\" cx=\"116.072\" cy=\"369.854\" r=\"2\"/>\n",
       "<circle clip-path=\"url(#clip02)\" style=\"fill:#00002d; stroke:none; fill-opacity:1\" cx=\"121.291\" cy=\"369.027\" r=\"3\"/>\n",
       "<circle clip-path=\"url(#clip02)\" style=\"fill:#e9746a; stroke:none; fill-opacity:1\" cx=\"121.291\" cy=\"369.027\" r=\"2\"/>\n",
       "<circle clip-path=\"url(#clip02)\" style=\"fill:#00002d; stroke:none; fill-opacity:1\" cx=\"126.51\" cy=\"368.128\" r=\"3\"/>\n",
       "<circle clip-path=\"url(#clip02)\" style=\"fill:#e9746a; stroke:none; fill-opacity:1\" cx=\"126.51\" cy=\"368.128\" r=\"2\"/>\n",
       "<circle clip-path=\"url(#clip02)\" style=\"fill:#00002d; stroke:none; fill-opacity:1\" cx=\"131.729\" cy=\"367.158\" r=\"3\"/>\n",
       "<circle clip-path=\"url(#clip02)\" style=\"fill:#e9746a; stroke:none; fill-opacity:1\" cx=\"131.729\" cy=\"367.158\" r=\"2\"/>\n",
       "<circle clip-path=\"url(#clip02)\" style=\"fill:#00002d; stroke:none; fill-opacity:1\" cx=\"136.948\" cy=\"366.115\" r=\"3\"/>\n",
       "<circle clip-path=\"url(#clip02)\" style=\"fill:#e9746a; stroke:none; fill-opacity:1\" cx=\"136.948\" cy=\"366.115\" r=\"2\"/>\n",
       "<circle clip-path=\"url(#clip02)\" style=\"fill:#00002d; stroke:none; fill-opacity:1\" cx=\"142.167\" cy=\"365.001\" r=\"3\"/>\n",
       "<circle clip-path=\"url(#clip02)\" style=\"fill:#e9746a; stroke:none; fill-opacity:1\" cx=\"142.167\" cy=\"365.001\" r=\"2\"/>\n",
       "<circle clip-path=\"url(#clip02)\" style=\"fill:#00002d; stroke:none; fill-opacity:1\" cx=\"147.386\" cy=\"363.815\" r=\"3\"/>\n",
       "<circle clip-path=\"url(#clip02)\" style=\"fill:#e9746a; stroke:none; fill-opacity:1\" cx=\"147.386\" cy=\"363.815\" r=\"2\"/>\n",
       "<circle clip-path=\"url(#clip02)\" style=\"fill:#00002d; stroke:none; fill-opacity:1\" cx=\"152.605\" cy=\"362.556\" r=\"3\"/>\n",
       "<circle clip-path=\"url(#clip02)\" style=\"fill:#e9746a; stroke:none; fill-opacity:1\" cx=\"152.605\" cy=\"362.556\" r=\"2\"/>\n",
       "<circle clip-path=\"url(#clip02)\" style=\"fill:#00002d; stroke:none; fill-opacity:1\" cx=\"157.824\" cy=\"361.226\" r=\"3\"/>\n",
       "<circle clip-path=\"url(#clip02)\" style=\"fill:#e9746a; stroke:none; fill-opacity:1\" cx=\"157.824\" cy=\"361.226\" r=\"2\"/>\n",
       "<circle clip-path=\"url(#clip02)\" style=\"fill:#00002d; stroke:none; fill-opacity:1\" cx=\"163.043\" cy=\"359.824\" r=\"3\"/>\n",
       "<circle clip-path=\"url(#clip02)\" style=\"fill:#e9746a; stroke:none; fill-opacity:1\" cx=\"163.043\" cy=\"359.824\" r=\"2\"/>\n",
       "<circle clip-path=\"url(#clip02)\" style=\"fill:#00002d; stroke:none; fill-opacity:1\" cx=\"168.262\" cy=\"358.35\" r=\"3\"/>\n",
       "<circle clip-path=\"url(#clip02)\" style=\"fill:#e9746a; stroke:none; fill-opacity:1\" cx=\"168.262\" cy=\"358.35\" r=\"2\"/>\n",
       "<circle clip-path=\"url(#clip02)\" style=\"fill:#00002d; stroke:none; fill-opacity:1\" cx=\"173.481\" cy=\"356.805\" r=\"3\"/>\n",
       "<circle clip-path=\"url(#clip02)\" style=\"fill:#e9746a; stroke:none; fill-opacity:1\" cx=\"173.481\" cy=\"356.805\" r=\"2\"/>\n",
       "<circle clip-path=\"url(#clip02)\" style=\"fill:#00002d; stroke:none; fill-opacity:1\" cx=\"178.7\" cy=\"355.187\" r=\"3\"/>\n",
       "<circle clip-path=\"url(#clip02)\" style=\"fill:#e9746a; stroke:none; fill-opacity:1\" cx=\"178.7\" cy=\"355.187\" r=\"2\"/>\n",
       "<circle clip-path=\"url(#clip02)\" style=\"fill:#00002d; stroke:none; fill-opacity:1\" cx=\"183.919\" cy=\"353.497\" r=\"3\"/>\n",
       "<circle clip-path=\"url(#clip02)\" style=\"fill:#e9746a; stroke:none; fill-opacity:1\" cx=\"183.919\" cy=\"353.497\" r=\"2\"/>\n",
       "<circle clip-path=\"url(#clip02)\" style=\"fill:#00002d; stroke:none; fill-opacity:1\" cx=\"189.138\" cy=\"351.736\" r=\"3\"/>\n",
       "<circle clip-path=\"url(#clip02)\" style=\"fill:#e9746a; stroke:none; fill-opacity:1\" cx=\"189.138\" cy=\"351.736\" r=\"2\"/>\n",
       "<circle clip-path=\"url(#clip02)\" style=\"fill:#00002d; stroke:none; fill-opacity:1\" cx=\"194.357\" cy=\"349.903\" r=\"3\"/>\n",
       "<circle clip-path=\"url(#clip02)\" style=\"fill:#e9746a; stroke:none; fill-opacity:1\" cx=\"194.357\" cy=\"349.903\" r=\"2\"/>\n",
       "<circle clip-path=\"url(#clip02)\" style=\"fill:#00002d; stroke:none; fill-opacity:1\" cx=\"199.576\" cy=\"347.997\" r=\"3\"/>\n",
       "<circle clip-path=\"url(#clip02)\" style=\"fill:#e9746a; stroke:none; fill-opacity:1\" cx=\"199.576\" cy=\"347.997\" r=\"2\"/>\n",
       "<circle clip-path=\"url(#clip02)\" style=\"fill:#00002d; stroke:none; fill-opacity:1\" cx=\"204.795\" cy=\"346.02\" r=\"3\"/>\n",
       "<circle clip-path=\"url(#clip02)\" style=\"fill:#e9746a; stroke:none; fill-opacity:1\" cx=\"204.795\" cy=\"346.02\" r=\"2\"/>\n",
       "<circle clip-path=\"url(#clip02)\" style=\"fill:#00002d; stroke:none; fill-opacity:1\" cx=\"210.014\" cy=\"343.971\" r=\"3\"/>\n",
       "<circle clip-path=\"url(#clip02)\" style=\"fill:#e9746a; stroke:none; fill-opacity:1\" cx=\"210.014\" cy=\"343.971\" r=\"2\"/>\n",
       "<circle clip-path=\"url(#clip02)\" style=\"fill:#00002d; stroke:none; fill-opacity:1\" cx=\"215.233\" cy=\"341.85\" r=\"3\"/>\n",
       "<circle clip-path=\"url(#clip02)\" style=\"fill:#e9746a; stroke:none; fill-opacity:1\" cx=\"215.233\" cy=\"341.85\" r=\"2\"/>\n",
       "<circle clip-path=\"url(#clip02)\" style=\"fill:#00002d; stroke:none; fill-opacity:1\" cx=\"220.452\" cy=\"339.657\" r=\"3\"/>\n",
       "<circle clip-path=\"url(#clip02)\" style=\"fill:#e9746a; stroke:none; fill-opacity:1\" cx=\"220.452\" cy=\"339.657\" r=\"2\"/>\n",
       "<circle clip-path=\"url(#clip02)\" style=\"fill:#00002d; stroke:none; fill-opacity:1\" cx=\"225.671\" cy=\"337.393\" r=\"3\"/>\n",
       "<circle clip-path=\"url(#clip02)\" style=\"fill:#e9746a; stroke:none; fill-opacity:1\" cx=\"225.671\" cy=\"337.393\" r=\"2\"/>\n",
       "<circle clip-path=\"url(#clip02)\" style=\"fill:#00002d; stroke:none; fill-opacity:1\" cx=\"230.89\" cy=\"335.056\" r=\"3\"/>\n",
       "<circle clip-path=\"url(#clip02)\" style=\"fill:#e9746a; stroke:none; fill-opacity:1\" cx=\"230.89\" cy=\"335.056\" r=\"2\"/>\n",
       "<circle clip-path=\"url(#clip02)\" style=\"fill:#00002d; stroke:none; fill-opacity:1\" cx=\"236.109\" cy=\"332.647\" r=\"3\"/>\n",
       "<circle clip-path=\"url(#clip02)\" style=\"fill:#e9746a; stroke:none; fill-opacity:1\" cx=\"236.109\" cy=\"332.647\" r=\"2\"/>\n",
       "<circle clip-path=\"url(#clip02)\" style=\"fill:#00002d; stroke:none; fill-opacity:1\" cx=\"241.328\" cy=\"330.167\" r=\"3\"/>\n",
       "<circle clip-path=\"url(#clip02)\" style=\"fill:#e9746a; stroke:none; fill-opacity:1\" cx=\"241.328\" cy=\"330.167\" r=\"2\"/>\n",
       "<circle clip-path=\"url(#clip02)\" style=\"fill:#00002d; stroke:none; fill-opacity:1\" cx=\"246.547\" cy=\"327.615\" r=\"3\"/>\n",
       "<circle clip-path=\"url(#clip02)\" style=\"fill:#e9746a; stroke:none; fill-opacity:1\" cx=\"246.547\" cy=\"327.615\" r=\"2\"/>\n",
       "<circle clip-path=\"url(#clip02)\" style=\"fill:#00002d; stroke:none; fill-opacity:1\" cx=\"251.766\" cy=\"324.99\" r=\"3\"/>\n",
       "<circle clip-path=\"url(#clip02)\" style=\"fill:#e9746a; stroke:none; fill-opacity:1\" cx=\"251.766\" cy=\"324.99\" r=\"2\"/>\n",
       "<circle clip-path=\"url(#clip02)\" style=\"fill:#00002d; stroke:none; fill-opacity:1\" cx=\"256.985\" cy=\"322.294\" r=\"3\"/>\n",
       "<circle clip-path=\"url(#clip02)\" style=\"fill:#e9746a; stroke:none; fill-opacity:1\" cx=\"256.985\" cy=\"322.294\" r=\"2\"/>\n",
       "<circle clip-path=\"url(#clip02)\" style=\"fill:#00002d; stroke:none; fill-opacity:1\" cx=\"262.204\" cy=\"319.526\" r=\"3\"/>\n",
       "<circle clip-path=\"url(#clip02)\" style=\"fill:#e9746a; stroke:none; fill-opacity:1\" cx=\"262.204\" cy=\"319.526\" r=\"2\"/>\n",
       "<circle clip-path=\"url(#clip02)\" style=\"fill:#00002d; stroke:none; fill-opacity:1\" cx=\"267.423\" cy=\"316.686\" r=\"3\"/>\n",
       "<circle clip-path=\"url(#clip02)\" style=\"fill:#e9746a; stroke:none; fill-opacity:1\" cx=\"267.423\" cy=\"316.686\" r=\"2\"/>\n",
       "<circle clip-path=\"url(#clip02)\" style=\"fill:#00002d; stroke:none; fill-opacity:1\" cx=\"272.642\" cy=\"313.775\" r=\"3\"/>\n",
       "<circle clip-path=\"url(#clip02)\" style=\"fill:#e9746a; stroke:none; fill-opacity:1\" cx=\"272.642\" cy=\"313.775\" r=\"2\"/>\n",
       "<circle clip-path=\"url(#clip02)\" style=\"fill:#00002d; stroke:none; fill-opacity:1\" cx=\"277.861\" cy=\"310.791\" r=\"3\"/>\n",
       "<circle clip-path=\"url(#clip02)\" style=\"fill:#e9746a; stroke:none; fill-opacity:1\" cx=\"277.861\" cy=\"310.791\" r=\"2\"/>\n",
       "<circle clip-path=\"url(#clip02)\" style=\"fill:#00002d; stroke:none; fill-opacity:1\" cx=\"283.08\" cy=\"307.735\" r=\"3\"/>\n",
       "<circle clip-path=\"url(#clip02)\" style=\"fill:#e9746a; stroke:none; fill-opacity:1\" cx=\"283.08\" cy=\"307.735\" r=\"2\"/>\n",
       "<circle clip-path=\"url(#clip02)\" style=\"fill:#00002d; stroke:none; fill-opacity:1\" cx=\"288.299\" cy=\"304.608\" r=\"3\"/>\n",
       "<circle clip-path=\"url(#clip02)\" style=\"fill:#e9746a; stroke:none; fill-opacity:1\" cx=\"288.299\" cy=\"304.608\" r=\"2\"/>\n",
       "<circle clip-path=\"url(#clip02)\" style=\"fill:#00002d; stroke:none; fill-opacity:1\" cx=\"293.518\" cy=\"301.408\" r=\"3\"/>\n",
       "<circle clip-path=\"url(#clip02)\" style=\"fill:#e9746a; stroke:none; fill-opacity:1\" cx=\"293.518\" cy=\"301.408\" r=\"2\"/>\n",
       "<circle clip-path=\"url(#clip02)\" style=\"fill:#00002d; stroke:none; fill-opacity:1\" cx=\"298.737\" cy=\"298.137\" r=\"3\"/>\n",
       "<circle clip-path=\"url(#clip02)\" style=\"fill:#e9746a; stroke:none; fill-opacity:1\" cx=\"298.737\" cy=\"298.137\" r=\"2\"/>\n",
       "<circle clip-path=\"url(#clip02)\" style=\"fill:#00002d; stroke:none; fill-opacity:1\" cx=\"303.956\" cy=\"294.794\" r=\"3\"/>\n",
       "<circle clip-path=\"url(#clip02)\" style=\"fill:#e9746a; stroke:none; fill-opacity:1\" cx=\"303.956\" cy=\"294.794\" r=\"2\"/>\n",
       "<circle clip-path=\"url(#clip02)\" style=\"fill:#00002d; stroke:none; fill-opacity:1\" cx=\"309.175\" cy=\"291.379\" r=\"3\"/>\n",
       "<circle clip-path=\"url(#clip02)\" style=\"fill:#e9746a; stroke:none; fill-opacity:1\" cx=\"309.175\" cy=\"291.379\" r=\"2\"/>\n",
       "<circle clip-path=\"url(#clip02)\" style=\"fill:#00002d; stroke:none; fill-opacity:1\" cx=\"314.394\" cy=\"287.892\" r=\"3\"/>\n",
       "<circle clip-path=\"url(#clip02)\" style=\"fill:#e9746a; stroke:none; fill-opacity:1\" cx=\"314.394\" cy=\"287.892\" r=\"2\"/>\n",
       "<circle clip-path=\"url(#clip02)\" style=\"fill:#00002d; stroke:none; fill-opacity:1\" cx=\"319.613\" cy=\"284.333\" r=\"3\"/>\n",
       "<circle clip-path=\"url(#clip02)\" style=\"fill:#e9746a; stroke:none; fill-opacity:1\" cx=\"319.613\" cy=\"284.333\" r=\"2\"/>\n",
       "<circle clip-path=\"url(#clip02)\" style=\"fill:#00002d; stroke:none; fill-opacity:1\" cx=\"324.832\" cy=\"280.702\" r=\"3\"/>\n",
       "<circle clip-path=\"url(#clip02)\" style=\"fill:#e9746a; stroke:none; fill-opacity:1\" cx=\"324.832\" cy=\"280.702\" r=\"2\"/>\n",
       "<circle clip-path=\"url(#clip02)\" style=\"fill:#00002d; stroke:none; fill-opacity:1\" cx=\"330.051\" cy=\"276.999\" r=\"3\"/>\n",
       "<circle clip-path=\"url(#clip02)\" style=\"fill:#e9746a; stroke:none; fill-opacity:1\" cx=\"330.051\" cy=\"276.999\" r=\"2\"/>\n",
       "<circle clip-path=\"url(#clip02)\" style=\"fill:#00002d; stroke:none; fill-opacity:1\" cx=\"335.27\" cy=\"273.225\" r=\"3\"/>\n",
       "<circle clip-path=\"url(#clip02)\" style=\"fill:#e9746a; stroke:none; fill-opacity:1\" cx=\"335.27\" cy=\"273.225\" r=\"2\"/>\n",
       "<circle clip-path=\"url(#clip02)\" style=\"fill:#00002d; stroke:none; fill-opacity:1\" cx=\"340.489\" cy=\"269.378\" r=\"3\"/>\n",
       "<circle clip-path=\"url(#clip02)\" style=\"fill:#e9746a; stroke:none; fill-opacity:1\" cx=\"340.489\" cy=\"269.378\" r=\"2\"/>\n",
       "<circle clip-path=\"url(#clip02)\" style=\"fill:#00002d; stroke:none; fill-opacity:1\" cx=\"345.708\" cy=\"265.46\" r=\"3\"/>\n",
       "<circle clip-path=\"url(#clip02)\" style=\"fill:#e9746a; stroke:none; fill-opacity:1\" cx=\"345.708\" cy=\"265.46\" r=\"2\"/>\n",
       "<circle clip-path=\"url(#clip02)\" style=\"fill:#00002d; stroke:none; fill-opacity:1\" cx=\"350.927\" cy=\"261.47\" r=\"3\"/>\n",
       "<circle clip-path=\"url(#clip02)\" style=\"fill:#e9746a; stroke:none; fill-opacity:1\" cx=\"350.927\" cy=\"261.47\" r=\"2\"/>\n",
       "<circle clip-path=\"url(#clip02)\" style=\"fill:#00002d; stroke:none; fill-opacity:1\" cx=\"356.146\" cy=\"257.408\" r=\"3\"/>\n",
       "<circle clip-path=\"url(#clip02)\" style=\"fill:#e9746a; stroke:none; fill-opacity:1\" cx=\"356.146\" cy=\"257.408\" r=\"2\"/>\n",
       "<circle clip-path=\"url(#clip02)\" style=\"fill:#00002d; stroke:none; fill-opacity:1\" cx=\"361.365\" cy=\"253.274\" r=\"3\"/>\n",
       "<circle clip-path=\"url(#clip02)\" style=\"fill:#e9746a; stroke:none; fill-opacity:1\" cx=\"361.365\" cy=\"253.274\" r=\"2\"/>\n",
       "<circle clip-path=\"url(#clip02)\" style=\"fill:#00002d; stroke:none; fill-opacity:1\" cx=\"366.584\" cy=\"249.068\" r=\"3\"/>\n",
       "<circle clip-path=\"url(#clip02)\" style=\"fill:#e9746a; stroke:none; fill-opacity:1\" cx=\"366.584\" cy=\"249.068\" r=\"2\"/>\n",
       "<circle clip-path=\"url(#clip02)\" style=\"fill:#00002d; stroke:none; fill-opacity:1\" cx=\"371.803\" cy=\"244.79\" r=\"3\"/>\n",
       "<circle clip-path=\"url(#clip02)\" style=\"fill:#e9746a; stroke:none; fill-opacity:1\" cx=\"371.803\" cy=\"244.79\" r=\"2\"/>\n",
       "<circle clip-path=\"url(#clip02)\" style=\"fill:#00002d; stroke:none; fill-opacity:1\" cx=\"377.022\" cy=\"240.44\" r=\"3\"/>\n",
       "<circle clip-path=\"url(#clip02)\" style=\"fill:#e9746a; stroke:none; fill-opacity:1\" cx=\"377.022\" cy=\"240.44\" r=\"2\"/>\n",
       "<circle clip-path=\"url(#clip02)\" style=\"fill:#00002d; stroke:none; fill-opacity:1\" cx=\"382.241\" cy=\"236.018\" r=\"3\"/>\n",
       "<circle clip-path=\"url(#clip02)\" style=\"fill:#e9746a; stroke:none; fill-opacity:1\" cx=\"382.241\" cy=\"236.018\" r=\"2\"/>\n",
       "<circle clip-path=\"url(#clip02)\" style=\"fill:#00002d; stroke:none; fill-opacity:1\" cx=\"387.46\" cy=\"231.525\" r=\"3\"/>\n",
       "<circle clip-path=\"url(#clip02)\" style=\"fill:#e9746a; stroke:none; fill-opacity:1\" cx=\"387.46\" cy=\"231.525\" r=\"2\"/>\n",
       "<circle clip-path=\"url(#clip02)\" style=\"fill:#00002d; stroke:none; fill-opacity:1\" cx=\"392.679\" cy=\"226.959\" r=\"3\"/>\n",
       "<circle clip-path=\"url(#clip02)\" style=\"fill:#e9746a; stroke:none; fill-opacity:1\" cx=\"392.679\" cy=\"226.959\" r=\"2\"/>\n",
       "<circle clip-path=\"url(#clip02)\" style=\"fill:#00002d; stroke:none; fill-opacity:1\" cx=\"397.898\" cy=\"222.322\" r=\"3\"/>\n",
       "<circle clip-path=\"url(#clip02)\" style=\"fill:#e9746a; stroke:none; fill-opacity:1\" cx=\"397.898\" cy=\"222.322\" r=\"2\"/>\n",
       "<circle clip-path=\"url(#clip02)\" style=\"fill:#00002d; stroke:none; fill-opacity:1\" cx=\"403.117\" cy=\"217.613\" r=\"3\"/>\n",
       "<circle clip-path=\"url(#clip02)\" style=\"fill:#e9746a; stroke:none; fill-opacity:1\" cx=\"403.117\" cy=\"217.613\" r=\"2\"/>\n",
       "<circle clip-path=\"url(#clip02)\" style=\"fill:#00002d; stroke:none; fill-opacity:1\" cx=\"408.336\" cy=\"212.832\" r=\"3\"/>\n",
       "<circle clip-path=\"url(#clip02)\" style=\"fill:#e9746a; stroke:none; fill-opacity:1\" cx=\"408.336\" cy=\"212.832\" r=\"2\"/>\n",
       "<circle clip-path=\"url(#clip02)\" style=\"fill:#00002d; stroke:none; fill-opacity:1\" cx=\"413.555\" cy=\"207.979\" r=\"3\"/>\n",
       "<circle clip-path=\"url(#clip02)\" style=\"fill:#e9746a; stroke:none; fill-opacity:1\" cx=\"413.555\" cy=\"207.979\" r=\"2\"/>\n",
       "<circle clip-path=\"url(#clip02)\" style=\"fill:#00002d; stroke:none; fill-opacity:1\" cx=\"418.774\" cy=\"203.054\" r=\"3\"/>\n",
       "<circle clip-path=\"url(#clip02)\" style=\"fill:#e9746a; stroke:none; fill-opacity:1\" cx=\"418.774\" cy=\"203.054\" r=\"2\"/>\n",
       "<circle clip-path=\"url(#clip02)\" style=\"fill:#00002d; stroke:none; fill-opacity:1\" cx=\"423.993\" cy=\"198.057\" r=\"3\"/>\n",
       "<circle clip-path=\"url(#clip02)\" style=\"fill:#e9746a; stroke:none; fill-opacity:1\" cx=\"423.993\" cy=\"198.057\" r=\"2\"/>\n",
       "<circle clip-path=\"url(#clip02)\" style=\"fill:#00002d; stroke:none; fill-opacity:1\" cx=\"429.212\" cy=\"192.988\" r=\"3\"/>\n",
       "<circle clip-path=\"url(#clip02)\" style=\"fill:#e9746a; stroke:none; fill-opacity:1\" cx=\"429.212\" cy=\"192.988\" r=\"2\"/>\n",
       "<circle clip-path=\"url(#clip02)\" style=\"fill:#00002d; stroke:none; fill-opacity:1\" cx=\"434.431\" cy=\"187.848\" r=\"3\"/>\n",
       "<circle clip-path=\"url(#clip02)\" style=\"fill:#e9746a; stroke:none; fill-opacity:1\" cx=\"434.431\" cy=\"187.848\" r=\"2\"/>\n",
       "<circle clip-path=\"url(#clip02)\" style=\"fill:#00002d; stroke:none; fill-opacity:1\" cx=\"439.65\" cy=\"182.635\" r=\"3\"/>\n",
       "<circle clip-path=\"url(#clip02)\" style=\"fill:#e9746a; stroke:none; fill-opacity:1\" cx=\"439.65\" cy=\"182.635\" r=\"2\"/>\n",
       "<circle clip-path=\"url(#clip02)\" style=\"fill:#00002d; stroke:none; fill-opacity:1\" cx=\"444.869\" cy=\"177.351\" r=\"3\"/>\n",
       "<circle clip-path=\"url(#clip02)\" style=\"fill:#e9746a; stroke:none; fill-opacity:1\" cx=\"444.869\" cy=\"177.351\" r=\"2\"/>\n",
       "<circle clip-path=\"url(#clip02)\" style=\"fill:#00002d; stroke:none; fill-opacity:1\" cx=\"450.088\" cy=\"171.994\" r=\"3\"/>\n",
       "<circle clip-path=\"url(#clip02)\" style=\"fill:#e9746a; stroke:none; fill-opacity:1\" cx=\"450.088\" cy=\"171.994\" r=\"2\"/>\n",
       "<circle clip-path=\"url(#clip02)\" style=\"fill:#00002d; stroke:none; fill-opacity:1\" cx=\"455.307\" cy=\"166.566\" r=\"3\"/>\n",
       "<circle clip-path=\"url(#clip02)\" style=\"fill:#e9746a; stroke:none; fill-opacity:1\" cx=\"455.307\" cy=\"166.566\" r=\"2\"/>\n",
       "<circle clip-path=\"url(#clip02)\" style=\"fill:#00002d; stroke:none; fill-opacity:1\" cx=\"460.526\" cy=\"161.066\" r=\"3\"/>\n",
       "<circle clip-path=\"url(#clip02)\" style=\"fill:#e9746a; stroke:none; fill-opacity:1\" cx=\"460.526\" cy=\"161.066\" r=\"2\"/>\n",
       "<circle clip-path=\"url(#clip02)\" style=\"fill:#00002d; stroke:none; fill-opacity:1\" cx=\"465.745\" cy=\"155.494\" r=\"3\"/>\n",
       "<circle clip-path=\"url(#clip02)\" style=\"fill:#e9746a; stroke:none; fill-opacity:1\" cx=\"465.745\" cy=\"155.494\" r=\"2\"/>\n",
       "<circle clip-path=\"url(#clip02)\" style=\"fill:#00002d; stroke:none; fill-opacity:1\" cx=\"470.964\" cy=\"149.85\" r=\"3\"/>\n",
       "<circle clip-path=\"url(#clip02)\" style=\"fill:#e9746a; stroke:none; fill-opacity:1\" cx=\"470.964\" cy=\"149.85\" r=\"2\"/>\n",
       "<circle clip-path=\"url(#clip02)\" style=\"fill:#00002d; stroke:none; fill-opacity:1\" cx=\"476.183\" cy=\"144.134\" r=\"3\"/>\n",
       "<circle clip-path=\"url(#clip02)\" style=\"fill:#e9746a; stroke:none; fill-opacity:1\" cx=\"476.183\" cy=\"144.134\" r=\"2\"/>\n",
       "<circle clip-path=\"url(#clip02)\" style=\"fill:#00002d; stroke:none; fill-opacity:1\" cx=\"481.402\" cy=\"138.347\" r=\"3\"/>\n",
       "<circle clip-path=\"url(#clip02)\" style=\"fill:#e9746a; stroke:none; fill-opacity:1\" cx=\"481.402\" cy=\"138.347\" r=\"2\"/>\n",
       "<circle clip-path=\"url(#clip02)\" style=\"fill:#00002d; stroke:none; fill-opacity:1\" cx=\"486.621\" cy=\"132.487\" r=\"3\"/>\n",
       "<circle clip-path=\"url(#clip02)\" style=\"fill:#e9746a; stroke:none; fill-opacity:1\" cx=\"486.621\" cy=\"132.487\" r=\"2\"/>\n",
       "<circle clip-path=\"url(#clip02)\" style=\"fill:#00002d; stroke:none; fill-opacity:1\" cx=\"491.84\" cy=\"126.556\" r=\"3\"/>\n",
       "<circle clip-path=\"url(#clip02)\" style=\"fill:#e9746a; stroke:none; fill-opacity:1\" cx=\"491.84\" cy=\"126.556\" r=\"2\"/>\n",
       "<circle clip-path=\"url(#clip02)\" style=\"fill:#00002d; stroke:none; fill-opacity:1\" cx=\"497.059\" cy=\"120.552\" r=\"3\"/>\n",
       "<circle clip-path=\"url(#clip02)\" style=\"fill:#e9746a; stroke:none; fill-opacity:1\" cx=\"497.059\" cy=\"120.552\" r=\"2\"/>\n",
       "<circle clip-path=\"url(#clip02)\" style=\"fill:#00002d; stroke:none; fill-opacity:1\" cx=\"502.278\" cy=\"114.477\" r=\"3\"/>\n",
       "<circle clip-path=\"url(#clip02)\" style=\"fill:#e9746a; stroke:none; fill-opacity:1\" cx=\"502.278\" cy=\"114.477\" r=\"2\"/>\n",
       "<circle clip-path=\"url(#clip02)\" style=\"fill:#00002d; stroke:none; fill-opacity:1\" cx=\"507.497\" cy=\"108.33\" r=\"3\"/>\n",
       "<circle clip-path=\"url(#clip02)\" style=\"fill:#e9746a; stroke:none; fill-opacity:1\" cx=\"507.497\" cy=\"108.33\" r=\"2\"/>\n",
       "<circle clip-path=\"url(#clip02)\" style=\"fill:#00002d; stroke:none; fill-opacity:1\" cx=\"512.716\" cy=\"102.111\" r=\"3\"/>\n",
       "<circle clip-path=\"url(#clip02)\" style=\"fill:#e9746a; stroke:none; fill-opacity:1\" cx=\"512.716\" cy=\"102.111\" r=\"2\"/>\n",
       "<circle clip-path=\"url(#clip02)\" style=\"fill:#00002d; stroke:none; fill-opacity:1\" cx=\"517.935\" cy=\"95.8199\" r=\"3\"/>\n",
       "<circle clip-path=\"url(#clip02)\" style=\"fill:#e9746a; stroke:none; fill-opacity:1\" cx=\"517.935\" cy=\"95.8199\" r=\"2\"/>\n",
       "<circle clip-path=\"url(#clip02)\" style=\"fill:#00002d; stroke:none; fill-opacity:1\" cx=\"523.154\" cy=\"89.457\" r=\"3\"/>\n",
       "<circle clip-path=\"url(#clip02)\" style=\"fill:#e9746a; stroke:none; fill-opacity:1\" cx=\"523.154\" cy=\"89.457\" r=\"2\"/>\n",
       "<circle clip-path=\"url(#clip02)\" style=\"fill:#00002d; stroke:none; fill-opacity:1\" cx=\"528.373\" cy=\"83.0223\" r=\"3\"/>\n",
       "<circle clip-path=\"url(#clip02)\" style=\"fill:#e9746a; stroke:none; fill-opacity:1\" cx=\"528.373\" cy=\"83.0223\" r=\"2\"/>\n",
       "<circle clip-path=\"url(#clip02)\" style=\"fill:#00002d; stroke:none; fill-opacity:1\" cx=\"533.592\" cy=\"76.5156\" r=\"3\"/>\n",
       "<circle clip-path=\"url(#clip02)\" style=\"fill:#e9746a; stroke:none; fill-opacity:1\" cx=\"533.592\" cy=\"76.5156\" r=\"2\"/>\n",
       "<circle clip-path=\"url(#clip02)\" style=\"fill:#00002d; stroke:none; fill-opacity:1\" cx=\"538.811\" cy=\"69.9371\" r=\"3\"/>\n",
       "<circle clip-path=\"url(#clip02)\" style=\"fill:#e9746a; stroke:none; fill-opacity:1\" cx=\"538.811\" cy=\"69.9371\" r=\"2\"/>\n",
       "<circle clip-path=\"url(#clip02)\" style=\"fill:#00002d; stroke:none; fill-opacity:1\" cx=\"544.03\" cy=\"63.2866\" r=\"3\"/>\n",
       "<circle clip-path=\"url(#clip02)\" style=\"fill:#e9746a; stroke:none; fill-opacity:1\" cx=\"544.03\" cy=\"63.2866\" r=\"2\"/>\n",
       "<circle clip-path=\"url(#clip02)\" style=\"fill:#00002d; stroke:none; fill-opacity:1\" cx=\"549.249\" cy=\"56.5643\" r=\"3\"/>\n",
       "<circle clip-path=\"url(#clip02)\" style=\"fill:#e9746a; stroke:none; fill-opacity:1\" cx=\"549.249\" cy=\"56.5643\" r=\"2\"/>\n",
       "<circle clip-path=\"url(#clip02)\" style=\"fill:#00002d; stroke:none; fill-opacity:1\" cx=\"554.468\" cy=\"49.7701\" r=\"3\"/>\n",
       "<circle clip-path=\"url(#clip02)\" style=\"fill:#e9746a; stroke:none; fill-opacity:1\" cx=\"554.468\" cy=\"49.7701\" r=\"2\"/>\n",
       "<circle clip-path=\"url(#clip02)\" style=\"fill:#00002d; stroke:none; fill-opacity:1\" cx=\"559.687\" cy=\"42.9039\" r=\"3\"/>\n",
       "<circle clip-path=\"url(#clip02)\" style=\"fill:#e9746a; stroke:none; fill-opacity:1\" cx=\"559.687\" cy=\"42.9039\" r=\"2\"/>\n",
       "<circle clip-path=\"url(#clip02)\" style=\"fill:#00002d; stroke:none; fill-opacity:1\" cx=\"564.906\" cy=\"35.9659\" r=\"3\"/>\n",
       "<circle clip-path=\"url(#clip02)\" style=\"fill:#e9746a; stroke:none; fill-opacity:1\" cx=\"564.906\" cy=\"35.9659\" r=\"2\"/>\n",
       "<circle clip-path=\"url(#clip02)\" style=\"fill:#00002d; stroke:none; fill-opacity:1\" cx=\"570.125\" cy=\"28.956\" r=\"3\"/>\n",
       "<circle clip-path=\"url(#clip02)\" style=\"fill:#e9746a; stroke:none; fill-opacity:1\" cx=\"570.125\" cy=\"28.956\" r=\"2\"/>\n",
       "<circle clip-path=\"url(#clip02)\" style=\"fill:#00002d; stroke:none; fill-opacity:1\" cx=\"575.344\" cy=\"21.8742\" r=\"3\"/>\n",
       "<circle clip-path=\"url(#clip02)\" style=\"fill:#e9746a; stroke:none; fill-opacity:1\" cx=\"575.344\" cy=\"21.8742\" r=\"2\"/>\n",
       "<circle clip-path=\"url(#clip02)\" style=\"fill:#00002d; stroke:none; fill-opacity:1\" cx=\"580.563\" cy=\"14.7204\" r=\"3\"/>\n",
       "<circle clip-path=\"url(#clip02)\" style=\"fill:#e9746a; stroke:none; fill-opacity:1\" cx=\"580.563\" cy=\"14.7204\" r=\"2\"/>\n",
       "<polygon clip-path=\"url(#clip00)\" points=\"\n",
       "505.547,70.177 578.063,70.177 578.063,24.817 505.547,24.817 \n",
       "  \" fill=\"#ffffff\" fill-opacity=\"1\"/>\n",
       "<polyline clip-path=\"url(#clip00)\" style=\"stroke:#00002d; stroke-width:0.8; stroke-opacity:1; fill:none\" points=\"\n",
       "  505.547,70.177 578.063,70.177 578.063,24.817 505.547,24.817 505.547,70.177 \n",
       "  \"/>\n",
       "<circle clip-path=\"url(#clip00)\" style=\"fill:#00002d; stroke:none; fill-opacity:1\" cx=\"517.547\" cy=\"39.937\" r=\"7\"/>\n",
       "<circle clip-path=\"url(#clip00)\" style=\"fill:#0099ff; stroke:none; fill-opacity:1\" cx=\"517.547\" cy=\"39.937\" r=\"7\"/>\n",
       "<circle clip-path=\"url(#clip00)\" style=\"fill:#00002d; stroke:none; fill-opacity:1\" cx=\"541.547\" cy=\"39.937\" r=\"7\"/>\n",
       "<circle clip-path=\"url(#clip00)\" style=\"fill:#0099ff; stroke:none; fill-opacity:1\" cx=\"541.547\" cy=\"39.937\" r=\"7\"/>\n",
       "<g clip-path=\"url(#clip00)\">\n",
       "<text style=\"fill:#00002d; fill-opacity:1; font-family:Arial,Helvetica Neue,Helvetica,sans-serif; font-size:12; text-anchor:start;\" transform=\"rotate(0, 553.547, 44.437)\" x=\"553.547\" y=\"44.437\">y1</text>\n",
       "</g>\n",
       "<circle clip-path=\"url(#clip00)\" style=\"fill:#00002d; stroke:none; fill-opacity:1\" cx=\"517.547\" cy=\"55.057\" r=\"7\"/>\n",
       "<circle clip-path=\"url(#clip00)\" style=\"fill:#e9746a; stroke:none; fill-opacity:1\" cx=\"517.547\" cy=\"55.057\" r=\"7\"/>\n",
       "<circle clip-path=\"url(#clip00)\" style=\"fill:#00002d; stroke:none; fill-opacity:1\" cx=\"541.547\" cy=\"55.057\" r=\"7\"/>\n",
       "<circle clip-path=\"url(#clip00)\" style=\"fill:#e9746a; stroke:none; fill-opacity:1\" cx=\"541.547\" cy=\"55.057\" r=\"7\"/>\n",
       "<g clip-path=\"url(#clip00)\">\n",
       "<text style=\"fill:#00002d; fill-opacity:1; font-family:Arial,Helvetica Neue,Helvetica,sans-serif; font-size:12; text-anchor:start;\" transform=\"rotate(0, 553.547, 59.557)\" x=\"553.547\" y=\"59.557\">y2</text>\n",
       "</g>\n",
       "</svg>\n"
      ]
     },
     "execution_count": 187,
     "metadata": {},
     "output_type": "execute_result"
    }
   ],
   "source": [
    "scatter(E)\n",
    "scatter!([analitico(j) for j in 1:100])"
   ]
  },
  {
   "cell_type": "markdown",
   "metadata": {},
   "source": [
    "**[4]** Calcula los eigenvalores y eigenvectores de la matriz de discretización del operador de Schrödinger para una partícula libre. Compáralos con los resultados analíticos. ¿Qué observas?"
   ]
  },
  {
   "cell_type": "markdown",
   "metadata": {},
   "source": [
    "**[5]** Haz lo mismo para el oscilador armónico cuántico."
   ]
  },
  {
   "cell_type": "code",
   "execution_count": null,
   "metadata": {
    "collapsed": true
   },
   "outputs": [],
   "source": [
    "function oscilador armonico"
   ]
  },
  {
   "cell_type": "markdown",
   "metadata": {},
   "source": [
    "## Modos normales"
   ]
  },
  {
   "cell_type": "markdown",
   "metadata": {},
   "source": [
    "**[6]** Considera un sistema compuesto por cuatro carritos de masa $m$, acoplados con resortes sobre una pista recta. El carrito en cada extremo está acoplado mediante un resorte a una pared. Todos los resortes obedecen la ley de Hooke con la misma constante $k$.\n",
    "\n",
    "\n",
    "(i) Deduce las ecuaciones de movimiento a partir de la segunda ley de Newton y escríbelas en forma matricial. \n",
    "\n",
    "(ii) Para resolver el sistema de ecuaciones, proponemos la solución\n",
    "\n",
    "$$\n",
    "\\vec{x}(t) = \\mathrm{Re}(\\vec{z}(t)), \\quad \\vec{z}(t) = \\vec{a}e^{i\\omega t},\n",
    "$$\n",
    "donde $\\vec{a}$ es un vector complejo que tiene la información de la amplitud y la fase de las oscilaciones, que dependen de las condiciones iniciales. \n",
    "\n",
    "Las **frecuencias normales** del sistema son las raíces positivas de la ecuación característica de la matriz $\\mathbb{K} - \\omega^2\\mathbb{M}$ y los modos normales son los vectores que satisfacen la ecuación de autovalores $(\\mathbb{K} - \\omega^2\\mathbb{M})\\vec{a} = 0$. El movimiento del sistema está dado por la superposición de todos los modos normales.\n",
    "\n",
    "(iii) Calcula las frecuencias normales y los modos normales del sistema.\n",
    "\n",
    "(iv) Grafica, para cada modo normal, la posición de los carritos como función del tiempo. Describe cada modo normal en términos del movimiento de cada carrito.\n",
    "\n",
    "(v) Haz una animación del movimiento."
   ]
  }
 ],
 "metadata": {
  "anaconda-cloud": {},
  "hide_input": false,
  "kernelspec": {
   "display_name": "Julia 0.5.0",
   "language": "julia",
   "name": "julia-0.5"
  },
  "language_info": {
   "file_extension": ".jl",
   "mimetype": "application/julia",
   "name": "julia",
   "version": "0.5.0"
  },
  "widgets": {
   "state": {
    "64f7cea9-be98-41b3-9e48-04fdbdd48b3d": {
     "views": [
      {
       "cell_index": 29
      }
     ]
    },
    "94140e29-b903-4bda-84b7-b25e71dc1afc": {
     "views": [
      {
       "cell_index": 20
      }
     ]
    }
   },
   "version": "1.2.0"
  }
 },
 "nbformat": 4,
 "nbformat_minor": 1
}
