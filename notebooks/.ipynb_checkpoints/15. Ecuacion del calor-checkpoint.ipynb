{
 "cells": [
  {
   "cell_type": "markdown",
   "metadata": {},
   "source": [
    "# Ecuaciones parciales diferenciales de evolución"
   ]
  },
  {
   "cell_type": "markdown",
   "metadata": {},
   "source": [
    "Las ecuaciones diferenciales parciales (EDPs) constituyen otra área de suma importancia en la física, ya que modelan sistemas que varían con respecto a más de una variable independiente, por ejemplo, tanto el tiempo como el espacio.\n",
    "\n",
    "Del punto de vista numérico, se puede decir que el tipo de EDPs que es más sencillo conceptualmente son las llamadas **parabólicas**, es decir, **ecuaciones de evolución**, de las cuales la más conocida es la **ecuación del calor** o **ecuación de difusión**."
   ]
  },
  {
   "cell_type": "markdown",
   "metadata": {},
   "source": [
    "# La ecuación del calor"
   ]
  },
  {
   "cell_type": "markdown",
   "metadata": {},
   "source": [
    "La ecuación del calor modela el esparcimiento en el tiempo y en el espacio de un \"paquete\" del calor (perturbación local de temperatura en una región) o de concentración de una sustancia física o química. \n",
    "\n",
    "Llamemos $u(t, \\mathbf{x})$ la perturbación de la temperatura o la concentración de la sustancia en la posición $\\mathbf{x}$ al tiempo $t$. La ecuación de calor es\n",
    "\n",
    "$$\\frac{\\partial u(t, \\mathbf{x})}{\\partial t} = D \\, \\nabla^2 u(t, \\mathbf{x}).$$\n",
    "\n",
    "[Recordemos que $\\nabla^2 := \\frac{\\partial^2}{\\partial x^2} + \\frac{\\partial^2}{\\partial y^2} + \\frac{\\partial^2}{\\partial z^2}$ en tres dimensiones.]\n",
    "\n",
    "Esta ecuación nos dice cómo varía la concentración en el tiempo, dadas las condiciones locales en el espacio. Se deriva en términos de una ley de conservación:\n",
    "\n",
    "$$\\frac{\\partial u}{\\partial t} + \\nabla \\cdot \\mathbf{J} = 0,$$\n",
    "\n",
    "donde el flujo de calor o de concentración $\\mathbf{J}$ es proporcional a la gradiente local:\n",
    "\n",
    "$$\\mathbf{J} = -D \\, \\nabla u.$$\n",
    "\n",
    "La ecuación del calor es una **ecuación de evolución** que describe cómo evoluciona el sistema en el tiempo. Por lo tanto, su tratamiento se sigue de forma más directa de lo que hemos visto para EDOs."
   ]
  },
  {
   "cell_type": "markdown",
   "metadata": {},
   "source": [
    "## Una dimensión\n",
    "\n",
    "Empecemos con el caso más sencillo, con sólo una dimensión espacial. En este caso, la ecuación del calor se reduce a\n",
    "\n",
    "$$\\frac{\\partial u(t, x)}{\\partial t} = D \\frac{\\partial^2 u(t, x)}{\\partial x^2}.$$\n",
    "\n",
    "Para resolverla, necesitaremos una condición inicial $u(t=0, x) = f(x)$ (una función del espacio), así como condiciones en la frontera $u(t, x)$ para los valores de $x$ en la frontera del dominio espacial, y para todo $t$."
   ]
  },
  {
   "cell_type": "markdown",
   "metadata": {},
   "source": [
    "# Métodos numéricos para la ecuación del calor"
   ]
  },
  {
   "cell_type": "markdown",
   "metadata": {},
   "source": [
    "Dado que, como siempre, no podemos resolver problemas de naturaleza continua en la computadora, debemos *aproximar* la solución $u(t, x)$ de alguna forma. La manera más sencilla es, de nuevo, utilizar una **discretización*."
   ]
  },
  {
   "cell_type": "markdown",
   "metadata": {},
   "source": [
    "**[1]** (i) Pensando en tu experiencia con las ecuaciones diferenciales ordinarias, ¿cómo se puede discretizar $u(t, x)$, utilizando un tamaño de paso $h$ en el tiempo y $k$ en el espacio. Piensa que los valores posibles de $x$ son en el intervalo $[0, L]$.\n",
    "\n",
    "Denotemos con $t_n$ el tiempo al paso número $n$, y con $u^n_i$ la aproximación de la solución en el nodo número $i$ en el espacio al tiempo $n$.\n",
    "\n",
    "(ii) ¿Cómo se puede discretizar la ecuación del calor unidimensional? \n",
    "\n",
    "(iii) Reescribe la discretización para dar $u^{n+1}_i$ en términos de distintos $u^n_j$s al tiempo anterior."
   ]
  },
  {
   "cell_type": "code",
   "execution_count": 1,
   "metadata": {
    "collapsed": false
   },
   "outputs": [
    {
     "data": {
      "text/html": [
       "<div id=\"interact-js-shim\">\n",
       "    <script charset=\"utf-8\">\r\n",
       "(function (IPython, $, _, MathJax) {\r\n",
       "    $.event.special.destroyed = {\r\n",
       "\tremove: function(o) {\r\n",
       "\t    if (o.handler) {\r\n",
       "\t\to.handler.apply(this, arguments)\r\n",
       "\t    }\r\n",
       "\t}\r\n",
       "    }\r\n",
       "\r\n",
       "    var OutputArea = IPython.version >= \"4.0.0\" ? require(\"notebook/js/outputarea\").OutputArea : IPython.OutputArea;\r\n",
       "\r\n",
       "    var redrawValue = function (container, type, val) {\r\n",
       "\tvar selector = $(\"<div/>\");\r\n",
       "\tvar oa = new OutputArea(_.extend(selector, {\r\n",
       "\t    selector: selector,\r\n",
       "\t    prompt_area: true,\r\n",
       "\t    events: IPython.events,\r\n",
       "\t    keyboard_manager: IPython.keyboard_manager\r\n",
       "\t})); // Hack to work with IPython 2.1.0\r\n",
       "\r\n",
       "\tswitch (type) {\r\n",
       "\tcase \"image/png\":\r\n",
       "            var _src = 'data:' + type + ';base64,' + val;\r\n",
       "\t    $(container).find(\"img\").attr('src', _src);\r\n",
       "\t    break;\r\n",
       "\tcase \"text/latex\":\r\n",
       "\t\tif (MathJax){\r\n",
       "\t\t\tvar math = MathJax.Hub.getAllJax(container)[0];\r\n",
       "\t\t\tMathJax.Hub.Queue([\"Text\", math, val.replace(/^\\${1,2}|\\${1,2}$/g, '')]);\r\n",
       "\t\t\tbreak;\r\n",
       "\t\t}\r\n",
       "\tdefault:\r\n",
       "\t    var toinsert = OutputArea.append_map[type].apply(\r\n",
       "\t\toa, [val, {}, selector]\r\n",
       "\t    );\r\n",
       "\t    $(container).empty().append(toinsert.contents());\r\n",
       "\t    selector.remove();\r\n",
       "\t}\r\n",
       "    }\r\n",
       "\r\n",
       "\r\n",
       "    $(document).ready(function() {\r\n",
       "\tfunction initComm(evt, data) {\r\n",
       "\t    var comm_manager = data.kernel.comm_manager;\r\n",
       "        //_.extend(comm_manager.targets, require(\"widgets/js/widget\"))\r\n",
       "\t    comm_manager.register_target(\"Signal\", function (comm) {\r\n",
       "            comm.on_msg(function (msg) {\r\n",
       "                var val = msg.content.data.value;\r\n",
       "                $(\".signal-\" + comm.comm_id).each(function() {\r\n",
       "                var type = $(this).data(\"type\");\r\n",
       "                if (typeof(val[type]) !== \"undefined\" && val[type] !== null) {\r\n",
       "                    redrawValue(this, type, val[type], type);\r\n",
       "                }\r\n",
       "                });\r\n",
       "                delete val;\r\n",
       "                delete msg.content.data.value;\r\n",
       "            });\r\n",
       "\t    });\r\n",
       "\r\n",
       "\t    // coordingate with Comm and redraw Signals\r\n",
       "\t    // XXX: Test using Reactive here to improve performance\r\n",
       "\t    $([IPython.events]).on(\r\n",
       "\t\t'output_appended.OutputArea', function (event, type, value, md, toinsert) {\r\n",
       "\t\t    if (md && md.reactive) {\r\n",
       "                // console.log(md.comm_id);\r\n",
       "                toinsert.addClass(\"signal-\" + md.comm_id);\r\n",
       "                toinsert.data(\"type\", type);\r\n",
       "                // Signal back indicating the mimetype required\r\n",
       "                var comm_manager = IPython.notebook.kernel.comm_manager;\r\n",
       "                var comm = comm_manager.comms[md.comm_id];\r\n",
       "                comm.then(function (c) {\r\n",
       "                    c.send({action: \"subscribe_mime\",\r\n",
       "                       mime: type});\r\n",
       "                    toinsert.bind(\"destroyed\", function() {\r\n",
       "                        c.send({action: \"unsubscribe_mime\",\r\n",
       "                               mime: type});\r\n",
       "                    });\r\n",
       "                })\r\n",
       "\t\t    }\r\n",
       "\t    });\r\n",
       "\t}\r\n",
       "\r\n",
       "\ttry {\r\n",
       "\t    // try to initialize right away. otherwise, wait on the status_started event.\r\n",
       "\t    initComm(undefined, IPython.notebook);\r\n",
       "\t} catch (e) {\r\n",
       "\t    $([IPython.events]).on('kernel_created.Kernel kernel_created.Session', initComm);\r\n",
       "\t}\r\n",
       "    });\r\n",
       "})(IPython, jQuery, _, MathJax);\r\n",
       "</script>\n",
       "    <script>\n",
       "        window.interactLoadedFlag = true\n",
       "       $(\"#interact-js-shim\").bind(\"destroyed\", function () {\n",
       "           if (window.interactLoadedFlag) {\n",
       "               console.warn(\"JavaScript required by Interact will be removed if you remove this cell or run using Interact more than once.\")\n",
       "           }\n",
       "       })\n",
       "       $([IPython.events]).on(\"kernel_starting.Kernel kernel_restarting.Kernel\", function () { window.interactLoadedFlag = false })\n",
       "   </script>\n",
       "</div>"
      ]
     },
     "metadata": {},
     "output_type": "display_data"
    },
    {
     "data": {
      "text/plain": [
       "Plots.GRBackend()"
      ]
     },
     "execution_count": 1,
     "metadata": {},
     "output_type": "execute_result"
    }
   ],
   "source": [
    "using Plots,Interact\n",
    "gr()"
   ]
  },
  {
   "cell_type": "code",
   "execution_count": 2,
   "metadata": {
    "collapsed": false
   },
   "outputs": [
    {
     "data": {
      "text/plain": [
       "malla (generic function with 1 method)"
      ]
     },
     "execution_count": 2,
     "metadata": {},
     "output_type": "execute_result"
    }
   ],
   "source": [
    "function malla(L::Tuple{Float64,Float64},tf::Number;h::Number=1e-2,k::Number=1e-2)\n",
    "    T=collect(0.0:h:tf)\n",
    "    X=collect(L[1]:k:L[2])\n",
    "    return (T,X)\n",
    "end"
   ]
  },
  {
   "cell_type": "code",
   "execution_count": 3,
   "metadata": {
    "collapsed": false
   },
   "outputs": [
    {
     "data": {
      "text/plain": [
       "([0.0,0.01,0.02,0.03,0.04,0.05,0.06,0.07,0.08,0.09  …  2.91,2.92,2.93,2.94,2.95,2.96,2.97,2.98,2.99,3.0],[-2.0,-1.99,-1.98,-1.97,-1.96,-1.95,-1.94,-1.93,-1.92,-1.91  …  1.91,1.92,1.93,1.94,1.95,1.96,1.97,1.98,1.99,2.0])"
      ]
     },
     "execution_count": 3,
     "metadata": {},
     "output_type": "execute_result"
    }
   ],
   "source": [
    "malla((-2.0,2.0),3)"
   ]
  },
  {
   "cell_type": "markdown",
   "metadata": {},
   "source": [
    "### [1]\n",
    "\n",
    "Para discretizar la ecuación de calor, podemos utilizar la aproximación de la segunda derivada a partir de las expansiones de taylor de una función $f(x)$. Así, tenemos que \n",
    "\n",
    "$$f(x+k)=f(x)+k f'(x)+\\frac{k^2}{2} f''(x) $$\n",
    "\n",
    "$$f(x-k)=f(x)-k f'(x)+\\frac{k^2}{2} f''(x) $$\n",
    "\n",
    "$$f''(x)=\\frac{f(x+k)+f(x-k)-2f(x)}{k^2}$$\n",
    "\n",
    "Así, podemos reescribir la ecuación de calor como \n",
    "\n",
    "$$u(t+h,x)= u(t,x)+\\frac{hD}{k^2}(u(t,x+k)+u(t,x-k)-2u(t,x))$$\n",
    "\n",
    "Equivalentemente, utilizando la notación mencionada arriba,\n",
    "\n",
    "$$u^{n+1}_j= u^n_j+\\frac{hD}{k^2}(u^n_{j+1}+u^n_{j-1}-2u^n_j)$$"
   ]
  },
  {
   "cell_type": "markdown",
   "metadata": {},
   "source": [
    "**[2]** Considera la ecuación del calor en una dimensión sobre el intervalo de $x=-L$ a $x=L$, con condición inicial $u(t=0, x) = \\delta(x)$, donde $\\delta$ es la delta de Dirac, y condiciones de frontera absorbentes (de Dirichlet), es decir, $u(t, x=-L) = u(t, x=L) = 0$ para $t > 0$.\n",
    "\n",
    "(i) ¿Qué esperas intuitivamente que pase durante la evolución? ¿Qué pasará para tiempos largos?\n",
    "\n",
    "(ii) Escribe la solución analítica exacta para $u(x, t)$ en el caso cuando $L \\to \\infty$ (es decir, cuando \"no hay fronteras\" y la difusión ocurre en toda la recta real).\n",
    "\n",
    "(iii) Implementa el sistema, tomando cuidado en lo que ocurre en las fronteras. Para hacerlo, utiliza un vector para representar el estado actual del sistema, y otro vector para el estado al tiempo siguiente.\n",
    "\n",
    "(iv) Dibuja la evolución en el tiempo, por ejemplo usando `Interact`. ¿Ocurre lo que esperabas? Dibuja en la misma gráfica la solución analítica exacta para $L \\to \\infty$. ¿Qué observas?\n",
    "\n",
    "(v) También dibuja la evolución como un \"heat map\" (mapa de calor), es decir, dibuja la matriz dos-dimensional $u^n_i$ con colores que representan los valores de cada elemento de la matriz.\n",
    "\n",
    "(v) ¿Qué ocurre si tomas otra condición inicial, por ejemplo una suma de dos deltas? Compáralo con el caso anterior en la misma gráfica."
   ]
  },
  {
   "cell_type": "code",
   "execution_count": 4,
   "metadata": {
    "collapsed": false
   },
   "outputs": [
    {
     "data": {
      "text/plain": [
       "deltadir (generic function with 1 method)"
      ]
     },
     "execution_count": 4,
     "metadata": {},
     "output_type": "execute_result"
    }
   ],
   "source": [
    "function deltadir(x::Number;inf::Number=1e5)\n",
    "    if abs(x)<=1/inf\n",
    "        return inf\n",
    "    else\n",
    "        return 0\n",
    "    end\n",
    "end"
   ]
  },
  {
   "cell_type": "code",
   "execution_count": 5,
   "metadata": {
    "collapsed": false
   },
   "outputs": [
    {
     "data": {
      "text/html": [
       "<?xml version=\"1.0\" encoding=\"utf-8\"?>\n",
       "<svg xmlns=\"http://www.w3.org/2000/svg\" xmlns:xlink=\"http://www.w3.org/1999/xlink\" width=\"600\" height=\"400\" viewBox=\"0 0 600 400\">\n",
       "<defs>\n",
       "  <clipPath id=\"clip00\">\n",
       "    <rect x=\"0\" y=\"0\" width=\"600\" height=\"400\"/>\n",
       "  </clipPath>\n",
       "</defs>\n",
       "<polygon clip-path=\"url(#clip00)\" points=\"\n",
       "0,400 600,400 600,0 0,0 \n",
       "  \" fill=\"#ffffff\" fill-opacity=\"1\"/>\n",
       "<defs>\n",
       "  <clipPath id=\"clip01\">\n",
       "    <rect x=\"120\" y=\"0\" width=\"421\" height=\"400\"/>\n",
       "  </clipPath>\n",
       "</defs>\n",
       "<polygon clip-path=\"url(#clip00)\" points=\"\n",
       "30.6037,384.952 596.063,384.952 596.063,23.3815 30.6037,23.3815 \n",
       "  \" fill=\"#ffffff\" fill-opacity=\"1\"/>\n",
       "<defs>\n",
       "  <clipPath id=\"clip02\">\n",
       "    <rect x=\"30\" y=\"23\" width=\"566\" height=\"362\"/>\n",
       "  </clipPath>\n",
       "</defs>\n",
       "<polyline clip-path=\"url(#clip02)\" style=\"stroke:#00002d; stroke-width:0.8; stroke-opacity:0.5; fill:none\" stroke-dasharray=\"1, 2\" points=\"\n",
       "  30.6037,379.528 30.6037,28.805 \n",
       "  \"/>\n",
       "<polyline clip-path=\"url(#clip02)\" style=\"stroke:#00002d; stroke-width:0.8; stroke-opacity:0.5; fill:none\" stroke-dasharray=\"1, 2\" points=\"\n",
       "  171.969,379.528 171.969,28.805 \n",
       "  \"/>\n",
       "<polyline clip-path=\"url(#clip02)\" style=\"stroke:#00002d; stroke-width:0.8; stroke-opacity:0.5; fill:none\" stroke-dasharray=\"1, 2\" points=\"\n",
       "  313.333,379.528 313.333,28.805 \n",
       "  \"/>\n",
       "<polyline clip-path=\"url(#clip02)\" style=\"stroke:#00002d; stroke-width:0.8; stroke-opacity:0.5; fill:none\" stroke-dasharray=\"1, 2\" points=\"\n",
       "  454.698,379.528 454.698,28.805 \n",
       "  \"/>\n",
       "<polyline clip-path=\"url(#clip02)\" style=\"stroke:#00002d; stroke-width:0.8; stroke-opacity:0.5; fill:none\" stroke-dasharray=\"1, 2\" points=\"\n",
       "  596.063,379.528 596.063,28.805 \n",
       "  \"/>\n",
       "<polyline clip-path=\"url(#clip02)\" style=\"stroke:#00002d; stroke-width:0.8; stroke-opacity:0.5; fill:none\" stroke-dasharray=\"1, 2\" points=\"\n",
       "  39.0856,384.952 587.581,384.952 \n",
       "  \"/>\n",
       "<polyline clip-path=\"url(#clip02)\" style=\"stroke:#00002d; stroke-width:0.8; stroke-opacity:0.5; fill:none\" stroke-dasharray=\"1, 2\" points=\"\n",
       "  39.0856,312.638 587.581,312.638 \n",
       "  \"/>\n",
       "<polyline clip-path=\"url(#clip02)\" style=\"stroke:#00002d; stroke-width:0.8; stroke-opacity:0.5; fill:none\" stroke-dasharray=\"1, 2\" points=\"\n",
       "  39.0856,240.324 587.581,240.324 \n",
       "  \"/>\n",
       "<polyline clip-path=\"url(#clip02)\" style=\"stroke:#00002d; stroke-width:0.8; stroke-opacity:0.5; fill:none\" stroke-dasharray=\"1, 2\" points=\"\n",
       "  39.0856,168.01 587.581,168.01 \n",
       "  \"/>\n",
       "<polyline clip-path=\"url(#clip02)\" style=\"stroke:#00002d; stroke-width:0.8; stroke-opacity:0.5; fill:none\" stroke-dasharray=\"1, 2\" points=\"\n",
       "  39.0856,95.6955 587.581,95.6955 \n",
       "  \"/>\n",
       "<polyline clip-path=\"url(#clip02)\" style=\"stroke:#00002d; stroke-width:0.8; stroke-opacity:0.5; fill:none\" stroke-dasharray=\"1, 2\" points=\"\n",
       "  39.0856,23.3815 587.581,23.3815 \n",
       "  \"/>\n",
       "<polyline clip-path=\"url(#clip02)\" style=\"stroke:#00002d; stroke-width:0.8; stroke-opacity:1; fill:none\" points=\"\n",
       "  30.6037,384.952 596.063,384.952 \n",
       "  \"/>\n",
       "<polyline clip-path=\"url(#clip02)\" style=\"stroke:#00002d; stroke-width:0.8; stroke-opacity:1; fill:none\" points=\"\n",
       "  30.6037,384.952 30.6037,379.528 \n",
       "  \"/>\n",
       "<polyline clip-path=\"url(#clip02)\" style=\"stroke:#00002d; stroke-width:0.8; stroke-opacity:1; fill:none\" points=\"\n",
       "  171.969,384.952 171.969,379.528 \n",
       "  \"/>\n",
       "<polyline clip-path=\"url(#clip02)\" style=\"stroke:#00002d; stroke-width:0.8; stroke-opacity:1; fill:none\" points=\"\n",
       "  313.333,384.952 313.333,379.528 \n",
       "  \"/>\n",
       "<polyline clip-path=\"url(#clip02)\" style=\"stroke:#00002d; stroke-width:0.8; stroke-opacity:1; fill:none\" points=\"\n",
       "  454.698,384.952 454.698,379.528 \n",
       "  \"/>\n",
       "<polyline clip-path=\"url(#clip02)\" style=\"stroke:#00002d; stroke-width:0.8; stroke-opacity:1; fill:none\" points=\"\n",
       "  596.063,384.952 596.063,379.528 \n",
       "  \"/>\n",
       "<polyline clip-path=\"url(#clip02)\" style=\"stroke:#00002d; stroke-width:0.8; stroke-opacity:1; fill:none\" points=\"\n",
       "  30.6037,384.952 30.6037,23.3815 \n",
       "  \"/>\n",
       "<polyline clip-path=\"url(#clip02)\" style=\"stroke:#00002d; stroke-width:0.8; stroke-opacity:1; fill:none\" points=\"\n",
       "  30.6037,384.952 39.0856,384.952 \n",
       "  \"/>\n",
       "<polyline clip-path=\"url(#clip02)\" style=\"stroke:#00002d; stroke-width:0.8; stroke-opacity:1; fill:none\" points=\"\n",
       "  30.6037,312.638 39.0856,312.638 \n",
       "  \"/>\n",
       "<polyline clip-path=\"url(#clip02)\" style=\"stroke:#00002d; stroke-width:0.8; stroke-opacity:1; fill:none\" points=\"\n",
       "  30.6037,240.324 39.0856,240.324 \n",
       "  \"/>\n",
       "<polyline clip-path=\"url(#clip02)\" style=\"stroke:#00002d; stroke-width:0.8; stroke-opacity:1; fill:none\" points=\"\n",
       "  30.6037,168.01 39.0856,168.01 \n",
       "  \"/>\n",
       "<polyline clip-path=\"url(#clip02)\" style=\"stroke:#00002d; stroke-width:0.8; stroke-opacity:1; fill:none\" points=\"\n",
       "  30.6037,95.6955 39.0856,95.6955 \n",
       "  \"/>\n",
       "<polyline clip-path=\"url(#clip02)\" style=\"stroke:#00002d; stroke-width:0.8; stroke-opacity:1; fill:none\" points=\"\n",
       "  30.6037,23.3815 39.0856,23.3815 \n",
       "  \"/>\n",
       "<g clip-path=\"url(#clip00)\">\n",
       "<text style=\"fill:#00002d; fill-opacity:1; font-family:Arial,Helvetica Neue,Helvetica,sans-serif; font-size:12; text-anchor:middle;\" transform=\"rotate(0, 30.6037, 396.952)\" x=\"30.6037\" y=\"396.952\">-1.0</text>\n",
       "</g>\n",
       "<g clip-path=\"url(#clip00)\">\n",
       "<text style=\"fill:#00002d; fill-opacity:1; font-family:Arial,Helvetica Neue,Helvetica,sans-serif; font-size:12; text-anchor:middle;\" transform=\"rotate(0, 171.969, 396.952)\" x=\"171.969\" y=\"396.952\">-0.5</text>\n",
       "</g>\n",
       "<g clip-path=\"url(#clip00)\">\n",
       "<text style=\"fill:#00002d; fill-opacity:1; font-family:Arial,Helvetica Neue,Helvetica,sans-serif; font-size:12; text-anchor:middle;\" transform=\"rotate(0, 313.333, 396.952)\" x=\"313.333\" y=\"396.952\">0.0</text>\n",
       "</g>\n",
       "<g clip-path=\"url(#clip00)\">\n",
       "<text style=\"fill:#00002d; fill-opacity:1; font-family:Arial,Helvetica Neue,Helvetica,sans-serif; font-size:12; text-anchor:middle;\" transform=\"rotate(0, 454.698, 396.952)\" x=\"454.698\" y=\"396.952\">0.5</text>\n",
       "</g>\n",
       "<g clip-path=\"url(#clip00)\">\n",
       "<text style=\"fill:#00002d; fill-opacity:1; font-family:Arial,Helvetica Neue,Helvetica,sans-serif; font-size:12; text-anchor:middle;\" transform=\"rotate(0, 596.063, 396.952)\" x=\"596.063\" y=\"396.952\">1.0</text>\n",
       "</g>\n",
       "<g clip-path=\"url(#clip00)\">\n",
       "<text style=\"fill:#00002d; fill-opacity:1; font-family:Arial,Helvetica Neue,Helvetica,sans-serif; font-size:12; text-anchor:end;\" transform=\"rotate(0, 29.4037, 389.452)\" x=\"29.4037\" y=\"389.452\">0</text>\n",
       "</g>\n",
       "<g clip-path=\"url(#clip00)\">\n",
       "<text style=\"fill:#00002d; fill-opacity:1; font-family:Arial,Helvetica Neue,Helvetica,sans-serif; font-size:12; text-anchor:end;\" transform=\"rotate(0, 29.4037, 317.138)\" x=\"29.4037\" y=\"317.138\">20</text>\n",
       "</g>\n",
       "<g clip-path=\"url(#clip00)\">\n",
       "<text style=\"fill:#00002d; fill-opacity:1; font-family:Arial,Helvetica Neue,Helvetica,sans-serif; font-size:12; text-anchor:end;\" transform=\"rotate(0, 29.4037, 244.824)\" x=\"29.4037\" y=\"244.824\">40</text>\n",
       "</g>\n",
       "<g clip-path=\"url(#clip00)\">\n",
       "<text style=\"fill:#00002d; fill-opacity:1; font-family:Arial,Helvetica Neue,Helvetica,sans-serif; font-size:12; text-anchor:end;\" transform=\"rotate(0, 29.4037, 172.51)\" x=\"29.4037\" y=\"172.51\">60</text>\n",
       "</g>\n",
       "<g clip-path=\"url(#clip00)\">\n",
       "<text style=\"fill:#00002d; fill-opacity:1; font-family:Arial,Helvetica Neue,Helvetica,sans-serif; font-size:12; text-anchor:end;\" transform=\"rotate(0, 29.4037, 100.196)\" x=\"29.4037\" y=\"100.196\">80</text>\n",
       "</g>\n",
       "<g clip-path=\"url(#clip00)\">\n",
       "<text style=\"fill:#00002d; fill-opacity:1; font-family:Arial,Helvetica Neue,Helvetica,sans-serif; font-size:12; text-anchor:end;\" transform=\"rotate(0, 29.4037, 27.8815)\" x=\"29.4037\" y=\"27.8815\">100</text>\n",
       "</g>\n",
       "<g clip-path=\"url(#clip00)\">\n",
       "<text style=\"fill:#00002d; fill-opacity:1; font-family:Arial,Helvetica Neue,Helvetica,sans-serif; font-size:21; text-anchor:middle;\" transform=\"rotate(0, 313.333, 18)\" x=\"313.333\" y=\"18\">Delta</text>\n",
       "</g>\n",
       "<polyline clip-path=\"url(#clip02)\" style=\"stroke:#0099ff; stroke-width:0.8; stroke-opacity:1; fill:none\" points=\"\n",
       "  30.6037,384.952 33.4452,384.952 36.2867,384.952 39.1282,384.952 41.9697,384.952 44.8112,384.952 47.6527,384.952 50.4942,384.952 53.3357,384.952 56.1772,384.952 \n",
       "  59.0187,384.952 61.8602,384.952 64.7017,384.952 67.5432,384.952 70.3847,384.952 73.2262,384.952 76.0677,384.952 78.9092,384.952 81.7507,384.952 84.5923,384.952 \n",
       "  87.4338,384.952 90.2753,384.952 93.1168,384.952 95.9583,384.952 98.7998,384.952 101.641,384.952 104.483,384.952 107.324,384.952 110.166,384.952 113.007,384.952 \n",
       "  115.849,384.952 118.69,384.952 121.532,384.952 124.373,384.952 127.215,384.952 130.056,384.952 132.898,384.952 135.739,384.952 138.581,384.952 141.422,384.952 \n",
       "  144.264,384.952 147.105,384.952 149.947,384.952 152.788,384.952 155.63,384.952 158.471,384.952 161.313,384.952 164.154,384.952 166.996,384.952 169.837,384.952 \n",
       "  172.679,384.952 175.52,384.952 178.362,384.952 181.203,384.952 184.045,384.952 186.886,384.952 189.728,384.952 192.569,384.952 195.411,384.952 198.252,384.952 \n",
       "  201.094,384.952 203.935,384.952 206.777,384.952 209.618,384.952 212.46,384.952 215.301,384.952 218.143,384.952 220.984,384.952 223.826,384.952 226.667,384.952 \n",
       "  229.509,384.952 232.35,384.952 235.192,384.952 238.033,384.952 240.875,384.952 243.716,384.952 246.558,384.952 249.399,384.952 252.241,384.952 255.082,384.952 \n",
       "  257.924,384.952 260.766,384.952 263.607,384.952 266.449,384.952 269.29,384.952 272.132,384.952 274.973,384.952 277.815,384.952 280.656,384.952 283.498,384.952 \n",
       "  286.339,384.952 289.181,384.952 292.022,384.952 294.864,384.952 297.705,384.952 300.547,384.952 303.388,384.952 306.23,384.952 309.071,384.952 311.913,23.3815 \n",
       "  314.754,23.3815 317.596,384.952 320.437,384.952 323.279,384.952 326.12,384.952 328.962,384.952 331.803,384.952 334.645,384.952 337.486,384.952 340.328,384.952 \n",
       "  343.169,384.952 346.011,384.952 348.852,384.952 351.694,384.952 354.535,384.952 357.377,384.952 360.218,384.952 363.06,384.952 365.901,384.952 368.743,384.952 \n",
       "  371.584,384.952 374.426,384.952 377.267,384.952 380.109,384.952 382.95,384.952 385.792,384.952 388.633,384.952 391.475,384.952 394.316,384.952 397.158,384.952 \n",
       "  399.999,384.952 402.841,384.952 405.682,384.952 408.524,384.952 411.365,384.952 414.207,384.952 417.048,384.952 419.89,384.952 422.731,384.952 425.573,384.952 \n",
       "  428.414,384.952 431.256,384.952 434.097,384.952 436.939,384.952 439.78,384.952 442.622,384.952 445.463,384.952 448.305,384.952 451.146,384.952 453.988,384.952 \n",
       "  456.829,384.952 459.671,384.952 462.512,384.952 465.354,384.952 468.195,384.952 471.037,384.952 473.878,384.952 476.72,384.952 479.561,384.952 482.403,384.952 \n",
       "  485.244,384.952 488.086,384.952 490.927,384.952 493.769,384.952 496.61,384.952 499.452,384.952 502.293,384.952 505.135,384.952 507.976,384.952 510.818,384.952 \n",
       "  513.659,384.952 516.501,384.952 519.342,384.952 522.184,384.952 525.025,384.952 527.867,384.952 530.708,384.952 533.55,384.952 536.391,384.952 539.233,384.952 \n",
       "  542.074,384.952 544.916,384.952 547.757,384.952 550.599,384.952 553.44,384.952 556.282,384.952 559.123,384.952 561.965,384.952 564.806,384.952 567.648,384.952 \n",
       "  570.489,384.952 573.331,384.952 576.172,384.952 579.014,384.952 581.855,384.952 584.697,384.952 587.538,384.952 590.38,384.952 593.221,384.952 596.063,384.952 \n",
       "  \n",
       "  \"/>\n",
       "<polygon clip-path=\"url(#clip00)\" points=\"\n",
       "505.547,74.5015 578.063,74.5015 578.063,44.2615 505.547,44.2615 \n",
       "  \" fill=\"#ffffff\" fill-opacity=\"1\"/>\n",
       "<polyline clip-path=\"url(#clip00)\" style=\"stroke:#00002d; stroke-width:0.8; stroke-opacity:1; fill:none\" points=\"\n",
       "  505.547,74.5015 578.063,74.5015 578.063,44.2615 505.547,44.2615 505.547,74.5015 \n",
       "  \"/>\n",
       "<polyline clip-path=\"url(#clip00)\" style=\"stroke:#0099ff; stroke-width:0.8; stroke-opacity:1; fill:none\" points=\"\n",
       "  511.547,59.3815 547.547,59.3815 \n",
       "  \"/>\n",
       "<g clip-path=\"url(#clip00)\">\n",
       "<text style=\"fill:#00002d; fill-opacity:1; font-family:Arial,Helvetica Neue,Helvetica,sans-serif; font-size:12; text-anchor:start;\" transform=\"rotate(0, 553.547, 63.8815)\" x=\"553.547\" y=\"63.8815\">y1</text>\n",
       "</g>\n",
       "</svg>\n"
      ]
     },
     "execution_count": 5,
     "metadata": {},
     "output_type": "execute_result"
    }
   ],
   "source": [
    "A=linspace(-1,1,200)\n",
    "B=[deltadir(a,inf=100) for a in A]\n",
    "plot(A,B,title=\"Delta\")"
   ]
  },
  {
   "cell_type": "code",
   "execution_count": 6,
   "metadata": {
    "collapsed": false
   },
   "outputs": [
    {
     "name": "stdout",
     "output_type": "stream",
     "text": [
      "0.1\n"
     ]
    },
    {
     "data": {
      "text/plain": [
       "51×201 Array{Float64,2}:\n",
       " 0.0  0.0  0.0  0.0  0.0  0.0  0.0  0.0  …  0.0  0.0  0.0  0.0  0.0  0.0  0.0\n",
       " 0.0  0.0  0.0  0.0  0.0  0.0  0.0  0.0     0.0  0.0  0.0  0.0  0.0  0.0  0.0\n",
       " 0.0  0.0  0.0  0.0  0.0  0.0  0.0  0.0     0.0  0.0  0.0  0.0  0.0  0.0  0.0\n",
       " 0.0  0.0  0.0  0.0  0.0  0.0  0.0  0.0     0.0  0.0  0.0  0.0  0.0  0.0  0.0\n",
       " 0.0  0.0  0.0  0.0  0.0  0.0  0.0  0.0     0.0  0.0  0.0  0.0  0.0  0.0  0.0\n",
       " 0.0  0.0  0.0  0.0  0.0  0.0  0.0  0.0  …  0.0  0.0  0.0  0.0  0.0  0.0  0.0\n",
       " 0.0  0.0  0.0  0.0  0.0  0.0  0.0  0.0     0.0  0.0  0.0  0.0  0.0  0.0  0.0\n",
       " 0.0  0.0  0.0  0.0  0.0  0.0  0.0  0.0     0.0  0.0  0.0  0.0  0.0  0.0  0.0\n",
       " 0.0  0.0  0.0  0.0  0.0  0.0  0.0  0.0     0.0  0.0  0.0  0.0  0.0  0.0  0.0\n",
       " 0.0  0.0  0.0  0.0  0.0  0.0  0.0  0.0     0.0  0.0  0.0  0.0  0.0  0.0  0.0\n",
       " 0.0  0.0  0.0  0.0  0.0  0.0  0.0  0.0  …  0.0  0.0  0.0  0.0  0.0  0.0  0.0\n",
       " 0.0  0.0  0.0  0.0  0.0  0.0  0.0  0.0     0.0  0.0  0.0  0.0  0.0  0.0  0.0\n",
       " 0.0  0.0  0.0  0.0  0.0  0.0  0.0  0.0     0.0  0.0  0.0  0.0  0.0  0.0  0.0\n",
       " ⋮                        ⋮              ⋱       ⋮                        ⋮  \n",
       " 0.0  0.0  0.0  0.0  0.0  0.0  0.0  0.0     0.0  0.0  0.0  0.0  0.0  0.0  0.0\n",
       " 0.0  0.0  0.0  0.0  0.0  0.0  0.0  0.0  …  0.0  0.0  0.0  0.0  0.0  0.0  0.0\n",
       " 0.0  0.0  0.0  0.0  0.0  0.0  0.0  0.0     0.0  0.0  0.0  0.0  0.0  0.0  0.0\n",
       " 0.0  0.0  0.0  0.0  0.0  0.0  0.0  0.0     0.0  0.0  0.0  0.0  0.0  0.0  0.0\n",
       " 0.0  0.0  0.0  0.0  0.0  0.0  0.0  0.0     0.0  0.0  0.0  0.0  0.0  0.0  0.0\n",
       " 0.0  0.0  0.0  0.0  0.0  0.0  0.0  0.0     0.0  0.0  0.0  0.0  0.0  0.0  0.0\n",
       " 0.0  0.0  0.0  0.0  0.0  0.0  0.0  0.0  …  0.0  0.0  0.0  0.0  0.0  0.0  0.0\n",
       " 0.0  0.0  0.0  0.0  0.0  0.0  0.0  0.0     0.0  0.0  0.0  0.0  0.0  0.0  0.0\n",
       " 0.0  0.0  0.0  0.0  0.0  0.0  0.0  0.0     0.0  0.0  0.0  0.0  0.0  0.0  0.0\n",
       " 0.0  0.0  0.0  0.0  0.0  0.0  0.0  0.0     0.0  0.0  0.0  0.0  0.0  0.0  0.0\n",
       " 0.0  0.0  0.0  0.0  0.0  0.0  0.0  0.0     0.0  0.0  0.0  0.0  0.0  0.0  0.0\n",
       " 0.0  0.0  0.0  0.0  0.0  0.0  0.0  0.0  …  0.0  0.0  0.0  0.0  0.0  0.0  0.0"
      ]
     },
     "execution_count": 6,
     "metadata": {},
     "output_type": "execute_result"
    }
   ],
   "source": [
    "function calorabs(ut0::Function, L::Tuple{Float64,Float64}, tf::Float64; d::Number=1, h::Number=1e-2, k::Number=1e-2, test=false)\n",
    "    println(h*d/(k^2))\n",
    "    (T,X)=malla(L,tf,h=h,k=k)\n",
    "    u0=[ut0(x) for x in X]\n",
    "    total=reshape(u0,1,length(u0))\n",
    "    for i in 1:(length(T)-1)\n",
    "        B=vec(total[i,:])\n",
    "        C=[B[i] for i in 2:length(B)]\n",
    "        push!(C,0.0)\n",
    "        D=[B[i] for i in 1:(length(B)-1)]\n",
    "        unshift!(D,0.0)\n",
    "        u=B+(h*d/(k^2))*(C+D-2*B)\n",
    "        if test==true\n",
    "            @show i\n",
    "            @show B\n",
    "            @show C\n",
    "            @show D\n",
    "            @show u\n",
    "        end\n",
    "        u[end]=0.0\n",
    "        u[1]=0.0\n",
    "        total=vcat(total,u')\n",
    "    end\n",
    "    return total\n",
    "end\n",
    "M=calorabs(x->deltadir(x,inf=100),(-1.0,1.0),5.0,d=.0001,h=.1,k=0.01)"
   ]
  },
  {
   "cell_type": "code",
   "execution_count": 7,
   "metadata": {
    "collapsed": false
   },
   "outputs": [
    {
     "name": "stdout",
     "output_type": "stream",
     "text": [
      "0.1\n"
     ]
    },
    {
     "data": {
      "text/plain": [
       "51×201 Array{Float64,2}:\n",
       " 0.0  0.0  0.0  0.0  0.0  0.0  0.0  0.0  …  0.0  0.0  0.0  0.0  0.0  0.0  0.0\n",
       " 0.0  0.0  0.0  0.0  0.0  0.0  0.0  0.0     0.0  0.0  0.0  0.0  0.0  0.0  0.0\n",
       " 0.0  0.0  0.0  0.0  0.0  0.0  0.0  0.0     0.0  0.0  0.0  0.0  0.0  0.0  0.0\n",
       " 0.0  0.0  0.0  0.0  0.0  0.0  0.0  0.0     0.0  0.0  0.0  0.0  0.0  0.0  0.0\n",
       " 0.0  0.0  0.0  0.0  0.0  0.0  0.0  0.0     0.0  0.0  0.0  0.0  0.0  0.0  0.0\n",
       " 0.0  0.0  0.0  0.0  0.0  0.0  0.0  0.0  …  0.0  0.0  0.0  0.0  0.0  0.0  0.0\n",
       " 0.0  0.0  0.0  0.0  0.0  0.0  0.0  0.0     0.0  0.0  0.0  0.0  0.0  0.0  0.0\n",
       " 0.0  0.0  0.0  0.0  0.0  0.0  0.0  0.0     0.0  0.0  0.0  0.0  0.0  0.0  0.0\n",
       " 0.0  0.0  0.0  0.0  0.0  0.0  0.0  0.0     0.0  0.0  0.0  0.0  0.0  0.0  0.0\n",
       " 0.0  0.0  0.0  0.0  0.0  0.0  0.0  0.0     0.0  0.0  0.0  0.0  0.0  0.0  0.0\n",
       " 0.0  0.0  0.0  0.0  0.0  0.0  0.0  0.0  …  0.0  0.0  0.0  0.0  0.0  0.0  0.0\n",
       " 0.0  0.0  0.0  0.0  0.0  0.0  0.0  0.0     0.0  0.0  0.0  0.0  0.0  0.0  0.0\n",
       " 0.0  0.0  0.0  0.0  0.0  0.0  0.0  0.0     0.0  0.0  0.0  0.0  0.0  0.0  0.0\n",
       " ⋮                        ⋮              ⋱       ⋮                        ⋮  \n",
       " 0.0  0.0  0.0  0.0  0.0  0.0  0.0  0.0     0.0  0.0  0.0  0.0  0.0  0.0  0.0\n",
       " 0.0  0.0  0.0  0.0  0.0  0.0  0.0  0.0  …  0.0  0.0  0.0  0.0  0.0  0.0  0.0\n",
       " 0.0  0.0  0.0  0.0  0.0  0.0  0.0  0.0     0.0  0.0  0.0  0.0  0.0  0.0  0.0\n",
       " 0.0  0.0  0.0  0.0  0.0  0.0  0.0  0.0     0.0  0.0  0.0  0.0  0.0  0.0  0.0\n",
       " 0.0  0.0  0.0  0.0  0.0  0.0  0.0  0.0     0.0  0.0  0.0  0.0  0.0  0.0  0.0\n",
       " 0.0  0.0  0.0  0.0  0.0  0.0  0.0  0.0     0.0  0.0  0.0  0.0  0.0  0.0  0.0\n",
       " 0.0  0.0  0.0  0.0  0.0  0.0  0.0  0.0  …  0.0  0.0  0.0  0.0  0.0  0.0  0.0\n",
       " 0.0  0.0  0.0  0.0  0.0  0.0  0.0  0.0     0.0  0.0  0.0  0.0  0.0  0.0  0.0\n",
       " 0.0  0.0  0.0  0.0  0.0  0.0  0.0  0.0     0.0  0.0  0.0  0.0  0.0  0.0  0.0\n",
       " 0.0  0.0  0.0  0.0  0.0  0.0  0.0  0.0     0.0  0.0  0.0  0.0  0.0  0.0  0.0\n",
       " 0.0  0.0  0.0  0.0  0.0  0.0  0.0  0.0     0.0  0.0  0.0  0.0  0.0  0.0  0.0\n",
       " 0.0  0.0  0.0  0.0  0.0  0.0  0.0  0.0  …  0.0  0.0  0.0  0.0  0.0  0.0  0.0"
      ]
     },
     "execution_count": 7,
     "metadata": {},
     "output_type": "execute_result"
    }
   ],
   "source": [
    "function calorabs2(ut0::Function, L::Tuple{Float64,Float64}, tf::Float64; d::Number=1, h::Number=1e-2, k::Number=1e-2, test=false)\n",
    "    println(h*d/(k^2))\n",
    "    (T,X)=malla(L,tf,h=h,k=k)\n",
    "    u0=[ut0(x) for x in X]\n",
    "    total=reshape(u0,1,length(u0))\n",
    "    for i in 1:(length(T)-1)\n",
    "        B=vec(total[i,:])\n",
    "        C=[B[i-1] for i in 2:length(B)]\n",
    "        unshift!(C,0.0)\n",
    "        D=[B[i+1] for i in 1:(length(B)-1)]\n",
    "        push!(D,0.0)\n",
    "        u=B+(h*d/(k^2))*(C+D-2*B)\n",
    "        if test==true\n",
    "            @show i\n",
    "            @show B\n",
    "            @show C\n",
    "            @show D\n",
    "            @show u\n",
    "        end\n",
    "        total=vcat(total,u')\n",
    "    end\n",
    "    return total\n",
    "end\n",
    "M=calorabs(x->deltadir(x,inf=100),(-1.0,1.0),5.0,d=.0001,h=.1,k=0.01)"
   ]
  },
  {
   "cell_type": "code",
   "execution_count": 8,
   "metadata": {
    "collapsed": false
   },
   "outputs": [
    {
     "data": {
      "text/html": [],
      "text/plain": [
       "Interact.Options{:SelectionSlider,Int64}(Signal{Int64}(26, nactions=1),\"i\",26,\"26\",Interact.OptionDict(DataStructures.OrderedDict(\"1\"=>1,\"2\"=>2,\"3\"=>3,\"4\"=>4,\"5\"=>5,\"6\"=>6,\"7\"=>7,\"8\"=>8,\"9\"=>9,\"10\"=>10…),Dict(2=>\"2\",11=>\"11\",39=>\"39\",46=>\"46\",25=>\"25\",42=>\"42\",29=>\"29\",8=>\"8\",20=>\"20\",14=>\"14\"…)),Any[],Any[],true,\"horizontal\")"
      ]
     },
     "metadata": {},
     "output_type": "display_data"
    },
    {
     "data": {
      "text/html": [
       "<?xml version=\"1.0\" encoding=\"utf-8\"?>\n",
       "<svg xmlns=\"http://www.w3.org/2000/svg\" xmlns:xlink=\"http://www.w3.org/1999/xlink\" width=\"600\" height=\"400\" viewBox=\"0 0 600 400\">\n",
       "<defs>\n",
       "  <clipPath id=\"clip00\">\n",
       "    <rect x=\"0\" y=\"0\" width=\"600\" height=\"400\"/>\n",
       "  </clipPath>\n",
       "</defs>\n",
       "<polygon clip-path=\"url(#clip00)\" points=\"\n",
       "0,400 600,400 600,0 0,0 \n",
       "  \" fill=\"#ffffff\" fill-opacity=\"1\"/>\n",
       "<defs>\n",
       "  <clipPath id=\"clip01\">\n",
       "    <rect x=\"120\" y=\"0\" width=\"421\" height=\"400\"/>\n",
       "  </clipPath>\n",
       "</defs>\n",
       "<polygon clip-path=\"url(#clip00)\" points=\"\n",
       "45.8815,369.674 596.063,369.674 596.063,23.3815 45.8815,23.3815 \n",
       "  \" fill=\"#ffffff\" fill-opacity=\"1\"/>\n",
       "<defs>\n",
       "  <clipPath id=\"clip02\">\n",
       "    <rect x=\"45\" y=\"23\" width=\"551\" height=\"347\"/>\n",
       "  </clipPath>\n",
       "</defs>\n",
       "<polyline clip-path=\"url(#clip02)\" style=\"stroke:#00002d; stroke-width:0.8; stroke-opacity:0.5; fill:none\" stroke-dasharray=\"1, 2\" points=\"\n",
       "  180.676,364.48 180.676,28.5758 \n",
       "  \"/>\n",
       "<polyline clip-path=\"url(#clip02)\" style=\"stroke:#00002d; stroke-width:0.8; stroke-opacity:0.5; fill:none\" stroke-dasharray=\"1, 2\" points=\"\n",
       "  318.221,364.48 318.221,28.5758 \n",
       "  \"/>\n",
       "<polyline clip-path=\"url(#clip02)\" style=\"stroke:#00002d; stroke-width:0.8; stroke-opacity:0.5; fill:none\" stroke-dasharray=\"1, 2\" points=\"\n",
       "  455.767,364.48 455.767,28.5758 \n",
       "  \"/>\n",
       "<polyline clip-path=\"url(#clip02)\" style=\"stroke:#00002d; stroke-width:0.8; stroke-opacity:0.5; fill:none\" stroke-dasharray=\"1, 2\" points=\"\n",
       "  593.312,364.48 593.312,28.5758 \n",
       "  \"/>\n",
       "<polyline clip-path=\"url(#clip02)\" style=\"stroke:#00002d; stroke-width:0.8; stroke-opacity:0.5; fill:none\" stroke-dasharray=\"1, 2\" points=\"\n",
       "  54.1342,369.674 587.81,369.674 \n",
       "  \"/>\n",
       "<polyline clip-path=\"url(#clip02)\" style=\"stroke:#00002d; stroke-width:0.8; stroke-opacity:0.5; fill:none\" stroke-dasharray=\"1, 2\" points=\"\n",
       "  54.1342,300.416 587.81,300.416 \n",
       "  \"/>\n",
       "<polyline clip-path=\"url(#clip02)\" style=\"stroke:#00002d; stroke-width:0.8; stroke-opacity:0.5; fill:none\" stroke-dasharray=\"1, 2\" points=\"\n",
       "  54.1342,231.157 587.81,231.157 \n",
       "  \"/>\n",
       "<polyline clip-path=\"url(#clip02)\" style=\"stroke:#00002d; stroke-width:0.8; stroke-opacity:0.5; fill:none\" stroke-dasharray=\"1, 2\" points=\"\n",
       "  54.1342,161.899 587.81,161.899 \n",
       "  \"/>\n",
       "<polyline clip-path=\"url(#clip02)\" style=\"stroke:#00002d; stroke-width:0.8; stroke-opacity:0.5; fill:none\" stroke-dasharray=\"1, 2\" points=\"\n",
       "  54.1342,92.64 587.81,92.64 \n",
       "  \"/>\n",
       "<polyline clip-path=\"url(#clip02)\" style=\"stroke:#00002d; stroke-width:0.8; stroke-opacity:0.5; fill:none\" stroke-dasharray=\"1, 2\" points=\"\n",
       "  54.1342,23.3815 587.81,23.3815 \n",
       "  \"/>\n",
       "<polyline clip-path=\"url(#clip02)\" style=\"stroke:#00002d; stroke-width:0.8; stroke-opacity:1; fill:none\" points=\"\n",
       "  45.8815,369.674 596.063,369.674 \n",
       "  \"/>\n",
       "<polyline clip-path=\"url(#clip02)\" style=\"stroke:#00002d; stroke-width:0.8; stroke-opacity:1; fill:none\" points=\"\n",
       "  180.676,369.674 180.676,364.48 \n",
       "  \"/>\n",
       "<polyline clip-path=\"url(#clip02)\" style=\"stroke:#00002d; stroke-width:0.8; stroke-opacity:1; fill:none\" points=\"\n",
       "  318.221,369.674 318.221,364.48 \n",
       "  \"/>\n",
       "<polyline clip-path=\"url(#clip02)\" style=\"stroke:#00002d; stroke-width:0.8; stroke-opacity:1; fill:none\" points=\"\n",
       "  455.767,369.674 455.767,364.48 \n",
       "  \"/>\n",
       "<polyline clip-path=\"url(#clip02)\" style=\"stroke:#00002d; stroke-width:0.8; stroke-opacity:1; fill:none\" points=\"\n",
       "  593.312,369.674 593.312,364.48 \n",
       "  \"/>\n",
       "<polyline clip-path=\"url(#clip02)\" style=\"stroke:#00002d; stroke-width:0.8; stroke-opacity:1; fill:none\" points=\"\n",
       "  45.8815,369.674 45.8815,23.3815 \n",
       "  \"/>\n",
       "<polyline clip-path=\"url(#clip02)\" style=\"stroke:#00002d; stroke-width:0.8; stroke-opacity:1; fill:none\" points=\"\n",
       "  45.8815,369.674 54.1342,369.674 \n",
       "  \"/>\n",
       "<polyline clip-path=\"url(#clip02)\" style=\"stroke:#00002d; stroke-width:0.8; stroke-opacity:1; fill:none\" points=\"\n",
       "  45.8815,300.416 54.1342,300.416 \n",
       "  \"/>\n",
       "<polyline clip-path=\"url(#clip02)\" style=\"stroke:#00002d; stroke-width:0.8; stroke-opacity:1; fill:none\" points=\"\n",
       "  45.8815,231.157 54.1342,231.157 \n",
       "  \"/>\n",
       "<polyline clip-path=\"url(#clip02)\" style=\"stroke:#00002d; stroke-width:0.8; stroke-opacity:1; fill:none\" points=\"\n",
       "  45.8815,161.899 54.1342,161.899 \n",
       "  \"/>\n",
       "<polyline clip-path=\"url(#clip02)\" style=\"stroke:#00002d; stroke-width:0.8; stroke-opacity:1; fill:none\" points=\"\n",
       "  45.8815,92.64 54.1342,92.64 \n",
       "  \"/>\n",
       "<polyline clip-path=\"url(#clip02)\" style=\"stroke:#00002d; stroke-width:0.8; stroke-opacity:1; fill:none\" points=\"\n",
       "  45.8815,23.3815 54.1342,23.3815 \n",
       "  \"/>\n",
       "<g clip-path=\"url(#clip00)\">\n",
       "<text style=\"fill:#00002d; fill-opacity:1; font-family:Arial,Helvetica Neue,Helvetica,sans-serif; font-size:12; text-anchor:middle;\" transform=\"rotate(0, 180.676, 381.674)\" x=\"180.676\" y=\"381.674\">50</text>\n",
       "</g>\n",
       "<g clip-path=\"url(#clip00)\">\n",
       "<text style=\"fill:#00002d; fill-opacity:1; font-family:Arial,Helvetica Neue,Helvetica,sans-serif; font-size:12; text-anchor:middle;\" transform=\"rotate(0, 318.221, 381.674)\" x=\"318.221\" y=\"381.674\">100</text>\n",
       "</g>\n",
       "<g clip-path=\"url(#clip00)\">\n",
       "<text style=\"fill:#00002d; fill-opacity:1; font-family:Arial,Helvetica Neue,Helvetica,sans-serif; font-size:12; text-anchor:middle;\" transform=\"rotate(0, 455.767, 381.674)\" x=\"455.767\" y=\"381.674\">150</text>\n",
       "</g>\n",
       "<g clip-path=\"url(#clip00)\">\n",
       "<text style=\"fill:#00002d; fill-opacity:1; font-family:Arial,Helvetica Neue,Helvetica,sans-serif; font-size:12; text-anchor:middle;\" transform=\"rotate(0, 593.312, 381.674)\" x=\"593.312\" y=\"381.674\">200</text>\n",
       "</g>\n",
       "<g clip-path=\"url(#clip00)\">\n",
       "<text style=\"fill:#00002d; fill-opacity:1; font-family:Arial,Helvetica Neue,Helvetica,sans-serif; font-size:12; text-anchor:end;\" transform=\"rotate(0, 44.6815, 374.174)\" x=\"44.6815\" y=\"374.174\">0</text>\n",
       "</g>\n",
       "<g clip-path=\"url(#clip00)\">\n",
       "<text style=\"fill:#00002d; fill-opacity:1; font-family:Arial,Helvetica Neue,Helvetica,sans-serif; font-size:12; text-anchor:end;\" transform=\"rotate(0, 44.6815, 304.916)\" x=\"44.6815\" y=\"304.916\">20</text>\n",
       "</g>\n",
       "<g clip-path=\"url(#clip00)\">\n",
       "<text style=\"fill:#00002d; fill-opacity:1; font-family:Arial,Helvetica Neue,Helvetica,sans-serif; font-size:12; text-anchor:end;\" transform=\"rotate(0, 44.6815, 235.657)\" x=\"44.6815\" y=\"235.657\">40</text>\n",
       "</g>\n",
       "<g clip-path=\"url(#clip00)\">\n",
       "<text style=\"fill:#00002d; fill-opacity:1; font-family:Arial,Helvetica Neue,Helvetica,sans-serif; font-size:12; text-anchor:end;\" transform=\"rotate(0, 44.6815, 166.399)\" x=\"44.6815\" y=\"166.399\">60</text>\n",
       "</g>\n",
       "<g clip-path=\"url(#clip00)\">\n",
       "<text style=\"fill:#00002d; fill-opacity:1; font-family:Arial,Helvetica Neue,Helvetica,sans-serif; font-size:12; text-anchor:end;\" transform=\"rotate(0, 44.6815, 97.14)\" x=\"44.6815\" y=\"97.14\">80</text>\n",
       "</g>\n",
       "<g clip-path=\"url(#clip00)\">\n",
       "<text style=\"fill:#00002d; fill-opacity:1; font-family:Arial,Helvetica Neue,Helvetica,sans-serif; font-size:12; text-anchor:end;\" transform=\"rotate(0, 44.6815, 27.8815)\" x=\"44.6815\" y=\"27.8815\">100</text>\n",
       "</g>\n",
       "<g clip-path=\"url(#clip00)\">\n",
       "<text style=\"fill:#00002d; fill-opacity:1; font-family:Arial,Helvetica Neue,Helvetica,sans-serif; font-size:21; text-anchor:middle;\" transform=\"rotate(0, 320.972, 18)\" x=\"320.972\" y=\"18\">Ecuación de calor</text>\n",
       "</g>\n",
       "<g clip-path=\"url(#clip00)\">\n",
       "<text style=\"fill:#00002d; fill-opacity:1; font-family:Arial,Helvetica Neue,Helvetica,sans-serif; font-size:16; text-anchor:middle;\" transform=\"rotate(0, 320.972, 397.6)\" x=\"320.972\" y=\"397.6\">x</text>\n",
       "</g>\n",
       "<g clip-path=\"url(#clip00)\">\n",
       "<text style=\"fill:#00002d; fill-opacity:1; font-family:Arial,Helvetica Neue,Helvetica,sans-serif; font-size:16; text-anchor:middle;\" transform=\"rotate(-90, 14.4, 196.528)\" x=\"14.4\" y=\"196.528\">u(t,x)</text>\n",
       "</g>\n",
       "<polyline clip-path=\"url(#clip02)\" style=\"stroke:#0099ff; stroke-width:0.8; stroke-opacity:1; fill:none\" points=\"\n",
       "  45.8815,369.674 48.6324,369.674 51.3833,369.674 54.1342,369.674 56.8851,369.674 59.636,369.674 62.3869,369.674 65.1378,369.674 67.8887,369.674 70.6396,369.674 \n",
       "  73.3905,369.674 76.1414,369.674 78.8923,369.674 81.6433,369.674 84.3942,369.674 87.1451,369.674 89.896,369.674 92.6469,369.674 95.3978,369.674 98.1487,369.674 \n",
       "  100.9,369.674 103.651,369.674 106.401,369.674 109.152,369.674 111.903,369.674 114.654,369.674 117.405,369.674 120.156,369.674 122.907,369.674 125.658,369.674 \n",
       "  128.409,369.674 131.16,369.674 133.91,369.674 136.661,369.674 139.412,369.674 142.163,369.674 144.914,369.674 147.665,369.674 150.416,369.674 153.167,369.674 \n",
       "  155.918,369.674 158.669,369.674 161.42,369.674 164.17,369.674 166.921,369.674 169.672,369.674 172.423,369.674 175.174,369.674 177.925,369.674 180.676,369.674 \n",
       "  183.427,369.674 186.178,369.674 188.929,369.674 191.68,369.674 194.43,369.674 197.181,369.674 199.932,369.674 202.683,369.674 205.434,369.674 208.185,369.674 \n",
       "  210.936,369.674 213.687,369.674 216.438,369.674 219.189,369.674 221.94,369.674 224.69,369.674 227.441,369.674 230.192,369.674 232.943,369.674 235.694,369.674 \n",
       "  238.445,369.674 241.196,369.674 243.947,369.674 246.698,369.674 249.449,369.674 252.2,369.674 254.95,369.674 257.701,369.674 260.452,369.674 263.203,369.674 \n",
       "  265.954,369.674 268.705,369.674 271.456,369.674 274.207,369.674 276.958,369.674 279.709,369.674 282.46,369.674 285.21,369.674 287.961,369.673 290.712,369.668 \n",
       "  293.463,369.64 296.214,369.509 298.965,368.994 301.716,367.262 304.467,362.335 307.218,350.62 309.969,327.688 312.719,291.553 315.47,247.516 318.221,209.713 \n",
       "  320.972,194.635 323.723,209.713 326.474,247.516 329.225,291.553 331.976,327.688 334.727,350.62 337.478,362.335 340.229,367.262 342.979,368.994 345.73,369.509 \n",
       "  348.481,369.64 351.232,369.668 353.983,369.673 356.734,369.674 359.485,369.674 362.236,369.674 364.987,369.674 367.738,369.674 370.489,369.674 373.239,369.674 \n",
       "  375.99,369.674 378.741,369.674 381.492,369.674 384.243,369.674 386.994,369.674 389.745,369.674 392.496,369.674 395.247,369.674 397.998,369.674 400.749,369.674 \n",
       "  403.499,369.674 406.25,369.674 409.001,369.674 411.752,369.674 414.503,369.674 417.254,369.674 420.005,369.674 422.756,369.674 425.507,369.674 428.258,369.674 \n",
       "  431.009,369.674 433.759,369.674 436.51,369.674 439.261,369.674 442.012,369.674 444.763,369.674 447.514,369.674 450.265,369.674 453.016,369.674 455.767,369.674 \n",
       "  458.518,369.674 461.269,369.674 464.019,369.674 466.77,369.674 469.521,369.674 472.272,369.674 475.023,369.674 477.774,369.674 480.525,369.674 483.276,369.674 \n",
       "  486.027,369.674 488.778,369.674 491.528,369.674 494.279,369.674 497.03,369.674 499.781,369.674 502.532,369.674 505.283,369.674 508.034,369.674 510.785,369.674 \n",
       "  513.536,369.674 516.287,369.674 519.038,369.674 521.788,369.674 524.539,369.674 527.29,369.674 530.041,369.674 532.792,369.674 535.543,369.674 538.294,369.674 \n",
       "  541.045,369.674 543.796,369.674 546.547,369.674 549.298,369.674 552.048,369.674 554.799,369.674 557.55,369.674 560.301,369.674 563.052,369.674 565.803,369.674 \n",
       "  568.554,369.674 571.305,369.674 574.056,369.674 576.807,369.674 579.558,369.674 582.308,369.674 585.059,369.674 587.81,369.674 590.561,369.674 593.312,369.674 \n",
       "  596.063,369.674 \n",
       "  \"/>\n",
       "<polygon clip-path=\"url(#clip00)\" points=\"\n",
       "505.547,74.5015 578.063,74.5015 578.063,44.2615 505.547,44.2615 \n",
       "  \" fill=\"#ffffff\" fill-opacity=\"1\"/>\n",
       "<polyline clip-path=\"url(#clip00)\" style=\"stroke:#00002d; stroke-width:0.8; stroke-opacity:1; fill:none\" points=\"\n",
       "  505.547,74.5015 578.063,74.5015 578.063,44.2615 505.547,44.2615 505.547,74.5015 \n",
       "  \"/>\n",
       "<polyline clip-path=\"url(#clip00)\" style=\"stroke:#0099ff; stroke-width:0.8; stroke-opacity:1; fill:none\" points=\"\n",
       "  511.547,59.3815 547.547,59.3815 \n",
       "  \"/>\n",
       "<g clip-path=\"url(#clip00)\">\n",
       "<text style=\"fill:#00002d; fill-opacity:1; font-family:Arial,Helvetica Neue,Helvetica,sans-serif; font-size:12; text-anchor:start;\" transform=\"rotate(0, 553.547, 63.8815)\" x=\"553.547\" y=\"63.8815\">y1</text>\n",
       "</g>\n",
       "</svg>\n"
      ]
     },
     "execution_count": 8,
     "metadata": {
      "comm_id": "269318b5-7323-4342-af4d-fc3e7973bd86",
      "reactive": true
     },
     "output_type": "execute_result"
    }
   ],
   "source": [
    "@manipulate for i in 1:size(M)[1]\n",
    "    plot(M[i,:],ylim=(0,100),title=\"Ecuación de calor\",xlabel=\"x\",ylabel=\"u(t,x)\")\n",
    "end"
   ]
  },
  {
   "cell_type": "code",
   "execution_count": 9,
   "metadata": {
    "collapsed": false
   },
   "outputs": [
    {
     "name": "stderr",
     "output_type": "stream",
     "text": [
      "\u001b[1m\u001b[34mINFO: Saved animation to C:\\Users\\Aldo\\Google Drive\\Materias Facultad\\Fis Comp\\FisicaComputacional2017_2\\notebooks\\tmp.gif\n",
      "\u001b[0m"
     ]
    }
   ],
   "source": [
    "@gif for i in 1:size(M)[1]\n",
    "    plot(M[i,:],ylim=(0,100))\n",
    "end"
   ]
  },
  {
   "cell_type": "markdown",
   "metadata": {},
   "source": [
    "**[3]** (i) Los parámetros $h$ y $k$ de la discretización en el tiempo y en el espacio, respectivamente, ocurren en una cierta combinación en la ecuación discretizada que obtuviste. ¿Cuál es?  \n",
    "\n",
    "(ii) Resulta que el método numérico es estable para ciertos valores de este parámetro, e inestable para otros. Encuentra numéricamente el valor crítico de este parámetro, debajo del cual el método es estable y arriba del cual es inestable."
   ]
  },
  {
   "cell_type": "markdown",
   "metadata": {},
   "source": [
    "### [3]\n",
    "\n",
    "Para resolver el problema de estabilidad relacionado con el parámetro $\\frac{dh}{k^2}$, fijaremos valores de $k,d$ y iremos cambiando tanto el intervalo de tiempo en que deseamos la solución, como $h$. Sabemos que el centro de la solución, donde la delta de dirac se encuentra, debe de decaer conforme el tiempo aumenta. Para analizar la estabilidad, realizaremos un ciclo donde solucione el problema e imprima tanto el parámetro $\\frac{dh}{k^2}$ como todos los valores, a lo largo del tiempo, de $u(t,0)$"
   ]
  },
  {
   "cell_type": "code",
   "execution_count": 10,
   "metadata": {
    "collapsed": false
   },
   "outputs": [
    {
     "data": {
      "text/plain": [
       "3.69"
      ]
     },
     "execution_count": 10,
     "metadata": {},
     "output_type": "execute_result"
    }
   ],
   "source": [
    "round(3.68964,2)"
   ]
  },
  {
   "cell_type": "code",
   "execution_count": 11,
   "metadata": {
    "collapsed": false
   },
   "outputs": [
    {
     "name": "stdout",
     "output_type": "stream",
     "text": [
      "h=0.1\n",
      "parametro=10.0\n",
      "10.0\n",
      "100\n",
      "\n",
      "\n",
      "\n",
      "h=0.07498942093324558\n",
      "parametro=7.498942093324558\n",
      "7.498942093324558\n",
      "100\n",
      "\n",
      "\n",
      "\n",
      "h=0.056234132519034905\n",
      "parametro=5.62341325190349\n",
      "5.62341325190349\n",
      "100\n",
      "\n",
      "\n",
      "\n",
      "h=0.042169650342858224\n",
      "parametro=4.216965034285822\n",
      "4.216965034285822\n",
      "100\n",
      "\n",
      "\n",
      "\n",
      "h=0.03162277660168379\n",
      "parametro=3.162277660168379\n",
      "3.162277660168379\n",
      "100\n",
      "\n",
      "\n",
      "\n",
      "h=0.023713737056616554\n",
      "parametro=2.371373705661655\n",
      "2.371373705661655\n",
      "100\n",
      "\n",
      "\n",
      "\n",
      "h=0.01778279410038923\n",
      "parametro=1.778279410038923\n",
      "1.778279410038923\n",
      "100\n",
      "\n",
      "\n",
      "\n",
      "h=0.01333521432163324\n",
      "parametro=1.3335214321633242\n",
      "1.3335214321633242\n",
      "100\n",
      "\n",
      "\n",
      "\n",
      "h=0.01\n",
      "parametro=1.0\n",
      "1.0\n",
      "100\n",
      "\n",
      "\n",
      "\n",
      "h=0.007498942093324558\n",
      "parametro=0.7498942093324559\n",
      "0.7498942093324559\n",
      "100\n",
      "\n",
      "\n",
      "\n",
      "h=0.005623413251903491\n",
      "parametro=0.5623413251903491\n",
      "0.5623413251903491\n",
      "100\n",
      "\n",
      "\n",
      "\n",
      "h=0.004216965034285822\n",
      "parametro=0.4216965034285822\n",
      "0.4216965034285822\n",
      "100\n",
      "\n",
      "\n",
      "\n",
      "h=0.0031622776601683794\n",
      "parametro=0.31622776601683794\n",
      "0.31622776601683794\n",
      "100\n",
      "\n",
      "\n",
      "\n",
      "h=0.0023713737056616554\n",
      "parametro=0.23713737056616552\n",
      "0.23713737056616552\n",
      "100\n",
      "\n",
      "\n",
      "\n",
      "h=0.0017782794100389228\n",
      "parametro=0.1778279410038923\n",
      "0.1778279410038923\n",
      "100\n",
      "\n",
      "\n",
      "\n",
      "h=0.001333521432163324\n",
      "parametro=0.1333521432163324\n",
      "0.1333521432163324\n",
      "100\n",
      "\n",
      "\n",
      "\n",
      "h=0.001\n",
      "parametro=0.1\n",
      "0.1\n",
      "100\n",
      "\n",
      "\n",
      "\n",
      "h=0.0007498942093324559\n",
      "parametro=0.07498942093324558\n",
      "0.07498942093324558\n",
      "100\n",
      "\n",
      "\n",
      "\n",
      "h=0.0005623413251903491\n",
      "parametro=0.05623413251903491\n",
      "0.05623413251903491\n",
      "100\n",
      "\n",
      "\n",
      "\n",
      "h=0.00042169650342858224\n",
      "parametro=0.042169650342858224\n",
      "0.042169650342858224\n",
      "100\n",
      "\n",
      "\n",
      "\n",
      "h=0.00031622776601683794\n",
      "parametro=0.03162277660168379\n",
      "0.03162277660168379\n",
      "100\n",
      "\n",
      "\n",
      "\n",
      "h=0.00023713737056616554\n",
      "parametro=0.023713737056616554\n",
      "0.023713737056616554\n",
      "100\n",
      "\n",
      "\n",
      "\n",
      "h=0.0001778279410038923\n",
      "parametro=0.01778279410038923\n",
      "0.01778279410038923\n",
      "100\n",
      "\n",
      "\n",
      "\n",
      "h=0.0001333521432163324\n",
      "parametro=0.013335214321633239\n",
      "0.013335214321633239\n",
      "100\n",
      "\n",
      "\n",
      "\n",
      "h=0.0001\n",
      "parametro=0.010000000000000002\n",
      "0.010000000000000002\n",
      "100\n",
      "\n",
      "\n",
      "\n"
     ]
    }
   ],
   "source": [
    "H=logspace(-1,-4,25)\n",
    "for i in H\n",
    "    println(\"h=$i\")\n",
    "    println(\"parametro=$(.01*i/(.01^2))\")\n",
    "    M=calorabs(x->deltadir(x,inf=100),(-1.0,1.0),1.0,d=.01,h=i,k=0.01)\n",
    "    #println(M[1:10,convert(Int64,size(M)[2]/2)])\n",
    "    println(100)\n",
    "    println(\"\\n\\n\")\n",
    "end"
   ]
  },
  {
   "cell_type": "markdown",
   "metadata": {},
   "source": [
    "Sabemos que el valor del centro debe de ser estrictamente decreciente, es decir, el valor de la temperatura debe decrecer de manera monótona. En la iteración realizada, podemos observar que esto sucede solamente cuando el valor del parámetro $\\frac{dh}{k^2}$ cumple la relación:\n",
    "$$\\frac{dh}{k^2} \\leq 0.5$$"
   ]
  },
  {
   "cell_type": "code",
   "execution_count": 12,
   "metadata": {
    "collapsed": false
   },
   "outputs": [
    {
     "data": {
      "text/plain": [
       "escalon (generic function with 1 method)"
      ]
     },
     "execution_count": 12,
     "metadata": {},
     "output_type": "execute_result"
    }
   ],
   "source": [
    "function escalon(x;L::Number=1/2,h::Number=1)\n",
    "    if abs(x)<L\n",
    "        return h\n",
    "    else\n",
    "        return 0\n",
    "    end\n",
    "end"
   ]
  },
  {
   "cell_type": "code",
   "execution_count": 13,
   "metadata": {
    "collapsed": false
   },
   "outputs": [
    {
     "name": "stdout",
     "output_type": "stream",
     "text": [
      "0.1\n"
     ]
    },
    {
     "data": {
      "text/plain": [
       "501×201 Array{Float64,2}:\n",
       " 0.0  0.0         0.0         0.0         …  0.0         0.0         0.0\n",
       " 0.0  0.0         0.0         0.0            0.0         0.0         0.0\n",
       " 0.0  0.0         0.0         0.0            0.0         0.0         0.0\n",
       " 0.0  0.0         0.0         0.0            0.0         0.0         0.0\n",
       " 0.0  0.0         0.0         0.0            0.0         0.0         0.0\n",
       " 0.0  0.0         0.0         0.0         …  0.0         0.0         0.0\n",
       " 0.0  0.0         0.0         0.0            0.0         0.0         0.0\n",
       " 0.0  0.0         0.0         0.0            0.0         0.0         0.0\n",
       " 0.0  0.0         0.0         0.0            0.0         0.0         0.0\n",
       " 0.0  0.0         0.0         0.0            0.0         0.0         0.0\n",
       " 0.0  0.0         0.0         0.0         …  0.0         0.0         0.0\n",
       " 0.0  0.0         0.0         0.0            0.0         0.0         0.0\n",
       " 0.0  0.0         0.0         0.0            0.0         0.0         0.0\n",
       " ⋮                                        ⋱                          ⋮  \n",
       " 0.0  3.9471e-6   8.88944e-6  1.60313e-5     8.88944e-6  3.9471e-6   0.0\n",
       " 0.0  4.04662e-6  9.10939e-6  1.6417e-5   …  9.10939e-6  4.04662e-6  0.0\n",
       " 0.0  4.14824e-6  9.33387e-6  1.68103e-5     9.33387e-6  4.14824e-6  0.0\n",
       " 0.0  4.25198e-6  9.56295e-6  1.72114e-5     9.56295e-6  4.25198e-6  0.0\n",
       " 0.0  4.35788e-6  9.79669e-6  1.76204e-5     9.79669e-6  4.35788e-6  0.0\n",
       " 0.0  4.46597e-6  1.00352e-5  1.80374e-5     1.00352e-5  4.46597e-6  0.0\n",
       " 0.0  4.57629e-6  1.02785e-5  1.84627e-5  …  1.02785e-5  4.57629e-6  0.0\n",
       " 0.0  4.68888e-6  1.05267e-5  1.88962e-5     1.05267e-5  4.68888e-6  0.0\n",
       " 0.0  4.80378e-6  1.07799e-5  1.93381e-5     1.07799e-5  4.80378e-6  0.0\n",
       " 0.0  4.92101e-6  1.10381e-5  1.97885e-5     1.10381e-5  4.92101e-6  0.0\n",
       " 0.0  5.04061e-6  1.13014e-5  2.02476e-5     1.13014e-5  5.04061e-6  0.0\n",
       " 0.0  5.16263e-6  1.15699e-5  2.07155e-5  …  1.15699e-5  5.16263e-6  0.0"
      ]
     },
     "execution_count": 13,
     "metadata": {},
     "output_type": "execute_result"
    }
   ],
   "source": [
    "M=calorabs(x->escalon(x,L=.5,h=20),(-1.0,1.0),50.0,d=.0001,h=.1,k=0.01)"
   ]
  },
  {
   "cell_type": "code",
   "execution_count": 14,
   "metadata": {
    "collapsed": false
   },
   "outputs": [
    {
     "data": {
      "text/html": [],
      "text/plain": [
       "Interact.Options{:SelectionSlider,Int64}(Signal{Int64}(251, nactions=1),\"i\",251,\"251\",Interact.OptionDict(DataStructures.OrderedDict(\"1\"=>1,\"2\"=>2,\"3\"=>3,\"4\"=>4,\"5\"=>5,\"6\"=>6,\"7\"=>7,\"8\"=>8,\"9\"=>9,\"10\"=>10…),Dict(288=>\"288\",306=>\"306\",11=>\"11\",491=>\"491\",134=>\"134\",158=>\"158\",160=>\"160\",215=>\"215\",464=>\"464\",29=>\"29\"…)),Any[],Any[],true,\"horizontal\")"
      ]
     },
     "metadata": {},
     "output_type": "display_data"
    },
    {
     "data": {
      "text/html": [
       "<?xml version=\"1.0\" encoding=\"utf-8\"?>\n",
       "<svg xmlns=\"http://www.w3.org/2000/svg\" xmlns:xlink=\"http://www.w3.org/1999/xlink\" width=\"600\" height=\"400\" viewBox=\"0 0 600 400\">\n",
       "<defs>\n",
       "  <clipPath id=\"clip00\">\n",
       "    <rect x=\"0\" y=\"0\" width=\"600\" height=\"400\"/>\n",
       "  </clipPath>\n",
       "</defs>\n",
       "<polygon clip-path=\"url(#clip00)\" points=\"\n",
       "0,400 600,400 600,0 0,0 \n",
       "  \" fill=\"#ffffff\" fill-opacity=\"1\"/>\n",
       "<defs>\n",
       "  <clipPath id=\"clip01\">\n",
       "    <rect x=\"120\" y=\"0\" width=\"421\" height=\"400\"/>\n",
       "  </clipPath>\n",
       "</defs>\n",
       "<polygon clip-path=\"url(#clip00)\" points=\"\n",
       "45.8815,369.674 596.063,369.674 596.063,23.3815 45.8815,23.3815 \n",
       "  \" fill=\"#ffffff\" fill-opacity=\"1\"/>\n",
       "<defs>\n",
       "  <clipPath id=\"clip02\">\n",
       "    <rect x=\"45\" y=\"23\" width=\"551\" height=\"347\"/>\n",
       "  </clipPath>\n",
       "</defs>\n",
       "<polyline clip-path=\"url(#clip02)\" style=\"stroke:#00002d; stroke-width:0.8; stroke-opacity:0.5; fill:none\" stroke-dasharray=\"1, 2\" points=\"\n",
       "  180.676,364.48 180.676,28.5758 \n",
       "  \"/>\n",
       "<polyline clip-path=\"url(#clip02)\" style=\"stroke:#00002d; stroke-width:0.8; stroke-opacity:0.5; fill:none\" stroke-dasharray=\"1, 2\" points=\"\n",
       "  318.221,364.48 318.221,28.5758 \n",
       "  \"/>\n",
       "<polyline clip-path=\"url(#clip02)\" style=\"stroke:#00002d; stroke-width:0.8; stroke-opacity:0.5; fill:none\" stroke-dasharray=\"1, 2\" points=\"\n",
       "  455.767,364.48 455.767,28.5758 \n",
       "  \"/>\n",
       "<polyline clip-path=\"url(#clip02)\" style=\"stroke:#00002d; stroke-width:0.8; stroke-opacity:0.5; fill:none\" stroke-dasharray=\"1, 2\" points=\"\n",
       "  593.312,364.48 593.312,28.5758 \n",
       "  \"/>\n",
       "<polyline clip-path=\"url(#clip02)\" style=\"stroke:#00002d; stroke-width:0.8; stroke-opacity:0.5; fill:none\" stroke-dasharray=\"1, 2\" points=\"\n",
       "  54.1342,369.674 587.81,369.674 \n",
       "  \"/>\n",
       "<polyline clip-path=\"url(#clip02)\" style=\"stroke:#00002d; stroke-width:0.8; stroke-opacity:0.5; fill:none\" stroke-dasharray=\"1, 2\" points=\"\n",
       "  54.1342,300.416 587.81,300.416 \n",
       "  \"/>\n",
       "<polyline clip-path=\"url(#clip02)\" style=\"stroke:#00002d; stroke-width:0.8; stroke-opacity:0.5; fill:none\" stroke-dasharray=\"1, 2\" points=\"\n",
       "  54.1342,231.157 587.81,231.157 \n",
       "  \"/>\n",
       "<polyline clip-path=\"url(#clip02)\" style=\"stroke:#00002d; stroke-width:0.8; stroke-opacity:0.5; fill:none\" stroke-dasharray=\"1, 2\" points=\"\n",
       "  54.1342,161.899 587.81,161.899 \n",
       "  \"/>\n",
       "<polyline clip-path=\"url(#clip02)\" style=\"stroke:#00002d; stroke-width:0.8; stroke-opacity:0.5; fill:none\" stroke-dasharray=\"1, 2\" points=\"\n",
       "  54.1342,92.64 587.81,92.64 \n",
       "  \"/>\n",
       "<polyline clip-path=\"url(#clip02)\" style=\"stroke:#00002d; stroke-width:0.8; stroke-opacity:0.5; fill:none\" stroke-dasharray=\"1, 2\" points=\"\n",
       "  54.1342,23.3815 587.81,23.3815 \n",
       "  \"/>\n",
       "<polyline clip-path=\"url(#clip02)\" style=\"stroke:#00002d; stroke-width:0.8; stroke-opacity:1; fill:none\" points=\"\n",
       "  45.8815,369.674 596.063,369.674 \n",
       "  \"/>\n",
       "<polyline clip-path=\"url(#clip02)\" style=\"stroke:#00002d; stroke-width:0.8; stroke-opacity:1; fill:none\" points=\"\n",
       "  180.676,369.674 180.676,364.48 \n",
       "  \"/>\n",
       "<polyline clip-path=\"url(#clip02)\" style=\"stroke:#00002d; stroke-width:0.8; stroke-opacity:1; fill:none\" points=\"\n",
       "  318.221,369.674 318.221,364.48 \n",
       "  \"/>\n",
       "<polyline clip-path=\"url(#clip02)\" style=\"stroke:#00002d; stroke-width:0.8; stroke-opacity:1; fill:none\" points=\"\n",
       "  455.767,369.674 455.767,364.48 \n",
       "  \"/>\n",
       "<polyline clip-path=\"url(#clip02)\" style=\"stroke:#00002d; stroke-width:0.8; stroke-opacity:1; fill:none\" points=\"\n",
       "  593.312,369.674 593.312,364.48 \n",
       "  \"/>\n",
       "<polyline clip-path=\"url(#clip02)\" style=\"stroke:#00002d; stroke-width:0.8; stroke-opacity:1; fill:none\" points=\"\n",
       "  45.8815,369.674 45.8815,23.3815 \n",
       "  \"/>\n",
       "<polyline clip-path=\"url(#clip02)\" style=\"stroke:#00002d; stroke-width:0.8; stroke-opacity:1; fill:none\" points=\"\n",
       "  45.8815,369.674 54.1342,369.674 \n",
       "  \"/>\n",
       "<polyline clip-path=\"url(#clip02)\" style=\"stroke:#00002d; stroke-width:0.8; stroke-opacity:1; fill:none\" points=\"\n",
       "  45.8815,300.416 54.1342,300.416 \n",
       "  \"/>\n",
       "<polyline clip-path=\"url(#clip02)\" style=\"stroke:#00002d; stroke-width:0.8; stroke-opacity:1; fill:none\" points=\"\n",
       "  45.8815,231.157 54.1342,231.157 \n",
       "  \"/>\n",
       "<polyline clip-path=\"url(#clip02)\" style=\"stroke:#00002d; stroke-width:0.8; stroke-opacity:1; fill:none\" points=\"\n",
       "  45.8815,161.899 54.1342,161.899 \n",
       "  \"/>\n",
       "<polyline clip-path=\"url(#clip02)\" style=\"stroke:#00002d; stroke-width:0.8; stroke-opacity:1; fill:none\" points=\"\n",
       "  45.8815,92.64 54.1342,92.64 \n",
       "  \"/>\n",
       "<polyline clip-path=\"url(#clip02)\" style=\"stroke:#00002d; stroke-width:0.8; stroke-opacity:1; fill:none\" points=\"\n",
       "  45.8815,23.3815 54.1342,23.3815 \n",
       "  \"/>\n",
       "<g clip-path=\"url(#clip00)\">\n",
       "<text style=\"fill:#00002d; fill-opacity:1; font-family:Arial,Helvetica Neue,Helvetica,sans-serif; font-size:12; text-anchor:middle;\" transform=\"rotate(0, 180.676, 381.674)\" x=\"180.676\" y=\"381.674\">50</text>\n",
       "</g>\n",
       "<g clip-path=\"url(#clip00)\">\n",
       "<text style=\"fill:#00002d; fill-opacity:1; font-family:Arial,Helvetica Neue,Helvetica,sans-serif; font-size:12; text-anchor:middle;\" transform=\"rotate(0, 318.221, 381.674)\" x=\"318.221\" y=\"381.674\">100</text>\n",
       "</g>\n",
       "<g clip-path=\"url(#clip00)\">\n",
       "<text style=\"fill:#00002d; fill-opacity:1; font-family:Arial,Helvetica Neue,Helvetica,sans-serif; font-size:12; text-anchor:middle;\" transform=\"rotate(0, 455.767, 381.674)\" x=\"455.767\" y=\"381.674\">150</text>\n",
       "</g>\n",
       "<g clip-path=\"url(#clip00)\">\n",
       "<text style=\"fill:#00002d; fill-opacity:1; font-family:Arial,Helvetica Neue,Helvetica,sans-serif; font-size:12; text-anchor:middle;\" transform=\"rotate(0, 593.312, 381.674)\" x=\"593.312\" y=\"381.674\">200</text>\n",
       "</g>\n",
       "<g clip-path=\"url(#clip00)\">\n",
       "<text style=\"fill:#00002d; fill-opacity:1; font-family:Arial,Helvetica Neue,Helvetica,sans-serif; font-size:12; text-anchor:end;\" transform=\"rotate(0, 44.6815, 374.174)\" x=\"44.6815\" y=\"374.174\">0</text>\n",
       "</g>\n",
       "<g clip-path=\"url(#clip00)\">\n",
       "<text style=\"fill:#00002d; fill-opacity:1; font-family:Arial,Helvetica Neue,Helvetica,sans-serif; font-size:12; text-anchor:end;\" transform=\"rotate(0, 44.6815, 304.916)\" x=\"44.6815\" y=\"304.916\">20</text>\n",
       "</g>\n",
       "<g clip-path=\"url(#clip00)\">\n",
       "<text style=\"fill:#00002d; fill-opacity:1; font-family:Arial,Helvetica Neue,Helvetica,sans-serif; font-size:12; text-anchor:end;\" transform=\"rotate(0, 44.6815, 235.657)\" x=\"44.6815\" y=\"235.657\">40</text>\n",
       "</g>\n",
       "<g clip-path=\"url(#clip00)\">\n",
       "<text style=\"fill:#00002d; fill-opacity:1; font-family:Arial,Helvetica Neue,Helvetica,sans-serif; font-size:12; text-anchor:end;\" transform=\"rotate(0, 44.6815, 166.399)\" x=\"44.6815\" y=\"166.399\">60</text>\n",
       "</g>\n",
       "<g clip-path=\"url(#clip00)\">\n",
       "<text style=\"fill:#00002d; fill-opacity:1; font-family:Arial,Helvetica Neue,Helvetica,sans-serif; font-size:12; text-anchor:end;\" transform=\"rotate(0, 44.6815, 97.14)\" x=\"44.6815\" y=\"97.14\">80</text>\n",
       "</g>\n",
       "<g clip-path=\"url(#clip00)\">\n",
       "<text style=\"fill:#00002d; fill-opacity:1; font-family:Arial,Helvetica Neue,Helvetica,sans-serif; font-size:12; text-anchor:end;\" transform=\"rotate(0, 44.6815, 27.8815)\" x=\"44.6815\" y=\"27.8815\">100</text>\n",
       "</g>\n",
       "<g clip-path=\"url(#clip00)\">\n",
       "<text style=\"fill:#00002d; fill-opacity:1; font-family:Arial,Helvetica Neue,Helvetica,sans-serif; font-size:21; text-anchor:middle;\" transform=\"rotate(0, 320.972, 18)\" x=\"320.972\" y=\"18\">Ecuación de calor</text>\n",
       "</g>\n",
       "<g clip-path=\"url(#clip00)\">\n",
       "<text style=\"fill:#00002d; fill-opacity:1; font-family:Arial,Helvetica Neue,Helvetica,sans-serif; font-size:16; text-anchor:middle;\" transform=\"rotate(0, 320.972, 397.6)\" x=\"320.972\" y=\"397.6\">x</text>\n",
       "</g>\n",
       "<g clip-path=\"url(#clip00)\">\n",
       "<text style=\"fill:#00002d; fill-opacity:1; font-family:Arial,Helvetica Neue,Helvetica,sans-serif; font-size:16; text-anchor:middle;\" transform=\"rotate(-90, 14.4, 196.528)\" x=\"14.4\" y=\"196.528\">u(t,x)</text>\n",
       "</g>\n",
       "<polyline clip-path=\"url(#clip02)\" style=\"stroke:#0099ff; stroke-width:0.8; stroke-opacity:1; fill:none\" points=\"\n",
       "  45.8815,369.674 48.6324,369.674 51.3833,369.674 54.1342,369.674 56.8851,369.674 59.636,369.674 62.3869,369.674 65.1378,369.674 67.8887,369.674 70.6396,369.674 \n",
       "  73.3905,369.674 76.1414,369.674 78.8923,369.674 81.6433,369.674 84.3942,369.674 87.1451,369.674 89.896,369.674 92.6469,369.674 95.3978,369.674 98.1487,369.674 \n",
       "  100.9,369.673 103.651,369.673 106.401,369.672 109.152,369.67 111.903,369.668 114.654,369.663 117.405,369.655 120.156,369.643 122.907,369.623 125.658,369.591 \n",
       "  128.409,369.543 131.16,369.471 133.91,369.365 136.661,369.212 139.412,368.995 142.163,368.693 144.914,368.281 147.665,367.732 150.416,367.012 153.167,366.088 \n",
       "  155.918,364.925 158.669,363.49 161.42,361.754 164.17,359.696 166.921,357.304 169.672,354.578 172.423,351.535 175.174,348.204 177.925,344.63 180.676,340.873 \n",
       "  183.427,337.001 186.178,333.089 188.929,329.217 191.68,325.459 194.43,321.886 197.181,318.555 199.932,315.511 202.683,312.786 205.434,310.394 208.185,308.335 \n",
       "  210.936,306.599 213.687,305.164 216.438,304.001 219.189,303.077 221.94,302.358 224.69,301.808 227.441,301.397 230.192,301.095 232.943,300.878 235.694,300.724 \n",
       "  238.445,300.618 241.196,300.546 243.947,300.498 246.698,300.467 249.449,300.447 252.2,300.434 254.95,300.427 257.701,300.422 260.452,300.419 263.203,300.418 \n",
       "  265.954,300.417 268.705,300.416 271.456,300.416 274.207,300.416 276.958,300.416 279.709,300.416 282.46,300.416 285.21,300.416 287.961,300.416 290.712,300.416 \n",
       "  293.463,300.416 296.214,300.416 298.965,300.416 301.716,300.416 304.467,300.416 307.218,300.416 309.969,300.416 312.719,300.416 315.47,300.416 318.221,300.416 \n",
       "  320.972,300.416 323.723,300.416 326.474,300.416 329.225,300.416 331.976,300.416 334.727,300.416 337.478,300.416 340.229,300.416 342.979,300.416 345.73,300.416 \n",
       "  348.481,300.416 351.232,300.416 353.983,300.416 356.734,300.416 359.485,300.416 362.236,300.416 364.987,300.416 367.738,300.416 370.489,300.416 373.239,300.416 \n",
       "  375.99,300.417 378.741,300.418 381.492,300.419 384.243,300.422 386.994,300.427 389.745,300.434 392.496,300.447 395.247,300.467 397.998,300.498 400.749,300.546 \n",
       "  403.499,300.618 406.25,300.724 409.001,300.878 411.752,301.095 414.503,301.397 417.254,301.808 420.005,302.358 422.756,303.077 425.507,304.001 428.258,305.164 \n",
       "  431.009,306.599 433.759,308.335 436.51,310.394 439.261,312.786 442.012,315.511 444.763,318.555 447.514,321.886 450.265,325.459 453.016,329.217 455.767,333.089 \n",
       "  458.518,337.001 461.269,340.873 464.019,344.63 466.77,348.204 469.521,351.535 472.272,354.578 475.023,357.304 477.774,359.696 480.525,361.754 483.276,363.49 \n",
       "  486.027,364.925 488.778,366.088 491.528,367.012 494.279,367.732 497.03,368.281 499.781,368.693 502.532,368.995 505.283,369.212 508.034,369.365 510.785,369.471 \n",
       "  513.536,369.543 516.287,369.591 519.038,369.623 521.788,369.643 524.539,369.655 527.29,369.663 530.041,369.668 532.792,369.67 535.543,369.672 538.294,369.673 \n",
       "  541.045,369.673 543.796,369.674 546.547,369.674 549.298,369.674 552.048,369.674 554.799,369.674 557.55,369.674 560.301,369.674 563.052,369.674 565.803,369.674 \n",
       "  568.554,369.674 571.305,369.674 574.056,369.674 576.807,369.674 579.558,369.674 582.308,369.674 585.059,369.674 587.81,369.674 590.561,369.674 593.312,369.674 \n",
       "  596.063,369.674 \n",
       "  \"/>\n",
       "<polygon clip-path=\"url(#clip00)\" points=\"\n",
       "505.547,74.5015 578.063,74.5015 578.063,44.2615 505.547,44.2615 \n",
       "  \" fill=\"#ffffff\" fill-opacity=\"1\"/>\n",
       "<polyline clip-path=\"url(#clip00)\" style=\"stroke:#00002d; stroke-width:0.8; stroke-opacity:1; fill:none\" points=\"\n",
       "  505.547,74.5015 578.063,74.5015 578.063,44.2615 505.547,44.2615 505.547,74.5015 \n",
       "  \"/>\n",
       "<polyline clip-path=\"url(#clip00)\" style=\"stroke:#0099ff; stroke-width:0.8; stroke-opacity:1; fill:none\" points=\"\n",
       "  511.547,59.3815 547.547,59.3815 \n",
       "  \"/>\n",
       "<g clip-path=\"url(#clip00)\">\n",
       "<text style=\"fill:#00002d; fill-opacity:1; font-family:Arial,Helvetica Neue,Helvetica,sans-serif; font-size:12; text-anchor:start;\" transform=\"rotate(0, 553.547, 63.8815)\" x=\"553.547\" y=\"63.8815\">y1</text>\n",
       "</g>\n",
       "</svg>\n"
      ]
     },
     "execution_count": 14,
     "metadata": {
      "comm_id": "99ce06ce-3179-415a-860e-9925400dc5c2",
      "reactive": true
     },
     "output_type": "execute_result"
    }
   ],
   "source": [
    "@manipulate for i in 1:size(M)[1]\n",
    "    plot(M[i,:],ylim=(0,100),title=\"Ecuación de calor\",xlabel=\"x\",ylabel=\"u(t,x)\")\n",
    "end"
   ]
  },
  {
   "cell_type": "code",
   "execution_count": 15,
   "metadata": {
    "collapsed": false
   },
   "outputs": [
    {
     "data": {
      "text/html": [],
      "text/plain": [
       "Interact.Options{:SelectionSlider,Int64}(Signal{Int64}(101, nactions=1),\"i\",101,\"101\",Interact.OptionDict(DataStructures.OrderedDict(\"1\"=>1,\"2\"=>2,\"3\"=>3,\"4\"=>4,\"5\"=>5,\"6\"=>6,\"7\"=>7,\"8\"=>8,\"9\"=>9,\"10\"=>10…),Dict(11=>\"11\",134=>\"134\",158=>\"158\",160=>\"160\",29=>\"29\",131=>\"131\",173=>\"173\",74=>\"74\",201=>\"201\",176=>\"176\"…)),Any[],Any[],true,\"horizontal\")"
      ]
     },
     "metadata": {},
     "output_type": "display_data"
    },
    {
     "name": "stdout",
     "output_type": "stream",
     "text": [
      "0.1\n"
     ]
    },
    {
     "data": {
      "text/html": [
       "<?xml version=\"1.0\" encoding=\"utf-8\"?>\n",
       "<svg xmlns=\"http://www.w3.org/2000/svg\" xmlns:xlink=\"http://www.w3.org/1999/xlink\" width=\"600\" height=\"400\" viewBox=\"0 0 600 400\">\n",
       "<defs>\n",
       "  <clipPath id=\"clip00\">\n",
       "    <rect x=\"0\" y=\"0\" width=\"600\" height=\"400\"/>\n",
       "  </clipPath>\n",
       "</defs>\n",
       "<polygon clip-path=\"url(#clip00)\" points=\"\n",
       "0,400 600,400 600,0 0,0 \n",
       "  \" fill=\"#ffffff\" fill-opacity=\"1\"/>\n",
       "<defs>\n",
       "  <clipPath id=\"clip01\">\n",
       "    <rect x=\"120\" y=\"0\" width=\"421\" height=\"400\"/>\n",
       "  </clipPath>\n",
       "</defs>\n",
       "<polygon clip-path=\"url(#clip00)\" points=\"\n",
       "45.8815,369.674 596.063,369.674 596.063,23.3815 45.8815,23.3815 \n",
       "  \" fill=\"#ffffff\" fill-opacity=\"1\"/>\n",
       "<defs>\n",
       "  <clipPath id=\"clip02\">\n",
       "    <rect x=\"45\" y=\"23\" width=\"551\" height=\"347\"/>\n",
       "  </clipPath>\n",
       "</defs>\n",
       "<polyline clip-path=\"url(#clip02)\" style=\"stroke:#00002d; stroke-width:0.8; stroke-opacity:0.5; fill:none\" stroke-dasharray=\"1, 2\" points=\"\n",
       "  155.918,364.48 155.918,28.5758 \n",
       "  \"/>\n",
       "<polyline clip-path=\"url(#clip02)\" style=\"stroke:#00002d; stroke-width:0.8; stroke-opacity:0.5; fill:none\" stroke-dasharray=\"1, 2\" points=\"\n",
       "  293.463,364.48 293.463,28.5758 \n",
       "  \"/>\n",
       "<polyline clip-path=\"url(#clip02)\" style=\"stroke:#00002d; stroke-width:0.8; stroke-opacity:0.5; fill:none\" stroke-dasharray=\"1, 2\" points=\"\n",
       "  431.009,364.48 431.009,28.5758 \n",
       "  \"/>\n",
       "<polyline clip-path=\"url(#clip02)\" style=\"stroke:#00002d; stroke-width:0.8; stroke-opacity:0.5; fill:none\" stroke-dasharray=\"1, 2\" points=\"\n",
       "  568.554,364.48 568.554,28.5758 \n",
       "  \"/>\n",
       "<polyline clip-path=\"url(#clip02)\" style=\"stroke:#00002d; stroke-width:0.8; stroke-opacity:0.5; fill:none\" stroke-dasharray=\"1, 2\" points=\"\n",
       "  54.1342,369.674 587.81,369.674 \n",
       "  \"/>\n",
       "<polyline clip-path=\"url(#clip02)\" style=\"stroke:#00002d; stroke-width:0.8; stroke-opacity:0.5; fill:none\" stroke-dasharray=\"1, 2\" points=\"\n",
       "  54.1342,300.416 587.81,300.416 \n",
       "  \"/>\n",
       "<polyline clip-path=\"url(#clip02)\" style=\"stroke:#00002d; stroke-width:0.8; stroke-opacity:0.5; fill:none\" stroke-dasharray=\"1, 2\" points=\"\n",
       "  54.1342,231.157 587.81,231.157 \n",
       "  \"/>\n",
       "<polyline clip-path=\"url(#clip02)\" style=\"stroke:#00002d; stroke-width:0.8; stroke-opacity:0.5; fill:none\" stroke-dasharray=\"1, 2\" points=\"\n",
       "  54.1342,161.899 587.81,161.899 \n",
       "  \"/>\n",
       "<polyline clip-path=\"url(#clip02)\" style=\"stroke:#00002d; stroke-width:0.8; stroke-opacity:0.5; fill:none\" stroke-dasharray=\"1, 2\" points=\"\n",
       "  54.1342,92.64 587.81,92.64 \n",
       "  \"/>\n",
       "<polyline clip-path=\"url(#clip02)\" style=\"stroke:#00002d; stroke-width:0.8; stroke-opacity:0.5; fill:none\" stroke-dasharray=\"1, 2\" points=\"\n",
       "  54.1342,23.3815 587.81,23.3815 \n",
       "  \"/>\n",
       "<polyline clip-path=\"url(#clip02)\" style=\"stroke:#00002d; stroke-width:0.8; stroke-opacity:1; fill:none\" points=\"\n",
       "  45.8815,369.674 596.063,369.674 \n",
       "  \"/>\n",
       "<polyline clip-path=\"url(#clip02)\" style=\"stroke:#00002d; stroke-width:0.8; stroke-opacity:1; fill:none\" points=\"\n",
       "  155.918,369.674 155.918,364.48 \n",
       "  \"/>\n",
       "<polyline clip-path=\"url(#clip02)\" style=\"stroke:#00002d; stroke-width:0.8; stroke-opacity:1; fill:none\" points=\"\n",
       "  293.463,369.674 293.463,364.48 \n",
       "  \"/>\n",
       "<polyline clip-path=\"url(#clip02)\" style=\"stroke:#00002d; stroke-width:0.8; stroke-opacity:1; fill:none\" points=\"\n",
       "  431.009,369.674 431.009,364.48 \n",
       "  \"/>\n",
       "<polyline clip-path=\"url(#clip02)\" style=\"stroke:#00002d; stroke-width:0.8; stroke-opacity:1; fill:none\" points=\"\n",
       "  568.554,369.674 568.554,364.48 \n",
       "  \"/>\n",
       "<polyline clip-path=\"url(#clip02)\" style=\"stroke:#00002d; stroke-width:0.8; stroke-opacity:1; fill:none\" points=\"\n",
       "  45.8815,369.674 45.8815,23.3815 \n",
       "  \"/>\n",
       "<polyline clip-path=\"url(#clip02)\" style=\"stroke:#00002d; stroke-width:0.8; stroke-opacity:1; fill:none\" points=\"\n",
       "  45.8815,369.674 54.1342,369.674 \n",
       "  \"/>\n",
       "<polyline clip-path=\"url(#clip02)\" style=\"stroke:#00002d; stroke-width:0.8; stroke-opacity:1; fill:none\" points=\"\n",
       "  45.8815,300.416 54.1342,300.416 \n",
       "  \"/>\n",
       "<polyline clip-path=\"url(#clip02)\" style=\"stroke:#00002d; stroke-width:0.8; stroke-opacity:1; fill:none\" points=\"\n",
       "  45.8815,231.157 54.1342,231.157 \n",
       "  \"/>\n",
       "<polyline clip-path=\"url(#clip02)\" style=\"stroke:#00002d; stroke-width:0.8; stroke-opacity:1; fill:none\" points=\"\n",
       "  45.8815,161.899 54.1342,161.899 \n",
       "  \"/>\n",
       "<polyline clip-path=\"url(#clip02)\" style=\"stroke:#00002d; stroke-width:0.8; stroke-opacity:1; fill:none\" points=\"\n",
       "  45.8815,92.64 54.1342,92.64 \n",
       "  \"/>\n",
       "<polyline clip-path=\"url(#clip02)\" style=\"stroke:#00002d; stroke-width:0.8; stroke-opacity:1; fill:none\" points=\"\n",
       "  45.8815,23.3815 54.1342,23.3815 \n",
       "  \"/>\n",
       "<g clip-path=\"url(#clip00)\">\n",
       "<text style=\"fill:#00002d; fill-opacity:1; font-family:Arial,Helvetica Neue,Helvetica,sans-serif; font-size:12; text-anchor:middle;\" transform=\"rotate(0, 155.918, 381.674)\" x=\"155.918\" y=\"381.674\">5</text>\n",
       "</g>\n",
       "<g clip-path=\"url(#clip00)\">\n",
       "<text style=\"fill:#00002d; fill-opacity:1; font-family:Arial,Helvetica Neue,Helvetica,sans-serif; font-size:12; text-anchor:middle;\" transform=\"rotate(0, 293.463, 381.674)\" x=\"293.463\" y=\"381.674\">10</text>\n",
       "</g>\n",
       "<g clip-path=\"url(#clip00)\">\n",
       "<text style=\"fill:#00002d; fill-opacity:1; font-family:Arial,Helvetica Neue,Helvetica,sans-serif; font-size:12; text-anchor:middle;\" transform=\"rotate(0, 431.009, 381.674)\" x=\"431.009\" y=\"381.674\">15</text>\n",
       "</g>\n",
       "<g clip-path=\"url(#clip00)\">\n",
       "<text style=\"fill:#00002d; fill-opacity:1; font-family:Arial,Helvetica Neue,Helvetica,sans-serif; font-size:12; text-anchor:middle;\" transform=\"rotate(0, 568.554, 381.674)\" x=\"568.554\" y=\"381.674\">20</text>\n",
       "</g>\n",
       "<g clip-path=\"url(#clip00)\">\n",
       "<text style=\"fill:#00002d; fill-opacity:1; font-family:Arial,Helvetica Neue,Helvetica,sans-serif; font-size:12; text-anchor:end;\" transform=\"rotate(0, 44.6815, 374.174)\" x=\"44.6815\" y=\"374.174\">0</text>\n",
       "</g>\n",
       "<g clip-path=\"url(#clip00)\">\n",
       "<text style=\"fill:#00002d; fill-opacity:1; font-family:Arial,Helvetica Neue,Helvetica,sans-serif; font-size:12; text-anchor:end;\" transform=\"rotate(0, 44.6815, 304.916)\" x=\"44.6815\" y=\"304.916\">20</text>\n",
       "</g>\n",
       "<g clip-path=\"url(#clip00)\">\n",
       "<text style=\"fill:#00002d; fill-opacity:1; font-family:Arial,Helvetica Neue,Helvetica,sans-serif; font-size:12; text-anchor:end;\" transform=\"rotate(0, 44.6815, 235.657)\" x=\"44.6815\" y=\"235.657\">40</text>\n",
       "</g>\n",
       "<g clip-path=\"url(#clip00)\">\n",
       "<text style=\"fill:#00002d; fill-opacity:1; font-family:Arial,Helvetica Neue,Helvetica,sans-serif; font-size:12; text-anchor:end;\" transform=\"rotate(0, 44.6815, 166.399)\" x=\"44.6815\" y=\"166.399\">60</text>\n",
       "</g>\n",
       "<g clip-path=\"url(#clip00)\">\n",
       "<text style=\"fill:#00002d; fill-opacity:1; font-family:Arial,Helvetica Neue,Helvetica,sans-serif; font-size:12; text-anchor:end;\" transform=\"rotate(0, 44.6815, 97.14)\" x=\"44.6815\" y=\"97.14\">80</text>\n",
       "</g>\n",
       "<g clip-path=\"url(#clip00)\">\n",
       "<text style=\"fill:#00002d; fill-opacity:1; font-family:Arial,Helvetica Neue,Helvetica,sans-serif; font-size:12; text-anchor:end;\" transform=\"rotate(0, 44.6815, 27.8815)\" x=\"44.6815\" y=\"27.8815\">100</text>\n",
       "</g>\n",
       "<g clip-path=\"url(#clip00)\">\n",
       "<text style=\"fill:#00002d; fill-opacity:1; font-family:Arial,Helvetica Neue,Helvetica,sans-serif; font-size:21; text-anchor:middle;\" transform=\"rotate(0, 320.972, 18)\" x=\"320.972\" y=\"18\">Ecuación de calor</text>\n",
       "</g>\n",
       "<g clip-path=\"url(#clip00)\">\n",
       "<text style=\"fill:#00002d; fill-opacity:1; font-family:Arial,Helvetica Neue,Helvetica,sans-serif; font-size:16; text-anchor:middle;\" transform=\"rotate(0, 320.972, 397.6)\" x=\"320.972\" y=\"397.6\">x</text>\n",
       "</g>\n",
       "<g clip-path=\"url(#clip00)\">\n",
       "<text style=\"fill:#00002d; fill-opacity:1; font-family:Arial,Helvetica Neue,Helvetica,sans-serif; font-size:16; text-anchor:middle;\" transform=\"rotate(-90, 14.4, 196.528)\" x=\"14.4\" y=\"196.528\">u(t,x)</text>\n",
       "</g>\n",
       "<polyline clip-path=\"url(#clip02)\" style=\"stroke:#0099ff; stroke-width:0.8; stroke-opacity:1; fill:none\" points=\"\n",
       "  45.8815,369.674 73.3905,361.764 100.9,353.194 128.409,343.478 155.918,332.456 183.427,320.395 210.936,308.016 238.445,296.407 265.954,286.844 293.463,280.528 \n",
       "  320.972,278.319 348.481,280.528 375.99,286.844 403.499,296.407 431.009,308.016 458.518,320.395 486.027,332.456 513.536,343.478 541.045,353.194 568.554,361.764 \n",
       "  596.063,369.674 \n",
       "  \"/>\n",
       "<polygon clip-path=\"url(#clip00)\" points=\"\n",
       "505.547,74.5015 578.063,74.5015 578.063,44.2615 505.547,44.2615 \n",
       "  \" fill=\"#ffffff\" fill-opacity=\"1\"/>\n",
       "<polyline clip-path=\"url(#clip00)\" style=\"stroke:#00002d; stroke-width:0.8; stroke-opacity:1; fill:none\" points=\"\n",
       "  505.547,74.5015 578.063,74.5015 578.063,44.2615 505.547,44.2615 505.547,74.5015 \n",
       "  \"/>\n",
       "<polyline clip-path=\"url(#clip00)\" style=\"stroke:#0099ff; stroke-width:0.8; stroke-opacity:1; fill:none\" points=\"\n",
       "  511.547,59.3815 547.547,59.3815 \n",
       "  \"/>\n",
       "<g clip-path=\"url(#clip00)\">\n",
       "<text style=\"fill:#00002d; fill-opacity:1; font-family:Arial,Helvetica Neue,Helvetica,sans-serif; font-size:12; text-anchor:start;\" transform=\"rotate(0, 553.547, 63.8815)\" x=\"553.547\" y=\"63.8815\">y1</text>\n",
       "</g>\n",
       "</svg>\n"
      ]
     },
     "execution_count": 15,
     "metadata": {
      "comm_id": "565035e1-cb69-48c3-8003-1abebf44fca5",
      "reactive": true
     },
     "output_type": "execute_result"
    }
   ],
   "source": [
    "M=calorabs(x->deltadir(x,inf=100),(-.10,.10),20.0,d=.0001,h=.1,k=0.01)\n",
    "@manipulate for i in 1:size(M)[1]\n",
    "    plot(M[i,:],ylim=(0,100),title=\"Ecuación de calor\",xlabel=\"x\",ylabel=\"u(t,x)\")\n",
    "end"
   ]
  },
  {
   "cell_type": "code",
   "execution_count": 16,
   "metadata": {
    "collapsed": false
   },
   "outputs": [
    {
     "name": "stderr",
     "output_type": "stream",
     "text": [
      "\u001b[1m\u001b[34mINFO: Saved animation to C:\\Users\\Aldo\\Google Drive\\Materias Facultad\\Fis Comp\\FisicaComputacional2017_2\\notebooks\\tmp.gif\n",
      "\u001b[0m"
     ]
    },
    {
     "data": {
      "text/html": [
       "<img src=\"tmp.gif?0.47425414500642615>\" />"
      ],
      "text/plain": [
       "Plots.AnimatedGif(\"C:\\\\Users\\\\Aldo\\\\Google Drive\\\\Materias Facultad\\\\Fis Comp\\\\FisicaComputacional2017_2\\\\notebooks\\\\tmp.gif\")"
      ]
     },
     "execution_count": 16,
     "metadata": {},
     "output_type": "execute_result"
    }
   ],
   "source": [
    "@gif for i in 1:size(M)[1]\n",
    "    plot(M[i,:],ylim=(0,100))\n",
    "end"
   ]
  },
  {
   "cell_type": "markdown",
   "metadata": {},
   "source": [
    "**[4]** Considera la ecuación de difusión unidimensional, pero ahora con condiciones de frontera **reflejantes** (de Neumann).\n",
    "\n",
    "(i) Escribe la ecuación correspondiente a las condiciones de frontera en $x=\\pm L$.\n",
    "\n",
    "(ii) ¿Cómo se puede discretizar en términos de la misma discretización que antes?\n",
    "\n",
    "(iii) ¿Qué esperas intuitivamente que ocurre con este tipo de ecuaciones de frontera?\n",
    "\n",
    "(iv) Impleméntalo y grafica la evolución temporal."
   ]
  },
  {
   "cell_type": "markdown",
   "metadata": {},
   "source": [
    "### [4]\n",
    "\n",
    " Las condiciones a la frontera sobre las que queremos solucionar nuestra ecuación son ahora  a nuestra ecuación son las siguientes:\n",
    "\n",
    "$$\\frac{\\partial u}{\\partial x}\\Big|_{x= \\pm L} = 0$$\n",
    "\n",
    "Para seguir usando la discretización creada anteriormente, podemos simplemente cambiar la condición a la frontera para que obedezca que el nuevo término que añadimos al array que representa la función no sea 0.0, sino que ahora sea un reflejo del valor obtenido anteriormente. Es decir, utilizar la condición:\n",
    "\n",
    "$$u_{-1}^n = u_{1}^n$$\n",
    "$$u_{J+1}^n = u_{J-1}^n$$\n",
    " \n",
    "Donde J es la longitud del vector espacial. [Más información](ttp://web.math.ucsb.edu/~grigoryan/124B/lecs/lec17.pdf)"
   ]
  },
  {
   "cell_type": "code",
   "execution_count": 17,
   "metadata": {
    "collapsed": false
   },
   "outputs": [
    {
     "data": {
      "text/plain": [
       "calorrefle (generic function with 1 method)"
      ]
     },
     "execution_count": 17,
     "metadata": {},
     "output_type": "execute_result"
    }
   ],
   "source": [
    "function calorrefle(ut0::Function, L::Tuple{Float64,Float64}, tf::Float64; d::Number=1, h::Number=1e-2, k::Number=1e-2, test=false)\n",
    "    println(h*d/(k^2))\n",
    "    (T,X)=malla(L,tf,h=h,k=k)\n",
    "    u0=[ut0(x) for x in X]\n",
    "    total=reshape(u0,1,length(u0))\n",
    "    for i in 1:(length(T)-1)\n",
    "        B=vec(total[i,:])\n",
    "        C=[B[i-1] for i in 2:length(B)]\n",
    "        unshift!(C,B[1])\n",
    "        D=[B[i+1] for i in 1:(length(B)-1)]\n",
    "        push!(D,B[end])\n",
    "        u=B+(h*d/(k^2))*(C+D-2*B)\n",
    "        if test==true\n",
    "            @show i\n",
    "            @show B\n",
    "            @show C\n",
    "            @show D\n",
    "            @show u\n",
    "        end\n",
    "        total=vcat(total,u')\n",
    "    end\n",
    "    return total\n",
    "end"
   ]
  },
  {
   "cell_type": "code",
   "execution_count": 18,
   "metadata": {
    "collapsed": false
   },
   "outputs": [
    {
     "name": "stdout",
     "output_type": "stream",
     "text": [
      "0.1\n"
     ]
    },
    {
     "data": {
      "text/html": [],
      "text/plain": [
       "Interact.Options{:SelectionSlider,Int64}(Signal{Int64}(101, nactions=1),\"i\",101,\"101\",Interact.OptionDict(DataStructures.OrderedDict(\"1\"=>1,\"2\"=>2,\"3\"=>3,\"4\"=>4,\"5\"=>5,\"6\"=>6,\"7\"=>7,\"8\"=>8,\"9\"=>9,\"10\"=>10…),Dict(11=>\"11\",134=>\"134\",158=>\"158\",160=>\"160\",29=>\"29\",131=>\"131\",173=>\"173\",74=>\"74\",201=>\"201\",176=>\"176\"…)),Any[],Any[],true,\"horizontal\")"
      ]
     },
     "metadata": {},
     "output_type": "display_data"
    },
    {
     "name": "stdout",
     "output_type": "stream",
     "text": [
      "0.1\n"
     ]
    },
    {
     "data": {
      "text/html": [
       "<?xml version=\"1.0\" encoding=\"utf-8\"?>\n",
       "<svg xmlns=\"http://www.w3.org/2000/svg\" xmlns:xlink=\"http://www.w3.org/1999/xlink\" width=\"600\" height=\"400\" viewBox=\"0 0 600 400\">\n",
       "<defs>\n",
       "  <clipPath id=\"clip00\">\n",
       "    <rect x=\"0\" y=\"0\" width=\"600\" height=\"400\"/>\n",
       "  </clipPath>\n",
       "</defs>\n",
       "<polygon clip-path=\"url(#clip00)\" points=\"\n",
       "0,400 600,400 600,0 0,0 \n",
       "  \" fill=\"#ffffff\" fill-opacity=\"1\"/>\n",
       "<defs>\n",
       "  <clipPath id=\"clip01\">\n",
       "    <rect x=\"120\" y=\"0\" width=\"421\" height=\"400\"/>\n",
       "  </clipPath>\n",
       "</defs>\n",
       "<polygon clip-path=\"url(#clip00)\" points=\"\n",
       "45.8815,369.674 596.063,369.674 596.063,23.3815 45.8815,23.3815 \n",
       "  \" fill=\"#ffffff\" fill-opacity=\"1\"/>\n",
       "<defs>\n",
       "  <clipPath id=\"clip02\">\n",
       "    <rect x=\"45\" y=\"23\" width=\"551\" height=\"347\"/>\n",
       "  </clipPath>\n",
       "</defs>\n",
       "<polyline clip-path=\"url(#clip02)\" style=\"stroke:#00002d; stroke-width:0.8; stroke-opacity:0.5; fill:none\" stroke-dasharray=\"1, 2\" points=\"\n",
       "  155.918,364.48 155.918,28.5758 \n",
       "  \"/>\n",
       "<polyline clip-path=\"url(#clip02)\" style=\"stroke:#00002d; stroke-width:0.8; stroke-opacity:0.5; fill:none\" stroke-dasharray=\"1, 2\" points=\"\n",
       "  293.463,364.48 293.463,28.5758 \n",
       "  \"/>\n",
       "<polyline clip-path=\"url(#clip02)\" style=\"stroke:#00002d; stroke-width:0.8; stroke-opacity:0.5; fill:none\" stroke-dasharray=\"1, 2\" points=\"\n",
       "  431.009,364.48 431.009,28.5758 \n",
       "  \"/>\n",
       "<polyline clip-path=\"url(#clip02)\" style=\"stroke:#00002d; stroke-width:0.8; stroke-opacity:0.5; fill:none\" stroke-dasharray=\"1, 2\" points=\"\n",
       "  568.554,364.48 568.554,28.5758 \n",
       "  \"/>\n",
       "<polyline clip-path=\"url(#clip02)\" style=\"stroke:#00002d; stroke-width:0.8; stroke-opacity:0.5; fill:none\" stroke-dasharray=\"1, 2\" points=\"\n",
       "  54.1342,369.674 587.81,369.674 \n",
       "  \"/>\n",
       "<polyline clip-path=\"url(#clip02)\" style=\"stroke:#00002d; stroke-width:0.8; stroke-opacity:0.5; fill:none\" stroke-dasharray=\"1, 2\" points=\"\n",
       "  54.1342,300.416 587.81,300.416 \n",
       "  \"/>\n",
       "<polyline clip-path=\"url(#clip02)\" style=\"stroke:#00002d; stroke-width:0.8; stroke-opacity:0.5; fill:none\" stroke-dasharray=\"1, 2\" points=\"\n",
       "  54.1342,231.157 587.81,231.157 \n",
       "  \"/>\n",
       "<polyline clip-path=\"url(#clip02)\" style=\"stroke:#00002d; stroke-width:0.8; stroke-opacity:0.5; fill:none\" stroke-dasharray=\"1, 2\" points=\"\n",
       "  54.1342,161.899 587.81,161.899 \n",
       "  \"/>\n",
       "<polyline clip-path=\"url(#clip02)\" style=\"stroke:#00002d; stroke-width:0.8; stroke-opacity:0.5; fill:none\" stroke-dasharray=\"1, 2\" points=\"\n",
       "  54.1342,92.64 587.81,92.64 \n",
       "  \"/>\n",
       "<polyline clip-path=\"url(#clip02)\" style=\"stroke:#00002d; stroke-width:0.8; stroke-opacity:0.5; fill:none\" stroke-dasharray=\"1, 2\" points=\"\n",
       "  54.1342,23.3815 587.81,23.3815 \n",
       "  \"/>\n",
       "<polyline clip-path=\"url(#clip02)\" style=\"stroke:#00002d; stroke-width:0.8; stroke-opacity:1; fill:none\" points=\"\n",
       "  45.8815,369.674 596.063,369.674 \n",
       "  \"/>\n",
       "<polyline clip-path=\"url(#clip02)\" style=\"stroke:#00002d; stroke-width:0.8; stroke-opacity:1; fill:none\" points=\"\n",
       "  155.918,369.674 155.918,364.48 \n",
       "  \"/>\n",
       "<polyline clip-path=\"url(#clip02)\" style=\"stroke:#00002d; stroke-width:0.8; stroke-opacity:1; fill:none\" points=\"\n",
       "  293.463,369.674 293.463,364.48 \n",
       "  \"/>\n",
       "<polyline clip-path=\"url(#clip02)\" style=\"stroke:#00002d; stroke-width:0.8; stroke-opacity:1; fill:none\" points=\"\n",
       "  431.009,369.674 431.009,364.48 \n",
       "  \"/>\n",
       "<polyline clip-path=\"url(#clip02)\" style=\"stroke:#00002d; stroke-width:0.8; stroke-opacity:1; fill:none\" points=\"\n",
       "  568.554,369.674 568.554,364.48 \n",
       "  \"/>\n",
       "<polyline clip-path=\"url(#clip02)\" style=\"stroke:#00002d; stroke-width:0.8; stroke-opacity:1; fill:none\" points=\"\n",
       "  45.8815,369.674 45.8815,23.3815 \n",
       "  \"/>\n",
       "<polyline clip-path=\"url(#clip02)\" style=\"stroke:#00002d; stroke-width:0.8; stroke-opacity:1; fill:none\" points=\"\n",
       "  45.8815,369.674 54.1342,369.674 \n",
       "  \"/>\n",
       "<polyline clip-path=\"url(#clip02)\" style=\"stroke:#00002d; stroke-width:0.8; stroke-opacity:1; fill:none\" points=\"\n",
       "  45.8815,300.416 54.1342,300.416 \n",
       "  \"/>\n",
       "<polyline clip-path=\"url(#clip02)\" style=\"stroke:#00002d; stroke-width:0.8; stroke-opacity:1; fill:none\" points=\"\n",
       "  45.8815,231.157 54.1342,231.157 \n",
       "  \"/>\n",
       "<polyline clip-path=\"url(#clip02)\" style=\"stroke:#00002d; stroke-width:0.8; stroke-opacity:1; fill:none\" points=\"\n",
       "  45.8815,161.899 54.1342,161.899 \n",
       "  \"/>\n",
       "<polyline clip-path=\"url(#clip02)\" style=\"stroke:#00002d; stroke-width:0.8; stroke-opacity:1; fill:none\" points=\"\n",
       "  45.8815,92.64 54.1342,92.64 \n",
       "  \"/>\n",
       "<polyline clip-path=\"url(#clip02)\" style=\"stroke:#00002d; stroke-width:0.8; stroke-opacity:1; fill:none\" points=\"\n",
       "  45.8815,23.3815 54.1342,23.3815 \n",
       "  \"/>\n",
       "<g clip-path=\"url(#clip00)\">\n",
       "<text style=\"fill:#00002d; fill-opacity:1; font-family:Arial,Helvetica Neue,Helvetica,sans-serif; font-size:12; text-anchor:middle;\" transform=\"rotate(0, 155.918, 381.674)\" x=\"155.918\" y=\"381.674\">5</text>\n",
       "</g>\n",
       "<g clip-path=\"url(#clip00)\">\n",
       "<text style=\"fill:#00002d; fill-opacity:1; font-family:Arial,Helvetica Neue,Helvetica,sans-serif; font-size:12; text-anchor:middle;\" transform=\"rotate(0, 293.463, 381.674)\" x=\"293.463\" y=\"381.674\">10</text>\n",
       "</g>\n",
       "<g clip-path=\"url(#clip00)\">\n",
       "<text style=\"fill:#00002d; fill-opacity:1; font-family:Arial,Helvetica Neue,Helvetica,sans-serif; font-size:12; text-anchor:middle;\" transform=\"rotate(0, 431.009, 381.674)\" x=\"431.009\" y=\"381.674\">15</text>\n",
       "</g>\n",
       "<g clip-path=\"url(#clip00)\">\n",
       "<text style=\"fill:#00002d; fill-opacity:1; font-family:Arial,Helvetica Neue,Helvetica,sans-serif; font-size:12; text-anchor:middle;\" transform=\"rotate(0, 568.554, 381.674)\" x=\"568.554\" y=\"381.674\">20</text>\n",
       "</g>\n",
       "<g clip-path=\"url(#clip00)\">\n",
       "<text style=\"fill:#00002d; fill-opacity:1; font-family:Arial,Helvetica Neue,Helvetica,sans-serif; font-size:12; text-anchor:end;\" transform=\"rotate(0, 44.6815, 374.174)\" x=\"44.6815\" y=\"374.174\">0</text>\n",
       "</g>\n",
       "<g clip-path=\"url(#clip00)\">\n",
       "<text style=\"fill:#00002d; fill-opacity:1; font-family:Arial,Helvetica Neue,Helvetica,sans-serif; font-size:12; text-anchor:end;\" transform=\"rotate(0, 44.6815, 304.916)\" x=\"44.6815\" y=\"304.916\">20</text>\n",
       "</g>\n",
       "<g clip-path=\"url(#clip00)\">\n",
       "<text style=\"fill:#00002d; fill-opacity:1; font-family:Arial,Helvetica Neue,Helvetica,sans-serif; font-size:12; text-anchor:end;\" transform=\"rotate(0, 44.6815, 235.657)\" x=\"44.6815\" y=\"235.657\">40</text>\n",
       "</g>\n",
       "<g clip-path=\"url(#clip00)\">\n",
       "<text style=\"fill:#00002d; fill-opacity:1; font-family:Arial,Helvetica Neue,Helvetica,sans-serif; font-size:12; text-anchor:end;\" transform=\"rotate(0, 44.6815, 166.399)\" x=\"44.6815\" y=\"166.399\">60</text>\n",
       "</g>\n",
       "<g clip-path=\"url(#clip00)\">\n",
       "<text style=\"fill:#00002d; fill-opacity:1; font-family:Arial,Helvetica Neue,Helvetica,sans-serif; font-size:12; text-anchor:end;\" transform=\"rotate(0, 44.6815, 97.14)\" x=\"44.6815\" y=\"97.14\">80</text>\n",
       "</g>\n",
       "<g clip-path=\"url(#clip00)\">\n",
       "<text style=\"fill:#00002d; fill-opacity:1; font-family:Arial,Helvetica Neue,Helvetica,sans-serif; font-size:12; text-anchor:end;\" transform=\"rotate(0, 44.6815, 27.8815)\" x=\"44.6815\" y=\"27.8815\">100</text>\n",
       "</g>\n",
       "<g clip-path=\"url(#clip00)\">\n",
       "<text style=\"fill:#00002d; fill-opacity:1; font-family:Arial,Helvetica Neue,Helvetica,sans-serif; font-size:21; text-anchor:middle;\" transform=\"rotate(0, 320.972, 18)\" x=\"320.972\" y=\"18\">Ecuación de calor</text>\n",
       "</g>\n",
       "<g clip-path=\"url(#clip00)\">\n",
       "<text style=\"fill:#00002d; fill-opacity:1; font-family:Arial,Helvetica Neue,Helvetica,sans-serif; font-size:16; text-anchor:middle;\" transform=\"rotate(0, 320.972, 397.6)\" x=\"320.972\" y=\"397.6\">x</text>\n",
       "</g>\n",
       "<g clip-path=\"url(#clip00)\">\n",
       "<text style=\"fill:#00002d; fill-opacity:1; font-family:Arial,Helvetica Neue,Helvetica,sans-serif; font-size:16; text-anchor:middle;\" transform=\"rotate(-90, 14.4, 196.528)\" x=\"14.4\" y=\"196.528\">u(t,x)</text>\n",
       "</g>\n",
       "<polyline clip-path=\"url(#clip02)\" style=\"stroke:#0099ff; stroke-width:4.8; stroke-opacity:1; fill:none\" stroke-dasharray=\"19, 12\" points=\"\n",
       "  45.8815,369.674 73.3905,361.764 100.9,353.194 128.409,343.478 155.918,332.456 183.427,320.395 210.936,308.016 238.445,296.407 265.954,286.844 293.463,280.528 \n",
       "  320.972,278.319 348.481,280.528 375.99,286.844 403.499,296.407 431.009,308.016 458.518,320.395 486.027,332.456 513.536,343.478 541.045,353.194 568.554,361.764 \n",
       "  596.063,369.674 \n",
       "  \"/>\n",
       "<polyline clip-path=\"url(#clip02)\" style=\"stroke:#e9746a; stroke-width:4.8; stroke-opacity:1; fill:none\" stroke-dasharray=\"2, 5\" points=\"\n",
       "  45.8815,356.687 73.3905,354.057 100.9,348.825 128.409,341.111 155.918,331.23 183.427,319.788 210.936,307.728 238.445,296.276 265.954,286.786 293.463,280.501 \n",
       "  320.972,278.3 348.481,280.501 375.99,286.786 403.499,296.276 431.009,307.728 458.518,319.788 486.027,331.23 513.536,341.111 541.045,348.825 568.554,354.057 \n",
       "  596.063,356.687 \n",
       "  \"/>\n",
       "<polygon clip-path=\"url(#clip00)\" points=\"\n",
       "458.768,89.6215 578.063,89.6215 578.063,44.2615 458.768,44.2615 \n",
       "  \" fill=\"#ffffff\" fill-opacity=\"1\"/>\n",
       "<polyline clip-path=\"url(#clip00)\" style=\"stroke:#00002d; stroke-width:0.8; stroke-opacity:1; fill:none\" points=\"\n",
       "  458.768,89.6215 578.063,89.6215 578.063,44.2615 458.768,44.2615 458.768,89.6215 \n",
       "  \"/>\n",
       "<polyline clip-path=\"url(#clip00)\" style=\"stroke:#0099ff; stroke-width:4.8; stroke-opacity:1; fill:none\" stroke-dasharray=\"19, 12\" points=\"\n",
       "  464.768,59.3815 500.768,59.3815 \n",
       "  \"/>\n",
       "<g clip-path=\"url(#clip00)\">\n",
       "<text style=\"fill:#00002d; fill-opacity:1; font-family:Arial,Helvetica Neue,Helvetica,sans-serif; font-size:12; text-anchor:start;\" transform=\"rotate(0, 506.768, 63.8815)\" x=\"506.768\" y=\"63.8815\">absorbente</text>\n",
       "</g>\n",
       "<polyline clip-path=\"url(#clip00)\" style=\"stroke:#e9746a; stroke-width:4.8; stroke-opacity:1; fill:none\" stroke-dasharray=\"2, 5\" points=\"\n",
       "  464.768,74.5015 500.768,74.5015 \n",
       "  \"/>\n",
       "<g clip-path=\"url(#clip00)\">\n",
       "<text style=\"fill:#00002d; fill-opacity:1; font-family:Arial,Helvetica Neue,Helvetica,sans-serif; font-size:12; text-anchor:start;\" transform=\"rotate(0, 506.768, 79.0015)\" x=\"506.768\" y=\"79.0015\">reflejante</text>\n",
       "</g>\n",
       "</svg>\n"
      ]
     },
     "execution_count": 18,
     "metadata": {
      "comm_id": "e8460c05-698c-40e2-9224-db20a10cec05",
      "reactive": true
     },
     "output_type": "execute_result"
    }
   ],
   "source": [
    "M1=calorabs(x->deltadir(x,inf=100),(-.10,.10),20.0,d=.0001,h=.1,k=0.01)\n",
    "M2=calorrefle(x->deltadir(x,inf=100),(-.10,.10),20.0,d=.0001,h=.1,k=0.01)\n",
    "@manipulate for i in 1:size(M)[1]\n",
    "    plot(M1[i,:],ylim=(0,100),title=\"Ecuación de calor\",xlabel=\"x\",ylabel=\"u(t,x)\",label=\"absorbente\",linewidth=6,linestyle=:dash)\n",
    "    plot!(M2[i,:],ylim=(0,100),title=\"Ecuación de calor\",xlabel=\"x\",ylabel=\"u(t,x)\",label=\"reflejante\",linewidth=6,linestyle=:dot)\n",
    "end"
   ]
  },
  {
   "cell_type": "code",
   "execution_count": 19,
   "metadata": {
    "collapsed": false
   },
   "outputs": [
    {
     "name": "stderr",
     "output_type": "stream",
     "text": [
      "\u001b[1m\u001b[34mINFO: Saved animation to C:\\Users\\Aldo\\Google Drive\\Materias Facultad\\Fis Comp\\FisicaComputacional2017_2\\notebooks\\tmp.gif\n",
      "\u001b[0m"
     ]
    },
    {
     "data": {
      "text/html": [
       "<img src=\"tmp.gif?0.9763722622941884>\" />"
      ],
      "text/plain": [
       "Plots.AnimatedGif(\"C:\\\\Users\\\\Aldo\\\\Google Drive\\\\Materias Facultad\\\\Fis Comp\\\\FisicaComputacional2017_2\\\\notebooks\\\\tmp.gif\")"
      ]
     },
     "execution_count": 19,
     "metadata": {},
     "output_type": "execute_result"
    }
   ],
   "source": [
    "@gif for i in 1:size(M)[1]\n",
    "    plot(M1[i,:],ylim=(0,100),label=\"absorbente\",linewidth=6,linestyle=:dash)\n",
    "    plot!(M2[i,:],ylim=(0,100),label=\"reflejante\",linewidth=6,linestyle=:dot)\n",
    "end"
   ]
  },
  {
   "cell_type": "markdown",
   "metadata": {},
   "source": [
    "**[5]** Pensando *únicamente* en la parte de la evolución temporal:\n",
    "\n",
    "(i) ¿A qué método numérico para EDOs corresponde lo que ya implementaste?\n",
    "\n",
    "(ii) Discretiza *sólo* la derivada espacial de la ecuación y deja sin discretizarse la derivada temporal. El resultado se llama una **semi-discretización** de la ecuación. ¿Qué forma tienen las ecuaciones resultantes?\n",
    "\n",
    "(iii) Así, especifica cuáles otros métodos numéricos podrías aplicar.\n",
    "\n",
    "(iv) Impleméntalos y compáralos con la solución analítica"
   ]
  },
  {
   "cell_type": "markdown",
   "metadata": {},
   "source": [
    "### [5]\n",
    "\n",
    "El primer método implementado corresponde al método de Euler para la semi-discretización de la ecuación, pues considera a la función de la derivada temporal como una constante por todo el intervalo temporal $h$. Podeos implementar otros métodos numéricos para evaliar la función de lado derecho."
   ]
  },
  {
   "cell_type": "code",
   "execution_count": null,
   "metadata": {
    "collapsed": true
   },
   "outputs": [],
   "source": []
  }
 ],
 "metadata": {
  "anaconda-cloud": {},
  "hide_input": false,
  "kernelspec": {
   "display_name": "Julia 0.5.0",
   "language": "julia",
   "name": "julia-0.5"
  },
  "language_info": {
   "file_extension": ".jl",
   "mimetype": "application/julia",
   "name": "julia",
   "version": "0.5.0"
  },
  "widgets": {
   "state": {
    "0eaad2fa-c68a-4566-ae0c-c44f2592490a": {
     "views": [
      {
       "cell_index": 32
      }
     ]
    },
    "423836f8-65ca-4f12-841f-631ea1307022": {
     "views": [
      {
       "cell_index": 26
      }
     ]
    },
    "44cf7052-7061-4a8c-a6a6-968f00a4ab72": {
     "views": [
      {
       "cell_index": 27
      }
     ]
    },
    "c6f0b109-79be-4b92-965b-01b03a2857a9": {
     "views": [
      {
       "cell_index": 17
      }
     ]
    }
   },
   "version": "1.2.0"
  }
 },
 "nbformat": 4,
 "nbformat_minor": 1
}
