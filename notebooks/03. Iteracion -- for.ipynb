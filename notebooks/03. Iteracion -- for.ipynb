{
 "cells": [
  {
   "cell_type": "markdown",
   "metadata": {},
   "source": [
    "# Iteración"
   ]
  },
  {
   "cell_type": "markdown",
   "metadata": {},
   "source": [
    "Las computadoras están diseñadas para llevar a cabo cálculos de forma repetida. En Julia, existen varias formas de llevar a cabo cálculos repetidos. Uno de los más sencillos es la **iteración**. Esto se refiere a que una variable recorra un conjunto de valores.\n",
    "\n",
    "Empezaremos con los bucles `for` (que corresponde a \"para\", en español).\n",
    "\n",
    "Ya hemos visto las comprensiones de arreglo, que ocupan la misma palabra `for`. Aquí, veremos cómo podemos utilizar un bucle `for` de forma más explícito, y por ende más poderoso. (Sin embargo, para tareas sencillas para crear arreglos de datos, se recomienda utilizar las comprensiones de arreglo.)"
   ]
  },
  {
   "cell_type": "markdown",
   "metadata": {},
   "source": [
    "## `for`"
   ]
  },
  {
   "cell_type": "markdown",
   "metadata": {},
   "source": [
    "Un bucle `for` itera a través de un arreglo, rango etc. (cualquier objeto \"iterable\", de hecho). Su sintaxis es:\n",
    "\n",
    "```\n",
    "for <variable> in <iterable>\n",
    "    [haz esto]\n",
    "    [y esto]\n",
    "end\n",
    "```\n",
    "\n",
    "En un bucle de este tipo, la variable toma cada valor en turno del arreglo. Se refiere a los comandos adentro como el \"cuerpo\" del bucle. Estos comandos se ejecutarán una y otra vez, hasta que se agote el iterable.\n",
    "\n",
    "Por lo tanto, este tipo de bucle se ocupa cuando se conoce de antemano el número de veces que se requiera repetir algo.\n",
    "\n",
    "El ejemplo más sencillo es el siguiente:"
   ]
  },
  {
   "cell_type": "code",
   "execution_count": 1,
   "metadata": {
    "collapsed": false
   },
   "outputs": [
    {
     "name": "stdout",
     "output_type": "stream",
     "text": [
      "El valor actual de i es 1\n",
      "El valor actual de i es 2\n",
      "El valor actual de i es 3\n",
      "El valor actual de i es 4\n",
      "El valor actual de i es 5\n",
      "El valor actual de i es 6\n",
      "El valor actual de i es 7\n",
      "El valor actual de i es 8\n",
      "El valor actual de i es 9\n",
      "El valor actual de i es 10\n"
     ]
    }
   ],
   "source": [
    "for i in 1:10\n",
    "    println(\"El valor actual de i es \", i)\n",
    "end"
   ]
  },
  {
   "cell_type": "markdown",
   "metadata": {},
   "source": [
    "Vemos que la variable `i` toma cada valor en el rango, de 1 hasta 10, uno por uno. Literalmente lo podemos leer como sigue: \"Para cada `i` en el conjunto de valores 1 hasta 10, haz lo siguiente\". (Donde \"lo siguiente\" se refiere a todos los comandos comprendidos entre el `for` y el `end` correspondiente.)"
   ]
  },
  {
   "cell_type": "markdown",
   "metadata": {},
   "source": [
    "[1] Escribe el código a mano para imprimir lo mismo, *sin* utilizar un bucle. ¿Quisieras hacerlo para los números de 1 a 100? ¡Por algo se inventaron los bucles!"
   ]
  },
  {
   "cell_type": "code",
   "execution_count": 2,
   "metadata": {
    "collapsed": false
   },
   "outputs": [
    {
     "name": "stdout",
     "output_type": "stream",
     "text": [
      "El valor actual de i es 1\n",
      "El valor actual de i es 2\n",
      "El valor actual de i es 3\n",
      "El valor actual de i es 4\n",
      "El valor actual de i es 5\n",
      "El valor actual de i es 6\n",
      "El valor actual de i es 7\n",
      "El valor actual de i es 8\n",
      "El valor actual de i es 9\n",
      "El valor actual de i es 10\n"
     ]
    }
   ],
   "source": [
    "#[1]\n",
    "println(\"El valor actual de i es \",1)\n",
    "println(\"El valor actual de i es \",2)\n",
    "println(\"El valor actual de i es \",3)\n",
    "println(\"El valor actual de i es \",4)\n",
    "println(\"El valor actual de i es \",5)\n",
    "println(\"El valor actual de i es \",6)\n",
    "println(\"El valor actual de i es \",7)\n",
    "println(\"El valor actual de i es \",8)\n",
    "println(\"El valor actual de i es \",9)\n",
    "println(\"El valor actual de i es \",10)"
   ]
  },
  {
   "cell_type": "markdown",
   "metadata": {},
   "source": [
    "En este ejemplo, se iteró sobre un objeto de tipo rango. También se puede iterar sobre un vector:"
   ]
  },
  {
   "cell_type": "code",
   "execution_count": 3,
   "metadata": {
    "collapsed": false
   },
   "outputs": [
    {
     "name": "stdout",
     "output_type": "stream",
     "text": [
      "3\n",
      "4\n",
      "7\n"
     ]
    }
   ],
   "source": [
    "x = [3, 4, 7]\n",
    "\n",
    "for i in x\n",
    "    println(i)\n",
    "end"
   ]
  },
  {
   "cell_type": "markdown",
   "metadata": {},
   "source": [
    "[2] Sabemos que la multiplicación por un entero es como una adición repetida. \n",
    "\n",
    "(i) Escribe una función `mi_mult`, que multiplica un número `x` por un entero positivo `n` (los dos son argumentos de la función), usando un bucle. (Es decir, puedes utilizar el `+` de Julia, pero ¡no el `*`!) Para hacerlo, utiliza una variable nueva que se llama `total`. ¿Con cuál valor inicial se debe crear esta variable? ¿Por qué? Verifica que tu función dé el resultado correcto.\n",
    "\n",
    "(ii) Modifica tu función para utilizar un `if` para verificar si `n` realmente sea positivo y entero. [Pista: checa la función `isinteger`.]\n",
    "\n",
    "(iii) Tu función funciona para `n` igual a `1`? ¿Para `n` igual a `0`? ¿Cómo puedes cambiar tu función para que sí funcione para estos casos?\n",
    "\n",
    "(iv) ¿Cómo puedes cambiar tu función para que funcione para *cualquier* entero `n`?"
   ]
  },
  {
   "cell_type": "code",
   "execution_count": 4,
   "metadata": {
    "collapsed": false
   },
   "outputs": [
    {
     "data": {
      "text/plain": [
       "-18"
      ]
     },
     "execution_count": 4,
     "metadata": {},
     "output_type": "execute_result"
    }
   ],
   "source": [
    "function mi_mult(x,n)\n",
    "    total=0\n",
    "    if isinteger(n) && n>=0\n",
    "        for i in 1:n\n",
    "            total=total+x\n",
    "        end\n",
    "        return total\n",
    "    else\n",
    "        return \"$n no es un entero positivo\"\n",
    "    end\n",
    "end\n",
    "mi_mult(-9,2)"
   ]
  },
  {
   "cell_type": "markdown",
   "metadata": {},
   "source": [
    "[3] (i) Crea una función `mi_sum` que calcula la suma de los primeros $N$ enteros. (Por lo tanto, `N` debe ser un argumento de la función, y que querramos ir variando `N`.) \n",
    "\n",
    "(ii) Verifica que esté bien el cálculo, comparando el resultado con la función predefinida `sum` de Julia, para distintos valores de $N$.\n",
    "\n",
    "[4] Crea una función `mi_sum2` que calcula, en un solo bucle, la suma de los primeros $N$ enteros, y de sus cuadrados. Regresa las dos sumas. Verifica que funcione usando la fórmula para la suma de los cuadrados.\n",
    "\n",
    "[5] Crea una función que cuenta el número de enteros hasta $N$ que sean divisibles por $2$, $3$ y/o $5$.\n",
    "¿Tiene sentido el resultado? Checa que funcione usando una comprensión de arreglo."
   ]
  },
  {
   "cell_type": "code",
   "execution_count": 5,
   "metadata": {
    "collapsed": true
   },
   "outputs": [],
   "source": [
    "#[3]"
   ]
  },
  {
   "cell_type": "markdown",
   "metadata": {},
   "source": [
    "## Creando arreglos usando iteración"
   ]
  },
  {
   "cell_type": "markdown",
   "metadata": {},
   "source": [
    "Muchas veces es útil crear datos mediante una iteración. Almacenaremos los datos en un arreglo, pero no sabemos, en general, qué tan grande debe ser el arreglo.\n",
    "\n",
    "Por lo tanto, podemos empezar con un arreglo vacío e **ir agregando** los datos conforme vayan llegando.\n",
    "\n",
    "Para crear un arreglo vacío en Julia, usamos"
   ]
  },
  {
   "cell_type": "code",
   "execution_count": 6,
   "metadata": {
    "collapsed": false
   },
   "outputs": [
    {
     "data": {
      "text/plain": [
       "0-element Array{Int64,1}"
      ]
     },
     "execution_count": 6,
     "metadata": {},
     "output_type": "execute_result"
    }
   ],
   "source": [
    "v = Int[]"
   ]
  },
  {
   "cell_type": "markdown",
   "metadata": {},
   "source": [
    "La palabra `Int` al principio` le dice a Julia que este arreglo sólo puede contener objetos de tipo `Int`."
   ]
  },
  {
   "cell_type": "markdown",
   "metadata": {},
   "source": [
    "[6] ¿Qué ocurre si no ponemos `Int`? "
   ]
  },
  {
   "cell_type": "markdown",
   "metadata": {},
   "source": [
    "Para agregar un dato al arreglo, se utiliza la función `push!`. (El \"`!`\" forma parte del nombre de la función. Indica que la función modifica su argumento.):"
   ]
  },
  {
   "cell_type": "code",
   "execution_count": 7,
   "metadata": {
    "collapsed": false
   },
   "outputs": [
    {
     "data": {
      "text/plain": [
       "1-element Array{Int64,1}:\n",
       " 17"
      ]
     },
     "execution_count": 7,
     "metadata": {},
     "output_type": "execute_result"
    }
   ],
   "source": [
    "push!(v, 17)"
   ]
  },
  {
   "cell_type": "code",
   "execution_count": 8,
   "metadata": {
    "collapsed": false
   },
   "outputs": [
    {
     "data": {
      "text/plain": [
       "1-element Array{Int64,1}:\n",
       " 17"
      ]
     },
     "execution_count": 8,
     "metadata": {},
     "output_type": "execute_result"
    }
   ],
   "source": [
    "v"
   ]
  },
  {
   "cell_type": "markdown",
   "metadata": {},
   "source": [
    "[7] (i) Utiliza este método para crear un arreglo que contenga los números de 1 a 100.\n",
    "\n",
    "(ii) ¿Cómo puedes modificar tu código para excluir a los valores que son divisibles o entre 2 o entre 5?"
   ]
  },
  {
   "cell_type": "markdown",
   "metadata": {},
   "source": [
    "## Números primos"
   ]
  },
  {
   "cell_type": "markdown",
   "metadata": {},
   "source": [
    "Recordemos que los números primos son los enteros positivos mayores que $1$ que sólo son divisibles exactamente entre $1$ y sí mismo.\n",
    "\n",
    "[8] Escribe una función que verifica si un número es primo o no.\n",
    "\n",
    "[9] (i) Escribe una función que construye un arreglo de $\\pi(n)$, el número de primos menores o iguales a `n`. \n",
    "\n",
    "(ii) Grafica la función.\n",
    "\n",
    "(iii) ¿Qué tan rápido crece esta función en comparación con `n`?"
   ]
  },
  {
   "cell_type": "code",
   "execution_count": 9,
   "metadata": {
    "collapsed": false
   },
   "outputs": [
    {
     "data": {
      "text/plain": [
       "Plots.GRBackend()"
      ]
     },
     "execution_count": 9,
     "metadata": {},
     "output_type": "execute_result"
    }
   ],
   "source": [
    "using Plots\n",
    "gr()"
   ]
  },
  {
   "cell_type": "code",
   "execution_count": 10,
   "metadata": {
    "collapsed": false
   },
   "outputs": [
    {
     "data": {
      "text/html": [
       "<?xml version=\"1.0\" encoding=\"utf-8\"?>\n",
       "<svg xmlns=\"http://www.w3.org/2000/svg\" xmlns:xlink=\"http://www.w3.org/1999/xlink\" width=\"600\" height=\"400\" viewBox=\"0 0 600 400\">\n",
       "<defs>\n",
       "  <clipPath id=\"clip00\">\n",
       "    <rect x=\"0\" y=\"0\" width=\"600\" height=\"400\"/>\n",
       "  </clipPath>\n",
       "</defs>\n",
       "<polygon clip-path=\"url(#clip00)\" points=\"\n",
       "0,400 600,400 600,0 0,0 \n",
       "  \" fill=\"#ffffff\" fill-opacity=\"1\"/>\n",
       "<defs>\n",
       "  <clipPath id=\"clip01\">\n",
       "    <rect x=\"120\" y=\"0\" width=\"421\" height=\"400\"/>\n",
       "  </clipPath>\n",
       "</defs>\n",
       "<polygon clip-path=\"url(#clip00)\" points=\"\n",
       "30.6037,384.952 596.063,384.952 596.063,3.93701 30.6037,3.93701 \n",
       "  \" fill=\"#ffffff\" fill-opacity=\"1\"/>\n",
       "<defs>\n",
       "  <clipPath id=\"clip02\">\n",
       "    <rect x=\"30\" y=\"3\" width=\"566\" height=\"382\"/>\n",
       "  </clipPath>\n",
       "</defs>\n",
       "<polyline clip-path=\"url(#clip02)\" style=\"stroke:#00002d; stroke-width:0.8; stroke-opacity:0.5; fill:none\" stroke-dasharray=\"1, 2\" points=\"\n",
       "  116.86,379.237 116.86,9.65223 \n",
       "  \"/>\n",
       "<polyline clip-path=\"url(#clip02)\" style=\"stroke:#00002d; stroke-width:0.8; stroke-opacity:0.5; fill:none\" stroke-dasharray=\"1, 2\" points=\"\n",
       "  212.701,379.237 212.701,9.65223 \n",
       "  \"/>\n",
       "<polyline clip-path=\"url(#clip02)\" style=\"stroke:#00002d; stroke-width:0.8; stroke-opacity:0.5; fill:none\" stroke-dasharray=\"1, 2\" points=\"\n",
       "  308.541,379.237 308.541,9.65223 \n",
       "  \"/>\n",
       "<polyline clip-path=\"url(#clip02)\" style=\"stroke:#00002d; stroke-width:0.8; stroke-opacity:0.5; fill:none\" stroke-dasharray=\"1, 2\" points=\"\n",
       "  404.382,379.237 404.382,9.65223 \n",
       "  \"/>\n",
       "<polyline clip-path=\"url(#clip02)\" style=\"stroke:#00002d; stroke-width:0.8; stroke-opacity:0.5; fill:none\" stroke-dasharray=\"1, 2\" points=\"\n",
       "  500.222,379.237 500.222,9.65223 \n",
       "  \"/>\n",
       "<polyline clip-path=\"url(#clip02)\" style=\"stroke:#00002d; stroke-width:0.8; stroke-opacity:0.5; fill:none\" stroke-dasharray=\"1, 2\" points=\"\n",
       "  596.063,379.237 596.063,9.65223 \n",
       "  \"/>\n",
       "<polyline clip-path=\"url(#clip02)\" style=\"stroke:#00002d; stroke-width:0.8; stroke-opacity:0.5; fill:none\" stroke-dasharray=\"1, 2\" points=\"\n",
       "  39.0856,298.15 587.581,298.15 \n",
       "  \"/>\n",
       "<polyline clip-path=\"url(#clip02)\" style=\"stroke:#00002d; stroke-width:0.8; stroke-opacity:0.5; fill:none\" stroke-dasharray=\"1, 2\" points=\"\n",
       "  39.0856,206.779 587.581,206.779 \n",
       "  \"/>\n",
       "<polyline clip-path=\"url(#clip02)\" style=\"stroke:#00002d; stroke-width:0.8; stroke-opacity:0.5; fill:none\" stroke-dasharray=\"1, 2\" points=\"\n",
       "  39.0856,115.409 587.581,115.409 \n",
       "  \"/>\n",
       "<polyline clip-path=\"url(#clip02)\" style=\"stroke:#00002d; stroke-width:0.8; stroke-opacity:0.5; fill:none\" stroke-dasharray=\"1, 2\" points=\"\n",
       "  39.0856,24.0385 587.581,24.0385 \n",
       "  \"/>\n",
       "<polyline clip-path=\"url(#clip02)\" style=\"stroke:#00002d; stroke-width:0.8; stroke-opacity:1; fill:none\" points=\"\n",
       "  30.6037,384.952 596.063,384.952 \n",
       "  \"/>\n",
       "<polyline clip-path=\"url(#clip02)\" style=\"stroke:#00002d; stroke-width:0.8; stroke-opacity:1; fill:none\" points=\"\n",
       "  116.86,384.952 116.86,379.237 \n",
       "  \"/>\n",
       "<polyline clip-path=\"url(#clip02)\" style=\"stroke:#00002d; stroke-width:0.8; stroke-opacity:1; fill:none\" points=\"\n",
       "  212.701,384.952 212.701,379.237 \n",
       "  \"/>\n",
       "<polyline clip-path=\"url(#clip02)\" style=\"stroke:#00002d; stroke-width:0.8; stroke-opacity:1; fill:none\" points=\"\n",
       "  308.541,384.952 308.541,379.237 \n",
       "  \"/>\n",
       "<polyline clip-path=\"url(#clip02)\" style=\"stroke:#00002d; stroke-width:0.8; stroke-opacity:1; fill:none\" points=\"\n",
       "  404.382,384.952 404.382,379.237 \n",
       "  \"/>\n",
       "<polyline clip-path=\"url(#clip02)\" style=\"stroke:#00002d; stroke-width:0.8; stroke-opacity:1; fill:none\" points=\"\n",
       "  500.222,384.952 500.222,379.237 \n",
       "  \"/>\n",
       "<polyline clip-path=\"url(#clip02)\" style=\"stroke:#00002d; stroke-width:0.8; stroke-opacity:1; fill:none\" points=\"\n",
       "  596.063,384.952 596.063,379.237 \n",
       "  \"/>\n",
       "<polyline clip-path=\"url(#clip02)\" style=\"stroke:#00002d; stroke-width:0.8; stroke-opacity:1; fill:none\" points=\"\n",
       "  30.6037,384.952 30.6037,3.93701 \n",
       "  \"/>\n",
       "<polyline clip-path=\"url(#clip02)\" style=\"stroke:#00002d; stroke-width:0.8; stroke-opacity:1; fill:none\" points=\"\n",
       "  30.6037,298.15 39.0856,298.15 \n",
       "  \"/>\n",
       "<polyline clip-path=\"url(#clip02)\" style=\"stroke:#00002d; stroke-width:0.8; stroke-opacity:1; fill:none\" points=\"\n",
       "  30.6037,206.779 39.0856,206.779 \n",
       "  \"/>\n",
       "<polyline clip-path=\"url(#clip02)\" style=\"stroke:#00002d; stroke-width:0.8; stroke-opacity:1; fill:none\" points=\"\n",
       "  30.6037,115.409 39.0856,115.409 \n",
       "  \"/>\n",
       "<polyline clip-path=\"url(#clip02)\" style=\"stroke:#00002d; stroke-width:0.8; stroke-opacity:1; fill:none\" points=\"\n",
       "  30.6037,24.0385 39.0856,24.0385 \n",
       "  \"/>\n",
       "<g clip-path=\"url(#clip00)\">\n",
       "<text style=\"fill:#00002d; fill-opacity:1; font-family:Arial,Helvetica Neue,Helvetica,sans-serif; font-size:12; text-anchor:middle;\" transform=\"rotate(0, 116.86, 396.952)\" x=\"116.86\" y=\"396.952\">10</text>\n",
       "</g>\n",
       "<g clip-path=\"url(#clip00)\">\n",
       "<text style=\"fill:#00002d; fill-opacity:1; font-family:Arial,Helvetica Neue,Helvetica,sans-serif; font-size:12; text-anchor:middle;\" transform=\"rotate(0, 212.701, 396.952)\" x=\"212.701\" y=\"396.952\">20</text>\n",
       "</g>\n",
       "<g clip-path=\"url(#clip00)\">\n",
       "<text style=\"fill:#00002d; fill-opacity:1; font-family:Arial,Helvetica Neue,Helvetica,sans-serif; font-size:12; text-anchor:middle;\" transform=\"rotate(0, 308.541, 396.952)\" x=\"308.541\" y=\"396.952\">30</text>\n",
       "</g>\n",
       "<g clip-path=\"url(#clip00)\">\n",
       "<text style=\"fill:#00002d; fill-opacity:1; font-family:Arial,Helvetica Neue,Helvetica,sans-serif; font-size:12; text-anchor:middle;\" transform=\"rotate(0, 404.382, 396.952)\" x=\"404.382\" y=\"396.952\">40</text>\n",
       "</g>\n",
       "<g clip-path=\"url(#clip00)\">\n",
       "<text style=\"fill:#00002d; fill-opacity:1; font-family:Arial,Helvetica Neue,Helvetica,sans-serif; font-size:12; text-anchor:middle;\" transform=\"rotate(0, 500.222, 396.952)\" x=\"500.222\" y=\"396.952\">50</text>\n",
       "</g>\n",
       "<g clip-path=\"url(#clip00)\">\n",
       "<text style=\"fill:#00002d; fill-opacity:1; font-family:Arial,Helvetica Neue,Helvetica,sans-serif; font-size:12; text-anchor:middle;\" transform=\"rotate(0, 596.063, 396.952)\" x=\"596.063\" y=\"396.952\">60</text>\n",
       "</g>\n",
       "<g clip-path=\"url(#clip00)\">\n",
       "<text style=\"fill:#00002d; fill-opacity:1; font-family:Arial,Helvetica Neue,Helvetica,sans-serif; font-size:12; text-anchor:end;\" transform=\"rotate(0, 29.4037, 302.65)\" x=\"29.4037\" y=\"302.65\">100</text>\n",
       "</g>\n",
       "<g clip-path=\"url(#clip00)\">\n",
       "<text style=\"fill:#00002d; fill-opacity:1; font-family:Arial,Helvetica Neue,Helvetica,sans-serif; font-size:12; text-anchor:end;\" transform=\"rotate(0, 29.4037, 211.279)\" x=\"29.4037\" y=\"211.279\">200</text>\n",
       "</g>\n",
       "<g clip-path=\"url(#clip00)\">\n",
       "<text style=\"fill:#00002d; fill-opacity:1; font-family:Arial,Helvetica Neue,Helvetica,sans-serif; font-size:12; text-anchor:end;\" transform=\"rotate(0, 29.4037, 119.909)\" x=\"29.4037\" y=\"119.909\">300</text>\n",
       "</g>\n",
       "<g clip-path=\"url(#clip00)\">\n",
       "<text style=\"fill:#00002d; fill-opacity:1; font-family:Arial,Helvetica Neue,Helvetica,sans-serif; font-size:12; text-anchor:end;\" transform=\"rotate(0, 29.4037, 28.5385)\" x=\"29.4037\" y=\"28.5385\">400</text>\n",
       "</g>\n",
       "<polyline clip-path=\"url(#clip02)\" style=\"stroke:#0099ff; stroke-width:0.8; stroke-opacity:1; fill:none\" points=\"\n",
       "  30.6037,384.952 40.1877,382.211 49.7718,379.47 59.3558,376.729 68.9399,373.987 78.524,371.246 88.108,368.505 97.6921,365.764 107.276,363.023 116.86,360.282 \n",
       "  126.444,357.541 136.028,354.8 145.612,352.059 155.196,349.317 164.78,346.576 174.365,343.835 183.949,341.094 193.533,338.353 203.117,335.612 212.701,332.871 \n",
       "  222.285,330.13 231.869,327.388 241.453,324.647 251.037,321.906 260.621,319.165 270.205,316.424 279.789,313.683 289.373,310.942 298.957,308.201 308.541,305.46 \n",
       "  318.125,302.718 327.709,299.977 337.293,297.236 346.878,294.495 356.462,291.754 366.046,289.013 375.63,286.272 385.214,283.531 394.798,280.79 404.382,278.048 \n",
       "  413.966,275.307 423.55,272.566 433.134,269.825 442.718,267.084 452.302,264.343 461.886,261.602 471.47,258.861 481.054,256.12 490.638,253.378 500.222,250.637 \n",
       "  509.806,247.896 519.391,245.155 528.975,242.414 538.559,239.673 548.143,236.932 557.727,234.191 567.311,231.449 576.895,228.708 586.479,225.967 596.063,223.226 \n",
       "  \n",
       "  \"/>\n",
       "<polyline clip-path=\"url(#clip02)\" style=\"stroke:#e9746a; stroke-width:0.8; stroke-opacity:1; fill:none\" points=\"\n",
       "  30.6037,384.038 40.1877,380.383 49.7718,376.729 59.3558,373.074 68.9399,369.419 78.524,365.764 88.108,362.109 97.6921,358.454 107.276,354.8 116.86,351.145 \n",
       "  126.444,347.49 136.028,343.835 145.612,340.18 155.196,336.526 164.78,332.871 174.365,329.216 183.949,325.561 193.533,321.906 203.117,318.251 212.701,314.597 \n",
       "  222.285,310.942 231.869,307.287 241.453,303.632 251.037,299.977 260.621,296.323 270.205,292.668 279.789,289.013 289.373,285.358 298.957,281.703 308.541,278.048 \n",
       "  318.125,274.394 327.709,270.739 337.293,267.084 346.878,263.429 356.462,259.774 366.046,256.12 375.63,252.465 385.214,248.81 394.798,245.155 404.382,241.5 \n",
       "  413.966,237.845 423.55,234.191 433.134,230.536 442.718,226.881 452.302,223.226 461.886,219.571 471.47,215.917 481.054,212.262 490.638,208.607 500.222,204.952 \n",
       "  509.806,201.297 519.391,197.642 528.975,193.988 538.559,190.333 548.143,186.678 557.727,183.023 567.311,179.368 576.895,175.713 586.479,172.059 596.063,168.404 \n",
       "  \n",
       "  \"/>\n",
       "<polyline clip-path=\"url(#clip02)\" style=\"stroke:#3cb370; stroke-width:0.8; stroke-opacity:1; fill:none\" points=\"\n",
       "  30.6037,383.124 40.1877,378.556 49.7718,373.987 59.3558,369.419 68.9399,364.85 78.524,360.282 88.108,355.713 97.6921,351.145 107.276,346.576 116.86,342.008 \n",
       "  126.444,337.439 136.028,332.871 145.612,328.302 155.196,323.734 164.78,319.165 174.365,314.597 183.949,310.028 193.533,305.46 203.117,300.891 212.701,296.323 \n",
       "  222.285,291.754 231.869,287.185 241.453,282.617 251.037,278.048 260.621,273.48 270.205,268.911 279.789,264.343 289.373,259.774 298.957,255.206 308.541,250.637 \n",
       "  318.125,246.069 327.709,241.5 337.293,236.932 346.878,232.363 356.462,227.795 366.046,223.226 375.63,218.658 385.214,214.089 394.798,209.521 404.382,204.952 \n",
       "  413.966,200.384 423.55,195.815 433.134,191.246 442.718,186.678 452.302,182.109 461.886,177.541 471.47,172.972 481.054,168.404 490.638,163.835 500.222,159.267 \n",
       "  509.806,154.698 519.391,150.13 528.975,145.561 538.559,140.993 548.143,136.424 557.727,131.856 567.311,127.287 576.895,122.719 586.479,118.15 596.063,113.582 \n",
       "  \n",
       "  \"/>\n",
       "<polyline clip-path=\"url(#clip02)\" style=\"stroke:#d96fd5; stroke-width:0.8; stroke-opacity:1; fill:none\" points=\"\n",
       "  30.6037,382.211 40.1877,376.729 49.7718,371.246 59.3558,365.764 68.9399,360.282 78.524,354.8 88.108,349.317 97.6921,343.835 107.276,338.353 116.86,332.871 \n",
       "  126.444,327.388 136.028,321.906 145.612,316.424 155.196,310.942 164.78,305.46 174.365,299.977 183.949,294.495 193.533,289.013 203.117,283.531 212.701,278.048 \n",
       "  222.285,272.566 231.869,267.084 241.453,261.602 251.037,256.12 260.621,250.637 270.205,245.155 279.789,239.673 289.373,234.191 298.957,228.708 308.541,223.226 \n",
       "  318.125,217.744 327.709,212.262 337.293,206.779 346.878,201.297 356.462,195.815 366.046,190.333 375.63,184.851 385.214,179.368 394.798,173.886 404.382,168.404 \n",
       "  413.966,162.922 423.55,157.439 433.134,151.957 442.718,146.475 452.302,140.993 461.886,135.51 471.47,130.028 481.054,124.546 490.638,119.064 500.222,113.582 \n",
       "  509.806,108.099 519.391,102.617 528.975,97.1349 538.559,91.6527 548.143,86.1704 557.727,80.6882 567.311,75.206 576.895,69.7237 586.479,64.2415 596.063,58.7593 \n",
       "  \n",
       "  \"/>\n",
       "<polyline clip-path=\"url(#clip02)\" style=\"stroke:#b28c19; stroke-width:0.8; stroke-opacity:1; fill:none\" points=\"\n",
       "  30.6037,381.297 40.1877,374.901 49.7718,368.505 59.3558,362.109 68.9399,355.713 78.524,349.317 88.108,342.921 97.6921,336.526 107.276,330.13 116.86,323.734 \n",
       "  126.444,317.338 136.028,310.942 145.612,304.546 155.196,298.15 164.78,291.754 174.365,285.358 183.949,278.962 193.533,272.566 203.117,266.17 212.701,259.774 \n",
       "  222.285,253.378 231.869,246.982 241.453,240.587 251.037,234.191 260.621,227.795 270.205,221.399 279.789,215.003 289.373,208.607 298.957,202.211 308.541,195.815 \n",
       "  318.125,189.419 327.709,183.023 337.293,176.627 346.878,170.231 356.462,163.835 366.046,157.439 375.63,151.043 385.214,144.648 394.798,138.252 404.382,131.856 \n",
       "  413.966,125.46 423.55,119.064 433.134,112.668 442.718,106.272 452.302,99.876 461.886,93.4801 471.47,87.0841 481.054,80.6882 490.638,74.2923 500.222,67.8963 \n",
       "  509.806,61.5004 519.391,55.1045 528.975,48.7085 538.559,42.3126 548.143,35.9167 557.727,29.5207 567.311,23.1248 576.895,16.7289 586.479,10.3329 596.063,3.93701 \n",
       "  \n",
       "  \"/>\n",
       "<polygon clip-path=\"url(#clip00)\" points=\"\n",
       "505.547,115.537 578.063,115.537 578.063,24.817 505.547,24.817 \n",
       "  \" fill=\"#ffffff\" fill-opacity=\"1\"/>\n",
       "<polyline clip-path=\"url(#clip00)\" style=\"stroke:#00002d; stroke-width:0.8; stroke-opacity:1; fill:none\" points=\"\n",
       "  505.547,115.537 578.063,115.537 578.063,24.817 505.547,24.817 505.547,115.537 \n",
       "  \"/>\n",
       "<polyline clip-path=\"url(#clip00)\" style=\"stroke:#0099ff; stroke-width:0.8; stroke-opacity:1; fill:none\" points=\"\n",
       "  511.547,39.937 547.547,39.937 \n",
       "  \"/>\n",
       "<g clip-path=\"url(#clip00)\">\n",
       "<text style=\"fill:#00002d; fill-opacity:1; font-family:Arial,Helvetica Neue,Helvetica,sans-serif; font-size:12; text-anchor:start;\" transform=\"rotate(0, 553.547, 44.437)\" x=\"553.547\" y=\"44.437\">y1</text>\n",
       "</g>\n",
       "<polyline clip-path=\"url(#clip00)\" style=\"stroke:#e9746a; stroke-width:0.8; stroke-opacity:1; fill:none\" points=\"\n",
       "  511.547,55.057 547.547,55.057 \n",
       "  \"/>\n",
       "<g clip-path=\"url(#clip00)\">\n",
       "<text style=\"fill:#00002d; fill-opacity:1; font-family:Arial,Helvetica Neue,Helvetica,sans-serif; font-size:12; text-anchor:start;\" transform=\"rotate(0, 553.547, 59.557)\" x=\"553.547\" y=\"59.557\">y2</text>\n",
       "</g>\n",
       "<polyline clip-path=\"url(#clip00)\" style=\"stroke:#3cb370; stroke-width:0.8; stroke-opacity:1; fill:none\" points=\"\n",
       "  511.547,70.177 547.547,70.177 \n",
       "  \"/>\n",
       "<g clip-path=\"url(#clip00)\">\n",
       "<text style=\"fill:#00002d; fill-opacity:1; font-family:Arial,Helvetica Neue,Helvetica,sans-serif; font-size:12; text-anchor:start;\" transform=\"rotate(0, 553.547, 74.677)\" x=\"553.547\" y=\"74.677\">y3</text>\n",
       "</g>\n",
       "<polyline clip-path=\"url(#clip00)\" style=\"stroke:#d96fd5; stroke-width:0.8; stroke-opacity:1; fill:none\" points=\"\n",
       "  511.547,85.297 547.547,85.297 \n",
       "  \"/>\n",
       "<g clip-path=\"url(#clip00)\">\n",
       "<text style=\"fill:#00002d; fill-opacity:1; font-family:Arial,Helvetica Neue,Helvetica,sans-serif; font-size:12; text-anchor:start;\" transform=\"rotate(0, 553.547, 89.797)\" x=\"553.547\" y=\"89.797\">y4</text>\n",
       "</g>\n",
       "<polyline clip-path=\"url(#clip00)\" style=\"stroke:#b28c19; stroke-width:0.8; stroke-opacity:1; fill:none\" points=\"\n",
       "  511.547,100.417 547.547,100.417 \n",
       "  \"/>\n",
       "<g clip-path=\"url(#clip00)\">\n",
       "<text style=\"fill:#00002d; fill-opacity:1; font-family:Arial,Helvetica Neue,Helvetica,sans-serif; font-size:12; text-anchor:start;\" transform=\"rotate(0, 553.547, 104.917)\" x=\"553.547\" y=\"104.917\">y5</text>\n",
       "</g>\n",
       "</svg>\n"
      ]
     },
     "execution_count": 10,
     "metadata": {},
     "output_type": "execute_result"
    }
   ],
   "source": [
    "p=plot([x for x in 1:60],[3x+2 for x in 1:60])\n",
    "for m in 4:1:7\n",
    "    plot!([x for x in 1:60],[m*x+2 for x in 1:60])\n",
    "end\n",
    "p"
   ]
  },
  {
   "cell_type": "code",
   "execution_count": 11,
   "metadata": {
    "collapsed": false
   },
   "outputs": [
    {
     "data": {
      "text/plain": [
       "\"-6 no es un entero positivo\""
      ]
     },
     "execution_count": 11,
     "metadata": {},
     "output_type": "execute_result"
    }
   ],
   "source": [
    "mi_mult(6,-6)"
   ]
  },
  {
   "cell_type": "code",
   "execution_count": 12,
   "metadata": {
    "collapsed": false
   },
   "outputs": [],
   "source": [
    "if isinteger(-6) && -6>=0\n",
    "    println(\"no\")\n",
    "end"
   ]
  },
  {
   "cell_type": "code",
   "execution_count": 13,
   "metadata": {
    "collapsed": false
   },
   "outputs": [
    {
     "data": {
      "text/plain": [
       "entero (generic function with 1 method)"
      ]
     },
     "execution_count": 13,
     "metadata": {},
     "output_type": "execute_result"
    }
   ],
   "source": [
    "function entero(n)\n",
    "    if isinteger(n) && n>=0\n",
    "        return \"si\"\n",
    "    elseif isinteger(n) && n<=0\n",
    "        return \"no\"\n",
    "    end\n",
    "end"
   ]
  },
  {
   "cell_type": "code",
   "execution_count": 14,
   "metadata": {
    "collapsed": false
   },
   "outputs": [
    {
     "data": {
      "text/plain": [
       "\"no\""
      ]
     },
     "execution_count": 14,
     "metadata": {},
     "output_type": "execute_result"
    }
   ],
   "source": [
    "entero(-6)"
   ]
  },
  {
   "cell_type": "code",
   "execution_count": null,
   "metadata": {
    "collapsed": true
   },
   "outputs": [],
   "source": []
  }
 ],
 "metadata": {
  "anaconda-cloud": {},
  "hide_input": false,
  "kernelspec": {
   "display_name": "Julia 0.5.0",
   "language": "julia",
   "name": "julia-0.5"
  },
  "language_info": {
   "file_extension": ".jl",
   "mimetype": "application/julia",
   "name": "julia",
   "version": "0.5.0"
  }
 },
 "nbformat": 4,
 "nbformat_minor": 0
}
