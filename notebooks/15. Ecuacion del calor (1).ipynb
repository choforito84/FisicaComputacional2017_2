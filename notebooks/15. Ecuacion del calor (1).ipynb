{
 "cells": [
  {
   "cell_type": "markdown",
   "metadata": {},
   "source": [
    "# Ecuaciones parciales diferenciales de evolución"
   ]
  },
  {
   "cell_type": "markdown",
   "metadata": {},
   "source": [
    "Las ecuaciones diferenciales parciales (EDPs) constituyen otra área de suma importancia en la física, ya que modelan sistemas que varían con respecto a más de una variable independiente, por ejemplo, tanto el tiempo como el espacio.\n",
    "\n",
    "Del punto de vista numérico, se puede decir que el tipo de EDPs que es más sencillo conceptualmente son las llamadas **parabólicas**, es decir, **ecuaciones de evolución**, de las cuales la más conocida es la **ecuación del calor** o **ecuación de difusión**."
   ]
  },
  {
   "cell_type": "markdown",
   "metadata": {},
   "source": [
    "# La ecuación del calor"
   ]
  },
  {
   "cell_type": "markdown",
   "metadata": {},
   "source": [
    "La ecuación del calor modela el esparcimiento en el tiempo y en el espacio de un \"paquete\" del calor (perturbación local de temperatura en una región) o de concentración de una sustancia física o química. \n",
    "\n",
    "Llamemos $u(t, \\mathbf{x})$ la perturbación de la temperatura o la concentración de la sustancia en la posición $\\mathbf{x}$ al tiempo $t$. La ecuación de calor es\n",
    "\n",
    "$$\\frac{\\partial u(t, \\mathbf{x})}{\\partial t} = D \\, \\nabla^2 u(t, \\mathbf{x}).$$\n",
    "\n",
    "[Recordemos que $\\nabla^2 := \\frac{\\partial^2}{\\partial x^2} + \\frac{\\partial^2}{\\partial y^2} + \\frac{\\partial^2}{\\partial z^2}$ en tres dimensiones.]\n",
    "\n",
    "Esta ecuación nos dice cómo varía la concentración en el tiempo, dadas las condiciones locales en el espacio. Se deriva en términos de una ley de conservación:\n",
    "\n",
    "$$\\frac{\\partial u}{\\partial t} + \\nabla \\cdot \\mathbf{J} = 0,$$\n",
    "\n",
    "donde el flujo de calor o de concentración $\\mathbf{J}$ es proporcional a la gradiente local:\n",
    "\n",
    "$$\\mathbf{J} = -D \\, \\nabla u.$$\n",
    "\n",
    "La ecuación del calor es una **ecuación de evolución** que describe cómo evoluciona el sistema en el tiempo. Por lo tanto, su tratamiento se sigue de forma más directa de lo que hemos visto para EDOs."
   ]
  },
  {
   "cell_type": "markdown",
   "metadata": {},
   "source": [
    "## Una dimensión\n",
    "\n",
    "Empecemos con el caso más sencillo, con sólo una dimensión espacial. En este caso, la ecuación del calor se reduce a\n",
    "\n",
    "$$\\frac{\\partial u(t, x)}{\\partial t} = D \\frac{\\partial^2 u(t, x)}{\\partial x^2}.$$\n",
    "\n",
    "Para resolverla, necesitaremos una condición inicial $u(t=0, x) = f(x)$ (una función del espacio), así como condiciones en la frontera $u(t, x)$ para los valores de $x$ en la frontera del dominio espacial, y para todo $t$."
   ]
  },
  {
   "cell_type": "markdown",
   "metadata": {},
   "source": [
    "# Métodos numéricos para la ecuación del calor"
   ]
  },
  {
   "cell_type": "markdown",
   "metadata": {},
   "source": [
    "Dado que, como siempre, no podemos resolver problemas de naturaleza continua en la computadora, debemos *aproximar* la solución $u(t, x)$ de alguna forma. La manera más sencilla es, de nuevo, utilizar una **discretización*."
   ]
  },
  {
   "cell_type": "markdown",
   "metadata": {},
   "source": [
    "**[1]** (i) Pensando en tu experiencia con las ecuaciones diferenciales ordinarias, ¿cómo se puede discretizar $u(t, x)$, utilizando un tamaño de paso $h$ en el tiempo y $k$ en el espacio. Piensa que los valores posibles de $x$ son en el intervalo $[0, L]$.\n",
    "\n",
    "Denotemos con $t_n$ el tiempo al paso número $n$, y con $u^n_i$ la aproximación de la solución en el nodo número $i$ en el espacio al tiempo $n$.\n",
    "\n",
    "(ii) ¿Cómo se puede discretizar la ecuación del calor unidimensional? \n",
    "\n",
    "(iii) Reescribe la discretización para dar $u^{n+1}_i$ en términos de distintos $u^n_j$s al tiempo anterior."
   ]
  },
  {
   "cell_type": "markdown",
   "metadata": {},
   "source": [
    "**[2]** Considera la ecuación del calor en una dimensión sobre el intervalo de $x=-L$ a $x=L$, con condición inicial $u(t=0, x) = \\delta(x)$, donde $\\delta$ es la delta de Dirac, y condiciones de frontera absorbentes (de Dirichlet), es decir, $u(t, x=-L) = u(t, x=L) = 0$ para $t > 0$.\n",
    "\n",
    "(i) ¿Qué esperas intuitivamente que pase durante la evolución? ¿Qué pasará para tiempos largos?\n",
    "\n",
    "(ii) Escribe la solución analítica exacta para $u(x, t)$ en el caso cuando $L \\to \\infty$ (es decir, cuando \"no hay fronteras\" y la difusión ocurre en toda la recta real).\n",
    "\n",
    "(iii) Implementa el sistema, tomando cuidado en lo que ocurre en las fronteras. Para hacerlo, utiliza un vector para representar el estado actual del sistema, y otro vector para el estado al tiempo siguiente.\n",
    "\n",
    "(iv) Dibuja la evolución en el tiempo, por ejemplo usando `Interact`. ¿Ocurre lo que esperabas? Dibuja en la misma gráfica la solución analítica exacta para $L \\to \\infty$. ¿Qué observas?\n",
    "\n",
    "(v) También dibuja la evolución como un \"heat map\" (mapa de calor), es decir, dibuja la matriz dos-dimensional $u^n_i$ con colores que representan los valores de cada elemento de la matriz.\n",
    "\n",
    "(v) ¿Qué ocurre si tomas otra condición inicial, por ejemplo una suma de dos deltas? Compáralo con el caso anterior en la misma gráfica."
   ]
  },
  {
   "cell_type": "markdown",
   "metadata": {},
   "source": [
    "**[3]** (i) Los parámetros $h$ y $k$ de la discretización en el tiempo y en el espacio, respectivamente, ocurren en una cierta combinación en la ecuación discretizada que obtuviste. ¿Cuál es?  \n",
    "\n",
    "(ii) Resulta que el método numérico es estable para ciertos valores de este parámetro, e inestable para otros. Encuentra numéricamente el valor crítico de este parámetro, debajo del cual el método es estable y arriba del cual es inestable."
   ]
  },
  {
   "cell_type": "markdown",
   "metadata": {},
   "source": [
    "**[4]** Considera la ecuación de difusión unidimensional, pero ahora con condiciones de frontera **reflejantes** (de Neumann).\n",
    "\n",
    "(i) Escribe la ecuación correspondiente a las condiciones de frontera en $x=\\pm L$.\n",
    "\n",
    "(ii) ¿Cómo se puede discretizar en términos de la misma discretización que antes?\n",
    "\n",
    "(iii) ¿Qué esperas intuitivamente que ocurre con este tipo de ecuaciones de frontera?\n",
    "\n",
    "(iv) Impleméntalo y grafica la evolución temporal."
   ]
  },
  {
   "cell_type": "markdown",
   "metadata": {},
   "source": [
    "**[5]** Pensando *únicamente* en la parte de la evolución temporal:\n",
    "\n",
    "(i) ¿A qué método numérico para EDOs corresponde lo que ya implementaste?\n",
    "\n",
    "(ii) Discretiza *sólo* la derivada espacial de la ecuación y deja sin discretizarse la derivada temporal. El resultado se llama una **semi-discretización** de la ecuación. ¿Qué forma tienen las ecuaciones resultantes?\n",
    "\n",
    "(iii) Así, especifica cuáles otros métodos numéricos podrías aplicar.\n",
    "\n",
    "(iv) Impleméntalos y compáralos con la solución analítica"
   ]
  }
 ],
 "metadata": {
  "kernelspec": {
   "display_name": "Julia 0.5.1",
   "language": "julia",
   "name": "julia-0.5"
  },
  "language_info": {
   "file_extension": ".jl",
   "mimetype": "application/julia",
   "name": "julia",
   "version": "0.5.1"
  }
 },
 "nbformat": 4,
 "nbformat_minor": 1
}
